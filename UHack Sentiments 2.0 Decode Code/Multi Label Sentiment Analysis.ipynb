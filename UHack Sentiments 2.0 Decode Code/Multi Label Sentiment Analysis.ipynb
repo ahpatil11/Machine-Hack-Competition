{
 "cells": [
  {
   "cell_type": "code",
   "execution_count": 90,
   "metadata": {
    "id": "d-czx90mFqIp"
   },
   "outputs": [],
   "source": [
    "import pandas as pd\n",
    "import numpy as np\n",
    "import matplotlib.pyplot as plt\n",
    "import seaborn as sns"
   ]
  },
  {
   "cell_type": "code",
   "execution_count": 91,
   "metadata": {
    "colab": {
     "base_uri": "https://localhost:8080/",
     "height": 687
    },
    "id": "02wOb4mfFtQE",
    "outputId": "4e5678a8-2e2c-471d-bbc6-1b1b8c0b29b9"
   },
   "outputs": [
    {
     "data": {
      "text/html": [
       "<div>\n",
       "<style scoped>\n",
       "    .dataframe tbody tr th:only-of-type {\n",
       "        vertical-align: middle;\n",
       "    }\n",
       "\n",
       "    .dataframe tbody tr th {\n",
       "        vertical-align: top;\n",
       "    }\n",
       "\n",
       "    .dataframe thead th {\n",
       "        text-align: right;\n",
       "    }\n",
       "</style>\n",
       "<table border=\"1\" class=\"dataframe\">\n",
       "  <thead>\n",
       "    <tr style=\"text-align: right;\">\n",
       "      <th></th>\n",
       "      <th>Id</th>\n",
       "      <th>Review</th>\n",
       "      <th>Components</th>\n",
       "      <th>Delivery and Customer Support</th>\n",
       "      <th>Design and Aesthetics</th>\n",
       "      <th>Dimensions</th>\n",
       "      <th>Features</th>\n",
       "      <th>Functionality</th>\n",
       "      <th>Installation</th>\n",
       "      <th>Material</th>\n",
       "      <th>Price</th>\n",
       "      <th>Quality</th>\n",
       "      <th>Usability</th>\n",
       "      <th>Polarity</th>\n",
       "    </tr>\n",
       "  </thead>\n",
       "  <tbody>\n",
       "    <tr>\n",
       "      <th>0</th>\n",
       "      <td>0</td>\n",
       "      <td>For some reason everybody complains and I'm co...</td>\n",
       "      <td>0</td>\n",
       "      <td>0</td>\n",
       "      <td>0</td>\n",
       "      <td>0</td>\n",
       "      <td>0</td>\n",
       "      <td>0</td>\n",
       "      <td>0</td>\n",
       "      <td>0</td>\n",
       "      <td>0</td>\n",
       "      <td>0</td>\n",
       "      <td>1</td>\n",
       "      <td>0</td>\n",
       "    </tr>\n",
       "    <tr>\n",
       "      <th>1</th>\n",
       "      <td>1</td>\n",
       "      <td>I like everything about it, great choice of sp...</td>\n",
       "      <td>0</td>\n",
       "      <td>0</td>\n",
       "      <td>0</td>\n",
       "      <td>0</td>\n",
       "      <td>1</td>\n",
       "      <td>1</td>\n",
       "      <td>0</td>\n",
       "      <td>0</td>\n",
       "      <td>0</td>\n",
       "      <td>0</td>\n",
       "      <td>0</td>\n",
       "      <td>1</td>\n",
       "    </tr>\n",
       "    <tr>\n",
       "      <th>2</th>\n",
       "      <td>2</td>\n",
       "      <td>Excellent ceiling fan brace. Easy to install a...</td>\n",
       "      <td>0</td>\n",
       "      <td>0</td>\n",
       "      <td>0</td>\n",
       "      <td>0</td>\n",
       "      <td>0</td>\n",
       "      <td>0</td>\n",
       "      <td>1</td>\n",
       "      <td>0</td>\n",
       "      <td>0</td>\n",
       "      <td>1</td>\n",
       "      <td>0</td>\n",
       "      <td>1</td>\n",
       "    </tr>\n",
       "    <tr>\n",
       "      <th>3</th>\n",
       "      <td>3</td>\n",
       "      <td>Work great easy to use . No issues at all with...</td>\n",
       "      <td>0</td>\n",
       "      <td>0</td>\n",
       "      <td>0</td>\n",
       "      <td>0</td>\n",
       "      <td>0</td>\n",
       "      <td>1</td>\n",
       "      <td>0</td>\n",
       "      <td>0</td>\n",
       "      <td>0</td>\n",
       "      <td>0</td>\n",
       "      <td>1</td>\n",
       "      <td>1</td>\n",
       "    </tr>\n",
       "    <tr>\n",
       "      <th>4</th>\n",
       "      <td>4</td>\n",
       "      <td>I would recommend this product because it is p...</td>\n",
       "      <td>0</td>\n",
       "      <td>0</td>\n",
       "      <td>0</td>\n",
       "      <td>0</td>\n",
       "      <td>0</td>\n",
       "      <td>0</td>\n",
       "      <td>0</td>\n",
       "      <td>0</td>\n",
       "      <td>0</td>\n",
       "      <td>1</td>\n",
       "      <td>0</td>\n",
       "      <td>1</td>\n",
       "    </tr>\n",
       "  </tbody>\n",
       "</table>\n",
       "</div>"
      ],
      "text/plain": [
       "   Id                                             Review  Components  \\\n",
       "0   0  For some reason everybody complains and I'm co...           0   \n",
       "1   1  I like everything about it, great choice of sp...           0   \n",
       "2   2  Excellent ceiling fan brace. Easy to install a...           0   \n",
       "3   3  Work great easy to use . No issues at all with...           0   \n",
       "4   4  I would recommend this product because it is p...           0   \n",
       "\n",
       "   Delivery and Customer Support  Design and Aesthetics  Dimensions  Features  \\\n",
       "0                              0                      0           0         0   \n",
       "1                              0                      0           0         1   \n",
       "2                              0                      0           0         0   \n",
       "3                              0                      0           0         0   \n",
       "4                              0                      0           0         0   \n",
       "\n",
       "   Functionality  Installation  Material  Price  Quality  Usability  Polarity  \n",
       "0              0             0         0      0        0          1         0  \n",
       "1              1             0         0      0        0          0         1  \n",
       "2              0             1         0      0        1          0         1  \n",
       "3              1             0         0      0        0          1         1  \n",
       "4              0             0         0      0        1          0         1  "
      ]
     },
     "execution_count": 91,
     "metadata": {},
     "output_type": "execute_result"
    }
   ],
   "source": [
    "train = pd.read_csv(\"train.csv\")\n",
    "train.head(5)"
   ]
  },
  {
   "cell_type": "code",
   "execution_count": 92,
   "metadata": {},
   "outputs": [
    {
     "data": {
      "text/plain": [
       "(6136, 14)"
      ]
     },
     "execution_count": 92,
     "metadata": {},
     "output_type": "execute_result"
    }
   ],
   "source": [
    "train.shape"
   ]
  },
  {
   "cell_type": "code",
   "execution_count": 93,
   "metadata": {
    "colab": {
     "base_uri": "https://localhost:8080/"
    },
    "id": "vLxWL85Q1qiR",
    "outputId": "06e17d66-e547-4c0c-e571-50aca2208de6"
   },
   "outputs": [
    {
     "data": {
      "text/plain": [
       "Index(['Id', 'Review', 'Components', 'Delivery and Customer Support',\n",
       "       'Design and Aesthetics', 'Dimensions', 'Features', 'Functionality',\n",
       "       'Installation', 'Material', 'Price', 'Quality', 'Usability',\n",
       "       'Polarity'],\n",
       "      dtype='object')"
      ]
     },
     "execution_count": 93,
     "metadata": {},
     "output_type": "execute_result"
    }
   ],
   "source": [
    "train.columns"
   ]
  },
  {
   "cell_type": "code",
   "execution_count": 94,
   "metadata": {
    "colab": {
     "base_uri": "https://localhost:8080/",
     "height": 548
    },
    "id": "sFY5w60zRyjf",
    "outputId": "7fb81953-8285-48bc-978b-d6105bb21b04"
   },
   "outputs": [
    {
     "data": {
      "text/html": [
       "<div>\n",
       "<style scoped>\n",
       "    .dataframe tbody tr th:only-of-type {\n",
       "        vertical-align: middle;\n",
       "    }\n",
       "\n",
       "    .dataframe tbody tr th {\n",
       "        vertical-align: top;\n",
       "    }\n",
       "\n",
       "    .dataframe thead th {\n",
       "        text-align: right;\n",
       "    }\n",
       "</style>\n",
       "<table border=\"1\" class=\"dataframe\">\n",
       "  <thead>\n",
       "    <tr style=\"text-align: right;\">\n",
       "      <th></th>\n",
       "      <th>Id</th>\n",
       "      <th>Review</th>\n",
       "      <th>Components</th>\n",
       "      <th>Delivery and Customer Support</th>\n",
       "      <th>Design and Aesthetics</th>\n",
       "      <th>Dimensions</th>\n",
       "      <th>Features</th>\n",
       "      <th>Functionality</th>\n",
       "      <th>Installation</th>\n",
       "      <th>Material</th>\n",
       "      <th>Price</th>\n",
       "      <th>Quality</th>\n",
       "      <th>Usability</th>\n",
       "      <th>Polarity</th>\n",
       "    </tr>\n",
       "  </thead>\n",
       "  <tbody>\n",
       "    <tr>\n",
       "      <th>0</th>\n",
       "      <td>0</td>\n",
       "      <td>Made of very thin cheap metal broke on very fi...</td>\n",
       "      <td>NaN</td>\n",
       "      <td>NaN</td>\n",
       "      <td>NaN</td>\n",
       "      <td>NaN</td>\n",
       "      <td>NaN</td>\n",
       "      <td>NaN</td>\n",
       "      <td>NaN</td>\n",
       "      <td>NaN</td>\n",
       "      <td>NaN</td>\n",
       "      <td>NaN</td>\n",
       "      <td>NaN</td>\n",
       "      <td>NaN</td>\n",
       "    </tr>\n",
       "    <tr>\n",
       "      <th>1</th>\n",
       "      <td>1</td>\n",
       "      <td>As good as the brand names, no jams or misfire...</td>\n",
       "      <td>NaN</td>\n",
       "      <td>NaN</td>\n",
       "      <td>NaN</td>\n",
       "      <td>NaN</td>\n",
       "      <td>NaN</td>\n",
       "      <td>NaN</td>\n",
       "      <td>NaN</td>\n",
       "      <td>NaN</td>\n",
       "      <td>NaN</td>\n",
       "      <td>NaN</td>\n",
       "      <td>NaN</td>\n",
       "      <td>NaN</td>\n",
       "    </tr>\n",
       "    <tr>\n",
       "      <th>2</th>\n",
       "      <td>2</td>\n",
       "      <td>unit was easy to use, with understandable in s...</td>\n",
       "      <td>NaN</td>\n",
       "      <td>NaN</td>\n",
       "      <td>NaN</td>\n",
       "      <td>NaN</td>\n",
       "      <td>NaN</td>\n",
       "      <td>NaN</td>\n",
       "      <td>NaN</td>\n",
       "      <td>NaN</td>\n",
       "      <td>NaN</td>\n",
       "      <td>NaN</td>\n",
       "      <td>NaN</td>\n",
       "      <td>NaN</td>\n",
       "    </tr>\n",
       "    <tr>\n",
       "      <th>3</th>\n",
       "      <td>3</td>\n",
       "      <td>I am the new family plumber. Works well. No pr...</td>\n",
       "      <td>NaN</td>\n",
       "      <td>NaN</td>\n",
       "      <td>NaN</td>\n",
       "      <td>NaN</td>\n",
       "      <td>NaN</td>\n",
       "      <td>NaN</td>\n",
       "      <td>NaN</td>\n",
       "      <td>NaN</td>\n",
       "      <td>NaN</td>\n",
       "      <td>NaN</td>\n",
       "      <td>NaN</td>\n",
       "      <td>NaN</td>\n",
       "    </tr>\n",
       "    <tr>\n",
       "      <th>4</th>\n",
       "      <td>4</td>\n",
       "      <td>Seems to be holding up well.</td>\n",
       "      <td>NaN</td>\n",
       "      <td>NaN</td>\n",
       "      <td>NaN</td>\n",
       "      <td>NaN</td>\n",
       "      <td>NaN</td>\n",
       "      <td>NaN</td>\n",
       "      <td>NaN</td>\n",
       "      <td>NaN</td>\n",
       "      <td>NaN</td>\n",
       "      <td>NaN</td>\n",
       "      <td>NaN</td>\n",
       "      <td>NaN</td>\n",
       "    </tr>\n",
       "  </tbody>\n",
       "</table>\n",
       "</div>"
      ],
      "text/plain": [
       "   Id                                             Review  Components  \\\n",
       "0   0  Made of very thin cheap metal broke on very fi...         NaN   \n",
       "1   1  As good as the brand names, no jams or misfire...         NaN   \n",
       "2   2  unit was easy to use, with understandable in s...         NaN   \n",
       "3   3  I am the new family plumber. Works well. No pr...         NaN   \n",
       "4   4                       Seems to be holding up well.         NaN   \n",
       "\n",
       "   Delivery and Customer Support  Design and Aesthetics  Dimensions  Features  \\\n",
       "0                            NaN                    NaN         NaN       NaN   \n",
       "1                            NaN                    NaN         NaN       NaN   \n",
       "2                            NaN                    NaN         NaN       NaN   \n",
       "3                            NaN                    NaN         NaN       NaN   \n",
       "4                            NaN                    NaN         NaN       NaN   \n",
       "\n",
       "   Functionality  Installation  Material  Price  Quality  Usability  Polarity  \n",
       "0            NaN           NaN       NaN    NaN      NaN        NaN       NaN  \n",
       "1            NaN           NaN       NaN    NaN      NaN        NaN       NaN  \n",
       "2            NaN           NaN       NaN    NaN      NaN        NaN       NaN  \n",
       "3            NaN           NaN       NaN    NaN      NaN        NaN       NaN  \n",
       "4            NaN           NaN       NaN    NaN      NaN        NaN       NaN  "
      ]
     },
     "execution_count": 94,
     "metadata": {},
     "output_type": "execute_result"
    }
   ],
   "source": [
    "test = pd.read_csv('test.csv')\n",
    "test.head(5)"
   ]
  },
  {
   "cell_type": "code",
   "execution_count": 95,
   "metadata": {},
   "outputs": [
    {
     "data": {
      "text/plain": [
       "(2631, 14)"
      ]
     },
     "execution_count": 95,
     "metadata": {},
     "output_type": "execute_result"
    }
   ],
   "source": [
    "test.shape"
   ]
  },
  {
   "cell_type": "code",
   "execution_count": 96,
   "metadata": {
    "id": "Bi98ri-YFy8Q"
   },
   "outputs": [],
   "source": [
    "stopwords= ['i', 'me', 'my', 'myself', 'we', 'our', 'ours', 'ourselves', 'you', \"you're\", \"you've\",\\\n",
    "            \"you'll\", \"you'd\", 'your', 'yours', 'yourself', 'yourselves', 'he', 'him', 'his', 'himself', \\\n",
    "            'she', \"she's\", 'her', 'hers', 'herself', 'it', \"it's\", 'its', 'itself', 'they', 'them', 'their',\\\n",
    "            'theirs', 'themselves', 'what', 'which', 'who', 'whom', 'this', 'that', \"that'll\", 'these', 'those', \\\n",
    "            'am', 'is', 'are', 'was', 'were', 'be', 'been', 'being', 'have', 'has', 'had', 'having', 'do', 'does', \\\n",
    "            'did', 'doing', 'a', 'an', 'the', 'and', 'but', 'if', 'or', 'because', 'as', 'until', 'while', 'of', \\\n",
    "            'at', 'by', 'for', 'with', 'about', 'against', 'between', 'into', 'through', 'during', 'before', 'after',\\\n",
    "            'above', 'below', 'to', 'from', 'up', 'down', 'in', 'out', 'on', 'off', 'over', 'under', 'again', 'further',\\\n",
    "            'then', 'once', 'here', 'there', 'when', 'where', 'why', 'how', 'all', 'any', 'both', 'each', 'few', 'more',\\\n",
    "            'most', 'other', 'some', 'such', 'only', 'own', 'same', 'so', 'than', 'too', 'very', \\\n",
    "            's', 't', 'can', 'will', 'just', 'don', \"don't\", 'should', \"should've\", 'now', 'd', 'll', 'm', 'o', 're', \\\n",
    "            've', 'y', 'ain', 'aren', \"aren't\", 'couldn', \"couldn't\", 'didn', \"didn't\", 'doesn', \"doesn't\", 'hadn',\\\n",
    "            \"hadn't\", 'hasn', \"hasn't\", 'haven', \"haven't\", 'isn', \"isn't\", 'ma', 'mightn', \"mightn't\", 'mustn',\\\n",
    "            \"mustn't\", 'needn', \"needn't\", 'shan', \"shan't\", 'shouldn', \"shouldn't\", 'wasn', \"wasn't\", 'weren', \"weren't\", \\\n",
    "            'won', \"won't\", 'wouldn', \"wouldn't\"]"
   ]
  },
  {
   "cell_type": "code",
   "execution_count": 97,
   "metadata": {
    "id": "eDFf1vS2F14V"
   },
   "outputs": [],
   "source": [
    "import re\n",
    "\n",
    "def preprocess(review):\n",
    "    review = re.sub(r\"won't\", \"will not\", review)\n",
    "    review = re.sub(r\"can\\'t\", \"can not\", review)\n",
    "    review = re.sub(r\"n\\'t\", \" not\", review)\n",
    "    review = re.sub(r\"\\'re\", \" are\", review)\n",
    "    review = re.sub(r\"\\'s\", \" is\", review)\n",
    "    review = re.sub(r\"\\'d\", \" would\", review)\n",
    "    review = re.sub(r\"\\'ll\", \" will\", review)\n",
    "    review = re.sub(r\"\\'t\", \" not\", review)\n",
    "    review = re.sub(r\"\\'ve\", \" have\", review)\n",
    "    review = re.sub(r\"\\'m\", \" am\", review)\n",
    "    return review"
   ]
  },
  {
   "cell_type": "code",
   "execution_count": 98,
   "metadata": {
    "id": "2PkInuIUF4ez"
   },
   "outputs": [],
   "source": [
    "from tqdm import tqdm\n",
    "def preprocess_text(text_data):\n",
    "    preprocessed_text = []\n",
    "    for sentence in tqdm(text_data):\n",
    "        sent = preprocess(sentence)\n",
    "        sent = sent.replace('\\\\r', ' ')\n",
    "        sent = sent.replace('\\\\n', ' ')\n",
    "        sent = sent.replace('\\\\\"', ' ')\n",
    "        sent = re.sub('[^A-Za-z0-9]+', ' ', sent)\n",
    "        sent = ' '.join(e for e in sent.split() if e.lower() not in stopwords)\n",
    "        preprocessed_text.append(sent.lower().strip())\n",
    "    return preprocessed_text"
   ]
  },
  {
   "cell_type": "code",
   "execution_count": 99,
   "metadata": {
    "colab": {
     "base_uri": "https://localhost:8080/"
    },
    "id": "iuwjezte2AoI",
    "outputId": "56a14375-10d9-4c45-864b-b8cf9f4c37bc"
   },
   "outputs": [
    {
     "name": "stderr",
     "output_type": "stream",
     "text": [
      "100%|███████████████████████████████████████████████████████████████████████████| 6136/6136 [00:00<00:00, 12750.86it/s]\n"
     ]
    }
   ],
   "source": [
    "pre_processed_review = preprocess_text(train['Review'])"
   ]
  },
  {
   "cell_type": "code",
   "execution_count": 100,
   "metadata": {},
   "outputs": [],
   "source": [
    "train['processed_review'] = pre_processed_review"
   ]
  },
  {
   "cell_type": "code",
   "execution_count": 101,
   "metadata": {
    "colab": {
     "base_uri": "https://localhost:8080/",
     "height": 687
    },
    "id": "Mk1DZORl2Ujk",
    "outputId": "17df098b-61c3-4eea-a8c7-8b236be46648"
   },
   "outputs": [
    {
     "data": {
      "text/html": [
       "<div>\n",
       "<style scoped>\n",
       "    .dataframe tbody tr th:only-of-type {\n",
       "        vertical-align: middle;\n",
       "    }\n",
       "\n",
       "    .dataframe tbody tr th {\n",
       "        vertical-align: top;\n",
       "    }\n",
       "\n",
       "    .dataframe thead th {\n",
       "        text-align: right;\n",
       "    }\n",
       "</style>\n",
       "<table border=\"1\" class=\"dataframe\">\n",
       "  <thead>\n",
       "    <tr style=\"text-align: right;\">\n",
       "      <th></th>\n",
       "      <th>Id</th>\n",
       "      <th>Review</th>\n",
       "      <th>Components</th>\n",
       "      <th>Delivery and Customer Support</th>\n",
       "      <th>Design and Aesthetics</th>\n",
       "      <th>Dimensions</th>\n",
       "      <th>Features</th>\n",
       "      <th>Functionality</th>\n",
       "      <th>Installation</th>\n",
       "      <th>Material</th>\n",
       "      <th>Price</th>\n",
       "      <th>Quality</th>\n",
       "      <th>Usability</th>\n",
       "      <th>Polarity</th>\n",
       "      <th>processed_review</th>\n",
       "    </tr>\n",
       "  </thead>\n",
       "  <tbody>\n",
       "    <tr>\n",
       "      <th>0</th>\n",
       "      <td>0</td>\n",
       "      <td>For some reason everybody complains and I'm co...</td>\n",
       "      <td>0</td>\n",
       "      <td>0</td>\n",
       "      <td>0</td>\n",
       "      <td>0</td>\n",
       "      <td>0</td>\n",
       "      <td>0</td>\n",
       "      <td>0</td>\n",
       "      <td>0</td>\n",
       "      <td>0</td>\n",
       "      <td>0</td>\n",
       "      <td>1</td>\n",
       "      <td>0</td>\n",
       "      <td>reason everybody complains complaining toilet ...</td>\n",
       "    </tr>\n",
       "    <tr>\n",
       "      <th>1</th>\n",
       "      <td>1</td>\n",
       "      <td>I like everything about it, great choice of sp...</td>\n",
       "      <td>0</td>\n",
       "      <td>0</td>\n",
       "      <td>0</td>\n",
       "      <td>0</td>\n",
       "      <td>1</td>\n",
       "      <td>1</td>\n",
       "      <td>0</td>\n",
       "      <td>0</td>\n",
       "      <td>0</td>\n",
       "      <td>0</td>\n",
       "      <td>0</td>\n",
       "      <td>1</td>\n",
       "      <td>like everything great choice spray patterns pu...</td>\n",
       "    </tr>\n",
       "    <tr>\n",
       "      <th>2</th>\n",
       "      <td>2</td>\n",
       "      <td>Excellent ceiling fan brace. Easy to install a...</td>\n",
       "      <td>0</td>\n",
       "      <td>0</td>\n",
       "      <td>0</td>\n",
       "      <td>0</td>\n",
       "      <td>0</td>\n",
       "      <td>0</td>\n",
       "      <td>1</td>\n",
       "      <td>0</td>\n",
       "      <td>0</td>\n",
       "      <td>1</td>\n",
       "      <td>0</td>\n",
       "      <td>1</td>\n",
       "      <td>excellent ceiling fan brace easy install well ...</td>\n",
       "    </tr>\n",
       "    <tr>\n",
       "      <th>3</th>\n",
       "      <td>3</td>\n",
       "      <td>Work great easy to use . No issues at all with...</td>\n",
       "      <td>0</td>\n",
       "      <td>0</td>\n",
       "      <td>0</td>\n",
       "      <td>0</td>\n",
       "      <td>0</td>\n",
       "      <td>1</td>\n",
       "      <td>0</td>\n",
       "      <td>0</td>\n",
       "      <td>0</td>\n",
       "      <td>0</td>\n",
       "      <td>1</td>\n",
       "      <td>1</td>\n",
       "      <td>work great easy use no issues hanging fan</td>\n",
       "    </tr>\n",
       "    <tr>\n",
       "      <th>4</th>\n",
       "      <td>4</td>\n",
       "      <td>I would recommend this product because it is p...</td>\n",
       "      <td>0</td>\n",
       "      <td>0</td>\n",
       "      <td>0</td>\n",
       "      <td>0</td>\n",
       "      <td>0</td>\n",
       "      <td>0</td>\n",
       "      <td>0</td>\n",
       "      <td>0</td>\n",
       "      <td>0</td>\n",
       "      <td>1</td>\n",
       "      <td>0</td>\n",
       "      <td>1</td>\n",
       "      <td>would recommend product perfect watering hangi...</td>\n",
       "    </tr>\n",
       "  </tbody>\n",
       "</table>\n",
       "</div>"
      ],
      "text/plain": [
       "   Id                                             Review  Components  \\\n",
       "0   0  For some reason everybody complains and I'm co...           0   \n",
       "1   1  I like everything about it, great choice of sp...           0   \n",
       "2   2  Excellent ceiling fan brace. Easy to install a...           0   \n",
       "3   3  Work great easy to use . No issues at all with...           0   \n",
       "4   4  I would recommend this product because it is p...           0   \n",
       "\n",
       "   Delivery and Customer Support  Design and Aesthetics  Dimensions  Features  \\\n",
       "0                              0                      0           0         0   \n",
       "1                              0                      0           0         1   \n",
       "2                              0                      0           0         0   \n",
       "3                              0                      0           0         0   \n",
       "4                              0                      0           0         0   \n",
       "\n",
       "   Functionality  Installation  Material  Price  Quality  Usability  Polarity  \\\n",
       "0              0             0         0      0        0          1         0   \n",
       "1              1             0         0      0        0          0         1   \n",
       "2              0             1         0      0        1          0         1   \n",
       "3              1             0         0      0        0          1         1   \n",
       "4              0             0         0      0        1          0         1   \n",
       "\n",
       "                                    processed_review  \n",
       "0  reason everybody complains complaining toilet ...  \n",
       "1  like everything great choice spray patterns pu...  \n",
       "2  excellent ceiling fan brace easy install well ...  \n",
       "3          work great easy use no issues hanging fan  \n",
       "4  would recommend product perfect watering hangi...  "
      ]
     },
     "execution_count": 101,
     "metadata": {},
     "output_type": "execute_result"
    }
   ],
   "source": [
    "train.head(5)"
   ]
  },
  {
   "cell_type": "code",
   "execution_count": 102,
   "metadata": {},
   "outputs": [],
   "source": [
    "x = train['processed_review']"
   ]
  },
  {
   "cell_type": "code",
   "execution_count": 103,
   "metadata": {},
   "outputs": [
    {
     "data": {
      "text/plain": [
       "0    reason everybody complains complaining toilet ...\n",
       "1    like everything great choice spray patterns pu...\n",
       "2    excellent ceiling fan brace easy install well ...\n",
       "3            work great easy use no issues hanging fan\n",
       "4    would recommend product perfect watering hangi...\n",
       "Name: processed_review, dtype: object"
      ]
     },
     "execution_count": 103,
     "metadata": {},
     "output_type": "execute_result"
    }
   ],
   "source": [
    "x.head(5)"
   ]
  },
  {
   "cell_type": "code",
   "execution_count": 104,
   "metadata": {},
   "outputs": [
    {
     "data": {
      "text/plain": [
       "(6136,)"
      ]
     },
     "execution_count": 104,
     "metadata": {},
     "output_type": "execute_result"
    }
   ],
   "source": [
    "x.shape"
   ]
  },
  {
   "cell_type": "code",
   "execution_count": 105,
   "metadata": {
    "colab": {
     "base_uri": "https://localhost:8080/"
    },
    "id": "bQ6TTdrj2X3r",
    "outputId": "85351faf-2d39-40b7-d8fa-b9f78f9c589b"
   },
   "outputs": [],
   "source": [
    "y = np.array(train[[ 'Components', 'Delivery and Customer Support', 'Design and Aesthetics', 'Dimensions', 'Features', \n",
    "                    'Functionality', 'Installation', 'Material', 'Price', 'Quality', 'Usability','Polarity']])"
   ]
  },
  {
   "cell_type": "code",
   "execution_count": 106,
   "metadata": {
    "colab": {
     "base_uri": "https://localhost:8080/"
    },
    "id": "SDsGLfEf5OtU",
    "outputId": "3ce6b278-2d6f-4f5c-be04-bfd0856dff99"
   },
   "outputs": [
    {
     "data": {
      "text/plain": [
       "(6136, 300)"
      ]
     },
     "execution_count": 106,
     "metadata": {},
     "output_type": "execute_result"
    }
   ],
   "source": [
    "from sklearn.feature_extraction.text import TfidfVectorizer\n",
    "vectorizer = TfidfVectorizer(min_df = 10, ngram_range = (1,4), max_features = 300)\n",
    "vectorizer.fit(x) \n",
    "x = vectorizer.transform(x)\n",
    "x.shape"
   ]
  },
  {
   "cell_type": "code",
   "execution_count": 107,
   "metadata": {
    "colab": {
     "base_uri": "https://localhost:8080/"
    },
    "id": "sipVuZ9s8flg",
    "outputId": "a6dbc781-986a-450d-9422-2957d517db48"
   },
   "outputs": [
    {
     "data": {
      "text/plain": [
       "numpy.matrix"
      ]
     },
     "execution_count": 107,
     "metadata": {},
     "output_type": "execute_result"
    }
   ],
   "source": [
    "x = x.todense()\n",
    "type(x)"
   ]
  },
  {
   "cell_type": "code",
   "execution_count": 108,
   "metadata": {
    "id": "G4uPI4GJ5a8e"
   },
   "outputs": [],
   "source": [
    "from tensorflow.keras.models import Sequential\n",
    "from tensorflow.keras.layers import Dense, Activation, Dropout\n",
    "from tensorflow.keras.initializers import RandomNormal\n",
    "\n",
    "def get_model(n_inputs, n_outputs):\n",
    "    batch_size = 256  \n",
    "    hidden_units = 128\n",
    "    dropout = 0.45\n",
    "\n",
    "    model = Sequential()\n",
    "    model.add(Dense(hidden_units, input_dim = n_inputs, activation='relu', kernel_initializer='he_uniform'))\n",
    "    model.add(Dropout(dropout))\n",
    "    model.add(Dense(64, activation = 'relu', kernel_initializer = 'he_uniform'))\n",
    "    model.add(Dropout(dropout))\n",
    "    model.add(Dense(n_outputs))\n",
    "    model.add(Activation('sigmoid'))\n",
    "    model.compile(loss = 'binary_crossentropy', optimizer = 'adam')\n",
    "    return model"
   ]
  },
  {
   "cell_type": "code",
   "execution_count": 109,
   "metadata": {
    "id": "BNfzREsrAzdg"
   },
   "outputs": [],
   "source": [
    "import tensorflow as tf\n",
    "from sklearn.metrics import log_loss\n",
    "from sklearn.model_selection import RepeatedKFold\n",
    "def evaluate_model(x, y):\n",
    "    results_test = []\n",
    "    results_train = []\n",
    "    callback = tf.keras.callbacks.EarlyStopping(monitor = 'loss', patience = 3, min_delta = 0.01)\n",
    "    n_inputs, n_outputs = x.shape[1], y.shape[1]\n",
    "    cv = RepeatedKFold(n_splits = 5, n_repeats = 3, random_state = 1)\n",
    "    for train_ix,test_ix in cv.split(x):\n",
    "        x_train, x_test = x[train_ix], x[test_ix]\n",
    "        y_train,y_test = y[train_ix],y[test_ix]\n",
    "        model = get_model(n_inputs, n_outputs)\n",
    "        model.fit(x_train, y_train, verbose = 0, epochs = 100, callbacks = callback)\n",
    "        yhat_train = model.predict(x_train)\n",
    "        yhat_test = model.predict(x_test)\n",
    "        train_log_loss = log_loss(y_train, yhat_train)\n",
    "        test_log_loss = log_loss(y_test, yhat_test)\n",
    "        results_train.append(train_log_loss)\n",
    "        results_test.append(test_log_loss)\n",
    "\n",
    "    return results_train, results_test, model\n",
    "   "
   ]
  },
  {
   "cell_type": "code",
   "execution_count": 110,
   "metadata": {
    "colab": {
     "base_uri": "https://localhost:8080/"
    },
    "id": "ucKdz-Pi5XZC",
    "outputId": "d1c900c1-ca2c-4bb6-e632-cd2829434f5f"
   },
   "outputs": [],
   "source": [
    "results_train, results_test, model = evaluate_model(x, y)"
   ]
  },
  {
   "cell_type": "code",
   "execution_count": 111,
   "metadata": {},
   "outputs": [
    {
     "name": "stdout",
     "output_type": "stream",
     "text": [
      "[3.3925694451312904, 3.3372620714672423, 3.3449421559302426, 3.3743903633654058, 3.4001180140294376, 3.3633465746564895, 3.3316654146573628, 3.39975537985023, 3.313369142445194, 3.371704292715652, 3.3569895179051157, 3.374647553321858, 3.357785807301348, 3.361487067514948, 3.3061984035458334]\n"
     ]
    }
   ],
   "source": [
    "print(results_train)"
   ]
  },
  {
   "cell_type": "code",
   "execution_count": 112,
   "metadata": {},
   "outputs": [
    {
     "name": "stdout",
     "output_type": "stream",
     "text": [
      "[3.620698311575461, 3.6612822401785907, 3.6869599356725145, 3.769211064438171, 3.6585886958855967, 3.6579096909940048, 3.707523585920326, 3.5805652834408246, 3.8112049563905526, 3.678724606686136, 3.6530392040113284, 3.636429412416452, 3.689560286646076, 3.6407982291078413, 3.76814611395783]\n"
     ]
    }
   ],
   "source": [
    "print(results_test)"
   ]
  },
  {
   "cell_type": "code",
   "execution_count": 113,
   "metadata": {
    "colab": {
     "base_uri": "https://localhost:8080/"
    },
    "id": "JtRqVAERSxKN",
    "outputId": "4dbdd5a6-e82c-4f9b-b23e-343aa9871bec"
   },
   "outputs": [
    {
     "name": "stderr",
     "output_type": "stream",
     "text": [
      "100%|███████████████████████████████████████████████████████████████████████████| 2631/2631 [00:00<00:00, 12945.61it/s]\n"
     ]
    }
   ],
   "source": [
    "new_test_review = preprocess_text(test['Review'])"
   ]
  },
  {
   "cell_type": "code",
   "execution_count": 114,
   "metadata": {
    "id": "QYatiFsdTDOG"
   },
   "outputs": [],
   "source": [
    "test['preprocessed_test_review'] = new_test_review"
   ]
  },
  {
   "cell_type": "code",
   "execution_count": 116,
   "metadata": {
    "colab": {
     "base_uri": "https://localhost:8080/"
    },
    "id": "KWykVmHXS-HT",
    "outputId": "b6af4f7f-ea9d-47ce-afc1-785c46039466"
   },
   "outputs": [
    {
     "data": {
      "text/plain": [
       "(2631, 300)"
      ]
     },
     "execution_count": 116,
     "metadata": {},
     "output_type": "execute_result"
    }
   ],
   "source": [
    "test_vectorised_data = vectorizer.transform(test['preprocessed_test_review'] )\n",
    "test_vectorised_data.shape"
   ]
  },
  {
   "cell_type": "code",
   "execution_count": 117,
   "metadata": {
    "id": "4sU4ODRUee-q"
   },
   "outputs": [],
   "source": [
    "test_vectorised_data = test_vectorised_data.todense()"
   ]
  },
  {
   "cell_type": "code",
   "execution_count": 118,
   "metadata": {
    "id": "Zk4FiEbqSTlZ"
   },
   "outputs": [],
   "source": [
    "prediction_on_test_data = model.predict(test_vectorised_data)"
   ]
  },
  {
   "cell_type": "code",
   "execution_count": 119,
   "metadata": {
    "colab": {
     "base_uri": "https://localhost:8080/"
    },
    "id": "KmlMbgKuRv6d",
    "outputId": "84735c7c-9aed-4a48-ec45-133a68ebfc0f"
   },
   "outputs": [],
   "source": [
    "solution = pd.DataFrame(prediction_on_test_data, columns = ['Components', 'Delivery and Customer Support', 'Design and Aesthetics', \n",
    "        'Dimensions', 'Features', 'Functionality', 'Installation', 'Material', 'Price', 'Quality', 'Usability', 'Polarity'])"
   ]
  },
  {
   "cell_type": "code",
   "execution_count": 120,
   "metadata": {
    "colab": {
     "base_uri": "https://localhost:8080/",
     "height": 322
    },
    "id": "Rt6b0r3yesir",
    "outputId": "94b209a9-6226-4867-9d39-28a78d3da162"
   },
   "outputs": [
    {
     "data": {
      "text/html": [
       "<div>\n",
       "<style scoped>\n",
       "    .dataframe tbody tr th:only-of-type {\n",
       "        vertical-align: middle;\n",
       "    }\n",
       "\n",
       "    .dataframe tbody tr th {\n",
       "        vertical-align: top;\n",
       "    }\n",
       "\n",
       "    .dataframe thead th {\n",
       "        text-align: right;\n",
       "    }\n",
       "</style>\n",
       "<table border=\"1\" class=\"dataframe\">\n",
       "  <thead>\n",
       "    <tr style=\"text-align: right;\">\n",
       "      <th></th>\n",
       "      <th>Components</th>\n",
       "      <th>Delivery and Customer Support</th>\n",
       "      <th>Design and Aesthetics</th>\n",
       "      <th>Dimensions</th>\n",
       "      <th>Features</th>\n",
       "      <th>Functionality</th>\n",
       "      <th>Installation</th>\n",
       "      <th>Material</th>\n",
       "      <th>Price</th>\n",
       "      <th>Quality</th>\n",
       "      <th>Usability</th>\n",
       "      <th>Polarity</th>\n",
       "    </tr>\n",
       "  </thead>\n",
       "  <tbody>\n",
       "    <tr>\n",
       "      <th>0</th>\n",
       "      <td>0.179083</td>\n",
       "      <td>0.041055</td>\n",
       "      <td>0.030687</td>\n",
       "      <td>0.006394</td>\n",
       "      <td>0.012786</td>\n",
       "      <td>0.252857</td>\n",
       "      <td>0.001298</td>\n",
       "      <td>0.065035</td>\n",
       "      <td>0.007173</td>\n",
       "      <td>0.846694</td>\n",
       "      <td>0.012916</td>\n",
       "      <td>0.075516</td>\n",
       "    </tr>\n",
       "    <tr>\n",
       "      <th>1</th>\n",
       "      <td>0.007368</td>\n",
       "      <td>0.026186</td>\n",
       "      <td>0.011154</td>\n",
       "      <td>0.029686</td>\n",
       "      <td>0.022650</td>\n",
       "      <td>0.907697</td>\n",
       "      <td>0.000470</td>\n",
       "      <td>0.000539</td>\n",
       "      <td>0.067020</td>\n",
       "      <td>0.073815</td>\n",
       "      <td>0.003774</td>\n",
       "      <td>0.968531</td>\n",
       "    </tr>\n",
       "    <tr>\n",
       "      <th>2</th>\n",
       "      <td>0.003231</td>\n",
       "      <td>0.000037</td>\n",
       "      <td>0.001361</td>\n",
       "      <td>0.006700</td>\n",
       "      <td>0.021359</td>\n",
       "      <td>0.069849</td>\n",
       "      <td>0.001860</td>\n",
       "      <td>0.000722</td>\n",
       "      <td>0.006073</td>\n",
       "      <td>0.024420</td>\n",
       "      <td>0.998199</td>\n",
       "      <td>0.998475</td>\n",
       "    </tr>\n",
       "    <tr>\n",
       "      <th>3</th>\n",
       "      <td>0.009891</td>\n",
       "      <td>0.005826</td>\n",
       "      <td>0.005622</td>\n",
       "      <td>0.005754</td>\n",
       "      <td>0.034766</td>\n",
       "      <td>0.980102</td>\n",
       "      <td>0.002099</td>\n",
       "      <td>0.000586</td>\n",
       "      <td>0.011829</td>\n",
       "      <td>0.119085</td>\n",
       "      <td>0.007921</td>\n",
       "      <td>0.983932</td>\n",
       "    </tr>\n",
       "    <tr>\n",
       "      <th>4</th>\n",
       "      <td>0.009580</td>\n",
       "      <td>0.033844</td>\n",
       "      <td>0.079935</td>\n",
       "      <td>0.209344</td>\n",
       "      <td>0.047895</td>\n",
       "      <td>0.379301</td>\n",
       "      <td>0.028090</td>\n",
       "      <td>0.008858</td>\n",
       "      <td>0.052444</td>\n",
       "      <td>0.742777</td>\n",
       "      <td>0.039917</td>\n",
       "      <td>0.988879</td>\n",
       "    </tr>\n",
       "  </tbody>\n",
       "</table>\n",
       "</div>"
      ],
      "text/plain": [
       "   Components  Delivery and Customer Support  Design and Aesthetics  \\\n",
       "0    0.179083                       0.041055               0.030687   \n",
       "1    0.007368                       0.026186               0.011154   \n",
       "2    0.003231                       0.000037               0.001361   \n",
       "3    0.009891                       0.005826               0.005622   \n",
       "4    0.009580                       0.033844               0.079935   \n",
       "\n",
       "   Dimensions  Features  Functionality  Installation  Material     Price  \\\n",
       "0    0.006394  0.012786       0.252857      0.001298  0.065035  0.007173   \n",
       "1    0.029686  0.022650       0.907697      0.000470  0.000539  0.067020   \n",
       "2    0.006700  0.021359       0.069849      0.001860  0.000722  0.006073   \n",
       "3    0.005754  0.034766       0.980102      0.002099  0.000586  0.011829   \n",
       "4    0.209344  0.047895       0.379301      0.028090  0.008858  0.052444   \n",
       "\n",
       "    Quality  Usability  Polarity  \n",
       "0  0.846694   0.012916  0.075516  \n",
       "1  0.073815   0.003774  0.968531  \n",
       "2  0.024420   0.998199  0.998475  \n",
       "3  0.119085   0.007921  0.983932  \n",
       "4  0.742777   0.039917  0.988879  "
      ]
     },
     "execution_count": 120,
     "metadata": {},
     "output_type": "execute_result"
    }
   ],
   "source": [
    "solution.head(5)"
   ]
  },
  {
   "cell_type": "code",
   "execution_count": 121,
   "metadata": {},
   "outputs": [
    {
     "data": {
      "text/plain": [
       "(2631, 12)"
      ]
     },
     "execution_count": 121,
     "metadata": {},
     "output_type": "execute_result"
    }
   ],
   "source": [
    "solution.shape"
   ]
  },
  {
   "cell_type": "code",
   "execution_count": 122,
   "metadata": {
    "id": "gIKPYL82Rx88"
   },
   "outputs": [],
   "source": [
    "solution.to_csv('Solution.csv', index=False)"
   ]
  },
  {
   "cell_type": "code",
   "execution_count": null,
   "metadata": {},
   "outputs": [],
   "source": []
  }
 ],
 "metadata": {
  "colab": {
   "name": "machinehackdeep2.ipynb",
   "provenance": []
  },
  "kernelspec": {
   "display_name": "Python 3",
   "language": "python",
   "name": "python3"
  },
  "language_info": {
   "codemirror_mode": {
    "name": "ipython",
    "version": 3
   },
   "file_extension": ".py",
   "mimetype": "text/x-python",
   "name": "python",
   "nbconvert_exporter": "python",
   "pygments_lexer": "ipython3",
   "version": "3.8.8"
  }
 },
 "nbformat": 4,
 "nbformat_minor": 1
}
