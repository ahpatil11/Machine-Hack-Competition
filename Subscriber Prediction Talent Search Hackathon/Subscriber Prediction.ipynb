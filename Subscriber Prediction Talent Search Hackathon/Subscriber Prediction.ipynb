{
 "cells": [
  {
   "cell_type": "code",
   "execution_count": 65,
   "id": "a36181a9",
   "metadata": {},
   "outputs": [],
   "source": [
    "import numpy as np\n",
    "import pandas as pd\n",
    "import matplotlib.pyplot as plt\n",
    "import seaborn as sns"
   ]
  },
  {
   "cell_type": "code",
   "execution_count": 66,
   "id": "e9289872",
   "metadata": {},
   "outputs": [
    {
     "data": {
      "text/html": [
       "<div>\n",
       "<style scoped>\n",
       "    .dataframe tbody tr th:only-of-type {\n",
       "        vertical-align: middle;\n",
       "    }\n",
       "\n",
       "    .dataframe tbody tr th {\n",
       "        vertical-align: top;\n",
       "    }\n",
       "\n",
       "    .dataframe thead th {\n",
       "        text-align: right;\n",
       "    }\n",
       "</style>\n",
       "<table border=\"1\" class=\"dataframe\">\n",
       "  <thead>\n",
       "    <tr style=\"text-align: right;\">\n",
       "      <th></th>\n",
       "      <th>age</th>\n",
       "      <th>job</th>\n",
       "      <th>marital</th>\n",
       "      <th>education</th>\n",
       "      <th>default</th>\n",
       "      <th>balance</th>\n",
       "      <th>housing</th>\n",
       "      <th>loan</th>\n",
       "      <th>contact</th>\n",
       "      <th>day</th>\n",
       "      <th>month</th>\n",
       "      <th>duration</th>\n",
       "      <th>campaign</th>\n",
       "      <th>pdays</th>\n",
       "      <th>previous</th>\n",
       "      <th>poutcome</th>\n",
       "      <th>y_bool</th>\n",
       "    </tr>\n",
       "  </thead>\n",
       "  <tbody>\n",
       "    <tr>\n",
       "      <th>0</th>\n",
       "      <td>51</td>\n",
       "      <td>admin.</td>\n",
       "      <td>married</td>\n",
       "      <td>tertiary</td>\n",
       "      <td>no</td>\n",
       "      <td>148</td>\n",
       "      <td>no</td>\n",
       "      <td>no</td>\n",
       "      <td>cellular</td>\n",
       "      <td>15</td>\n",
       "      <td>apr</td>\n",
       "      <td>263</td>\n",
       "      <td>2</td>\n",
       "      <td>-1</td>\n",
       "      <td>0</td>\n",
       "      <td>unknown</td>\n",
       "      <td>0</td>\n",
       "    </tr>\n",
       "    <tr>\n",
       "      <th>1</th>\n",
       "      <td>55</td>\n",
       "      <td>blue-collar</td>\n",
       "      <td>married</td>\n",
       "      <td>secondary</td>\n",
       "      <td>no</td>\n",
       "      <td>7160</td>\n",
       "      <td>yes</td>\n",
       "      <td>no</td>\n",
       "      <td>unknown</td>\n",
       "      <td>4</td>\n",
       "      <td>may</td>\n",
       "      <td>315</td>\n",
       "      <td>1</td>\n",
       "      <td>-1</td>\n",
       "      <td>0</td>\n",
       "      <td>unknown</td>\n",
       "      <td>0</td>\n",
       "    </tr>\n",
       "    <tr>\n",
       "      <th>2</th>\n",
       "      <td>65</td>\n",
       "      <td>blue-collar</td>\n",
       "      <td>divorced</td>\n",
       "      <td>tertiary</td>\n",
       "      <td>no</td>\n",
       "      <td>2197</td>\n",
       "      <td>yes</td>\n",
       "      <td>no</td>\n",
       "      <td>cellular</td>\n",
       "      <td>12</td>\n",
       "      <td>may</td>\n",
       "      <td>102</td>\n",
       "      <td>2</td>\n",
       "      <td>-1</td>\n",
       "      <td>0</td>\n",
       "      <td>unknown</td>\n",
       "      <td>0</td>\n",
       "    </tr>\n",
       "    <tr>\n",
       "      <th>3</th>\n",
       "      <td>25</td>\n",
       "      <td>admin.</td>\n",
       "      <td>married</td>\n",
       "      <td>secondary</td>\n",
       "      <td>no</td>\n",
       "      <td>6658</td>\n",
       "      <td>yes</td>\n",
       "      <td>no</td>\n",
       "      <td>cellular</td>\n",
       "      <td>16</td>\n",
       "      <td>feb</td>\n",
       "      <td>197</td>\n",
       "      <td>1</td>\n",
       "      <td>-1</td>\n",
       "      <td>0</td>\n",
       "      <td>unknown</td>\n",
       "      <td>1</td>\n",
       "    </tr>\n",
       "    <tr>\n",
       "      <th>4</th>\n",
       "      <td>36</td>\n",
       "      <td>services</td>\n",
       "      <td>married</td>\n",
       "      <td>secondary</td>\n",
       "      <td>no</td>\n",
       "      <td>1761</td>\n",
       "      <td>yes</td>\n",
       "      <td>no</td>\n",
       "      <td>cellular</td>\n",
       "      <td>19</td>\n",
       "      <td>sep</td>\n",
       "      <td>177</td>\n",
       "      <td>1</td>\n",
       "      <td>-1</td>\n",
       "      <td>0</td>\n",
       "      <td>success</td>\n",
       "      <td>0</td>\n",
       "    </tr>\n",
       "  </tbody>\n",
       "</table>\n",
       "</div>"
      ],
      "text/plain": [
       "   age          job   marital  education default  balance housing loan  \\\n",
       "0   51       admin.   married   tertiary      no      148      no   no   \n",
       "1   55  blue-collar   married  secondary      no     7160     yes   no   \n",
       "2   65  blue-collar  divorced   tertiary      no     2197     yes   no   \n",
       "3   25       admin.   married  secondary      no     6658     yes   no   \n",
       "4   36     services   married  secondary      no     1761     yes   no   \n",
       "\n",
       "    contact  day month  duration  campaign  pdays  previous poutcome  y_bool  \n",
       "0  cellular   15   apr       263         2     -1         0  unknown       0  \n",
       "1   unknown    4   may       315         1     -1         0  unknown       0  \n",
       "2  cellular   12   may       102         2     -1         0  unknown       0  \n",
       "3  cellular   16   feb       197         1     -1         0  unknown       1  \n",
       "4  cellular   19   sep       177         1     -1         0  success       0  "
      ]
     },
     "execution_count": 66,
     "metadata": {},
     "output_type": "execute_result"
    }
   ],
   "source": [
    "train = pd.read_csv('train.csv')\n",
    "train.head()"
   ]
  },
  {
   "cell_type": "code",
   "execution_count": 67,
   "id": "9b952e9c",
   "metadata": {},
   "outputs": [
    {
     "data": {
      "text/plain": [
       "(21000, 17)"
      ]
     },
     "execution_count": 67,
     "metadata": {},
     "output_type": "execute_result"
    }
   ],
   "source": [
    "train.shape"
   ]
  },
  {
   "cell_type": "code",
   "execution_count": 68,
   "id": "568c6f93",
   "metadata": {},
   "outputs": [
    {
     "data": {
      "text/plain": [
       "age          0\n",
       "job          0\n",
       "marital      0\n",
       "education    0\n",
       "default      0\n",
       "balance      0\n",
       "housing      0\n",
       "loan         0\n",
       "contact      0\n",
       "day          0\n",
       "month        0\n",
       "duration     0\n",
       "campaign     0\n",
       "pdays        0\n",
       "previous     0\n",
       "poutcome     0\n",
       "y_bool       0\n",
       "dtype: int64"
      ]
     },
     "execution_count": 68,
     "metadata": {},
     "output_type": "execute_result"
    }
   ],
   "source": [
    "train.isnull().sum()"
   ]
  },
  {
   "cell_type": "code",
   "execution_count": 69,
   "id": "093ee7a4",
   "metadata": {},
   "outputs": [
    {
     "data": {
      "text/plain": [
       "0"
      ]
     },
     "execution_count": 69,
     "metadata": {},
     "output_type": "execute_result"
    }
   ],
   "source": [
    "train.duplicated().sum()"
   ]
  },
  {
   "cell_type": "code",
   "execution_count": 70,
   "id": "9b9ca539",
   "metadata": {},
   "outputs": [
    {
     "data": {
      "text/html": [
       "<div>\n",
       "<style scoped>\n",
       "    .dataframe tbody tr th:only-of-type {\n",
       "        vertical-align: middle;\n",
       "    }\n",
       "\n",
       "    .dataframe tbody tr th {\n",
       "        vertical-align: top;\n",
       "    }\n",
       "\n",
       "    .dataframe thead th {\n",
       "        text-align: right;\n",
       "    }\n",
       "</style>\n",
       "<table border=\"1\" class=\"dataframe\">\n",
       "  <thead>\n",
       "    <tr style=\"text-align: right;\">\n",
       "      <th></th>\n",
       "      <th>age</th>\n",
       "      <th>balance</th>\n",
       "      <th>day</th>\n",
       "      <th>duration</th>\n",
       "      <th>campaign</th>\n",
       "      <th>pdays</th>\n",
       "      <th>previous</th>\n",
       "      <th>y_bool</th>\n",
       "    </tr>\n",
       "  </thead>\n",
       "  <tbody>\n",
       "    <tr>\n",
       "      <th>count</th>\n",
       "      <td>21000.000000</td>\n",
       "      <td>21000.000000</td>\n",
       "      <td>21000.000000</td>\n",
       "      <td>21000.000000</td>\n",
       "      <td>21000.000000</td>\n",
       "      <td>21000.000000</td>\n",
       "      <td>21000.000000</td>\n",
       "      <td>21000.000000</td>\n",
       "    </tr>\n",
       "    <tr>\n",
       "      <th>mean</th>\n",
       "      <td>36.997952</td>\n",
       "      <td>1607.497810</td>\n",
       "      <td>11.056571</td>\n",
       "      <td>264.085048</td>\n",
       "      <td>2.013381</td>\n",
       "      <td>3.231952</td>\n",
       "      <td>0.102524</td>\n",
       "      <td>0.269095</td>\n",
       "    </tr>\n",
       "    <tr>\n",
       "      <th>std</th>\n",
       "      <td>10.484725</td>\n",
       "      <td>2991.187132</td>\n",
       "      <td>7.450415</td>\n",
       "      <td>288.163812</td>\n",
       "      <td>1.575916</td>\n",
       "      <td>23.161489</td>\n",
       "      <td>0.664355</td>\n",
       "      <td>0.443500</td>\n",
       "    </tr>\n",
       "    <tr>\n",
       "      <th>min</th>\n",
       "      <td>19.000000</td>\n",
       "      <td>-2072.000000</td>\n",
       "      <td>1.000000</td>\n",
       "      <td>4.000000</td>\n",
       "      <td>1.000000</td>\n",
       "      <td>-1.000000</td>\n",
       "      <td>0.000000</td>\n",
       "      <td>0.000000</td>\n",
       "    </tr>\n",
       "    <tr>\n",
       "      <th>25%</th>\n",
       "      <td>29.000000</td>\n",
       "      <td>299.000000</td>\n",
       "      <td>5.000000</td>\n",
       "      <td>94.000000</td>\n",
       "      <td>1.000000</td>\n",
       "      <td>-1.000000</td>\n",
       "      <td>0.000000</td>\n",
       "      <td>0.000000</td>\n",
       "    </tr>\n",
       "    <tr>\n",
       "      <th>50%</th>\n",
       "      <td>35.000000</td>\n",
       "      <td>633.000000</td>\n",
       "      <td>10.000000</td>\n",
       "      <td>184.000000</td>\n",
       "      <td>2.000000</td>\n",
       "      <td>-1.000000</td>\n",
       "      <td>0.000000</td>\n",
       "      <td>0.000000</td>\n",
       "    </tr>\n",
       "    <tr>\n",
       "      <th>75%</th>\n",
       "      <td>45.000000</td>\n",
       "      <td>1875.000000</td>\n",
       "      <td>16.000000</td>\n",
       "      <td>319.000000</td>\n",
       "      <td>2.000000</td>\n",
       "      <td>-1.000000</td>\n",
       "      <td>0.000000</td>\n",
       "      <td>1.000000</td>\n",
       "    </tr>\n",
       "    <tr>\n",
       "      <th>max</th>\n",
       "      <td>87.000000</td>\n",
       "      <td>71188.000000</td>\n",
       "      <td>31.000000</td>\n",
       "      <td>2703.000000</td>\n",
       "      <td>28.000000</td>\n",
       "      <td>437.000000</td>\n",
       "      <td>14.000000</td>\n",
       "      <td>1.000000</td>\n",
       "    </tr>\n",
       "  </tbody>\n",
       "</table>\n",
       "</div>"
      ],
      "text/plain": [
       "                age       balance           day      duration      campaign  \\\n",
       "count  21000.000000  21000.000000  21000.000000  21000.000000  21000.000000   \n",
       "mean      36.997952   1607.497810     11.056571    264.085048      2.013381   \n",
       "std       10.484725   2991.187132      7.450415    288.163812      1.575916   \n",
       "min       19.000000  -2072.000000      1.000000      4.000000      1.000000   \n",
       "25%       29.000000    299.000000      5.000000     94.000000      1.000000   \n",
       "50%       35.000000    633.000000     10.000000    184.000000      2.000000   \n",
       "75%       45.000000   1875.000000     16.000000    319.000000      2.000000   \n",
       "max       87.000000  71188.000000     31.000000   2703.000000     28.000000   \n",
       "\n",
       "              pdays      previous        y_bool  \n",
       "count  21000.000000  21000.000000  21000.000000  \n",
       "mean       3.231952      0.102524      0.269095  \n",
       "std       23.161489      0.664355      0.443500  \n",
       "min       -1.000000      0.000000      0.000000  \n",
       "25%       -1.000000      0.000000      0.000000  \n",
       "50%       -1.000000      0.000000      0.000000  \n",
       "75%       -1.000000      0.000000      1.000000  \n",
       "max      437.000000     14.000000      1.000000  "
      ]
     },
     "execution_count": 70,
     "metadata": {},
     "output_type": "execute_result"
    }
   ],
   "source": [
    "train.describe()"
   ]
  },
  {
   "cell_type": "code",
   "execution_count": 71,
   "id": "0ba73adb",
   "metadata": {},
   "outputs": [
    {
     "data": {
      "text/html": [
       "<div>\n",
       "<style scoped>\n",
       "    .dataframe tbody tr th:only-of-type {\n",
       "        vertical-align: middle;\n",
       "    }\n",
       "\n",
       "    .dataframe tbody tr th {\n",
       "        vertical-align: top;\n",
       "    }\n",
       "\n",
       "    .dataframe thead th {\n",
       "        text-align: right;\n",
       "    }\n",
       "</style>\n",
       "<table border=\"1\" class=\"dataframe\">\n",
       "  <thead>\n",
       "    <tr style=\"text-align: right;\">\n",
       "      <th></th>\n",
       "      <th>age</th>\n",
       "      <th>job</th>\n",
       "      <th>marital</th>\n",
       "      <th>education</th>\n",
       "      <th>default</th>\n",
       "      <th>balance</th>\n",
       "      <th>housing</th>\n",
       "      <th>loan</th>\n",
       "      <th>contact</th>\n",
       "      <th>day</th>\n",
       "      <th>month</th>\n",
       "      <th>duration</th>\n",
       "      <th>campaign</th>\n",
       "      <th>pdays</th>\n",
       "      <th>previous</th>\n",
       "      <th>poutcome</th>\n",
       "    </tr>\n",
       "  </thead>\n",
       "  <tbody>\n",
       "    <tr>\n",
       "      <th>0</th>\n",
       "      <td>36</td>\n",
       "      <td>technician</td>\n",
       "      <td>divorced</td>\n",
       "      <td>secondary</td>\n",
       "      <td>no</td>\n",
       "      <td>1842</td>\n",
       "      <td>yes</td>\n",
       "      <td>yes</td>\n",
       "      <td>cellular</td>\n",
       "      <td>5</td>\n",
       "      <td>aug</td>\n",
       "      <td>149</td>\n",
       "      <td>1</td>\n",
       "      <td>-1</td>\n",
       "      <td>0</td>\n",
       "      <td>unknown</td>\n",
       "    </tr>\n",
       "    <tr>\n",
       "      <th>1</th>\n",
       "      <td>26</td>\n",
       "      <td>management</td>\n",
       "      <td>married</td>\n",
       "      <td>primary</td>\n",
       "      <td>no</td>\n",
       "      <td>165</td>\n",
       "      <td>no</td>\n",
       "      <td>no</td>\n",
       "      <td>cellular</td>\n",
       "      <td>7</td>\n",
       "      <td>nov</td>\n",
       "      <td>44</td>\n",
       "      <td>2</td>\n",
       "      <td>-1</td>\n",
       "      <td>0</td>\n",
       "      <td>unknown</td>\n",
       "    </tr>\n",
       "    <tr>\n",
       "      <th>2</th>\n",
       "      <td>50</td>\n",
       "      <td>management</td>\n",
       "      <td>married</td>\n",
       "      <td>unknown</td>\n",
       "      <td>no</td>\n",
       "      <td>5006</td>\n",
       "      <td>yes</td>\n",
       "      <td>no</td>\n",
       "      <td>cellular</td>\n",
       "      <td>7</td>\n",
       "      <td>may</td>\n",
       "      <td>664</td>\n",
       "      <td>2</td>\n",
       "      <td>-1</td>\n",
       "      <td>0</td>\n",
       "      <td>other</td>\n",
       "    </tr>\n",
       "    <tr>\n",
       "      <th>3</th>\n",
       "      <td>56</td>\n",
       "      <td>management</td>\n",
       "      <td>married</td>\n",
       "      <td>secondary</td>\n",
       "      <td>no</td>\n",
       "      <td>5122</td>\n",
       "      <td>no</td>\n",
       "      <td>no</td>\n",
       "      <td>cellular</td>\n",
       "      <td>9</td>\n",
       "      <td>aug</td>\n",
       "      <td>53</td>\n",
       "      <td>2</td>\n",
       "      <td>-1</td>\n",
       "      <td>0</td>\n",
       "      <td>unknown</td>\n",
       "    </tr>\n",
       "    <tr>\n",
       "      <th>4</th>\n",
       "      <td>26</td>\n",
       "      <td>blue-collar</td>\n",
       "      <td>married</td>\n",
       "      <td>tertiary</td>\n",
       "      <td>no</td>\n",
       "      <td>151</td>\n",
       "      <td>no</td>\n",
       "      <td>no</td>\n",
       "      <td>unknown</td>\n",
       "      <td>1</td>\n",
       "      <td>jul</td>\n",
       "      <td>67</td>\n",
       "      <td>5</td>\n",
       "      <td>130</td>\n",
       "      <td>0</td>\n",
       "      <td>unknown</td>\n",
       "    </tr>\n",
       "  </tbody>\n",
       "</table>\n",
       "</div>"
      ],
      "text/plain": [
       "   age          job   marital  education default  balance housing loan  \\\n",
       "0   36   technician  divorced  secondary      no     1842     yes  yes   \n",
       "1   26   management   married    primary      no      165      no   no   \n",
       "2   50   management   married    unknown      no     5006     yes   no   \n",
       "3   56   management   married  secondary      no     5122      no   no   \n",
       "4   26  blue-collar   married   tertiary      no      151      no   no   \n",
       "\n",
       "    contact  day month  duration  campaign  pdays  previous poutcome  \n",
       "0  cellular    5   aug       149         1     -1         0  unknown  \n",
       "1  cellular    7   nov        44         2     -1         0  unknown  \n",
       "2  cellular    7   may       664         2     -1         0    other  \n",
       "3  cellular    9   aug        53         2     -1         0  unknown  \n",
       "4   unknown    1   jul        67         5    130         0  unknown  "
      ]
     },
     "execution_count": 71,
     "metadata": {},
     "output_type": "execute_result"
    }
   ],
   "source": [
    "test = pd.read_csv('test.csv')\n",
    "test.head()"
   ]
  },
  {
   "cell_type": "code",
   "execution_count": 72,
   "id": "785a7da5",
   "metadata": {},
   "outputs": [
    {
     "data": {
      "text/plain": [
       "(9000, 16)"
      ]
     },
     "execution_count": 72,
     "metadata": {},
     "output_type": "execute_result"
    }
   ],
   "source": [
    "test.shape"
   ]
  },
  {
   "cell_type": "code",
   "execution_count": 73,
   "id": "adaa4a93",
   "metadata": {},
   "outputs": [
    {
     "data": {
      "text/plain": [
       "age          0\n",
       "job          0\n",
       "marital      0\n",
       "education    0\n",
       "default      0\n",
       "balance      0\n",
       "housing      0\n",
       "loan         0\n",
       "contact      0\n",
       "day          0\n",
       "month        0\n",
       "duration     0\n",
       "campaign     0\n",
       "pdays        0\n",
       "previous     0\n",
       "poutcome     0\n",
       "dtype: int64"
      ]
     },
     "execution_count": 73,
     "metadata": {},
     "output_type": "execute_result"
    }
   ],
   "source": [
    "test.isnull().sum()"
   ]
  },
  {
   "cell_type": "code",
   "execution_count": 74,
   "id": "deccea5a",
   "metadata": {},
   "outputs": [
    {
     "data": {
      "text/plain": [
       "<AxesSubplot:>"
      ]
     },
     "execution_count": 74,
     "metadata": {},
     "output_type": "execute_result"
    },
    {
     "data": {
      "image/png": "[encoded data removed]",
      "text/plain": [
       "<Figure size 432x288 with 1 Axes>"
      ]
     },
     "metadata": {
      "needs_background": "light"
     },
     "output_type": "display_data"
    }
   ],
   "source": [
    "train['y_bool'].value_counts().plot(kind = 'bar')"
   ]
  },
  {
   "cell_type": "code",
   "execution_count": 75,
   "id": "44e07ad9",
   "metadata": {},
   "outputs": [
    {
     "data": {
      "text/plain": [
       "0    15349\n",
       "1     5651\n",
       "Name: y_bool, dtype: int64"
      ]
     },
     "execution_count": 75,
     "metadata": {},
     "output_type": "execute_result"
    }
   ],
   "source": [
    "train['y_bool'].value_counts()"
   ]
  },
  {
   "cell_type": "code",
   "execution_count": 76,
   "id": "d9df38c8",
   "metadata": {},
   "outputs": [
    {
     "data": {
      "text/plain": [
       "Index(['age', 'balance', 'day', 'duration', 'campaign', 'pdays', 'previous',\n",
       "       'y_bool'],\n",
       "      dtype='object')"
      ]
     },
     "execution_count": 76,
     "metadata": {},
     "output_type": "execute_result"
    }
   ],
   "source": [
    "numerical_category = train.select_dtypes(exclude= 'object')\n",
    "numerical_category.columns"
   ]
  },
  {
   "cell_type": "code",
   "execution_count": 77,
   "id": "a816c6b2",
   "metadata": {},
   "outputs": [
    {
     "data": {
      "text/plain": [
       "Index(['job', 'marital', 'education', 'default', 'housing', 'loan', 'contact',\n",
       "       'month', 'poutcome'],\n",
       "      dtype='object')"
      ]
     },
     "execution_count": 77,
     "metadata": {},
     "output_type": "execute_result"
    }
   ],
   "source": [
    "categorical_category = train.select_dtypes(include = 'object')\n",
    "categorical_category.columns"
   ]
  },
  {
   "cell_type": "code",
   "execution_count": 78,
   "id": "5b43923b",
   "metadata": {},
   "outputs": [
    {
     "data": {
      "text/plain": [
       "(30000, 17)"
      ]
     },
     "execution_count": 78,
     "metadata": {},
     "output_type": "execute_result"
    }
   ],
   "source": [
    "combined = pd.concat([train, test], axis = 0)\n",
    "combined.shape"
   ]
  },
  {
   "cell_type": "code",
   "execution_count": 79,
   "id": "90eaec36",
   "metadata": {},
   "outputs": [],
   "source": [
    "from sklearn.preprocessing import KBinsDiscretizer\n",
    "dics = KBinsDiscretizer(n_bins = 5, strategy= 'quantile', encode = 'ordinal')"
   ]
  },
  {
   "cell_type": "code",
   "execution_count": 80,
   "id": "9d26ad78",
   "metadata": {},
   "outputs": [
    {
     "data": {
      "text/plain": [
       "KBinsDiscretizer(encode='ordinal')"
      ]
     },
     "execution_count": 80,
     "metadata": {},
     "output_type": "execute_result"
    }
   ],
   "source": [
    "dics.fit(combined[['age']])"
   ]
  },
  {
   "cell_type": "code",
   "execution_count": 81,
   "id": "ca625d23",
   "metadata": {},
   "outputs": [],
   "source": [
    "combined['age_rank'] = dics.transform(combined[['age']])"
   ]
  },
  {
   "cell_type": "code",
   "execution_count": 82,
   "id": "3cd9f4de",
   "metadata": {},
   "outputs": [
    {
     "data": {
      "text/plain": [
       "array([array([19., 27., 33., 38., 48., 87.])], dtype=object)"
      ]
     },
     "execution_count": 82,
     "metadata": {},
     "output_type": "execute_result"
    }
   ],
   "source": [
    "dics.bin_edges_"
   ]
  },
  {
   "cell_type": "code",
   "execution_count": 83,
   "id": "7ec5a623",
   "metadata": {},
   "outputs": [],
   "source": [
    "def agegp(age):\n",
    "    if age<31:\n",
    "        return 'young'\n",
    "    elif age<51:\n",
    "        return 'middle'\n",
    "    else:\n",
    "        return 'senoir'"
   ]
  },
  {
   "cell_type": "code",
   "execution_count": 84,
   "id": "477e3181",
   "metadata": {},
   "outputs": [],
   "source": [
    "combined['age_group'] = combined['age'].map(agegp)"
   ]
  },
  {
   "cell_type": "code",
   "execution_count": 85,
   "id": "12cd1ea0",
   "metadata": {},
   "outputs": [],
   "source": [
    "def jobtyp(job):\n",
    "    if job in ['self-employed','housemaid','entrepreneur']:\n",
    "        return 'self_employed'\n",
    "    elif job in ['unknown','unemployed','student']:\n",
    "        return 'unemployed'\n",
    "    elif job in ['blue-collar','services']:\n",
    "        return 'blue_collar'\n",
    "    else:\n",
    "        return job"
   ]
  },
  {
   "cell_type": "code",
   "execution_count": 86,
   "id": "d2b21422",
   "metadata": {},
   "outputs": [],
   "source": [
    "combined['job_type'] = combined['job'].map(jobtyp)"
   ]
  },
  {
   "cell_type": "code",
   "execution_count": 87,
   "id": "8bd81197",
   "metadata": {},
   "outputs": [],
   "source": [
    "combined['balance_pos'] = combined['balance'].apply(lambda x: 'yes' if x>0 else 'no')"
   ]
  },
  {
   "cell_type": "code",
   "execution_count": 88,
   "id": "571a105e",
   "metadata": {},
   "outputs": [],
   "source": [
    "disc_bal = KBinsDiscretizer(n_bins=10,strategy='quantile',encode='ordinal')\n",
    "disc_bal.fit(combined[['balance']])\n",
    "combined['balance_rank'] = disc_bal.transform(combined[['balance']])"
   ]
  },
  {
   "cell_type": "code",
   "execution_count": 89,
   "id": "74409c96",
   "metadata": {},
   "outputs": [
    {
     "data": {
      "text/plain": [
       "array([array([-2.4770e+03,  5.7000e+01,  2.3600e+02,  3.6600e+02,  4.9200e+02,\n",
       "        6.3400e+02,  1.0784e+03,  1.6130e+03,  2.1990e+03,  3.7200e+03,\n",
       "        7.1188e+04])], dtype=object)"
      ]
     },
     "execution_count": 89,
     "metadata": {},
     "output_type": "execute_result"
    }
   ],
   "source": [
    "disc_bal.bin_edges_"
   ]
  },
  {
   "cell_type": "code",
   "execution_count": 90,
   "id": "bc2d49c4",
   "metadata": {},
   "outputs": [],
   "source": [
    "def bal_range(bal):\n",
    "    if bal<25:\n",
    "        return 'low_bal'\n",
    "    elif bal<500:\n",
    "        return 'medium_bal'\n",
    "    elif bal<2000:\n",
    "        return 'high_bal'\n",
    "    else:\n",
    "        return 'very_high_bal'"
   ]
  },
  {
   "cell_type": "code",
   "execution_count": 91,
   "id": "995d715c",
   "metadata": {},
   "outputs": [],
   "source": [
    "combined['bal_range'] = combined['balance'].map(bal_range)"
   ]
  },
  {
   "cell_type": "code",
   "execution_count": 92,
   "id": "c6ebfb72",
   "metadata": {},
   "outputs": [],
   "source": [
    "def week(day):\n",
    "    if day<8:\n",
    "        return 'Week1'\n",
    "    elif day<15:\n",
    "        return 'Week2'\n",
    "    elif day<22:\n",
    "        return 'Week3'\n",
    "    else:\n",
    "        return 'Week4'"
   ]
  },
  {
   "cell_type": "code",
   "execution_count": 93,
   "id": "b695d3d6",
   "metadata": {},
   "outputs": [],
   "source": [
    "combined['week'] = combined['day'].map(week)"
   ]
  },
  {
   "cell_type": "code",
   "execution_count": 94,
   "id": "5bca538c",
   "metadata": {},
   "outputs": [],
   "source": [
    "combined['duration'] = combined['duration']/60"
   ]
  },
  {
   "cell_type": "code",
   "execution_count": 95,
   "id": "f5d5ed19",
   "metadata": {},
   "outputs": [],
   "source": [
    "disc_dur = KBinsDiscretizer(n_bins=5,strategy='quantile',encode='ordinal')\n",
    "disc_dur.fit(combined[['duration']])\n",
    "combined['duration_rank'] = disc_dur.transform(combined[['duration']])"
   ]
  },
  {
   "cell_type": "code",
   "execution_count": 96,
   "id": "62b067c0",
   "metadata": {},
   "outputs": [
    {
     "data": {
      "text/plain": [
       "array([array([ 0.06666667,  1.28333333,  2.41666667,  3.81666667,  6.03333333,\n",
       "       45.05      ])], dtype=object)"
      ]
     },
     "execution_count": 96,
     "metadata": {},
     "output_type": "execute_result"
    }
   ],
   "source": [
    "disc_dur.bin_edges_"
   ]
  },
  {
   "cell_type": "code",
   "execution_count": 97,
   "id": "bc79755b",
   "metadata": {},
   "outputs": [],
   "source": [
    "def call_time(time):\n",
    "    if time<=1:\n",
    "        return '<1min'\n",
    "    elif time<=3:\n",
    "        return '1-3min'\n",
    "    elif time<=10:\n",
    "        return '3-10min'\n",
    "    else:\n",
    "        return '>10 min'"
   ]
  },
  {
   "cell_type": "code",
   "execution_count": 98,
   "id": "c69d3a6c",
   "metadata": {},
   "outputs": [],
   "source": [
    "combined['call_dur'] = combined['duration'].map(call_time)"
   ]
  },
  {
   "cell_type": "code",
   "execution_count": 99,
   "id": "0106a212",
   "metadata": {},
   "outputs": [],
   "source": [
    "combined['new_contact'] = combined['pdays'].apply(lambda x:'new_cust' if x==-1 else 'old_cust')"
   ]
  },
  {
   "cell_type": "code",
   "execution_count": 100,
   "id": "88b0da81",
   "metadata": {},
   "outputs": [
    {
     "name": "stdout",
     "output_type": "stream",
     "text": [
      "<class 'pandas.core.frame.DataFrame'>\n",
      "Int64Index: 30000 entries, 0 to 8999\n",
      "Data columns (total 27 columns):\n",
      " #   Column         Non-Null Count  Dtype  \n",
      "---  ------         --------------  -----  \n",
      " 0   age            30000 non-null  int64  \n",
      " 1   job            30000 non-null  object \n",
      " 2   marital        30000 non-null  object \n",
      " 3   education      30000 non-null  object \n",
      " 4   default        30000 non-null  object \n",
      " 5   balance        30000 non-null  int64  \n",
      " 6   housing        30000 non-null  object \n",
      " 7   loan           30000 non-null  object \n",
      " 8   contact        30000 non-null  object \n",
      " 9   day            30000 non-null  int64  \n",
      " 10  month          30000 non-null  object \n",
      " 11  duration       30000 non-null  float64\n",
      " 12  campaign       30000 non-null  int64  \n",
      " 13  pdays          30000 non-null  int64  \n",
      " 14  previous       30000 non-null  int64  \n",
      " 15  poutcome       30000 non-null  object \n",
      " 16  y_bool         21000 non-null  float64\n",
      " 17  age_rank       30000 non-null  float64\n",
      " 18  age_group      30000 non-null  object \n",
      " 19  job_type       30000 non-null  object \n",
      " 20  balance_pos    30000 non-null  object \n",
      " 21  balance_rank   30000 non-null  float64\n",
      " 22  bal_range      30000 non-null  object \n",
      " 23  week           30000 non-null  object \n",
      " 24  duration_rank  30000 non-null  float64\n",
      " 25  call_dur       30000 non-null  object \n",
      " 26  new_contact    30000 non-null  object \n",
      "dtypes: float64(5), int64(6), object(16)\n",
      "memory usage: 6.4+ MB\n"
     ]
    }
   ],
   "source": [
    "combined.info()"
   ]
  },
  {
   "cell_type": "code",
   "execution_count": 101,
   "id": "df29a0dc",
   "metadata": {},
   "outputs": [],
   "source": [
    "from sklearn.model_selection import train_test_split"
   ]
  },
  {
   "cell_type": "code",
   "execution_count": 102,
   "id": "2c63fbae",
   "metadata": {},
   "outputs": [],
   "source": [
    "feat = ['age','job_type','marital','education','balance','housing',\n",
    "     'loan','contact','month','duration','campaign','poutcome',\n",
    "     'age_group','bal_range','week','call_dur','new_contact']"
   ]
  },
  {
   "cell_type": "code",
   "execution_count": 103,
   "id": "e5c15466",
   "metadata": {},
   "outputs": [
    {
     "data": {
      "text/plain": [
       "(21000, 27)"
      ]
     },
     "execution_count": 103,
     "metadata": {},
     "output_type": "execute_result"
    }
   ],
   "source": [
    "newtrain = combined.iloc[0:21000, :]\n",
    "newtrain.shape"
   ]
  },
  {
   "cell_type": "code",
   "execution_count": 104,
   "id": "1f16f321",
   "metadata": {},
   "outputs": [
    {
     "data": {
      "text/plain": [
       "(9000, 26)"
      ]
     },
     "execution_count": 104,
     "metadata": {},
     "output_type": "execute_result"
    }
   ],
   "source": [
    "newtest = combined.iloc[21000: , :]\n",
    "newtest = newtest.drop('y_bool', axis = 1)\n",
    "newtest.shape"
   ]
  },
  {
   "cell_type": "code",
   "execution_count": 107,
   "id": "b284df86",
   "metadata": {},
   "outputs": [],
   "source": [
    "def outlier_capping(df,col):\n",
    "\n",
    "        q1=newtrain[col].quantile(0.25)\n",
    "        q3=newtrain[col].quantile(0.75)\n",
    "        iqr=q3-q1\n",
    "        \n",
    "        upper_whisker=q3 + 1.5 * iqr\n",
    "        lower_whisker=q1- 1.5 * iqr\n",
    "        \n",
    "        newtrain[col]=np.where(newtrain[col]>upper_whisker,upper_whisker, #true action\n",
    "                        np.where(newtrain[col]<lower_whisker,lower_whisker,newtrain[col]))"
   ]
  },
  {
   "cell_type": "code",
   "execution_count": 109,
   "id": "9368f155",
   "metadata": {
    "scrolled": true
   },
   "outputs": [
    {
     "name": "stderr",
     "output_type": "stream",
     "text": [
      "<ipython-input-107-35c2606e5377>:10: SettingWithCopyWarning: \n",
      "A value is trying to be set on a copy of a slice from a DataFrame.\n",
      "Try using .loc[row_indexer,col_indexer] = value instead\n",
      "\n",
      "See the caveats in the documentation: https://pandas.pydata.org/pandas-docs/stable/user_guide/indexing.html#returning-a-view-versus-a-copy\n",
      "  newtrain[col]=np.where(newtrain[col]>upper_whisker,upper_whisker, #true action\n",
      "<ipython-input-107-35c2606e5377>:10: SettingWithCopyWarning: \n",
      "A value is trying to be set on a copy of a slice from a DataFrame.\n",
      "Try using .loc[row_indexer,col_indexer] = value instead\n",
      "\n",
      "See the caveats in the documentation: https://pandas.pydata.org/pandas-docs/stable/user_guide/indexing.html#returning-a-view-versus-a-copy\n",
      "  newtrain[col]=np.where(newtrain[col]>upper_whisker,upper_whisker, #true action\n",
      "<ipython-input-107-35c2606e5377>:10: SettingWithCopyWarning: \n",
      "A value is trying to be set on a copy of a slice from a DataFrame.\n",
      "Try using .loc[row_indexer,col_indexer] = value instead\n",
      "\n",
      "See the caveats in the documentation: https://pandas.pydata.org/pandas-docs/stable/user_guide/indexing.html#returning-a-view-versus-a-copy\n",
      "  newtrain[col]=np.where(newtrain[col]>upper_whisker,upper_whisker, #true action\n",
      "<ipython-input-107-35c2606e5377>:10: SettingWithCopyWarning: \n",
      "A value is trying to be set on a copy of a slice from a DataFrame.\n",
      "Try using .loc[row_indexer,col_indexer] = value instead\n",
      "\n",
      "See the caveats in the documentation: https://pandas.pydata.org/pandas-docs/stable/user_guide/indexing.html#returning-a-view-versus-a-copy\n",
      "  newtrain[col]=np.where(newtrain[col]>upper_whisker,upper_whisker, #true action\n"
     ]
    }
   ],
   "source": [
    "outlier_cols=['age','balance','duration','campaign']\n",
    "for col in outlier_cols:\n",
    "    outlier_capping(newtrain,col)"
   ]
  },
  {
   "cell_type": "code",
   "execution_count": 110,
   "id": "16fbac0b",
   "metadata": {},
   "outputs": [
    {
     "name": "stderr",
     "output_type": "stream",
     "text": [
      "<ipython-input-107-35c2606e5377>:10: SettingWithCopyWarning: \n",
      "A value is trying to be set on a copy of a slice from a DataFrame.\n",
      "Try using .loc[row_indexer,col_indexer] = value instead\n",
      "\n",
      "See the caveats in the documentation: https://pandas.pydata.org/pandas-docs/stable/user_guide/indexing.html#returning-a-view-versus-a-copy\n",
      "  newtrain[col]=np.where(newtrain[col]>upper_whisker,upper_whisker, #true action\n",
      "<ipython-input-107-35c2606e5377>:10: SettingWithCopyWarning: \n",
      "A value is trying to be set on a copy of a slice from a DataFrame.\n",
      "Try using .loc[row_indexer,col_indexer] = value instead\n",
      "\n",
      "See the caveats in the documentation: https://pandas.pydata.org/pandas-docs/stable/user_guide/indexing.html#returning-a-view-versus-a-copy\n",
      "  newtrain[col]=np.where(newtrain[col]>upper_whisker,upper_whisker, #true action\n",
      "<ipython-input-107-35c2606e5377>:10: SettingWithCopyWarning: \n",
      "A value is trying to be set on a copy of a slice from a DataFrame.\n",
      "Try using .loc[row_indexer,col_indexer] = value instead\n",
      "\n",
      "See the caveats in the documentation: https://pandas.pydata.org/pandas-docs/stable/user_guide/indexing.html#returning-a-view-versus-a-copy\n",
      "  newtrain[col]=np.where(newtrain[col]>upper_whisker,upper_whisker, #true action\n",
      "<ipython-input-107-35c2606e5377>:10: SettingWithCopyWarning: \n",
      "A value is trying to be set on a copy of a slice from a DataFrame.\n",
      "Try using .loc[row_indexer,col_indexer] = value instead\n",
      "\n",
      "See the caveats in the documentation: https://pandas.pydata.org/pandas-docs/stable/user_guide/indexing.html#returning-a-view-versus-a-copy\n",
      "  newtrain[col]=np.where(newtrain[col]>upper_whisker,upper_whisker, #true action\n"
     ]
    }
   ],
   "source": [
    "outlier_cols=['age','balance','duration','campaign']\n",
    "for col in outlier_cols:\n",
    "    outlier_capping(newtest,col)"
   ]
  },
  {
   "cell_type": "code",
   "execution_count": 111,
   "id": "7bb0a1bf",
   "metadata": {},
   "outputs": [
    {
     "data": {
      "text/plain": [
       "(21000, 27)"
      ]
     },
     "execution_count": 111,
     "metadata": {},
     "output_type": "execute_result"
    }
   ],
   "source": [
    "newtrain.shape"
   ]
  },
  {
   "cell_type": "code",
   "execution_count": 113,
   "id": "5caac009",
   "metadata": {},
   "outputs": [],
   "source": [
    "newtrain = pd.get_dummies(newtrain,columns=['job_type', 'marital', 'education','housing', 'loan',\n",
    "                                        'contact', 'month','poutcome','age_group','bal_range', 'week',\n",
    "                                        'call_dur', 'new_contact'],drop_first=False)"
   ]
  },
  {
   "cell_type": "code",
   "execution_count": 112,
   "id": "f8178d02",
   "metadata": {},
   "outputs": [],
   "source": [
    "newtest = pd.get_dummies(newtest,columns=['job_type', 'marital', 'education','housing', 'loan',\n",
    "                                        'contact', 'month','poutcome','age_group','bal_range', 'week',\n",
    "                                        'call_dur', 'new_contact'],drop_first=False)"
   ]
  },
  {
   "cell_type": "code",
   "execution_count": 115,
   "id": "b758c317",
   "metadata": {},
   "outputs": [],
   "source": [
    "newtrain = newtrain.drop(['job','default','day','pdays','previous', 'duration_rank', 'balance_rank', 'balance_pos', 'age_rank'], axis = 1)"
   ]
  },
  {
   "cell_type": "code",
   "execution_count": 117,
   "id": "57687221",
   "metadata": {},
   "outputs": [],
   "source": [
    "newtest = newtest.drop(['job','default','day','pdays','previous', 'duration_rank', 'balance_rank', 'balance_pos', 'age_rank'], axis = 1)"
   ]
  },
  {
   "cell_type": "code",
   "execution_count": 118,
   "id": "656aebc7",
   "metadata": {},
   "outputs": [
    {
     "data": {
      "text/plain": [
       "(9000, 58)"
      ]
     },
     "execution_count": 118,
     "metadata": {},
     "output_type": "execute_result"
    }
   ],
   "source": [
    "newtest.shape"
   ]
  },
  {
   "cell_type": "code",
   "execution_count": 119,
   "id": "0df97b95",
   "metadata": {},
   "outputs": [],
   "source": [
    "newtrain = newtrain.drop(columns=['job_type_unemployed','marital_divorced','education_unknown','housing_no','loan_no',\n",
    "                     'contact_unknown','month_dec','poutcome_unknown','age_group_middle','bal_range_high_bal',\n",
    "                     'week_Week1','call_dur_1-3min','new_contact_new_cust'])"
   ]
  },
  {
   "cell_type": "code",
   "execution_count": 121,
   "id": "aaa84d20",
   "metadata": {},
   "outputs": [
    {
     "name": "stdout",
     "output_type": "stream",
     "text": [
      "<class 'pandas.core.frame.DataFrame'>\n",
      "Int64Index: 21000 entries, 0 to 20999\n",
      "Data columns (total 46 columns):\n",
      " #   Column                   Non-Null Count  Dtype  \n",
      "---  ------                   --------------  -----  \n",
      " 0   age                      21000 non-null  float64\n",
      " 1   balance                  21000 non-null  float64\n",
      " 2   duration                 21000 non-null  float64\n",
      " 3   campaign                 21000 non-null  float64\n",
      " 4   y_bool                   21000 non-null  float64\n",
      " 5   job_type_admin.          21000 non-null  uint8  \n",
      " 6   job_type_blue_collar     21000 non-null  uint8  \n",
      " 7   job_type_management      21000 non-null  uint8  \n",
      " 8   job_type_retired         21000 non-null  uint8  \n",
      " 9   job_type_self_employed   21000 non-null  uint8  \n",
      " 10  job_type_technician      21000 non-null  uint8  \n",
      " 11  marital_married          21000 non-null  uint8  \n",
      " 12  marital_single           21000 non-null  uint8  \n",
      " 13  education_primary        21000 non-null  uint8  \n",
      " 14  education_secondary      21000 non-null  uint8  \n",
      " 15  education_tertiary       21000 non-null  uint8  \n",
      " 16  housing_yes              21000 non-null  uint8  \n",
      " 17  loan_yes                 21000 non-null  uint8  \n",
      " 18  contact_cellular         21000 non-null  uint8  \n",
      " 19  contact_telephone        21000 non-null  uint8  \n",
      " 20  month_apr                21000 non-null  uint8  \n",
      " 21  month_aug                21000 non-null  uint8  \n",
      " 22  month_feb                21000 non-null  uint8  \n",
      " 23  month_jan                21000 non-null  uint8  \n",
      " 24  month_jul                21000 non-null  uint8  \n",
      " 25  month_jun                21000 non-null  uint8  \n",
      " 26  month_mar                21000 non-null  uint8  \n",
      " 27  month_may                21000 non-null  uint8  \n",
      " 28  month_nov                21000 non-null  uint8  \n",
      " 29  month_oct                21000 non-null  uint8  \n",
      " 30  month_sep                21000 non-null  uint8  \n",
      " 31  poutcome_failure         21000 non-null  uint8  \n",
      " 32  poutcome_other           21000 non-null  uint8  \n",
      " 33  poutcome_success         21000 non-null  uint8  \n",
      " 34  age_group_senoir         21000 non-null  uint8  \n",
      " 35  age_group_young          21000 non-null  uint8  \n",
      " 36  bal_range_low_bal        21000 non-null  uint8  \n",
      " 37  bal_range_medium_bal     21000 non-null  uint8  \n",
      " 38  bal_range_very_high_bal  21000 non-null  uint8  \n",
      " 39  week_Week2               21000 non-null  uint8  \n",
      " 40  week_Week3               21000 non-null  uint8  \n",
      " 41  week_Week4               21000 non-null  uint8  \n",
      " 42  call_dur_3-10min         21000 non-null  uint8  \n",
      " 43  call_dur_<1min           21000 non-null  uint8  \n",
      " 44  call_dur_>10 min         21000 non-null  uint8  \n",
      " 45  new_contact_old_cust     21000 non-null  uint8  \n",
      "dtypes: float64(5), uint8(41)\n",
      "memory usage: 1.8 MB\n"
     ]
    }
   ],
   "source": [
    "newtrain.info()"
   ]
  },
  {
   "cell_type": "code",
   "execution_count": 120,
   "id": "ddd8c50b",
   "metadata": {},
   "outputs": [],
   "source": [
    "newtest = newtest.drop(columns=['job_type_unemployed','marital_divorced','education_unknown','housing_no','loan_no',\n",
    "                     'contact_unknown','month_dec','poutcome_unknown','age_group_middle','bal_range_high_bal',\n",
    "                     'week_Week1','call_dur_1-3min','new_contact_new_cust'])"
   ]
  },
  {
   "cell_type": "code",
   "execution_count": 122,
   "id": "c1b0562c",
   "metadata": {},
   "outputs": [
    {
     "name": "stdout",
     "output_type": "stream",
     "text": [
      "<class 'pandas.core.frame.DataFrame'>\n",
      "Int64Index: 9000 entries, 0 to 8999\n",
      "Data columns (total 45 columns):\n",
      " #   Column                   Non-Null Count  Dtype  \n",
      "---  ------                   --------------  -----  \n",
      " 0   age                      9000 non-null   int64  \n",
      " 1   balance                  9000 non-null   int64  \n",
      " 2   duration                 9000 non-null   float64\n",
      " 3   campaign                 9000 non-null   int64  \n",
      " 4   job_type_admin.          9000 non-null   uint8  \n",
      " 5   job_type_blue_collar     9000 non-null   uint8  \n",
      " 6   job_type_management      9000 non-null   uint8  \n",
      " 7   job_type_retired         9000 non-null   uint8  \n",
      " 8   job_type_self_employed   9000 non-null   uint8  \n",
      " 9   job_type_technician      9000 non-null   uint8  \n",
      " 10  marital_married          9000 non-null   uint8  \n",
      " 11  marital_single           9000 non-null   uint8  \n",
      " 12  education_primary        9000 non-null   uint8  \n",
      " 13  education_secondary      9000 non-null   uint8  \n",
      " 14  education_tertiary       9000 non-null   uint8  \n",
      " 15  housing_yes              9000 non-null   uint8  \n",
      " 16  loan_yes                 9000 non-null   uint8  \n",
      " 17  contact_cellular         9000 non-null   uint8  \n",
      " 18  contact_telephone        9000 non-null   uint8  \n",
      " 19  month_apr                9000 non-null   uint8  \n",
      " 20  month_aug                9000 non-null   uint8  \n",
      " 21  month_feb                9000 non-null   uint8  \n",
      " 22  month_jan                9000 non-null   uint8  \n",
      " 23  month_jul                9000 non-null   uint8  \n",
      " 24  month_jun                9000 non-null   uint8  \n",
      " 25  month_mar                9000 non-null   uint8  \n",
      " 26  month_may                9000 non-null   uint8  \n",
      " 27  month_nov                9000 non-null   uint8  \n",
      " 28  month_oct                9000 non-null   uint8  \n",
      " 29  month_sep                9000 non-null   uint8  \n",
      " 30  poutcome_failure         9000 non-null   uint8  \n",
      " 31  poutcome_other           9000 non-null   uint8  \n",
      " 32  poutcome_success         9000 non-null   uint8  \n",
      " 33  age_group_senoir         9000 non-null   uint8  \n",
      " 34  age_group_young          9000 non-null   uint8  \n",
      " 35  bal_range_low_bal        9000 non-null   uint8  \n",
      " 36  bal_range_medium_bal     9000 non-null   uint8  \n",
      " 37  bal_range_very_high_bal  9000 non-null   uint8  \n",
      " 38  week_Week2               9000 non-null   uint8  \n",
      " 39  week_Week3               9000 non-null   uint8  \n",
      " 40  week_Week4               9000 non-null   uint8  \n",
      " 41  call_dur_3-10min         9000 non-null   uint8  \n",
      " 42  call_dur_<1min           9000 non-null   uint8  \n",
      " 43  call_dur_>10 min         9000 non-null   uint8  \n",
      " 44  new_contact_old_cust     9000 non-null   uint8  \n",
      "dtypes: float64(1), int64(3), uint8(41)\n",
      "memory usage: 711.9 KB\n"
     ]
    }
   ],
   "source": [
    "newtest.info()"
   ]
  },
  {
   "cell_type": "code",
   "execution_count": 123,
   "id": "04a42b75",
   "metadata": {},
   "outputs": [],
   "source": [
    "from sklearn.linear_model import LogisticRegression\n",
    "from sklearn.ensemble import RandomForestClassifier"
   ]
  },
  {
   "cell_type": "code",
   "execution_count": 124,
   "id": "4625dffa",
   "metadata": {},
   "outputs": [],
   "source": [
    "x = newtrain.drop('y_bool', axis = 1)\n",
    "y = newtrain['y_bool']"
   ]
  },
  {
   "cell_type": "code",
   "execution_count": 125,
   "id": "ce603d6e",
   "metadata": {},
   "outputs": [],
   "source": [
    "x_train, x_test, y_train, y_test = train_test_split(x, y, test_size=0.25, random_state=42)"
   ]
  },
  {
   "cell_type": "code",
   "execution_count": 126,
   "id": "3f7733f5",
   "metadata": {},
   "outputs": [],
   "source": [
    "rf = RandomForestClassifier(n_jobs=-1,oob_score=True)"
   ]
  },
  {
   "cell_type": "code",
   "execution_count": 127,
   "id": "c751e5b9",
   "metadata": {},
   "outputs": [
    {
     "data": {
      "text/plain": [
       "RandomForestClassifier(n_jobs=-1, oob_score=True)"
      ]
     },
     "execution_count": 127,
     "metadata": {},
     "output_type": "execute_result"
    }
   ],
   "source": [
    "rf.fit(x_train, y_train)"
   ]
  },
  {
   "cell_type": "code",
   "execution_count": 128,
   "id": "5c689994",
   "metadata": {},
   "outputs": [
    {
     "data": {
      "text/plain": [
       "0.7201904761904762"
      ]
     },
     "execution_count": 128,
     "metadata": {},
     "output_type": "execute_result"
    }
   ],
   "source": [
    "rf.oob_score_"
   ]
  },
  {
   "cell_type": "code",
   "execution_count": 129,
   "id": "ee0e9b00",
   "metadata": {},
   "outputs": [
    {
     "data": {
      "text/plain": [
       "array([0.11430867, 0.14563191, 0.14208989, 0.04471502, 0.01337605,\n",
       "       0.01863337, 0.01573035, 0.00830294, 0.00831552, 0.01621446,\n",
       "       0.02333763, 0.0168268 , 0.01292414, 0.02147796, 0.0197722 ,\n",
       "       0.02524238, 0.02119218, 0.0258297 , 0.00978384, 0.01307505,\n",
       "       0.01022135, 0.00833448, 0.00545034, 0.01770174, 0.01314389,\n",
       "       0.00278087, 0.01664153, 0.01350522, 0.00375163, 0.00288153,\n",
       "       0.02035279, 0.00769865, 0.00521774, 0.00789043, 0.00881743,\n",
       "       0.00501611, 0.01650995, 0.01372418, 0.02335461, 0.01941022,\n",
       "       0.01377536, 0.01908892, 0.01149261, 0.00723538, 0.009223  ])"
      ]
     },
     "execution_count": 129,
     "metadata": {},
     "output_type": "execute_result"
    }
   ],
   "source": [
    "rf.feature_importances_"
   ]
  },
  {
   "cell_type": "code",
   "execution_count": 130,
   "id": "40db3fe6",
   "metadata": {},
   "outputs": [],
   "source": [
    "feat_imp=pd.DataFrame(data=rf.feature_importances_,index=x_train.columns,columns=['importance'])"
   ]
  },
  {
   "cell_type": "code",
   "execution_count": 131,
   "id": "723d335f",
   "metadata": {},
   "outputs": [
    {
     "data": {
      "text/plain": [
       "<matplotlib.legend.Legend at 0x19e6641ad00>"
      ]
     },
     "execution_count": 131,
     "metadata": {},
     "output_type": "execute_result"
    },
    {
     "data": {
      "image/png": "[encoded data removed]",
      "text/plain": [
       "<Figure size 576x1440 with 1 Axes>"
      ]
     },
     "metadata": {
      "needs_background": "light"
     },
     "output_type": "display_data"
    }
   ],
   "source": [
    "feat_imp.sort_values('importance').plot(kind='barh',title='Feature Importance',figsize=(8,20)).legend(loc='right')"
   ]
  },
  {
   "cell_type": "code",
   "execution_count": 132,
   "id": "3b70523a",
   "metadata": {},
   "outputs": [],
   "source": [
    "feat_zip=feat_imp[feat_imp['importance']>0.016].index"
   ]
  },
  {
   "cell_type": "code",
   "execution_count": 133,
   "id": "714a529b",
   "metadata": {},
   "outputs": [
    {
     "data": {
      "text/plain": [
       "['age',\n",
       " 'balance',\n",
       " 'duration',\n",
       " 'campaign',\n",
       " 'job_type_blue_collar',\n",
       " 'job_type_technician',\n",
       " 'marital_married',\n",
       " 'marital_single',\n",
       " 'education_secondary',\n",
       " 'education_tertiary',\n",
       " 'housing_yes',\n",
       " 'loan_yes',\n",
       " 'contact_cellular',\n",
       " 'month_jul',\n",
       " 'month_may',\n",
       " 'poutcome_failure',\n",
       " 'bal_range_medium_bal',\n",
       " 'week_Week2',\n",
       " 'week_Week3',\n",
       " 'call_dur_3-10min']"
      ]
     },
     "execution_count": 133,
     "metadata": {},
     "output_type": "execute_result"
    }
   ],
   "source": [
    "feat_zip=feat_zip.to_list()\n",
    "feat_zip"
   ]
  },
  {
   "cell_type": "code",
   "execution_count": 134,
   "id": "e71f941b",
   "metadata": {},
   "outputs": [],
   "source": [
    "x_train = newtrain[feat_zip]\n",
    "y_train = newtrain['y_bool']\n",
    "x_test = newtest[feat_zip]"
   ]
  },
  {
   "cell_type": "code",
   "execution_count": 135,
   "id": "c56b6b7f",
   "metadata": {},
   "outputs": [],
   "source": [
    "rf = RandomForestClassifier(n_estimators=50,max_depth=5,n_jobs=-1,random_state=50)\n",
    "y_pred = rf.fit(x_train, y_train).predict(x_test)"
   ]
  },
  {
   "cell_type": "code",
   "execution_count": 136,
   "id": "4d93721a",
   "metadata": {},
   "outputs": [
    {
     "data": {
      "text/plain": [
       "array([0., 0., 0., ..., 0., 0., 0.])"
      ]
     },
     "execution_count": 136,
     "metadata": {},
     "output_type": "execute_result"
    }
   ],
   "source": [
    "y_pred"
   ]
  },
  {
   "cell_type": "code",
   "execution_count": 137,
   "id": "5f51ed80",
   "metadata": {},
   "outputs": [],
   "source": [
    "solution = pd.DataFrame({'y_bool': y_pred})\n",
    "solution.to_csv('Solution.csv', index = False)"
   ]
  },
  {
   "cell_type": "code",
   "execution_count": null,
   "id": "4e1f72d2",
   "metadata": {},
   "outputs": [],
   "source": []
  }
 ],
 "metadata": {
  "kernelspec": {
   "display_name": "Python 3",
   "language": "python",
   "name": "python3"
  },
  "language_info": {
   "codemirror_mode": {
    "name": "ipython",
    "version": 3
   },
   "file_extension": ".py",
   "mimetype": "text/x-python",
   "name": "python",
   "nbconvert_exporter": "python",
   "pygments_lexer": "ipython3",
   "version": "3.8.8"
  }
 },
 "nbformat": 4,
 "nbformat_minor": 5
}
