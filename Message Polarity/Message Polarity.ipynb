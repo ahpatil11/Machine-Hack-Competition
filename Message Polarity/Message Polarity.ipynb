{
 "cells": [
  {
   "cell_type": "code",
   "execution_count": 1,
   "metadata": {},
   "outputs": [],
   "source": [
    "import numpy as np\n",
    "import pandas as pd\n",
    "import matplotlib.pyplot as plt\n",
    "import seaborn as sns"
   ]
  },
  {
   "cell_type": "code",
   "execution_count": 2,
   "metadata": {},
   "outputs": [
    {
     "data": {
      "text/html": [
       "<div>\n",
       "<style scoped>\n",
       "    .dataframe tbody tr th:only-of-type {\n",
       "        vertical-align: middle;\n",
       "    }\n",
       "\n",
       "    .dataframe tbody tr th {\n",
       "        vertical-align: top;\n",
       "    }\n",
       "\n",
       "    .dataframe thead th {\n",
       "        text-align: right;\n",
       "    }\n",
       "</style>\n",
       "<table border=\"1\" class=\"dataframe\">\n",
       "  <thead>\n",
       "    <tr style=\"text-align: right;\">\n",
       "      <th></th>\n",
       "      <th>Freq_Of_Word_1</th>\n",
       "      <th>Freq_Of_Word_2</th>\n",
       "      <th>Freq_Of_Word_3</th>\n",
       "      <th>Freq_Of_Word_4</th>\n",
       "      <th>Freq_Of_Word_5</th>\n",
       "      <th>Freq_Of_Word_6</th>\n",
       "      <th>Freq_Of_Word_7</th>\n",
       "      <th>Freq_Of_Word_8</th>\n",
       "      <th>Freq_Of_Word_9</th>\n",
       "      <th>Freq_Of_Word_10</th>\n",
       "      <th>...</th>\n",
       "      <th>Freq_Of_Word_45</th>\n",
       "      <th>Freq_Of_Word_46</th>\n",
       "      <th>Freq_Of_Word_47</th>\n",
       "      <th>Freq_Of_Word_48</th>\n",
       "      <th>Freq_Of_Word_49</th>\n",
       "      <th>Freq_Of_Word_50</th>\n",
       "      <th>TotalEmojiCharacters</th>\n",
       "      <th>LengthOFFirstParagraph</th>\n",
       "      <th>StylizedLetters</th>\n",
       "      <th>IsGoodNews</th>\n",
       "    </tr>\n",
       "  </thead>\n",
       "  <tbody>\n",
       "    <tr>\n",
       "      <th>0</th>\n",
       "      <td>-0.351864</td>\n",
       "      <td>2.620660</td>\n",
       "      <td>1.253645</td>\n",
       "      <td>-0.039223</td>\n",
       "      <td>-0.465210</td>\n",
       "      <td>-0.353977</td>\n",
       "      <td>-0.304257</td>\n",
       "      <td>-0.240708</td>\n",
       "      <td>-0.318797</td>\n",
       "      <td>-0.352968</td>\n",
       "      <td>...</td>\n",
       "      <td>-0.323019</td>\n",
       "      <td>-0.205212</td>\n",
       "      <td>-0.079531</td>\n",
       "      <td>-0.118688</td>\n",
       "      <td>0.079303</td>\n",
       "      <td>0.157385</td>\n",
       "      <td>-0.028751</td>\n",
       "      <td>-0.046474</td>\n",
       "      <td>0.222453</td>\n",
       "      <td>1</td>\n",
       "    </tr>\n",
       "    <tr>\n",
       "      <th>1</th>\n",
       "      <td>-0.351864</td>\n",
       "      <td>-0.318036</td>\n",
       "      <td>-0.561952</td>\n",
       "      <td>-0.039223</td>\n",
       "      <td>-0.465210</td>\n",
       "      <td>-0.353977</td>\n",
       "      <td>-0.304257</td>\n",
       "      <td>3.837751</td>\n",
       "      <td>-0.318797</td>\n",
       "      <td>-0.352968</td>\n",
       "      <td>...</td>\n",
       "      <td>-0.323019</td>\n",
       "      <td>-0.205212</td>\n",
       "      <td>-0.079531</td>\n",
       "      <td>-0.118688</td>\n",
       "      <td>-0.151911</td>\n",
       "      <td>-0.453742</td>\n",
       "      <td>-0.107383</td>\n",
       "      <td>-0.195476</td>\n",
       "      <td>-0.408024</td>\n",
       "      <td>0</td>\n",
       "    </tr>\n",
       "    <tr>\n",
       "      <th>2</th>\n",
       "      <td>-0.351864</td>\n",
       "      <td>-0.318036</td>\n",
       "      <td>-0.561952</td>\n",
       "      <td>-0.039223</td>\n",
       "      <td>-0.465210</td>\n",
       "      <td>-0.353977</td>\n",
       "      <td>-0.304257</td>\n",
       "      <td>-0.240708</td>\n",
       "      <td>-0.318797</td>\n",
       "      <td>-0.352968</td>\n",
       "      <td>...</td>\n",
       "      <td>-0.323019</td>\n",
       "      <td>-0.205212</td>\n",
       "      <td>-0.079531</td>\n",
       "      <td>-0.118688</td>\n",
       "      <td>-0.151911</td>\n",
       "      <td>-0.453742</td>\n",
       "      <td>-0.107383</td>\n",
       "      <td>-0.187634</td>\n",
       "      <td>-0.392578</td>\n",
       "      <td>0</td>\n",
       "    </tr>\n",
       "    <tr>\n",
       "      <th>3</th>\n",
       "      <td>1.210190</td>\n",
       "      <td>2.682528</td>\n",
       "      <td>1.291868</td>\n",
       "      <td>-0.039223</td>\n",
       "      <td>0.221744</td>\n",
       "      <td>-0.353977</td>\n",
       "      <td>-0.304257</td>\n",
       "      <td>0.859101</td>\n",
       "      <td>-0.318797</td>\n",
       "      <td>2.374782</td>\n",
       "      <td>...</td>\n",
       "      <td>-0.323019</td>\n",
       "      <td>-0.205212</td>\n",
       "      <td>-0.079531</td>\n",
       "      <td>-0.118688</td>\n",
       "      <td>-0.151911</td>\n",
       "      <td>0.340723</td>\n",
       "      <td>1.334201</td>\n",
       "      <td>2.270899</td>\n",
       "      <td>0.602985</td>\n",
       "      <td>1</td>\n",
       "    </tr>\n",
       "    <tr>\n",
       "      <th>4</th>\n",
       "      <td>-0.351864</td>\n",
       "      <td>-0.318036</td>\n",
       "      <td>-0.561952</td>\n",
       "      <td>-0.039223</td>\n",
       "      <td>-0.465210</td>\n",
       "      <td>-0.353977</td>\n",
       "      <td>-0.304257</td>\n",
       "      <td>-0.240708</td>\n",
       "      <td>-0.318797</td>\n",
       "      <td>-0.352968</td>\n",
       "      <td>...</td>\n",
       "      <td>-0.323019</td>\n",
       "      <td>-0.205212</td>\n",
       "      <td>-0.079531</td>\n",
       "      <td>-0.118688</td>\n",
       "      <td>-0.151911</td>\n",
       "      <td>0.930461</td>\n",
       "      <td>-0.028751</td>\n",
       "      <td>-0.113133</td>\n",
       "      <td>-0.128592</td>\n",
       "      <td>0</td>\n",
       "    </tr>\n",
       "  </tbody>\n",
       "</table>\n",
       "<p>5 rows × 54 columns</p>\n",
       "</div>"
      ],
      "text/plain": [
       "   Freq_Of_Word_1  Freq_Of_Word_2  Freq_Of_Word_3  Freq_Of_Word_4  \\\n",
       "0       -0.351864        2.620660        1.253645       -0.039223   \n",
       "1       -0.351864       -0.318036       -0.561952       -0.039223   \n",
       "2       -0.351864       -0.318036       -0.561952       -0.039223   \n",
       "3        1.210190        2.682528        1.291868       -0.039223   \n",
       "4       -0.351864       -0.318036       -0.561952       -0.039223   \n",
       "\n",
       "   Freq_Of_Word_5  Freq_Of_Word_6  Freq_Of_Word_7  Freq_Of_Word_8  \\\n",
       "0       -0.465210       -0.353977       -0.304257       -0.240708   \n",
       "1       -0.465210       -0.353977       -0.304257        3.837751   \n",
       "2       -0.465210       -0.353977       -0.304257       -0.240708   \n",
       "3        0.221744       -0.353977       -0.304257        0.859101   \n",
       "4       -0.465210       -0.353977       -0.304257       -0.240708   \n",
       "\n",
       "   Freq_Of_Word_9  Freq_Of_Word_10  ...  Freq_Of_Word_45  Freq_Of_Word_46  \\\n",
       "0       -0.318797        -0.352968  ...        -0.323019        -0.205212   \n",
       "1       -0.318797        -0.352968  ...        -0.323019        -0.205212   \n",
       "2       -0.318797        -0.352968  ...        -0.323019        -0.205212   \n",
       "3       -0.318797         2.374782  ...        -0.323019        -0.205212   \n",
       "4       -0.318797        -0.352968  ...        -0.323019        -0.205212   \n",
       "\n",
       "   Freq_Of_Word_47  Freq_Of_Word_48  Freq_Of_Word_49  Freq_Of_Word_50  \\\n",
       "0        -0.079531        -0.118688         0.079303         0.157385   \n",
       "1        -0.079531        -0.118688        -0.151911        -0.453742   \n",
       "2        -0.079531        -0.118688        -0.151911        -0.453742   \n",
       "3        -0.079531        -0.118688        -0.151911         0.340723   \n",
       "4        -0.079531        -0.118688        -0.151911         0.930461   \n",
       "\n",
       "   TotalEmojiCharacters  LengthOFFirstParagraph  StylizedLetters  IsGoodNews  \n",
       "0             -0.028751               -0.046474         0.222453           1  \n",
       "1             -0.107383               -0.195476        -0.408024           0  \n",
       "2             -0.107383               -0.187634        -0.392578           0  \n",
       "3              1.334201                2.270899         0.602985           1  \n",
       "4             -0.028751               -0.113133        -0.128592           0  \n",
       "\n",
       "[5 rows x 54 columns]"
      ]
     },
     "execution_count": 2,
     "metadata": {},
     "output_type": "execute_result"
    }
   ],
   "source": [
    "train = pd.read_csv('Train.csv')\n",
    "train.head()"
   ]
  },
  {
   "cell_type": "code",
   "execution_count": 3,
   "metadata": {},
   "outputs": [
    {
     "data": {
      "text/html": [
       "<div>\n",
       "<style scoped>\n",
       "    .dataframe tbody tr th:only-of-type {\n",
       "        vertical-align: middle;\n",
       "    }\n",
       "\n",
       "    .dataframe tbody tr th {\n",
       "        vertical-align: top;\n",
       "    }\n",
       "\n",
       "    .dataframe thead th {\n",
       "        text-align: right;\n",
       "    }\n",
       "</style>\n",
       "<table border=\"1\" class=\"dataframe\">\n",
       "  <thead>\n",
       "    <tr style=\"text-align: right;\">\n",
       "      <th></th>\n",
       "      <th>Freq_Of_Word_1</th>\n",
       "      <th>Freq_Of_Word_2</th>\n",
       "      <th>Freq_Of_Word_3</th>\n",
       "      <th>Freq_Of_Word_4</th>\n",
       "      <th>Freq_Of_Word_5</th>\n",
       "      <th>Freq_Of_Word_6</th>\n",
       "      <th>Freq_Of_Word_7</th>\n",
       "      <th>Freq_Of_Word_8</th>\n",
       "      <th>Freq_Of_Word_9</th>\n",
       "      <th>Freq_Of_Word_10</th>\n",
       "      <th>...</th>\n",
       "      <th>Freq_Of_Word_44</th>\n",
       "      <th>Freq_Of_Word_45</th>\n",
       "      <th>Freq_Of_Word_46</th>\n",
       "      <th>Freq_Of_Word_47</th>\n",
       "      <th>Freq_Of_Word_48</th>\n",
       "      <th>Freq_Of_Word_49</th>\n",
       "      <th>Freq_Of_Word_50</th>\n",
       "      <th>TotalEmojiCharacters</th>\n",
       "      <th>LengthOFFirstParagraph</th>\n",
       "      <th>StylizedLetters</th>\n",
       "    </tr>\n",
       "  </thead>\n",
       "  <tbody>\n",
       "    <tr>\n",
       "      <th>0</th>\n",
       "      <td>-0.351864</td>\n",
       "      <td>-0.318036</td>\n",
       "      <td>-0.561952</td>\n",
       "      <td>-0.039223</td>\n",
       "      <td>-0.465210</td>\n",
       "      <td>-0.353977</td>\n",
       "      <td>-0.304257</td>\n",
       "      <td>-0.240708</td>\n",
       "      <td>-0.318797</td>\n",
       "      <td>-0.352968</td>\n",
       "      <td>...</td>\n",
       "      <td>-0.120401</td>\n",
       "      <td>-0.323019</td>\n",
       "      <td>1.284346</td>\n",
       "      <td>-0.079531</td>\n",
       "      <td>-0.118688</td>\n",
       "      <td>-0.151911</td>\n",
       "      <td>-0.453742</td>\n",
       "      <td>-0.002540</td>\n",
       "      <td>-0.007263</td>\n",
       "      <td>-0.283052</td>\n",
       "    </tr>\n",
       "    <tr>\n",
       "      <th>1</th>\n",
       "      <td>-0.351864</td>\n",
       "      <td>-0.318036</td>\n",
       "      <td>-0.561952</td>\n",
       "      <td>-0.039223</td>\n",
       "      <td>0.007071</td>\n",
       "      <td>-0.353977</td>\n",
       "      <td>-0.304257</td>\n",
       "      <td>-0.240708</td>\n",
       "      <td>-0.318797</td>\n",
       "      <td>0.570271</td>\n",
       "      <td>...</td>\n",
       "      <td>0.291256</td>\n",
       "      <td>-0.323019</td>\n",
       "      <td>-0.205212</td>\n",
       "      <td>-0.079531</td>\n",
       "      <td>-0.118688</td>\n",
       "      <td>1.070723</td>\n",
       "      <td>1.147411</td>\n",
       "      <td>-0.054961</td>\n",
       "      <td>-0.148423</td>\n",
       "      <td>0.049739</td>\n",
       "    </tr>\n",
       "    <tr>\n",
       "      <th>2</th>\n",
       "      <td>0.006107</td>\n",
       "      <td>-0.318036</td>\n",
       "      <td>-0.351725</td>\n",
       "      <td>-0.039223</td>\n",
       "      <td>-0.307783</td>\n",
       "      <td>0.027319</td>\n",
       "      <td>-0.304257</td>\n",
       "      <td>-0.240708</td>\n",
       "      <td>3.430188</td>\n",
       "      <td>-0.352968</td>\n",
       "      <td>...</td>\n",
       "      <td>-0.120401</td>\n",
       "      <td>-0.323019</td>\n",
       "      <td>-0.205212</td>\n",
       "      <td>-0.079531</td>\n",
       "      <td>-0.118688</td>\n",
       "      <td>0.121342</td>\n",
       "      <td>0.068771</td>\n",
       "      <td>-0.054961</td>\n",
       "      <td>-0.062158</td>\n",
       "      <td>0.322149</td>\n",
       "    </tr>\n",
       "    <tr>\n",
       "      <th>3</th>\n",
       "      <td>-0.351864</td>\n",
       "      <td>-0.318036</td>\n",
       "      <td>-0.561952</td>\n",
       "      <td>-0.039223</td>\n",
       "      <td>-0.465210</td>\n",
       "      <td>-0.353977</td>\n",
       "      <td>2.089042</td>\n",
       "      <td>-0.240708</td>\n",
       "      <td>-0.318797</td>\n",
       "      <td>-0.352968</td>\n",
       "      <td>...</td>\n",
       "      <td>-0.120401</td>\n",
       "      <td>-0.323019</td>\n",
       "      <td>-0.205212</td>\n",
       "      <td>-0.079531</td>\n",
       "      <td>-0.118688</td>\n",
       "      <td>0.065290</td>\n",
       "      <td>0.304055</td>\n",
       "      <td>-0.054961</td>\n",
       "      <td>0.008422</td>\n",
       "      <td>-0.204418</td>\n",
       "    </tr>\n",
       "    <tr>\n",
       "      <th>4</th>\n",
       "      <td>0.624420</td>\n",
       "      <td>0.609973</td>\n",
       "      <td>-0.561952</td>\n",
       "      <td>-0.039223</td>\n",
       "      <td>0.393482</td>\n",
       "      <td>0.685920</td>\n",
       "      <td>-0.304257</td>\n",
       "      <td>1.134053</td>\n",
       "      <td>-0.318797</td>\n",
       "      <td>-0.352968</td>\n",
       "      <td>...</td>\n",
       "      <td>-0.120401</td>\n",
       "      <td>-0.323019</td>\n",
       "      <td>-0.205212</td>\n",
       "      <td>-0.079531</td>\n",
       "      <td>-0.118688</td>\n",
       "      <td>-0.151911</td>\n",
       "      <td>-0.453742</td>\n",
       "      <td>-0.107383</td>\n",
       "      <td>-0.191555</td>\n",
       "      <td>-0.313944</td>\n",
       "    </tr>\n",
       "  </tbody>\n",
       "</table>\n",
       "<p>5 rows × 53 columns</p>\n",
       "</div>"
      ],
      "text/plain": [
       "   Freq_Of_Word_1  Freq_Of_Word_2  Freq_Of_Word_3  Freq_Of_Word_4  \\\n",
       "0       -0.351864       -0.318036       -0.561952       -0.039223   \n",
       "1       -0.351864       -0.318036       -0.561952       -0.039223   \n",
       "2        0.006107       -0.318036       -0.351725       -0.039223   \n",
       "3       -0.351864       -0.318036       -0.561952       -0.039223   \n",
       "4        0.624420        0.609973       -0.561952       -0.039223   \n",
       "\n",
       "   Freq_Of_Word_5  Freq_Of_Word_6  Freq_Of_Word_7  Freq_Of_Word_8  \\\n",
       "0       -0.465210       -0.353977       -0.304257       -0.240708   \n",
       "1        0.007071       -0.353977       -0.304257       -0.240708   \n",
       "2       -0.307783        0.027319       -0.304257       -0.240708   \n",
       "3       -0.465210       -0.353977        2.089042       -0.240708   \n",
       "4        0.393482        0.685920       -0.304257        1.134053   \n",
       "\n",
       "   Freq_Of_Word_9  Freq_Of_Word_10  ...  Freq_Of_Word_44  Freq_Of_Word_45  \\\n",
       "0       -0.318797        -0.352968  ...        -0.120401        -0.323019   \n",
       "1       -0.318797         0.570271  ...         0.291256        -0.323019   \n",
       "2        3.430188        -0.352968  ...        -0.120401        -0.323019   \n",
       "3       -0.318797        -0.352968  ...        -0.120401        -0.323019   \n",
       "4       -0.318797        -0.352968  ...        -0.120401        -0.323019   \n",
       "\n",
       "   Freq_Of_Word_46  Freq_Of_Word_47  Freq_Of_Word_48  Freq_Of_Word_49  \\\n",
       "0         1.284346        -0.079531        -0.118688        -0.151911   \n",
       "1        -0.205212        -0.079531        -0.118688         1.070723   \n",
       "2        -0.205212        -0.079531        -0.118688         0.121342   \n",
       "3        -0.205212        -0.079531        -0.118688         0.065290   \n",
       "4        -0.205212        -0.079531        -0.118688        -0.151911   \n",
       "\n",
       "   Freq_Of_Word_50  TotalEmojiCharacters  LengthOFFirstParagraph  \\\n",
       "0        -0.453742             -0.002540               -0.007263   \n",
       "1         1.147411             -0.054961               -0.148423   \n",
       "2         0.068771             -0.054961               -0.062158   \n",
       "3         0.304055             -0.054961                0.008422   \n",
       "4        -0.453742             -0.107383               -0.191555   \n",
       "\n",
       "   StylizedLetters  \n",
       "0        -0.283052  \n",
       "1         0.049739  \n",
       "2         0.322149  \n",
       "3        -0.204418  \n",
       "4        -0.313944  \n",
       "\n",
       "[5 rows x 53 columns]"
      ]
     },
     "execution_count": 3,
     "metadata": {},
     "output_type": "execute_result"
    }
   ],
   "source": [
    "test = pd.read_csv('Test.csv')\n",
    "test.head()"
   ]
  },
  {
   "cell_type": "code",
   "execution_count": 4,
   "metadata": {},
   "outputs": [
    {
     "name": "stdout",
     "output_type": "stream",
     "text": [
      "(947, 54)\n",
      "(527, 53)\n"
     ]
    }
   ],
   "source": [
    "print(train.shape)\n",
    "print(test.shape)"
   ]
  },
  {
   "cell_type": "code",
   "execution_count": 5,
   "metadata": {},
   "outputs": [
    {
     "name": "stdout",
     "output_type": "stream",
     "text": [
      "<class 'pandas.core.frame.DataFrame'>\n",
      "RangeIndex: 947 entries, 0 to 946\n",
      "Data columns (total 54 columns):\n",
      "Freq_Of_Word_1            947 non-null float64\n",
      "Freq_Of_Word_2            947 non-null float64\n",
      "Freq_Of_Word_3            947 non-null float64\n",
      "Freq_Of_Word_4            947 non-null float64\n",
      "Freq_Of_Word_5            947 non-null float64\n",
      "Freq_Of_Word_6            947 non-null float64\n",
      "Freq_Of_Word_7            947 non-null float64\n",
      "Freq_Of_Word_8            947 non-null float64\n",
      "Freq_Of_Word_9            947 non-null float64\n",
      "Freq_Of_Word_10           947 non-null float64\n",
      "Freq_Of_Word_11           947 non-null float64\n",
      "Freq_Of_Word_12           947 non-null float64\n",
      "Freq_Of_Word_13           947 non-null float64\n",
      "Freq_Of_Word_14           947 non-null float64\n",
      "Freq_Of_Word_15           947 non-null float64\n",
      "Freq_Of_Word_16           947 non-null float64\n",
      "Freq_Of_Word_17           947 non-null float64\n",
      "Freq_Of_Word_18           947 non-null float64\n",
      "Freq_Of_Word_19           947 non-null float64\n",
      "Freq_Of_Word_20           947 non-null float64\n",
      "Freq_Of_Word_21           947 non-null float64\n",
      "Freq_Of_Word_22           947 non-null float64\n",
      "Freq_Of_Word_23           947 non-null float64\n",
      "Freq_Of_Word_24           947 non-null float64\n",
      "Freq_Of_Word_25           947 non-null float64\n",
      "Freq_Of_Word_26           947 non-null float64\n",
      "Freq_Of_Word_27           947 non-null float64\n",
      "Freq_Of_Word_28           947 non-null float64\n",
      "Freq_Of_Word_29           947 non-null float64\n",
      "Freq_Of_Word_30           947 non-null float64\n",
      "Freq_Of_Word_31           947 non-null float64\n",
      "Freq_Of_Word_32           947 non-null float64\n",
      "Freq_Of_Word_33           947 non-null float64\n",
      "Freq_Of_Word_34           947 non-null float64\n",
      "Freq_Of_Word_35           947 non-null float64\n",
      "Freq_Of_Word_36           947 non-null float64\n",
      "Freq_Of_Word_37           947 non-null float64\n",
      "Freq_Of_Word_38           947 non-null float64\n",
      "Freq_Of_Word_39           947 non-null float64\n",
      "Freq_Of_Word_40           947 non-null float64\n",
      "Freq_Of_Word_41           947 non-null float64\n",
      "Freq_Of_Word_42           947 non-null float64\n",
      "Freq_Of_Word_43           947 non-null float64\n",
      "Freq_Of_Word_44           947 non-null float64\n",
      "Freq_Of_Word_45           947 non-null float64\n",
      "Freq_Of_Word_46           947 non-null float64\n",
      "Freq_Of_Word_47           947 non-null float64\n",
      "Freq_Of_Word_48           947 non-null float64\n",
      "Freq_Of_Word_49           947 non-null float64\n",
      "Freq_Of_Word_50           947 non-null float64\n",
      "TotalEmojiCharacters      947 non-null float64\n",
      "LengthOFFirstParagraph    947 non-null float64\n",
      "StylizedLetters           947 non-null float64\n",
      "IsGoodNews                947 non-null int64\n",
      "dtypes: float64(53), int64(1)\n",
      "memory usage: 399.6 KB\n"
     ]
    }
   ],
   "source": [
    "train.info()"
   ]
  },
  {
   "cell_type": "code",
   "execution_count": 6,
   "metadata": {},
   "outputs": [
    {
     "name": "stdout",
     "output_type": "stream",
     "text": [
      "<class 'pandas.core.frame.DataFrame'>\n",
      "RangeIndex: 527 entries, 0 to 526\n",
      "Data columns (total 53 columns):\n",
      "Freq_Of_Word_1            527 non-null float64\n",
      "Freq_Of_Word_2            527 non-null float64\n",
      "Freq_Of_Word_3            527 non-null float64\n",
      "Freq_Of_Word_4            527 non-null float64\n",
      "Freq_Of_Word_5            527 non-null float64\n",
      "Freq_Of_Word_6            527 non-null float64\n",
      "Freq_Of_Word_7            527 non-null float64\n",
      "Freq_Of_Word_8            527 non-null float64\n",
      "Freq_Of_Word_9            527 non-null float64\n",
      "Freq_Of_Word_10           527 non-null float64\n",
      "Freq_Of_Word_11           527 non-null float64\n",
      "Freq_Of_Word_12           527 non-null float64\n",
      "Freq_Of_Word_13           527 non-null float64\n",
      "Freq_Of_Word_14           527 non-null float64\n",
      "Freq_Of_Word_15           527 non-null float64\n",
      "Freq_Of_Word_16           527 non-null float64\n",
      "Freq_Of_Word_17           527 non-null float64\n",
      "Freq_Of_Word_18           527 non-null float64\n",
      "Freq_Of_Word_19           527 non-null float64\n",
      "Freq_Of_Word_20           527 non-null float64\n",
      "Freq_Of_Word_21           527 non-null float64\n",
      "Freq_Of_Word_22           527 non-null float64\n",
      "Freq_Of_Word_23           527 non-null float64\n",
      "Freq_Of_Word_24           527 non-null float64\n",
      "Freq_Of_Word_25           527 non-null float64\n",
      "Freq_Of_Word_26           527 non-null float64\n",
      "Freq_Of_Word_27           527 non-null float64\n",
      "Freq_Of_Word_28           527 non-null float64\n",
      "Freq_Of_Word_29           527 non-null float64\n",
      "Freq_Of_Word_30           527 non-null float64\n",
      "Freq_Of_Word_31           527 non-null float64\n",
      "Freq_Of_Word_32           527 non-null float64\n",
      "Freq_Of_Word_33           527 non-null float64\n",
      "Freq_Of_Word_34           527 non-null float64\n",
      "Freq_Of_Word_35           527 non-null float64\n",
      "Freq_Of_Word_36           527 non-null float64\n",
      "Freq_Of_Word_37           527 non-null float64\n",
      "Freq_Of_Word_38           527 non-null float64\n",
      "Freq_Of_Word_39           527 non-null float64\n",
      "Freq_Of_Word_40           527 non-null float64\n",
      "Freq_Of_Word_41           527 non-null float64\n",
      "Freq_Of_Word_42           527 non-null float64\n",
      "Freq_Of_Word_43           527 non-null float64\n",
      "Freq_Of_Word_44           527 non-null float64\n",
      "Freq_Of_Word_45           527 non-null float64\n",
      "Freq_Of_Word_46           527 non-null float64\n",
      "Freq_Of_Word_47           527 non-null float64\n",
      "Freq_Of_Word_48           527 non-null float64\n",
      "Freq_Of_Word_49           527 non-null float64\n",
      "Freq_Of_Word_50           527 non-null float64\n",
      "TotalEmojiCharacters      527 non-null float64\n",
      "LengthOFFirstParagraph    527 non-null float64\n",
      "StylizedLetters           527 non-null float64\n",
      "dtypes: float64(53)\n",
      "memory usage: 218.3 KB\n"
     ]
    }
   ],
   "source": [
    "test.info()"
   ]
  },
  {
   "cell_type": "code",
   "execution_count": 7,
   "metadata": {},
   "outputs": [],
   "source": [
    "newtrain = train.copy()"
   ]
  },
  {
   "cell_type": "code",
   "execution_count": 8,
   "metadata": {},
   "outputs": [],
   "source": [
    "x = newtrain.drop('IsGoodNews', axis = 1).values\n",
    "y = newtrain['IsGoodNews'].values"
   ]
  },
  {
   "cell_type": "code",
   "execution_count": 9,
   "metadata": {},
   "outputs": [],
   "source": [
    "from tensorflow.keras.models import Sequential\n",
    "from tensorflow.keras.layers import Dense, Dropout"
   ]
  },
  {
   "cell_type": "code",
   "execution_count": 10,
   "metadata": {},
   "outputs": [],
   "source": [
    "from sklearn.model_selection import train_test_split\n",
    "\n",
    "x_train, x_test, y_train, y_test = train_test_split(x, y, test_size = 0.3, random_state = 1)"
   ]
  },
  {
   "cell_type": "code",
   "execution_count": 11,
   "metadata": {},
   "outputs": [],
   "source": [
    "from sklearn.preprocessing import MinMaxScaler\n",
    "\n",
    "scaler = MinMaxScaler()"
   ]
  },
  {
   "cell_type": "code",
   "execution_count": 12,
   "metadata": {},
   "outputs": [],
   "source": [
    "x_train = scaler.fit_transform(x_train)\n",
    "x_test = scaler.transform(x_test)"
   ]
  },
  {
   "cell_type": "code",
   "execution_count": 13,
   "metadata": {},
   "outputs": [],
   "source": [
    "from tensorflow.keras.callbacks import EarlyStopping"
   ]
  },
  {
   "cell_type": "code",
   "execution_count": 14,
   "metadata": {},
   "outputs": [],
   "source": [
    "model = Sequential()\n",
    "\n",
    "model.add(Dense(units = 53, activation = 'relu'))\n",
    "##model.add(Dropout(0.5))\n",
    "\n",
    "model.add(Dense(units = 26, activation = 'relu'))\n",
    "##model.add(Dropout(0.5))\n",
    "\n",
    "model.add(Dense(units = 12, activation = 'relu'))\n",
    "##model.add(Dropout(0.5))\n",
    "\n",
    "model.add(Dense(units = 6, activation = 'relu'))\n",
    "##model.add(Dropout(0.5))\n",
    "\n",
    "model.add(Dense(units = 3, activation = 'relu'))\n",
    "##model.add(Dropout(0.5))\n",
    "\n",
    "model.add(Dense(units = 1, activation = 'sigmoid'))\n",
    "\n",
    "model.compile(loss = 'binary_crossentropy', optimizer = 'adam')"
   ]
  },
  {
   "cell_type": "code",
   "execution_count": 15,
   "metadata": {},
   "outputs": [],
   "source": [
    "early_stop = EarlyStopping(monitor= 'val_loss', mode ='min', verbose = 1, patience= 1)"
   ]
  },
  {
   "cell_type": "code",
   "execution_count": 16,
   "metadata": {},
   "outputs": [
    {
     "name": "stdout",
     "output_type": "stream",
     "text": [
      "Train on 662 samples, validate on 285 samples\n",
      "Epoch 1/125\n",
      "662/662 [==============================] - 1s 2ms/sample - loss: 0.6738 - val_loss: 0.6558\n",
      "Epoch 2/125\n",
      "662/662 [==============================] - 0s 102us/sample - loss: 0.6310 - val_loss: 0.5996\n",
      "Epoch 3/125\n",
      "662/662 [==============================] - 0s 91us/sample - loss: 0.5565 - val_loss: 0.4988\n",
      "Epoch 4/125\n",
      "662/662 [==============================] - 0s 91us/sample - loss: 0.4463 - val_loss: 0.3713\n",
      "Epoch 5/125\n",
      "662/662 [==============================] - 0s 91us/sample - loss: 0.3264 - val_loss: 0.2658\n",
      "Epoch 6/125\n",
      "662/662 [==============================] - 0s 83us/sample - loss: 0.2529 - val_loss: 0.2216\n",
      "Epoch 7/125\n",
      "662/662 [==============================] - 0s 85us/sample - loss: 0.2208 - val_loss: 0.2178\n",
      "Epoch 8/125\n",
      "662/662 [==============================] - 0s 91us/sample - loss: 0.2042 - val_loss: 0.2144\n",
      "Epoch 9/125\n",
      "662/662 [==============================] - 0s 91us/sample - loss: 0.1930 - val_loss: 0.2218\n",
      "Epoch 00009: early stopping\n"
     ]
    },
    {
     "data": {
      "text/plain": [
       "<tensorflow.python.keras.callbacks.History at 0x14163200e80>"
      ]
     },
     "execution_count": 16,
     "metadata": {},
     "output_type": "execute_result"
    }
   ],
   "source": [
    "model.fit(x_train, y_train, epochs= 125, validation_data= (x_test, y_test), verbose= 1, callbacks= [early_stop])"
   ]
  },
  {
   "cell_type": "code",
   "execution_count": 17,
   "metadata": {},
   "outputs": [
    {
     "data": {
      "text/plain": [
       "<matplotlib.axes._subplots.AxesSubplot at 0x14164c11b38>"
      ]
     },
     "execution_count": 17,
     "metadata": {},
     "output_type": "execute_result"
    },
    {
     "data": {
      "image/png": "[encoded data removed]",
      "text/plain": [
       "<Figure size 432x288 with 1 Axes>"
      ]
     },
     "metadata": {
      "needs_background": "light"
     },
     "output_type": "display_data"
    }
   ],
   "source": [
    "model_loss = pd.DataFrame(model.history.history)\n",
    "model_loss.plot()"
   ]
  },
  {
   "cell_type": "code",
   "execution_count": 18,
   "metadata": {},
   "outputs": [],
   "source": [
    "y_pred = model.predict_classes(x_test)"
   ]
  },
  {
   "cell_type": "code",
   "execution_count": 19,
   "metadata": {},
   "outputs": [
    {
     "name": "stdout",
     "output_type": "stream",
     "text": [
      "              precision    recall  f1-score   support\n",
      "\n",
      "           0       0.89      0.98      0.93       174\n",
      "           1       0.96      0.80      0.87       111\n",
      "\n",
      "    accuracy                           0.91       285\n",
      "   macro avg       0.92      0.89      0.90       285\n",
      "weighted avg       0.91      0.91      0.91       285\n",
      "\n",
      "0.9087719298245615\n"
     ]
    }
   ],
   "source": [
    "from sklearn.metrics import confusion_matrix, classification_report, accuracy_score\n",
    "\n",
    "print(classification_report(y_test, y_pred))\n",
    "\n",
    "print(accuracy_score(y_test, y_pred))"
   ]
  },
  {
   "cell_type": "code",
   "execution_count": 20,
   "metadata": {},
   "outputs": [
    {
     "data": {
      "text/plain": [
       "(1474, 54)"
      ]
     },
     "execution_count": 20,
     "metadata": {},
     "output_type": "execute_result"
    }
   ],
   "source": [
    "df = pd.concat([train, test], ignore_index= True, sort= False)\n",
    "df.shape"
   ]
  },
  {
   "cell_type": "code",
   "execution_count": 21,
   "metadata": {},
   "outputs": [],
   "source": [
    "newtrain = df.loc[0:946, :]\n",
    "newtest = df.loc[947: , :]"
   ]
  },
  {
   "cell_type": "code",
   "execution_count": 22,
   "metadata": {},
   "outputs": [
    {
     "data": {
      "text/plain": [
       "(947, 54)"
      ]
     },
     "execution_count": 22,
     "metadata": {},
     "output_type": "execute_result"
    }
   ],
   "source": [
    "newtrain.shape"
   ]
  },
  {
   "cell_type": "code",
   "execution_count": 23,
   "metadata": {},
   "outputs": [
    {
     "data": {
      "text/plain": [
       "(527, 54)"
      ]
     },
     "execution_count": 23,
     "metadata": {},
     "output_type": "execute_result"
    }
   ],
   "source": [
    "newtest.shape"
   ]
  },
  {
   "cell_type": "code",
   "execution_count": 24,
   "metadata": {},
   "outputs": [],
   "source": [
    "x = newtrain.drop('IsGoodNews', axis = 1)\n",
    "y = newtrain['IsGoodNews']"
   ]
  },
  {
   "cell_type": "code",
   "execution_count": 25,
   "metadata": {},
   "outputs": [
    {
     "name": "stdout",
     "output_type": "stream",
     "text": [
      "(662, 53)\n",
      "(285, 53)\n",
      "(662,)\n",
      "(285,)\n"
     ]
    }
   ],
   "source": [
    "from sklearn.model_selection import train_test_split\n",
    "x_train, x_test, y_train, y_test = train_test_split(x, y, test_size = 0.3, random_state = 1)\n",
    "print(x_train.shape)\n",
    "print(x_test.shape)\n",
    "print(y_train.shape)\n",
    "print(y_test.shape)"
   ]
  },
  {
   "cell_type": "code",
   "execution_count": 26,
   "metadata": {},
   "outputs": [],
   "source": [
    "from sklearn.preprocessing import StandardScaler\n",
    "sc = StandardScaler()\n",
    "\n",
    "x_train = sc.fit_transform(x_train)\n",
    "x_test = sc.transform(x_test)"
   ]
  },
  {
   "cell_type": "code",
   "execution_count": 27,
   "metadata": {},
   "outputs": [
    {
     "data": {
      "text/plain": [
       "LogisticRegression(C=1.0, class_weight=None, dual=False, fit_intercept=True,\n",
       "                   intercept_scaling=1, l1_ratio=None, max_iter=100,\n",
       "                   multi_class='auto', n_jobs=None, penalty='l2',\n",
       "                   random_state=None, solver='lbfgs', tol=0.0001, verbose=0,\n",
       "                   warm_start=False)"
      ]
     },
     "execution_count": 27,
     "metadata": {},
     "output_type": "execute_result"
    }
   ],
   "source": [
    "from sklearn.linear_model import LogisticRegression\n",
    "lor = LogisticRegression()\n",
    "\n",
    "lor.fit(x_train, y_train)"
   ]
  },
  {
   "cell_type": "code",
   "execution_count": 28,
   "metadata": {},
   "outputs": [
    {
     "name": "stdout",
     "output_type": "stream",
     "text": [
      "0.9350453172205438\n",
      "0.8982456140350877\n"
     ]
    }
   ],
   "source": [
    "print(lor.score(x_train, y_train))\n",
    "print(lor.score(x_test, y_test))"
   ]
  },
  {
   "cell_type": "code",
   "execution_count": 29,
   "metadata": {},
   "outputs": [],
   "source": [
    "test_no_1 = newtest.drop('IsGoodNews', axis = 1)"
   ]
  },
  {
   "cell_type": "code",
   "execution_count": 30,
   "metadata": {},
   "outputs": [],
   "source": [
    "test_pred = lor.predict(test_no_1)\n",
    "\n",
    "submission_1 = pd.DataFrame({'IsGoodNews': test_pred})"
   ]
  },
  {
   "cell_type": "code",
   "execution_count": 32,
   "metadata": {},
   "outputs": [],
   "source": [
    "submission_1.to_excel('Submission_1.xlsx', index = False)"
   ]
  },
  {
   "cell_type": "code",
   "execution_count": 33,
   "metadata": {},
   "outputs": [
    {
     "name": "stdout",
     "output_type": "stream",
     "text": [
      "0.8982456140350877\n",
      "              precision    recall  f1-score   support\n",
      "\n",
      "         0.0       0.89      0.95      0.92       174\n",
      "         1.0       0.91      0.82      0.86       111\n",
      "\n",
      "    accuracy                           0.90       285\n",
      "   macro avg       0.90      0.88      0.89       285\n",
      "weighted avg       0.90      0.90      0.90       285\n",
      "\n"
     ]
    }
   ],
   "source": [
    "y_pred = lor.predict(x_test)\n",
    "\n",
    "from sklearn.metrics import confusion_matrix, accuracy_score, classification_report, cohen_kappa_score, mean_squared_error\n",
    "\n",
    "print(accuracy_score(y_test, y_pred))\n",
    "\n",
    "print(classification_report(y_test, y_pred))"
   ]
  },
  {
   "cell_type": "code",
   "execution_count": 34,
   "metadata": {},
   "outputs": [
    {
     "name": "stdout",
     "output_type": "stream",
     "text": [
      "0.78212732305259\n"
     ]
    }
   ],
   "source": [
    "print(cohen_kappa_score(y_test, y_pred))"
   ]
  },
  {
   "cell_type": "code",
   "execution_count": 35,
   "metadata": {},
   "outputs": [
    {
     "name": "stdout",
     "output_type": "stream",
     "text": [
      "0.10175438596491228\n",
      "0.31898963300538824\n"
     ]
    }
   ],
   "source": [
    "print(mean_squared_error(y_test, y_pred))\n",
    "\n",
    "print(np.sqrt(mean_squared_error(y_test, y_pred)))"
   ]
  },
  {
   "cell_type": "code",
   "execution_count": 36,
   "metadata": {},
   "outputs": [
    {
     "name": "stdout",
     "output_type": "stream",
     "text": [
      "0.9984894259818731\n",
      "0.8421052631578947\n"
     ]
    },
    {
     "data": {
      "text/plain": [
       "0.39735970711951313"
      ]
     },
     "execution_count": 36,
     "metadata": {},
     "output_type": "execute_result"
    }
   ],
   "source": [
    "from sklearn.tree import DecisionTreeClassifier\n",
    "dtree = DecisionTreeClassifier()\n",
    "dtree.fit(x_train, y_train)\n",
    "\n",
    "y_pred = dtree.predict(x_test)\n",
    "\n",
    "print(dtree.score(x_train, y_train))\n",
    "print(dtree.score(x_test, y_test))\n",
    "\n",
    "rmse = np.sqrt(mean_squared_error(y_test, y_pred))\n",
    "rmse"
   ]
  },
  {
   "cell_type": "code",
   "execution_count": 37,
   "metadata": {},
   "outputs": [],
   "source": [
    "from sklearn.tree import DecisionTreeClassifier\n",
    "dtree = DecisionTreeClassifier()\n",
    "dtree.fit(x_train, y_train)\n",
    "\n",
    "test_no_1 = newtest.drop('IsGoodNews', axis = 1)\n",
    "\n",
    "test_pred = lor.predict(test_no_1)\n",
    "\n",
    "submission_1 = pd.DataFrame({'IsGoodNews': test_pred})"
   ]
  },
  {
   "cell_type": "code",
   "execution_count": 38,
   "metadata": {},
   "outputs": [],
   "source": [
    "submission_1.to_excel('Submission_1.xlsx', index = False)"
   ]
  },
  {
   "cell_type": "code",
   "execution_count": 39,
   "metadata": {},
   "outputs": [
    {
     "name": "stdout",
     "output_type": "stream",
     "text": [
      "Fitting 3 folds for each of 100 candidates, totalling 300 fits\n",
      "[CV] n_estimators=1, min_samples_split=7, min_samples_leaf=1, max_features=sqrt, max_depth=5 \n",
      "[CV]  n_estimators=1, min_samples_split=7, min_samples_leaf=1, max_features=sqrt, max_depth=5, total=   0.0s\n",
      "[CV] n_estimators=1, min_samples_split=7, min_samples_leaf=1, max_features=sqrt, max_depth=5 \n",
      "[CV]  n_estimators=1, min_samples_split=7, min_samples_leaf=1, max_features=sqrt, max_depth=5, total=   0.0s\n",
      "[CV] n_estimators=1, min_samples_split=7, min_samples_leaf=1, max_features=sqrt, max_depth=5 \n",
      "[CV]  n_estimators=1, min_samples_split=7, min_samples_leaf=1, max_features=sqrt, max_depth=5, total=   0.0s\n",
      "[CV] n_estimators=1, min_samples_split=4, min_samples_leaf=2, max_features=auto, max_depth=5 \n",
      "[CV]  n_estimators=1, min_samples_split=4, min_samples_leaf=2, max_features=auto, max_depth=5, total=   0.0s\n",
      "[CV] n_estimators=1, min_samples_split=4, min_samples_leaf=2, max_features=auto, max_depth=5 \n",
      "[CV]  n_estimators=1, min_samples_split=4, min_samples_leaf=2, max_features=auto, max_depth=5, total=   0.0s\n",
      "[CV] n_estimators=1, min_samples_split=4, min_samples_leaf=2, max_features=auto, max_depth=5 \n",
      "[CV]  n_estimators=1, min_samples_split=4, min_samples_leaf=2, max_features=auto, max_depth=5, total=   0.0s\n",
      "[CV] n_estimators=1, min_samples_split=6, min_samples_leaf=5, max_features=auto, max_depth=15 \n",
      "[CV]  n_estimators=1, min_samples_split=6, min_samples_leaf=5, max_features=auto, max_depth=15, total=   0.0s\n",
      "[CV] n_estimators=1, min_samples_split=6, min_samples_leaf=5, max_features=auto, max_depth=15 \n",
      "[CV]  n_estimators=1, min_samples_split=6, min_samples_leaf=5, max_features=auto, max_depth=15, total=   0.0s\n",
      "[CV] n_estimators=1, min_samples_split=6, min_samples_leaf=5, max_features=auto, max_depth=15 \n",
      "[CV]  n_estimators=1, min_samples_split=6, min_samples_leaf=5, max_features=auto, max_depth=15, total=   0.0s\n",
      "[CV] n_estimators=1, min_samples_split=7, min_samples_leaf=2, max_features=sqrt, max_depth=15 \n",
      "[CV]  n_estimators=1, min_samples_split=7, min_samples_leaf=2, max_features=sqrt, max_depth=15, total=   0.0s\n",
      "[CV] n_estimators=1, min_samples_split=7, min_samples_leaf=2, max_features=sqrt, max_depth=15 \n",
      "[CV]  n_estimators=1, min_samples_split=7, min_samples_leaf=2, max_features=sqrt, max_depth=15, total=   0.0s\n",
      "[CV] n_estimators=1, min_samples_split=7, min_samples_leaf=2, max_features=sqrt, max_depth=15 \n",
      "[CV]  n_estimators=1, min_samples_split=7, min_samples_leaf=2, max_features=sqrt, max_depth=15, total=   0.0s\n",
      "[CV] n_estimators=1, min_samples_split=7, min_samples_leaf=1, max_features=sqrt, max_depth=15 \n",
      "[CV]  n_estimators=1, min_samples_split=7, min_samples_leaf=1, max_features=sqrt, max_depth=15, total=   0.0s\n",
      "[CV] n_estimators=1, min_samples_split=7, min_samples_leaf=1, max_features=sqrt, max_depth=15 \n",
      "[CV]  n_estimators=1, min_samples_split=7, min_samples_leaf=1, max_features=sqrt, max_depth=15, total=   0.0s\n",
      "[CV] n_estimators=1, min_samples_split=7, min_samples_leaf=1, max_features=sqrt, max_depth=15 \n",
      "[CV]  n_estimators=1, min_samples_split=7, min_samples_leaf=1, max_features=sqrt, max_depth=15, total=   0.0s\n",
      "[CV] n_estimators=1, min_samples_split=5, min_samples_leaf=5, max_features=auto, max_depth=25 \n",
      "[CV]  n_estimators=1, min_samples_split=5, min_samples_leaf=5, max_features=auto, max_depth=25, total=   0.0s\n",
      "[CV] n_estimators=1, min_samples_split=5, min_samples_leaf=5, max_features=auto, max_depth=25 \n",
      "[CV]  n_estimators=1, min_samples_split=5, min_samples_leaf=5, max_features=auto, max_depth=25, total=   0.0s\n",
      "[CV] n_estimators=1, min_samples_split=5, min_samples_leaf=5, max_features=auto, max_depth=25 \n",
      "[CV]  n_estimators=1, min_samples_split=5, min_samples_leaf=5, max_features=auto, max_depth=25, total=   0.0s\n",
      "[CV] n_estimators=1, min_samples_split=6, min_samples_leaf=5, max_features=sqrt, max_depth=30 \n",
      "[CV]  n_estimators=1, min_samples_split=6, min_samples_leaf=5, max_features=sqrt, max_depth=30, total=   0.0s\n",
      "[CV] n_estimators=1, min_samples_split=6, min_samples_leaf=5, max_features=sqrt, max_depth=30 \n",
      "[CV]  n_estimators=1, min_samples_split=6, min_samples_leaf=5, max_features=sqrt, max_depth=30, total=   0.0s\n",
      "[CV] n_estimators=1, min_samples_split=6, min_samples_leaf=5, max_features=sqrt, max_depth=30 \n",
      "[CV]  n_estimators=1, min_samples_split=6, min_samples_leaf=5, max_features=sqrt, max_depth=30, total=   0.0s\n",
      "[CV] n_estimators=1, min_samples_split=4, min_samples_leaf=2, max_features=auto, max_depth=15 \n",
      "[CV]  n_estimators=1, min_samples_split=4, min_samples_leaf=2, max_features=auto, max_depth=15, total=   0.0s\n",
      "[CV] n_estimators=1, min_samples_split=4, min_samples_leaf=2, max_features=auto, max_depth=15 \n",
      "[CV]  n_estimators=1, min_samples_split=4, min_samples_leaf=2, max_features=auto, max_depth=15, total=   0.0s\n",
      "[CV] n_estimators=1, min_samples_split=4, min_samples_leaf=2, max_features=auto, max_depth=15 \n",
      "[CV]  n_estimators=1, min_samples_split=4, min_samples_leaf=2, max_features=auto, max_depth=15, total=   0.0s\n",
      "[CV] n_estimators=1, min_samples_split=7, min_samples_leaf=2, max_features=auto, max_depth=5 \n",
      "[CV]  n_estimators=1, min_samples_split=7, min_samples_leaf=2, max_features=auto, max_depth=5, total=   0.0s\n",
      "[CV] n_estimators=1, min_samples_split=7, min_samples_leaf=2, max_features=auto, max_depth=5 \n",
      "[CV]  n_estimators=1, min_samples_split=7, min_samples_leaf=2, max_features=auto, max_depth=5, total=   0.0s\n",
      "[CV] n_estimators=1, min_samples_split=7, min_samples_leaf=2, max_features=auto, max_depth=5 \n",
      "[CV]  n_estimators=1, min_samples_split=7, min_samples_leaf=2, max_features=auto, max_depth=5, total=   0.0s\n",
      "[CV] n_estimators=1, min_samples_split=6, min_samples_leaf=1, max_features=sqrt, max_depth=20 \n",
      "[CV]  n_estimators=1, min_samples_split=6, min_samples_leaf=1, max_features=sqrt, max_depth=20, total=   0.0s\n",
      "[CV] n_estimators=1, min_samples_split=6, min_samples_leaf=1, max_features=sqrt, max_depth=20 \n",
      "[CV]  n_estimators=1, min_samples_split=6, min_samples_leaf=1, max_features=sqrt, max_depth=20, total=   0.0s\n",
      "[CV] n_estimators=1, min_samples_split=6, min_samples_leaf=1, max_features=sqrt, max_depth=20 \n",
      "[CV]  n_estimators=1, min_samples_split=6, min_samples_leaf=1, max_features=sqrt, max_depth=20, total=   0.0s\n",
      "[CV] n_estimators=1, min_samples_split=3, min_samples_leaf=2, max_features=auto, max_depth=10 \n",
      "[CV]  n_estimators=1, min_samples_split=3, min_samples_leaf=2, max_features=auto, max_depth=10, total=   0.0s\n",
      "[CV] n_estimators=1, min_samples_split=3, min_samples_leaf=2, max_features=auto, max_depth=10 \n",
      "[CV]  n_estimators=1, min_samples_split=3, min_samples_leaf=2, max_features=auto, max_depth=10, total=   0.0s\n",
      "[CV] n_estimators=1, min_samples_split=3, min_samples_leaf=2, max_features=auto, max_depth=10 \n"
     ]
    },
    {
     "name": "stderr",
     "output_type": "stream",
     "text": [
      "[Parallel(n_jobs=1)]: Using backend SequentialBackend with 1 concurrent workers.\n",
      "[Parallel(n_jobs=1)]: Done   1 out of   1 | elapsed:    0.0s remaining:    0.0s\n"
     ]
    },
    {
     "name": "stdout",
     "output_type": "stream",
     "text": [
      "[CV]  n_estimators=1, min_samples_split=3, min_samples_leaf=2, max_features=auto, max_depth=10, total=   0.0s\n",
      "[CV] n_estimators=1, min_samples_split=4, min_samples_leaf=2, max_features=auto, max_depth=30 \n",
      "[CV]  n_estimators=1, min_samples_split=4, min_samples_leaf=2, max_features=auto, max_depth=30, total=   0.0s\n",
      "[CV] n_estimators=1, min_samples_split=4, min_samples_leaf=2, max_features=auto, max_depth=30 \n",
      "[CV]  n_estimators=1, min_samples_split=4, min_samples_leaf=2, max_features=auto, max_depth=30, total=   0.0s\n",
      "[CV] n_estimators=1, min_samples_split=4, min_samples_leaf=2, max_features=auto, max_depth=30 \n",
      "[CV]  n_estimators=1, min_samples_split=4, min_samples_leaf=2, max_features=auto, max_depth=30, total=   0.0s\n",
      "[CV] n_estimators=1, min_samples_split=7, min_samples_leaf=5, max_features=sqrt, max_depth=15 \n",
      "[CV]  n_estimators=1, min_samples_split=7, min_samples_leaf=5, max_features=sqrt, max_depth=15, total=   0.0s\n",
      "[CV] n_estimators=1, min_samples_split=7, min_samples_leaf=5, max_features=sqrt, max_depth=15 \n",
      "[CV]  n_estimators=1, min_samples_split=7, min_samples_leaf=5, max_features=sqrt, max_depth=15, total=   0.0s\n",
      "[CV] n_estimators=1, min_samples_split=7, min_samples_leaf=5, max_features=sqrt, max_depth=15 \n",
      "[CV]  n_estimators=1, min_samples_split=7, min_samples_leaf=5, max_features=sqrt, max_depth=15, total=   0.0s\n",
      "[CV] n_estimators=1, min_samples_split=6, min_samples_leaf=2, max_features=auto, max_depth=25 \n",
      "[CV]  n_estimators=1, min_samples_split=6, min_samples_leaf=2, max_features=auto, max_depth=25, total=   0.0s\n",
      "[CV] n_estimators=1, min_samples_split=6, min_samples_leaf=2, max_features=auto, max_depth=25 \n",
      "[CV]  n_estimators=1, min_samples_split=6, min_samples_leaf=2, max_features=auto, max_depth=25, total=   0.0s\n",
      "[CV] n_estimators=1, min_samples_split=6, min_samples_leaf=2, max_features=auto, max_depth=25 \n",
      "[CV]  n_estimators=1, min_samples_split=6, min_samples_leaf=2, max_features=auto, max_depth=25, total=   0.0s\n",
      "[CV] n_estimators=1, min_samples_split=6, min_samples_leaf=5, max_features=sqrt, max_depth=15 \n",
      "[CV]  n_estimators=1, min_samples_split=6, min_samples_leaf=5, max_features=sqrt, max_depth=15, total=   0.0s\n",
      "[CV] n_estimators=1, min_samples_split=6, min_samples_leaf=5, max_features=sqrt, max_depth=15 \n",
      "[CV]  n_estimators=1, min_samples_split=6, min_samples_leaf=5, max_features=sqrt, max_depth=15, total=   0.0s\n",
      "[CV] n_estimators=1, min_samples_split=6, min_samples_leaf=5, max_features=sqrt, max_depth=15 \n",
      "[CV]  n_estimators=1, min_samples_split=6, min_samples_leaf=5, max_features=sqrt, max_depth=15, total=   0.0s\n",
      "[CV] n_estimators=1, min_samples_split=3, min_samples_leaf=5, max_features=sqrt, max_depth=30 \n",
      "[CV]  n_estimators=1, min_samples_split=3, min_samples_leaf=5, max_features=sqrt, max_depth=30, total=   0.0s\n",
      "[CV] n_estimators=1, min_samples_split=3, min_samples_leaf=5, max_features=sqrt, max_depth=30 \n",
      "[CV]  n_estimators=1, min_samples_split=3, min_samples_leaf=5, max_features=sqrt, max_depth=30, total=   0.0s\n",
      "[CV] n_estimators=1, min_samples_split=3, min_samples_leaf=5, max_features=sqrt, max_depth=30 \n",
      "[CV]  n_estimators=1, min_samples_split=3, min_samples_leaf=5, max_features=sqrt, max_depth=30, total=   0.0s\n",
      "[CV] n_estimators=1, min_samples_split=3, min_samples_leaf=2, max_features=sqrt, max_depth=25 \n",
      "[CV]  n_estimators=1, min_samples_split=3, min_samples_leaf=2, max_features=sqrt, max_depth=25, total=   0.0s\n",
      "[CV] n_estimators=1, min_samples_split=3, min_samples_leaf=2, max_features=sqrt, max_depth=25 \n",
      "[CV]  n_estimators=1, min_samples_split=3, min_samples_leaf=2, max_features=sqrt, max_depth=25, total=   0.0s\n",
      "[CV] n_estimators=1, min_samples_split=3, min_samples_leaf=2, max_features=sqrt, max_depth=25 \n",
      "[CV]  n_estimators=1, min_samples_split=3, min_samples_leaf=2, max_features=sqrt, max_depth=25, total=   0.0s\n",
      "[CV] n_estimators=1, min_samples_split=3, min_samples_leaf=10, max_features=auto, max_depth=5 \n",
      "[CV]  n_estimators=1, min_samples_split=3, min_samples_leaf=10, max_features=auto, max_depth=5, total=   0.0s\n",
      "[CV] n_estimators=1, min_samples_split=3, min_samples_leaf=10, max_features=auto, max_depth=5 \n",
      "[CV]  n_estimators=1, min_samples_split=3, min_samples_leaf=10, max_features=auto, max_depth=5, total=   0.0s\n",
      "[CV] n_estimators=1, min_samples_split=3, min_samples_leaf=10, max_features=auto, max_depth=5 \n",
      "[CV]  n_estimators=1, min_samples_split=3, min_samples_leaf=10, max_features=auto, max_depth=5, total=   0.0s\n",
      "[CV] n_estimators=1, min_samples_split=5, min_samples_leaf=5, max_features=sqrt, max_depth=20 \n",
      "[CV]  n_estimators=1, min_samples_split=5, min_samples_leaf=5, max_features=sqrt, max_depth=20, total=   0.0s\n",
      "[CV] n_estimators=1, min_samples_split=5, min_samples_leaf=5, max_features=sqrt, max_depth=20 \n",
      "[CV]  n_estimators=1, min_samples_split=5, min_samples_leaf=5, max_features=sqrt, max_depth=20, total=   0.0s\n",
      "[CV] n_estimators=1, min_samples_split=5, min_samples_leaf=5, max_features=sqrt, max_depth=20 \n",
      "[CV]  n_estimators=1, min_samples_split=5, min_samples_leaf=5, max_features=sqrt, max_depth=20, total=   0.0s\n",
      "[CV] n_estimators=1, min_samples_split=3, min_samples_leaf=2, max_features=auto, max_depth=20 \n",
      "[CV]  n_estimators=1, min_samples_split=3, min_samples_leaf=2, max_features=auto, max_depth=20, total=   0.0s\n",
      "[CV] n_estimators=1, min_samples_split=3, min_samples_leaf=2, max_features=auto, max_depth=20 \n",
      "[CV]  n_estimators=1, min_samples_split=3, min_samples_leaf=2, max_features=auto, max_depth=20, total=   0.0s\n",
      "[CV] n_estimators=1, min_samples_split=3, min_samples_leaf=2, max_features=auto, max_depth=20 \n",
      "[CV]  n_estimators=1, min_samples_split=3, min_samples_leaf=2, max_features=auto, max_depth=20, total=   0.0s\n",
      "[CV] n_estimators=1, min_samples_split=5, min_samples_leaf=2, max_features=auto, max_depth=20 \n",
      "[CV]  n_estimators=1, min_samples_split=5, min_samples_leaf=2, max_features=auto, max_depth=20, total=   0.0s\n",
      "[CV] n_estimators=1, min_samples_split=5, min_samples_leaf=2, max_features=auto, max_depth=20 \n",
      "[CV]  n_estimators=1, min_samples_split=5, min_samples_leaf=2, max_features=auto, max_depth=20, total=   0.0s\n",
      "[CV] n_estimators=1, min_samples_split=5, min_samples_leaf=2, max_features=auto, max_depth=20 \n",
      "[CV]  n_estimators=1, min_samples_split=5, min_samples_leaf=2, max_features=auto, max_depth=20, total=   0.0s\n",
      "[CV] n_estimators=1, min_samples_split=7, min_samples_leaf=10, max_features=auto, max_depth=5 \n",
      "[CV]  n_estimators=1, min_samples_split=7, min_samples_leaf=10, max_features=auto, max_depth=5, total=   0.0s\n",
      "[CV] n_estimators=1, min_samples_split=7, min_samples_leaf=10, max_features=auto, max_depth=5 \n",
      "[CV]  n_estimators=1, min_samples_split=7, min_samples_leaf=10, max_features=auto, max_depth=5, total=   0.0s\n",
      "[CV] n_estimators=1, min_samples_split=7, min_samples_leaf=10, max_features=auto, max_depth=5 \n",
      "[CV]  n_estimators=1, min_samples_split=7, min_samples_leaf=10, max_features=auto, max_depth=5, total=   0.0s\n",
      "[CV] n_estimators=1, min_samples_split=3, min_samples_leaf=10, max_features=sqrt, max_depth=30 \n",
      "[CV]  n_estimators=1, min_samples_split=3, min_samples_leaf=10, max_features=sqrt, max_depth=30, total=   0.0s\n",
      "[CV] n_estimators=1, min_samples_split=3, min_samples_leaf=10, max_features=sqrt, max_depth=30 \n",
      "[CV]  n_estimators=1, min_samples_split=3, min_samples_leaf=10, max_features=sqrt, max_depth=30, total=   0.0s\n",
      "[CV] n_estimators=1, min_samples_split=3, min_samples_leaf=10, max_features=sqrt, max_depth=30 \n",
      "[CV]  n_estimators=1, min_samples_split=3, min_samples_leaf=10, max_features=sqrt, max_depth=30, total=   0.0s\n",
      "[CV] n_estimators=1, min_samples_split=3, min_samples_leaf=5, max_features=sqrt, max_depth=5 \n",
      "[CV]  n_estimators=1, min_samples_split=3, min_samples_leaf=5, max_features=sqrt, max_depth=5, total=   0.0s\n",
      "[CV] n_estimators=1, min_samples_split=3, min_samples_leaf=5, max_features=sqrt, max_depth=5 \n",
      "[CV]  n_estimators=1, min_samples_split=3, min_samples_leaf=5, max_features=sqrt, max_depth=5, total=   0.0s\n",
      "[CV] n_estimators=1, min_samples_split=3, min_samples_leaf=5, max_features=sqrt, max_depth=5 \n",
      "[CV]  n_estimators=1, min_samples_split=3, min_samples_leaf=5, max_features=sqrt, max_depth=5, total=   0.0s\n",
      "[CV] n_estimators=1, min_samples_split=4, min_samples_leaf=10, max_features=auto, max_depth=25 \n",
      "[CV]  n_estimators=1, min_samples_split=4, min_samples_leaf=10, max_features=auto, max_depth=25, total=   0.0s\n",
      "[CV] n_estimators=1, min_samples_split=4, min_samples_leaf=10, max_features=auto, max_depth=25 \n",
      "[CV]  n_estimators=1, min_samples_split=4, min_samples_leaf=10, max_features=auto, max_depth=25, total=   0.0s\n",
      "[CV] n_estimators=1, min_samples_split=4, min_samples_leaf=10, max_features=auto, max_depth=25 \n",
      "[CV]  n_estimators=1, min_samples_split=4, min_samples_leaf=10, max_features=auto, max_depth=25, total=   0.0s\n",
      "[CV] n_estimators=1, min_samples_split=3, min_samples_leaf=5, max_features=sqrt, max_depth=20 \n",
      "[CV]  n_estimators=1, min_samples_split=3, min_samples_leaf=5, max_features=sqrt, max_depth=20, total=   0.0s\n",
      "[CV] n_estimators=1, min_samples_split=3, min_samples_leaf=5, max_features=sqrt, max_depth=20 \n",
      "[CV]  n_estimators=1, min_samples_split=3, min_samples_leaf=5, max_features=sqrt, max_depth=20, total=   0.0s\n",
      "[CV] n_estimators=1, min_samples_split=3, min_samples_leaf=5, max_features=sqrt, max_depth=20 \n",
      "[CV]  n_estimators=1, min_samples_split=3, min_samples_leaf=5, max_features=sqrt, max_depth=20, total=   0.0s\n",
      "[CV] n_estimators=1, min_samples_split=3, min_samples_leaf=5, max_features=auto, max_depth=5 \n",
      "[CV]  n_estimators=1, min_samples_split=3, min_samples_leaf=5, max_features=auto, max_depth=5, total=   0.0s\n",
      "[CV] n_estimators=1, min_samples_split=3, min_samples_leaf=5, max_features=auto, max_depth=5 \n",
      "[CV]  n_estimators=1, min_samples_split=3, min_samples_leaf=5, max_features=auto, max_depth=5, total=   0.0s\n",
      "[CV] n_estimators=1, min_samples_split=3, min_samples_leaf=5, max_features=auto, max_depth=5 \n",
      "[CV]  n_estimators=1, min_samples_split=3, min_samples_leaf=5, max_features=auto, max_depth=5, total=   0.0s\n",
      "[CV] n_estimators=1, min_samples_split=4, min_samples_leaf=1, max_features=auto, max_depth=30 \n",
      "[CV]  n_estimators=1, min_samples_split=4, min_samples_leaf=1, max_features=auto, max_depth=30, total=   0.0s\n",
      "[CV] n_estimators=1, min_samples_split=4, min_samples_leaf=1, max_features=auto, max_depth=30 \n",
      "[CV]  n_estimators=1, min_samples_split=4, min_samples_leaf=1, max_features=auto, max_depth=30, total=   0.0s\n",
      "[CV] n_estimators=1, min_samples_split=4, min_samples_leaf=1, max_features=auto, max_depth=30 \n",
      "[CV]  n_estimators=1, min_samples_split=4, min_samples_leaf=1, max_features=auto, max_depth=30, total=   0.0s\n",
      "[CV] n_estimators=1, min_samples_split=5, min_samples_leaf=10, max_features=sqrt, max_depth=30 \n",
      "[CV]  n_estimators=1, min_samples_split=5, min_samples_leaf=10, max_features=sqrt, max_depth=30, total=   0.0s\n",
      "[CV] n_estimators=1, min_samples_split=5, min_samples_leaf=10, max_features=sqrt, max_depth=30 \n",
      "[CV]  n_estimators=1, min_samples_split=5, min_samples_leaf=10, max_features=sqrt, max_depth=30, total=   0.0s\n",
      "[CV] n_estimators=1, min_samples_split=5, min_samples_leaf=10, max_features=sqrt, max_depth=30 \n",
      "[CV]  n_estimators=1, min_samples_split=5, min_samples_leaf=10, max_features=sqrt, max_depth=30, total=   0.0s\n",
      "[CV] n_estimators=1, min_samples_split=6, min_samples_leaf=5, max_features=sqrt, max_depth=20 \n",
      "[CV]  n_estimators=1, min_samples_split=6, min_samples_leaf=5, max_features=sqrt, max_depth=20, total=   0.0s\n",
      "[CV] n_estimators=1, min_samples_split=6, min_samples_leaf=5, max_features=sqrt, max_depth=20 \n",
      "[CV]  n_estimators=1, min_samples_split=6, min_samples_leaf=5, max_features=sqrt, max_depth=20, total=   0.0s\n",
      "[CV] n_estimators=1, min_samples_split=6, min_samples_leaf=5, max_features=sqrt, max_depth=20 \n",
      "[CV]  n_estimators=1, min_samples_split=6, min_samples_leaf=5, max_features=sqrt, max_depth=20, total=   0.0s\n",
      "[CV] n_estimators=1, min_samples_split=4, min_samples_leaf=10, max_features=auto, max_depth=15 \n",
      "[CV]  n_estimators=1, min_samples_split=4, min_samples_leaf=10, max_features=auto, max_depth=15, total=   0.0s\n",
      "[CV] n_estimators=1, min_samples_split=4, min_samples_leaf=10, max_features=auto, max_depth=15 \n",
      "[CV]  n_estimators=1, min_samples_split=4, min_samples_leaf=10, max_features=auto, max_depth=15, total=   0.0s\n",
      "[CV] n_estimators=1, min_samples_split=4, min_samples_leaf=10, max_features=auto, max_depth=15 \n",
      "[CV]  n_estimators=1, min_samples_split=4, min_samples_leaf=10, max_features=auto, max_depth=15, total=   0.0s\n",
      "[CV] n_estimators=1, min_samples_split=6, min_samples_leaf=2, max_features=sqrt, max_depth=30 \n",
      "[CV]  n_estimators=1, min_samples_split=6, min_samples_leaf=2, max_features=sqrt, max_depth=30, total=   0.0s\n",
      "[CV] n_estimators=1, min_samples_split=6, min_samples_leaf=2, max_features=sqrt, max_depth=30 \n",
      "[CV]  n_estimators=1, min_samples_split=6, min_samples_leaf=2, max_features=sqrt, max_depth=30, total=   0.0s\n",
      "[CV] n_estimators=1, min_samples_split=6, min_samples_leaf=2, max_features=sqrt, max_depth=30 \n",
      "[CV]  n_estimators=1, min_samples_split=6, min_samples_leaf=2, max_features=sqrt, max_depth=30, total=   0.0s\n",
      "[CV] n_estimators=1, min_samples_split=3, min_samples_leaf=2, max_features=sqrt, max_depth=5 \n",
      "[CV]  n_estimators=1, min_samples_split=3, min_samples_leaf=2, max_features=sqrt, max_depth=5, total=   0.0s\n",
      "[CV] n_estimators=1, min_samples_split=3, min_samples_leaf=2, max_features=sqrt, max_depth=5 \n",
      "[CV]  n_estimators=1, min_samples_split=3, min_samples_leaf=2, max_features=sqrt, max_depth=5, total=   0.0s\n",
      "[CV] n_estimators=1, min_samples_split=3, min_samples_leaf=2, max_features=sqrt, max_depth=5 \n",
      "[CV]  n_estimators=1, min_samples_split=3, min_samples_leaf=2, max_features=sqrt, max_depth=5, total=   0.0s\n",
      "[CV] n_estimators=1, min_samples_split=5, min_samples_leaf=1, max_features=sqrt, max_depth=25 \n",
      "[CV]  n_estimators=1, min_samples_split=5, min_samples_leaf=1, max_features=sqrt, max_depth=25, total=   0.0s\n",
      "[CV] n_estimators=1, min_samples_split=5, min_samples_leaf=1, max_features=sqrt, max_depth=25 \n",
      "[CV]  n_estimators=1, min_samples_split=5, min_samples_leaf=1, max_features=sqrt, max_depth=25, total=   0.0s\n",
      "[CV] n_estimators=1, min_samples_split=5, min_samples_leaf=1, max_features=sqrt, max_depth=25 \n",
      "[CV]  n_estimators=1, min_samples_split=5, min_samples_leaf=1, max_features=sqrt, max_depth=25, total=   0.0s\n",
      "[CV] n_estimators=1, min_samples_split=6, min_samples_leaf=10, max_features=auto, max_depth=5 \n"
     ]
    },
    {
     "name": "stdout",
     "output_type": "stream",
     "text": [
      "[CV]  n_estimators=1, min_samples_split=6, min_samples_leaf=10, max_features=auto, max_depth=5, total=   0.0s\n",
      "[CV] n_estimators=1, min_samples_split=6, min_samples_leaf=10, max_features=auto, max_depth=5 \n",
      "[CV]  n_estimators=1, min_samples_split=6, min_samples_leaf=10, max_features=auto, max_depth=5, total=   0.0s\n",
      "[CV] n_estimators=1, min_samples_split=6, min_samples_leaf=10, max_features=auto, max_depth=5 \n",
      "[CV]  n_estimators=1, min_samples_split=6, min_samples_leaf=10, max_features=auto, max_depth=5, total=   0.0s\n",
      "[CV] n_estimators=1, min_samples_split=7, min_samples_leaf=2, max_features=sqrt, max_depth=10 \n",
      "[CV]  n_estimators=1, min_samples_split=7, min_samples_leaf=2, max_features=sqrt, max_depth=10, total=   0.0s\n",
      "[CV] n_estimators=1, min_samples_split=7, min_samples_leaf=2, max_features=sqrt, max_depth=10 \n",
      "[CV]  n_estimators=1, min_samples_split=7, min_samples_leaf=2, max_features=sqrt, max_depth=10, total=   0.0s\n",
      "[CV] n_estimators=1, min_samples_split=7, min_samples_leaf=2, max_features=sqrt, max_depth=10 \n",
      "[CV]  n_estimators=1, min_samples_split=7, min_samples_leaf=2, max_features=sqrt, max_depth=10, total=   0.0s\n",
      "[CV] n_estimators=1, min_samples_split=5, min_samples_leaf=5, max_features=sqrt, max_depth=25 \n",
      "[CV]  n_estimators=1, min_samples_split=5, min_samples_leaf=5, max_features=sqrt, max_depth=25, total=   0.0s\n",
      "[CV] n_estimators=1, min_samples_split=5, min_samples_leaf=5, max_features=sqrt, max_depth=25 \n",
      "[CV]  n_estimators=1, min_samples_split=5, min_samples_leaf=5, max_features=sqrt, max_depth=25, total=   0.0s\n",
      "[CV] n_estimators=1, min_samples_split=5, min_samples_leaf=5, max_features=sqrt, max_depth=25 \n",
      "[CV]  n_estimators=1, min_samples_split=5, min_samples_leaf=5, max_features=sqrt, max_depth=25, total=   0.0s\n",
      "[CV] n_estimators=1, min_samples_split=3, min_samples_leaf=10, max_features=auto, max_depth=10 \n",
      "[CV]  n_estimators=1, min_samples_split=3, min_samples_leaf=10, max_features=auto, max_depth=10, total=   0.0s\n",
      "[CV] n_estimators=1, min_samples_split=3, min_samples_leaf=10, max_features=auto, max_depth=10 \n",
      "[CV]  n_estimators=1, min_samples_split=3, min_samples_leaf=10, max_features=auto, max_depth=10, total=   0.0s\n",
      "[CV] n_estimators=1, min_samples_split=3, min_samples_leaf=10, max_features=auto, max_depth=10 \n",
      "[CV]  n_estimators=1, min_samples_split=3, min_samples_leaf=10, max_features=auto, max_depth=10, total=   0.0s\n",
      "[CV] n_estimators=1, min_samples_split=7, min_samples_leaf=10, max_features=sqrt, max_depth=10 \n",
      "[CV]  n_estimators=1, min_samples_split=7, min_samples_leaf=10, max_features=sqrt, max_depth=10, total=   0.0s\n",
      "[CV] n_estimators=1, min_samples_split=7, min_samples_leaf=10, max_features=sqrt, max_depth=10 \n",
      "[CV]  n_estimators=1, min_samples_split=7, min_samples_leaf=10, max_features=sqrt, max_depth=10, total=   0.0s\n",
      "[CV] n_estimators=1, min_samples_split=7, min_samples_leaf=10, max_features=sqrt, max_depth=10 \n",
      "[CV]  n_estimators=1, min_samples_split=7, min_samples_leaf=10, max_features=sqrt, max_depth=10, total=   0.0s\n",
      "[CV] n_estimators=1, min_samples_split=3, min_samples_leaf=10, max_features=auto, max_depth=25 \n",
      "[CV]  n_estimators=1, min_samples_split=3, min_samples_leaf=10, max_features=auto, max_depth=25, total=   0.0s\n",
      "[CV] n_estimators=1, min_samples_split=3, min_samples_leaf=10, max_features=auto, max_depth=25 \n",
      "[CV]  n_estimators=1, min_samples_split=3, min_samples_leaf=10, max_features=auto, max_depth=25, total=   0.0s\n",
      "[CV] n_estimators=1, min_samples_split=3, min_samples_leaf=10, max_features=auto, max_depth=25 \n",
      "[CV]  n_estimators=1, min_samples_split=3, min_samples_leaf=10, max_features=auto, max_depth=25, total=   0.0s\n",
      "[CV] n_estimators=1, min_samples_split=5, min_samples_leaf=2, max_features=sqrt, max_depth=30 \n",
      "[CV]  n_estimators=1, min_samples_split=5, min_samples_leaf=2, max_features=sqrt, max_depth=30, total=   0.0s\n",
      "[CV] n_estimators=1, min_samples_split=5, min_samples_leaf=2, max_features=sqrt, max_depth=30 \n",
      "[CV]  n_estimators=1, min_samples_split=5, min_samples_leaf=2, max_features=sqrt, max_depth=30, total=   0.0s\n",
      "[CV] n_estimators=1, min_samples_split=5, min_samples_leaf=2, max_features=sqrt, max_depth=30 \n",
      "[CV]  n_estimators=1, min_samples_split=5, min_samples_leaf=2, max_features=sqrt, max_depth=30, total=   0.0s\n",
      "[CV] n_estimators=1, min_samples_split=5, min_samples_leaf=5, max_features=sqrt, max_depth=15 \n",
      "[CV]  n_estimators=1, min_samples_split=5, min_samples_leaf=5, max_features=sqrt, max_depth=15, total=   0.0s\n",
      "[CV] n_estimators=1, min_samples_split=5, min_samples_leaf=5, max_features=sqrt, max_depth=15 \n",
      "[CV]  n_estimators=1, min_samples_split=5, min_samples_leaf=5, max_features=sqrt, max_depth=15, total=   0.0s\n",
      "[CV] n_estimators=1, min_samples_split=5, min_samples_leaf=5, max_features=sqrt, max_depth=15 \n",
      "[CV]  n_estimators=1, min_samples_split=5, min_samples_leaf=5, max_features=sqrt, max_depth=15, total=   0.0s\n",
      "[CV] n_estimators=1, min_samples_split=4, min_samples_leaf=1, max_features=sqrt, max_depth=30 \n",
      "[CV]  n_estimators=1, min_samples_split=4, min_samples_leaf=1, max_features=sqrt, max_depth=30, total=   0.0s\n",
      "[CV] n_estimators=1, min_samples_split=4, min_samples_leaf=1, max_features=sqrt, max_depth=30 \n",
      "[CV]  n_estimators=1, min_samples_split=4, min_samples_leaf=1, max_features=sqrt, max_depth=30, total=   0.0s\n",
      "[CV] n_estimators=1, min_samples_split=4, min_samples_leaf=1, max_features=sqrt, max_depth=30 \n",
      "[CV]  n_estimators=1, min_samples_split=4, min_samples_leaf=1, max_features=sqrt, max_depth=30, total=   0.0s\n",
      "[CV] n_estimators=1, min_samples_split=4, min_samples_leaf=10, max_features=auto, max_depth=5 \n",
      "[CV]  n_estimators=1, min_samples_split=4, min_samples_leaf=10, max_features=auto, max_depth=5, total=   0.0s\n",
      "[CV] n_estimators=1, min_samples_split=4, min_samples_leaf=10, max_features=auto, max_depth=5 \n",
      "[CV]  n_estimators=1, min_samples_split=4, min_samples_leaf=10, max_features=auto, max_depth=5, total=   0.0s\n",
      "[CV] n_estimators=1, min_samples_split=4, min_samples_leaf=10, max_features=auto, max_depth=5 \n",
      "[CV]  n_estimators=1, min_samples_split=4, min_samples_leaf=10, max_features=auto, max_depth=5, total=   0.0s\n",
      "[CV] n_estimators=1, min_samples_split=4, min_samples_leaf=10, max_features=sqrt, max_depth=20 \n",
      "[CV]  n_estimators=1, min_samples_split=4, min_samples_leaf=10, max_features=sqrt, max_depth=20, total=   0.0s\n",
      "[CV] n_estimators=1, min_samples_split=4, min_samples_leaf=10, max_features=sqrt, max_depth=20 \n",
      "[CV]  n_estimators=1, min_samples_split=4, min_samples_leaf=10, max_features=sqrt, max_depth=20, total=   0.0s\n",
      "[CV] n_estimators=1, min_samples_split=4, min_samples_leaf=10, max_features=sqrt, max_depth=20 \n",
      "[CV]  n_estimators=1, min_samples_split=4, min_samples_leaf=10, max_features=sqrt, max_depth=20, total=   0.0s\n",
      "[CV] n_estimators=1, min_samples_split=4, min_samples_leaf=2, max_features=sqrt, max_depth=10 \n",
      "[CV]  n_estimators=1, min_samples_split=4, min_samples_leaf=2, max_features=sqrt, max_depth=10, total=   0.0s\n",
      "[CV] n_estimators=1, min_samples_split=4, min_samples_leaf=2, max_features=sqrt, max_depth=10 \n",
      "[CV]  n_estimators=1, min_samples_split=4, min_samples_leaf=2, max_features=sqrt, max_depth=10, total=   0.0s\n",
      "[CV] n_estimators=1, min_samples_split=4, min_samples_leaf=2, max_features=sqrt, max_depth=10 \n",
      "[CV]  n_estimators=1, min_samples_split=4, min_samples_leaf=2, max_features=sqrt, max_depth=10, total=   0.0s\n",
      "[CV] n_estimators=1, min_samples_split=3, min_samples_leaf=2, max_features=auto, max_depth=25 \n",
      "[CV]  n_estimators=1, min_samples_split=3, min_samples_leaf=2, max_features=auto, max_depth=25, total=   0.0s\n",
      "[CV] n_estimators=1, min_samples_split=3, min_samples_leaf=2, max_features=auto, max_depth=25 \n",
      "[CV]  n_estimators=1, min_samples_split=3, min_samples_leaf=2, max_features=auto, max_depth=25, total=   0.0s\n",
      "[CV] n_estimators=1, min_samples_split=3, min_samples_leaf=2, max_features=auto, max_depth=25 \n",
      "[CV]  n_estimators=1, min_samples_split=3, min_samples_leaf=2, max_features=auto, max_depth=25, total=   0.0s\n",
      "[CV] n_estimators=1, min_samples_split=6, min_samples_leaf=10, max_features=sqrt, max_depth=5 \n",
      "[CV]  n_estimators=1, min_samples_split=6, min_samples_leaf=10, max_features=sqrt, max_depth=5, total=   0.0s\n",
      "[CV] n_estimators=1, min_samples_split=6, min_samples_leaf=10, max_features=sqrt, max_depth=5 \n",
      "[CV]  n_estimators=1, min_samples_split=6, min_samples_leaf=10, max_features=sqrt, max_depth=5, total=   0.0s\n",
      "[CV] n_estimators=1, min_samples_split=6, min_samples_leaf=10, max_features=sqrt, max_depth=5 \n",
      "[CV]  n_estimators=1, min_samples_split=6, min_samples_leaf=10, max_features=sqrt, max_depth=5, total=   0.0s\n",
      "[CV] n_estimators=1, min_samples_split=7, min_samples_leaf=10, max_features=auto, max_depth=20 \n",
      "[CV]  n_estimators=1, min_samples_split=7, min_samples_leaf=10, max_features=auto, max_depth=20, total=   0.0s\n",
      "[CV] n_estimators=1, min_samples_split=7, min_samples_leaf=10, max_features=auto, max_depth=20 \n",
      "[CV]  n_estimators=1, min_samples_split=7, min_samples_leaf=10, max_features=auto, max_depth=20, total=   0.0s\n",
      "[CV] n_estimators=1, min_samples_split=7, min_samples_leaf=10, max_features=auto, max_depth=20 \n",
      "[CV]  n_estimators=1, min_samples_split=7, min_samples_leaf=10, max_features=auto, max_depth=20, total=   0.0s\n",
      "[CV] n_estimators=1, min_samples_split=3, min_samples_leaf=1, max_features=sqrt, max_depth=10 \n",
      "[CV]  n_estimators=1, min_samples_split=3, min_samples_leaf=1, max_features=sqrt, max_depth=10, total=   0.0s\n",
      "[CV] n_estimators=1, min_samples_split=3, min_samples_leaf=1, max_features=sqrt, max_depth=10 \n",
      "[CV]  n_estimators=1, min_samples_split=3, min_samples_leaf=1, max_features=sqrt, max_depth=10, total=   0.0s\n",
      "[CV] n_estimators=1, min_samples_split=3, min_samples_leaf=1, max_features=sqrt, max_depth=10 \n",
      "[CV]  n_estimators=1, min_samples_split=3, min_samples_leaf=1, max_features=sqrt, max_depth=10, total=   0.0s\n",
      "[CV] n_estimators=1, min_samples_split=7, min_samples_leaf=1, max_features=auto, max_depth=30 \n",
      "[CV]  n_estimators=1, min_samples_split=7, min_samples_leaf=1, max_features=auto, max_depth=30, total=   0.0s\n",
      "[CV] n_estimators=1, min_samples_split=7, min_samples_leaf=1, max_features=auto, max_depth=30 \n",
      "[CV]  n_estimators=1, min_samples_split=7, min_samples_leaf=1, max_features=auto, max_depth=30, total=   0.0s\n",
      "[CV] n_estimators=1, min_samples_split=7, min_samples_leaf=1, max_features=auto, max_depth=30 \n",
      "[CV]  n_estimators=1, min_samples_split=7, min_samples_leaf=1, max_features=auto, max_depth=30, total=   0.0s\n",
      "[CV] n_estimators=1, min_samples_split=4, min_samples_leaf=2, max_features=sqrt, max_depth=25 \n",
      "[CV]  n_estimators=1, min_samples_split=4, min_samples_leaf=2, max_features=sqrt, max_depth=25, total=   0.0s\n",
      "[CV] n_estimators=1, min_samples_split=4, min_samples_leaf=2, max_features=sqrt, max_depth=25 \n",
      "[CV]  n_estimators=1, min_samples_split=4, min_samples_leaf=2, max_features=sqrt, max_depth=25, total=   0.0s\n",
      "[CV] n_estimators=1, min_samples_split=4, min_samples_leaf=2, max_features=sqrt, max_depth=25 \n",
      "[CV]  n_estimators=1, min_samples_split=4, min_samples_leaf=2, max_features=sqrt, max_depth=25, total=   0.0s\n",
      "[CV] n_estimators=1, min_samples_split=5, min_samples_leaf=2, max_features=auto, max_depth=30 \n",
      "[CV]  n_estimators=1, min_samples_split=5, min_samples_leaf=2, max_features=auto, max_depth=30, total=   0.0s\n",
      "[CV] n_estimators=1, min_samples_split=5, min_samples_leaf=2, max_features=auto, max_depth=30 \n",
      "[CV]  n_estimators=1, min_samples_split=5, min_samples_leaf=2, max_features=auto, max_depth=30, total=   0.0s\n",
      "[CV] n_estimators=1, min_samples_split=5, min_samples_leaf=2, max_features=auto, max_depth=30 \n",
      "[CV]  n_estimators=1, min_samples_split=5, min_samples_leaf=2, max_features=auto, max_depth=30, total=   0.0s\n",
      "[CV] n_estimators=1, min_samples_split=6, min_samples_leaf=5, max_features=sqrt, max_depth=25 \n",
      "[CV]  n_estimators=1, min_samples_split=6, min_samples_leaf=5, max_features=sqrt, max_depth=25, total=   0.0s\n",
      "[CV] n_estimators=1, min_samples_split=6, min_samples_leaf=5, max_features=sqrt, max_depth=25 \n",
      "[CV]  n_estimators=1, min_samples_split=6, min_samples_leaf=5, max_features=sqrt, max_depth=25, total=   0.0s\n",
      "[CV] n_estimators=1, min_samples_split=6, min_samples_leaf=5, max_features=sqrt, max_depth=25 \n",
      "[CV]  n_estimators=1, min_samples_split=6, min_samples_leaf=5, max_features=sqrt, max_depth=25, total=   0.0s\n",
      "[CV] n_estimators=1, min_samples_split=7, min_samples_leaf=1, max_features=sqrt, max_depth=30 \n",
      "[CV]  n_estimators=1, min_samples_split=7, min_samples_leaf=1, max_features=sqrt, max_depth=30, total=   0.0s\n",
      "[CV] n_estimators=1, min_samples_split=7, min_samples_leaf=1, max_features=sqrt, max_depth=30 \n",
      "[CV]  n_estimators=1, min_samples_split=7, min_samples_leaf=1, max_features=sqrt, max_depth=30, total=   0.0s\n",
      "[CV] n_estimators=1, min_samples_split=7, min_samples_leaf=1, max_features=sqrt, max_depth=30 \n",
      "[CV]  n_estimators=1, min_samples_split=7, min_samples_leaf=1, max_features=sqrt, max_depth=30, total=   0.0s\n",
      "[CV] n_estimators=1, min_samples_split=7, min_samples_leaf=2, max_features=auto, max_depth=30 \n",
      "[CV]  n_estimators=1, min_samples_split=7, min_samples_leaf=2, max_features=auto, max_depth=30, total=   0.0s\n",
      "[CV] n_estimators=1, min_samples_split=7, min_samples_leaf=2, max_features=auto, max_depth=30 \n",
      "[CV]  n_estimators=1, min_samples_split=7, min_samples_leaf=2, max_features=auto, max_depth=30, total=   0.0s\n",
      "[CV] n_estimators=1, min_samples_split=7, min_samples_leaf=2, max_features=auto, max_depth=30 \n",
      "[CV]  n_estimators=1, min_samples_split=7, min_samples_leaf=2, max_features=auto, max_depth=30, total=   0.0s\n",
      "[CV] n_estimators=1, min_samples_split=3, min_samples_leaf=10, max_features=sqrt, max_depth=15 \n",
      "[CV]  n_estimators=1, min_samples_split=3, min_samples_leaf=10, max_features=sqrt, max_depth=15, total=   0.0s\n",
      "[CV] n_estimators=1, min_samples_split=3, min_samples_leaf=10, max_features=sqrt, max_depth=15 \n",
      "[CV]  n_estimators=1, min_samples_split=3, min_samples_leaf=10, max_features=sqrt, max_depth=15, total=   0.0s\n",
      "[CV] n_estimators=1, min_samples_split=3, min_samples_leaf=10, max_features=sqrt, max_depth=15 \n",
      "[CV]  n_estimators=1, min_samples_split=3, min_samples_leaf=10, max_features=sqrt, max_depth=15, total=   0.0s\n",
      "[CV] n_estimators=1, min_samples_split=7, min_samples_leaf=10, max_features=auto, max_depth=30 \n",
      "[CV]  n_estimators=1, min_samples_split=7, min_samples_leaf=10, max_features=auto, max_depth=30, total=   0.0s\n"
     ]
    },
    {
     "name": "stdout",
     "output_type": "stream",
     "text": [
      "[CV] n_estimators=1, min_samples_split=7, min_samples_leaf=10, max_features=auto, max_depth=30 \n",
      "[CV]  n_estimators=1, min_samples_split=7, min_samples_leaf=10, max_features=auto, max_depth=30, total=   0.0s\n",
      "[CV] n_estimators=1, min_samples_split=7, min_samples_leaf=10, max_features=auto, max_depth=30 \n",
      "[CV]  n_estimators=1, min_samples_split=7, min_samples_leaf=10, max_features=auto, max_depth=30, total=   0.0s\n",
      "[CV] n_estimators=1, min_samples_split=6, min_samples_leaf=5, max_features=sqrt, max_depth=10 \n",
      "[CV]  n_estimators=1, min_samples_split=6, min_samples_leaf=5, max_features=sqrt, max_depth=10, total=   0.0s\n",
      "[CV] n_estimators=1, min_samples_split=6, min_samples_leaf=5, max_features=sqrt, max_depth=10 \n",
      "[CV]  n_estimators=1, min_samples_split=6, min_samples_leaf=5, max_features=sqrt, max_depth=10, total=   0.0s\n",
      "[CV] n_estimators=1, min_samples_split=6, min_samples_leaf=5, max_features=sqrt, max_depth=10 \n",
      "[CV]  n_estimators=1, min_samples_split=6, min_samples_leaf=5, max_features=sqrt, max_depth=10, total=   0.0s\n",
      "[CV] n_estimators=1, min_samples_split=4, min_samples_leaf=10, max_features=auto, max_depth=20 \n",
      "[CV]  n_estimators=1, min_samples_split=4, min_samples_leaf=10, max_features=auto, max_depth=20, total=   0.0s\n",
      "[CV] n_estimators=1, min_samples_split=4, min_samples_leaf=10, max_features=auto, max_depth=20 \n",
      "[CV]  n_estimators=1, min_samples_split=4, min_samples_leaf=10, max_features=auto, max_depth=20, total=   0.0s\n",
      "[CV] n_estimators=1, min_samples_split=4, min_samples_leaf=10, max_features=auto, max_depth=20 \n",
      "[CV]  n_estimators=1, min_samples_split=4, min_samples_leaf=10, max_features=auto, max_depth=20, total=   0.0s\n",
      "[CV] n_estimators=1, min_samples_split=3, min_samples_leaf=10, max_features=auto, max_depth=15 \n",
      "[CV]  n_estimators=1, min_samples_split=3, min_samples_leaf=10, max_features=auto, max_depth=15, total=   0.0s\n",
      "[CV] n_estimators=1, min_samples_split=3, min_samples_leaf=10, max_features=auto, max_depth=15 \n",
      "[CV]  n_estimators=1, min_samples_split=3, min_samples_leaf=10, max_features=auto, max_depth=15, total=   0.0s\n",
      "[CV] n_estimators=1, min_samples_split=3, min_samples_leaf=10, max_features=auto, max_depth=15 \n",
      "[CV]  n_estimators=1, min_samples_split=3, min_samples_leaf=10, max_features=auto, max_depth=15, total=   0.0s\n",
      "[CV] n_estimators=1, min_samples_split=4, min_samples_leaf=2, max_features=auto, max_depth=20 \n",
      "[CV]  n_estimators=1, min_samples_split=4, min_samples_leaf=2, max_features=auto, max_depth=20, total=   0.0s\n",
      "[CV] n_estimators=1, min_samples_split=4, min_samples_leaf=2, max_features=auto, max_depth=20 \n",
      "[CV]  n_estimators=1, min_samples_split=4, min_samples_leaf=2, max_features=auto, max_depth=20, total=   0.0s\n",
      "[CV] n_estimators=1, min_samples_split=4, min_samples_leaf=2, max_features=auto, max_depth=20 \n",
      "[CV]  n_estimators=1, min_samples_split=4, min_samples_leaf=2, max_features=auto, max_depth=20, total=   0.0s\n",
      "[CV] n_estimators=1, min_samples_split=3, min_samples_leaf=1, max_features=auto, max_depth=20 \n",
      "[CV]  n_estimators=1, min_samples_split=3, min_samples_leaf=1, max_features=auto, max_depth=20, total=   0.0s\n",
      "[CV] n_estimators=1, min_samples_split=3, min_samples_leaf=1, max_features=auto, max_depth=20 \n",
      "[CV]  n_estimators=1, min_samples_split=3, min_samples_leaf=1, max_features=auto, max_depth=20, total=   0.0s\n",
      "[CV] n_estimators=1, min_samples_split=3, min_samples_leaf=1, max_features=auto, max_depth=20 \n",
      "[CV]  n_estimators=1, min_samples_split=3, min_samples_leaf=1, max_features=auto, max_depth=20, total=   0.0s\n",
      "[CV] n_estimators=1, min_samples_split=5, min_samples_leaf=2, max_features=sqrt, max_depth=10 \n",
      "[CV]  n_estimators=1, min_samples_split=5, min_samples_leaf=2, max_features=sqrt, max_depth=10, total=   0.0s\n",
      "[CV] n_estimators=1, min_samples_split=5, min_samples_leaf=2, max_features=sqrt, max_depth=10 \n",
      "[CV]  n_estimators=1, min_samples_split=5, min_samples_leaf=2, max_features=sqrt, max_depth=10, total=   0.0s\n",
      "[CV] n_estimators=1, min_samples_split=5, min_samples_leaf=2, max_features=sqrt, max_depth=10 \n",
      "[CV]  n_estimators=1, min_samples_split=5, min_samples_leaf=2, max_features=sqrt, max_depth=10, total=   0.0s\n",
      "[CV] n_estimators=1, min_samples_split=4, min_samples_leaf=1, max_features=sqrt, max_depth=15 \n",
      "[CV]  n_estimators=1, min_samples_split=4, min_samples_leaf=1, max_features=sqrt, max_depth=15, total=   0.0s\n",
      "[CV] n_estimators=1, min_samples_split=4, min_samples_leaf=1, max_features=sqrt, max_depth=15 \n",
      "[CV]  n_estimators=1, min_samples_split=4, min_samples_leaf=1, max_features=sqrt, max_depth=15, total=   0.0s\n",
      "[CV] n_estimators=1, min_samples_split=4, min_samples_leaf=1, max_features=sqrt, max_depth=15 \n",
      "[CV]  n_estimators=1, min_samples_split=4, min_samples_leaf=1, max_features=sqrt, max_depth=15, total=   0.0s\n",
      "[CV] n_estimators=1, min_samples_split=6, min_samples_leaf=2, max_features=sqrt, max_depth=10 \n",
      "[CV]  n_estimators=1, min_samples_split=6, min_samples_leaf=2, max_features=sqrt, max_depth=10, total=   0.0s\n",
      "[CV] n_estimators=1, min_samples_split=6, min_samples_leaf=2, max_features=sqrt, max_depth=10 \n",
      "[CV]  n_estimators=1, min_samples_split=6, min_samples_leaf=2, max_features=sqrt, max_depth=10, total=   0.0s\n",
      "[CV] n_estimators=1, min_samples_split=6, min_samples_leaf=2, max_features=sqrt, max_depth=10 \n",
      "[CV]  n_estimators=1, min_samples_split=6, min_samples_leaf=2, max_features=sqrt, max_depth=10, total=   0.0s\n",
      "[CV] n_estimators=1, min_samples_split=6, min_samples_leaf=2, max_features=sqrt, max_depth=15 \n",
      "[CV]  n_estimators=1, min_samples_split=6, min_samples_leaf=2, max_features=sqrt, max_depth=15, total=   0.0s\n",
      "[CV] n_estimators=1, min_samples_split=6, min_samples_leaf=2, max_features=sqrt, max_depth=15 \n",
      "[CV]  n_estimators=1, min_samples_split=6, min_samples_leaf=2, max_features=sqrt, max_depth=15, total=   0.0s\n",
      "[CV] n_estimators=1, min_samples_split=6, min_samples_leaf=2, max_features=sqrt, max_depth=15 \n",
      "[CV]  n_estimators=1, min_samples_split=6, min_samples_leaf=2, max_features=sqrt, max_depth=15, total=   0.0s\n",
      "[CV] n_estimators=1, min_samples_split=7, min_samples_leaf=1, max_features=auto, max_depth=15 \n",
      "[CV]  n_estimators=1, min_samples_split=7, min_samples_leaf=1, max_features=auto, max_depth=15, total=   0.0s\n",
      "[CV] n_estimators=1, min_samples_split=7, min_samples_leaf=1, max_features=auto, max_depth=15 \n",
      "[CV]  n_estimators=1, min_samples_split=7, min_samples_leaf=1, max_features=auto, max_depth=15, total=   0.0s\n",
      "[CV] n_estimators=1, min_samples_split=7, min_samples_leaf=1, max_features=auto, max_depth=15 \n",
      "[CV]  n_estimators=1, min_samples_split=7, min_samples_leaf=1, max_features=auto, max_depth=15, total=   0.0s\n",
      "[CV] n_estimators=1, min_samples_split=5, min_samples_leaf=10, max_features=sqrt, max_depth=15 \n",
      "[CV]  n_estimators=1, min_samples_split=5, min_samples_leaf=10, max_features=sqrt, max_depth=15, total=   0.0s\n",
      "[CV] n_estimators=1, min_samples_split=5, min_samples_leaf=10, max_features=sqrt, max_depth=15 \n",
      "[CV]  n_estimators=1, min_samples_split=5, min_samples_leaf=10, max_features=sqrt, max_depth=15, total=   0.0s\n",
      "[CV] n_estimators=1, min_samples_split=5, min_samples_leaf=10, max_features=sqrt, max_depth=15 \n",
      "[CV]  n_estimators=1, min_samples_split=5, min_samples_leaf=10, max_features=sqrt, max_depth=15, total=   0.0s\n",
      "[CV] n_estimators=1, min_samples_split=7, min_samples_leaf=5, max_features=sqrt, max_depth=25 \n",
      "[CV]  n_estimators=1, min_samples_split=7, min_samples_leaf=5, max_features=sqrt, max_depth=25, total=   0.0s\n",
      "[CV] n_estimators=1, min_samples_split=7, min_samples_leaf=5, max_features=sqrt, max_depth=25 \n",
      "[CV]  n_estimators=1, min_samples_split=7, min_samples_leaf=5, max_features=sqrt, max_depth=25, total=   0.0s\n",
      "[CV] n_estimators=1, min_samples_split=7, min_samples_leaf=5, max_features=sqrt, max_depth=25 \n",
      "[CV]  n_estimators=1, min_samples_split=7, min_samples_leaf=5, max_features=sqrt, max_depth=25, total=   0.0s\n",
      "[CV] n_estimators=1, min_samples_split=5, min_samples_leaf=10, max_features=auto, max_depth=25 \n",
      "[CV]  n_estimators=1, min_samples_split=5, min_samples_leaf=10, max_features=auto, max_depth=25, total=   0.0s\n",
      "[CV] n_estimators=1, min_samples_split=5, min_samples_leaf=10, max_features=auto, max_depth=25 \n",
      "[CV]  n_estimators=1, min_samples_split=5, min_samples_leaf=10, max_features=auto, max_depth=25, total=   0.0s\n",
      "[CV] n_estimators=1, min_samples_split=5, min_samples_leaf=10, max_features=auto, max_depth=25 \n",
      "[CV]  n_estimators=1, min_samples_split=5, min_samples_leaf=10, max_features=auto, max_depth=25, total=   0.0s\n",
      "[CV] n_estimators=1, min_samples_split=4, min_samples_leaf=5, max_features=sqrt, max_depth=15 \n",
      "[CV]  n_estimators=1, min_samples_split=4, min_samples_leaf=5, max_features=sqrt, max_depth=15, total=   0.0s\n",
      "[CV] n_estimators=1, min_samples_split=4, min_samples_leaf=5, max_features=sqrt, max_depth=15 \n",
      "[CV]  n_estimators=1, min_samples_split=4, min_samples_leaf=5, max_features=sqrt, max_depth=15, total=   0.0s\n",
      "[CV] n_estimators=1, min_samples_split=4, min_samples_leaf=5, max_features=sqrt, max_depth=15 \n",
      "[CV]  n_estimators=1, min_samples_split=4, min_samples_leaf=5, max_features=sqrt, max_depth=15, total=   0.0s\n",
      "[CV] n_estimators=1, min_samples_split=7, min_samples_leaf=2, max_features=sqrt, max_depth=5 \n",
      "[CV]  n_estimators=1, min_samples_split=7, min_samples_leaf=2, max_features=sqrt, max_depth=5, total=   0.0s\n",
      "[CV] n_estimators=1, min_samples_split=7, min_samples_leaf=2, max_features=sqrt, max_depth=5 \n",
      "[CV]  n_estimators=1, min_samples_split=7, min_samples_leaf=2, max_features=sqrt, max_depth=5, total=   0.0s\n",
      "[CV] n_estimators=1, min_samples_split=7, min_samples_leaf=2, max_features=sqrt, max_depth=5 \n",
      "[CV]  n_estimators=1, min_samples_split=7, min_samples_leaf=2, max_features=sqrt, max_depth=5, total=   0.0s\n",
      "[CV] n_estimators=1, min_samples_split=7, min_samples_leaf=1, max_features=auto, max_depth=20 \n",
      "[CV]  n_estimators=1, min_samples_split=7, min_samples_leaf=1, max_features=auto, max_depth=20, total=   0.0s\n",
      "[CV] n_estimators=1, min_samples_split=7, min_samples_leaf=1, max_features=auto, max_depth=20 \n",
      "[CV]  n_estimators=1, min_samples_split=7, min_samples_leaf=1, max_features=auto, max_depth=20, total=   0.0s\n",
      "[CV] n_estimators=1, min_samples_split=7, min_samples_leaf=1, max_features=auto, max_depth=20 \n",
      "[CV]  n_estimators=1, min_samples_split=7, min_samples_leaf=1, max_features=auto, max_depth=20, total=   0.0s\n",
      "[CV] n_estimators=1, min_samples_split=3, min_samples_leaf=10, max_features=sqrt, max_depth=10 \n",
      "[CV]  n_estimators=1, min_samples_split=3, min_samples_leaf=10, max_features=sqrt, max_depth=10, total=   0.0s\n",
      "[CV] n_estimators=1, min_samples_split=3, min_samples_leaf=10, max_features=sqrt, max_depth=10 \n",
      "[CV]  n_estimators=1, min_samples_split=3, min_samples_leaf=10, max_features=sqrt, max_depth=10, total=   0.0s\n",
      "[CV] n_estimators=1, min_samples_split=3, min_samples_leaf=10, max_features=sqrt, max_depth=10 \n",
      "[CV]  n_estimators=1, min_samples_split=3, min_samples_leaf=10, max_features=sqrt, max_depth=10, total=   0.0s\n",
      "[CV] n_estimators=1, min_samples_split=5, min_samples_leaf=1, max_features=auto, max_depth=15 \n",
      "[CV]  n_estimators=1, min_samples_split=5, min_samples_leaf=1, max_features=auto, max_depth=15, total=   0.0s\n",
      "[CV] n_estimators=1, min_samples_split=5, min_samples_leaf=1, max_features=auto, max_depth=15 \n",
      "[CV]  n_estimators=1, min_samples_split=5, min_samples_leaf=1, max_features=auto, max_depth=15, total=   0.0s\n",
      "[CV] n_estimators=1, min_samples_split=5, min_samples_leaf=1, max_features=auto, max_depth=15 \n",
      "[CV]  n_estimators=1, min_samples_split=5, min_samples_leaf=1, max_features=auto, max_depth=15, total=   0.0s\n",
      "[CV] n_estimators=1, min_samples_split=3, min_samples_leaf=2, max_features=auto, max_depth=5 \n",
      "[CV]  n_estimators=1, min_samples_split=3, min_samples_leaf=2, max_features=auto, max_depth=5, total=   0.0s\n",
      "[CV] n_estimators=1, min_samples_split=3, min_samples_leaf=2, max_features=auto, max_depth=5 \n",
      "[CV]  n_estimators=1, min_samples_split=3, min_samples_leaf=2, max_features=auto, max_depth=5, total=   0.0s\n",
      "[CV] n_estimators=1, min_samples_split=3, min_samples_leaf=2, max_features=auto, max_depth=5 \n",
      "[CV]  n_estimators=1, min_samples_split=3, min_samples_leaf=2, max_features=auto, max_depth=5, total=   0.0s\n",
      "[CV] n_estimators=1, min_samples_split=4, min_samples_leaf=10, max_features=auto, max_depth=10 \n",
      "[CV]  n_estimators=1, min_samples_split=4, min_samples_leaf=10, max_features=auto, max_depth=10, total=   0.0s\n",
      "[CV] n_estimators=1, min_samples_split=4, min_samples_leaf=10, max_features=auto, max_depth=10 \n",
      "[CV]  n_estimators=1, min_samples_split=4, min_samples_leaf=10, max_features=auto, max_depth=10, total=   0.0s\n",
      "[CV] n_estimators=1, min_samples_split=4, min_samples_leaf=10, max_features=auto, max_depth=10 \n",
      "[CV]  n_estimators=1, min_samples_split=4, min_samples_leaf=10, max_features=auto, max_depth=10, total=   0.0s\n",
      "[CV] n_estimators=1, min_samples_split=7, min_samples_leaf=1, max_features=auto, max_depth=25 \n",
      "[CV]  n_estimators=1, min_samples_split=7, min_samples_leaf=1, max_features=auto, max_depth=25, total=   0.0s\n",
      "[CV] n_estimators=1, min_samples_split=7, min_samples_leaf=1, max_features=auto, max_depth=25 \n",
      "[CV]  n_estimators=1, min_samples_split=7, min_samples_leaf=1, max_features=auto, max_depth=25, total=   0.0s\n",
      "[CV] n_estimators=1, min_samples_split=7, min_samples_leaf=1, max_features=auto, max_depth=25 \n",
      "[CV]  n_estimators=1, min_samples_split=7, min_samples_leaf=1, max_features=auto, max_depth=25, total=   0.0s\n",
      "[CV] n_estimators=1, min_samples_split=7, min_samples_leaf=10, max_features=sqrt, max_depth=20 \n",
      "[CV]  n_estimators=1, min_samples_split=7, min_samples_leaf=10, max_features=sqrt, max_depth=20, total=   0.0s\n",
      "[CV] n_estimators=1, min_samples_split=7, min_samples_leaf=10, max_features=sqrt, max_depth=20 \n",
      "[CV]  n_estimators=1, min_samples_split=7, min_samples_leaf=10, max_features=sqrt, max_depth=20, total=   0.0s\n",
      "[CV] n_estimators=1, min_samples_split=7, min_samples_leaf=10, max_features=sqrt, max_depth=20 \n",
      "[CV]  n_estimators=1, min_samples_split=7, min_samples_leaf=10, max_features=sqrt, max_depth=20, total=   0.0s\n",
      "[CV] n_estimators=1, min_samples_split=5, min_samples_leaf=10, max_features=auto, max_depth=15 \n",
      "[CV]  n_estimators=1, min_samples_split=5, min_samples_leaf=10, max_features=auto, max_depth=15, total=   0.0s\n",
      "[CV] n_estimators=1, min_samples_split=5, min_samples_leaf=10, max_features=auto, max_depth=15 \n",
      "[CV]  n_estimators=1, min_samples_split=5, min_samples_leaf=10, max_features=auto, max_depth=15, total=   0.0s\n",
      "[CV] n_estimators=1, min_samples_split=5, min_samples_leaf=10, max_features=auto, max_depth=15 \n"
     ]
    },
    {
     "name": "stdout",
     "output_type": "stream",
     "text": [
      "[CV]  n_estimators=1, min_samples_split=5, min_samples_leaf=10, max_features=auto, max_depth=15, total=   0.0s\n",
      "[CV] n_estimators=1, min_samples_split=3, min_samples_leaf=2, max_features=sqrt, max_depth=10 \n",
      "[CV]  n_estimators=1, min_samples_split=3, min_samples_leaf=2, max_features=sqrt, max_depth=10, total=   0.0s\n",
      "[CV] n_estimators=1, min_samples_split=3, min_samples_leaf=2, max_features=sqrt, max_depth=10 \n",
      "[CV]  n_estimators=1, min_samples_split=3, min_samples_leaf=2, max_features=sqrt, max_depth=10, total=   0.0s\n",
      "[CV] n_estimators=1, min_samples_split=3, min_samples_leaf=2, max_features=sqrt, max_depth=10 \n",
      "[CV]  n_estimators=1, min_samples_split=3, min_samples_leaf=2, max_features=sqrt, max_depth=10, total=   0.0s\n",
      "[CV] n_estimators=1, min_samples_split=5, min_samples_leaf=5, max_features=auto, max_depth=30 \n",
      "[CV]  n_estimators=1, min_samples_split=5, min_samples_leaf=5, max_features=auto, max_depth=30, total=   0.0s\n",
      "[CV] n_estimators=1, min_samples_split=5, min_samples_leaf=5, max_features=auto, max_depth=30 \n",
      "[CV]  n_estimators=1, min_samples_split=5, min_samples_leaf=5, max_features=auto, max_depth=30, total=   0.0s\n",
      "[CV] n_estimators=1, min_samples_split=5, min_samples_leaf=5, max_features=auto, max_depth=30 \n",
      "[CV]  n_estimators=1, min_samples_split=5, min_samples_leaf=5, max_features=auto, max_depth=30, total=   0.0s\n",
      "[CV] n_estimators=1, min_samples_split=6, min_samples_leaf=2, max_features=auto, max_depth=30 \n",
      "[CV]  n_estimators=1, min_samples_split=6, min_samples_leaf=2, max_features=auto, max_depth=30, total=   0.0s\n",
      "[CV] n_estimators=1, min_samples_split=6, min_samples_leaf=2, max_features=auto, max_depth=30 \n",
      "[CV]  n_estimators=1, min_samples_split=6, min_samples_leaf=2, max_features=auto, max_depth=30, total=   0.0s\n",
      "[CV] n_estimators=1, min_samples_split=6, min_samples_leaf=2, max_features=auto, max_depth=30 \n",
      "[CV]  n_estimators=1, min_samples_split=6, min_samples_leaf=2, max_features=auto, max_depth=30, total=   0.0s\n",
      "[CV] n_estimators=1, min_samples_split=5, min_samples_leaf=1, max_features=sqrt, max_depth=20 \n",
      "[CV]  n_estimators=1, min_samples_split=5, min_samples_leaf=1, max_features=sqrt, max_depth=20, total=   0.0s\n",
      "[CV] n_estimators=1, min_samples_split=5, min_samples_leaf=1, max_features=sqrt, max_depth=20 \n",
      "[CV]  n_estimators=1, min_samples_split=5, min_samples_leaf=1, max_features=sqrt, max_depth=20, total=   0.0s\n",
      "[CV] n_estimators=1, min_samples_split=5, min_samples_leaf=1, max_features=sqrt, max_depth=20 \n",
      "[CV]  n_estimators=1, min_samples_split=5, min_samples_leaf=1, max_features=sqrt, max_depth=20, total=   0.0s\n",
      "[CV] n_estimators=1, min_samples_split=4, min_samples_leaf=5, max_features=sqrt, max_depth=5 \n",
      "[CV]  n_estimators=1, min_samples_split=4, min_samples_leaf=5, max_features=sqrt, max_depth=5, total=   0.0s\n",
      "[CV] n_estimators=1, min_samples_split=4, min_samples_leaf=5, max_features=sqrt, max_depth=5 \n",
      "[CV]  n_estimators=1, min_samples_split=4, min_samples_leaf=5, max_features=sqrt, max_depth=5, total=   0.0s\n",
      "[CV] n_estimators=1, min_samples_split=4, min_samples_leaf=5, max_features=sqrt, max_depth=5 \n",
      "[CV]  n_estimators=1, min_samples_split=4, min_samples_leaf=5, max_features=sqrt, max_depth=5, total=   0.0s\n",
      "[CV] n_estimators=1, min_samples_split=5, min_samples_leaf=5, max_features=auto, max_depth=5 \n",
      "[CV]  n_estimators=1, min_samples_split=5, min_samples_leaf=5, max_features=auto, max_depth=5, total=   0.0s\n",
      "[CV] n_estimators=1, min_samples_split=5, min_samples_leaf=5, max_features=auto, max_depth=5 \n",
      "[CV]  n_estimators=1, min_samples_split=5, min_samples_leaf=5, max_features=auto, max_depth=5, total=   0.0s\n",
      "[CV] n_estimators=1, min_samples_split=5, min_samples_leaf=5, max_features=auto, max_depth=5 \n",
      "[CV]  n_estimators=1, min_samples_split=5, min_samples_leaf=5, max_features=auto, max_depth=5, total=   0.0s\n",
      "[CV] n_estimators=1, min_samples_split=3, min_samples_leaf=10, max_features=sqrt, max_depth=5 \n",
      "[CV]  n_estimators=1, min_samples_split=3, min_samples_leaf=10, max_features=sqrt, max_depth=5, total=   0.0s\n",
      "[CV] n_estimators=1, min_samples_split=3, min_samples_leaf=10, max_features=sqrt, max_depth=5 \n",
      "[CV]  n_estimators=1, min_samples_split=3, min_samples_leaf=10, max_features=sqrt, max_depth=5, total=   0.0s\n",
      "[CV] n_estimators=1, min_samples_split=3, min_samples_leaf=10, max_features=sqrt, max_depth=5 \n",
      "[CV]  n_estimators=1, min_samples_split=3, min_samples_leaf=10, max_features=sqrt, max_depth=5, total=   0.0s\n",
      "[CV] n_estimators=1, min_samples_split=6, min_samples_leaf=2, max_features=sqrt, max_depth=5 \n",
      "[CV]  n_estimators=1, min_samples_split=6, min_samples_leaf=2, max_features=sqrt, max_depth=5, total=   0.0s\n",
      "[CV] n_estimators=1, min_samples_split=6, min_samples_leaf=2, max_features=sqrt, max_depth=5 \n",
      "[CV]  n_estimators=1, min_samples_split=6, min_samples_leaf=2, max_features=sqrt, max_depth=5, total=   0.0s\n",
      "[CV] n_estimators=1, min_samples_split=6, min_samples_leaf=2, max_features=sqrt, max_depth=5 \n",
      "[CV]  n_estimators=1, min_samples_split=6, min_samples_leaf=2, max_features=sqrt, max_depth=5, total=   0.0s\n",
      "[CV] n_estimators=1, min_samples_split=5, min_samples_leaf=1, max_features=auto, max_depth=10 \n",
      "[CV]  n_estimators=1, min_samples_split=5, min_samples_leaf=1, max_features=auto, max_depth=10, total=   0.0s\n",
      "[CV] n_estimators=1, min_samples_split=5, min_samples_leaf=1, max_features=auto, max_depth=10 \n",
      "[CV]  n_estimators=1, min_samples_split=5, min_samples_leaf=1, max_features=auto, max_depth=10, total=   0.0s\n",
      "[CV] n_estimators=1, min_samples_split=5, min_samples_leaf=1, max_features=auto, max_depth=10 \n",
      "[CV]  n_estimators=1, min_samples_split=5, min_samples_leaf=1, max_features=auto, max_depth=10, total=   0.0s\n",
      "[CV] n_estimators=1, min_samples_split=6, min_samples_leaf=1, max_features=sqrt, max_depth=30 \n",
      "[CV]  n_estimators=1, min_samples_split=6, min_samples_leaf=1, max_features=sqrt, max_depth=30, total=   0.0s\n",
      "[CV] n_estimators=1, min_samples_split=6, min_samples_leaf=1, max_features=sqrt, max_depth=30 \n",
      "[CV]  n_estimators=1, min_samples_split=6, min_samples_leaf=1, max_features=sqrt, max_depth=30, total=   0.0s\n",
      "[CV] n_estimators=1, min_samples_split=6, min_samples_leaf=1, max_features=sqrt, max_depth=30 \n",
      "[CV]  n_estimators=1, min_samples_split=6, min_samples_leaf=1, max_features=sqrt, max_depth=30, total=   0.0s\n",
      "[CV] n_estimators=1, min_samples_split=6, min_samples_leaf=2, max_features=sqrt, max_depth=20 \n",
      "[CV]  n_estimators=1, min_samples_split=6, min_samples_leaf=2, max_features=sqrt, max_depth=20, total=   0.0s\n",
      "[CV] n_estimators=1, min_samples_split=6, min_samples_leaf=2, max_features=sqrt, max_depth=20 \n",
      "[CV]  n_estimators=1, min_samples_split=6, min_samples_leaf=2, max_features=sqrt, max_depth=20, total=   0.0s\n",
      "[CV] n_estimators=1, min_samples_split=6, min_samples_leaf=2, max_features=sqrt, max_depth=20 \n",
      "[CV]  n_estimators=1, min_samples_split=6, min_samples_leaf=2, max_features=sqrt, max_depth=20, total=   0.0s\n",
      "[CV] n_estimators=1, min_samples_split=4, min_samples_leaf=1, max_features=auto, max_depth=25 \n",
      "[CV]  n_estimators=1, min_samples_split=4, min_samples_leaf=1, max_features=auto, max_depth=25, total=   0.0s\n",
      "[CV] n_estimators=1, min_samples_split=4, min_samples_leaf=1, max_features=auto, max_depth=25 \n",
      "[CV]  n_estimators=1, min_samples_split=4, min_samples_leaf=1, max_features=auto, max_depth=25, total=   0.0s\n",
      "[CV] n_estimators=1, min_samples_split=4, min_samples_leaf=1, max_features=auto, max_depth=25 \n",
      "[CV]  n_estimators=1, min_samples_split=4, min_samples_leaf=1, max_features=auto, max_depth=25, total=   0.0s\n",
      "[CV] n_estimators=1, min_samples_split=4, min_samples_leaf=5, max_features=auto, max_depth=10 \n",
      "[CV]  n_estimators=1, min_samples_split=4, min_samples_leaf=5, max_features=auto, max_depth=10, total=   0.0s\n",
      "[CV] n_estimators=1, min_samples_split=4, min_samples_leaf=5, max_features=auto, max_depth=10 \n",
      "[CV]  n_estimators=1, min_samples_split=4, min_samples_leaf=5, max_features=auto, max_depth=10, total=   0.0s\n",
      "[CV] n_estimators=1, min_samples_split=4, min_samples_leaf=5, max_features=auto, max_depth=10 \n",
      "[CV]  n_estimators=1, min_samples_split=4, min_samples_leaf=5, max_features=auto, max_depth=10, total=   0.0s\n",
      "[CV] n_estimators=1, min_samples_split=5, min_samples_leaf=10, max_features=auto, max_depth=20 \n",
      "[CV]  n_estimators=1, min_samples_split=5, min_samples_leaf=10, max_features=auto, max_depth=20, total=   0.0s\n",
      "[CV] n_estimators=1, min_samples_split=5, min_samples_leaf=10, max_features=auto, max_depth=20 \n",
      "[CV]  n_estimators=1, min_samples_split=5, min_samples_leaf=10, max_features=auto, max_depth=20, total=   0.0s\n",
      "[CV] n_estimators=1, min_samples_split=5, min_samples_leaf=10, max_features=auto, max_depth=20 \n",
      "[CV]  n_estimators=1, min_samples_split=5, min_samples_leaf=10, max_features=auto, max_depth=20, total=   0.0s\n",
      "[CV] n_estimators=1, min_samples_split=3, min_samples_leaf=5, max_features=sqrt, max_depth=25 \n",
      "[CV]  n_estimators=1, min_samples_split=3, min_samples_leaf=5, max_features=sqrt, max_depth=25, total=   0.0s\n",
      "[CV] n_estimators=1, min_samples_split=3, min_samples_leaf=5, max_features=sqrt, max_depth=25 \n",
      "[CV]  n_estimators=1, min_samples_split=3, min_samples_leaf=5, max_features=sqrt, max_depth=25, total=   0.0s\n",
      "[CV] n_estimators=1, min_samples_split=3, min_samples_leaf=5, max_features=sqrt, max_depth=25 \n",
      "[CV]  n_estimators=1, min_samples_split=3, min_samples_leaf=5, max_features=sqrt, max_depth=25, total=   0.0s\n",
      "[CV] n_estimators=1, min_samples_split=4, min_samples_leaf=10, max_features=sqrt, max_depth=10 \n",
      "[CV]  n_estimators=1, min_samples_split=4, min_samples_leaf=10, max_features=sqrt, max_depth=10, total=   0.0s\n",
      "[CV] n_estimators=1, min_samples_split=4, min_samples_leaf=10, max_features=sqrt, max_depth=10 \n",
      "[CV]  n_estimators=1, min_samples_split=4, min_samples_leaf=10, max_features=sqrt, max_depth=10, total=   0.0s\n",
      "[CV] n_estimators=1, min_samples_split=4, min_samples_leaf=10, max_features=sqrt, max_depth=10 \n",
      "[CV]  n_estimators=1, min_samples_split=4, min_samples_leaf=10, max_features=sqrt, max_depth=10, total=   0.0s\n",
      "[CV] n_estimators=1, min_samples_split=4, min_samples_leaf=1, max_features=auto, max_depth=10 \n",
      "[CV]  n_estimators=1, min_samples_split=4, min_samples_leaf=1, max_features=auto, max_depth=10, total=   0.0s\n",
      "[CV] n_estimators=1, min_samples_split=4, min_samples_leaf=1, max_features=auto, max_depth=10 \n",
      "[CV]  n_estimators=1, min_samples_split=4, min_samples_leaf=1, max_features=auto, max_depth=10, total=   0.0s\n",
      "[CV] n_estimators=1, min_samples_split=4, min_samples_leaf=1, max_features=auto, max_depth=10 \n",
      "[CV]  n_estimators=1, min_samples_split=4, min_samples_leaf=1, max_features=auto, max_depth=10, total=   0.0s\n",
      "[CV] n_estimators=1, min_samples_split=5, min_samples_leaf=1, max_features=auto, max_depth=25 \n",
      "[CV]  n_estimators=1, min_samples_split=5, min_samples_leaf=1, max_features=auto, max_depth=25, total=   0.0s\n",
      "[CV] n_estimators=1, min_samples_split=5, min_samples_leaf=1, max_features=auto, max_depth=25 \n",
      "[CV]  n_estimators=1, min_samples_split=5, min_samples_leaf=1, max_features=auto, max_depth=25, total=   0.0s\n",
      "[CV] n_estimators=1, min_samples_split=5, min_samples_leaf=1, max_features=auto, max_depth=25 \n",
      "[CV]  n_estimators=1, min_samples_split=5, min_samples_leaf=1, max_features=auto, max_depth=25, total=   0.0s\n",
      "[CV] n_estimators=1, min_samples_split=4, min_samples_leaf=2, max_features=sqrt, max_depth=20 \n",
      "[CV]  n_estimators=1, min_samples_split=4, min_samples_leaf=2, max_features=sqrt, max_depth=20, total=   0.0s\n",
      "[CV] n_estimators=1, min_samples_split=4, min_samples_leaf=2, max_features=sqrt, max_depth=20 \n",
      "[CV]  n_estimators=1, min_samples_split=4, min_samples_leaf=2, max_features=sqrt, max_depth=20, total=   0.0s\n",
      "[CV] n_estimators=1, min_samples_split=4, min_samples_leaf=2, max_features=sqrt, max_depth=20 \n",
      "[CV]  n_estimators=1, min_samples_split=4, min_samples_leaf=2, max_features=sqrt, max_depth=20, total=   0.0s\n"
     ]
    },
    {
     "name": "stderr",
     "output_type": "stream",
     "text": [
      "[Parallel(n_jobs=1)]: Done 300 out of 300 | elapsed:    1.6s finished\n"
     ]
    },
    {
     "data": {
      "text/plain": [
       "RandomizedSearchCV(cv=3, error_score=nan,\n",
       "                   estimator=RandomForestClassifier(bootstrap=True,\n",
       "                                                    ccp_alpha=0.0,\n",
       "                                                    class_weight=None,\n",
       "                                                    criterion='gini',\n",
       "                                                    max_depth=None,\n",
       "                                                    max_features='auto',\n",
       "                                                    max_leaf_nodes=None,\n",
       "                                                    max_samples=None,\n",
       "                                                    min_impurity_decrease=0.0,\n",
       "                                                    min_impurity_split=None,\n",
       "                                                    min_samples_leaf=1,\n",
       "                                                    min_samples_split=2,\n",
       "                                                    min_weight_fraction_leaf=0.0,\n",
       "                                                    n_estimators=100,\n",
       "                                                    n_jobs...\n",
       "                                                    oob_score=False,\n",
       "                                                    random_state=None,\n",
       "                                                    verbose=0,\n",
       "                                                    warm_start=False),\n",
       "                   iid='deprecated', n_iter=100, n_jobs=1,\n",
       "                   param_distributions={'max_depth': [5, 10, 15, 20, 25, 30],\n",
       "                                        'max_features': ['auto', 'sqrt'],\n",
       "                                        'min_samples_leaf': [1, 2, 5, 10],\n",
       "                                        'min_samples_split': [3, 4, 5, 6, 7],\n",
       "                                        'n_estimators': [1]},\n",
       "                   pre_dispatch='2*n_jobs', random_state=42, refit=True,\n",
       "                   return_train_score=False, scoring=None, verbose=2)"
      ]
     },
     "execution_count": 39,
     "metadata": {},
     "output_type": "execute_result"
    }
   ],
   "source": [
    "from sklearn.ensemble import RandomForestClassifier\n",
    "rf = RandomForestClassifier()\n",
    "from sklearn.model_selection import RandomizedSearchCV\n",
    "\n",
    "n_estimators = [int(x) for x in np.linspace(start = 1, stop = 12, num = 1)]\n",
    "max_features = ['auto', 'sqrt']\n",
    "max_depth = [int(x) for x in np.linspace(5, 30, num = 6)]\n",
    "min_samples_split = [3,4,5,6,7]\n",
    "min_samples_leaf = [1, 2, 5, 10]\n",
    "\n",
    "random_grid = {'n_estimators': n_estimators,\n",
    "               'max_features': max_features,\n",
    "               'max_depth': max_depth,\n",
    "               'min_samples_split': min_samples_split,\n",
    "               'min_samples_leaf': min_samples_leaf}\n",
    "\n",
    "rf_random = RandomizedSearchCV(estimator = rf, param_distributions = random_grid, n_iter = 100, cv = 3, verbose=2,\n",
    "                               random_state=42, n_jobs = 1)\n",
    "rf_random.fit(x_train, y_train)"
   ]
  },
  {
   "cell_type": "code",
   "execution_count": 40,
   "metadata": {},
   "outputs": [
    {
     "data": {
      "text/plain": [
       "0.8610379816262169"
      ]
     },
     "execution_count": 40,
     "metadata": {},
     "output_type": "execute_result"
    }
   ],
   "source": [
    "rf_random.best_score_"
   ]
  },
  {
   "cell_type": "code",
   "execution_count": 41,
   "metadata": {},
   "outputs": [
    {
     "data": {
      "text/plain": [
       "{'n_estimators': 1,\n",
       " 'min_samples_split': 6,\n",
       " 'min_samples_leaf': 2,\n",
       " 'max_features': 'sqrt',\n",
       " 'max_depth': 15}"
      ]
     },
     "execution_count": 41,
     "metadata": {},
     "output_type": "execute_result"
    }
   ],
   "source": [
    "rf_random.best_params_"
   ]
  },
  {
   "cell_type": "code",
   "execution_count": 42,
   "metadata": {},
   "outputs": [
    {
     "data": {
      "text/plain": [
       "RandomForestClassifier(bootstrap=True, ccp_alpha=0.0, class_weight=None,\n",
       "                       criterion='gini', max_depth=15, max_features='sqrt',\n",
       "                       max_leaf_nodes=None, max_samples=None,\n",
       "                       min_impurity_decrease=0.0, min_impurity_split=None,\n",
       "                       min_samples_leaf=2, min_samples_split=6,\n",
       "                       min_weight_fraction_leaf=0.0, n_estimators=1,\n",
       "                       n_jobs=None, oob_score=False, random_state=None,\n",
       "                       verbose=0, warm_start=False)"
      ]
     },
     "execution_count": 42,
     "metadata": {},
     "output_type": "execute_result"
    }
   ],
   "source": [
    "from sklearn.ensemble import RandomForestClassifier\n",
    "rf = RandomForestClassifier(n_estimators = 1,\n",
    " min_samples_split = 6,\n",
    " min_samples_leaf = 2,\n",
    " max_features = 'sqrt',\n",
    " max_depth = 15)\n",
    "\n",
    "rf.fit(x_train, y_train)"
   ]
  },
  {
   "cell_type": "code",
   "execution_count": 43,
   "metadata": {},
   "outputs": [
    {
     "name": "stdout",
     "output_type": "stream",
     "text": [
      "0.8957703927492447\n",
      "0.8666666666666667\n"
     ]
    }
   ],
   "source": [
    "y_pred = rf.predict(x_test)\n",
    "\n",
    "print(rf.score(x_train, y_train))\n",
    "print(rf.score(x_test, y_test))"
   ]
  },
  {
   "cell_type": "code",
   "execution_count": 44,
   "metadata": {},
   "outputs": [],
   "source": [
    "test_pred = rf.predict(test_no_1)\n",
    "\n",
    "submission_1 = pd.DataFrame({'IsGoodNews': test_pred})"
   ]
  },
  {
   "cell_type": "code",
   "execution_count": 45,
   "metadata": {},
   "outputs": [],
   "source": [
    "submission_1.to_excel('Submission_2.xlsx', index = False)"
   ]
  },
  {
   "cell_type": "code",
   "execution_count": 46,
   "metadata": {},
   "outputs": [],
   "source": [
    "from sklearn.ensemble import BaggingClassifier\n",
    "\n",
    "bagg = BaggingClassifier()"
   ]
  },
  {
   "cell_type": "code",
   "execution_count": 47,
   "metadata": {},
   "outputs": [],
   "source": [
    "test_pred = bagg.fit(x_train, y_train).predict(test_no_1)\n",
    "submission_1 = pd.DataFrame({'IsGoodNews': test_pred})\n",
    "submission_1.to_excel('Submission_3.xlsx', index = False)"
   ]
  },
  {
   "cell_type": "code",
   "execution_count": 48,
   "metadata": {},
   "outputs": [
    {
     "name": "stdout",
     "output_type": "stream",
     "text": [
      "              precision    recall  f1-score   support\n",
      "\n",
      "         0.0       0.89      0.93      0.91       174\n",
      "         1.0       0.88      0.83      0.85       111\n",
      "\n",
      "    accuracy                           0.89       285\n",
      "   macro avg       0.89      0.88      0.88       285\n",
      "weighted avg       0.89      0.89      0.89       285\n",
      "\n"
     ]
    }
   ],
   "source": [
    "bagg = BaggingClassifier()\n",
    "\n",
    "bagg.fit(x_train, y_train)\n",
    "\n",
    "y_pred = bagg.predict(x_test)\n",
    "\n",
    "accuracy_score(y_test, y_pred)\n",
    "\n",
    "print(classification_report(y_test, y_pred))"
   ]
  },
  {
   "cell_type": "code",
   "execution_count": 49,
   "metadata": {},
   "outputs": [],
   "source": [
    "from sklearn.ensemble import GradientBoostingClassifier\n",
    "\n",
    "gab = GradientBoostingClassifier()"
   ]
  },
  {
   "cell_type": "code",
   "execution_count": 51,
   "metadata": {},
   "outputs": [],
   "source": [
    "test_pred = gab.fit(x_train, y_train).predict(test_no_1)\n",
    "\n",
    "submission_1 = pd.DataFrame({'IsGoodNews': test_pred})\n",
    "\n",
    "submission_1.to_excel('Submission_4.xlsx', index = False)"
   ]
  },
  {
   "cell_type": "code",
   "execution_count": 56,
   "metadata": {},
   "outputs": [
    {
     "data": {
      "text/plain": [
       "0    579\n",
       "1    368\n",
       "Name: IsGoodNews, dtype: int64"
      ]
     },
     "execution_count": 56,
     "metadata": {},
     "output_type": "execute_result"
    }
   ],
   "source": [
    "train.IsGoodNews.value_counts()"
   ]
  },
  {
   "cell_type": "code",
   "execution_count": null,
   "metadata": {},
   "outputs": [],
   "source": []
  },
  {
   "cell_type": "code",
   "execution_count": null,
   "metadata": {},
   "outputs": [],
   "source": []
  },
  {
   "cell_type": "code",
   "execution_count": null,
   "metadata": {},
   "outputs": [],
   "source": []
  }
 ],
 "metadata": {
  "kernelspec": {
   "display_name": "Python 3",
   "language": "python",
   "name": "python3"
  },
  "language_info": {
   "codemirror_mode": {
    "name": "ipython",
    "version": 3
   },
   "file_extension": ".py",
   "mimetype": "text/x-python",
   "name": "python",
   "nbconvert_exporter": "python",
   "pygments_lexer": "ipython3",
   "version": "3.7.3"
  }
 },
 "nbformat": 4,
 "nbformat_minor": 2
}
