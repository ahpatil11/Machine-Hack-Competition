{
 "cells": [
  {
   "cell_type": "code",
   "execution_count": 25,
   "id": "d5bd8221",
   "metadata": {},
   "outputs": [],
   "source": [
    "import numpy as np\n",
    "import pandas as pd\n",
    "import matplotlib.pyplot as plt\n",
    "import seaborn as sns"
   ]
  },
  {
   "cell_type": "code",
   "execution_count": 26,
   "id": "a2f7aff0",
   "metadata": {},
   "outputs": [
    {
     "data": {
      "text/html": [
       "<div>\n",
       "<style scoped>\n",
       "    .dataframe tbody tr th:only-of-type {\n",
       "        vertical-align: middle;\n",
       "    }\n",
       "\n",
       "    .dataframe tbody tr th {\n",
       "        vertical-align: top;\n",
       "    }\n",
       "\n",
       "    .dataframe thead th {\n",
       "        text-align: right;\n",
       "    }\n",
       "</style>\n",
       "<table border=\"1\" class=\"dataframe\">\n",
       "  <thead>\n",
       "    <tr style=\"text-align: right;\">\n",
       "      <th></th>\n",
       "      <th>Date</th>\n",
       "      <th>Weather</th>\n",
       "      <th>Year</th>\n",
       "      <th>Month</th>\n",
       "      <th>Hour</th>\n",
       "      <th>Holiday</th>\n",
       "      <th>Normalized_Temperature</th>\n",
       "      <th>Normalized_Feeling_Temperature</th>\n",
       "      <th>Normalized_Humidity</th>\n",
       "      <th>Windspeed</th>\n",
       "      <th>Count_of_Casual_Users</th>\n",
       "      <th>Count_of_Registered_Users</th>\n",
       "      <th>Count_of_Rented_Bikes</th>\n",
       "    </tr>\n",
       "  </thead>\n",
       "  <tbody>\n",
       "    <tr>\n",
       "      <th>0</th>\n",
       "      <td>17/12/13</td>\n",
       "      <td>Clear, Few clouds, Partly cloudy</td>\n",
       "      <td>2013</td>\n",
       "      <td>12</td>\n",
       "      <td>14</td>\n",
       "      <td>0</td>\n",
       "      <td>0.281667</td>\n",
       "      <td>0.269267</td>\n",
       "      <td>0.453371</td>\n",
       "      <td>0.363818</td>\n",
       "      <td>30</td>\n",
       "      <td>207</td>\n",
       "      <td>237</td>\n",
       "    </tr>\n",
       "    <tr>\n",
       "      <th>1</th>\n",
       "      <td>28/02/14</td>\n",
       "      <td>Clear, Few clouds, Partly cloudy</td>\n",
       "      <td>2014</td>\n",
       "      <td>2</td>\n",
       "      <td>21</td>\n",
       "      <td>0</td>\n",
       "      <td>0.350000</td>\n",
       "      <td>0.353500</td>\n",
       "      <td>0.461124</td>\n",
       "      <td>0.110118</td>\n",
       "      <td>10</td>\n",
       "      <td>179</td>\n",
       "      <td>189</td>\n",
       "    </tr>\n",
       "    <tr>\n",
       "      <th>2</th>\n",
       "      <td>28/03/14</td>\n",
       "      <td>Clear, Few clouds, Partly cloudy</td>\n",
       "      <td>2014</td>\n",
       "      <td>3</td>\n",
       "      <td>22</td>\n",
       "      <td>0</td>\n",
       "      <td>0.572500</td>\n",
       "      <td>0.546411</td>\n",
       "      <td>0.645618</td>\n",
       "      <td>0.141042</td>\n",
       "      <td>21</td>\n",
       "      <td>152</td>\n",
       "      <td>173</td>\n",
       "    </tr>\n",
       "    <tr>\n",
       "      <th>3</th>\n",
       "      <td>12/05/14</td>\n",
       "      <td>Mist + Cloudy, Mist + Broken clouds, Mist + Fe...</td>\n",
       "      <td>2014</td>\n",
       "      <td>5</td>\n",
       "      <td>21</td>\n",
       "      <td>0</td>\n",
       "      <td>0.602917</td>\n",
       "      <td>0.609989</td>\n",
       "      <td>0.606742</td>\n",
       "      <td>0.138794</td>\n",
       "      <td>74</td>\n",
       "      <td>156</td>\n",
       "      <td>230</td>\n",
       "    </tr>\n",
       "    <tr>\n",
       "      <th>4</th>\n",
       "      <td>15/05/13</td>\n",
       "      <td>Mist + Cloudy, Mist + Broken clouds, Mist + Fe...</td>\n",
       "      <td>2013</td>\n",
       "      <td>5</td>\n",
       "      <td>1</td>\n",
       "      <td>0</td>\n",
       "      <td>0.520417</td>\n",
       "      <td>0.511111</td>\n",
       "      <td>1.007865</td>\n",
       "      <td>0.112365</td>\n",
       "      <td>4</td>\n",
       "      <td>43</td>\n",
       "      <td>47</td>\n",
       "    </tr>\n",
       "  </tbody>\n",
       "</table>\n",
       "</div>"
      ],
      "text/plain": [
       "       Date                                            Weather  Year  Month  \\\n",
       "0  17/12/13                   Clear, Few clouds, Partly cloudy  2013     12   \n",
       "1  28/02/14                   Clear, Few clouds, Partly cloudy  2014      2   \n",
       "2  28/03/14                   Clear, Few clouds, Partly cloudy  2014      3   \n",
       "3  12/05/14  Mist + Cloudy, Mist + Broken clouds, Mist + Fe...  2014      5   \n",
       "4  15/05/13  Mist + Cloudy, Mist + Broken clouds, Mist + Fe...  2013      5   \n",
       "\n",
       "   Hour  Holiday  Normalized_Temperature  Normalized_Feeling_Temperature  \\\n",
       "0    14        0                0.281667                        0.269267   \n",
       "1    21        0                0.350000                        0.353500   \n",
       "2    22        0                0.572500                        0.546411   \n",
       "3    21        0                0.602917                        0.609989   \n",
       "4     1        0                0.520417                        0.511111   \n",
       "\n",
       "   Normalized_Humidity  Windspeed  Count_of_Casual_Users  \\\n",
       "0             0.453371   0.363818                     30   \n",
       "1             0.461124   0.110118                     10   \n",
       "2             0.645618   0.141042                     21   \n",
       "3             0.606742   0.138794                     74   \n",
       "4             1.007865   0.112365                      4   \n",
       "\n",
       "   Count_of_Registered_Users  Count_of_Rented_Bikes  \n",
       "0                        207                    237  \n",
       "1                        179                    189  \n",
       "2                        152                    173  \n",
       "3                        156                    230  \n",
       "4                         43                     47  "
      ]
     },
     "execution_count": 26,
     "metadata": {},
     "output_type": "execute_result"
    }
   ],
   "source": [
    "train = pd.read_csv('train.csv')\n",
    "train.head()"
   ]
  },
  {
   "cell_type": "code",
   "execution_count": 27,
   "id": "ce9cceef",
   "metadata": {},
   "outputs": [
    {
     "data": {
      "text/plain": [
       "(12165, 13)"
      ]
     },
     "execution_count": 27,
     "metadata": {},
     "output_type": "execute_result"
    }
   ],
   "source": [
    "train.shape"
   ]
  },
  {
   "cell_type": "code",
   "execution_count": 28,
   "id": "6d451316",
   "metadata": {},
   "outputs": [
    {
     "data": {
      "text/plain": [
       "0"
      ]
     },
     "execution_count": 28,
     "metadata": {},
     "output_type": "execute_result"
    }
   ],
   "source": [
    "train.duplicated().sum()"
   ]
  },
  {
   "cell_type": "code",
   "execution_count": 29,
   "id": "a76a066b",
   "metadata": {},
   "outputs": [
    {
     "data": {
      "text/plain": [
       "Date                              0\n",
       "Weather                           0\n",
       "Year                              0\n",
       "Month                             0\n",
       "Hour                              0\n",
       "Holiday                           0\n",
       "Normalized_Temperature            0\n",
       "Normalized_Feeling_Temperature    0\n",
       "Normalized_Humidity               0\n",
       "Windspeed                         0\n",
       "Count_of_Casual_Users             0\n",
       "Count_of_Registered_Users         0\n",
       "Count_of_Rented_Bikes             0\n",
       "dtype: int64"
      ]
     },
     "execution_count": 29,
     "metadata": {},
     "output_type": "execute_result"
    }
   ],
   "source": [
    "train.isnull().sum()"
   ]
  },
  {
   "cell_type": "code",
   "execution_count": 30,
   "id": "afbcfc28",
   "metadata": {},
   "outputs": [
    {
     "data": {
      "text/html": [
       "<div>\n",
       "<style scoped>\n",
       "    .dataframe tbody tr th:only-of-type {\n",
       "        vertical-align: middle;\n",
       "    }\n",
       "\n",
       "    .dataframe tbody tr th {\n",
       "        vertical-align: top;\n",
       "    }\n",
       "\n",
       "    .dataframe thead th {\n",
       "        text-align: right;\n",
       "    }\n",
       "</style>\n",
       "<table border=\"1\" class=\"dataframe\">\n",
       "  <thead>\n",
       "    <tr style=\"text-align: right;\">\n",
       "      <th></th>\n",
       "      <th>Date</th>\n",
       "      <th>Weather</th>\n",
       "      <th>Year</th>\n",
       "      <th>Month</th>\n",
       "      <th>Hour</th>\n",
       "      <th>Holiday</th>\n",
       "      <th>Normalized_Temperature</th>\n",
       "      <th>Normalized_Feeling_Temperature</th>\n",
       "      <th>Normalized_Humidity</th>\n",
       "      <th>Windspeed</th>\n",
       "    </tr>\n",
       "  </thead>\n",
       "  <tbody>\n",
       "    <tr>\n",
       "      <th>0</th>\n",
       "      <td>08/08/14</td>\n",
       "      <td>Mist + Cloudy, Mist + Broken clouds, Mist + Fe...</td>\n",
       "      <td>2014</td>\n",
       "      <td>8</td>\n",
       "      <td>14</td>\n",
       "      <td>0</td>\n",
       "      <td>0.802500</td>\n",
       "      <td>0.742956</td>\n",
       "      <td>0.522247</td>\n",
       "      <td>0.257071</td>\n",
       "    </tr>\n",
       "    <tr>\n",
       "      <th>1</th>\n",
       "      <td>27/07/14</td>\n",
       "      <td>Clear, Few clouds, Partly cloudy</td>\n",
       "      <td>2014</td>\n",
       "      <td>7</td>\n",
       "      <td>20</td>\n",
       "      <td>0</td>\n",
       "      <td>0.781250</td>\n",
       "      <td>0.749067</td>\n",
       "      <td>0.593371</td>\n",
       "      <td>0.105624</td>\n",
       "    </tr>\n",
       "    <tr>\n",
       "      <th>2</th>\n",
       "      <td>22/08/14</td>\n",
       "      <td>Clear, Few clouds, Partly cloudy</td>\n",
       "      <td>2014</td>\n",
       "      <td>8</td>\n",
       "      <td>2</td>\n",
       "      <td>0</td>\n",
       "      <td>0.622083</td>\n",
       "      <td>0.601456</td>\n",
       "      <td>0.782247</td>\n",
       "      <td>0.001124</td>\n",
       "    </tr>\n",
       "    <tr>\n",
       "      <th>3</th>\n",
       "      <td>10/02/14</td>\n",
       "      <td>Mist + Cloudy, Mist + Broken clouds, Mist + Fe...</td>\n",
       "      <td>2014</td>\n",
       "      <td>2</td>\n",
       "      <td>22</td>\n",
       "      <td>0</td>\n",
       "      <td>0.329583</td>\n",
       "      <td>0.351833</td>\n",
       "      <td>0.671236</td>\n",
       "      <td>0.011236</td>\n",
       "    </tr>\n",
       "    <tr>\n",
       "      <th>4</th>\n",
       "      <td>24/06/14</td>\n",
       "      <td>Mist + Cloudy, Mist + Broken clouds, Mist + Fe...</td>\n",
       "      <td>2014</td>\n",
       "      <td>6</td>\n",
       "      <td>4</td>\n",
       "      <td>0</td>\n",
       "      <td>0.672500</td>\n",
       "      <td>0.623422</td>\n",
       "      <td>0.650000</td>\n",
       "      <td>0.011236</td>\n",
       "    </tr>\n",
       "  </tbody>\n",
       "</table>\n",
       "</div>"
      ],
      "text/plain": [
       "       Date                                            Weather  Year  Month  \\\n",
       "0  08/08/14  Mist + Cloudy, Mist + Broken clouds, Mist + Fe...  2014      8   \n",
       "1  27/07/14                   Clear, Few clouds, Partly cloudy  2014      7   \n",
       "2  22/08/14                   Clear, Few clouds, Partly cloudy  2014      8   \n",
       "3  10/02/14  Mist + Cloudy, Mist + Broken clouds, Mist + Fe...  2014      2   \n",
       "4  24/06/14  Mist + Cloudy, Mist + Broken clouds, Mist + Fe...  2014      6   \n",
       "\n",
       "   Hour  Holiday  Normalized_Temperature  Normalized_Feeling_Temperature  \\\n",
       "0    14        0                0.802500                        0.742956   \n",
       "1    20        0                0.781250                        0.749067   \n",
       "2     2        0                0.622083                        0.601456   \n",
       "3    22        0                0.329583                        0.351833   \n",
       "4     4        0                0.672500                        0.623422   \n",
       "\n",
       "   Normalized_Humidity  Windspeed  \n",
       "0             0.522247   0.257071  \n",
       "1             0.593371   0.105624  \n",
       "2             0.782247   0.001124  \n",
       "3             0.671236   0.011236  \n",
       "4             0.650000   0.011236  "
      ]
     },
     "execution_count": 30,
     "metadata": {},
     "output_type": "execute_result"
    }
   ],
   "source": [
    "test = pd.read_csv('test.csv')\n",
    "test.head()"
   ]
  },
  {
   "cell_type": "code",
   "execution_count": 31,
   "id": "1f14e236",
   "metadata": {},
   "outputs": [
    {
     "data": {
      "text/plain": [
       "(5214, 10)"
      ]
     },
     "execution_count": 31,
     "metadata": {},
     "output_type": "execute_result"
    }
   ],
   "source": [
    "test.shape"
   ]
  },
  {
   "cell_type": "code",
   "execution_count": 32,
   "id": "7e8abe39",
   "metadata": {},
   "outputs": [
    {
     "data": {
      "text/plain": [
       "0"
      ]
     },
     "execution_count": 32,
     "metadata": {},
     "output_type": "execute_result"
    }
   ],
   "source": [
    "test.duplicated().sum()"
   ]
  },
  {
   "cell_type": "code",
   "execution_count": 33,
   "id": "a924e2be",
   "metadata": {},
   "outputs": [
    {
     "data": {
      "text/plain": [
       "Date                              0\n",
       "Weather                           0\n",
       "Year                              0\n",
       "Month                             0\n",
       "Hour                              0\n",
       "Holiday                           0\n",
       "Normalized_Temperature            0\n",
       "Normalized_Feeling_Temperature    0\n",
       "Normalized_Humidity               0\n",
       "Windspeed                         0\n",
       "dtype: int64"
      ]
     },
     "execution_count": 33,
     "metadata": {},
     "output_type": "execute_result"
    }
   ],
   "source": [
    "test.isnull().sum()"
   ]
  },
  {
   "cell_type": "code",
   "execution_count": 34,
   "id": "6640d616",
   "metadata": {},
   "outputs": [
    {
     "data": {
      "text/plain": [
       "{'Count_of_Casual_Users', 'Count_of_Registered_Users', 'Count_of_Rented_Bikes'}"
      ]
     },
     "execution_count": 34,
     "metadata": {},
     "output_type": "execute_result"
    }
   ],
   "source": [
    "set(train.columns) - set(test.columns)"
   ]
  },
  {
   "cell_type": "code",
   "execution_count": 35,
   "id": "7b672196",
   "metadata": {},
   "outputs": [],
   "source": [
    "from sklearn.model_selection import train_test_split\n",
    "from sklearn.ensemble import RandomForestRegressor\n",
    "from sklearn.metrics import mean_squared_error"
   ]
  },
  {
   "cell_type": "code",
   "execution_count": 36,
   "id": "9d08bcd2",
   "metadata": {},
   "outputs": [],
   "source": [
    "train['Date'] = pd.to_datetime(train['Date'], format='%d/%m/%y')\n",
    "test['Date'] = pd.to_datetime(test['Date'], format='%d/%m/%y')"
   ]
  },
  {
   "cell_type": "code",
   "execution_count": 37,
   "id": "b8efab85",
   "metadata": {},
   "outputs": [],
   "source": [
    "for df in [train, test]:\n",
    "    df['Day_of_Week'] = df['Date'].dt.dayofweek\n",
    "    df['Day_of_Month'] = df['Date'].dt.day\n",
    "    df['Week_of_Year'] = df['Date'].dt.isocalendar().week\n"
   ]
  },
  {
   "cell_type": "code",
   "execution_count": 38,
   "id": "67487fc7",
   "metadata": {},
   "outputs": [],
   "source": [
    "train['Lag_1'] = train['Count_of_Rented_Bikes'].shift(1)\n",
    "train['Rolling_Mean_3'] = train['Count_of_Rented_Bikes'].shift(1).rolling(window=3).mean()\n",
    "train['Rolling_Mean_7'] = train['Count_of_Rented_Bikes'].shift(1).rolling(window=7).mean()"
   ]
  },
  {
   "cell_type": "code",
   "execution_count": 39,
   "id": "b5a77eed",
   "metadata": {},
   "outputs": [],
   "source": [
    "train.dropna(inplace=True)"
   ]
  },
  {
   "cell_type": "code",
   "execution_count": 40,
   "id": "f4b54071",
   "metadata": {},
   "outputs": [],
   "source": [
    "features = [\n",
    "    'Year', 'Month', 'Hour', 'Holiday', 'Normalized_Temperature', \n",
    "    'Normalized_Feeling_Temperature', 'Normalized_Humidity', \n",
    "    'Windspeed', 'Day_of_Week', 'Day_of_Month', 'Week_of_Year', \n",
    "    'Lag_1', 'Rolling_Mean_3', 'Rolling_Mean_7'\n",
    "]\n"
   ]
  },
  {
   "cell_type": "code",
   "execution_count": 41,
   "id": "64a3f22a",
   "metadata": {},
   "outputs": [],
   "source": [
    "X = train[features]\n",
    "y = train['Count_of_Rented_Bikes']"
   ]
  },
  {
   "cell_type": "code",
   "execution_count": 42,
   "id": "3e5f98bb",
   "metadata": {},
   "outputs": [],
   "source": [
    "X_train, X_val, y_train, y_val = train_test_split(X, y, test_size=0.2, random_state=42, shuffle=False)"
   ]
  },
  {
   "cell_type": "code",
   "execution_count": 43,
   "id": "0b647c38",
   "metadata": {},
   "outputs": [
    {
     "name": "stdout",
     "output_type": "stream",
     "text": [
      "RMSE: 53.345933858651726\n"
     ]
    }
   ],
   "source": [
    "rf_model = RandomForestRegressor(n_estimators=100, random_state=42)\n",
    "rf_model.fit(X_train, y_train)\n",
    "y_pred = rf_model.predict(X_val)\n",
    "rmse = np.sqrt(mean_squared_error(y_val, y_pred))\n",
    "print(f'RMSE: {rmse}')"
   ]
  },
  {
   "cell_type": "code",
   "execution_count": 44,
   "id": "def1b29a",
   "metadata": {},
   "outputs": [],
   "source": [
    "test['Lag_1'] = train['Count_of_Rented_Bikes'].iloc[-1]  # Use the last value from the train set for the first lag\n",
    "test['Rolling_Mean_3'] = train['Count_of_Rented_Bikes'].rolling(window=3).mean().iloc[-1]\n",
    "test['Rolling_Mean_7'] = train['Count_of_Rented_Bikes'].rolling(window=7).mean().iloc[-1]"
   ]
  },
  {
   "cell_type": "code",
   "execution_count": 45,
   "id": "32702696",
   "metadata": {},
   "outputs": [],
   "source": [
    "test['Lag_1'].fillna(method='ffill', inplace=True)\n",
    "test['Rolling_Mean_3'].fillna(method='ffill', inplace=True)\n",
    "test['Rolling_Mean_7'].fillna(method='ffill', inplace=True)"
   ]
  },
  {
   "cell_type": "code",
   "execution_count": 52,
   "id": "65dcca3c",
   "metadata": {},
   "outputs": [],
   "source": [
    "test_predictions = rf_model.predict(test[features])\n",
    "test['Count_of_Rented_Bikes'] = test['Count_of_Rented_Bikes'].astype(int)\n",
    "test['Count_of_Rented_Bikes'] = test_predictions"
   ]
  },
  {
   "cell_type": "code",
   "execution_count": 53,
   "id": "23bd15cc",
   "metadata": {},
   "outputs": [],
   "source": [
    "a = pd.DataFrame(test_predictions, columns= ['Count_of_Rented_Bikes'])\n",
    "a.to_csv('RF.csv', index = False)"
   ]
  },
  {
   "cell_type": "code",
   "execution_count": null,
   "id": "5d3a4151",
   "metadata": {},
   "outputs": [],
   "source": []
  }
 ],
 "metadata": {
  "kernelspec": {
   "display_name": "Python 3 (ipykernel)",
   "language": "python",
   "name": "python3"
  },
  "language_info": {
   "codemirror_mode": {
    "name": "ipython",
    "version": 3
   },
   "file_extension": ".py",
   "mimetype": "text/x-python",
   "name": "python",
   "nbconvert_exporter": "python",
   "pygments_lexer": "ipython3",
   "version": "3.11.5"
  }
 },
 "nbformat": 4,
 "nbformat_minor": 5
}
