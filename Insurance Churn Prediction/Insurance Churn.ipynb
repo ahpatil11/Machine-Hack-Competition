{
 "cells": [
  {
   "cell_type": "code",
   "execution_count": 1,
   "metadata": {},
   "outputs": [],
   "source": [
    "import numpy as np\n",
    "import pandas as pd\n",
    "import matplotlib.pyplot as plt\n",
    "import seaborn as sns"
   ]
  },
  {
   "cell_type": "code",
   "execution_count": 2,
   "metadata": {},
   "outputs": [
    {
     "data": {
      "text/html": [
       "<div>\n",
       "<style scoped>\n",
       "    .dataframe tbody tr th:only-of-type {\n",
       "        vertical-align: middle;\n",
       "    }\n",
       "\n",
       "    .dataframe tbody tr th {\n",
       "        vertical-align: top;\n",
       "    }\n",
       "\n",
       "    .dataframe thead th {\n",
       "        text-align: right;\n",
       "    }\n",
       "</style>\n",
       "<table border=\"1\" class=\"dataframe\">\n",
       "  <thead>\n",
       "    <tr style=\"text-align: right;\">\n",
       "      <th></th>\n",
       "      <th>feature_0</th>\n",
       "      <th>feature_1</th>\n",
       "      <th>feature_2</th>\n",
       "      <th>feature_3</th>\n",
       "      <th>feature_4</th>\n",
       "      <th>feature_5</th>\n",
       "      <th>feature_6</th>\n",
       "      <th>feature_7</th>\n",
       "      <th>feature_8</th>\n",
       "      <th>feature_9</th>\n",
       "      <th>feature_10</th>\n",
       "      <th>feature_11</th>\n",
       "      <th>feature_12</th>\n",
       "      <th>feature_13</th>\n",
       "      <th>feature_14</th>\n",
       "      <th>feature_15</th>\n",
       "      <th>labels</th>\n",
       "    </tr>\n",
       "  </thead>\n",
       "  <tbody>\n",
       "    <tr>\n",
       "      <th>0</th>\n",
       "      <td>-0.276515</td>\n",
       "      <td>-0.424429</td>\n",
       "      <td>1.344997</td>\n",
       "      <td>-0.012283</td>\n",
       "      <td>0.076230</td>\n",
       "      <td>1.076648</td>\n",
       "      <td>0.182198</td>\n",
       "      <td>3</td>\n",
       "      <td>0</td>\n",
       "      <td>1</td>\n",
       "      <td>0</td>\n",
       "      <td>0</td>\n",
       "      <td>0</td>\n",
       "      <td>0</td>\n",
       "      <td>10</td>\n",
       "      <td>2</td>\n",
       "      <td>1</td>\n",
       "    </tr>\n",
       "    <tr>\n",
       "      <th>1</th>\n",
       "      <td>0.853573</td>\n",
       "      <td>0.150991</td>\n",
       "      <td>0.503892</td>\n",
       "      <td>-0.979179</td>\n",
       "      <td>-0.569351</td>\n",
       "      <td>-0.411453</td>\n",
       "      <td>-0.251940</td>\n",
       "      <td>4</td>\n",
       "      <td>1</td>\n",
       "      <td>2</td>\n",
       "      <td>0</td>\n",
       "      <td>1</td>\n",
       "      <td>0</td>\n",
       "      <td>0</td>\n",
       "      <td>0</td>\n",
       "      <td>3</td>\n",
       "      <td>0</td>\n",
       "    </tr>\n",
       "    <tr>\n",
       "      <th>2</th>\n",
       "      <td>0.947747</td>\n",
       "      <td>-0.173832</td>\n",
       "      <td>1.825628</td>\n",
       "      <td>-0.703478</td>\n",
       "      <td>0.076230</td>\n",
       "      <td>-0.411453</td>\n",
       "      <td>-0.251940</td>\n",
       "      <td>6</td>\n",
       "      <td>1</td>\n",
       "      <td>2</td>\n",
       "      <td>0</td>\n",
       "      <td>0</td>\n",
       "      <td>0</td>\n",
       "      <td>0</td>\n",
       "      <td>5</td>\n",
       "      <td>3</td>\n",
       "      <td>0</td>\n",
       "    </tr>\n",
       "    <tr>\n",
       "      <th>3</th>\n",
       "      <td>0.853573</td>\n",
       "      <td>-0.381404</td>\n",
       "      <td>0.984523</td>\n",
       "      <td>-0.039464</td>\n",
       "      <td>-0.569351</td>\n",
       "      <td>-0.411453</td>\n",
       "      <td>-0.251940</td>\n",
       "      <td>4</td>\n",
       "      <td>0</td>\n",
       "      <td>2</td>\n",
       "      <td>0</td>\n",
       "      <td>1</td>\n",
       "      <td>0</td>\n",
       "      <td>0</td>\n",
       "      <td>5</td>\n",
       "      <td>3</td>\n",
       "      <td>0</td>\n",
       "    </tr>\n",
       "    <tr>\n",
       "      <th>4</th>\n",
       "      <td>1.324443</td>\n",
       "      <td>1.590527</td>\n",
       "      <td>-1.178318</td>\n",
       "      <td>-0.097711</td>\n",
       "      <td>-0.246560</td>\n",
       "      <td>-0.411453</td>\n",
       "      <td>-0.251940</td>\n",
       "      <td>0</td>\n",
       "      <td>1</td>\n",
       "      <td>1</td>\n",
       "      <td>0</td>\n",
       "      <td>0</td>\n",
       "      <td>0</td>\n",
       "      <td>0</td>\n",
       "      <td>8</td>\n",
       "      <td>3</td>\n",
       "      <td>0</td>\n",
       "    </tr>\n",
       "  </tbody>\n",
       "</table>\n",
       "</div>"
      ],
      "text/plain": [
       "   feature_0  feature_1  feature_2  feature_3  feature_4  feature_5  \\\n",
       "0  -0.276515  -0.424429   1.344997  -0.012283   0.076230   1.076648   \n",
       "1   0.853573   0.150991   0.503892  -0.979179  -0.569351  -0.411453   \n",
       "2   0.947747  -0.173832   1.825628  -0.703478   0.076230  -0.411453   \n",
       "3   0.853573  -0.381404   0.984523  -0.039464  -0.569351  -0.411453   \n",
       "4   1.324443   1.590527  -1.178318  -0.097711  -0.246560  -0.411453   \n",
       "\n",
       "   feature_6  feature_7  feature_8  feature_9  feature_10  feature_11  \\\n",
       "0   0.182198          3          0          1           0           0   \n",
       "1  -0.251940          4          1          2           0           1   \n",
       "2  -0.251940          6          1          2           0           0   \n",
       "3  -0.251940          4          0          2           0           1   \n",
       "4  -0.251940          0          1          1           0           0   \n",
       "\n",
       "   feature_12  feature_13  feature_14  feature_15  labels  \n",
       "0           0           0          10           2       1  \n",
       "1           0           0           0           3       0  \n",
       "2           0           0           5           3       0  \n",
       "3           0           0           5           3       0  \n",
       "4           0           0           8           3       0  "
      ]
     },
     "execution_count": 2,
     "metadata": {},
     "output_type": "execute_result"
    }
   ],
   "source": [
    "train = pd.read_csv('Train.csv')\n",
    "train.head()"
   ]
  },
  {
   "cell_type": "code",
   "execution_count": 3,
   "metadata": {},
   "outputs": [
    {
     "data": {
      "text/html": [
       "<div>\n",
       "<style scoped>\n",
       "    .dataframe tbody tr th:only-of-type {\n",
       "        vertical-align: middle;\n",
       "    }\n",
       "\n",
       "    .dataframe tbody tr th {\n",
       "        vertical-align: top;\n",
       "    }\n",
       "\n",
       "    .dataframe thead th {\n",
       "        text-align: right;\n",
       "    }\n",
       "</style>\n",
       "<table border=\"1\" class=\"dataframe\">\n",
       "  <thead>\n",
       "    <tr style=\"text-align: right;\">\n",
       "      <th></th>\n",
       "      <th>feature_0</th>\n",
       "      <th>feature_1</th>\n",
       "      <th>feature_2</th>\n",
       "      <th>feature_3</th>\n",
       "      <th>feature_4</th>\n",
       "      <th>feature_5</th>\n",
       "      <th>feature_6</th>\n",
       "      <th>feature_7</th>\n",
       "      <th>feature_8</th>\n",
       "      <th>feature_9</th>\n",
       "      <th>feature_10</th>\n",
       "      <th>feature_11</th>\n",
       "      <th>feature_12</th>\n",
       "      <th>feature_13</th>\n",
       "      <th>feature_14</th>\n",
       "      <th>feature_15</th>\n",
       "    </tr>\n",
       "  </thead>\n",
       "  <tbody>\n",
       "    <tr>\n",
       "      <th>0</th>\n",
       "      <td>0.571051</td>\n",
       "      <td>0.406843</td>\n",
       "      <td>0.984523</td>\n",
       "      <td>0.011016</td>\n",
       "      <td>-0.569351</td>\n",
       "      <td>-0.411453</td>\n",
       "      <td>-0.251940</td>\n",
       "      <td>0</td>\n",
       "      <td>1</td>\n",
       "      <td>1</td>\n",
       "      <td>0</td>\n",
       "      <td>0</td>\n",
       "      <td>0</td>\n",
       "      <td>0</td>\n",
       "      <td>11</td>\n",
       "      <td>3</td>\n",
       "    </tr>\n",
       "    <tr>\n",
       "      <th>1</th>\n",
       "      <td>-1.124080</td>\n",
       "      <td>-0.166935</td>\n",
       "      <td>0.503892</td>\n",
       "      <td>-0.322932</td>\n",
       "      <td>0.721811</td>\n",
       "      <td>0.547323</td>\n",
       "      <td>0.182198</td>\n",
       "      <td>0</td>\n",
       "      <td>2</td>\n",
       "      <td>1</td>\n",
       "      <td>0</td>\n",
       "      <td>0</td>\n",
       "      <td>0</td>\n",
       "      <td>0</td>\n",
       "      <td>5</td>\n",
       "      <td>1</td>\n",
       "    </tr>\n",
       "    <tr>\n",
       "      <th>2</th>\n",
       "      <td>0.476877</td>\n",
       "      <td>0.145079</td>\n",
       "      <td>-0.577529</td>\n",
       "      <td>-0.691828</td>\n",
       "      <td>-0.246560</td>\n",
       "      <td>-0.411453</td>\n",
       "      <td>-0.251940</td>\n",
       "      <td>0</td>\n",
       "      <td>1</td>\n",
       "      <td>1</td>\n",
       "      <td>0</td>\n",
       "      <td>0</td>\n",
       "      <td>0</td>\n",
       "      <td>0</td>\n",
       "      <td>1</td>\n",
       "      <td>3</td>\n",
       "    </tr>\n",
       "    <tr>\n",
       "      <th>3</th>\n",
       "      <td>1.606965</td>\n",
       "      <td>-0.447419</td>\n",
       "      <td>1.825628</td>\n",
       "      <td>-0.983062</td>\n",
       "      <td>7.177616</td>\n",
       "      <td>-0.411453</td>\n",
       "      <td>-0.251940</td>\n",
       "      <td>1</td>\n",
       "      <td>1</td>\n",
       "      <td>0</td>\n",
       "      <td>0</td>\n",
       "      <td>1</td>\n",
       "      <td>0</td>\n",
       "      <td>0</td>\n",
       "      <td>5</td>\n",
       "      <td>3</td>\n",
       "    </tr>\n",
       "    <tr>\n",
       "      <th>4</th>\n",
       "      <td>-0.935732</td>\n",
       "      <td>-0.364653</td>\n",
       "      <td>-1.178318</td>\n",
       "      <td>-0.322932</td>\n",
       "      <td>0.076230</td>\n",
       "      <td>-0.411453</td>\n",
       "      <td>-0.251940</td>\n",
       "      <td>8</td>\n",
       "      <td>2</td>\n",
       "      <td>1</td>\n",
       "      <td>0</td>\n",
       "      <td>1</td>\n",
       "      <td>0</td>\n",
       "      <td>2</td>\n",
       "      <td>8</td>\n",
       "      <td>3</td>\n",
       "    </tr>\n",
       "  </tbody>\n",
       "</table>\n",
       "</div>"
      ],
      "text/plain": [
       "   feature_0  feature_1  feature_2  feature_3  feature_4  feature_5  \\\n",
       "0   0.571051   0.406843   0.984523   0.011016  -0.569351  -0.411453   \n",
       "1  -1.124080  -0.166935   0.503892  -0.322932   0.721811   0.547323   \n",
       "2   0.476877   0.145079  -0.577529  -0.691828  -0.246560  -0.411453   \n",
       "3   1.606965  -0.447419   1.825628  -0.983062   7.177616  -0.411453   \n",
       "4  -0.935732  -0.364653  -1.178318  -0.322932   0.076230  -0.411453   \n",
       "\n",
       "   feature_6  feature_7  feature_8  feature_9  feature_10  feature_11  \\\n",
       "0  -0.251940          0          1          1           0           0   \n",
       "1   0.182198          0          2          1           0           0   \n",
       "2  -0.251940          0          1          1           0           0   \n",
       "3  -0.251940          1          1          0           0           1   \n",
       "4  -0.251940          8          2          1           0           1   \n",
       "\n",
       "   feature_12  feature_13  feature_14  feature_15  \n",
       "0           0           0          11           3  \n",
       "1           0           0           5           1  \n",
       "2           0           0           1           3  \n",
       "3           0           0           5           3  \n",
       "4           0           2           8           3  "
      ]
     },
     "execution_count": 3,
     "metadata": {},
     "output_type": "execute_result"
    }
   ],
   "source": [
    "test = pd.read_csv('Test.csv')\n",
    "test.head()"
   ]
  },
  {
   "cell_type": "code",
   "execution_count": 4,
   "metadata": {},
   "outputs": [
    {
     "name": "stdout",
     "output_type": "stream",
     "text": [
      "(33908, 17)\n",
      "(11303, 16)\n"
     ]
    }
   ],
   "source": [
    "print(train.shape)\n",
    "print(test.shape)"
   ]
  },
  {
   "cell_type": "code",
   "execution_count": 5,
   "metadata": {},
   "outputs": [
    {
     "name": "stdout",
     "output_type": "stream",
     "text": [
      "<class 'pandas.core.frame.DataFrame'>\n",
      "RangeIndex: 33908 entries, 0 to 33907\n",
      "Data columns (total 17 columns):\n",
      "feature_0     33908 non-null float64\n",
      "feature_1     33908 non-null float64\n",
      "feature_2     33908 non-null float64\n",
      "feature_3     33908 non-null float64\n",
      "feature_4     33908 non-null float64\n",
      "feature_5     33908 non-null float64\n",
      "feature_6     33908 non-null float64\n",
      "feature_7     33908 non-null int64\n",
      "feature_8     33908 non-null int64\n",
      "feature_9     33908 non-null int64\n",
      "feature_10    33908 non-null int64\n",
      "feature_11    33908 non-null int64\n",
      "feature_12    33908 non-null int64\n",
      "feature_13    33908 non-null int64\n",
      "feature_14    33908 non-null int64\n",
      "feature_15    33908 non-null int64\n",
      "labels        33908 non-null int64\n",
      "dtypes: float64(7), int64(10)\n",
      "memory usage: 4.4 MB\n"
     ]
    }
   ],
   "source": [
    "train.info()"
   ]
  },
  {
   "cell_type": "code",
   "execution_count": 6,
   "metadata": {},
   "outputs": [
    {
     "name": "stdout",
     "output_type": "stream",
     "text": [
      "<class 'pandas.core.frame.DataFrame'>\n",
      "RangeIndex: 11303 entries, 0 to 11302\n",
      "Data columns (total 16 columns):\n",
      "feature_0     11303 non-null float64\n",
      "feature_1     11303 non-null float64\n",
      "feature_2     11303 non-null float64\n",
      "feature_3     11303 non-null float64\n",
      "feature_4     11303 non-null float64\n",
      "feature_5     11303 non-null float64\n",
      "feature_6     11303 non-null float64\n",
      "feature_7     11303 non-null int64\n",
      "feature_8     11303 non-null int64\n",
      "feature_9     11303 non-null int64\n",
      "feature_10    11303 non-null int64\n",
      "feature_11    11303 non-null int64\n",
      "feature_12    11303 non-null int64\n",
      "feature_13    11303 non-null int64\n",
      "feature_14    11303 non-null int64\n",
      "feature_15    11303 non-null int64\n",
      "dtypes: float64(7), int64(9)\n",
      "memory usage: 1.4 MB\n"
     ]
    }
   ],
   "source": [
    "test.info()"
   ]
  },
  {
   "cell_type": "code",
   "execution_count": 7,
   "metadata": {},
   "outputs": [
    {
     "name": "stdout",
     "output_type": "stream",
     "text": [
      "feature_0     0\n",
      "feature_1     0\n",
      "feature_2     0\n",
      "feature_3     0\n",
      "feature_4     0\n",
      "feature_5     0\n",
      "feature_6     0\n",
      "feature_7     0\n",
      "feature_8     0\n",
      "feature_9     0\n",
      "feature_10    0\n",
      "feature_11    0\n",
      "feature_12    0\n",
      "feature_13    0\n",
      "feature_14    0\n",
      "feature_15    0\n",
      "labels        0\n",
      "dtype: int64\n"
     ]
    }
   ],
   "source": [
    "print(train.isnull().sum())"
   ]
  },
  {
   "cell_type": "code",
   "execution_count": 8,
   "metadata": {},
   "outputs": [
    {
     "name": "stdout",
     "output_type": "stream",
     "text": [
      "feature_0     0\n",
      "feature_1     0\n",
      "feature_2     0\n",
      "feature_3     0\n",
      "feature_4     0\n",
      "feature_5     0\n",
      "feature_6     0\n",
      "feature_7     0\n",
      "feature_8     0\n",
      "feature_9     0\n",
      "feature_10    0\n",
      "feature_11    0\n",
      "feature_12    0\n",
      "feature_13    0\n",
      "feature_14    0\n",
      "feature_15    0\n",
      "dtype: int64\n"
     ]
    }
   ],
   "source": [
    "print(test.isnull().sum())"
   ]
  },
  {
   "cell_type": "code",
   "execution_count": 9,
   "metadata": {},
   "outputs": [
    {
     "data": {
      "text/html": [
       "<div>\n",
       "<style scoped>\n",
       "    .dataframe tbody tr th:only-of-type {\n",
       "        vertical-align: middle;\n",
       "    }\n",
       "\n",
       "    .dataframe tbody tr th {\n",
       "        vertical-align: top;\n",
       "    }\n",
       "\n",
       "    .dataframe thead th {\n",
       "        text-align: right;\n",
       "    }\n",
       "</style>\n",
       "<table border=\"1\" class=\"dataframe\">\n",
       "  <thead>\n",
       "    <tr style=\"text-align: right;\">\n",
       "      <th></th>\n",
       "      <th>feature_0</th>\n",
       "      <th>feature_1</th>\n",
       "      <th>feature_2</th>\n",
       "      <th>feature_3</th>\n",
       "      <th>feature_4</th>\n",
       "      <th>feature_5</th>\n",
       "      <th>feature_6</th>\n",
       "      <th>feature_7</th>\n",
       "      <th>feature_8</th>\n",
       "      <th>feature_9</th>\n",
       "      <th>feature_10</th>\n",
       "      <th>feature_11</th>\n",
       "      <th>feature_12</th>\n",
       "      <th>feature_13</th>\n",
       "      <th>feature_14</th>\n",
       "      <th>feature_15</th>\n",
       "      <th>labels</th>\n",
       "    </tr>\n",
       "  </thead>\n",
       "  <tbody>\n",
       "    <tr>\n",
       "      <th>0</th>\n",
       "      <td>-0.276515</td>\n",
       "      <td>-0.424429</td>\n",
       "      <td>1.344997</td>\n",
       "      <td>-0.012283</td>\n",
       "      <td>0.076230</td>\n",
       "      <td>1.076648</td>\n",
       "      <td>0.182198</td>\n",
       "      <td>3</td>\n",
       "      <td>0</td>\n",
       "      <td>1</td>\n",
       "      <td>0</td>\n",
       "      <td>0</td>\n",
       "      <td>0</td>\n",
       "      <td>0</td>\n",
       "      <td>10</td>\n",
       "      <td>2</td>\n",
       "      <td>1.0</td>\n",
       "    </tr>\n",
       "    <tr>\n",
       "      <th>1</th>\n",
       "      <td>0.853573</td>\n",
       "      <td>0.150991</td>\n",
       "      <td>0.503892</td>\n",
       "      <td>-0.979179</td>\n",
       "      <td>-0.569351</td>\n",
       "      <td>-0.411453</td>\n",
       "      <td>-0.251940</td>\n",
       "      <td>4</td>\n",
       "      <td>1</td>\n",
       "      <td>2</td>\n",
       "      <td>0</td>\n",
       "      <td>1</td>\n",
       "      <td>0</td>\n",
       "      <td>0</td>\n",
       "      <td>0</td>\n",
       "      <td>3</td>\n",
       "      <td>0.0</td>\n",
       "    </tr>\n",
       "    <tr>\n",
       "      <th>2</th>\n",
       "      <td>0.947747</td>\n",
       "      <td>-0.173832</td>\n",
       "      <td>1.825628</td>\n",
       "      <td>-0.703478</td>\n",
       "      <td>0.076230</td>\n",
       "      <td>-0.411453</td>\n",
       "      <td>-0.251940</td>\n",
       "      <td>6</td>\n",
       "      <td>1</td>\n",
       "      <td>2</td>\n",
       "      <td>0</td>\n",
       "      <td>0</td>\n",
       "      <td>0</td>\n",
       "      <td>0</td>\n",
       "      <td>5</td>\n",
       "      <td>3</td>\n",
       "      <td>0.0</td>\n",
       "    </tr>\n",
       "    <tr>\n",
       "      <th>3</th>\n",
       "      <td>0.853573</td>\n",
       "      <td>-0.381404</td>\n",
       "      <td>0.984523</td>\n",
       "      <td>-0.039464</td>\n",
       "      <td>-0.569351</td>\n",
       "      <td>-0.411453</td>\n",
       "      <td>-0.251940</td>\n",
       "      <td>4</td>\n",
       "      <td>0</td>\n",
       "      <td>2</td>\n",
       "      <td>0</td>\n",
       "      <td>1</td>\n",
       "      <td>0</td>\n",
       "      <td>0</td>\n",
       "      <td>5</td>\n",
       "      <td>3</td>\n",
       "      <td>0.0</td>\n",
       "    </tr>\n",
       "    <tr>\n",
       "      <th>4</th>\n",
       "      <td>1.324443</td>\n",
       "      <td>1.590527</td>\n",
       "      <td>-1.178318</td>\n",
       "      <td>-0.097711</td>\n",
       "      <td>-0.246560</td>\n",
       "      <td>-0.411453</td>\n",
       "      <td>-0.251940</td>\n",
       "      <td>0</td>\n",
       "      <td>1</td>\n",
       "      <td>1</td>\n",
       "      <td>0</td>\n",
       "      <td>0</td>\n",
       "      <td>0</td>\n",
       "      <td>0</td>\n",
       "      <td>8</td>\n",
       "      <td>3</td>\n",
       "      <td>0.0</td>\n",
       "    </tr>\n",
       "  </tbody>\n",
       "</table>\n",
       "</div>"
      ],
      "text/plain": [
       "   feature_0  feature_1  feature_2  feature_3  feature_4  feature_5  \\\n",
       "0  -0.276515  -0.424429   1.344997  -0.012283   0.076230   1.076648   \n",
       "1   0.853573   0.150991   0.503892  -0.979179  -0.569351  -0.411453   \n",
       "2   0.947747  -0.173832   1.825628  -0.703478   0.076230  -0.411453   \n",
       "3   0.853573  -0.381404   0.984523  -0.039464  -0.569351  -0.411453   \n",
       "4   1.324443   1.590527  -1.178318  -0.097711  -0.246560  -0.411453   \n",
       "\n",
       "   feature_6  feature_7  feature_8  feature_9  feature_10  feature_11  \\\n",
       "0   0.182198          3          0          1           0           0   \n",
       "1  -0.251940          4          1          2           0           1   \n",
       "2  -0.251940          6          1          2           0           0   \n",
       "3  -0.251940          4          0          2           0           1   \n",
       "4  -0.251940          0          1          1           0           0   \n",
       "\n",
       "   feature_12  feature_13  feature_14  feature_15  labels  \n",
       "0           0           0          10           2     1.0  \n",
       "1           0           0           0           3     0.0  \n",
       "2           0           0           5           3     0.0  \n",
       "3           0           0           5           3     0.0  \n",
       "4           0           0           8           3     0.0  "
      ]
     },
     "execution_count": 9,
     "metadata": {},
     "output_type": "execute_result"
    }
   ],
   "source": [
    "df = pd.concat([train, test], ignore_index= True, sort= False)\n",
    "df.head()"
   ]
  },
  {
   "cell_type": "code",
   "execution_count": 10,
   "metadata": {},
   "outputs": [
    {
     "data": {
      "text/plain": [
       "(45211, 17)"
      ]
     },
     "execution_count": 10,
     "metadata": {},
     "output_type": "execute_result"
    }
   ],
   "source": [
    "df.shape"
   ]
  },
  {
   "cell_type": "code",
   "execution_count": 11,
   "metadata": {},
   "outputs": [
    {
     "data": {
      "text/plain": [
       "<matplotlib.axes._subplots.AxesSubplot at 0x1d840755ac8>"
      ]
     },
     "execution_count": 11,
     "metadata": {},
     "output_type": "execute_result"
    },
    {
     "data": {
      "image/png": "[encoded data removed]",
      "text/plain": [
       "<Figure size 1152x720 with 2 Axes>"
      ]
     },
     "metadata": {
      "needs_background": "light"
     },
     "output_type": "display_data"
    }
   ],
   "source": [
    "plt.figure(figsize= (16, 10))\n",
    "sns.heatmap(df.corr(), annot= True)"
   ]
  },
  {
   "cell_type": "code",
   "execution_count": 12,
   "metadata": {},
   "outputs": [],
   "source": [
    "cor = df.corr()\n",
    "cor_target = abs(cor['labels'])"
   ]
  },
  {
   "cell_type": "code",
   "execution_count": 13,
   "metadata": {},
   "outputs": [
    {
     "data": {
      "text/plain": [
       "feature_3     0.392971\n",
       "feature_5     0.106239\n",
       "feature_6     0.119322\n",
       "feature_11    0.135662\n",
       "feature_13    0.148583\n",
       "labels        1.000000\n",
       "Name: labels, dtype: float64"
      ]
     },
     "execution_count": 13,
     "metadata": {},
     "output_type": "execute_result"
    }
   ],
   "source": [
    "features = cor_target[cor_target > 0.1]\n",
    "features"
   ]
  },
  {
   "cell_type": "code",
   "execution_count": 14,
   "metadata": {},
   "outputs": [
    {
     "data": {
      "text/plain": [
       "feature_0     0.019405\n",
       "feature_1     0.048611\n",
       "feature_2     0.033345\n",
       "feature_3     0.392971\n",
       "feature_4     0.075025\n",
       "feature_5     0.106239\n",
       "feature_6     0.119322\n",
       "feature_7     0.038588\n",
       "feature_8     0.046193\n",
       "feature_9     0.068356\n",
       "feature_10    0.023344\n",
       "feature_11    0.135662\n",
       "feature_12    0.065480\n",
       "feature_13    0.148583\n",
       "feature_14    0.026178\n",
       "feature_15    0.079190\n",
       "labels        1.000000\n",
       "Name: labels, dtype: float64"
      ]
     },
     "execution_count": 14,
     "metadata": {},
     "output_type": "execute_result"
    }
   ],
   "source": [
    "features = cor_target[cor_target >= 0]\n",
    "features"
   ]
  },
  {
   "cell_type": "code",
   "execution_count": 15,
   "metadata": {},
   "outputs": [],
   "source": [
    "newtrain = df.loc[0:33907, :]\n",
    "newtest = df.loc[33908:, :]"
   ]
  },
  {
   "cell_type": "code",
   "execution_count": 16,
   "metadata": {},
   "outputs": [
    {
     "data": {
      "text/plain": [
       "(33908, 17)"
      ]
     },
     "execution_count": 16,
     "metadata": {},
     "output_type": "execute_result"
    }
   ],
   "source": [
    "newtrain.shape"
   ]
  },
  {
   "cell_type": "raw",
   "metadata": {},
   "source": [
    "newtest = newtest.drop('labels', axis = 1)"
   ]
  },
  {
   "cell_type": "code",
   "execution_count": 17,
   "metadata": {},
   "outputs": [
    {
     "data": {
      "text/plain": [
       "(11303, 17)"
      ]
     },
     "execution_count": 17,
     "metadata": {},
     "output_type": "execute_result"
    }
   ],
   "source": [
    "newtest.shape"
   ]
  },
  {
   "cell_type": "code",
   "execution_count": 18,
   "metadata": {},
   "outputs": [],
   "source": [
    "x = newtrain.drop('labels', axis = 1)\n",
    "y = newtrain['labels']"
   ]
  },
  {
   "cell_type": "code",
   "execution_count": 19,
   "metadata": {},
   "outputs": [
    {
     "name": "stdout",
     "output_type": "stream",
     "text": [
      "(23735, 16)\n",
      "(10173, 16)\n",
      "(23735,)\n",
      "(10173,)\n"
     ]
    }
   ],
   "source": [
    "from sklearn.model_selection import train_test_split\n",
    "x_train, x_test, y_train, y_test = train_test_split(x, y, test_size = 0.3, random_state = 1)\n",
    "print(x_train.shape)\n",
    "print(x_test.shape)\n",
    "print(y_train.shape)\n",
    "print(y_test.shape)"
   ]
  },
  {
   "cell_type": "code",
   "execution_count": 20,
   "metadata": {},
   "outputs": [],
   "source": [
    "from sklearn.preprocessing import StandardScaler\n",
    "sc = StandardScaler()"
   ]
  },
  {
   "cell_type": "code",
   "execution_count": 21,
   "metadata": {},
   "outputs": [],
   "source": [
    "x_train = sc.fit_transform(x_train)\n",
    "x_test = sc.transform(x_test)"
   ]
  },
  {
   "cell_type": "code",
   "execution_count": 22,
   "metadata": {},
   "outputs": [],
   "source": [
    "from sklearn.linear_model import LogisticRegression\n",
    "lor = LogisticRegression()"
   ]
  },
  {
   "cell_type": "code",
   "execution_count": 23,
   "metadata": {},
   "outputs": [
    {
     "data": {
      "text/plain": [
       "LogisticRegression(C=1.0, class_weight=None, dual=False, fit_intercept=True,\n",
       "                   intercept_scaling=1, l1_ratio=None, max_iter=100,\n",
       "                   multi_class='auto', n_jobs=None, penalty='l2',\n",
       "                   random_state=None, solver='lbfgs', tol=0.0001, verbose=0,\n",
       "                   warm_start=False)"
      ]
     },
     "execution_count": 23,
     "metadata": {},
     "output_type": "execute_result"
    }
   ],
   "source": [
    "lor.fit(x_train, y_train)"
   ]
  },
  {
   "cell_type": "code",
   "execution_count": 24,
   "metadata": {},
   "outputs": [
    {
     "name": "stdout",
     "output_type": "stream",
     "text": [
      "0.8912155045291763\n",
      "0.8902978472427012\n"
     ]
    }
   ],
   "source": [
    "print(lor.score(x_train, y_train))\n",
    "print(lor.score(x_test, y_test))"
   ]
  },
  {
   "cell_type": "code",
   "execution_count": 25,
   "metadata": {},
   "outputs": [],
   "source": [
    "test_no_1 = newtest.drop('labels', axis = 1)"
   ]
  },
  {
   "cell_type": "code",
   "execution_count": 26,
   "metadata": {},
   "outputs": [],
   "source": [
    "test_pred = lor.predict(test_no_1)"
   ]
  },
  {
   "cell_type": "code",
   "execution_count": 27,
   "metadata": {},
   "outputs": [],
   "source": [
    "submission_1 = pd.DataFrame({'Churn': test_pred})"
   ]
  },
  {
   "cell_type": "code",
   "execution_count": 28,
   "metadata": {},
   "outputs": [],
   "source": [
    "submission_1.to_csv('Submission_1.csv', index = False)"
   ]
  },
  {
   "cell_type": "code",
   "execution_count": 29,
   "metadata": {},
   "outputs": [],
   "source": [
    "y_pred = lor.predict(x_test)"
   ]
  },
  {
   "cell_type": "code",
   "execution_count": 30,
   "metadata": {},
   "outputs": [],
   "source": [
    "from sklearn.metrics import confusion_matrix, accuracy_score, classification_report, cohen_kappa_score, mean_squared_error"
   ]
  },
  {
   "cell_type": "code",
   "execution_count": 48,
   "metadata": {},
   "outputs": [
    {
     "name": "stdout",
     "output_type": "stream",
     "text": [
      "0.8902978472427012\n"
     ]
    }
   ],
   "source": [
    "print(accuracy_score(y_test, y_pred))"
   ]
  },
  {
   "cell_type": "code",
   "execution_count": 49,
   "metadata": {},
   "outputs": [
    {
     "name": "stdout",
     "output_type": "stream",
     "text": [
      "              precision    recall  f1-score   support\n",
      "\n",
      "         0.0       0.90      0.98      0.94      8963\n",
      "         1.0       0.61      0.22      0.33      1210\n",
      "\n",
      "    accuracy                           0.89     10173\n",
      "   macro avg       0.75      0.60      0.63     10173\n",
      "weighted avg       0.87      0.89      0.87     10173\n",
      "\n"
     ]
    }
   ],
   "source": [
    "print(classification_report(y_test, y_pred))"
   ]
  },
  {
   "cell_type": "code",
   "execution_count": 50,
   "metadata": {},
   "outputs": [
    {
     "name": "stdout",
     "output_type": "stream",
     "text": [
      "0.27995515745123023\n"
     ]
    }
   ],
   "source": [
    "print(cohen_kappa_score(y_test, y_pred))"
   ]
  },
  {
   "cell_type": "code",
   "execution_count": 51,
   "metadata": {},
   "outputs": [
    {
     "name": "stdout",
     "output_type": "stream",
     "text": [
      "0.10970215275729873\n"
     ]
    }
   ],
   "source": [
    "print(mean_squared_error(y_test, y_pred))"
   ]
  },
  {
   "cell_type": "code",
   "execution_count": 52,
   "metadata": {},
   "outputs": [
    {
     "name": "stdout",
     "output_type": "stream",
     "text": [
      "0.3312131530560022\n"
     ]
    }
   ],
   "source": [
    "print(np.sqrt(mean_squared_error(y_test, y_pred)))"
   ]
  },
  {
   "cell_type": "code",
   "execution_count": 53,
   "metadata": {},
   "outputs": [
    {
     "name": "stdout",
     "output_type": "stream",
     "text": [
      "1.0\n",
      "0.8697532684557161\n"
     ]
    },
    {
     "data": {
      "text/plain": [
       "0.3608971204433251"
      ]
     },
     "execution_count": 53,
     "metadata": {},
     "output_type": "execute_result"
    }
   ],
   "source": [
    "from sklearn.tree import DecisionTreeClassifier\n",
    "dtree = DecisionTreeClassifier()\n",
    "dtree.fit(x_train, y_train)\n",
    "\n",
    "y_pred = dtree.predict(x_test)\n",
    "\n",
    "print(dtree.score(x_train, y_train))\n",
    "print(dtree.score(x_test, y_test))\n",
    "\n",
    "rmse = np.sqrt(mean_squared_error(y_test, y_pred))\n",
    "rmse"
   ]
  },
  {
   "cell_type": "code",
   "execution_count": 31,
   "metadata": {},
   "outputs": [
    {
     "data": {
      "text/plain": [
       "DecisionTreeClassifier(ccp_alpha=0.0, class_weight=None, criterion='gini',\n",
       "                       max_depth=None, max_features=None, max_leaf_nodes=None,\n",
       "                       min_impurity_decrease=0.0, min_impurity_split=None,\n",
       "                       min_samples_leaf=1, min_samples_split=2,\n",
       "                       min_weight_fraction_leaf=0.0, presort='deprecated',\n",
       "                       random_state=None, splitter='best')"
      ]
     },
     "execution_count": 31,
     "metadata": {},
     "output_type": "execute_result"
    }
   ],
   "source": [
    "from sklearn.tree import DecisionTreeClassifier\n",
    "dtree = DecisionTreeClassifier()\n",
    "dtree.fit(x_train, y_train)"
   ]
  },
  {
   "cell_type": "code",
   "execution_count": 32,
   "metadata": {},
   "outputs": [],
   "source": [
    "test_pred = dtree.predict(test_no_1)"
   ]
  },
  {
   "cell_type": "code",
   "execution_count": 33,
   "metadata": {},
   "outputs": [],
   "source": [
    "submission_2 = pd.DataFrame({'Churn': test_pred})\n",
    "\n",
    "submission_2.to_csv('Submission_2.csv', index = False)"
   ]
  },
  {
   "cell_type": "code",
   "execution_count": 34,
   "metadata": {},
   "outputs": [],
   "source": [
    "from sklearn.ensemble import RandomForestClassifier\n",
    "rf = RandomForestClassifier()\n",
    "\n",
    "test_pred = rf.fit(x_train, y_train).predict(test_no_1)\n",
    "\n",
    "submission_3 = pd.DataFrame({'Churn': test_pred})\n",
    "\n",
    "submission_3.to_csv('Submission_3.csv', index = False)"
   ]
  },
  {
   "cell_type": "code",
   "execution_count": 35,
   "metadata": {},
   "outputs": [],
   "source": [
    "from sklearn.model_selection import RandomizedSearchCV\n",
    "\n",
    "n_estimators = [int(x) for x in np.linspace(start = 1, stop = 12, num = 1)]\n",
    "max_features = ['auto', 'sqrt']\n",
    "max_depth = [int(x) for x in np.linspace(5, 30, num = 6)]\n",
    "min_samples_split = [3,4,5,6,7]\n",
    "min_samples_leaf = [1, 2, 5, 10]\n",
    "\n",
    "random_grid = {'n_estimators': n_estimators,\n",
    "               'max_features': max_features,\n",
    "               'max_depth': max_depth,\n",
    "               'min_samples_split': min_samples_split,\n",
    "               'min_samples_leaf': min_samples_leaf}"
   ]
  },
  {
   "cell_type": "code",
   "execution_count": 36,
   "metadata": {},
   "outputs": [
    {
     "name": "stdout",
     "output_type": "stream",
     "text": [
      "Fitting 3 folds for each of 100 candidates, totalling 300 fits\n",
      "[CV] n_estimators=1, min_samples_split=7, min_samples_leaf=1, max_features=sqrt, max_depth=5 \n",
      "[CV]  n_estimators=1, min_samples_split=7, min_samples_leaf=1, max_features=sqrt, max_depth=5, total=   0.0s\n",
      "[CV] n_estimators=1, min_samples_split=7, min_samples_leaf=1, max_features=sqrt, max_depth=5 \n",
      "[CV]  n_estimators=1, min_samples_split=7, min_samples_leaf=1, max_features=sqrt, max_depth=5, total=   0.0s\n",
      "[CV] n_estimators=1, min_samples_split=7, min_samples_leaf=1, max_features=sqrt, max_depth=5 \n",
      "[CV]  n_estimators=1, min_samples_split=7, min_samples_leaf=1, max_features=sqrt, max_depth=5, total=   0.0s\n",
      "[CV] n_estimators=1, min_samples_split=4, min_samples_leaf=2, max_features=auto, max_depth=5 \n",
      "[CV]  n_estimators=1, min_samples_split=4, min_samples_leaf=2, max_features=auto, max_depth=5, total=   0.0s\n",
      "[CV] n_estimators=1, min_samples_split=4, min_samples_leaf=2, max_features=auto, max_depth=5 \n",
      "[CV]  n_estimators=1, min_samples_split=4, min_samples_leaf=2, max_features=auto, max_depth=5, total=   0.0s\n",
      "[CV] n_estimators=1, min_samples_split=4, min_samples_leaf=2, max_features=auto, max_depth=5 \n",
      "[CV]  n_estimators=1, min_samples_split=4, min_samples_leaf=2, max_features=auto, max_depth=5, total=   0.0s\n",
      "[CV] n_estimators=1, min_samples_split=6, min_samples_leaf=5, max_features=auto, max_depth=15 \n",
      "[CV]  n_estimators=1, min_samples_split=6, min_samples_leaf=5, max_features=auto, max_depth=15, total=   0.0s\n",
      "[CV] n_estimators=1, min_samples_split=6, min_samples_leaf=5, max_features=auto, max_depth=15 \n",
      "[CV]  n_estimators=1, min_samples_split=6, min_samples_leaf=5, max_features=auto, max_depth=15, total=   0.0s\n",
      "[CV] n_estimators=1, min_samples_split=6, min_samples_leaf=5, max_features=auto, max_depth=15 \n"
     ]
    },
    {
     "name": "stderr",
     "output_type": "stream",
     "text": [
      "[Parallel(n_jobs=1)]: Using backend SequentialBackend with 1 concurrent workers.\n",
      "[Parallel(n_jobs=1)]: Done   1 out of   1 | elapsed:    0.0s remaining:    0.0s\n"
     ]
    },
    {
     "name": "stdout",
     "output_type": "stream",
     "text": [
      "[CV]  n_estimators=1, min_samples_split=6, min_samples_leaf=5, max_features=auto, max_depth=15, total=   0.0s\n",
      "[CV] n_estimators=1, min_samples_split=7, min_samples_leaf=2, max_features=sqrt, max_depth=15 \n",
      "[CV]  n_estimators=1, min_samples_split=7, min_samples_leaf=2, max_features=sqrt, max_depth=15, total=   0.0s\n",
      "[CV] n_estimators=1, min_samples_split=7, min_samples_leaf=2, max_features=sqrt, max_depth=15 \n",
      "[CV]  n_estimators=1, min_samples_split=7, min_samples_leaf=2, max_features=sqrt, max_depth=15, total=   0.0s\n",
      "[CV] n_estimators=1, min_samples_split=7, min_samples_leaf=2, max_features=sqrt, max_depth=15 \n",
      "[CV]  n_estimators=1, min_samples_split=7, min_samples_leaf=2, max_features=sqrt, max_depth=15, total=   0.0s\n",
      "[CV] n_estimators=1, min_samples_split=7, min_samples_leaf=1, max_features=sqrt, max_depth=15 \n",
      "[CV]  n_estimators=1, min_samples_split=7, min_samples_leaf=1, max_features=sqrt, max_depth=15, total=   0.0s\n",
      "[CV] n_estimators=1, min_samples_split=7, min_samples_leaf=1, max_features=sqrt, max_depth=15 \n",
      "[CV]  n_estimators=1, min_samples_split=7, min_samples_leaf=1, max_features=sqrt, max_depth=15, total=   0.0s\n",
      "[CV] n_estimators=1, min_samples_split=7, min_samples_leaf=1, max_features=sqrt, max_depth=15 \n",
      "[CV]  n_estimators=1, min_samples_split=7, min_samples_leaf=1, max_features=sqrt, max_depth=15, total=   0.0s\n",
      "[CV] n_estimators=1, min_samples_split=5, min_samples_leaf=5, max_features=auto, max_depth=25 \n",
      "[CV]  n_estimators=1, min_samples_split=5, min_samples_leaf=5, max_features=auto, max_depth=25, total=   0.0s\n",
      "[CV] n_estimators=1, min_samples_split=5, min_samples_leaf=5, max_features=auto, max_depth=25 \n",
      "[CV]  n_estimators=1, min_samples_split=5, min_samples_leaf=5, max_features=auto, max_depth=25, total=   0.0s\n",
      "[CV] n_estimators=1, min_samples_split=5, min_samples_leaf=5, max_features=auto, max_depth=25 \n",
      "[CV]  n_estimators=1, min_samples_split=5, min_samples_leaf=5, max_features=auto, max_depth=25, total=   0.0s\n",
      "[CV] n_estimators=1, min_samples_split=6, min_samples_leaf=5, max_features=sqrt, max_depth=30 \n",
      "[CV]  n_estimators=1, min_samples_split=6, min_samples_leaf=5, max_features=sqrt, max_depth=30, total=   0.0s\n",
      "[CV] n_estimators=1, min_samples_split=6, min_samples_leaf=5, max_features=sqrt, max_depth=30 \n",
      "[CV]  n_estimators=1, min_samples_split=6, min_samples_leaf=5, max_features=sqrt, max_depth=30, total=   0.0s\n",
      "[CV] n_estimators=1, min_samples_split=6, min_samples_leaf=5, max_features=sqrt, max_depth=30 \n",
      "[CV]  n_estimators=1, min_samples_split=6, min_samples_leaf=5, max_features=sqrt, max_depth=30, total=   0.0s\n",
      "[CV] n_estimators=1, min_samples_split=4, min_samples_leaf=2, max_features=auto, max_depth=15 \n",
      "[CV]  n_estimators=1, min_samples_split=4, min_samples_leaf=2, max_features=auto, max_depth=15, total=   0.0s\n",
      "[CV] n_estimators=1, min_samples_split=4, min_samples_leaf=2, max_features=auto, max_depth=15 \n",
      "[CV]  n_estimators=1, min_samples_split=4, min_samples_leaf=2, max_features=auto, max_depth=15, total=   0.0s\n",
      "[CV] n_estimators=1, min_samples_split=4, min_samples_leaf=2, max_features=auto, max_depth=15 \n",
      "[CV]  n_estimators=1, min_samples_split=4, min_samples_leaf=2, max_features=auto, max_depth=15, total=   0.0s\n",
      "[CV] n_estimators=1, min_samples_split=7, min_samples_leaf=2, max_features=auto, max_depth=5 \n",
      "[CV]  n_estimators=1, min_samples_split=7, min_samples_leaf=2, max_features=auto, max_depth=5, total=   0.0s\n",
      "[CV] n_estimators=1, min_samples_split=7, min_samples_leaf=2, max_features=auto, max_depth=5 \n",
      "[CV]  n_estimators=1, min_samples_split=7, min_samples_leaf=2, max_features=auto, max_depth=5, total=   0.0s\n",
      "[CV] n_estimators=1, min_samples_split=7, min_samples_leaf=2, max_features=auto, max_depth=5 \n",
      "[CV]  n_estimators=1, min_samples_split=7, min_samples_leaf=2, max_features=auto, max_depth=5, total=   0.0s\n",
      "[CV] n_estimators=1, min_samples_split=6, min_samples_leaf=1, max_features=sqrt, max_depth=20 \n",
      "[CV]  n_estimators=1, min_samples_split=6, min_samples_leaf=1, max_features=sqrt, max_depth=20, total=   0.0s\n",
      "[CV] n_estimators=1, min_samples_split=6, min_samples_leaf=1, max_features=sqrt, max_depth=20 \n",
      "[CV]  n_estimators=1, min_samples_split=6, min_samples_leaf=1, max_features=sqrt, max_depth=20, total=   0.0s\n",
      "[CV] n_estimators=1, min_samples_split=6, min_samples_leaf=1, max_features=sqrt, max_depth=20 \n",
      "[CV]  n_estimators=1, min_samples_split=6, min_samples_leaf=1, max_features=sqrt, max_depth=20, total=   0.0s\n",
      "[CV] n_estimators=1, min_samples_split=3, min_samples_leaf=2, max_features=auto, max_depth=10 \n",
      "[CV]  n_estimators=1, min_samples_split=3, min_samples_leaf=2, max_features=auto, max_depth=10, total=   0.0s\n",
      "[CV] n_estimators=1, min_samples_split=3, min_samples_leaf=2, max_features=auto, max_depth=10 \n",
      "[CV]  n_estimators=1, min_samples_split=3, min_samples_leaf=2, max_features=auto, max_depth=10, total=   0.0s\n",
      "[CV] n_estimators=1, min_samples_split=3, min_samples_leaf=2, max_features=auto, max_depth=10 \n",
      "[CV]  n_estimators=1, min_samples_split=3, min_samples_leaf=2, max_features=auto, max_depth=10, total=   0.0s\n",
      "[CV] n_estimators=1, min_samples_split=4, min_samples_leaf=2, max_features=auto, max_depth=30 \n",
      "[CV]  n_estimators=1, min_samples_split=4, min_samples_leaf=2, max_features=auto, max_depth=30, total=   0.0s\n",
      "[CV] n_estimators=1, min_samples_split=4, min_samples_leaf=2, max_features=auto, max_depth=30 \n",
      "[CV]  n_estimators=1, min_samples_split=4, min_samples_leaf=2, max_features=auto, max_depth=30, total=   0.0s\n",
      "[CV] n_estimators=1, min_samples_split=4, min_samples_leaf=2, max_features=auto, max_depth=30 \n",
      "[CV]  n_estimators=1, min_samples_split=4, min_samples_leaf=2, max_features=auto, max_depth=30, total=   0.0s\n",
      "[CV] n_estimators=1, min_samples_split=7, min_samples_leaf=5, max_features=sqrt, max_depth=15 \n",
      "[CV]  n_estimators=1, min_samples_split=7, min_samples_leaf=5, max_features=sqrt, max_depth=15, total=   0.0s\n",
      "[CV] n_estimators=1, min_samples_split=7, min_samples_leaf=5, max_features=sqrt, max_depth=15 \n",
      "[CV]  n_estimators=1, min_samples_split=7, min_samples_leaf=5, max_features=sqrt, max_depth=15, total=   0.0s\n",
      "[CV] n_estimators=1, min_samples_split=7, min_samples_leaf=5, max_features=sqrt, max_depth=15 \n",
      "[CV]  n_estimators=1, min_samples_split=7, min_samples_leaf=5, max_features=sqrt, max_depth=15, total=   0.0s\n",
      "[CV] n_estimators=1, min_samples_split=6, min_samples_leaf=2, max_features=auto, max_depth=25 \n",
      "[CV]  n_estimators=1, min_samples_split=6, min_samples_leaf=2, max_features=auto, max_depth=25, total=   0.0s\n",
      "[CV] n_estimators=1, min_samples_split=6, min_samples_leaf=2, max_features=auto, max_depth=25 \n",
      "[CV]  n_estimators=1, min_samples_split=6, min_samples_leaf=2, max_features=auto, max_depth=25, total=   0.0s\n",
      "[CV] n_estimators=1, min_samples_split=6, min_samples_leaf=2, max_features=auto, max_depth=25 \n",
      "[CV]  n_estimators=1, min_samples_split=6, min_samples_leaf=2, max_features=auto, max_depth=25, total=   0.0s\n",
      "[CV] n_estimators=1, min_samples_split=6, min_samples_leaf=5, max_features=sqrt, max_depth=15 \n",
      "[CV]  n_estimators=1, min_samples_split=6, min_samples_leaf=5, max_features=sqrt, max_depth=15, total=   0.0s\n",
      "[CV] n_estimators=1, min_samples_split=6, min_samples_leaf=5, max_features=sqrt, max_depth=15 \n",
      "[CV]  n_estimators=1, min_samples_split=6, min_samples_leaf=5, max_features=sqrt, max_depth=15, total=   0.0s\n",
      "[CV] n_estimators=1, min_samples_split=6, min_samples_leaf=5, max_features=sqrt, max_depth=15 \n",
      "[CV]  n_estimators=1, min_samples_split=6, min_samples_leaf=5, max_features=sqrt, max_depth=15, total=   0.0s\n",
      "[CV] n_estimators=1, min_samples_split=3, min_samples_leaf=5, max_features=sqrt, max_depth=30 \n",
      "[CV]  n_estimators=1, min_samples_split=3, min_samples_leaf=5, max_features=sqrt, max_depth=30, total=   0.0s\n",
      "[CV] n_estimators=1, min_samples_split=3, min_samples_leaf=5, max_features=sqrt, max_depth=30 \n",
      "[CV]  n_estimators=1, min_samples_split=3, min_samples_leaf=5, max_features=sqrt, max_depth=30, total=   0.0s\n",
      "[CV] n_estimators=1, min_samples_split=3, min_samples_leaf=5, max_features=sqrt, max_depth=30 \n",
      "[CV]  n_estimators=1, min_samples_split=3, min_samples_leaf=5, max_features=sqrt, max_depth=30, total=   0.0s\n",
      "[CV] n_estimators=1, min_samples_split=3, min_samples_leaf=2, max_features=sqrt, max_depth=25 \n",
      "[CV]  n_estimators=1, min_samples_split=3, min_samples_leaf=2, max_features=sqrt, max_depth=25, total=   0.0s\n",
      "[CV] n_estimators=1, min_samples_split=3, min_samples_leaf=2, max_features=sqrt, max_depth=25 \n",
      "[CV]  n_estimators=1, min_samples_split=3, min_samples_leaf=2, max_features=sqrt, max_depth=25, total=   0.0s\n",
      "[CV] n_estimators=1, min_samples_split=3, min_samples_leaf=2, max_features=sqrt, max_depth=25 \n",
      "[CV]  n_estimators=1, min_samples_split=3, min_samples_leaf=2, max_features=sqrt, max_depth=25, total=   0.0s\n"
     ]
    },
    {
     "name": "stdout",
     "output_type": "stream",
     "text": [
      "[CV] n_estimators=1, min_samples_split=3, min_samples_leaf=10, max_features=auto, max_depth=5 \n",
      "[CV]  n_estimators=1, min_samples_split=3, min_samples_leaf=10, max_features=auto, max_depth=5, total=   0.0s\n",
      "[CV] n_estimators=1, min_samples_split=3, min_samples_leaf=10, max_features=auto, max_depth=5 \n",
      "[CV]  n_estimators=1, min_samples_split=3, min_samples_leaf=10, max_features=auto, max_depth=5, total=   0.0s\n",
      "[CV] n_estimators=1, min_samples_split=3, min_samples_leaf=10, max_features=auto, max_depth=5 \n",
      "[CV]  n_estimators=1, min_samples_split=3, min_samples_leaf=10, max_features=auto, max_depth=5, total=   0.0s\n",
      "[CV] n_estimators=1, min_samples_split=5, min_samples_leaf=5, max_features=sqrt, max_depth=20 \n",
      "[CV]  n_estimators=1, min_samples_split=5, min_samples_leaf=5, max_features=sqrt, max_depth=20, total=   0.0s\n",
      "[CV] n_estimators=1, min_samples_split=5, min_samples_leaf=5, max_features=sqrt, max_depth=20 \n",
      "[CV]  n_estimators=1, min_samples_split=5, min_samples_leaf=5, max_features=sqrt, max_depth=20, total=   0.0s\n",
      "[CV] n_estimators=1, min_samples_split=5, min_samples_leaf=5, max_features=sqrt, max_depth=20 \n",
      "[CV]  n_estimators=1, min_samples_split=5, min_samples_leaf=5, max_features=sqrt, max_depth=20, total=   0.0s\n",
      "[CV] n_estimators=1, min_samples_split=3, min_samples_leaf=2, max_features=auto, max_depth=20 \n",
      "[CV]  n_estimators=1, min_samples_split=3, min_samples_leaf=2, max_features=auto, max_depth=20, total=   0.0s\n",
      "[CV] n_estimators=1, min_samples_split=3, min_samples_leaf=2, max_features=auto, max_depth=20 \n",
      "[CV]  n_estimators=1, min_samples_split=3, min_samples_leaf=2, max_features=auto, max_depth=20, total=   0.0s\n",
      "[CV] n_estimators=1, min_samples_split=3, min_samples_leaf=2, max_features=auto, max_depth=20 \n",
      "[CV]  n_estimators=1, min_samples_split=3, min_samples_leaf=2, max_features=auto, max_depth=20, total=   0.0s\n",
      "[CV] n_estimators=1, min_samples_split=5, min_samples_leaf=2, max_features=auto, max_depth=20 \n",
      "[CV]  n_estimators=1, min_samples_split=5, min_samples_leaf=2, max_features=auto, max_depth=20, total=   0.0s\n",
      "[CV] n_estimators=1, min_samples_split=5, min_samples_leaf=2, max_features=auto, max_depth=20 \n",
      "[CV]  n_estimators=1, min_samples_split=5, min_samples_leaf=2, max_features=auto, max_depth=20, total=   0.0s\n",
      "[CV] n_estimators=1, min_samples_split=5, min_samples_leaf=2, max_features=auto, max_depth=20 \n",
      "[CV]  n_estimators=1, min_samples_split=5, min_samples_leaf=2, max_features=auto, max_depth=20, total=   0.0s\n",
      "[CV] n_estimators=1, min_samples_split=7, min_samples_leaf=10, max_features=auto, max_depth=5 \n",
      "[CV]  n_estimators=1, min_samples_split=7, min_samples_leaf=10, max_features=auto, max_depth=5, total=   0.0s\n",
      "[CV] n_estimators=1, min_samples_split=7, min_samples_leaf=10, max_features=auto, max_depth=5 \n",
      "[CV]  n_estimators=1, min_samples_split=7, min_samples_leaf=10, max_features=auto, max_depth=5, total=   0.0s\n",
      "[CV] n_estimators=1, min_samples_split=7, min_samples_leaf=10, max_features=auto, max_depth=5 \n",
      "[CV]  n_estimators=1, min_samples_split=7, min_samples_leaf=10, max_features=auto, max_depth=5, total=   0.0s\n",
      "[CV] n_estimators=1, min_samples_split=3, min_samples_leaf=10, max_features=sqrt, max_depth=30 \n",
      "[CV]  n_estimators=1, min_samples_split=3, min_samples_leaf=10, max_features=sqrt, max_depth=30, total=   0.0s\n",
      "[CV] n_estimators=1, min_samples_split=3, min_samples_leaf=10, max_features=sqrt, max_depth=30 \n",
      "[CV]  n_estimators=1, min_samples_split=3, min_samples_leaf=10, max_features=sqrt, max_depth=30, total=   0.0s\n",
      "[CV] n_estimators=1, min_samples_split=3, min_samples_leaf=10, max_features=sqrt, max_depth=30 \n",
      "[CV]  n_estimators=1, min_samples_split=3, min_samples_leaf=10, max_features=sqrt, max_depth=30, total=   0.0s\n",
      "[CV] n_estimators=1, min_samples_split=3, min_samples_leaf=5, max_features=sqrt, max_depth=5 \n",
      "[CV]  n_estimators=1, min_samples_split=3, min_samples_leaf=5, max_features=sqrt, max_depth=5, total=   0.0s\n",
      "[CV] n_estimators=1, min_samples_split=3, min_samples_leaf=5, max_features=sqrt, max_depth=5 \n",
      "[CV]  n_estimators=1, min_samples_split=3, min_samples_leaf=5, max_features=sqrt, max_depth=5, total=   0.0s\n",
      "[CV] n_estimators=1, min_samples_split=3, min_samples_leaf=5, max_features=sqrt, max_depth=5 \n",
      "[CV]  n_estimators=1, min_samples_split=3, min_samples_leaf=5, max_features=sqrt, max_depth=5, total=   0.0s\n",
      "[CV] n_estimators=1, min_samples_split=4, min_samples_leaf=10, max_features=auto, max_depth=25 \n",
      "[CV]  n_estimators=1, min_samples_split=4, min_samples_leaf=10, max_features=auto, max_depth=25, total=   0.0s\n",
      "[CV] n_estimators=1, min_samples_split=4, min_samples_leaf=10, max_features=auto, max_depth=25 \n",
      "[CV]  n_estimators=1, min_samples_split=4, min_samples_leaf=10, max_features=auto, max_depth=25, total=   0.0s\n",
      "[CV] n_estimators=1, min_samples_split=4, min_samples_leaf=10, max_features=auto, max_depth=25 \n",
      "[CV]  n_estimators=1, min_samples_split=4, min_samples_leaf=10, max_features=auto, max_depth=25, total=   0.0s\n",
      "[CV] n_estimators=1, min_samples_split=3, min_samples_leaf=5, max_features=sqrt, max_depth=20 \n",
      "[CV]  n_estimators=1, min_samples_split=3, min_samples_leaf=5, max_features=sqrt, max_depth=20, total=   0.0s\n",
      "[CV] n_estimators=1, min_samples_split=3, min_samples_leaf=5, max_features=sqrt, max_depth=20 \n",
      "[CV]  n_estimators=1, min_samples_split=3, min_samples_leaf=5, max_features=sqrt, max_depth=20, total=   0.0s\n",
      "[CV] n_estimators=1, min_samples_split=3, min_samples_leaf=5, max_features=sqrt, max_depth=20 \n",
      "[CV]  n_estimators=1, min_samples_split=3, min_samples_leaf=5, max_features=sqrt, max_depth=20, total=   0.0s\n",
      "[CV] n_estimators=1, min_samples_split=3, min_samples_leaf=5, max_features=auto, max_depth=5 \n",
      "[CV]  n_estimators=1, min_samples_split=3, min_samples_leaf=5, max_features=auto, max_depth=5, total=   0.0s\n",
      "[CV] n_estimators=1, min_samples_split=3, min_samples_leaf=5, max_features=auto, max_depth=5 \n",
      "[CV]  n_estimators=1, min_samples_split=3, min_samples_leaf=5, max_features=auto, max_depth=5, total=   0.0s\n",
      "[CV] n_estimators=1, min_samples_split=3, min_samples_leaf=5, max_features=auto, max_depth=5 \n",
      "[CV]  n_estimators=1, min_samples_split=3, min_samples_leaf=5, max_features=auto, max_depth=5, total=   0.0s\n",
      "[CV] n_estimators=1, min_samples_split=4, min_samples_leaf=1, max_features=auto, max_depth=30 \n",
      "[CV]  n_estimators=1, min_samples_split=4, min_samples_leaf=1, max_features=auto, max_depth=30, total=   0.0s\n",
      "[CV] n_estimators=1, min_samples_split=4, min_samples_leaf=1, max_features=auto, max_depth=30 \n",
      "[CV]  n_estimators=1, min_samples_split=4, min_samples_leaf=1, max_features=auto, max_depth=30, total=   0.0s\n",
      "[CV] n_estimators=1, min_samples_split=4, min_samples_leaf=1, max_features=auto, max_depth=30 \n",
      "[CV]  n_estimators=1, min_samples_split=4, min_samples_leaf=1, max_features=auto, max_depth=30, total=   0.0s\n",
      "[CV] n_estimators=1, min_samples_split=5, min_samples_leaf=10, max_features=sqrt, max_depth=30 \n",
      "[CV]  n_estimators=1, min_samples_split=5, min_samples_leaf=10, max_features=sqrt, max_depth=30, total=   0.0s\n",
      "[CV] n_estimators=1, min_samples_split=5, min_samples_leaf=10, max_features=sqrt, max_depth=30 \n",
      "[CV]  n_estimators=1, min_samples_split=5, min_samples_leaf=10, max_features=sqrt, max_depth=30, total=   0.0s\n",
      "[CV] n_estimators=1, min_samples_split=5, min_samples_leaf=10, max_features=sqrt, max_depth=30 \n",
      "[CV]  n_estimators=1, min_samples_split=5, min_samples_leaf=10, max_features=sqrt, max_depth=30, total=   0.0s\n",
      "[CV] n_estimators=1, min_samples_split=6, min_samples_leaf=5, max_features=sqrt, max_depth=20 \n",
      "[CV]  n_estimators=1, min_samples_split=6, min_samples_leaf=5, max_features=sqrt, max_depth=20, total=   0.0s\n",
      "[CV] n_estimators=1, min_samples_split=6, min_samples_leaf=5, max_features=sqrt, max_depth=20 \n",
      "[CV]  n_estimators=1, min_samples_split=6, min_samples_leaf=5, max_features=sqrt, max_depth=20, total=   0.0s\n",
      "[CV] n_estimators=1, min_samples_split=6, min_samples_leaf=5, max_features=sqrt, max_depth=20 \n",
      "[CV]  n_estimators=1, min_samples_split=6, min_samples_leaf=5, max_features=sqrt, max_depth=20, total=   0.0s\n",
      "[CV] n_estimators=1, min_samples_split=4, min_samples_leaf=10, max_features=auto, max_depth=15 \n",
      "[CV]  n_estimators=1, min_samples_split=4, min_samples_leaf=10, max_features=auto, max_depth=15, total=   0.0s\n",
      "[CV] n_estimators=1, min_samples_split=4, min_samples_leaf=10, max_features=auto, max_depth=15 \n",
      "[CV]  n_estimators=1, min_samples_split=4, min_samples_leaf=10, max_features=auto, max_depth=15, total=   0.0s\n",
      "[CV] n_estimators=1, min_samples_split=4, min_samples_leaf=10, max_features=auto, max_depth=15 \n",
      "[CV]  n_estimators=1, min_samples_split=4, min_samples_leaf=10, max_features=auto, max_depth=15, total=   0.0s\n",
      "[CV] n_estimators=1, min_samples_split=6, min_samples_leaf=2, max_features=sqrt, max_depth=30 \n",
      "[CV]  n_estimators=1, min_samples_split=6, min_samples_leaf=2, max_features=sqrt, max_depth=30, total=   0.0s\n",
      "[CV] n_estimators=1, min_samples_split=6, min_samples_leaf=2, max_features=sqrt, max_depth=30 \n"
     ]
    },
    {
     "name": "stdout",
     "output_type": "stream",
     "text": [
      "[CV]  n_estimators=1, min_samples_split=6, min_samples_leaf=2, max_features=sqrt, max_depth=30, total=   0.0s\n",
      "[CV] n_estimators=1, min_samples_split=6, min_samples_leaf=2, max_features=sqrt, max_depth=30 \n",
      "[CV]  n_estimators=1, min_samples_split=6, min_samples_leaf=2, max_features=sqrt, max_depth=30, total=   0.0s\n",
      "[CV] n_estimators=1, min_samples_split=3, min_samples_leaf=2, max_features=sqrt, max_depth=5 \n",
      "[CV]  n_estimators=1, min_samples_split=3, min_samples_leaf=2, max_features=sqrt, max_depth=5, total=   0.0s\n",
      "[CV] n_estimators=1, min_samples_split=3, min_samples_leaf=2, max_features=sqrt, max_depth=5 \n",
      "[CV]  n_estimators=1, min_samples_split=3, min_samples_leaf=2, max_features=sqrt, max_depth=5, total=   0.0s\n",
      "[CV] n_estimators=1, min_samples_split=3, min_samples_leaf=2, max_features=sqrt, max_depth=5 \n",
      "[CV]  n_estimators=1, min_samples_split=3, min_samples_leaf=2, max_features=sqrt, max_depth=5, total=   0.0s\n",
      "[CV] n_estimators=1, min_samples_split=5, min_samples_leaf=1, max_features=sqrt, max_depth=25 \n",
      "[CV]  n_estimators=1, min_samples_split=5, min_samples_leaf=1, max_features=sqrt, max_depth=25, total=   0.0s\n",
      "[CV] n_estimators=1, min_samples_split=5, min_samples_leaf=1, max_features=sqrt, max_depth=25 \n",
      "[CV]  n_estimators=1, min_samples_split=5, min_samples_leaf=1, max_features=sqrt, max_depth=25, total=   0.0s\n",
      "[CV] n_estimators=1, min_samples_split=5, min_samples_leaf=1, max_features=sqrt, max_depth=25 \n",
      "[CV]  n_estimators=1, min_samples_split=5, min_samples_leaf=1, max_features=sqrt, max_depth=25, total=   0.0s\n",
      "[CV] n_estimators=1, min_samples_split=6, min_samples_leaf=10, max_features=auto, max_depth=5 \n",
      "[CV]  n_estimators=1, min_samples_split=6, min_samples_leaf=10, max_features=auto, max_depth=5, total=   0.0s\n",
      "[CV] n_estimators=1, min_samples_split=6, min_samples_leaf=10, max_features=auto, max_depth=5 \n",
      "[CV]  n_estimators=1, min_samples_split=6, min_samples_leaf=10, max_features=auto, max_depth=5, total=   0.0s\n",
      "[CV] n_estimators=1, min_samples_split=6, min_samples_leaf=10, max_features=auto, max_depth=5 \n",
      "[CV]  n_estimators=1, min_samples_split=6, min_samples_leaf=10, max_features=auto, max_depth=5, total=   0.0s\n",
      "[CV] n_estimators=1, min_samples_split=7, min_samples_leaf=2, max_features=sqrt, max_depth=10 \n",
      "[CV]  n_estimators=1, min_samples_split=7, min_samples_leaf=2, max_features=sqrt, max_depth=10, total=   0.0s\n",
      "[CV] n_estimators=1, min_samples_split=7, min_samples_leaf=2, max_features=sqrt, max_depth=10 \n",
      "[CV]  n_estimators=1, min_samples_split=7, min_samples_leaf=2, max_features=sqrt, max_depth=10, total=   0.0s\n",
      "[CV] n_estimators=1, min_samples_split=7, min_samples_leaf=2, max_features=sqrt, max_depth=10 \n",
      "[CV]  n_estimators=1, min_samples_split=7, min_samples_leaf=2, max_features=sqrt, max_depth=10, total=   0.0s\n",
      "[CV] n_estimators=1, min_samples_split=5, min_samples_leaf=5, max_features=sqrt, max_depth=25 \n",
      "[CV]  n_estimators=1, min_samples_split=5, min_samples_leaf=5, max_features=sqrt, max_depth=25, total=   0.0s\n",
      "[CV] n_estimators=1, min_samples_split=5, min_samples_leaf=5, max_features=sqrt, max_depth=25 \n",
      "[CV]  n_estimators=1, min_samples_split=5, min_samples_leaf=5, max_features=sqrt, max_depth=25, total=   0.0s\n",
      "[CV] n_estimators=1, min_samples_split=5, min_samples_leaf=5, max_features=sqrt, max_depth=25 \n",
      "[CV]  n_estimators=1, min_samples_split=5, min_samples_leaf=5, max_features=sqrt, max_depth=25, total=   0.0s\n",
      "[CV] n_estimators=1, min_samples_split=3, min_samples_leaf=10, max_features=auto, max_depth=10 \n",
      "[CV]  n_estimators=1, min_samples_split=3, min_samples_leaf=10, max_features=auto, max_depth=10, total=   0.0s\n",
      "[CV] n_estimators=1, min_samples_split=3, min_samples_leaf=10, max_features=auto, max_depth=10 \n",
      "[CV]  n_estimators=1, min_samples_split=3, min_samples_leaf=10, max_features=auto, max_depth=10, total=   0.0s\n",
      "[CV] n_estimators=1, min_samples_split=3, min_samples_leaf=10, max_features=auto, max_depth=10 \n",
      "[CV]  n_estimators=1, min_samples_split=3, min_samples_leaf=10, max_features=auto, max_depth=10, total=   0.0s\n",
      "[CV] n_estimators=1, min_samples_split=7, min_samples_leaf=10, max_features=sqrt, max_depth=10 \n",
      "[CV]  n_estimators=1, min_samples_split=7, min_samples_leaf=10, max_features=sqrt, max_depth=10, total=   0.0s\n",
      "[CV] n_estimators=1, min_samples_split=7, min_samples_leaf=10, max_features=sqrt, max_depth=10 \n",
      "[CV]  n_estimators=1, min_samples_split=7, min_samples_leaf=10, max_features=sqrt, max_depth=10, total=   0.0s\n",
      "[CV] n_estimators=1, min_samples_split=7, min_samples_leaf=10, max_features=sqrt, max_depth=10 \n",
      "[CV]  n_estimators=1, min_samples_split=7, min_samples_leaf=10, max_features=sqrt, max_depth=10, total=   0.0s\n",
      "[CV] n_estimators=1, min_samples_split=3, min_samples_leaf=10, max_features=auto, max_depth=25 \n",
      "[CV]  n_estimators=1, min_samples_split=3, min_samples_leaf=10, max_features=auto, max_depth=25, total=   0.0s\n",
      "[CV] n_estimators=1, min_samples_split=3, min_samples_leaf=10, max_features=auto, max_depth=25 \n",
      "[CV]  n_estimators=1, min_samples_split=3, min_samples_leaf=10, max_features=auto, max_depth=25, total=   0.0s\n",
      "[CV] n_estimators=1, min_samples_split=3, min_samples_leaf=10, max_features=auto, max_depth=25 \n",
      "[CV]  n_estimators=1, min_samples_split=3, min_samples_leaf=10, max_features=auto, max_depth=25, total=   0.0s\n",
      "[CV] n_estimators=1, min_samples_split=5, min_samples_leaf=2, max_features=sqrt, max_depth=30 \n",
      "[CV]  n_estimators=1, min_samples_split=5, min_samples_leaf=2, max_features=sqrt, max_depth=30, total=   0.0s\n",
      "[CV] n_estimators=1, min_samples_split=5, min_samples_leaf=2, max_features=sqrt, max_depth=30 \n",
      "[CV]  n_estimators=1, min_samples_split=5, min_samples_leaf=2, max_features=sqrt, max_depth=30, total=   0.0s\n",
      "[CV] n_estimators=1, min_samples_split=5, min_samples_leaf=2, max_features=sqrt, max_depth=30 \n",
      "[CV]  n_estimators=1, min_samples_split=5, min_samples_leaf=2, max_features=sqrt, max_depth=30, total=   0.0s\n",
      "[CV] n_estimators=1, min_samples_split=5, min_samples_leaf=5, max_features=sqrt, max_depth=15 \n",
      "[CV]  n_estimators=1, min_samples_split=5, min_samples_leaf=5, max_features=sqrt, max_depth=15, total=   0.0s\n",
      "[CV] n_estimators=1, min_samples_split=5, min_samples_leaf=5, max_features=sqrt, max_depth=15 \n",
      "[CV]  n_estimators=1, min_samples_split=5, min_samples_leaf=5, max_features=sqrt, max_depth=15, total=   0.0s\n",
      "[CV] n_estimators=1, min_samples_split=5, min_samples_leaf=5, max_features=sqrt, max_depth=15 \n",
      "[CV]  n_estimators=1, min_samples_split=5, min_samples_leaf=5, max_features=sqrt, max_depth=15, total=   0.0s\n",
      "[CV] n_estimators=1, min_samples_split=4, min_samples_leaf=1, max_features=sqrt, max_depth=30 \n",
      "[CV]  n_estimators=1, min_samples_split=4, min_samples_leaf=1, max_features=sqrt, max_depth=30, total=   0.0s\n",
      "[CV] n_estimators=1, min_samples_split=4, min_samples_leaf=1, max_features=sqrt, max_depth=30 \n",
      "[CV]  n_estimators=1, min_samples_split=4, min_samples_leaf=1, max_features=sqrt, max_depth=30, total=   0.0s\n",
      "[CV] n_estimators=1, min_samples_split=4, min_samples_leaf=1, max_features=sqrt, max_depth=30 \n",
      "[CV]  n_estimators=1, min_samples_split=4, min_samples_leaf=1, max_features=sqrt, max_depth=30, total=   0.0s\n",
      "[CV] n_estimators=1, min_samples_split=4, min_samples_leaf=10, max_features=auto, max_depth=5 \n",
      "[CV]  n_estimators=1, min_samples_split=4, min_samples_leaf=10, max_features=auto, max_depth=5, total=   0.0s\n",
      "[CV] n_estimators=1, min_samples_split=4, min_samples_leaf=10, max_features=auto, max_depth=5 \n",
      "[CV]  n_estimators=1, min_samples_split=4, min_samples_leaf=10, max_features=auto, max_depth=5, total=   0.0s\n",
      "[CV] n_estimators=1, min_samples_split=4, min_samples_leaf=10, max_features=auto, max_depth=5 \n",
      "[CV]  n_estimators=1, min_samples_split=4, min_samples_leaf=10, max_features=auto, max_depth=5, total=   0.0s\n",
      "[CV] n_estimators=1, min_samples_split=4, min_samples_leaf=10, max_features=sqrt, max_depth=20 \n",
      "[CV]  n_estimators=1, min_samples_split=4, min_samples_leaf=10, max_features=sqrt, max_depth=20, total=   0.0s\n",
      "[CV] n_estimators=1, min_samples_split=4, min_samples_leaf=10, max_features=sqrt, max_depth=20 \n",
      "[CV]  n_estimators=1, min_samples_split=4, min_samples_leaf=10, max_features=sqrt, max_depth=20, total=   0.0s\n",
      "[CV] n_estimators=1, min_samples_split=4, min_samples_leaf=10, max_features=sqrt, max_depth=20 \n",
      "[CV]  n_estimators=1, min_samples_split=4, min_samples_leaf=10, max_features=sqrt, max_depth=20, total=   0.0s\n",
      "[CV] n_estimators=1, min_samples_split=4, min_samples_leaf=2, max_features=sqrt, max_depth=10 \n",
      "[CV]  n_estimators=1, min_samples_split=4, min_samples_leaf=2, max_features=sqrt, max_depth=10, total=   0.0s\n",
      "[CV] n_estimators=1, min_samples_split=4, min_samples_leaf=2, max_features=sqrt, max_depth=10 \n",
      "[CV]  n_estimators=1, min_samples_split=4, min_samples_leaf=2, max_features=sqrt, max_depth=10, total=   0.0s\n",
      "[CV] n_estimators=1, min_samples_split=4, min_samples_leaf=2, max_features=sqrt, max_depth=10 \n",
      "[CV]  n_estimators=1, min_samples_split=4, min_samples_leaf=2, max_features=sqrt, max_depth=10, total=   0.0s\n",
      "[CV] n_estimators=1, min_samples_split=3, min_samples_leaf=2, max_features=auto, max_depth=25 \n",
      "[CV]  n_estimators=1, min_samples_split=3, min_samples_leaf=2, max_features=auto, max_depth=25, total=   0.0s\n",
      "[CV] n_estimators=1, min_samples_split=3, min_samples_leaf=2, max_features=auto, max_depth=25 \n",
      "[CV]  n_estimators=1, min_samples_split=3, min_samples_leaf=2, max_features=auto, max_depth=25, total=   0.0s\n",
      "[CV] n_estimators=1, min_samples_split=3, min_samples_leaf=2, max_features=auto, max_depth=25 \n"
     ]
    },
    {
     "name": "stdout",
     "output_type": "stream",
     "text": [
      "[CV]  n_estimators=1, min_samples_split=3, min_samples_leaf=2, max_features=auto, max_depth=25, total=   0.0s\n",
      "[CV] n_estimators=1, min_samples_split=6, min_samples_leaf=10, max_features=sqrt, max_depth=5 \n",
      "[CV]  n_estimators=1, min_samples_split=6, min_samples_leaf=10, max_features=sqrt, max_depth=5, total=   0.0s\n",
      "[CV] n_estimators=1, min_samples_split=6, min_samples_leaf=10, max_features=sqrt, max_depth=5 \n",
      "[CV]  n_estimators=1, min_samples_split=6, min_samples_leaf=10, max_features=sqrt, max_depth=5, total=   0.0s\n",
      "[CV] n_estimators=1, min_samples_split=6, min_samples_leaf=10, max_features=sqrt, max_depth=5 \n",
      "[CV]  n_estimators=1, min_samples_split=6, min_samples_leaf=10, max_features=sqrt, max_depth=5, total=   0.0s\n",
      "[CV] n_estimators=1, min_samples_split=7, min_samples_leaf=10, max_features=auto, max_depth=20 \n",
      "[CV]  n_estimators=1, min_samples_split=7, min_samples_leaf=10, max_features=auto, max_depth=20, total=   0.0s\n",
      "[CV] n_estimators=1, min_samples_split=7, min_samples_leaf=10, max_features=auto, max_depth=20 \n",
      "[CV]  n_estimators=1, min_samples_split=7, min_samples_leaf=10, max_features=auto, max_depth=20, total=   0.0s\n",
      "[CV] n_estimators=1, min_samples_split=7, min_samples_leaf=10, max_features=auto, max_depth=20 \n",
      "[CV]  n_estimators=1, min_samples_split=7, min_samples_leaf=10, max_features=auto, max_depth=20, total=   0.0s\n",
      "[CV] n_estimators=1, min_samples_split=3, min_samples_leaf=1, max_features=sqrt, max_depth=10 \n",
      "[CV]  n_estimators=1, min_samples_split=3, min_samples_leaf=1, max_features=sqrt, max_depth=10, total=   0.0s\n",
      "[CV] n_estimators=1, min_samples_split=3, min_samples_leaf=1, max_features=sqrt, max_depth=10 \n",
      "[CV]  n_estimators=1, min_samples_split=3, min_samples_leaf=1, max_features=sqrt, max_depth=10, total=   0.0s\n",
      "[CV] n_estimators=1, min_samples_split=3, min_samples_leaf=1, max_features=sqrt, max_depth=10 \n",
      "[CV]  n_estimators=1, min_samples_split=3, min_samples_leaf=1, max_features=sqrt, max_depth=10, total=   0.0s\n",
      "[CV] n_estimators=1, min_samples_split=7, min_samples_leaf=1, max_features=auto, max_depth=30 \n",
      "[CV]  n_estimators=1, min_samples_split=7, min_samples_leaf=1, max_features=auto, max_depth=30, total=   0.0s\n",
      "[CV] n_estimators=1, min_samples_split=7, min_samples_leaf=1, max_features=auto, max_depth=30 \n",
      "[CV]  n_estimators=1, min_samples_split=7, min_samples_leaf=1, max_features=auto, max_depth=30, total=   0.0s\n",
      "[CV] n_estimators=1, min_samples_split=7, min_samples_leaf=1, max_features=auto, max_depth=30 \n",
      "[CV]  n_estimators=1, min_samples_split=7, min_samples_leaf=1, max_features=auto, max_depth=30, total=   0.0s\n",
      "[CV] n_estimators=1, min_samples_split=4, min_samples_leaf=2, max_features=sqrt, max_depth=25 \n",
      "[CV]  n_estimators=1, min_samples_split=4, min_samples_leaf=2, max_features=sqrt, max_depth=25, total=   0.0s\n",
      "[CV] n_estimators=1, min_samples_split=4, min_samples_leaf=2, max_features=sqrt, max_depth=25 \n",
      "[CV]  n_estimators=1, min_samples_split=4, min_samples_leaf=2, max_features=sqrt, max_depth=25, total=   0.0s\n",
      "[CV] n_estimators=1, min_samples_split=4, min_samples_leaf=2, max_features=sqrt, max_depth=25 \n",
      "[CV]  n_estimators=1, min_samples_split=4, min_samples_leaf=2, max_features=sqrt, max_depth=25, total=   0.0s\n",
      "[CV] n_estimators=1, min_samples_split=5, min_samples_leaf=2, max_features=auto, max_depth=30 \n",
      "[CV]  n_estimators=1, min_samples_split=5, min_samples_leaf=2, max_features=auto, max_depth=30, total=   0.0s\n",
      "[CV] n_estimators=1, min_samples_split=5, min_samples_leaf=2, max_features=auto, max_depth=30 \n",
      "[CV]  n_estimators=1, min_samples_split=5, min_samples_leaf=2, max_features=auto, max_depth=30, total=   0.0s\n",
      "[CV] n_estimators=1, min_samples_split=5, min_samples_leaf=2, max_features=auto, max_depth=30 \n",
      "[CV]  n_estimators=1, min_samples_split=5, min_samples_leaf=2, max_features=auto, max_depth=30, total=   0.0s\n",
      "[CV] n_estimators=1, min_samples_split=6, min_samples_leaf=5, max_features=sqrt, max_depth=25 \n",
      "[CV]  n_estimators=1, min_samples_split=6, min_samples_leaf=5, max_features=sqrt, max_depth=25, total=   0.0s\n",
      "[CV] n_estimators=1, min_samples_split=6, min_samples_leaf=5, max_features=sqrt, max_depth=25 \n",
      "[CV]  n_estimators=1, min_samples_split=6, min_samples_leaf=5, max_features=sqrt, max_depth=25, total=   0.0s\n",
      "[CV] n_estimators=1, min_samples_split=6, min_samples_leaf=5, max_features=sqrt, max_depth=25 \n",
      "[CV]  n_estimators=1, min_samples_split=6, min_samples_leaf=5, max_features=sqrt, max_depth=25, total=   0.0s\n",
      "[CV] n_estimators=1, min_samples_split=7, min_samples_leaf=1, max_features=sqrt, max_depth=30 \n",
      "[CV]  n_estimators=1, min_samples_split=7, min_samples_leaf=1, max_features=sqrt, max_depth=30, total=   0.0s\n",
      "[CV] n_estimators=1, min_samples_split=7, min_samples_leaf=1, max_features=sqrt, max_depth=30 \n",
      "[CV]  n_estimators=1, min_samples_split=7, min_samples_leaf=1, max_features=sqrt, max_depth=30, total=   0.0s\n",
      "[CV] n_estimators=1, min_samples_split=7, min_samples_leaf=1, max_features=sqrt, max_depth=30 \n",
      "[CV]  n_estimators=1, min_samples_split=7, min_samples_leaf=1, max_features=sqrt, max_depth=30, total=   0.0s\n",
      "[CV] n_estimators=1, min_samples_split=7, min_samples_leaf=2, max_features=auto, max_depth=30 \n",
      "[CV]  n_estimators=1, min_samples_split=7, min_samples_leaf=2, max_features=auto, max_depth=30, total=   0.0s\n",
      "[CV] n_estimators=1, min_samples_split=7, min_samples_leaf=2, max_features=auto, max_depth=30 \n",
      "[CV]  n_estimators=1, min_samples_split=7, min_samples_leaf=2, max_features=auto, max_depth=30, total=   0.0s\n",
      "[CV] n_estimators=1, min_samples_split=7, min_samples_leaf=2, max_features=auto, max_depth=30 \n",
      "[CV]  n_estimators=1, min_samples_split=7, min_samples_leaf=2, max_features=auto, max_depth=30, total=   0.0s\n",
      "[CV] n_estimators=1, min_samples_split=3, min_samples_leaf=10, max_features=sqrt, max_depth=15 \n",
      "[CV]  n_estimators=1, min_samples_split=3, min_samples_leaf=10, max_features=sqrt, max_depth=15, total=   0.0s\n",
      "[CV] n_estimators=1, min_samples_split=3, min_samples_leaf=10, max_features=sqrt, max_depth=15 \n",
      "[CV]  n_estimators=1, min_samples_split=3, min_samples_leaf=10, max_features=sqrt, max_depth=15, total=   0.0s\n",
      "[CV] n_estimators=1, min_samples_split=3, min_samples_leaf=10, max_features=sqrt, max_depth=15 \n",
      "[CV]  n_estimators=1, min_samples_split=3, min_samples_leaf=10, max_features=sqrt, max_depth=15, total=   0.0s\n",
      "[CV] n_estimators=1, min_samples_split=7, min_samples_leaf=10, max_features=auto, max_depth=30 \n",
      "[CV]  n_estimators=1, min_samples_split=7, min_samples_leaf=10, max_features=auto, max_depth=30, total=   0.0s\n",
      "[CV] n_estimators=1, min_samples_split=7, min_samples_leaf=10, max_features=auto, max_depth=30 \n",
      "[CV]  n_estimators=1, min_samples_split=7, min_samples_leaf=10, max_features=auto, max_depth=30, total=   0.0s\n",
      "[CV] n_estimators=1, min_samples_split=7, min_samples_leaf=10, max_features=auto, max_depth=30 \n",
      "[CV]  n_estimators=1, min_samples_split=7, min_samples_leaf=10, max_features=auto, max_depth=30, total=   0.0s\n",
      "[CV] n_estimators=1, min_samples_split=6, min_samples_leaf=5, max_features=sqrt, max_depth=10 \n",
      "[CV]  n_estimators=1, min_samples_split=6, min_samples_leaf=5, max_features=sqrt, max_depth=10, total=   0.0s\n",
      "[CV] n_estimators=1, min_samples_split=6, min_samples_leaf=5, max_features=sqrt, max_depth=10 \n",
      "[CV]  n_estimators=1, min_samples_split=6, min_samples_leaf=5, max_features=sqrt, max_depth=10, total=   0.0s\n",
      "[CV] n_estimators=1, min_samples_split=6, min_samples_leaf=5, max_features=sqrt, max_depth=10 \n",
      "[CV]  n_estimators=1, min_samples_split=6, min_samples_leaf=5, max_features=sqrt, max_depth=10, total=   0.0s\n",
      "[CV] n_estimators=1, min_samples_split=4, min_samples_leaf=10, max_features=auto, max_depth=20 \n",
      "[CV]  n_estimators=1, min_samples_split=4, min_samples_leaf=10, max_features=auto, max_depth=20, total=   0.0s\n",
      "[CV] n_estimators=1, min_samples_split=4, min_samples_leaf=10, max_features=auto, max_depth=20 \n",
      "[CV]  n_estimators=1, min_samples_split=4, min_samples_leaf=10, max_features=auto, max_depth=20, total=   0.0s\n",
      "[CV] n_estimators=1, min_samples_split=4, min_samples_leaf=10, max_features=auto, max_depth=20 \n",
      "[CV]  n_estimators=1, min_samples_split=4, min_samples_leaf=10, max_features=auto, max_depth=20, total=   0.0s\n",
      "[CV] n_estimators=1, min_samples_split=3, min_samples_leaf=10, max_features=auto, max_depth=15 \n",
      "[CV]  n_estimators=1, min_samples_split=3, min_samples_leaf=10, max_features=auto, max_depth=15, total=   0.0s\n",
      "[CV] n_estimators=1, min_samples_split=3, min_samples_leaf=10, max_features=auto, max_depth=15 \n",
      "[CV]  n_estimators=1, min_samples_split=3, min_samples_leaf=10, max_features=auto, max_depth=15, total=   0.0s\n",
      "[CV] n_estimators=1, min_samples_split=3, min_samples_leaf=10, max_features=auto, max_depth=15 \n",
      "[CV]  n_estimators=1, min_samples_split=3, min_samples_leaf=10, max_features=auto, max_depth=15, total=   0.0s\n",
      "[CV] n_estimators=1, min_samples_split=4, min_samples_leaf=2, max_features=auto, max_depth=20 \n",
      "[CV]  n_estimators=1, min_samples_split=4, min_samples_leaf=2, max_features=auto, max_depth=20, total=   0.0s\n",
      "[CV] n_estimators=1, min_samples_split=4, min_samples_leaf=2, max_features=auto, max_depth=20 \n",
      "[CV]  n_estimators=1, min_samples_split=4, min_samples_leaf=2, max_features=auto, max_depth=20, total=   0.0s\n",
      "[CV] n_estimators=1, min_samples_split=4, min_samples_leaf=2, max_features=auto, max_depth=20 \n",
      "[CV]  n_estimators=1, min_samples_split=4, min_samples_leaf=2, max_features=auto, max_depth=20, total=   0.0s\n",
      "[CV] n_estimators=1, min_samples_split=3, min_samples_leaf=1, max_features=auto, max_depth=20 \n"
     ]
    },
    {
     "name": "stdout",
     "output_type": "stream",
     "text": [
      "[CV]  n_estimators=1, min_samples_split=3, min_samples_leaf=1, max_features=auto, max_depth=20, total=   0.0s\n",
      "[CV] n_estimators=1, min_samples_split=3, min_samples_leaf=1, max_features=auto, max_depth=20 \n",
      "[CV]  n_estimators=1, min_samples_split=3, min_samples_leaf=1, max_features=auto, max_depth=20, total=   0.0s\n",
      "[CV] n_estimators=1, min_samples_split=3, min_samples_leaf=1, max_features=auto, max_depth=20 \n",
      "[CV]  n_estimators=1, min_samples_split=3, min_samples_leaf=1, max_features=auto, max_depth=20, total=   0.0s\n",
      "[CV] n_estimators=1, min_samples_split=5, min_samples_leaf=2, max_features=sqrt, max_depth=10 \n",
      "[CV]  n_estimators=1, min_samples_split=5, min_samples_leaf=2, max_features=sqrt, max_depth=10, total=   0.0s\n",
      "[CV] n_estimators=1, min_samples_split=5, min_samples_leaf=2, max_features=sqrt, max_depth=10 \n",
      "[CV]  n_estimators=1, min_samples_split=5, min_samples_leaf=2, max_features=sqrt, max_depth=10, total=   0.0s\n",
      "[CV] n_estimators=1, min_samples_split=5, min_samples_leaf=2, max_features=sqrt, max_depth=10 \n",
      "[CV]  n_estimators=1, min_samples_split=5, min_samples_leaf=2, max_features=sqrt, max_depth=10, total=   0.0s\n",
      "[CV] n_estimators=1, min_samples_split=4, min_samples_leaf=1, max_features=sqrt, max_depth=15 \n",
      "[CV]  n_estimators=1, min_samples_split=4, min_samples_leaf=1, max_features=sqrt, max_depth=15, total=   0.0s\n",
      "[CV] n_estimators=1, min_samples_split=4, min_samples_leaf=1, max_features=sqrt, max_depth=15 \n",
      "[CV]  n_estimators=1, min_samples_split=4, min_samples_leaf=1, max_features=sqrt, max_depth=15, total=   0.0s\n",
      "[CV] n_estimators=1, min_samples_split=4, min_samples_leaf=1, max_features=sqrt, max_depth=15 \n",
      "[CV]  n_estimators=1, min_samples_split=4, min_samples_leaf=1, max_features=sqrt, max_depth=15, total=   0.0s\n",
      "[CV] n_estimators=1, min_samples_split=6, min_samples_leaf=2, max_features=sqrt, max_depth=10 \n",
      "[CV]  n_estimators=1, min_samples_split=6, min_samples_leaf=2, max_features=sqrt, max_depth=10, total=   0.0s\n",
      "[CV] n_estimators=1, min_samples_split=6, min_samples_leaf=2, max_features=sqrt, max_depth=10 \n",
      "[CV]  n_estimators=1, min_samples_split=6, min_samples_leaf=2, max_features=sqrt, max_depth=10, total=   0.0s\n",
      "[CV] n_estimators=1, min_samples_split=6, min_samples_leaf=2, max_features=sqrt, max_depth=10 \n",
      "[CV]  n_estimators=1, min_samples_split=6, min_samples_leaf=2, max_features=sqrt, max_depth=10, total=   0.0s\n",
      "[CV] n_estimators=1, min_samples_split=6, min_samples_leaf=2, max_features=sqrt, max_depth=15 \n",
      "[CV]  n_estimators=1, min_samples_split=6, min_samples_leaf=2, max_features=sqrt, max_depth=15, total=   0.0s\n",
      "[CV] n_estimators=1, min_samples_split=6, min_samples_leaf=2, max_features=sqrt, max_depth=15 \n",
      "[CV]  n_estimators=1, min_samples_split=6, min_samples_leaf=2, max_features=sqrt, max_depth=15, total=   0.0s\n",
      "[CV] n_estimators=1, min_samples_split=6, min_samples_leaf=2, max_features=sqrt, max_depth=15 \n",
      "[CV]  n_estimators=1, min_samples_split=6, min_samples_leaf=2, max_features=sqrt, max_depth=15, total=   0.0s\n",
      "[CV] n_estimators=1, min_samples_split=7, min_samples_leaf=1, max_features=auto, max_depth=15 \n",
      "[CV]  n_estimators=1, min_samples_split=7, min_samples_leaf=1, max_features=auto, max_depth=15, total=   0.0s\n",
      "[CV] n_estimators=1, min_samples_split=7, min_samples_leaf=1, max_features=auto, max_depth=15 \n",
      "[CV]  n_estimators=1, min_samples_split=7, min_samples_leaf=1, max_features=auto, max_depth=15, total=   0.0s\n",
      "[CV] n_estimators=1, min_samples_split=7, min_samples_leaf=1, max_features=auto, max_depth=15 \n",
      "[CV]  n_estimators=1, min_samples_split=7, min_samples_leaf=1, max_features=auto, max_depth=15, total=   0.0s\n",
      "[CV] n_estimators=1, min_samples_split=5, min_samples_leaf=10, max_features=sqrt, max_depth=15 \n",
      "[CV]  n_estimators=1, min_samples_split=5, min_samples_leaf=10, max_features=sqrt, max_depth=15, total=   0.0s\n",
      "[CV] n_estimators=1, min_samples_split=5, min_samples_leaf=10, max_features=sqrt, max_depth=15 \n",
      "[CV]  n_estimators=1, min_samples_split=5, min_samples_leaf=10, max_features=sqrt, max_depth=15, total=   0.0s\n",
      "[CV] n_estimators=1, min_samples_split=5, min_samples_leaf=10, max_features=sqrt, max_depth=15 \n",
      "[CV]  n_estimators=1, min_samples_split=5, min_samples_leaf=10, max_features=sqrt, max_depth=15, total=   0.0s\n",
      "[CV] n_estimators=1, min_samples_split=7, min_samples_leaf=5, max_features=sqrt, max_depth=25 \n",
      "[CV]  n_estimators=1, min_samples_split=7, min_samples_leaf=5, max_features=sqrt, max_depth=25, total=   0.0s\n",
      "[CV] n_estimators=1, min_samples_split=7, min_samples_leaf=5, max_features=sqrt, max_depth=25 \n",
      "[CV]  n_estimators=1, min_samples_split=7, min_samples_leaf=5, max_features=sqrt, max_depth=25, total=   0.0s\n",
      "[CV] n_estimators=1, min_samples_split=7, min_samples_leaf=5, max_features=sqrt, max_depth=25 \n",
      "[CV]  n_estimators=1, min_samples_split=7, min_samples_leaf=5, max_features=sqrt, max_depth=25, total=   0.0s\n",
      "[CV] n_estimators=1, min_samples_split=5, min_samples_leaf=10, max_features=auto, max_depth=25 \n",
      "[CV]  n_estimators=1, min_samples_split=5, min_samples_leaf=10, max_features=auto, max_depth=25, total=   0.0s\n",
      "[CV] n_estimators=1, min_samples_split=5, min_samples_leaf=10, max_features=auto, max_depth=25 \n",
      "[CV]  n_estimators=1, min_samples_split=5, min_samples_leaf=10, max_features=auto, max_depth=25, total=   0.0s\n",
      "[CV] n_estimators=1, min_samples_split=5, min_samples_leaf=10, max_features=auto, max_depth=25 \n",
      "[CV]  n_estimators=1, min_samples_split=5, min_samples_leaf=10, max_features=auto, max_depth=25, total=   0.0s\n",
      "[CV] n_estimators=1, min_samples_split=4, min_samples_leaf=5, max_features=sqrt, max_depth=15 \n",
      "[CV]  n_estimators=1, min_samples_split=4, min_samples_leaf=5, max_features=sqrt, max_depth=15, total=   0.0s\n",
      "[CV] n_estimators=1, min_samples_split=4, min_samples_leaf=5, max_features=sqrt, max_depth=15 \n",
      "[CV]  n_estimators=1, min_samples_split=4, min_samples_leaf=5, max_features=sqrt, max_depth=15, total=   0.0s\n",
      "[CV] n_estimators=1, min_samples_split=4, min_samples_leaf=5, max_features=sqrt, max_depth=15 \n",
      "[CV]  n_estimators=1, min_samples_split=4, min_samples_leaf=5, max_features=sqrt, max_depth=15, total=   0.0s\n",
      "[CV] n_estimators=1, min_samples_split=7, min_samples_leaf=2, max_features=sqrt, max_depth=5 \n",
      "[CV]  n_estimators=1, min_samples_split=7, min_samples_leaf=2, max_features=sqrt, max_depth=5, total=   0.0s\n",
      "[CV] n_estimators=1, min_samples_split=7, min_samples_leaf=2, max_features=sqrt, max_depth=5 \n",
      "[CV]  n_estimators=1, min_samples_split=7, min_samples_leaf=2, max_features=sqrt, max_depth=5, total=   0.0s\n",
      "[CV] n_estimators=1, min_samples_split=7, min_samples_leaf=2, max_features=sqrt, max_depth=5 \n",
      "[CV]  n_estimators=1, min_samples_split=7, min_samples_leaf=2, max_features=sqrt, max_depth=5, total=   0.0s\n",
      "[CV] n_estimators=1, min_samples_split=7, min_samples_leaf=1, max_features=auto, max_depth=20 \n",
      "[CV]  n_estimators=1, min_samples_split=7, min_samples_leaf=1, max_features=auto, max_depth=20, total=   0.0s\n",
      "[CV] n_estimators=1, min_samples_split=7, min_samples_leaf=1, max_features=auto, max_depth=20 \n",
      "[CV]  n_estimators=1, min_samples_split=7, min_samples_leaf=1, max_features=auto, max_depth=20, total=   0.0s\n",
      "[CV] n_estimators=1, min_samples_split=7, min_samples_leaf=1, max_features=auto, max_depth=20 \n",
      "[CV]  n_estimators=1, min_samples_split=7, min_samples_leaf=1, max_features=auto, max_depth=20, total=   0.0s\n",
      "[CV] n_estimators=1, min_samples_split=3, min_samples_leaf=10, max_features=sqrt, max_depth=10 \n",
      "[CV]  n_estimators=1, min_samples_split=3, min_samples_leaf=10, max_features=sqrt, max_depth=10, total=   0.0s\n",
      "[CV] n_estimators=1, min_samples_split=3, min_samples_leaf=10, max_features=sqrt, max_depth=10 \n",
      "[CV]  n_estimators=1, min_samples_split=3, min_samples_leaf=10, max_features=sqrt, max_depth=10, total=   0.0s\n",
      "[CV] n_estimators=1, min_samples_split=3, min_samples_leaf=10, max_features=sqrt, max_depth=10 \n",
      "[CV]  n_estimators=1, min_samples_split=3, min_samples_leaf=10, max_features=sqrt, max_depth=10, total=   0.0s\n",
      "[CV] n_estimators=1, min_samples_split=5, min_samples_leaf=1, max_features=auto, max_depth=15 \n",
      "[CV]  n_estimators=1, min_samples_split=5, min_samples_leaf=1, max_features=auto, max_depth=15, total=   0.0s\n",
      "[CV] n_estimators=1, min_samples_split=5, min_samples_leaf=1, max_features=auto, max_depth=15 \n",
      "[CV]  n_estimators=1, min_samples_split=5, min_samples_leaf=1, max_features=auto, max_depth=15, total=   0.0s\n",
      "[CV] n_estimators=1, min_samples_split=5, min_samples_leaf=1, max_features=auto, max_depth=15 \n",
      "[CV]  n_estimators=1, min_samples_split=5, min_samples_leaf=1, max_features=auto, max_depth=15, total=   0.0s\n",
      "[CV] n_estimators=1, min_samples_split=3, min_samples_leaf=2, max_features=auto, max_depth=5 \n",
      "[CV]  n_estimators=1, min_samples_split=3, min_samples_leaf=2, max_features=auto, max_depth=5, total=   0.0s\n",
      "[CV] n_estimators=1, min_samples_split=3, min_samples_leaf=2, max_features=auto, max_depth=5 \n",
      "[CV]  n_estimators=1, min_samples_split=3, min_samples_leaf=2, max_features=auto, max_depth=5, total=   0.0s\n",
      "[CV] n_estimators=1, min_samples_split=3, min_samples_leaf=2, max_features=auto, max_depth=5 \n",
      "[CV]  n_estimators=1, min_samples_split=3, min_samples_leaf=2, max_features=auto, max_depth=5, total=   0.0s\n",
      "[CV] n_estimators=1, min_samples_split=4, min_samples_leaf=10, max_features=auto, max_depth=10 \n",
      "[CV]  n_estimators=1, min_samples_split=4, min_samples_leaf=10, max_features=auto, max_depth=10, total=   0.0s\n",
      "[CV] n_estimators=1, min_samples_split=4, min_samples_leaf=10, max_features=auto, max_depth=10 \n",
      "[CV]  n_estimators=1, min_samples_split=4, min_samples_leaf=10, max_features=auto, max_depth=10, total=   0.0s\n",
      "[CV] n_estimators=1, min_samples_split=4, min_samples_leaf=10, max_features=auto, max_depth=10 \n"
     ]
    },
    {
     "name": "stdout",
     "output_type": "stream",
     "text": [
      "[CV]  n_estimators=1, min_samples_split=4, min_samples_leaf=10, max_features=auto, max_depth=10, total=   0.0s\n",
      "[CV] n_estimators=1, min_samples_split=7, min_samples_leaf=1, max_features=auto, max_depth=25 \n",
      "[CV]  n_estimators=1, min_samples_split=7, min_samples_leaf=1, max_features=auto, max_depth=25, total=   0.0s\n",
      "[CV] n_estimators=1, min_samples_split=7, min_samples_leaf=1, max_features=auto, max_depth=25 \n",
      "[CV]  n_estimators=1, min_samples_split=7, min_samples_leaf=1, max_features=auto, max_depth=25, total=   0.0s\n",
      "[CV] n_estimators=1, min_samples_split=7, min_samples_leaf=1, max_features=auto, max_depth=25 \n",
      "[CV]  n_estimators=1, min_samples_split=7, min_samples_leaf=1, max_features=auto, max_depth=25, total=   0.0s\n",
      "[CV] n_estimators=1, min_samples_split=7, min_samples_leaf=10, max_features=sqrt, max_depth=20 \n",
      "[CV]  n_estimators=1, min_samples_split=7, min_samples_leaf=10, max_features=sqrt, max_depth=20, total=   0.0s\n",
      "[CV] n_estimators=1, min_samples_split=7, min_samples_leaf=10, max_features=sqrt, max_depth=20 \n",
      "[CV]  n_estimators=1, min_samples_split=7, min_samples_leaf=10, max_features=sqrt, max_depth=20, total=   0.0s\n",
      "[CV] n_estimators=1, min_samples_split=7, min_samples_leaf=10, max_features=sqrt, max_depth=20 \n",
      "[CV]  n_estimators=1, min_samples_split=7, min_samples_leaf=10, max_features=sqrt, max_depth=20, total=   0.0s\n",
      "[CV] n_estimators=1, min_samples_split=5, min_samples_leaf=10, max_features=auto, max_depth=15 \n",
      "[CV]  n_estimators=1, min_samples_split=5, min_samples_leaf=10, max_features=auto, max_depth=15, total=   0.0s\n",
      "[CV] n_estimators=1, min_samples_split=5, min_samples_leaf=10, max_features=auto, max_depth=15 \n",
      "[CV]  n_estimators=1, min_samples_split=5, min_samples_leaf=10, max_features=auto, max_depth=15, total=   0.0s\n",
      "[CV] n_estimators=1, min_samples_split=5, min_samples_leaf=10, max_features=auto, max_depth=15 \n",
      "[CV]  n_estimators=1, min_samples_split=5, min_samples_leaf=10, max_features=auto, max_depth=15, total=   0.0s\n",
      "[CV] n_estimators=1, min_samples_split=3, min_samples_leaf=2, max_features=sqrt, max_depth=10 \n",
      "[CV]  n_estimators=1, min_samples_split=3, min_samples_leaf=2, max_features=sqrt, max_depth=10, total=   0.0s\n",
      "[CV] n_estimators=1, min_samples_split=3, min_samples_leaf=2, max_features=sqrt, max_depth=10 \n",
      "[CV]  n_estimators=1, min_samples_split=3, min_samples_leaf=2, max_features=sqrt, max_depth=10, total=   0.0s\n",
      "[CV] n_estimators=1, min_samples_split=3, min_samples_leaf=2, max_features=sqrt, max_depth=10 \n",
      "[CV]  n_estimators=1, min_samples_split=3, min_samples_leaf=2, max_features=sqrt, max_depth=10, total=   0.0s\n",
      "[CV] n_estimators=1, min_samples_split=5, min_samples_leaf=5, max_features=auto, max_depth=30 \n",
      "[CV]  n_estimators=1, min_samples_split=5, min_samples_leaf=5, max_features=auto, max_depth=30, total=   0.0s\n",
      "[CV] n_estimators=1, min_samples_split=5, min_samples_leaf=5, max_features=auto, max_depth=30 \n",
      "[CV]  n_estimators=1, min_samples_split=5, min_samples_leaf=5, max_features=auto, max_depth=30, total=   0.0s\n",
      "[CV] n_estimators=1, min_samples_split=5, min_samples_leaf=5, max_features=auto, max_depth=30 \n",
      "[CV]  n_estimators=1, min_samples_split=5, min_samples_leaf=5, max_features=auto, max_depth=30, total=   0.0s\n",
      "[CV] n_estimators=1, min_samples_split=6, min_samples_leaf=2, max_features=auto, max_depth=30 \n",
      "[CV]  n_estimators=1, min_samples_split=6, min_samples_leaf=2, max_features=auto, max_depth=30, total=   0.0s\n",
      "[CV] n_estimators=1, min_samples_split=6, min_samples_leaf=2, max_features=auto, max_depth=30 \n",
      "[CV]  n_estimators=1, min_samples_split=6, min_samples_leaf=2, max_features=auto, max_depth=30, total=   0.0s\n",
      "[CV] n_estimators=1, min_samples_split=6, min_samples_leaf=2, max_features=auto, max_depth=30 \n",
      "[CV]  n_estimators=1, min_samples_split=6, min_samples_leaf=2, max_features=auto, max_depth=30, total=   0.0s\n",
      "[CV] n_estimators=1, min_samples_split=5, min_samples_leaf=1, max_features=sqrt, max_depth=20 \n",
      "[CV]  n_estimators=1, min_samples_split=5, min_samples_leaf=1, max_features=sqrt, max_depth=20, total=   0.0s\n",
      "[CV] n_estimators=1, min_samples_split=5, min_samples_leaf=1, max_features=sqrt, max_depth=20 \n",
      "[CV]  n_estimators=1, min_samples_split=5, min_samples_leaf=1, max_features=sqrt, max_depth=20, total=   0.0s\n",
      "[CV] n_estimators=1, min_samples_split=5, min_samples_leaf=1, max_features=sqrt, max_depth=20 \n",
      "[CV]  n_estimators=1, min_samples_split=5, min_samples_leaf=1, max_features=sqrt, max_depth=20, total=   0.0s\n",
      "[CV] n_estimators=1, min_samples_split=4, min_samples_leaf=5, max_features=sqrt, max_depth=5 \n",
      "[CV]  n_estimators=1, min_samples_split=4, min_samples_leaf=5, max_features=sqrt, max_depth=5, total=   0.0s\n",
      "[CV] n_estimators=1, min_samples_split=4, min_samples_leaf=5, max_features=sqrt, max_depth=5 \n",
      "[CV]  n_estimators=1, min_samples_split=4, min_samples_leaf=5, max_features=sqrt, max_depth=5, total=   0.0s\n",
      "[CV] n_estimators=1, min_samples_split=4, min_samples_leaf=5, max_features=sqrt, max_depth=5 \n",
      "[CV]  n_estimators=1, min_samples_split=4, min_samples_leaf=5, max_features=sqrt, max_depth=5, total=   0.0s\n",
      "[CV] n_estimators=1, min_samples_split=5, min_samples_leaf=5, max_features=auto, max_depth=5 \n",
      "[CV]  n_estimators=1, min_samples_split=5, min_samples_leaf=5, max_features=auto, max_depth=5, total=   0.0s\n",
      "[CV] n_estimators=1, min_samples_split=5, min_samples_leaf=5, max_features=auto, max_depth=5 \n",
      "[CV]  n_estimators=1, min_samples_split=5, min_samples_leaf=5, max_features=auto, max_depth=5, total=   0.0s\n",
      "[CV] n_estimators=1, min_samples_split=5, min_samples_leaf=5, max_features=auto, max_depth=5 \n",
      "[CV]  n_estimators=1, min_samples_split=5, min_samples_leaf=5, max_features=auto, max_depth=5, total=   0.0s\n",
      "[CV] n_estimators=1, min_samples_split=3, min_samples_leaf=10, max_features=sqrt, max_depth=5 \n",
      "[CV]  n_estimators=1, min_samples_split=3, min_samples_leaf=10, max_features=sqrt, max_depth=5, total=   0.0s\n",
      "[CV] n_estimators=1, min_samples_split=3, min_samples_leaf=10, max_features=sqrt, max_depth=5 \n",
      "[CV]  n_estimators=1, min_samples_split=3, min_samples_leaf=10, max_features=sqrt, max_depth=5, total=   0.0s\n",
      "[CV] n_estimators=1, min_samples_split=3, min_samples_leaf=10, max_features=sqrt, max_depth=5 \n",
      "[CV]  n_estimators=1, min_samples_split=3, min_samples_leaf=10, max_features=sqrt, max_depth=5, total=   0.0s\n",
      "[CV] n_estimators=1, min_samples_split=6, min_samples_leaf=2, max_features=sqrt, max_depth=5 \n",
      "[CV]  n_estimators=1, min_samples_split=6, min_samples_leaf=2, max_features=sqrt, max_depth=5, total=   0.0s\n",
      "[CV] n_estimators=1, min_samples_split=6, min_samples_leaf=2, max_features=sqrt, max_depth=5 \n",
      "[CV]  n_estimators=1, min_samples_split=6, min_samples_leaf=2, max_features=sqrt, max_depth=5, total=   0.0s\n",
      "[CV] n_estimators=1, min_samples_split=6, min_samples_leaf=2, max_features=sqrt, max_depth=5 \n",
      "[CV]  n_estimators=1, min_samples_split=6, min_samples_leaf=2, max_features=sqrt, max_depth=5, total=   0.0s\n",
      "[CV] n_estimators=1, min_samples_split=5, min_samples_leaf=1, max_features=auto, max_depth=10 \n",
      "[CV]  n_estimators=1, min_samples_split=5, min_samples_leaf=1, max_features=auto, max_depth=10, total=   0.0s\n",
      "[CV] n_estimators=1, min_samples_split=5, min_samples_leaf=1, max_features=auto, max_depth=10 \n",
      "[CV]  n_estimators=1, min_samples_split=5, min_samples_leaf=1, max_features=auto, max_depth=10, total=   0.0s\n",
      "[CV] n_estimators=1, min_samples_split=5, min_samples_leaf=1, max_features=auto, max_depth=10 \n",
      "[CV]  n_estimators=1, min_samples_split=5, min_samples_leaf=1, max_features=auto, max_depth=10, total=   0.0s\n",
      "[CV] n_estimators=1, min_samples_split=6, min_samples_leaf=1, max_features=sqrt, max_depth=30 \n",
      "[CV]  n_estimators=1, min_samples_split=6, min_samples_leaf=1, max_features=sqrt, max_depth=30, total=   0.0s\n",
      "[CV] n_estimators=1, min_samples_split=6, min_samples_leaf=1, max_features=sqrt, max_depth=30 \n",
      "[CV]  n_estimators=1, min_samples_split=6, min_samples_leaf=1, max_features=sqrt, max_depth=30, total=   0.0s\n",
      "[CV] n_estimators=1, min_samples_split=6, min_samples_leaf=1, max_features=sqrt, max_depth=30 \n",
      "[CV]  n_estimators=1, min_samples_split=6, min_samples_leaf=1, max_features=sqrt, max_depth=30, total=   0.0s\n",
      "[CV] n_estimators=1, min_samples_split=6, min_samples_leaf=2, max_features=sqrt, max_depth=20 \n"
     ]
    },
    {
     "name": "stdout",
     "output_type": "stream",
     "text": [
      "[CV]  n_estimators=1, min_samples_split=6, min_samples_leaf=2, max_features=sqrt, max_depth=20, total=   0.0s\n",
      "[CV] n_estimators=1, min_samples_split=6, min_samples_leaf=2, max_features=sqrt, max_depth=20 \n",
      "[CV]  n_estimators=1, min_samples_split=6, min_samples_leaf=2, max_features=sqrt, max_depth=20, total=   0.0s\n",
      "[CV] n_estimators=1, min_samples_split=6, min_samples_leaf=2, max_features=sqrt, max_depth=20 \n",
      "[CV]  n_estimators=1, min_samples_split=6, min_samples_leaf=2, max_features=sqrt, max_depth=20, total=   0.0s\n",
      "[CV] n_estimators=1, min_samples_split=4, min_samples_leaf=1, max_features=auto, max_depth=25 \n",
      "[CV]  n_estimators=1, min_samples_split=4, min_samples_leaf=1, max_features=auto, max_depth=25, total=   0.0s\n",
      "[CV] n_estimators=1, min_samples_split=4, min_samples_leaf=1, max_features=auto, max_depth=25 \n",
      "[CV]  n_estimators=1, min_samples_split=4, min_samples_leaf=1, max_features=auto, max_depth=25, total=   0.0s\n",
      "[CV] n_estimators=1, min_samples_split=4, min_samples_leaf=1, max_features=auto, max_depth=25 \n",
      "[CV]  n_estimators=1, min_samples_split=4, min_samples_leaf=1, max_features=auto, max_depth=25, total=   0.0s\n",
      "[CV] n_estimators=1, min_samples_split=4, min_samples_leaf=5, max_features=auto, max_depth=10 \n",
      "[CV]  n_estimators=1, min_samples_split=4, min_samples_leaf=5, max_features=auto, max_depth=10, total=   0.0s\n",
      "[CV] n_estimators=1, min_samples_split=4, min_samples_leaf=5, max_features=auto, max_depth=10 \n",
      "[CV]  n_estimators=1, min_samples_split=4, min_samples_leaf=5, max_features=auto, max_depth=10, total=   0.0s\n",
      "[CV] n_estimators=1, min_samples_split=4, min_samples_leaf=5, max_features=auto, max_depth=10 \n",
      "[CV]  n_estimators=1, min_samples_split=4, min_samples_leaf=5, max_features=auto, max_depth=10, total=   0.0s\n",
      "[CV] n_estimators=1, min_samples_split=5, min_samples_leaf=10, max_features=auto, max_depth=20 \n",
      "[CV]  n_estimators=1, min_samples_split=5, min_samples_leaf=10, max_features=auto, max_depth=20, total=   0.0s\n",
      "[CV] n_estimators=1, min_samples_split=5, min_samples_leaf=10, max_features=auto, max_depth=20 \n",
      "[CV]  n_estimators=1, min_samples_split=5, min_samples_leaf=10, max_features=auto, max_depth=20, total=   0.0s\n",
      "[CV] n_estimators=1, min_samples_split=5, min_samples_leaf=10, max_features=auto, max_depth=20 \n",
      "[CV]  n_estimators=1, min_samples_split=5, min_samples_leaf=10, max_features=auto, max_depth=20, total=   0.0s\n",
      "[CV] n_estimators=1, min_samples_split=3, min_samples_leaf=5, max_features=sqrt, max_depth=25 \n",
      "[CV]  n_estimators=1, min_samples_split=3, min_samples_leaf=5, max_features=sqrt, max_depth=25, total=   0.0s\n",
      "[CV] n_estimators=1, min_samples_split=3, min_samples_leaf=5, max_features=sqrt, max_depth=25 \n",
      "[CV]  n_estimators=1, min_samples_split=3, min_samples_leaf=5, max_features=sqrt, max_depth=25, total=   0.0s\n",
      "[CV] n_estimators=1, min_samples_split=3, min_samples_leaf=5, max_features=sqrt, max_depth=25 \n",
      "[CV]  n_estimators=1, min_samples_split=3, min_samples_leaf=5, max_features=sqrt, max_depth=25, total=   0.0s\n",
      "[CV] n_estimators=1, min_samples_split=4, min_samples_leaf=10, max_features=sqrt, max_depth=10 \n",
      "[CV]  n_estimators=1, min_samples_split=4, min_samples_leaf=10, max_features=sqrt, max_depth=10, total=   0.0s\n",
      "[CV] n_estimators=1, min_samples_split=4, min_samples_leaf=10, max_features=sqrt, max_depth=10 \n",
      "[CV]  n_estimators=1, min_samples_split=4, min_samples_leaf=10, max_features=sqrt, max_depth=10, total=   0.0s\n",
      "[CV] n_estimators=1, min_samples_split=4, min_samples_leaf=10, max_features=sqrt, max_depth=10 \n",
      "[CV]  n_estimators=1, min_samples_split=4, min_samples_leaf=10, max_features=sqrt, max_depth=10, total=   0.0s\n",
      "[CV] n_estimators=1, min_samples_split=4, min_samples_leaf=1, max_features=auto, max_depth=10 \n",
      "[CV]  n_estimators=1, min_samples_split=4, min_samples_leaf=1, max_features=auto, max_depth=10, total=   0.0s\n",
      "[CV] n_estimators=1, min_samples_split=4, min_samples_leaf=1, max_features=auto, max_depth=10 \n",
      "[CV]  n_estimators=1, min_samples_split=4, min_samples_leaf=1, max_features=auto, max_depth=10, total=   0.0s\n",
      "[CV] n_estimators=1, min_samples_split=4, min_samples_leaf=1, max_features=auto, max_depth=10 \n",
      "[CV]  n_estimators=1, min_samples_split=4, min_samples_leaf=1, max_features=auto, max_depth=10, total=   0.0s\n",
      "[CV] n_estimators=1, min_samples_split=5, min_samples_leaf=1, max_features=auto, max_depth=25 \n",
      "[CV]  n_estimators=1, min_samples_split=5, min_samples_leaf=1, max_features=auto, max_depth=25, total=   0.0s\n",
      "[CV] n_estimators=1, min_samples_split=5, min_samples_leaf=1, max_features=auto, max_depth=25 \n",
      "[CV]  n_estimators=1, min_samples_split=5, min_samples_leaf=1, max_features=auto, max_depth=25, total=   0.0s\n",
      "[CV] n_estimators=1, min_samples_split=5, min_samples_leaf=1, max_features=auto, max_depth=25 \n",
      "[CV]  n_estimators=1, min_samples_split=5, min_samples_leaf=1, max_features=auto, max_depth=25, total=   0.0s\n",
      "[CV] n_estimators=1, min_samples_split=4, min_samples_leaf=2, max_features=sqrt, max_depth=20 \n",
      "[CV]  n_estimators=1, min_samples_split=4, min_samples_leaf=2, max_features=sqrt, max_depth=20, total=   0.0s\n",
      "[CV] n_estimators=1, min_samples_split=4, min_samples_leaf=2, max_features=sqrt, max_depth=20 \n",
      "[CV]  n_estimators=1, min_samples_split=4, min_samples_leaf=2, max_features=sqrt, max_depth=20, total=   0.0s\n",
      "[CV] n_estimators=1, min_samples_split=4, min_samples_leaf=2, max_features=sqrt, max_depth=20 \n",
      "[CV]  n_estimators=1, min_samples_split=4, min_samples_leaf=2, max_features=sqrt, max_depth=20, total=   0.0s\n"
     ]
    },
    {
     "name": "stderr",
     "output_type": "stream",
     "text": [
      "[Parallel(n_jobs=1)]: Done 300 out of 300 | elapsed:    8.3s finished\n"
     ]
    },
    {
     "data": {
      "text/plain": [
       "RandomizedSearchCV(cv=3, error_score=nan,\n",
       "                   estimator=RandomForestClassifier(bootstrap=True,\n",
       "                                                    ccp_alpha=0.0,\n",
       "                                                    class_weight=None,\n",
       "                                                    criterion='gini',\n",
       "                                                    max_depth=None,\n",
       "                                                    max_features='auto',\n",
       "                                                    max_leaf_nodes=None,\n",
       "                                                    max_samples=None,\n",
       "                                                    min_impurity_decrease=0.0,\n",
       "                                                    min_impurity_split=None,\n",
       "                                                    min_samples_leaf=1,\n",
       "                                                    min_samples_split=2,\n",
       "                                                    min_weight_fraction_leaf=0.0,\n",
       "                                                    n_estimators=100,\n",
       "                                                    n_jobs...\n",
       "                                                    oob_score=False,\n",
       "                                                    random_state=None,\n",
       "                                                    verbose=0,\n",
       "                                                    warm_start=False),\n",
       "                   iid='deprecated', n_iter=100, n_jobs=1,\n",
       "                   param_distributions={'max_depth': [5, 10, 15, 20, 25, 30],\n",
       "                                        'max_features': ['auto', 'sqrt'],\n",
       "                                        'min_samples_leaf': [1, 2, 5, 10],\n",
       "                                        'min_samples_split': [3, 4, 5, 6, 7],\n",
       "                                        'n_estimators': [1]},\n",
       "                   pre_dispatch='2*n_jobs', random_state=42, refit=True,\n",
       "                   return_train_score=False, scoring=None, verbose=2)"
      ]
     },
     "execution_count": 36,
     "metadata": {},
     "output_type": "execute_result"
    }
   ],
   "source": [
    "rf_random = RandomizedSearchCV(estimator = rf, param_distributions = random_grid, n_iter = 100, cv = 3, verbose=2,\n",
    "                               random_state=42, n_jobs = 1)\n",
    "rf_random.fit(x_train, y_train)"
   ]
  },
  {
   "cell_type": "code",
   "execution_count": 37,
   "metadata": {},
   "outputs": [
    {
     "data": {
      "text/plain": [
       "RandomForestClassifier(bootstrap=True, ccp_alpha=0.0, class_weight=None,\n",
       "                       criterion='gini', max_depth=5, max_features='sqrt',\n",
       "                       max_leaf_nodes=None, max_samples=None,\n",
       "                       min_impurity_decrease=0.0, min_impurity_split=None,\n",
       "                       min_samples_leaf=5, min_samples_split=4,\n",
       "                       min_weight_fraction_leaf=0.0, n_estimators=1,\n",
       "                       n_jobs=None, oob_score=False, random_state=None,\n",
       "                       verbose=0, warm_start=False)"
      ]
     },
     "execution_count": 37,
     "metadata": {},
     "output_type": "execute_result"
    }
   ],
   "source": [
    "rf_random.best_estimator_"
   ]
  },
  {
   "cell_type": "code",
   "execution_count": 38,
   "metadata": {},
   "outputs": [
    {
     "data": {
      "text/plain": [
       "0.8933221031140294"
      ]
     },
     "execution_count": 38,
     "metadata": {},
     "output_type": "execute_result"
    }
   ],
   "source": [
    "rf_random.best_score_"
   ]
  },
  {
   "cell_type": "code",
   "execution_count": 39,
   "metadata": {},
   "outputs": [
    {
     "data": {
      "text/plain": [
       "{'n_estimators': 1,\n",
       " 'min_samples_split': 4,\n",
       " 'min_samples_leaf': 5,\n",
       " 'max_features': 'sqrt',\n",
       " 'max_depth': 5}"
      ]
     },
     "execution_count": 39,
     "metadata": {},
     "output_type": "execute_result"
    }
   ],
   "source": [
    "rf_random.best_params_"
   ]
  },
  {
   "cell_type": "code",
   "execution_count": 40,
   "metadata": {},
   "outputs": [],
   "source": [
    "from sklearn.ensemble import RandomForestClassifier\n",
    "rf = RandomForestClassifier(n_estimators = 1,\n",
    " min_samples_split = 4,\n",
    " min_samples_leaf = 5,\n",
    " max_features = 'sqrt',\n",
    " max_depth = 5)"
   ]
  },
  {
   "cell_type": "code",
   "execution_count": 41,
   "metadata": {},
   "outputs": [
    {
     "data": {
      "text/plain": [
       "RandomForestClassifier(bootstrap=True, ccp_alpha=0.0, class_weight=None,\n",
       "                       criterion='gini', max_depth=5, max_features='sqrt',\n",
       "                       max_leaf_nodes=None, max_samples=None,\n",
       "                       min_impurity_decrease=0.0, min_impurity_split=None,\n",
       "                       min_samples_leaf=5, min_samples_split=4,\n",
       "                       min_weight_fraction_leaf=0.0, n_estimators=1,\n",
       "                       n_jobs=None, oob_score=False, random_state=None,\n",
       "                       verbose=0, warm_start=False)"
      ]
     },
     "execution_count": 41,
     "metadata": {},
     "output_type": "execute_result"
    }
   ],
   "source": [
    "rf.fit(x_train, y_train)"
   ]
  },
  {
   "cell_type": "code",
   "execution_count": 42,
   "metadata": {},
   "outputs": [],
   "source": [
    "y_pred = rf.predict(x_test)"
   ]
  },
  {
   "cell_type": "code",
   "execution_count": 43,
   "metadata": {},
   "outputs": [
    {
     "name": "stdout",
     "output_type": "stream",
     "text": [
      "0.8931957025489783\n",
      "0.8902978472427012\n"
     ]
    }
   ],
   "source": [
    "print(rf.score(x_train, y_train))\n",
    "print(rf.score(x_test, y_test))"
   ]
  },
  {
   "cell_type": "code",
   "execution_count": 44,
   "metadata": {},
   "outputs": [
    {
     "data": {
      "text/plain": [
       "0.8902978472427012"
      ]
     },
     "execution_count": 44,
     "metadata": {},
     "output_type": "execute_result"
    }
   ],
   "source": [
    "accuracy_score(y_test, y_pred)"
   ]
  },
  {
   "cell_type": "code",
   "execution_count": 45,
   "metadata": {},
   "outputs": [],
   "source": [
    "from sklearn.ensemble import BaggingClassifier"
   ]
  },
  {
   "cell_type": "code",
   "execution_count": 46,
   "metadata": {},
   "outputs": [],
   "source": [
    "bagg = BaggingClassifier()"
   ]
  },
  {
   "cell_type": "code",
   "execution_count": 47,
   "metadata": {},
   "outputs": [],
   "source": [
    "test_pred = bagg.fit(x_train, y_train).predict(test_no_1)\n",
    "\n",
    "submission_4 = pd.DataFrame({'Churn': test_pred})\n",
    "\n",
    "submission_4.to_csv('Submission_4.csv', index = False)"
   ]
  },
  {
   "cell_type": "code",
   "execution_count": 48,
   "metadata": {},
   "outputs": [],
   "source": [
    "bagg = BaggingClassifier()"
   ]
  },
  {
   "cell_type": "code",
   "execution_count": 49,
   "metadata": {},
   "outputs": [
    {
     "data": {
      "text/plain": [
       "BaggingClassifier(base_estimator=None, bootstrap=True, bootstrap_features=False,\n",
       "                  max_features=1.0, max_samples=1.0, n_estimators=10,\n",
       "                  n_jobs=None, oob_score=False, random_state=None, verbose=0,\n",
       "                  warm_start=False)"
      ]
     },
     "execution_count": 49,
     "metadata": {},
     "output_type": "execute_result"
    }
   ],
   "source": [
    "bagg.fit(x_train, y_train)"
   ]
  },
  {
   "cell_type": "code",
   "execution_count": 50,
   "metadata": {},
   "outputs": [],
   "source": [
    "y_pred = bagg.predict(x_test)"
   ]
  },
  {
   "cell_type": "code",
   "execution_count": 51,
   "metadata": {},
   "outputs": [
    {
     "data": {
      "text/plain": [
       "0.8970805072250073"
      ]
     },
     "execution_count": 51,
     "metadata": {},
     "output_type": "execute_result"
    }
   ],
   "source": [
    "accuracy_score(y_test, y_pred)"
   ]
  },
  {
   "cell_type": "code",
   "execution_count": 52,
   "metadata": {},
   "outputs": [
    {
     "name": "stdout",
     "output_type": "stream",
     "text": [
      "              precision    recall  f1-score   support\n",
      "\n",
      "         0.0       0.92      0.97      0.94      8963\n",
      "         1.0       0.61      0.37      0.46      1210\n",
      "\n",
      "    accuracy                           0.90     10173\n",
      "   macro avg       0.77      0.67      0.70     10173\n",
      "weighted avg       0.88      0.90      0.89     10173\n",
      "\n"
     ]
    }
   ],
   "source": [
    "print(classification_report(y_test, y_pred))"
   ]
  },
  {
   "cell_type": "code",
   "execution_count": 55,
   "metadata": {},
   "outputs": [
    {
     "name": "stdout",
     "output_type": "stream",
     "text": [
      "0.4085263123699001\n"
     ]
    }
   ],
   "source": [
    "print(cohen_kappa_score(y_test, y_pred))"
   ]
  },
  {
   "cell_type": "code",
   "execution_count": 56,
   "metadata": {},
   "outputs": [],
   "source": [
    "from sklearn.ensemble import GradientBoostingClassifier"
   ]
  },
  {
   "cell_type": "code",
   "execution_count": 57,
   "metadata": {},
   "outputs": [],
   "source": [
    "gab = GradientBoostingClassifier()"
   ]
  },
  {
   "cell_type": "code",
   "execution_count": 58,
   "metadata": {},
   "outputs": [],
   "source": [
    "test_pred = gab.fit(x_train, y_train).predict(test_no_1)\n",
    "\n",
    "submission_5 = pd.DataFrame({'Churn': test_pred})\n",
    "\n",
    "submission_5.to_csv('Submission_5.csv', index = False)"
   ]
  },
  {
   "cell_type": "code",
   "execution_count": 59,
   "metadata": {},
   "outputs": [],
   "source": [
    "gab = GradientBoostingClassifier()"
   ]
  },
  {
   "cell_type": "code",
   "execution_count": 60,
   "metadata": {},
   "outputs": [],
   "source": [
    "y_pred = gab.fit(x_train, y_train).predict(x_test)"
   ]
  },
  {
   "cell_type": "code",
   "execution_count": 61,
   "metadata": {},
   "outputs": [
    {
     "name": "stdout",
     "output_type": "stream",
     "text": [
      "0.9052393590877814\n"
     ]
    }
   ],
   "source": [
    "print(accuracy_score(y_test, y_pred))"
   ]
  },
  {
   "cell_type": "code",
   "execution_count": 62,
   "metadata": {},
   "outputs": [
    {
     "name": "stdout",
     "output_type": "stream",
     "text": [
      "              precision    recall  f1-score   support\n",
      "\n",
      "         0.0       0.92      0.98      0.95      8963\n",
      "         1.0       0.68      0.39      0.49      1210\n",
      "\n",
      "    accuracy                           0.91     10173\n",
      "   macro avg       0.80      0.68      0.72     10173\n",
      "weighted avg       0.89      0.91      0.89     10173\n",
      "\n"
     ]
    }
   ],
   "source": [
    "print(classification_report(y_test, y_pred))"
   ]
  },
  {
   "cell_type": "code",
   "execution_count": 63,
   "metadata": {},
   "outputs": [
    {
     "name": "stdout",
     "output_type": "stream",
     "text": [
      "0.4436785620602991\n"
     ]
    }
   ],
   "source": [
    "print(cohen_kappa_score(y_test, y_pred))"
   ]
  },
  {
   "cell_type": "code",
   "execution_count": 64,
   "metadata": {},
   "outputs": [],
   "source": [
    "from xgboost import XGBClassifier"
   ]
  },
  {
   "cell_type": "code",
   "execution_count": 65,
   "metadata": {},
   "outputs": [],
   "source": [
    "xgb = XGBClassifier()"
   ]
  },
  {
   "cell_type": "code",
   "execution_count": 67,
   "metadata": {},
   "outputs": [],
   "source": [
    "y_pred = xgb.fit(x_train, y_train).predict(x_test)"
   ]
  },
  {
   "cell_type": "code",
   "execution_count": 68,
   "metadata": {},
   "outputs": [
    {
     "data": {
      "text/plain": [
       "0.902585274746879"
      ]
     },
     "execution_count": 68,
     "metadata": {},
     "output_type": "execute_result"
    }
   ],
   "source": [
    "accuracy_score(y_test, y_pred)"
   ]
  },
  {
   "cell_type": "code",
   "execution_count": 69,
   "metadata": {},
   "outputs": [
    {
     "name": "stdout",
     "output_type": "stream",
     "text": [
      "              precision    recall  f1-score   support\n",
      "\n",
      "         0.0       0.92      0.98      0.95      8963\n",
      "         1.0       0.68      0.35      0.46      1210\n",
      "\n",
      "    accuracy                           0.90     10173\n",
      "   macro avg       0.80      0.66      0.70     10173\n",
      "weighted avg       0.89      0.90      0.89     10173\n",
      "\n"
     ]
    }
   ],
   "source": [
    "print(classification_report(y_test, y_pred))"
   ]
  },
  {
   "cell_type": "code",
   "execution_count": 70,
   "metadata": {},
   "outputs": [
    {
     "name": "stdout",
     "output_type": "stream",
     "text": [
      "0.41179888571680445\n"
     ]
    }
   ],
   "source": [
    "print(cohen_kappa_score(y_test, y_pred))"
   ]
  },
  {
   "cell_type": "code",
   "execution_count": null,
   "metadata": {},
   "outputs": [],
   "source": []
  },
  {
   "cell_type": "code",
   "execution_count": 48,
   "metadata": {},
   "outputs": [],
   "source": [
    "from tensorflow.keras.models import Sequential\n",
    "from tensorflow.keras.layers import Dense, Dropout"
   ]
  },
  {
   "cell_type": "code",
   "execution_count": 19,
   "metadata": {},
   "outputs": [],
   "source": [
    "x = newtrain.drop('labels', axis = 1).values\n",
    "y = newtrain['labels'].values"
   ]
  },
  {
   "cell_type": "code",
   "execution_count": 20,
   "metadata": {},
   "outputs": [],
   "source": [
    "from sklearn.model_selection import train_test_split"
   ]
  },
  {
   "cell_type": "code",
   "execution_count": 21,
   "metadata": {},
   "outputs": [],
   "source": [
    "x_train, x_test, y_train, y_test = train_test_split(x, y, test_size = 0.3, random_state = 1)"
   ]
  },
  {
   "cell_type": "code",
   "execution_count": 22,
   "metadata": {},
   "outputs": [],
   "source": [
    "from sklearn.preprocessing import MinMaxScaler"
   ]
  },
  {
   "cell_type": "code",
   "execution_count": 23,
   "metadata": {},
   "outputs": [],
   "source": [
    "scaler = MinMaxScaler()"
   ]
  },
  {
   "cell_type": "code",
   "execution_count": 24,
   "metadata": {},
   "outputs": [],
   "source": [
    "x_train = scaler.fit_transform(x_train)\n",
    "x_test = scaler.transform(x_test)"
   ]
  },
  {
   "cell_type": "code",
   "execution_count": 25,
   "metadata": {},
   "outputs": [],
   "source": [
    "from tensorflow.keras.callbacks import EarlyStopping"
   ]
  },
  {
   "cell_type": "code",
   "execution_count": 57,
   "metadata": {},
   "outputs": [],
   "source": [
    "model = Sequential()\n",
    "\n",
    "model.add(Dense(units = 16, activation = 'relu'))\n",
    "##model.add(Dropout(0.5))\n",
    "\n",
    "model.add(Dense(units = 8, activation = 'relu'))\n",
    "##model.add(Dropout(0.5))\n",
    "\n",
    "model.add(Dense(units = 4, activation = 'relu'))\n",
    "##model.add(Dropout(0.5))\n",
    "\n",
    "model.add(Dense(units = 2, activation = 'relu'))\n",
    "##model.add(Dropout(0.5))\n",
    "\n",
    "model.add(Dense(units = 1, activation = 'sigmoid'))\n",
    "\n",
    "model.compile(loss = 'binary_crossentropy', optimizer = 'adam')"
   ]
  },
  {
   "cell_type": "code",
   "execution_count": 58,
   "metadata": {},
   "outputs": [],
   "source": [
    "early_stop = EarlyStopping(monitor= 'val_loss', mode ='min', verbose = 1, patience= 2)"
   ]
  },
  {
   "cell_type": "code",
   "execution_count": 59,
   "metadata": {},
   "outputs": [
    {
     "name": "stdout",
     "output_type": "stream",
     "text": [
      "Train on 23735 samples, validate on 10173 samples\n",
      "Epoch 1/125\n",
      "23735/23735 [==============================] - 2s 87us/sample - loss: 0.3687 - val_loss: 0.3305\n",
      "Epoch 2/125\n",
      "23735/23735 [==============================] - 2s 63us/sample - loss: 0.3095 - val_loss: 0.2938\n",
      "Epoch 3/125\n",
      "23735/23735 [==============================] - 2s 66us/sample - loss: 0.2692 - val_loss: 0.2567\n",
      "Epoch 4/125\n",
      "23735/23735 [==============================] - 2s 65us/sample - loss: 0.2521 - val_loss: 0.2497\n",
      "Epoch 5/125\n",
      "23735/23735 [==============================] - 2s 66us/sample - loss: 0.2490 - val_loss: 0.2473\n",
      "Epoch 6/125\n",
      "23735/23735 [==============================] - 2s 64us/sample - loss: 0.2476 - val_loss: 0.2506\n",
      "Epoch 7/125\n",
      "23735/23735 [==============================] - 2s 64us/sample - loss: 0.2457 - val_loss: 0.2455\n",
      "Epoch 8/125\n",
      "23735/23735 [==============================] - 2s 64us/sample - loss: 0.2449 - val_loss: 0.2442\n",
      "Epoch 9/125\n",
      "23735/23735 [==============================] - 2s 64us/sample - loss: 0.2442 - val_loss: 0.2455\n",
      "Epoch 10/125\n",
      "23735/23735 [==============================] - 2s 64us/sample - loss: 0.2436 - val_loss: 0.2431\n",
      "Epoch 11/125\n",
      "23735/23735 [==============================] - 2s 64us/sample - loss: 0.2428 - val_loss: 0.2424\n",
      "Epoch 12/125\n",
      "23735/23735 [==============================] - 2s 67us/sample - loss: 0.2421 - val_loss: 0.2424\n",
      "Epoch 13/125\n",
      "23735/23735 [==============================] - 2s 86us/sample - loss: 0.2419 - val_loss: 0.2416\n",
      "Epoch 14/125\n",
      "23735/23735 [==============================] - 2s 69us/sample - loss: 0.2416 - val_loss: 0.2420\n",
      "Epoch 15/125\n",
      "23735/23735 [==============================] - 2s 64us/sample - loss: 0.2407 - val_loss: 0.2411\n",
      "Epoch 16/125\n",
      "23735/23735 [==============================] - 2s 78us/sample - loss: 0.2408 - val_loss: 0.2431\n",
      "Epoch 17/125\n",
      "23735/23735 [==============================] - 2s 66us/sample - loss: 0.2400 - val_loss: 0.2405\n",
      "Epoch 18/125\n",
      "23735/23735 [==============================] - 1s 63us/sample - loss: 0.2401 - val_loss: 0.2415\n",
      "Epoch 19/125\n",
      "23735/23735 [==============================] - 2s 65us/sample - loss: 0.2396 - val_loss: 0.2428\n",
      "Epoch 00019: early stopping\n"
     ]
    },
    {
     "data": {
      "text/plain": [
       "<tensorflow.python.keras.callbacks.History at 0x1d84f8b6048>"
      ]
     },
     "execution_count": 59,
     "metadata": {},
     "output_type": "execute_result"
    }
   ],
   "source": [
    "model.fit(x_train, y_train, epochs= 125, validation_data= (x_test, y_test), verbose= 1, callbacks= [early_stop])"
   ]
  },
  {
   "cell_type": "code",
   "execution_count": 60,
   "metadata": {},
   "outputs": [
    {
     "data": {
      "text/plain": [
       "<matplotlib.axes._subplots.AxesSubplot at 0x1d8512a27b8>"
      ]
     },
     "execution_count": 60,
     "metadata": {},
     "output_type": "execute_result"
    },
    {
     "data": {
      "image/png": "[encoded data removed]",
      "text/plain": [
       "<Figure size 432x288 with 1 Axes>"
      ]
     },
     "metadata": {
      "needs_background": "light"
     },
     "output_type": "display_data"
    }
   ],
   "source": [
    "model_loss = pd.DataFrame(model.history.history)\n",
    "model_loss.plot()"
   ]
  },
  {
   "cell_type": "code",
   "execution_count": 61,
   "metadata": {},
   "outputs": [],
   "source": [
    "y_pred = model.predict_classes(x_test)"
   ]
  },
  {
   "cell_type": "code",
   "execution_count": 62,
   "metadata": {},
   "outputs": [],
   "source": [
    "from sklearn.metrics import confusion_matrix, classification_report, accuracy_score"
   ]
  },
  {
   "cell_type": "code",
   "execution_count": 63,
   "metadata": {},
   "outputs": [
    {
     "name": "stdout",
     "output_type": "stream",
     "text": [
      "              precision    recall  f1-score   support\n",
      "\n",
      "         0.0       0.92      0.98      0.94      8963\n",
      "         1.0       0.65      0.33      0.44      1210\n",
      "\n",
      "    accuracy                           0.90     10173\n",
      "   macro avg       0.78      0.65      0.69     10173\n",
      "weighted avg       0.88      0.90      0.88     10173\n",
      "\n"
     ]
    }
   ],
   "source": [
    "print(classification_report(y_test, y_pred))"
   ]
  },
  {
   "cell_type": "code",
   "execution_count": 64,
   "metadata": {},
   "outputs": [
    {
     "name": "stdout",
     "output_type": "stream",
     "text": [
      "0.8989481962056424\n"
     ]
    }
   ],
   "source": [
    "print(accuracy_score(y_test, y_pred))"
   ]
  },
  {
   "cell_type": "code",
   "execution_count": null,
   "metadata": {},
   "outputs": [],
   "source": []
  }
 ],
 "metadata": {
  "kernelspec": {
   "display_name": "Python 3",
   "language": "python",
   "name": "python3"
  },
  "language_info": {
   "codemirror_mode": {
    "name": "ipython",
    "version": 3
   },
   "file_extension": ".py",
   "mimetype": "text/x-python",
   "name": "python",
   "nbconvert_exporter": "python",
   "pygments_lexer": "ipython3",
   "version": "3.7.3"
  }
 },
 "nbformat": 4,
 "nbformat_minor": 2
}
