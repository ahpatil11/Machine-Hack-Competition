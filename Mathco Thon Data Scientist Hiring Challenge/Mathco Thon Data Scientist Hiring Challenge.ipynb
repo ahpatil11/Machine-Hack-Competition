{
 "cells": [
  {
   "cell_type": "code",
   "execution_count": 1,
   "id": "767fbd7b",
   "metadata": {},
   "outputs": [],
   "source": [
    "import numpy as np\n",
    "import pandas as pd\n",
    "import matplotlib.pyplot as plt\n",
    "import seaborn as sns"
   ]
  },
  {
   "cell_type": "code",
   "execution_count": 2,
   "id": "d8f6cb57",
   "metadata": {},
   "outputs": [
    {
     "data": {
      "text/html": [
       "<div>\n",
       "<style scoped>\n",
       "    .dataframe tbody tr th:only-of-type {\n",
       "        vertical-align: middle;\n",
       "    }\n",
       "\n",
       "    .dataframe tbody tr th {\n",
       "        vertical-align: top;\n",
       "    }\n",
       "\n",
       "    .dataframe thead th {\n",
       "        text-align: right;\n",
       "    }\n",
       "</style>\n",
       "<table border=\"1\" class=\"dataframe\">\n",
       "  <thead>\n",
       "    <tr style=\"text-align: right;\">\n",
       "      <th></th>\n",
       "      <th>ID</th>\n",
       "      <th>Price</th>\n",
       "      <th>Levy</th>\n",
       "      <th>Manufacturer</th>\n",
       "      <th>Model</th>\n",
       "      <th>Prod. year</th>\n",
       "      <th>Category</th>\n",
       "      <th>Leather interior</th>\n",
       "      <th>Fuel type</th>\n",
       "      <th>Engine volume</th>\n",
       "      <th>Mileage</th>\n",
       "      <th>Cylinders</th>\n",
       "      <th>Gear box type</th>\n",
       "      <th>Drive wheels</th>\n",
       "      <th>Doors</th>\n",
       "      <th>Wheel</th>\n",
       "      <th>Color</th>\n",
       "      <th>Airbags</th>\n",
       "    </tr>\n",
       "  </thead>\n",
       "  <tbody>\n",
       "    <tr>\n",
       "      <th>0</th>\n",
       "      <td>45654403</td>\n",
       "      <td>13328</td>\n",
       "      <td>1399</td>\n",
       "      <td>LEXUS</td>\n",
       "      <td>RX 450</td>\n",
       "      <td>2010</td>\n",
       "      <td>Jeep</td>\n",
       "      <td>Yes</td>\n",
       "      <td>Hybrid</td>\n",
       "      <td>3.5</td>\n",
       "      <td>186005 km</td>\n",
       "      <td>6.0</td>\n",
       "      <td>Automatic</td>\n",
       "      <td>4x4</td>\n",
       "      <td>04-May</td>\n",
       "      <td>Left wheel</td>\n",
       "      <td>Silver</td>\n",
       "      <td>12</td>\n",
       "    </tr>\n",
       "    <tr>\n",
       "      <th>1</th>\n",
       "      <td>44731507</td>\n",
       "      <td>16621</td>\n",
       "      <td>1018</td>\n",
       "      <td>CHEVROLET</td>\n",
       "      <td>Equinox</td>\n",
       "      <td>2011</td>\n",
       "      <td>Jeep</td>\n",
       "      <td>No</td>\n",
       "      <td>Petrol</td>\n",
       "      <td>3</td>\n",
       "      <td>192000 km</td>\n",
       "      <td>6.0</td>\n",
       "      <td>Tiptronic</td>\n",
       "      <td>4x4</td>\n",
       "      <td>04-May</td>\n",
       "      <td>Left wheel</td>\n",
       "      <td>Black</td>\n",
       "      <td>8</td>\n",
       "    </tr>\n",
       "    <tr>\n",
       "      <th>2</th>\n",
       "      <td>45774419</td>\n",
       "      <td>8467</td>\n",
       "      <td>-</td>\n",
       "      <td>HONDA</td>\n",
       "      <td>FIT</td>\n",
       "      <td>2006</td>\n",
       "      <td>Hatchback</td>\n",
       "      <td>No</td>\n",
       "      <td>Petrol</td>\n",
       "      <td>1.3</td>\n",
       "      <td>200000 km</td>\n",
       "      <td>4.0</td>\n",
       "      <td>Variator</td>\n",
       "      <td>Front</td>\n",
       "      <td>04-May</td>\n",
       "      <td>Right-hand drive</td>\n",
       "      <td>Black</td>\n",
       "      <td>2</td>\n",
       "    </tr>\n",
       "    <tr>\n",
       "      <th>3</th>\n",
       "      <td>45769185</td>\n",
       "      <td>3607</td>\n",
       "      <td>862</td>\n",
       "      <td>FORD</td>\n",
       "      <td>Escape</td>\n",
       "      <td>2011</td>\n",
       "      <td>Jeep</td>\n",
       "      <td>Yes</td>\n",
       "      <td>Hybrid</td>\n",
       "      <td>2.5</td>\n",
       "      <td>168966 km</td>\n",
       "      <td>4.0</td>\n",
       "      <td>Automatic</td>\n",
       "      <td>4x4</td>\n",
       "      <td>04-May</td>\n",
       "      <td>Left wheel</td>\n",
       "      <td>White</td>\n",
       "      <td>0</td>\n",
       "    </tr>\n",
       "    <tr>\n",
       "      <th>4</th>\n",
       "      <td>45809263</td>\n",
       "      <td>11726</td>\n",
       "      <td>446</td>\n",
       "      <td>HONDA</td>\n",
       "      <td>FIT</td>\n",
       "      <td>2014</td>\n",
       "      <td>Hatchback</td>\n",
       "      <td>Yes</td>\n",
       "      <td>Petrol</td>\n",
       "      <td>1.3</td>\n",
       "      <td>91901 km</td>\n",
       "      <td>4.0</td>\n",
       "      <td>Automatic</td>\n",
       "      <td>Front</td>\n",
       "      <td>04-May</td>\n",
       "      <td>Left wheel</td>\n",
       "      <td>Silver</td>\n",
       "      <td>4</td>\n",
       "    </tr>\n",
       "  </tbody>\n",
       "</table>\n",
       "</div>"
      ],
      "text/plain": [
       "         ID  Price  Levy Manufacturer    Model  Prod. year   Category  \\\n",
       "0  45654403  13328  1399        LEXUS   RX 450        2010       Jeep   \n",
       "1  44731507  16621  1018    CHEVROLET  Equinox        2011       Jeep   \n",
       "2  45774419   8467     -        HONDA      FIT        2006  Hatchback   \n",
       "3  45769185   3607   862         FORD   Escape        2011       Jeep   \n",
       "4  45809263  11726   446        HONDA      FIT        2014  Hatchback   \n",
       "\n",
       "  Leather interior Fuel type Engine volume    Mileage  Cylinders  \\\n",
       "0              Yes    Hybrid           3.5  186005 km        6.0   \n",
       "1               No    Petrol             3  192000 km        6.0   \n",
       "2               No    Petrol           1.3  200000 km        4.0   \n",
       "3              Yes    Hybrid           2.5  168966 km        4.0   \n",
       "4              Yes    Petrol           1.3   91901 km        4.0   \n",
       "\n",
       "  Gear box type Drive wheels   Doors             Wheel   Color  Airbags  \n",
       "0     Automatic          4x4  04-May        Left wheel  Silver       12  \n",
       "1     Tiptronic          4x4  04-May        Left wheel   Black        8  \n",
       "2      Variator        Front  04-May  Right-hand drive   Black        2  \n",
       "3     Automatic          4x4  04-May        Left wheel   White        0  \n",
       "4     Automatic        Front  04-May        Left wheel  Silver        4  "
      ]
     },
     "execution_count": 2,
     "metadata": {},
     "output_type": "execute_result"
    }
   ],
   "source": [
    "train = pd.read_csv('train.csv')\n",
    "train.head()"
   ]
  },
  {
   "cell_type": "code",
   "execution_count": 3,
   "id": "0b9e3f2c",
   "metadata": {},
   "outputs": [
    {
     "data": {
      "text/plain": [
       "(19237, 18)"
      ]
     },
     "execution_count": 3,
     "metadata": {},
     "output_type": "execute_result"
    }
   ],
   "source": [
    "train.shape"
   ]
  },
  {
   "cell_type": "code",
   "execution_count": 4,
   "id": "53d3dc30",
   "metadata": {},
   "outputs": [
    {
     "data": {
      "text/plain": [
       "313"
      ]
     },
     "execution_count": 4,
     "metadata": {},
     "output_type": "execute_result"
    }
   ],
   "source": [
    "train.duplicated().sum()"
   ]
  },
  {
   "cell_type": "code",
   "execution_count": 5,
   "id": "f3725309",
   "metadata": {},
   "outputs": [
    {
     "data": {
      "text/plain": [
       "(18924, 18)"
      ]
     },
     "execution_count": 5,
     "metadata": {},
     "output_type": "execute_result"
    }
   ],
   "source": [
    "train = train.drop_duplicates(keep= 'first')\n",
    "train.shape"
   ]
  },
  {
   "cell_type": "code",
   "execution_count": 6,
   "id": "d8b98309",
   "metadata": {},
   "outputs": [
    {
     "data": {
      "text/plain": [
       "ID                  0\n",
       "Price               0\n",
       "Levy                0\n",
       "Manufacturer        0\n",
       "Model               0\n",
       "Prod. year          0\n",
       "Category            0\n",
       "Leather interior    0\n",
       "Fuel type           0\n",
       "Engine volume       0\n",
       "Mileage             0\n",
       "Cylinders           0\n",
       "Gear box type       0\n",
       "Drive wheels        0\n",
       "Doors               0\n",
       "Wheel               0\n",
       "Color               0\n",
       "Airbags             0\n",
       "dtype: int64"
      ]
     },
     "execution_count": 6,
     "metadata": {},
     "output_type": "execute_result"
    }
   ],
   "source": [
    "train.isnull().sum()"
   ]
  },
  {
   "cell_type": "code",
   "execution_count": 7,
   "id": "31a89392",
   "metadata": {},
   "outputs": [
    {
     "data": {
      "text/html": [
       "<div>\n",
       "<style scoped>\n",
       "    .dataframe tbody tr th:only-of-type {\n",
       "        vertical-align: middle;\n",
       "    }\n",
       "\n",
       "    .dataframe tbody tr th {\n",
       "        vertical-align: top;\n",
       "    }\n",
       "\n",
       "    .dataframe thead th {\n",
       "        text-align: right;\n",
       "    }\n",
       "</style>\n",
       "<table border=\"1\" class=\"dataframe\">\n",
       "  <thead>\n",
       "    <tr style=\"text-align: right;\">\n",
       "      <th></th>\n",
       "      <th>ID</th>\n",
       "      <th>Levy</th>\n",
       "      <th>Manufacturer</th>\n",
       "      <th>Model</th>\n",
       "      <th>Prod. year</th>\n",
       "      <th>Category</th>\n",
       "      <th>Leather interior</th>\n",
       "      <th>Fuel type</th>\n",
       "      <th>Engine volume</th>\n",
       "      <th>Mileage</th>\n",
       "      <th>Cylinders</th>\n",
       "      <th>Gear box type</th>\n",
       "      <th>Drive wheels</th>\n",
       "      <th>Doors</th>\n",
       "      <th>Wheel</th>\n",
       "      <th>Color</th>\n",
       "      <th>Airbags</th>\n",
       "      <th>Price</th>\n",
       "    </tr>\n",
       "  </thead>\n",
       "  <tbody>\n",
       "    <tr>\n",
       "      <th>0</th>\n",
       "      <td>44020629</td>\n",
       "      <td>-</td>\n",
       "      <td>VOLKSWAGEN</td>\n",
       "      <td>Golf</td>\n",
       "      <td>2012</td>\n",
       "      <td>Hatchback</td>\n",
       "      <td>No</td>\n",
       "      <td>Diesel</td>\n",
       "      <td>2.0 Turbo</td>\n",
       "      <td>0 km</td>\n",
       "      <td>4</td>\n",
       "      <td>Manual</td>\n",
       "      <td>Front</td>\n",
       "      <td>02-Mar</td>\n",
       "      <td>Left wheel</td>\n",
       "      <td>Grey</td>\n",
       "      <td>10</td>\n",
       "      <td>NaN</td>\n",
       "    </tr>\n",
       "    <tr>\n",
       "      <th>1</th>\n",
       "      <td>45784798</td>\n",
       "      <td>-</td>\n",
       "      <td>HYUNDAI</td>\n",
       "      <td>Sonata</td>\n",
       "      <td>2012</td>\n",
       "      <td>Sedan</td>\n",
       "      <td>Yes</td>\n",
       "      <td>Petrol</td>\n",
       "      <td>2.4</td>\n",
       "      <td>26000 km</td>\n",
       "      <td>4</td>\n",
       "      <td>Tiptronic</td>\n",
       "      <td>Front</td>\n",
       "      <td>04-May</td>\n",
       "      <td>Left wheel</td>\n",
       "      <td>Grey</td>\n",
       "      <td>10</td>\n",
       "      <td>NaN</td>\n",
       "    </tr>\n",
       "    <tr>\n",
       "      <th>2</th>\n",
       "      <td>45800257</td>\n",
       "      <td>-</td>\n",
       "      <td>NISSAN</td>\n",
       "      <td>Tiida</td>\n",
       "      <td>2005</td>\n",
       "      <td>Sedan</td>\n",
       "      <td>No</td>\n",
       "      <td>Petrol</td>\n",
       "      <td>1.5</td>\n",
       "      <td>168000 km</td>\n",
       "      <td>4</td>\n",
       "      <td>Automatic</td>\n",
       "      <td>Front</td>\n",
       "      <td>04-May</td>\n",
       "      <td>Right-hand drive</td>\n",
       "      <td>Sky blue</td>\n",
       "      <td>8</td>\n",
       "      <td>NaN</td>\n",
       "    </tr>\n",
       "    <tr>\n",
       "      <th>3</th>\n",
       "      <td>45797981</td>\n",
       "      <td>975</td>\n",
       "      <td>VOLVO</td>\n",
       "      <td>XC90</td>\n",
       "      <td>2012</td>\n",
       "      <td>Jeep</td>\n",
       "      <td>Yes</td>\n",
       "      <td>Petrol</td>\n",
       "      <td>3.2</td>\n",
       "      <td>143000 km</td>\n",
       "      <td>6</td>\n",
       "      <td>Automatic</td>\n",
       "      <td>4x4</td>\n",
       "      <td>04-May</td>\n",
       "      <td>Left wheel</td>\n",
       "      <td>Blue</td>\n",
       "      <td>12</td>\n",
       "      <td>NaN</td>\n",
       "    </tr>\n",
       "    <tr>\n",
       "      <th>4</th>\n",
       "      <td>45814303</td>\n",
       "      <td>-</td>\n",
       "      <td>OPEL</td>\n",
       "      <td>Astra</td>\n",
       "      <td>1993</td>\n",
       "      <td>Hatchback</td>\n",
       "      <td>No</td>\n",
       "      <td>Petrol</td>\n",
       "      <td>1.6</td>\n",
       "      <td>200000 km</td>\n",
       "      <td>4</td>\n",
       "      <td>Manual</td>\n",
       "      <td>Front</td>\n",
       "      <td>04-May</td>\n",
       "      <td>Left wheel</td>\n",
       "      <td>Black</td>\n",
       "      <td>0</td>\n",
       "      <td>NaN</td>\n",
       "    </tr>\n",
       "  </tbody>\n",
       "</table>\n",
       "</div>"
      ],
      "text/plain": [
       "         ID Levy Manufacturer   Model  Prod. year   Category Leather interior  \\\n",
       "0  44020629    -   VOLKSWAGEN    Golf        2012  Hatchback               No   \n",
       "1  45784798    -      HYUNDAI  Sonata        2012      Sedan              Yes   \n",
       "2  45800257    -       NISSAN   Tiida        2005      Sedan               No   \n",
       "3  45797981  975        VOLVO    XC90        2012       Jeep              Yes   \n",
       "4  45814303    -         OPEL   Astra        1993  Hatchback               No   \n",
       "\n",
       "  Fuel type Engine volume    Mileage  Cylinders Gear box type Drive wheels  \\\n",
       "0    Diesel     2.0 Turbo       0 km          4        Manual        Front   \n",
       "1    Petrol           2.4   26000 km          4     Tiptronic        Front   \n",
       "2    Petrol           1.5  168000 km          4     Automatic        Front   \n",
       "3    Petrol           3.2  143000 km          6     Automatic          4x4   \n",
       "4    Petrol           1.6  200000 km          4        Manual        Front   \n",
       "\n",
       "    Doors             Wheel     Color  Airbags  Price  \n",
       "0  02-Mar        Left wheel      Grey       10    NaN  \n",
       "1  04-May        Left wheel      Grey       10    NaN  \n",
       "2  04-May  Right-hand drive  Sky blue        8    NaN  \n",
       "3  04-May        Left wheel      Blue       12    NaN  \n",
       "4  04-May        Left wheel     Black        0    NaN  "
      ]
     },
     "execution_count": 7,
     "metadata": {},
     "output_type": "execute_result"
    }
   ],
   "source": [
    "test = pd.read_csv('test.csv')\n",
    "test.head()"
   ]
  },
  {
   "cell_type": "code",
   "execution_count": 8,
   "id": "5d9e0867",
   "metadata": {},
   "outputs": [
    {
     "data": {
      "text/plain": [
       "(8245, 18)"
      ]
     },
     "execution_count": 8,
     "metadata": {},
     "output_type": "execute_result"
    }
   ],
   "source": [
    "test.shape"
   ]
  },
  {
   "cell_type": "code",
   "execution_count": 9,
   "id": "306faae2",
   "metadata": {},
   "outputs": [
    {
     "data": {
      "text/plain": [
       "ID                     0\n",
       "Levy                   0\n",
       "Manufacturer           0\n",
       "Model                  0\n",
       "Prod. year             0\n",
       "Category               0\n",
       "Leather interior       0\n",
       "Fuel type              0\n",
       "Engine volume          0\n",
       "Mileage                0\n",
       "Cylinders              0\n",
       "Gear box type          0\n",
       "Drive wheels           0\n",
       "Doors                  0\n",
       "Wheel                  0\n",
       "Color                  0\n",
       "Airbags                0\n",
       "Price               8245\n",
       "dtype: int64"
      ]
     },
     "execution_count": 9,
     "metadata": {},
     "output_type": "execute_result"
    }
   ],
   "source": [
    "test.isnull().sum()"
   ]
  },
  {
   "cell_type": "code",
   "execution_count": 10,
   "id": "731d7848",
   "metadata": {},
   "outputs": [
    {
     "name": "stdout",
     "output_type": "stream",
     "text": [
      "<class 'pandas.core.frame.DataFrame'>\n",
      "Int64Index: 18924 entries, 0 to 19236\n",
      "Data columns (total 18 columns):\n",
      " #   Column            Non-Null Count  Dtype  \n",
      "---  ------            --------------  -----  \n",
      " 0   ID                18924 non-null  int64  \n",
      " 1   Price             18924 non-null  int64  \n",
      " 2   Levy              18924 non-null  object \n",
      " 3   Manufacturer      18924 non-null  object \n",
      " 4   Model             18924 non-null  object \n",
      " 5   Prod. year        18924 non-null  int64  \n",
      " 6   Category          18924 non-null  object \n",
      " 7   Leather interior  18924 non-null  object \n",
      " 8   Fuel type         18924 non-null  object \n",
      " 9   Engine volume     18924 non-null  object \n",
      " 10  Mileage           18924 non-null  object \n",
      " 11  Cylinders         18924 non-null  float64\n",
      " 12  Gear box type     18924 non-null  object \n",
      " 13  Drive wheels      18924 non-null  object \n",
      " 14  Doors             18924 non-null  object \n",
      " 15  Wheel             18924 non-null  object \n",
      " 16  Color             18924 non-null  object \n",
      " 17  Airbags           18924 non-null  int64  \n",
      "dtypes: float64(1), int64(4), object(13)\n",
      "memory usage: 2.7+ MB\n"
     ]
    }
   ],
   "source": [
    "train.info()"
   ]
  },
  {
   "cell_type": "code",
   "execution_count": 11,
   "id": "4e100009",
   "metadata": {},
   "outputs": [
    {
     "data": {
      "text/html": [
       "<div>\n",
       "<style scoped>\n",
       "    .dataframe tbody tr th:only-of-type {\n",
       "        vertical-align: middle;\n",
       "    }\n",
       "\n",
       "    .dataframe tbody tr th {\n",
       "        vertical-align: top;\n",
       "    }\n",
       "\n",
       "    .dataframe thead th {\n",
       "        text-align: right;\n",
       "    }\n",
       "</style>\n",
       "<table border=\"1\" class=\"dataframe\">\n",
       "  <thead>\n",
       "    <tr style=\"text-align: right;\">\n",
       "      <th></th>\n",
       "      <th>ID</th>\n",
       "      <th>Price</th>\n",
       "      <th>Prod. year</th>\n",
       "      <th>Cylinders</th>\n",
       "      <th>Airbags</th>\n",
       "    </tr>\n",
       "  </thead>\n",
       "  <tbody>\n",
       "    <tr>\n",
       "      <th>0</th>\n",
       "      <td>45654403</td>\n",
       "      <td>13328</td>\n",
       "      <td>2010</td>\n",
       "      <td>6.0</td>\n",
       "      <td>12</td>\n",
       "    </tr>\n",
       "    <tr>\n",
       "      <th>1</th>\n",
       "      <td>44731507</td>\n",
       "      <td>16621</td>\n",
       "      <td>2011</td>\n",
       "      <td>6.0</td>\n",
       "      <td>8</td>\n",
       "    </tr>\n",
       "    <tr>\n",
       "      <th>2</th>\n",
       "      <td>45774419</td>\n",
       "      <td>8467</td>\n",
       "      <td>2006</td>\n",
       "      <td>4.0</td>\n",
       "      <td>2</td>\n",
       "    </tr>\n",
       "    <tr>\n",
       "      <th>3</th>\n",
       "      <td>45769185</td>\n",
       "      <td>3607</td>\n",
       "      <td>2011</td>\n",
       "      <td>4.0</td>\n",
       "      <td>0</td>\n",
       "    </tr>\n",
       "    <tr>\n",
       "      <th>4</th>\n",
       "      <td>45809263</td>\n",
       "      <td>11726</td>\n",
       "      <td>2014</td>\n",
       "      <td>4.0</td>\n",
       "      <td>4</td>\n",
       "    </tr>\n",
       "  </tbody>\n",
       "</table>\n",
       "</div>"
      ],
      "text/plain": [
       "         ID  Price  Prod. year  Cylinders  Airbags\n",
       "0  45654403  13328        2010        6.0       12\n",
       "1  44731507  16621        2011        6.0        8\n",
       "2  45774419   8467        2006        4.0        2\n",
       "3  45769185   3607        2011        4.0        0\n",
       "4  45809263  11726        2014        4.0        4"
      ]
     },
     "execution_count": 11,
     "metadata": {},
     "output_type": "execute_result"
    }
   ],
   "source": [
    "numerical_features = train.select_dtypes(exclude='object')\n",
    "numerical_features.head()"
   ]
  },
  {
   "cell_type": "code",
   "execution_count": 12,
   "id": "8e3f6685",
   "metadata": {},
   "outputs": [
    {
     "data": {
      "text/html": [
       "<div>\n",
       "<style scoped>\n",
       "    .dataframe tbody tr th:only-of-type {\n",
       "        vertical-align: middle;\n",
       "    }\n",
       "\n",
       "    .dataframe tbody tr th {\n",
       "        vertical-align: top;\n",
       "    }\n",
       "\n",
       "    .dataframe thead th {\n",
       "        text-align: right;\n",
       "    }\n",
       "</style>\n",
       "<table border=\"1\" class=\"dataframe\">\n",
       "  <thead>\n",
       "    <tr style=\"text-align: right;\">\n",
       "      <th></th>\n",
       "      <th>Levy</th>\n",
       "      <th>Manufacturer</th>\n",
       "      <th>Model</th>\n",
       "      <th>Category</th>\n",
       "      <th>Leather interior</th>\n",
       "      <th>Fuel type</th>\n",
       "      <th>Engine volume</th>\n",
       "      <th>Mileage</th>\n",
       "      <th>Gear box type</th>\n",
       "      <th>Drive wheels</th>\n",
       "      <th>Doors</th>\n",
       "      <th>Wheel</th>\n",
       "      <th>Color</th>\n",
       "    </tr>\n",
       "  </thead>\n",
       "  <tbody>\n",
       "    <tr>\n",
       "      <th>0</th>\n",
       "      <td>1399</td>\n",
       "      <td>LEXUS</td>\n",
       "      <td>RX 450</td>\n",
       "      <td>Jeep</td>\n",
       "      <td>Yes</td>\n",
       "      <td>Hybrid</td>\n",
       "      <td>3.5</td>\n",
       "      <td>186005 km</td>\n",
       "      <td>Automatic</td>\n",
       "      <td>4x4</td>\n",
       "      <td>04-May</td>\n",
       "      <td>Left wheel</td>\n",
       "      <td>Silver</td>\n",
       "    </tr>\n",
       "    <tr>\n",
       "      <th>1</th>\n",
       "      <td>1018</td>\n",
       "      <td>CHEVROLET</td>\n",
       "      <td>Equinox</td>\n",
       "      <td>Jeep</td>\n",
       "      <td>No</td>\n",
       "      <td>Petrol</td>\n",
       "      <td>3</td>\n",
       "      <td>192000 km</td>\n",
       "      <td>Tiptronic</td>\n",
       "      <td>4x4</td>\n",
       "      <td>04-May</td>\n",
       "      <td>Left wheel</td>\n",
       "      <td>Black</td>\n",
       "    </tr>\n",
       "    <tr>\n",
       "      <th>2</th>\n",
       "      <td>-</td>\n",
       "      <td>HONDA</td>\n",
       "      <td>FIT</td>\n",
       "      <td>Hatchback</td>\n",
       "      <td>No</td>\n",
       "      <td>Petrol</td>\n",
       "      <td>1.3</td>\n",
       "      <td>200000 km</td>\n",
       "      <td>Variator</td>\n",
       "      <td>Front</td>\n",
       "      <td>04-May</td>\n",
       "      <td>Right-hand drive</td>\n",
       "      <td>Black</td>\n",
       "    </tr>\n",
       "    <tr>\n",
       "      <th>3</th>\n",
       "      <td>862</td>\n",
       "      <td>FORD</td>\n",
       "      <td>Escape</td>\n",
       "      <td>Jeep</td>\n",
       "      <td>Yes</td>\n",
       "      <td>Hybrid</td>\n",
       "      <td>2.5</td>\n",
       "      <td>168966 km</td>\n",
       "      <td>Automatic</td>\n",
       "      <td>4x4</td>\n",
       "      <td>04-May</td>\n",
       "      <td>Left wheel</td>\n",
       "      <td>White</td>\n",
       "    </tr>\n",
       "    <tr>\n",
       "      <th>4</th>\n",
       "      <td>446</td>\n",
       "      <td>HONDA</td>\n",
       "      <td>FIT</td>\n",
       "      <td>Hatchback</td>\n",
       "      <td>Yes</td>\n",
       "      <td>Petrol</td>\n",
       "      <td>1.3</td>\n",
       "      <td>91901 km</td>\n",
       "      <td>Automatic</td>\n",
       "      <td>Front</td>\n",
       "      <td>04-May</td>\n",
       "      <td>Left wheel</td>\n",
       "      <td>Silver</td>\n",
       "    </tr>\n",
       "  </tbody>\n",
       "</table>\n",
       "</div>"
      ],
      "text/plain": [
       "   Levy Manufacturer    Model   Category Leather interior Fuel type  \\\n",
       "0  1399        LEXUS   RX 450       Jeep              Yes    Hybrid   \n",
       "1  1018    CHEVROLET  Equinox       Jeep               No    Petrol   \n",
       "2     -        HONDA      FIT  Hatchback               No    Petrol   \n",
       "3   862         FORD   Escape       Jeep              Yes    Hybrid   \n",
       "4   446        HONDA      FIT  Hatchback              Yes    Petrol   \n",
       "\n",
       "  Engine volume    Mileage Gear box type Drive wheels   Doors  \\\n",
       "0           3.5  186005 km     Automatic          4x4  04-May   \n",
       "1             3  192000 km     Tiptronic          4x4  04-May   \n",
       "2           1.3  200000 km      Variator        Front  04-May   \n",
       "3           2.5  168966 km     Automatic          4x4  04-May   \n",
       "4           1.3   91901 km     Automatic        Front  04-May   \n",
       "\n",
       "              Wheel   Color  \n",
       "0        Left wheel  Silver  \n",
       "1        Left wheel   Black  \n",
       "2  Right-hand drive   Black  \n",
       "3        Left wheel   White  \n",
       "4        Left wheel  Silver  "
      ]
     },
     "execution_count": 12,
     "metadata": {},
     "output_type": "execute_result"
    }
   ],
   "source": [
    "categorical_features = train.select_dtypes(include ='object')\n",
    "categorical_features.head()"
   ]
  },
  {
   "cell_type": "markdown",
   "id": "89a5155c",
   "metadata": {},
   "source": [
    "------"
   ]
  },
  {
   "cell_type": "code",
   "execution_count": 13,
   "id": "4e141bf3",
   "metadata": {},
   "outputs": [
    {
     "data": {
      "text/plain": [
       "-       5709\n",
       "765      482\n",
       "891      453\n",
       "639      403\n",
       "640      398\n",
       "        ... \n",
       "2472       1\n",
       "173        1\n",
       "1599       1\n",
       "3015       1\n",
       "3894       1\n",
       "Name: Levy, Length: 559, dtype: int64"
      ]
     },
     "execution_count": 13,
     "metadata": {},
     "output_type": "execute_result"
    }
   ],
   "source": [
    "train['Levy'].value_counts()"
   ]
  },
  {
   "cell_type": "code",
   "execution_count": 14,
   "id": "bfdf3e2c",
   "metadata": {},
   "outputs": [],
   "source": [
    "train['Levy'] = train['Levy'].replace({'-' : np.nan})"
   ]
  },
  {
   "cell_type": "code",
   "execution_count": 15,
   "id": "c6a445f1",
   "metadata": {},
   "outputs": [],
   "source": [
    "train['Levy'] = train['Levy'].astype(float)"
   ]
  },
  {
   "cell_type": "code",
   "execution_count": 16,
   "id": "b779ae90",
   "metadata": {},
   "outputs": [],
   "source": [
    "train['Levy'] = train['Levy'].fillna(train['Levy'].mean())"
   ]
  },
  {
   "cell_type": "code",
   "execution_count": 17,
   "id": "dad4636c",
   "metadata": {},
   "outputs": [
    {
     "data": {
      "text/plain": [
       "906.299205     5709\n",
       "765.000000      482\n",
       "891.000000      453\n",
       "639.000000      403\n",
       "640.000000      398\n",
       "               ... \n",
       "3273.000000       1\n",
       "2909.000000       1\n",
       "3739.000000       1\n",
       "2628.000000       1\n",
       "3292.000000       1\n",
       "Name: Levy, Length: 559, dtype: int64"
      ]
     },
     "execution_count": 17,
     "metadata": {},
     "output_type": "execute_result"
    }
   ],
   "source": [
    "train['Levy'].value_counts()"
   ]
  },
  {
   "cell_type": "code",
   "execution_count": 18,
   "id": "9ca1f447",
   "metadata": {},
   "outputs": [
    {
     "data": {
      "text/plain": [
       "-       2454\n",
       "765      222\n",
       "891      204\n",
       "640      177\n",
       "639      165\n",
       "        ... \n",
       "1519       1\n",
       "1526       1\n",
       "1698       1\n",
       "1346       1\n",
       "1442       1\n",
       "Name: Levy, Length: 434, dtype: int64"
      ]
     },
     "execution_count": 18,
     "metadata": {},
     "output_type": "execute_result"
    }
   ],
   "source": [
    "test['Levy'].value_counts()"
   ]
  },
  {
   "cell_type": "code",
   "execution_count": 19,
   "id": "460985cf",
   "metadata": {},
   "outputs": [],
   "source": [
    "test['Levy'] = test['Levy'].replace({'-' : np.nan})"
   ]
  },
  {
   "cell_type": "code",
   "execution_count": 20,
   "id": "ede06997",
   "metadata": {},
   "outputs": [],
   "source": [
    "test['Levy'] = test['Levy'].astype(float)"
   ]
  },
  {
   "cell_type": "code",
   "execution_count": 21,
   "id": "23934060",
   "metadata": {},
   "outputs": [],
   "source": [
    "test['Levy'] = test['Levy'].fillna(test['Levy'].mean())"
   ]
  },
  {
   "cell_type": "code",
   "execution_count": 22,
   "id": "dad4636c",
   "metadata": {},
   "outputs": [
    {
     "data": {
      "text/plain": [
       "917.859955     2454\n",
       "765.000000      222\n",
       "891.000000      204\n",
       "640.000000      177\n",
       "639.000000      165\n",
       "               ... \n",
       "2690.000000       1\n",
       "1516.000000       1\n",
       "1107.000000       1\n",
       "2908.000000       1\n",
       "644.000000        1\n",
       "Name: Levy, Length: 434, dtype: int64"
      ]
     },
     "execution_count": 22,
     "metadata": {},
     "output_type": "execute_result"
    }
   ],
   "source": [
    "test['Levy'].value_counts()"
   ]
  },
  {
   "cell_type": "code",
   "execution_count": 23,
   "id": "e068bdbc",
   "metadata": {},
   "outputs": [],
   "source": [
    "train['Levy'] = train['Levy'].astype(float)\n",
    "test['Levy'] = test['Levy'].astype(float)"
   ]
  },
  {
   "cell_type": "markdown",
   "id": "9f5a5a2f",
   "metadata": {},
   "source": [
    "---------"
   ]
  },
  {
   "cell_type": "code",
   "execution_count": 24,
   "id": "51c0d0f1",
   "metadata": {},
   "outputs": [
    {
     "data": {
      "text/plain": [
       "2            3856\n",
       "2.5          2246\n",
       "1.8          1743\n",
       "1.6          1446\n",
       "1.5          1289\n",
       "             ... \n",
       "0.3 Turbo       1\n",
       "0.8 Turbo       1\n",
       "7.3             1\n",
       "5.8             1\n",
       "5.7 Turbo       1\n",
       "Name: Engine volume, Length: 107, dtype: int64"
      ]
     },
     "execution_count": 24,
     "metadata": {},
     "output_type": "execute_result"
    }
   ],
   "source": [
    "train['Engine volume'].value_counts()"
   ]
  },
  {
   "cell_type": "code",
   "execution_count": 25,
   "id": "caa796ba",
   "metadata": {},
   "outputs": [
    {
     "data": {
      "text/plain": [
       "array(['3.5', '3', '1.3', '2.5', '2', '1.8', '2.4', '4', '1.6', '3.3',\n",
       "       '2.0 Turbo', '2.2 Turbo', '4.7', '1.5', '4.4', '3.0 Turbo',\n",
       "       '1.4 Turbo', '3.6', '2.3', '1.5 Turbo', '1.6 Turbo', '2.2',\n",
       "       '2.3 Turbo', '1.4', '5.5', '2.8 Turbo', '3.2', '3.8', '4.6', '1.2',\n",
       "       '5', '1.7', '2.9', '0.5', '1.8 Turbo', '2.4 Turbo', '3.5 Turbo',\n",
       "       '1.9', '2.7', '4.8', '5.3', '0.4', '2.8', '3.2 Turbo', '1.1',\n",
       "       '2.1', '0.7', '5.4', '1.3 Turbo', '3.7', '1', '2.5 Turbo', '2.6',\n",
       "       '1.9 Turbo', '4.4 Turbo', '4.7 Turbo', '0.8', '0.2 Turbo', '5.7',\n",
       "       '4.8 Turbo', '4.6 Turbo', '6.7', '6.2', '1.2 Turbo', '3.4',\n",
       "       '1.7 Turbo', '6.3 Turbo', '2.7 Turbo', '4.3', '4.2', '2.9 Turbo',\n",
       "       '0', '4.0 Turbo', '20', '3.6 Turbo', '0.3', '3.7 Turbo', '5.9',\n",
       "       '5.5 Turbo', '0.2', '2.1 Turbo', '5.6', '6', '0.7 Turbo',\n",
       "       '0.6 Turbo', '6.8', '4.5', '0.6', '7.3', '0.1', '1.0 Turbo', '6.3',\n",
       "       '4.5 Turbo', '0.8 Turbo', '4.2 Turbo', '3.1', '5.0 Turbo', '6.4',\n",
       "       '3.9', '5.7 Turbo', '0.9', '0.4 Turbo', '5.4 Turbo', '0.3 Turbo',\n",
       "       '5.2', '5.8', '1.1 Turbo'], dtype=object)"
      ]
     },
     "execution_count": 25,
     "metadata": {},
     "output_type": "execute_result"
    }
   ],
   "source": [
    "train['Engine volume'].unique()"
   ]
  },
  {
   "cell_type": "code",
   "execution_count": 26,
   "id": "4c72c083",
   "metadata": {},
   "outputs": [
    {
     "data": {
      "text/plain": [
       "array(['2.0 Turbo', '2.4', '1.5', '3.2', '1.6', '4.6', '3.5', '2', '1.8',\n",
       "       '2.5', '1.7', '2.2 Turbo', '2.3 Turbo', '4', '1.3', '3',\n",
       "       '1.4 Turbo', '2.2', '3.0 Turbo', '3.3', '2.9 Turbo', '1.4',\n",
       "       '3.2 Turbo', '4.8', '3.6', '2.7', '1.8 Turbo', '1', '1.5 Turbo',\n",
       "       '2.4 Turbo', '0.7', '5.5', '1.7 Turbo', '4.4', '4.7', '5', '1.2',\n",
       "       '2.8', '3.8', '1.6 Turbo', '2.6', '5.3', '3.7', '5.7', '6.6',\n",
       "       '1.3 Turbo', '2.3', '0.2', '4.7 Turbo', '2.5 Turbo', '6.4', '5.6',\n",
       "       '1.9 Turbo', '3.4', '5.5 Turbo', '6.7', '0.4', '4.4 Turbo',\n",
       "       '2.7 Turbo', '4.2', '2.1', '2.1 Turbo', '6.2', '0.8 Turbo', '0',\n",
       "       '6', '4.3', '1.9', '1.1', '4.6 Turbo', '3.1', '1.2 Turbo', '0.8',\n",
       "       '3.5 Turbo', '0.6 Turbo', '4.5 Turbo', '6.3', '6.1', '4.8 Turbo',\n",
       "       '0.5', '4.0 Turbo', '3.6 Turbo', '10.8', '0.7 Turbo', '5.4',\n",
       "       '3.7 Turbo', '4.2 Turbo', '4.5', '0.6', '2.8 Turbo', '2.9',\n",
       "       '0.3 Turbo', '1.0 Turbo', '5.2', '6.0 Turbo', '3.9', '2.6 Turbo'],\n",
       "      dtype=object)"
      ]
     },
     "execution_count": 26,
     "metadata": {},
     "output_type": "execute_result"
    }
   ],
   "source": [
    "test['Engine volume'].unique()"
   ]
  },
  {
   "cell_type": "code",
   "execution_count": 27,
   "id": "85aa3ab2",
   "metadata": {},
   "outputs": [],
   "source": [
    "train['Additional Features'] = train['Engine volume'].replace(['2.0 Turbo', '2.2 Turbo','3.0 Turbo','1.4 Turbo','1.5 Turbo', '1.6 Turbo','2.3 Turbo','2.8 Turbo','1.8 Turbo', '2.4 Turbo', '3.5 Turbo', '3.2 Turbo','1.3 Turbo','2.5 Turbo','1.9 Turbo', '4.4 Turbo', '4.7 Turbo', '0.2 Turbo','4.8 Turbo', '4.6 Turbo','1.2 Turbo','1.7 Turbo', '6.3 Turbo', '2.7 Turbo','2.9 Turbo', '4.0 Turbo','3.6 Turbo','3.7 Turbo','5.5 Turbo','2.1 Turbo','0.7 Turbo', '0.6 Turbo','1.0 Turbo', '4.5 Turbo', '0.8 Turbo', '4.2 Turbo', '3.1', '5.0 Turbo','5.7 Turbo','0.4 Turbo', '5.4 Turbo', '0.3 Turbo','1.1 Turbo'],'Turbo')"
   ]
  },
  {
   "cell_type": "code",
   "execution_count": 28,
   "id": "611a1b3a",
   "metadata": {},
   "outputs": [],
   "source": [
    "train['Additional Features'] = train['Additional Features'].replace(['3.5','3','1.3','2.5','2','1.8','2.4','4','1.6','3.3','4.7','1.5','4.4','3.6','2.3','2.2','1.4','5.5','3.2','3.8','4.6','1.2','5', '1.7', '2.9', '0.5','1.9','2.7','4.8','5.3','0.4','2.8','1.1','2.1','0.7','5.4','3.7','1','2.6','5.7','3.4','4.3','4.2','5.9','6.8','4.5','0.6','7.3','0.1','6.3','6.4','5.2','5.8','0.8', '6.7', '6.2', '0', '20', '0.3', '0.2','5.6', '6', '3.9', '0.9'],'Non-Turbo')"
   ]
  },
  {
   "cell_type": "code",
   "execution_count": 29,
   "id": "3d1481f5",
   "metadata": {},
   "outputs": [],
   "source": [
    "train['Engine volume'] = train['Engine volume'].str.replace('Turbo','')"
   ]
  },
  {
   "cell_type": "code",
   "execution_count": 30,
   "id": "2937446f",
   "metadata": {},
   "outputs": [
    {
     "data": {
      "text/plain": [
       "array(['3.5', '3', '1.3', '2.5', '2', '1.8', '2.4', '4', '1.6', '3.3',\n",
       "       '2.0 ', '2.2 ', '4.7', '1.5', '4.4', '3.0 ', '1.4 ', '3.6', '2.3',\n",
       "       '1.5 ', '1.6 ', '2.2', '2.3 ', '1.4', '5.5', '2.8 ', '3.2', '3.8',\n",
       "       '4.6', '1.2', '5', '1.7', '2.9', '0.5', '1.8 ', '2.4 ', '3.5 ',\n",
       "       '1.9', '2.7', '4.8', '5.3', '0.4', '2.8', '3.2 ', '1.1', '2.1',\n",
       "       '0.7', '5.4', '1.3 ', '3.7', '1', '2.5 ', '2.6', '1.9 ', '4.4 ',\n",
       "       '4.7 ', '0.8', '0.2 ', '5.7', '4.8 ', '4.6 ', '6.7', '6.2', '1.2 ',\n",
       "       '3.4', '1.7 ', '6.3 ', '2.7 ', '4.3', '4.2', '2.9 ', '0', '4.0 ',\n",
       "       '20', '3.6 ', '0.3', '3.7 ', '5.9', '5.5 ', '0.2', '2.1 ', '5.6',\n",
       "       '6', '0.7 ', '0.6 ', '6.8', '4.5', '0.6', '7.3', '0.1', '1.0 ',\n",
       "       '6.3', '4.5 ', '0.8 ', '4.2 ', '3.1', '5.0 ', '6.4', '3.9', '5.7 ',\n",
       "       '0.9', '0.4 ', '5.4 ', '0.3 ', '5.2', '5.8', '1.1 '], dtype=object)"
      ]
     },
     "execution_count": 30,
     "metadata": {},
     "output_type": "execute_result"
    }
   ],
   "source": [
    "train['Engine volume'].unique()"
   ]
  },
  {
   "cell_type": "code",
   "execution_count": 31,
   "id": "3299cda3",
   "metadata": {},
   "outputs": [],
   "source": [
    "test['Additional Features'] = test['Engine volume'].replace(['2.0 Turbo', '2.2 Turbo','3.0 Turbo','1.4 Turbo','1.5 Turbo', '1.6 Turbo','2.3 Turbo','2.8 Turbo','1.8 Turbo', '2.4 Turbo', '3.5 Turbo', '3.2 Turbo','1.3 Turbo','2.5 Turbo','1.9 Turbo', '4.4 Turbo', '4.7 Turbo', '0.2 Turbo','4.8 Turbo', '4.6 Turbo','1.2 Turbo','1.7 Turbo', '6.3 Turbo', '2.7 Turbo','2.9 Turbo', '4.0 Turbo','3.6 Turbo','3.7 Turbo','5.5 Turbo','2.1 Turbo','0.7 Turbo', '0.6 Turbo','1.0 Turbo', '4.5 Turbo', '0.8 Turbo', '4.2 Turbo', '3.1', '5.0 Turbo','5.7 Turbo','0.4 Turbo', '5.4 Turbo', '0.3 Turbo','1.1 Turbo'],'Turbo')"
   ]
  },
  {
   "cell_type": "code",
   "execution_count": 32,
   "id": "1499743e",
   "metadata": {},
   "outputs": [],
   "source": [
    "test['Additional Features'] = test['Additional Features'].replace(['3.5','3','1.3','2.5','2','1.8','2.4','4','1.6','3.3','4.7','1.5','4.4','3.6','2.3','2.2','1.4','5.5','3.2','3.8','4.6','1.2','5', '1.7', '2.9', '0.5','1.9','2.7','4.8','5.3','0.4','2.8','1.1','2.1','0.7','5.4','3.7','1','2.6','5.7','3.4','4.3','4.2','5.9','6.8','4.5','0.6','7.3','0.1','6.3','6.4','5.2','5.8','0.8', '6.7', '6.2', '0', '20', '0.3', '0.2','5.6', '6', '3.9', '0.9'],'Non-Turbo')"
   ]
  },
  {
   "cell_type": "code",
   "execution_count": 33,
   "id": "5a06d1b9",
   "metadata": {},
   "outputs": [],
   "source": [
    "test['Engine volume'] = test['Engine volume'].str.replace('Turbo','')"
   ]
  },
  {
   "cell_type": "code",
   "execution_count": 34,
   "id": "5678a520",
   "metadata": {},
   "outputs": [
    {
     "data": {
      "text/plain": [
       "array(['2.0 ', '2.4', '1.5', '3.2', '1.6', '4.6', '3.5', '2', '1.8',\n",
       "       '2.5', '1.7', '2.2 ', '2.3 ', '4', '1.3', '3', '1.4 ', '2.2',\n",
       "       '3.0 ', '3.3', '2.9 ', '1.4', '3.2 ', '4.8', '3.6', '2.7', '1.8 ',\n",
       "       '1', '1.5 ', '2.4 ', '0.7', '5.5', '1.7 ', '4.4', '4.7', '5',\n",
       "       '1.2', '2.8', '3.8', '1.6 ', '2.6', '5.3', '3.7', '5.7', '6.6',\n",
       "       '1.3 ', '2.3', '0.2', '4.7 ', '2.5 ', '6.4', '5.6', '1.9 ', '3.4',\n",
       "       '5.5 ', '6.7', '0.4', '4.4 ', '2.7 ', '4.2', '2.1', '2.1 ', '6.2',\n",
       "       '0.8 ', '0', '6', '4.3', '1.9', '1.1', '4.6 ', '3.1', '1.2 ',\n",
       "       '0.8', '3.5 ', '0.6 ', '4.5 ', '6.3', '6.1', '4.8 ', '0.5', '4.0 ',\n",
       "       '3.6 ', '10.8', '0.7 ', '5.4', '3.7 ', '4.2 ', '4.5', '0.6',\n",
       "       '2.8 ', '2.9', '0.3 ', '1.0 ', '5.2', '6.0 ', '3.9', '2.6 '],\n",
       "      dtype=object)"
      ]
     },
     "execution_count": 34,
     "metadata": {},
     "output_type": "execute_result"
    }
   ],
   "source": [
    "test['Engine volume'].unique()"
   ]
  },
  {
   "cell_type": "code",
   "execution_count": 35,
   "id": "adac6a27",
   "metadata": {},
   "outputs": [],
   "source": [
    "train['Engine volume'] = train['Engine volume'].astype(float)\n",
    "test['Engine volume'] = test['Engine volume'].astype(float)"
   ]
  },
  {
   "cell_type": "markdown",
   "id": "113e2f12",
   "metadata": {},
   "source": [
    "--------"
   ]
  },
  {
   "cell_type": "code",
   "execution_count": 36,
   "id": "b1fc9974",
   "metadata": {},
   "outputs": [
    {
     "data": {
      "text/plain": [
       "0 km         714\n",
       "200000 km    181\n",
       "150000 km    159\n",
       "160000 km    120\n",
       "180000 km    117\n",
       "            ... \n",
       "147947 km      1\n",
       "140171 km      1\n",
       "72895 km       1\n",
       "20147 km       1\n",
       "92825 km       1\n",
       "Name: Mileage, Length: 7687, dtype: int64"
      ]
     },
     "execution_count": 36,
     "metadata": {},
     "output_type": "execute_result"
    }
   ],
   "source": [
    "train['Mileage'].value_counts()"
   ]
  },
  {
   "cell_type": "code",
   "execution_count": 37,
   "id": "49924232",
   "metadata": {},
   "outputs": [],
   "source": [
    "train['Mileage']=train['Mileage'].str.replace('km',' ')"
   ]
  },
  {
   "cell_type": "code",
   "execution_count": 38,
   "id": "ea4656df",
   "metadata": {},
   "outputs": [],
   "source": [
    "train['Mileage']=train['Mileage'].astype(int)"
   ]
  },
  {
   "cell_type": "code",
   "execution_count": 39,
   "id": "532808e4",
   "metadata": {},
   "outputs": [
    {
     "data": {
      "text/plain": [
       "0         714\n",
       "200000    181\n",
       "150000    159\n",
       "160000    120\n",
       "180000    117\n",
       "         ... \n",
       "171300      1\n",
       "136469      1\n",
       "42496       1\n",
       "48400       1\n",
       "137213      1\n",
       "Name: Mileage, Length: 7687, dtype: int64"
      ]
     },
     "execution_count": 39,
     "metadata": {},
     "output_type": "execute_result"
    }
   ],
   "source": [
    "train['Mileage'].value_counts()"
   ]
  },
  {
   "cell_type": "code",
   "execution_count": 40,
   "id": "3ffe1beb",
   "metadata": {},
   "outputs": [
    {
     "data": {
      "text/plain": [
       "0 km         292\n",
       "200000 km     72\n",
       "150000 km     60\n",
       "180000 km     59\n",
       "120000 km     54\n",
       "            ... \n",
       "351954 km      1\n",
       "21990 km       1\n",
       "120612 km      1\n",
       "45252 km       1\n",
       "236763 km      1\n",
       "Name: Mileage, Length: 3978, dtype: int64"
      ]
     },
     "execution_count": 40,
     "metadata": {},
     "output_type": "execute_result"
    }
   ],
   "source": [
    "test['Mileage'].value_counts()"
   ]
  },
  {
   "cell_type": "code",
   "execution_count": 41,
   "id": "49924232",
   "metadata": {},
   "outputs": [],
   "source": [
    "test['Mileage']=test['Mileage'].str.replace('km',' ')"
   ]
  },
  {
   "cell_type": "code",
   "execution_count": 42,
   "id": "ea4656df",
   "metadata": {},
   "outputs": [],
   "source": [
    "test['Mileage']=test['Mileage'].astype(int)"
   ]
  },
  {
   "cell_type": "code",
   "execution_count": 43,
   "id": "de4a581c",
   "metadata": {},
   "outputs": [
    {
     "data": {
      "text/plain": [
       "0         292\n",
       "200000     72\n",
       "150000     60\n",
       "180000     59\n",
       "120000     54\n",
       "         ... \n",
       "148067      1\n",
       "209208      1\n",
       "119401      1\n",
       "113268      1\n",
       "186365      1\n",
       "Name: Mileage, Length: 3978, dtype: int64"
      ]
     },
     "execution_count": 43,
     "metadata": {},
     "output_type": "execute_result"
    }
   ],
   "source": [
    "test['Mileage'].value_counts()"
   ]
  },
  {
   "cell_type": "markdown",
   "id": "8f9e0015",
   "metadata": {},
   "source": [
    "--------------"
   ]
  },
  {
   "cell_type": "code",
   "execution_count": 44,
   "id": "99e97314",
   "metadata": {},
   "outputs": [
    {
     "data": {
      "text/plain": [
       "Front    12695\n",
       "4x4       3969\n",
       "Rear      2260\n",
       "Name: Drive wheels, dtype: int64"
      ]
     },
     "execution_count": 44,
     "metadata": {},
     "output_type": "execute_result"
    }
   ],
   "source": [
    "train['Drive wheels'].value_counts()"
   ]
  },
  {
   "cell_type": "code",
   "execution_count": 45,
   "id": "3abe0731",
   "metadata": {},
   "outputs": [],
   "source": [
    "train['Drive wheels'] = train['Drive wheels'].replace({'4x4':'4-WD'})"
   ]
  },
  {
   "cell_type": "code",
   "execution_count": 46,
   "id": "99c3cb4b",
   "metadata": {},
   "outputs": [],
   "source": [
    "test['Drive wheels'] = test['Drive wheels'].replace({'4x4':'4-WD'})"
   ]
  },
  {
   "cell_type": "code",
   "execution_count": 47,
   "id": "8609168d",
   "metadata": {},
   "outputs": [
    {
     "data": {
      "text/plain": [
       "Front    5500\n",
       "4-WD     1744\n",
       "Rear     1001\n",
       "Name: Drive wheels, dtype: int64"
      ]
     },
     "execution_count": 47,
     "metadata": {},
     "output_type": "execute_result"
    }
   ],
   "source": [
    "test['Drive wheels'].value_counts()"
   ]
  },
  {
   "cell_type": "markdown",
   "id": "d9d240fe",
   "metadata": {},
   "source": [
    "----------"
   ]
  },
  {
   "cell_type": "code",
   "execution_count": 48,
   "id": "692737a5",
   "metadata": {},
   "outputs": [
    {
     "data": {
      "text/plain": [
       "array(['04-May', '02-Mar', '>5'], dtype=object)"
      ]
     },
     "execution_count": 48,
     "metadata": {},
     "output_type": "execute_result"
    }
   ],
   "source": [
    "train['Doors'].unique()"
   ]
  },
  {
   "cell_type": "code",
   "execution_count": 49,
   "id": "092b754e",
   "metadata": {},
   "outputs": [],
   "source": [
    "train['Doors'] = train['Doors'].replace({'04-May':4,'02-Mar':2, '>5': 6})"
   ]
  },
  {
   "cell_type": "code",
   "execution_count": 50,
   "id": "084cbd58",
   "metadata": {},
   "outputs": [
    {
     "data": {
      "text/plain": [
       "array(['02-Mar', '04-May', '>5'], dtype=object)"
      ]
     },
     "execution_count": 50,
     "metadata": {},
     "output_type": "execute_result"
    }
   ],
   "source": [
    "test['Doors'].unique()"
   ]
  },
  {
   "cell_type": "code",
   "execution_count": 51,
   "id": "ac066f6d",
   "metadata": {},
   "outputs": [],
   "source": [
    "test['Doors'] = test['Doors'].replace({'04-May':4,'02-Mar':2, '>5': 6})"
   ]
  },
  {
   "cell_type": "code",
   "execution_count": 52,
   "id": "b7063297",
   "metadata": {},
   "outputs": [
    {
     "data": {
      "text/plain": [
       "4    7841\n",
       "2     352\n",
       "6      52\n",
       "Name: Doors, dtype: int64"
      ]
     },
     "execution_count": 52,
     "metadata": {},
     "output_type": "execute_result"
    }
   ],
   "source": [
    "test['Doors'].value_counts()"
   ]
  },
  {
   "cell_type": "code",
   "execution_count": 53,
   "id": "38c02489",
   "metadata": {},
   "outputs": [],
   "source": [
    "train['Doors'] = train['Doors'].astype(int)\n",
    "test['Doors'] = test['Doors'].astype(int)"
   ]
  },
  {
   "cell_type": "markdown",
   "id": "d4dcea2d",
   "metadata": {},
   "source": [
    "----------"
   ]
  },
  {
   "cell_type": "code",
   "execution_count": 54,
   "id": "7500421d",
   "metadata": {},
   "outputs": [],
   "source": [
    "newtrain = train\n",
    "newtest = test"
   ]
  },
  {
   "cell_type": "code",
   "execution_count": 55,
   "id": "a6c83c21",
   "metadata": {},
   "outputs": [],
   "source": [
    "newtrain = newtrain.drop(['ID', 'Manufacturer', 'Model'], axis = 1)\n",
    "newtest = newtest.drop(['ID', 'Manufacturer', 'Model', 'Price'], axis = 1)"
   ]
  },
  {
   "cell_type": "code",
   "execution_count": 56,
   "id": "6873635d",
   "metadata": {},
   "outputs": [
    {
     "data": {
      "text/plain": [
       "(18924, 16)"
      ]
     },
     "execution_count": 56,
     "metadata": {},
     "output_type": "execute_result"
    }
   ],
   "source": [
    "newtrain.shape"
   ]
  },
  {
   "cell_type": "code",
   "execution_count": 57,
   "id": "8898ac92",
   "metadata": {},
   "outputs": [
    {
     "data": {
      "text/plain": [
       "(8245, 15)"
      ]
     },
     "execution_count": 57,
     "metadata": {},
     "output_type": "execute_result"
    }
   ],
   "source": [
    "newtest.shape"
   ]
  },
  {
   "cell_type": "code",
   "execution_count": 58,
   "id": "341ed82a",
   "metadata": {},
   "outputs": [
    {
     "name": "stdout",
     "output_type": "stream",
     "text": [
      "<class 'pandas.core.frame.DataFrame'>\n",
      "Int64Index: 18924 entries, 0 to 19236\n",
      "Data columns (total 16 columns):\n",
      " #   Column               Non-Null Count  Dtype  \n",
      "---  ------               --------------  -----  \n",
      " 0   Price                18924 non-null  int64  \n",
      " 1   Levy                 18924 non-null  float64\n",
      " 2   Prod. year           18924 non-null  int64  \n",
      " 3   Category             18924 non-null  object \n",
      " 4   Leather interior     18924 non-null  object \n",
      " 5   Fuel type            18924 non-null  object \n",
      " 6   Engine volume        18924 non-null  float64\n",
      " 7   Mileage              18924 non-null  int32  \n",
      " 8   Cylinders            18924 non-null  float64\n",
      " 9   Gear box type        18924 non-null  object \n",
      " 10  Drive wheels         18924 non-null  object \n",
      " 11  Doors                18924 non-null  int32  \n",
      " 12  Wheel                18924 non-null  object \n",
      " 13  Color                18924 non-null  object \n",
      " 14  Airbags              18924 non-null  int64  \n",
      " 15  Additional Features  18924 non-null  object \n",
      "dtypes: float64(3), int32(2), int64(3), object(8)\n",
      "memory usage: 2.3+ MB\n"
     ]
    }
   ],
   "source": [
    "newtrain.info()"
   ]
  },
  {
   "cell_type": "code",
   "execution_count": 59,
   "id": "2658d21b",
   "metadata": {},
   "outputs": [],
   "source": [
    "from sklearn.preprocessing import LabelEncoder\n",
    "le = LabelEncoder()"
   ]
  },
  {
   "cell_type": "code",
   "execution_count": 60,
   "id": "bf1d458a",
   "metadata": {},
   "outputs": [],
   "source": [
    "cat_features = newtrain.select_dtypes(include= 'object')"
   ]
  },
  {
   "cell_type": "code",
   "execution_count": 61,
   "id": "bf22f867",
   "metadata": {},
   "outputs": [],
   "source": [
    "for i in cat_features:\n",
    "    newtrain[i] = le.fit_transform(newtrain[i])\n",
    "    newtest[i] = le.fit_transform(newtest[i])"
   ]
  },
  {
   "cell_type": "code",
   "execution_count": 62,
   "id": "4ea4a4ec",
   "metadata": {},
   "outputs": [
    {
     "data": {
      "text/html": [
       "<div>\n",
       "<style scoped>\n",
       "    .dataframe tbody tr th:only-of-type {\n",
       "        vertical-align: middle;\n",
       "    }\n",
       "\n",
       "    .dataframe tbody tr th {\n",
       "        vertical-align: top;\n",
       "    }\n",
       "\n",
       "    .dataframe thead th {\n",
       "        text-align: right;\n",
       "    }\n",
       "</style>\n",
       "<table border=\"1\" class=\"dataframe\">\n",
       "  <thead>\n",
       "    <tr style=\"text-align: right;\">\n",
       "      <th></th>\n",
       "      <th>Price</th>\n",
       "      <th>Levy</th>\n",
       "      <th>Prod. year</th>\n",
       "      <th>Category</th>\n",
       "      <th>Leather interior</th>\n",
       "      <th>Fuel type</th>\n",
       "      <th>Engine volume</th>\n",
       "      <th>Mileage</th>\n",
       "      <th>Cylinders</th>\n",
       "      <th>Gear box type</th>\n",
       "      <th>Drive wheels</th>\n",
       "      <th>Doors</th>\n",
       "      <th>Wheel</th>\n",
       "      <th>Color</th>\n",
       "      <th>Airbags</th>\n",
       "      <th>Additional Features</th>\n",
       "    </tr>\n",
       "  </thead>\n",
       "  <tbody>\n",
       "    <tr>\n",
       "      <th>0</th>\n",
       "      <td>13328</td>\n",
       "      <td>1399.000000</td>\n",
       "      <td>2010</td>\n",
       "      <td>4</td>\n",
       "      <td>1</td>\n",
       "      <td>2</td>\n",
       "      <td>3.5</td>\n",
       "      <td>186005</td>\n",
       "      <td>6.0</td>\n",
       "      <td>0</td>\n",
       "      <td>0</td>\n",
       "      <td>4</td>\n",
       "      <td>0</td>\n",
       "      <td>12</td>\n",
       "      <td>12</td>\n",
       "      <td>0</td>\n",
       "    </tr>\n",
       "    <tr>\n",
       "      <th>1</th>\n",
       "      <td>16621</td>\n",
       "      <td>1018.000000</td>\n",
       "      <td>2011</td>\n",
       "      <td>4</td>\n",
       "      <td>0</td>\n",
       "      <td>5</td>\n",
       "      <td>3.0</td>\n",
       "      <td>192000</td>\n",
       "      <td>6.0</td>\n",
       "      <td>2</td>\n",
       "      <td>0</td>\n",
       "      <td>4</td>\n",
       "      <td>0</td>\n",
       "      <td>1</td>\n",
       "      <td>8</td>\n",
       "      <td>0</td>\n",
       "    </tr>\n",
       "    <tr>\n",
       "      <th>2</th>\n",
       "      <td>8467</td>\n",
       "      <td>906.299205</td>\n",
       "      <td>2006</td>\n",
       "      <td>3</td>\n",
       "      <td>0</td>\n",
       "      <td>5</td>\n",
       "      <td>1.3</td>\n",
       "      <td>200000</td>\n",
       "      <td>4.0</td>\n",
       "      <td>3</td>\n",
       "      <td>1</td>\n",
       "      <td>4</td>\n",
       "      <td>1</td>\n",
       "      <td>1</td>\n",
       "      <td>2</td>\n",
       "      <td>0</td>\n",
       "    </tr>\n",
       "    <tr>\n",
       "      <th>3</th>\n",
       "      <td>3607</td>\n",
       "      <td>862.000000</td>\n",
       "      <td>2011</td>\n",
       "      <td>4</td>\n",
       "      <td>1</td>\n",
       "      <td>2</td>\n",
       "      <td>2.5</td>\n",
       "      <td>168966</td>\n",
       "      <td>4.0</td>\n",
       "      <td>0</td>\n",
       "      <td>0</td>\n",
       "      <td>4</td>\n",
       "      <td>0</td>\n",
       "      <td>14</td>\n",
       "      <td>0</td>\n",
       "      <td>0</td>\n",
       "    </tr>\n",
       "    <tr>\n",
       "      <th>4</th>\n",
       "      <td>11726</td>\n",
       "      <td>446.000000</td>\n",
       "      <td>2014</td>\n",
       "      <td>3</td>\n",
       "      <td>1</td>\n",
       "      <td>5</td>\n",
       "      <td>1.3</td>\n",
       "      <td>91901</td>\n",
       "      <td>4.0</td>\n",
       "      <td>0</td>\n",
       "      <td>1</td>\n",
       "      <td>4</td>\n",
       "      <td>0</td>\n",
       "      <td>12</td>\n",
       "      <td>4</td>\n",
       "      <td>0</td>\n",
       "    </tr>\n",
       "  </tbody>\n",
       "</table>\n",
       "</div>"
      ],
      "text/plain": [
       "   Price         Levy  Prod. year  Category  Leather interior  Fuel type  \\\n",
       "0  13328  1399.000000        2010         4                 1          2   \n",
       "1  16621  1018.000000        2011         4                 0          5   \n",
       "2   8467   906.299205        2006         3                 0          5   \n",
       "3   3607   862.000000        2011         4                 1          2   \n",
       "4  11726   446.000000        2014         3                 1          5   \n",
       "\n",
       "   Engine volume  Mileage  Cylinders  Gear box type  Drive wheels  Doors  \\\n",
       "0            3.5   186005        6.0              0             0      4   \n",
       "1            3.0   192000        6.0              2             0      4   \n",
       "2            1.3   200000        4.0              3             1      4   \n",
       "3            2.5   168966        4.0              0             0      4   \n",
       "4            1.3    91901        4.0              0             1      4   \n",
       "\n",
       "   Wheel  Color  Airbags  Additional Features  \n",
       "0      0     12       12                    0  \n",
       "1      0      1        8                    0  \n",
       "2      1      1        2                    0  \n",
       "3      0     14        0                    0  \n",
       "4      0     12        4                    0  "
      ]
     },
     "execution_count": 62,
     "metadata": {},
     "output_type": "execute_result"
    }
   ],
   "source": [
    "newtrain.head()"
   ]
  },
  {
   "cell_type": "code",
   "execution_count": 63,
   "id": "3e22853f",
   "metadata": {},
   "outputs": [
    {
     "data": {
      "text/html": [
       "<div>\n",
       "<style scoped>\n",
       "    .dataframe tbody tr th:only-of-type {\n",
       "        vertical-align: middle;\n",
       "    }\n",
       "\n",
       "    .dataframe tbody tr th {\n",
       "        vertical-align: top;\n",
       "    }\n",
       "\n",
       "    .dataframe thead th {\n",
       "        text-align: right;\n",
       "    }\n",
       "</style>\n",
       "<table border=\"1\" class=\"dataframe\">\n",
       "  <thead>\n",
       "    <tr style=\"text-align: right;\">\n",
       "      <th></th>\n",
       "      <th>Levy</th>\n",
       "      <th>Prod. year</th>\n",
       "      <th>Category</th>\n",
       "      <th>Leather interior</th>\n",
       "      <th>Fuel type</th>\n",
       "      <th>Engine volume</th>\n",
       "      <th>Mileage</th>\n",
       "      <th>Cylinders</th>\n",
       "      <th>Gear box type</th>\n",
       "      <th>Drive wheels</th>\n",
       "      <th>Doors</th>\n",
       "      <th>Wheel</th>\n",
       "      <th>Color</th>\n",
       "      <th>Airbags</th>\n",
       "      <th>Additional Features</th>\n",
       "    </tr>\n",
       "  </thead>\n",
       "  <tbody>\n",
       "    <tr>\n",
       "      <th>0</th>\n",
       "      <td>917.859955</td>\n",
       "      <td>2012</td>\n",
       "      <td>3</td>\n",
       "      <td>0</td>\n",
       "      <td>1</td>\n",
       "      <td>2.0</td>\n",
       "      <td>0</td>\n",
       "      <td>4</td>\n",
       "      <td>1</td>\n",
       "      <td>1</td>\n",
       "      <td>2</td>\n",
       "      <td>0</td>\n",
       "      <td>7</td>\n",
       "      <td>10</td>\n",
       "      <td>6</td>\n",
       "    </tr>\n",
       "    <tr>\n",
       "      <th>1</th>\n",
       "      <td>917.859955</td>\n",
       "      <td>2012</td>\n",
       "      <td>9</td>\n",
       "      <td>1</td>\n",
       "      <td>5</td>\n",
       "      <td>2.4</td>\n",
       "      <td>26000</td>\n",
       "      <td>4</td>\n",
       "      <td>2</td>\n",
       "      <td>1</td>\n",
       "      <td>4</td>\n",
       "      <td>0</td>\n",
       "      <td>7</td>\n",
       "      <td>10</td>\n",
       "      <td>5</td>\n",
       "    </tr>\n",
       "    <tr>\n",
       "      <th>2</th>\n",
       "      <td>917.859955</td>\n",
       "      <td>2005</td>\n",
       "      <td>9</td>\n",
       "      <td>0</td>\n",
       "      <td>5</td>\n",
       "      <td>1.5</td>\n",
       "      <td>168000</td>\n",
       "      <td>4</td>\n",
       "      <td>0</td>\n",
       "      <td>1</td>\n",
       "      <td>4</td>\n",
       "      <td>1</td>\n",
       "      <td>13</td>\n",
       "      <td>8</td>\n",
       "      <td>5</td>\n",
       "    </tr>\n",
       "    <tr>\n",
       "      <th>3</th>\n",
       "      <td>975.000000</td>\n",
       "      <td>2012</td>\n",
       "      <td>4</td>\n",
       "      <td>1</td>\n",
       "      <td>5</td>\n",
       "      <td>3.2</td>\n",
       "      <td>143000</td>\n",
       "      <td>6</td>\n",
       "      <td>0</td>\n",
       "      <td>0</td>\n",
       "      <td>4</td>\n",
       "      <td>0</td>\n",
       "      <td>2</td>\n",
       "      <td>12</td>\n",
       "      <td>5</td>\n",
       "    </tr>\n",
       "    <tr>\n",
       "      <th>4</th>\n",
       "      <td>917.859955</td>\n",
       "      <td>1993</td>\n",
       "      <td>3</td>\n",
       "      <td>0</td>\n",
       "      <td>5</td>\n",
       "      <td>1.6</td>\n",
       "      <td>200000</td>\n",
       "      <td>4</td>\n",
       "      <td>1</td>\n",
       "      <td>1</td>\n",
       "      <td>4</td>\n",
       "      <td>0</td>\n",
       "      <td>1</td>\n",
       "      <td>0</td>\n",
       "      <td>5</td>\n",
       "    </tr>\n",
       "  </tbody>\n",
       "</table>\n",
       "</div>"
      ],
      "text/plain": [
       "         Levy  Prod. year  Category  Leather interior  Fuel type  \\\n",
       "0  917.859955        2012         3                 0          1   \n",
       "1  917.859955        2012         9                 1          5   \n",
       "2  917.859955        2005         9                 0          5   \n",
       "3  975.000000        2012         4                 1          5   \n",
       "4  917.859955        1993         3                 0          5   \n",
       "\n",
       "   Engine volume  Mileage  Cylinders  Gear box type  Drive wheels  Doors  \\\n",
       "0            2.0        0          4              1             1      2   \n",
       "1            2.4    26000          4              2             1      4   \n",
       "2            1.5   168000          4              0             1      4   \n",
       "3            3.2   143000          6              0             0      4   \n",
       "4            1.6   200000          4              1             1      4   \n",
       "\n",
       "   Wheel  Color  Airbags  Additional Features  \n",
       "0      0      7       10                    6  \n",
       "1      0      7       10                    5  \n",
       "2      1     13        8                    5  \n",
       "3      0      2       12                    5  \n",
       "4      0      1        0                    5  "
      ]
     },
     "execution_count": 63,
     "metadata": {},
     "output_type": "execute_result"
    }
   ],
   "source": [
    "newtest.head()"
   ]
  },
  {
   "cell_type": "code",
   "execution_count": 69,
   "id": "57ad61c9",
   "metadata": {},
   "outputs": [],
   "source": [
    "x = newtrain.drop('Price', axis = 1)\n",
    "y = newtrain['Price']"
   ]
  },
  {
   "cell_type": "code",
   "execution_count": 70,
   "id": "cad4412d",
   "metadata": {},
   "outputs": [],
   "source": [
    "from sklearn.model_selection import train_test_split\n",
    "x_train, x_test, y_train, y_test = train_test_split(x, y, test_size = 0.2, random_state = 1)"
   ]
  },
  {
   "cell_type": "code",
   "execution_count": 71,
   "id": "560bbd2c",
   "metadata": {},
   "outputs": [],
   "source": [
    "from sklearn.metrics import mean_squared_error"
   ]
  },
  {
   "cell_type": "code",
   "execution_count": 67,
   "id": "2fb65f70",
   "metadata": {},
   "outputs": [
    {
     "name": "stdout",
     "output_type": "stream",
     "text": [
      "23643.257583367948\n"
     ]
    }
   ],
   "source": [
    "from sklearn.linear_model import LinearRegression\n",
    "lr = LinearRegression()\n",
    "y_pred = lr.fit(x_train, y_train).predict(x_test)\n",
    "print(np.sqrt(mean_squared_error(y_test, y_pred)))"
   ]
  },
  {
   "cell_type": "code",
   "execution_count": 85,
   "id": "60e83fce",
   "metadata": {},
   "outputs": [],
   "source": [
    "x_train = newtrain.drop('Price', axis = 1)\n",
    "y_train = newtrain['Price']\n",
    "x_test = newtest\n",
    "from sklearn.linear_model import LinearRegression\n",
    "lr = LinearRegression()\n",
    "y_pred = lr.fit(x_train, y_train).predict(x_test)\n",
    "solution = pd.DataFrame({'Price' : y_pred})\n",
    "solution.to_csv('LR.csv', index = False)"
   ]
  },
  {
   "cell_type": "code",
   "execution_count": null,
   "id": "259d23a2",
   "metadata": {},
   "outputs": [],
   "source": []
  },
  {
   "cell_type": "code",
   "execution_count": 74,
   "id": "caa92c85",
   "metadata": {},
   "outputs": [
    {
     "name": "stdout",
     "output_type": "stream",
     "text": [
      "139255.44451540028\n"
     ]
    }
   ],
   "source": [
    "from sklearn.ensemble import RandomForestRegressor\n",
    "rf = RandomForestRegressor(n_estimators=100,criterion='mse')\n",
    "y_pred = rf.fit(x_train, y_train).predict(x_test)\n",
    "print(np.sqrt(mean_squared_error(y_test, y_pred)))"
   ]
  },
  {
   "cell_type": "code",
   "execution_count": null,
   "id": "8917b610",
   "metadata": {},
   "outputs": [],
   "source": []
  },
  {
   "cell_type": "code",
   "execution_count": 69,
   "id": "52992f1d",
   "metadata": {},
   "outputs": [
    {
     "name": "stdout",
     "output_type": "stream",
     "text": [
      "76317.67952209384\n"
     ]
    }
   ],
   "source": [
    "from sklearn.ensemble import BaggingRegressor\n",
    "bagg = BaggingRegressor()\n",
    "y_pred = bagg.fit(x_train, y_train).predict(x_test)\n",
    "print(np.sqrt(mean_squared_error(y_test, y_pred)))"
   ]
  },
  {
   "cell_type": "code",
   "execution_count": null,
   "id": "83ad44dd",
   "metadata": {},
   "outputs": [],
   "source": []
  },
  {
   "cell_type": "code",
   "execution_count": 72,
   "id": "23e346fa",
   "metadata": {},
   "outputs": [
    {
     "name": "stdout",
     "output_type": "stream",
     "text": [
      "21997.829357147555\n"
     ]
    }
   ],
   "source": [
    "from sklearn.ensemble import AdaBoostRegressor\n",
    "adab = AdaBoostRegressor()\n",
    "y_pred = adab.fit(x_train, y_train).predict(x_test)\n",
    "print(np.sqrt(mean_squared_error(y_test, y_pred)))"
   ]
  },
  {
   "cell_type": "code",
   "execution_count": 73,
   "id": "baf2e039",
   "metadata": {},
   "outputs": [
    {
     "name": "stdout",
     "output_type": "stream",
     "text": [
      "0.9938370498161833\n",
      "0.1367861803533179\n"
     ]
    }
   ],
   "source": [
    "print(adab.score(x_train, y_train))\n",
    "print(adab.score(x_test, y_test))"
   ]
  },
  {
   "cell_type": "code",
   "execution_count": null,
   "id": "29a98303",
   "metadata": {},
   "outputs": [],
   "source": []
  },
  {
   "cell_type": "code",
   "execution_count": 75,
   "id": "0ca0e575",
   "metadata": {},
   "outputs": [
    {
     "data": {
      "image/png": "[encoded data removed]",
      "text/plain": [
       "<Figure size 720x360 with 1 Axes>"
      ]
     },
     "metadata": {
      "needs_background": "light"
     },
     "output_type": "display_data"
    }
   ],
   "source": [
    "feature_imp = pd.DataFrame(sorted(zip(adab.feature_importances_, x.columns), reverse=True)[:], columns=['Value','Feature'])\n",
    "plt.figure(figsize=(10,5))\n",
    "sns.barplot(x=\"Value\", y=\"Feature\", data=feature_imp.sort_values(by=\"Value\", ascending=False))\n",
    "plt.title('LGBM Features')\n",
    "plt.tight_layout()\n",
    "plt.show()"
   ]
  },
  {
   "cell_type": "code",
   "execution_count": 77,
   "id": "ece02ea3",
   "metadata": {},
   "outputs": [],
   "source": [
    "x_train = newtrain.drop(['Price', 'Leather interior', 'Wheel', 'Cylinders', 'Levy', 'Gear box type', 'Additional Features'], axis = 1)\n",
    "y_train = newtrain['Price']\n",
    "x_test = newtest.drop(['Leather interior', 'Wheel', 'Cylinders', 'Levy', 'Gear box type', 'Additional Features'], axis = 1)"
   ]
  },
  {
   "cell_type": "code",
   "execution_count": 68,
   "id": "713f410b",
   "metadata": {},
   "outputs": [],
   "source": [
    "from sklearn.ensemble import AdaBoostRegressor\n",
    "adab = AdaBoostRegressor()\n",
    "y_pred = adab.fit(x_train, y_train).predict(x_test)"
   ]
  },
  {
   "cell_type": "code",
   "execution_count": null,
   "id": "c491043b",
   "metadata": {},
   "outputs": [],
   "source": [
    "solution = pd.DataFrame({'Price' : y_pred})\n",
    "solution.to_csv('ADAB1.csv', index = False)"
   ]
  }
 ],
 "metadata": {
  "kernelspec": {
   "display_name": "Python 3",
   "language": "python",
   "name": "python3"
  },
  "language_info": {
   "codemirror_mode": {
    "name": "ipython",
    "version": 3
   },
   "file_extension": ".py",
   "mimetype": "text/x-python",
   "name": "python",
   "nbconvert_exporter": "python",
   "pygments_lexer": "ipython3",
   "version": "3.8.8"
  }
 },
 "nbformat": 4,
 "nbformat_minor": 5
}
