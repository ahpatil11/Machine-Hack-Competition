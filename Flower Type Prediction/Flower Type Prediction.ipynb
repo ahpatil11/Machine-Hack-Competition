{
 "cells": [
  {
   "cell_type": "code",
   "execution_count": 73,
   "metadata": {},
   "outputs": [],
   "source": [
    "import numpy as np\n",
    "import pandas as pd\n",
    "import matplotlib.pyplot as plt\n",
    "import seaborn as sns"
   ]
  },
  {
   "cell_type": "code",
   "execution_count": 74,
   "metadata": {},
   "outputs": [
    {
     "data": {
      "text/html": [
       "<div>\n",
       "<style scoped>\n",
       "    .dataframe tbody tr th:only-of-type {\n",
       "        vertical-align: middle;\n",
       "    }\n",
       "\n",
       "    .dataframe tbody tr th {\n",
       "        vertical-align: top;\n",
       "    }\n",
       "\n",
       "    .dataframe thead th {\n",
       "        text-align: right;\n",
       "    }\n",
       "</style>\n",
       "<table border=\"1\" class=\"dataframe\">\n",
       "  <thead>\n",
       "    <tr style=\"text-align: right;\">\n",
       "      <th></th>\n",
       "      <th>Area_Code</th>\n",
       "      <th>Locality_Code</th>\n",
       "      <th>Region_Code</th>\n",
       "      <th>Height</th>\n",
       "      <th>Diameter</th>\n",
       "      <th>Class</th>\n",
       "      <th>Species</th>\n",
       "    </tr>\n",
       "  </thead>\n",
       "  <tbody>\n",
       "    <tr>\n",
       "      <th>0</th>\n",
       "      <td>4694</td>\n",
       "      <td>17</td>\n",
       "      <td>1609</td>\n",
       "      <td>3.0</td>\n",
       "      <td>5.0</td>\n",
       "      <td>7</td>\n",
       "      <td>48</td>\n",
       "    </tr>\n",
       "    <tr>\n",
       "      <th>1</th>\n",
       "      <td>781</td>\n",
       "      <td>7</td>\n",
       "      <td>1380</td>\n",
       "      <td>4.0</td>\n",
       "      <td>17.0</td>\n",
       "      <td>2</td>\n",
       "      <td>54</td>\n",
       "    </tr>\n",
       "    <tr>\n",
       "      <th>2</th>\n",
       "      <td>21014</td>\n",
       "      <td>6</td>\n",
       "      <td>1122</td>\n",
       "      <td>3.0</td>\n",
       "      <td>11.0</td>\n",
       "      <td>1</td>\n",
       "      <td>22</td>\n",
       "    </tr>\n",
       "    <tr>\n",
       "      <th>3</th>\n",
       "      <td>7326</td>\n",
       "      <td>6</td>\n",
       "      <td>556</td>\n",
       "      <td>3.0</td>\n",
       "      <td>34.0</td>\n",
       "      <td>7</td>\n",
       "      <td>25</td>\n",
       "    </tr>\n",
       "    <tr>\n",
       "      <th>4</th>\n",
       "      <td>13122</td>\n",
       "      <td>17</td>\n",
       "      <td>1752</td>\n",
       "      <td>5.0</td>\n",
       "      <td>16.0</td>\n",
       "      <td>2</td>\n",
       "      <td>128</td>\n",
       "    </tr>\n",
       "  </tbody>\n",
       "</table>\n",
       "</div>"
      ],
      "text/plain": [
       "   Area_Code  Locality_Code  Region_Code  Height  Diameter  Class  Species\n",
       "0       4694             17         1609     3.0       5.0      7       48\n",
       "1        781              7         1380     4.0      17.0      2       54\n",
       "2      21014              6         1122     3.0      11.0      1       22\n",
       "3       7326              6          556     3.0      34.0      7       25\n",
       "4      13122             17         1752     5.0      16.0      2      128"
      ]
     },
     "execution_count": 74,
     "metadata": {},
     "output_type": "execute_result"
    }
   ],
   "source": [
    "train = pd.read_csv('Train.csv')\n",
    "train.head()"
   ]
  },
  {
   "cell_type": "code",
   "execution_count": 75,
   "metadata": {},
   "outputs": [
    {
     "data": {
      "text/plain": [
       "(12666, 7)"
      ]
     },
     "execution_count": 75,
     "metadata": {},
     "output_type": "execute_result"
    }
   ],
   "source": [
    "train.shape"
   ]
  },
  {
   "cell_type": "code",
   "execution_count": 76,
   "metadata": {},
   "outputs": [
    {
     "data": {
      "text/html": [
       "<div>\n",
       "<style scoped>\n",
       "    .dataframe tbody tr th:only-of-type {\n",
       "        vertical-align: middle;\n",
       "    }\n",
       "\n",
       "    .dataframe tbody tr th {\n",
       "        vertical-align: top;\n",
       "    }\n",
       "\n",
       "    .dataframe thead th {\n",
       "        text-align: right;\n",
       "    }\n",
       "</style>\n",
       "<table border=\"1\" class=\"dataframe\">\n",
       "  <thead>\n",
       "    <tr style=\"text-align: right;\">\n",
       "      <th></th>\n",
       "      <th>Area_Code</th>\n",
       "      <th>Locality_Code</th>\n",
       "      <th>Region_Code</th>\n",
       "      <th>Height</th>\n",
       "      <th>Diameter</th>\n",
       "      <th>Species</th>\n",
       "    </tr>\n",
       "  </thead>\n",
       "  <tbody>\n",
       "    <tr>\n",
       "      <th>0</th>\n",
       "      <td>25836</td>\n",
       "      <td>4</td>\n",
       "      <td>903</td>\n",
       "      <td>7.5</td>\n",
       "      <td>8.0</td>\n",
       "      <td>14</td>\n",
       "    </tr>\n",
       "    <tr>\n",
       "      <th>1</th>\n",
       "      <td>28544</td>\n",
       "      <td>14</td>\n",
       "      <td>1576</td>\n",
       "      <td>3.0</td>\n",
       "      <td>7.0</td>\n",
       "      <td>48</td>\n",
       "    </tr>\n",
       "    <tr>\n",
       "      <th>2</th>\n",
       "      <td>7037</td>\n",
       "      <td>11</td>\n",
       "      <td>350</td>\n",
       "      <td>15.0</td>\n",
       "      <td>57.0</td>\n",
       "      <td>56</td>\n",
       "    </tr>\n",
       "    <tr>\n",
       "      <th>3</th>\n",
       "      <td>20460</td>\n",
       "      <td>17</td>\n",
       "      <td>1208</td>\n",
       "      <td>3.0</td>\n",
       "      <td>6.0</td>\n",
       "      <td>180</td>\n",
       "    </tr>\n",
       "    <tr>\n",
       "      <th>4</th>\n",
       "      <td>17555</td>\n",
       "      <td>14</td>\n",
       "      <td>994</td>\n",
       "      <td>4.5</td>\n",
       "      <td>22.0</td>\n",
       "      <td>225</td>\n",
       "    </tr>\n",
       "  </tbody>\n",
       "</table>\n",
       "</div>"
      ],
      "text/plain": [
       "   Area_Code  Locality_Code  Region_Code  Height  Diameter  Species\n",
       "0      25836              4          903     7.5       8.0       14\n",
       "1      28544             14         1576     3.0       7.0       48\n",
       "2       7037             11          350    15.0      57.0       56\n",
       "3      20460             17         1208     3.0       6.0      180\n",
       "4      17555             14          994     4.5      22.0      225"
      ]
     },
     "execution_count": 76,
     "metadata": {},
     "output_type": "execute_result"
    }
   ],
   "source": [
    "test = pd.read_csv('Test.csv')\n",
    "test.head()"
   ]
  },
  {
   "cell_type": "code",
   "execution_count": 77,
   "metadata": {},
   "outputs": [
    {
     "data": {
      "text/plain": [
       "Area_Code        0\n",
       "Locality_Code    0\n",
       "Region_Code      0\n",
       "Height           0\n",
       "Diameter         0\n",
       "Class            0\n",
       "Species          0\n",
       "dtype: int64"
      ]
     },
     "execution_count": 77,
     "metadata": {},
     "output_type": "execute_result"
    }
   ],
   "source": [
    "train.isnull().sum()"
   ]
  },
  {
   "cell_type": "code",
   "execution_count": 78,
   "metadata": {},
   "outputs": [
    {
     "data": {
      "text/plain": [
       "(29555, 6)"
      ]
     },
     "execution_count": 78,
     "metadata": {},
     "output_type": "execute_result"
    }
   ],
   "source": [
    "test.shape"
   ]
  },
  {
   "cell_type": "code",
   "execution_count": 79,
   "metadata": {},
   "outputs": [
    {
     "data": {
      "text/plain": [
       "Area_Code        0\n",
       "Locality_Code    0\n",
       "Region_Code      0\n",
       "Height           0\n",
       "Diameter         0\n",
       "Species          0\n",
       "dtype: int64"
      ]
     },
     "execution_count": 79,
     "metadata": {},
     "output_type": "execute_result"
    }
   ],
   "source": [
    "test.isnull().sum()"
   ]
  },
  {
   "cell_type": "code",
   "execution_count": 80,
   "metadata": {},
   "outputs": [
    {
     "name": "stderr",
     "output_type": "stream",
     "text": [
      "C:\\Users\\Akshay\\Anaconda3\\lib\\site-packages\\pandas\\core\\frame.py:6692: FutureWarning: Sorting because non-concatenation axis is not aligned. A future version\n",
      "of pandas will change to not sort by default.\n",
      "\n",
      "To accept the future behavior, pass 'sort=False'.\n",
      "\n",
      "To retain the current behavior and silence the warning, pass 'sort=True'.\n",
      "\n",
      "  sort=sort)\n"
     ]
    },
    {
     "data": {
      "text/plain": [
       "(42221, 7)"
      ]
     },
     "execution_count": 80,
     "metadata": {},
     "output_type": "execute_result"
    }
   ],
   "source": [
    "df = train.append(test, ignore_index= True)\n",
    "df.shape"
   ]
  },
  {
   "cell_type": "code",
   "execution_count": 81,
   "metadata": {},
   "outputs": [],
   "source": [
    "demo = df.groupby('Area_Code').agg({'Height' : ['max', 'mean', 'sum', 'median'],'Diameter' : ['max', 'mean', 'sum', 'median']})"
   ]
  },
  {
   "cell_type": "code",
   "execution_count": 82,
   "metadata": {},
   "outputs": [],
   "source": [
    "demo.columns = ['_Area_Code_'.join(x) for x in demo.columns]"
   ]
  },
  {
   "cell_type": "code",
   "execution_count": 83,
   "metadata": {},
   "outputs": [
    {
     "data": {
      "text/html": [
       "<div>\n",
       "<style scoped>\n",
       "    .dataframe tbody tr th:only-of-type {\n",
       "        vertical-align: middle;\n",
       "    }\n",
       "\n",
       "    .dataframe tbody tr th {\n",
       "        vertical-align: top;\n",
       "    }\n",
       "\n",
       "    .dataframe thead th {\n",
       "        text-align: right;\n",
       "    }\n",
       "</style>\n",
       "<table border=\"1\" class=\"dataframe\">\n",
       "  <thead>\n",
       "    <tr style=\"text-align: right;\">\n",
       "      <th></th>\n",
       "      <th>Area_Code</th>\n",
       "      <th>Class</th>\n",
       "      <th>Diameter</th>\n",
       "      <th>Height</th>\n",
       "      <th>Locality_Code</th>\n",
       "      <th>Region_Code</th>\n",
       "      <th>Species</th>\n",
       "      <th>Height_Area_Code_max</th>\n",
       "      <th>Height_Area_Code_mean</th>\n",
       "      <th>Height_Area_Code_sum</th>\n",
       "      <th>Height_Area_Code_median</th>\n",
       "      <th>Diameter_Area_Code_max</th>\n",
       "      <th>Diameter_Area_Code_mean</th>\n",
       "      <th>Diameter_Area_Code_sum</th>\n",
       "      <th>Diameter_Area_Code_median</th>\n",
       "    </tr>\n",
       "  </thead>\n",
       "  <tbody>\n",
       "    <tr>\n",
       "      <th>0</th>\n",
       "      <td>4694</td>\n",
       "      <td>7.0</td>\n",
       "      <td>5.0</td>\n",
       "      <td>3.0</td>\n",
       "      <td>17</td>\n",
       "      <td>1609</td>\n",
       "      <td>48</td>\n",
       "      <td>12.5</td>\n",
       "      <td>4.051282</td>\n",
       "      <td>158.0</td>\n",
       "      <td>3.0</td>\n",
       "      <td>100.0</td>\n",
       "      <td>20.102564</td>\n",
       "      <td>784.0</td>\n",
       "      <td>20.0</td>\n",
       "    </tr>\n",
       "    <tr>\n",
       "      <th>1</th>\n",
       "      <td>781</td>\n",
       "      <td>2.0</td>\n",
       "      <td>17.0</td>\n",
       "      <td>4.0</td>\n",
       "      <td>7</td>\n",
       "      <td>1380</td>\n",
       "      <td>54</td>\n",
       "      <td>4.0</td>\n",
       "      <td>4.000000</td>\n",
       "      <td>4.0</td>\n",
       "      <td>4.0</td>\n",
       "      <td>17.0</td>\n",
       "      <td>17.000000</td>\n",
       "      <td>17.0</td>\n",
       "      <td>17.0</td>\n",
       "    </tr>\n",
       "    <tr>\n",
       "      <th>2</th>\n",
       "      <td>21014</td>\n",
       "      <td>1.0</td>\n",
       "      <td>11.0</td>\n",
       "      <td>3.0</td>\n",
       "      <td>6</td>\n",
       "      <td>1122</td>\n",
       "      <td>22</td>\n",
       "      <td>3.0</td>\n",
       "      <td>3.000000</td>\n",
       "      <td>3.0</td>\n",
       "      <td>3.0</td>\n",
       "      <td>11.0</td>\n",
       "      <td>11.000000</td>\n",
       "      <td>11.0</td>\n",
       "      <td>11.0</td>\n",
       "    </tr>\n",
       "    <tr>\n",
       "      <th>3</th>\n",
       "      <td>7326</td>\n",
       "      <td>7.0</td>\n",
       "      <td>34.0</td>\n",
       "      <td>3.0</td>\n",
       "      <td>6</td>\n",
       "      <td>556</td>\n",
       "      <td>25</td>\n",
       "      <td>3.0</td>\n",
       "      <td>3.000000</td>\n",
       "      <td>3.0</td>\n",
       "      <td>3.0</td>\n",
       "      <td>34.0</td>\n",
       "      <td>34.000000</td>\n",
       "      <td>34.0</td>\n",
       "      <td>34.0</td>\n",
       "    </tr>\n",
       "    <tr>\n",
       "      <th>4</th>\n",
       "      <td>13122</td>\n",
       "      <td>2.0</td>\n",
       "      <td>16.0</td>\n",
       "      <td>5.0</td>\n",
       "      <td>17</td>\n",
       "      <td>1752</td>\n",
       "      <td>128</td>\n",
       "      <td>5.0</td>\n",
       "      <td>5.000000</td>\n",
       "      <td>5.0</td>\n",
       "      <td>5.0</td>\n",
       "      <td>16.0</td>\n",
       "      <td>16.000000</td>\n",
       "      <td>16.0</td>\n",
       "      <td>16.0</td>\n",
       "    </tr>\n",
       "  </tbody>\n",
       "</table>\n",
       "</div>"
      ],
      "text/plain": [
       "   Area_Code  Class  Diameter  Height  Locality_Code  Region_Code  Species  \\\n",
       "0       4694    7.0       5.0     3.0             17         1609       48   \n",
       "1        781    2.0      17.0     4.0              7         1380       54   \n",
       "2      21014    1.0      11.0     3.0              6         1122       22   \n",
       "3       7326    7.0      34.0     3.0              6          556       25   \n",
       "4      13122    2.0      16.0     5.0             17         1752      128   \n",
       "\n",
       "   Height_Area_Code_max  Height_Area_Code_mean  Height_Area_Code_sum  \\\n",
       "0                  12.5               4.051282                 158.0   \n",
       "1                   4.0               4.000000                   4.0   \n",
       "2                   3.0               3.000000                   3.0   \n",
       "3                   3.0               3.000000                   3.0   \n",
       "4                   5.0               5.000000                   5.0   \n",
       "\n",
       "   Height_Area_Code_median  Diameter_Area_Code_max  Diameter_Area_Code_mean  \\\n",
       "0                      3.0                   100.0                20.102564   \n",
       "1                      4.0                    17.0                17.000000   \n",
       "2                      3.0                    11.0                11.000000   \n",
       "3                      3.0                    34.0                34.000000   \n",
       "4                      5.0                    16.0                16.000000   \n",
       "\n",
       "   Diameter_Area_Code_sum  Diameter_Area_Code_median  \n",
       "0                   784.0                       20.0  \n",
       "1                    17.0                       17.0  \n",
       "2                    11.0                       11.0  \n",
       "3                    34.0                       34.0  \n",
       "4                    16.0                       16.0  "
      ]
     },
     "execution_count": 83,
     "metadata": {},
     "output_type": "execute_result"
    }
   ],
   "source": [
    "df = pd.merge(df, demo, on=['Area_Code'], how='left')\n",
    "df.head()"
   ]
  },
  {
   "cell_type": "code",
   "execution_count": 84,
   "metadata": {},
   "outputs": [
    {
     "data": {
      "text/plain": [
       "Index(['Area_Code', 'Class', 'Diameter', 'Height', 'Locality_Code',\n",
       "       'Region_Code', 'Species', 'Height_Area_Code_max',\n",
       "       'Height_Area_Code_mean', 'Height_Area_Code_sum',\n",
       "       'Height_Area_Code_median', 'Diameter_Area_Code_max',\n",
       "       'Diameter_Area_Code_mean', 'Diameter_Area_Code_sum',\n",
       "       'Diameter_Area_Code_median', 'Height_Locality_Code_max',\n",
       "       'Height_Locality_Code_mean', 'Height_Locality_Code_sum',\n",
       "       'Height_Locality_Code_median', 'Diameter_Locality_Code_max',\n",
       "       'Diameter_Locality_Code_mean', 'Diameter_Locality_Code_sum',\n",
       "       'Diameter_Locality_Code_median', 'Species_Locality_Code_count'],\n",
       "      dtype='object')"
      ]
     },
     "execution_count": 84,
     "metadata": {},
     "output_type": "execute_result"
    }
   ],
   "source": [
    "demo = df.groupby('Locality_Code').agg({'Height' : ['max', 'mean', 'sum' , 'median'],'Diameter' : ['max', 'mean', 'sum', 'median'],'Species' : ['count']})\n",
    "demo.columns = ['_Locality_Code_'.join(x) for x in demo.columns]\n",
    "df = pd.merge(df, demo, on=['Locality_Code'], how='left')\n",
    "df.columns"
   ]
  },
  {
   "cell_type": "code",
   "execution_count": 85,
   "metadata": {},
   "outputs": [
    {
     "data": {
      "text/plain": [
       "Index(['Area_Code', 'Class', 'Diameter', 'Height', 'Locality_Code',\n",
       "       'Region_Code', 'Species', 'Height_Area_Code_max',\n",
       "       'Height_Area_Code_mean', 'Height_Area_Code_sum',\n",
       "       'Height_Area_Code_median', 'Diameter_Area_Code_max',\n",
       "       'Diameter_Area_Code_mean', 'Diameter_Area_Code_sum',\n",
       "       'Diameter_Area_Code_median', 'Height_Locality_Code_max',\n",
       "       'Height_Locality_Code_mean', 'Height_Locality_Code_sum',\n",
       "       'Height_Locality_Code_median', 'Diameter_Locality_Code_max',\n",
       "       'Diameter_Locality_Code_mean', 'Diameter_Locality_Code_sum',\n",
       "       'Diameter_Locality_Code_median', 'Species_Locality_Code_count',\n",
       "       'Height_Region_Code_max', 'Height_Region_Code_mean',\n",
       "       'Height_Region_Code_sum', 'Height_Region_Code_median',\n",
       "       'Diameter_Region_Code_max', 'Diameter_Region_Code_mean',\n",
       "       'Diameter_Region_Code_sum', 'Diameter_Region_Code_median'],\n",
       "      dtype='object')"
      ]
     },
     "execution_count": 85,
     "metadata": {},
     "output_type": "execute_result"
    }
   ],
   "source": [
    "demo = df.groupby('Region_Code').agg({'Height' : ['max', 'mean', 'sum', 'median'],'Diameter' : ['max', 'mean', 'sum', 'median']})\n",
    "demo.columns = ['_Region_Code_'.join(x) for x in demo.columns]\n",
    "df = pd.merge(df, demo, on=['Region_Code'], how='left')\n",
    "df.columns"
   ]
  },
  {
   "cell_type": "code",
   "execution_count": 86,
   "metadata": {},
   "outputs": [
    {
     "data": {
      "text/plain": [
       "Index(['Area_Code', 'Class', 'Diameter', 'Height', 'Locality_Code',\n",
       "       'Region_Code', 'Species', 'Height_Area_Code_max',\n",
       "       'Height_Area_Code_mean', 'Height_Area_Code_sum',\n",
       "       'Height_Area_Code_median', 'Diameter_Area_Code_max',\n",
       "       'Diameter_Area_Code_mean', 'Diameter_Area_Code_sum',\n",
       "       'Diameter_Area_Code_median', 'Height_Locality_Code_max',\n",
       "       'Height_Locality_Code_mean', 'Height_Locality_Code_sum',\n",
       "       'Height_Locality_Code_median', 'Diameter_Locality_Code_max',\n",
       "       'Diameter_Locality_Code_mean', 'Diameter_Locality_Code_sum',\n",
       "       'Diameter_Locality_Code_median', 'Species_Locality_Code_count',\n",
       "       'Height_Region_Code_max', 'Height_Region_Code_mean',\n",
       "       'Height_Region_Code_sum', 'Height_Region_Code_median',\n",
       "       'Diameter_Region_Code_max', 'Diameter_Region_Code_mean',\n",
       "       'Diameter_Region_Code_sum', 'Diameter_Region_Code_median',\n",
       "       'Height_Species_max', 'Height_Species_mean', 'Height_Species_sum',\n",
       "       'Height_Species_median', 'Diameter_Species_max',\n",
       "       'Diameter_Species_mean', 'Diameter_Species_sum',\n",
       "       'Diameter_Species_median'],\n",
       "      dtype='object')"
      ]
     },
     "execution_count": 86,
     "metadata": {},
     "output_type": "execute_result"
    }
   ],
   "source": [
    "demo = df.groupby('Species').agg({'Height' : ['max', 'mean', 'sum', 'median'],'Diameter' : ['max', 'mean', 'sum', 'median']})\n",
    "demo.columns = ['_Species_'.join(x) for x in demo.columns]\n",
    "df = pd.merge(df, demo, on=['Species'], how='left')\n",
    "df.columns"
   ]
  },
  {
   "cell_type": "code",
   "execution_count": 87,
   "metadata": {},
   "outputs": [],
   "source": [
    "train = df.iloc[0:12666,:]\n",
    "test = df.iloc[12666:, :]\n",
    "test = test.drop('Class', axis = 1)"
   ]
  },
  {
   "cell_type": "code",
   "execution_count": 88,
   "metadata": {},
   "outputs": [
    {
     "data": {
      "text/plain": [
       "(12666, 40)"
      ]
     },
     "execution_count": 88,
     "metadata": {},
     "output_type": "execute_result"
    }
   ],
   "source": [
    "train.shape"
   ]
  },
  {
   "cell_type": "code",
   "execution_count": 89,
   "metadata": {},
   "outputs": [
    {
     "data": {
      "text/plain": [
       "(29555, 39)"
      ]
     },
     "execution_count": 89,
     "metadata": {},
     "output_type": "execute_result"
    }
   ],
   "source": [
    "test.shape"
   ]
  },
  {
   "cell_type": "code",
   "execution_count": 90,
   "metadata": {},
   "outputs": [],
   "source": [
    "x_train = train.drop('Class',axis = 1)\n",
    "y_train = train['Class']\n",
    "x_test = test"
   ]
  },
  {
   "cell_type": "code",
   "execution_count": 91,
   "metadata": {},
   "outputs": [],
   "source": [
    "from lightgbm import LGBMClassifier\n",
    "lgb = LGBMClassifier()\n",
    "lgb.fit(x_train, y_train)\n",
    "\n",
    "test_pred = lgb.predict_proba(x_test)\n",
    "df1 = pd.DataFrame(test_pred)\n",
    "filepath = 'Solution.csv'\n",
    "df1.to_csv(filepath, index = False)"
   ]
  },
  {
   "cell_type": "code",
   "execution_count": 92,
   "metadata": {},
   "outputs": [],
   "source": [
    "from sklearn.ensemble import GradientBoostingClassifier\n",
    "gab = GradientBoostingClassifier()\n",
    "gab.fit(x_train, y_train)\n",
    "\n",
    "test_pred = gab.predict_proba(x_test)\n",
    "df1 = pd.DataFrame(test_pred)\n",
    "filepath = 'Solution1.csv'\n",
    "df1.to_csv(filepath, index = False)"
   ]
  },
  {
   "cell_type": "code",
   "execution_count": null,
   "metadata": {},
   "outputs": [],
   "source": []
  }
 ],
 "metadata": {
  "kernelspec": {
   "display_name": "Python 3",
   "language": "python",
   "name": "python3"
  },
  "language_info": {
   "codemirror_mode": {
    "name": "ipython",
    "version": 3
   },
   "file_extension": ".py",
   "mimetype": "text/x-python",
   "name": "python",
   "nbconvert_exporter": "python",
   "pygments_lexer": "ipython3",
   "version": "3.7.3"
  }
 },
 "nbformat": 4,
 "nbformat_minor": 2
}
