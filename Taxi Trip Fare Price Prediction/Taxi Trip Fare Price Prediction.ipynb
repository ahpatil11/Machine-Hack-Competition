{
 "cells": [
  {
   "cell_type": "code",
   "execution_count": 73,
   "id": "f8e558de",
   "metadata": {},
   "outputs": [],
   "source": [
    "import numpy as np\n",
    "import pandas as pd\n",
    "import matplotlib.pyplot as plt\n",
    "import seaborn as sns"
   ]
  },
  {
   "cell_type": "code",
   "execution_count": 74,
   "id": "8fa47225",
   "metadata": {},
   "outputs": [
    {
     "data": {
      "text/html": [
       "<div>\n",
       "<style scoped>\n",
       "    .dataframe tbody tr th:only-of-type {\n",
       "        vertical-align: middle;\n",
       "    }\n",
       "\n",
       "    .dataframe tbody tr th {\n",
       "        vertical-align: top;\n",
       "    }\n",
       "\n",
       "    .dataframe thead th {\n",
       "        text-align: right;\n",
       "    }\n",
       "</style>\n",
       "<table border=\"1\" class=\"dataframe\">\n",
       "  <thead>\n",
       "    <tr style=\"text-align: right;\">\n",
       "      <th></th>\n",
       "      <th>trip_distance</th>\n",
       "      <th>rate_code</th>\n",
       "      <th>store_and_fwd_flag</th>\n",
       "      <th>payment_type</th>\n",
       "      <th>fare_amount</th>\n",
       "      <th>extra</th>\n",
       "      <th>mta_tax</th>\n",
       "      <th>tip_amount</th>\n",
       "      <th>tolls_amount</th>\n",
       "      <th>imp_surcharge</th>\n",
       "      <th>total_amount</th>\n",
       "      <th>pickup_location_id</th>\n",
       "      <th>dropoff_location_id</th>\n",
       "      <th>year</th>\n",
       "      <th>month</th>\n",
       "      <th>day</th>\n",
       "      <th>day_of_week</th>\n",
       "      <th>hour_of_day</th>\n",
       "      <th>trip_duration</th>\n",
       "      <th>calculated_total_amount</th>\n",
       "    </tr>\n",
       "  </thead>\n",
       "  <tbody>\n",
       "    <tr>\n",
       "      <th>0</th>\n",
       "      <td>9.01</td>\n",
       "      <td>1</td>\n",
       "      <td>N</td>\n",
       "      <td>1</td>\n",
       "      <td>26.0</td>\n",
       "      <td>0.0</td>\n",
       "      <td>0.5</td>\n",
       "      <td>8.14</td>\n",
       "      <td>5.76</td>\n",
       "      <td>0.3</td>\n",
       "      <td>40.70</td>\n",
       "      <td>262</td>\n",
       "      <td>138</td>\n",
       "      <td>2018</td>\n",
       "      <td>3</td>\n",
       "      <td>7</td>\n",
       "      <td>2</td>\n",
       "      <td>6</td>\n",
       "      <td>2131.0</td>\n",
       "      <td>24.30</td>\n",
       "    </tr>\n",
       "    <tr>\n",
       "      <th>1</th>\n",
       "      <td>0.20</td>\n",
       "      <td>1</td>\n",
       "      <td>N</td>\n",
       "      <td>1</td>\n",
       "      <td>3.0</td>\n",
       "      <td>0.0</td>\n",
       "      <td>0.5</td>\n",
       "      <td>0.75</td>\n",
       "      <td>0.00</td>\n",
       "      <td>0.3</td>\n",
       "      <td>4.55</td>\n",
       "      <td>263</td>\n",
       "      <td>236</td>\n",
       "      <td>2018</td>\n",
       "      <td>2</td>\n",
       "      <td>25</td>\n",
       "      <td>6</td>\n",
       "      <td>10</td>\n",
       "      <td>2377.0</td>\n",
       "      <td>37.40</td>\n",
       "    </tr>\n",
       "    <tr>\n",
       "      <th>2</th>\n",
       "      <td>9.65</td>\n",
       "      <td>1</td>\n",
       "      <td>N</td>\n",
       "      <td>1</td>\n",
       "      <td>41.5</td>\n",
       "      <td>0.0</td>\n",
       "      <td>0.5</td>\n",
       "      <td>9.61</td>\n",
       "      <td>5.76</td>\n",
       "      <td>0.3</td>\n",
       "      <td>57.67</td>\n",
       "      <td>138</td>\n",
       "      <td>230</td>\n",
       "      <td>2018</td>\n",
       "      <td>1</td>\n",
       "      <td>29</td>\n",
       "      <td>0</td>\n",
       "      <td>8</td>\n",
       "      <td>1286.0</td>\n",
       "      <td>30.36</td>\n",
       "    </tr>\n",
       "    <tr>\n",
       "      <th>3</th>\n",
       "      <td>9.50</td>\n",
       "      <td>1</td>\n",
       "      <td>N</td>\n",
       "      <td>1</td>\n",
       "      <td>30.0</td>\n",
       "      <td>0.5</td>\n",
       "      <td>0.5</td>\n",
       "      <td>9.25</td>\n",
       "      <td>5.76</td>\n",
       "      <td>0.3</td>\n",
       "      <td>46.31</td>\n",
       "      <td>186</td>\n",
       "      <td>138</td>\n",
       "      <td>2018</td>\n",
       "      <td>9</td>\n",
       "      <td>25</td>\n",
       "      <td>1</td>\n",
       "      <td>20</td>\n",
       "      <td>2586.0</td>\n",
       "      <td>4.30</td>\n",
       "    </tr>\n",
       "    <tr>\n",
       "      <th>4</th>\n",
       "      <td>5.80</td>\n",
       "      <td>1</td>\n",
       "      <td>N</td>\n",
       "      <td>1</td>\n",
       "      <td>21.5</td>\n",
       "      <td>0.5</td>\n",
       "      <td>0.5</td>\n",
       "      <td>4.56</td>\n",
       "      <td>0.00</td>\n",
       "      <td>0.3</td>\n",
       "      <td>27.36</td>\n",
       "      <td>162</td>\n",
       "      <td>87</td>\n",
       "      <td>2018</td>\n",
       "      <td>8</td>\n",
       "      <td>20</td>\n",
       "      <td>0</td>\n",
       "      <td>21</td>\n",
       "      <td>1575.0</td>\n",
       "      <td>23.80</td>\n",
       "    </tr>\n",
       "  </tbody>\n",
       "</table>\n",
       "</div>"
      ],
      "text/plain": [
       "   trip_distance  rate_code store_and_fwd_flag  payment_type  fare_amount  \\\n",
       "0           9.01          1                  N             1         26.0   \n",
       "1           0.20          1                  N             1          3.0   \n",
       "2           9.65          1                  N             1         41.5   \n",
       "3           9.50          1                  N             1         30.0   \n",
       "4           5.80          1                  N             1         21.5   \n",
       "\n",
       "   extra  mta_tax  tip_amount  tolls_amount  imp_surcharge  total_amount  \\\n",
       "0    0.0      0.5        8.14          5.76            0.3         40.70   \n",
       "1    0.0      0.5        0.75          0.00            0.3          4.55   \n",
       "2    0.0      0.5        9.61          5.76            0.3         57.67   \n",
       "3    0.5      0.5        9.25          5.76            0.3         46.31   \n",
       "4    0.5      0.5        4.56          0.00            0.3         27.36   \n",
       "\n",
       "   pickup_location_id  dropoff_location_id  year  month  day  day_of_week  \\\n",
       "0                 262                  138  2018      3    7            2   \n",
       "1                 263                  236  2018      2   25            6   \n",
       "2                 138                  230  2018      1   29            0   \n",
       "3                 186                  138  2018      9   25            1   \n",
       "4                 162                   87  2018      8   20            0   \n",
       "\n",
       "   hour_of_day  trip_duration  calculated_total_amount  \n",
       "0            6         2131.0                    24.30  \n",
       "1           10         2377.0                    37.40  \n",
       "2            8         1286.0                    30.36  \n",
       "3           20         2586.0                     4.30  \n",
       "4           21         1575.0                    23.80  "
      ]
     },
     "execution_count": 74,
     "metadata": {},
     "output_type": "execute_result"
    }
   ],
   "source": [
    "train = pd.read_csv('train.csv')\n",
    "train.head()"
   ]
  },
  {
   "cell_type": "code",
   "execution_count": 75,
   "id": "a2946fd3",
   "metadata": {},
   "outputs": [
    {
     "data": {
      "text/plain": [
       "(35000, 20)"
      ]
     },
     "execution_count": 75,
     "metadata": {},
     "output_type": "execute_result"
    }
   ],
   "source": [
    "train.shape"
   ]
  },
  {
   "cell_type": "code",
   "execution_count": 76,
   "id": "5a0e45ce",
   "metadata": {},
   "outputs": [
    {
     "data": {
      "text/plain": [
       "0"
      ]
     },
     "execution_count": 76,
     "metadata": {},
     "output_type": "execute_result"
    }
   ],
   "source": [
    "train.duplicated().sum()"
   ]
  },
  {
   "cell_type": "code",
   "execution_count": 77,
   "id": "bce51120",
   "metadata": {},
   "outputs": [
    {
     "data": {
      "text/html": [
       "<div>\n",
       "<style scoped>\n",
       "    .dataframe tbody tr th:only-of-type {\n",
       "        vertical-align: middle;\n",
       "    }\n",
       "\n",
       "    .dataframe tbody tr th {\n",
       "        vertical-align: top;\n",
       "    }\n",
       "\n",
       "    .dataframe thead th {\n",
       "        text-align: right;\n",
       "    }\n",
       "</style>\n",
       "<table border=\"1\" class=\"dataframe\">\n",
       "  <thead>\n",
       "    <tr style=\"text-align: right;\">\n",
       "      <th></th>\n",
       "      <th>trip_distance</th>\n",
       "      <th>rate_code</th>\n",
       "      <th>payment_type</th>\n",
       "      <th>fare_amount</th>\n",
       "      <th>extra</th>\n",
       "      <th>mta_tax</th>\n",
       "      <th>tip_amount</th>\n",
       "      <th>tolls_amount</th>\n",
       "      <th>imp_surcharge</th>\n",
       "      <th>total_amount</th>\n",
       "      <th>pickup_location_id</th>\n",
       "      <th>dropoff_location_id</th>\n",
       "      <th>year</th>\n",
       "      <th>month</th>\n",
       "      <th>day</th>\n",
       "      <th>day_of_week</th>\n",
       "      <th>hour_of_day</th>\n",
       "      <th>trip_duration</th>\n",
       "      <th>calculated_total_amount</th>\n",
       "    </tr>\n",
       "  </thead>\n",
       "  <tbody>\n",
       "    <tr>\n",
       "      <th>count</th>\n",
       "      <td>35000.000000</td>\n",
       "      <td>35000.000000</td>\n",
       "      <td>35000.000000</td>\n",
       "      <td>35000.000000</td>\n",
       "      <td>35000.000000</td>\n",
       "      <td>35000.000000</td>\n",
       "      <td>35000.000000</td>\n",
       "      <td>35000.000000</td>\n",
       "      <td>35000.000000</td>\n",
       "      <td>35000.000000</td>\n",
       "      <td>35000.000000</td>\n",
       "      <td>35000.000000</td>\n",
       "      <td>35000.0</td>\n",
       "      <td>35000.000000</td>\n",
       "      <td>35000.000000</td>\n",
       "      <td>35000.000000</td>\n",
       "      <td>35000.000000</td>\n",
       "      <td>35000.00000</td>\n",
       "      <td>35000.000000</td>\n",
       "    </tr>\n",
       "    <tr>\n",
       "      <th>mean</th>\n",
       "      <td>9.088815</td>\n",
       "      <td>1.110086</td>\n",
       "      <td>1.123400</td>\n",
       "      <td>31.920911</td>\n",
       "      <td>0.320337</td>\n",
       "      <td>0.486929</td>\n",
       "      <td>6.142190</td>\n",
       "      <td>2.262871</td>\n",
       "      <td>0.299940</td>\n",
       "      <td>41.442469</td>\n",
       "      <td>152.543943</td>\n",
       "      <td>146.852200</td>\n",
       "      <td>2018.0</td>\n",
       "      <td>6.132429</td>\n",
       "      <td>15.337743</td>\n",
       "      <td>2.885200</td>\n",
       "      <td>13.803657</td>\n",
       "      <td>2257.38360</td>\n",
       "      <td>41.324249</td>\n",
       "    </tr>\n",
       "    <tr>\n",
       "      <th>std</th>\n",
       "      <td>4.496854</td>\n",
       "      <td>0.581456</td>\n",
       "      <td>0.350842</td>\n",
       "      <td>14.689516</td>\n",
       "      <td>0.402590</td>\n",
       "      <td>0.079781</td>\n",
       "      <td>4.397599</td>\n",
       "      <td>3.578315</td>\n",
       "      <td>0.004242</td>\n",
       "      <td>19.241543</td>\n",
       "      <td>59.764598</td>\n",
       "      <td>76.373292</td>\n",
       "      <td>0.0</td>\n",
       "      <td>3.342088</td>\n",
       "      <td>8.691250</td>\n",
       "      <td>1.926999</td>\n",
       "      <td>6.224485</td>\n",
       "      <td>5112.41526</td>\n",
       "      <td>19.167043</td>\n",
       "    </tr>\n",
       "    <tr>\n",
       "      <th>min</th>\n",
       "      <td>0.010000</td>\n",
       "      <td>1.000000</td>\n",
       "      <td>1.000000</td>\n",
       "      <td>0.010000</td>\n",
       "      <td>0.000000</td>\n",
       "      <td>0.000000</td>\n",
       "      <td>0.000000</td>\n",
       "      <td>0.000000</td>\n",
       "      <td>0.000000</td>\n",
       "      <td>0.310000</td>\n",
       "      <td>1.000000</td>\n",
       "      <td>1.000000</td>\n",
       "      <td>2018.0</td>\n",
       "      <td>1.000000</td>\n",
       "      <td>1.000000</td>\n",
       "      <td>0.000000</td>\n",
       "      <td>0.000000</td>\n",
       "      <td>1.00000</td>\n",
       "      <td>0.310000</td>\n",
       "    </tr>\n",
       "    <tr>\n",
       "      <th>25%</th>\n",
       "      <td>6.470000</td>\n",
       "      <td>1.000000</td>\n",
       "      <td>1.000000</td>\n",
       "      <td>24.000000</td>\n",
       "      <td>0.000000</td>\n",
       "      <td>0.500000</td>\n",
       "      <td>4.460000</td>\n",
       "      <td>0.000000</td>\n",
       "      <td>0.300000</td>\n",
       "      <td>30.350000</td>\n",
       "      <td>132.000000</td>\n",
       "      <td>87.000000</td>\n",
       "      <td>2018.0</td>\n",
       "      <td>3.000000</td>\n",
       "      <td>7.000000</td>\n",
       "      <td>1.000000</td>\n",
       "      <td>10.000000</td>\n",
       "      <td>1448.00000</td>\n",
       "      <td>30.300000</td>\n",
       "    </tr>\n",
       "    <tr>\n",
       "      <th>50%</th>\n",
       "      <td>8.700000</td>\n",
       "      <td>1.000000</td>\n",
       "      <td>1.000000</td>\n",
       "      <td>29.000000</td>\n",
       "      <td>0.000000</td>\n",
       "      <td>0.500000</td>\n",
       "      <td>6.050000</td>\n",
       "      <td>0.000000</td>\n",
       "      <td>0.300000</td>\n",
       "      <td>38.470000</td>\n",
       "      <td>138.000000</td>\n",
       "      <td>141.000000</td>\n",
       "      <td>2018.0</td>\n",
       "      <td>6.000000</td>\n",
       "      <td>16.000000</td>\n",
       "      <td>3.000000</td>\n",
       "      <td>14.000000</td>\n",
       "      <td>1862.00000</td>\n",
       "      <td>38.460000</td>\n",
       "    </tr>\n",
       "    <tr>\n",
       "      <th>75%</th>\n",
       "      <td>10.990000</td>\n",
       "      <td>1.000000</td>\n",
       "      <td>1.000000</td>\n",
       "      <td>36.000000</td>\n",
       "      <td>0.500000</td>\n",
       "      <td>0.500000</td>\n",
       "      <td>8.100000</td>\n",
       "      <td>5.760000</td>\n",
       "      <td>0.300000</td>\n",
       "      <td>48.352500</td>\n",
       "      <td>186.000000</td>\n",
       "      <td>229.000000</td>\n",
       "      <td>2018.0</td>\n",
       "      <td>9.000000</td>\n",
       "      <td>23.000000</td>\n",
       "      <td>4.000000</td>\n",
       "      <td>19.000000</td>\n",
       "      <td>2340.00000</td>\n",
       "      <td>48.200000</td>\n",
       "    </tr>\n",
       "    <tr>\n",
       "      <th>max</th>\n",
       "      <td>79.010000</td>\n",
       "      <td>5.000000</td>\n",
       "      <td>4.000000</td>\n",
       "      <td>400.000000</td>\n",
       "      <td>18.500000</td>\n",
       "      <td>0.500000</td>\n",
       "      <td>215.000000</td>\n",
       "      <td>189.500000</td>\n",
       "      <td>0.300000</td>\n",
       "      <td>468.350000</td>\n",
       "      <td>265.000000</td>\n",
       "      <td>265.000000</td>\n",
       "      <td>2018.0</td>\n",
       "      <td>12.000000</td>\n",
       "      <td>31.000000</td>\n",
       "      <td>6.000000</td>\n",
       "      <td>23.000000</td>\n",
       "      <td>86347.00000</td>\n",
       "      <td>468.350000</td>\n",
       "    </tr>\n",
       "  </tbody>\n",
       "</table>\n",
       "</div>"
      ],
      "text/plain": [
       "       trip_distance     rate_code  payment_type   fare_amount         extra  \\\n",
       "count   35000.000000  35000.000000  35000.000000  35000.000000  35000.000000   \n",
       "mean        9.088815      1.110086      1.123400     31.920911      0.320337   \n",
       "std         4.496854      0.581456      0.350842     14.689516      0.402590   \n",
       "min         0.010000      1.000000      1.000000      0.010000      0.000000   \n",
       "25%         6.470000      1.000000      1.000000     24.000000      0.000000   \n",
       "50%         8.700000      1.000000      1.000000     29.000000      0.000000   \n",
       "75%        10.990000      1.000000      1.000000     36.000000      0.500000   \n",
       "max        79.010000      5.000000      4.000000    400.000000     18.500000   \n",
       "\n",
       "            mta_tax    tip_amount  tolls_amount  imp_surcharge  total_amount  \\\n",
       "count  35000.000000  35000.000000  35000.000000   35000.000000  35000.000000   \n",
       "mean       0.486929      6.142190      2.262871       0.299940     41.442469   \n",
       "std        0.079781      4.397599      3.578315       0.004242     19.241543   \n",
       "min        0.000000      0.000000      0.000000       0.000000      0.310000   \n",
       "25%        0.500000      4.460000      0.000000       0.300000     30.350000   \n",
       "50%        0.500000      6.050000      0.000000       0.300000     38.470000   \n",
       "75%        0.500000      8.100000      5.760000       0.300000     48.352500   \n",
       "max        0.500000    215.000000    189.500000       0.300000    468.350000   \n",
       "\n",
       "       pickup_location_id  dropoff_location_id     year         month  \\\n",
       "count        35000.000000         35000.000000  35000.0  35000.000000   \n",
       "mean           152.543943           146.852200   2018.0      6.132429   \n",
       "std             59.764598            76.373292      0.0      3.342088   \n",
       "min              1.000000             1.000000   2018.0      1.000000   \n",
       "25%            132.000000            87.000000   2018.0      3.000000   \n",
       "50%            138.000000           141.000000   2018.0      6.000000   \n",
       "75%            186.000000           229.000000   2018.0      9.000000   \n",
       "max            265.000000           265.000000   2018.0     12.000000   \n",
       "\n",
       "                day   day_of_week   hour_of_day  trip_duration  \\\n",
       "count  35000.000000  35000.000000  35000.000000    35000.00000   \n",
       "mean      15.337743      2.885200     13.803657     2257.38360   \n",
       "std        8.691250      1.926999      6.224485     5112.41526   \n",
       "min        1.000000      0.000000      0.000000        1.00000   \n",
       "25%        7.000000      1.000000     10.000000     1448.00000   \n",
       "50%       16.000000      3.000000     14.000000     1862.00000   \n",
       "75%       23.000000      4.000000     19.000000     2340.00000   \n",
       "max       31.000000      6.000000     23.000000    86347.00000   \n",
       "\n",
       "       calculated_total_amount  \n",
       "count             35000.000000  \n",
       "mean                 41.324249  \n",
       "std                  19.167043  \n",
       "min                   0.310000  \n",
       "25%                  30.300000  \n",
       "50%                  38.460000  \n",
       "75%                  48.200000  \n",
       "max                 468.350000  "
      ]
     },
     "execution_count": 77,
     "metadata": {},
     "output_type": "execute_result"
    }
   ],
   "source": [
    "train.describe()"
   ]
  },
  {
   "cell_type": "code",
   "execution_count": 78,
   "id": "f39106bd",
   "metadata": {},
   "outputs": [
    {
     "data": {
      "text/plain": [
       "trip_distance              0\n",
       "rate_code                  0\n",
       "store_and_fwd_flag         0\n",
       "payment_type               0\n",
       "fare_amount                0\n",
       "extra                      0\n",
       "mta_tax                    0\n",
       "tip_amount                 0\n",
       "tolls_amount               0\n",
       "imp_surcharge              0\n",
       "total_amount               0\n",
       "pickup_location_id         0\n",
       "dropoff_location_id        0\n",
       "year                       0\n",
       "month                      0\n",
       "day                        0\n",
       "day_of_week                0\n",
       "hour_of_day                0\n",
       "trip_duration              0\n",
       "calculated_total_amount    0\n",
       "dtype: int64"
      ]
     },
     "execution_count": 78,
     "metadata": {},
     "output_type": "execute_result"
    }
   ],
   "source": [
    "train.isnull().sum()"
   ]
  },
  {
   "cell_type": "code",
   "execution_count": 79,
   "id": "83445885",
   "metadata": {},
   "outputs": [
    {
     "name": "stdout",
     "output_type": "stream",
     "text": [
      "<class 'pandas.core.frame.DataFrame'>\n",
      "RangeIndex: 35000 entries, 0 to 34999\n",
      "Data columns (total 20 columns):\n",
      " #   Column                   Non-Null Count  Dtype  \n",
      "---  ------                   --------------  -----  \n",
      " 0   trip_distance            35000 non-null  float64\n",
      " 1   rate_code                35000 non-null  int64  \n",
      " 2   store_and_fwd_flag       35000 non-null  object \n",
      " 3   payment_type             35000 non-null  int64  \n",
      " 4   fare_amount              35000 non-null  float64\n",
      " 5   extra                    35000 non-null  float64\n",
      " 6   mta_tax                  35000 non-null  float64\n",
      " 7   tip_amount               35000 non-null  float64\n",
      " 8   tolls_amount             35000 non-null  float64\n",
      " 9   imp_surcharge            35000 non-null  float64\n",
      " 10  total_amount             35000 non-null  float64\n",
      " 11  pickup_location_id       35000 non-null  int64  \n",
      " 12  dropoff_location_id      35000 non-null  int64  \n",
      " 13  year                     35000 non-null  int64  \n",
      " 14  month                    35000 non-null  int64  \n",
      " 15  day                      35000 non-null  int64  \n",
      " 16  day_of_week              35000 non-null  int64  \n",
      " 17  hour_of_day              35000 non-null  int64  \n",
      " 18  trip_duration            35000 non-null  float64\n",
      " 19  calculated_total_amount  35000 non-null  float64\n",
      "dtypes: float64(10), int64(9), object(1)\n",
      "memory usage: 5.3+ MB\n"
     ]
    }
   ],
   "source": [
    "train.info()"
   ]
  },
  {
   "cell_type": "code",
   "execution_count": 80,
   "id": "e869460c",
   "metadata": {},
   "outputs": [
    {
     "data": {
      "text/html": [
       "<div>\n",
       "<style scoped>\n",
       "    .dataframe tbody tr th:only-of-type {\n",
       "        vertical-align: middle;\n",
       "    }\n",
       "\n",
       "    .dataframe tbody tr th {\n",
       "        vertical-align: top;\n",
       "    }\n",
       "\n",
       "    .dataframe thead th {\n",
       "        text-align: right;\n",
       "    }\n",
       "</style>\n",
       "<table border=\"1\" class=\"dataframe\">\n",
       "  <thead>\n",
       "    <tr style=\"text-align: right;\">\n",
       "      <th></th>\n",
       "      <th>trip_distance</th>\n",
       "      <th>rate_code</th>\n",
       "      <th>store_and_fwd_flag</th>\n",
       "      <th>payment_type</th>\n",
       "      <th>fare_amount</th>\n",
       "      <th>extra</th>\n",
       "      <th>mta_tax</th>\n",
       "      <th>tip_amount</th>\n",
       "      <th>tolls_amount</th>\n",
       "      <th>imp_surcharge</th>\n",
       "      <th>total_amount</th>\n",
       "      <th>pickup_location_id</th>\n",
       "      <th>dropoff_location_id</th>\n",
       "      <th>year</th>\n",
       "      <th>month</th>\n",
       "      <th>day</th>\n",
       "      <th>day_of_week</th>\n",
       "      <th>hour_of_day</th>\n",
       "      <th>trip_duration</th>\n",
       "    </tr>\n",
       "  </thead>\n",
       "  <tbody>\n",
       "    <tr>\n",
       "      <th>0</th>\n",
       "      <td>15.70</td>\n",
       "      <td>1</td>\n",
       "      <td>N</td>\n",
       "      <td>2</td>\n",
       "      <td>45.0</td>\n",
       "      <td>0.0</td>\n",
       "      <td>0.5</td>\n",
       "      <td>0.00</td>\n",
       "      <td>0.00</td>\n",
       "      <td>0.3</td>\n",
       "      <td>45.80</td>\n",
       "      <td>132</td>\n",
       "      <td>146</td>\n",
       "      <td>2018</td>\n",
       "      <td>10</td>\n",
       "      <td>20</td>\n",
       "      <td>5</td>\n",
       "      <td>16</td>\n",
       "      <td>3967.0</td>\n",
       "    </tr>\n",
       "    <tr>\n",
       "      <th>1</th>\n",
       "      <td>7.30</td>\n",
       "      <td>1</td>\n",
       "      <td>N</td>\n",
       "      <td>1</td>\n",
       "      <td>25.5</td>\n",
       "      <td>0.0</td>\n",
       "      <td>0.5</td>\n",
       "      <td>7.89</td>\n",
       "      <td>0.00</td>\n",
       "      <td>0.3</td>\n",
       "      <td>34.19</td>\n",
       "      <td>186</td>\n",
       "      <td>69</td>\n",
       "      <td>2018</td>\n",
       "      <td>2</td>\n",
       "      <td>24</td>\n",
       "      <td>5</td>\n",
       "      <td>15</td>\n",
       "      <td>1491.0</td>\n",
       "    </tr>\n",
       "    <tr>\n",
       "      <th>2</th>\n",
       "      <td>14.87</td>\n",
       "      <td>1</td>\n",
       "      <td>N</td>\n",
       "      <td>1</td>\n",
       "      <td>40.5</td>\n",
       "      <td>0.5</td>\n",
       "      <td>0.5</td>\n",
       "      <td>8.36</td>\n",
       "      <td>0.00</td>\n",
       "      <td>0.3</td>\n",
       "      <td>50.16</td>\n",
       "      <td>138</td>\n",
       "      <td>89</td>\n",
       "      <td>2018</td>\n",
       "      <td>9</td>\n",
       "      <td>11</td>\n",
       "      <td>1</td>\n",
       "      <td>22</td>\n",
       "      <td>1395.0</td>\n",
       "    </tr>\n",
       "    <tr>\n",
       "      <th>3</th>\n",
       "      <td>2.90</td>\n",
       "      <td>1</td>\n",
       "      <td>N</td>\n",
       "      <td>2</td>\n",
       "      <td>22.0</td>\n",
       "      <td>0.0</td>\n",
       "      <td>0.5</td>\n",
       "      <td>0.00</td>\n",
       "      <td>0.00</td>\n",
       "      <td>0.3</td>\n",
       "      <td>22.80</td>\n",
       "      <td>90</td>\n",
       "      <td>162</td>\n",
       "      <td>2018</td>\n",
       "      <td>6</td>\n",
       "      <td>7</td>\n",
       "      <td>3</td>\n",
       "      <td>11</td>\n",
       "      <td>1742.0</td>\n",
       "    </tr>\n",
       "    <tr>\n",
       "      <th>4</th>\n",
       "      <td>8.96</td>\n",
       "      <td>1</td>\n",
       "      <td>N</td>\n",
       "      <td>1</td>\n",
       "      <td>32.0</td>\n",
       "      <td>0.0</td>\n",
       "      <td>0.5</td>\n",
       "      <td>0.00</td>\n",
       "      <td>5.76</td>\n",
       "      <td>0.3</td>\n",
       "      <td>38.56</td>\n",
       "      <td>138</td>\n",
       "      <td>186</td>\n",
       "      <td>2018</td>\n",
       "      <td>4</td>\n",
       "      <td>20</td>\n",
       "      <td>4</td>\n",
       "      <td>10</td>\n",
       "      <td>1623.0</td>\n",
       "    </tr>\n",
       "  </tbody>\n",
       "</table>\n",
       "</div>"
      ],
      "text/plain": [
       "   trip_distance  rate_code store_and_fwd_flag  payment_type  fare_amount  \\\n",
       "0          15.70          1                  N             2         45.0   \n",
       "1           7.30          1                  N             1         25.5   \n",
       "2          14.87          1                  N             1         40.5   \n",
       "3           2.90          1                  N             2         22.0   \n",
       "4           8.96          1                  N             1         32.0   \n",
       "\n",
       "   extra  mta_tax  tip_amount  tolls_amount  imp_surcharge  total_amount  \\\n",
       "0    0.0      0.5        0.00          0.00            0.3         45.80   \n",
       "1    0.0      0.5        7.89          0.00            0.3         34.19   \n",
       "2    0.5      0.5        8.36          0.00            0.3         50.16   \n",
       "3    0.0      0.5        0.00          0.00            0.3         22.80   \n",
       "4    0.0      0.5        0.00          5.76            0.3         38.56   \n",
       "\n",
       "   pickup_location_id  dropoff_location_id  year  month  day  day_of_week  \\\n",
       "0                 132                  146  2018     10   20            5   \n",
       "1                 186                   69  2018      2   24            5   \n",
       "2                 138                   89  2018      9   11            1   \n",
       "3                  90                  162  2018      6    7            3   \n",
       "4                 138                  186  2018      4   20            4   \n",
       "\n",
       "   hour_of_day  trip_duration  \n",
       "0           16         3967.0  \n",
       "1           15         1491.0  \n",
       "2           22         1395.0  \n",
       "3           11         1742.0  \n",
       "4           10         1623.0  "
      ]
     },
     "execution_count": 80,
     "metadata": {},
     "output_type": "execute_result"
    }
   ],
   "source": [
    "test = pd.read_csv('test.csv')\n",
    "test.head()"
   ]
  },
  {
   "cell_type": "code",
   "execution_count": 81,
   "id": "fa40187f",
   "metadata": {},
   "outputs": [
    {
     "data": {
      "text/plain": [
       "(15000, 19)"
      ]
     },
     "execution_count": 81,
     "metadata": {},
     "output_type": "execute_result"
    }
   ],
   "source": [
    "test.shape"
   ]
  },
  {
   "cell_type": "code",
   "execution_count": 82,
   "id": "f9bd8703",
   "metadata": {},
   "outputs": [
    {
     "data": {
      "text/plain": [
       "trip_distance          0\n",
       "rate_code              0\n",
       "store_and_fwd_flag     0\n",
       "payment_type           0\n",
       "fare_amount            0\n",
       "extra                  0\n",
       "mta_tax                0\n",
       "tip_amount             0\n",
       "tolls_amount           0\n",
       "imp_surcharge          0\n",
       "total_amount           0\n",
       "pickup_location_id     0\n",
       "dropoff_location_id    0\n",
       "year                   0\n",
       "month                  0\n",
       "day                    0\n",
       "day_of_week            0\n",
       "hour_of_day            0\n",
       "trip_duration          0\n",
       "dtype: int64"
      ]
     },
     "execution_count": 82,
     "metadata": {},
     "output_type": "execute_result"
    }
   ],
   "source": [
    "test.isnull().sum()"
   ]
  },
  {
   "cell_type": "code",
   "execution_count": 83,
   "id": "c098d521",
   "metadata": {},
   "outputs": [
    {
     "data": {
      "text/html": [
       "<div>\n",
       "<style scoped>\n",
       "    .dataframe tbody tr th:only-of-type {\n",
       "        vertical-align: middle;\n",
       "    }\n",
       "\n",
       "    .dataframe tbody tr th {\n",
       "        vertical-align: top;\n",
       "    }\n",
       "\n",
       "    .dataframe thead th {\n",
       "        text-align: right;\n",
       "    }\n",
       "</style>\n",
       "<table border=\"1\" class=\"dataframe\">\n",
       "  <thead>\n",
       "    <tr style=\"text-align: right;\">\n",
       "      <th></th>\n",
       "      <th>trip_distance</th>\n",
       "      <th>rate_code</th>\n",
       "      <th>store_and_fwd_flag</th>\n",
       "      <th>payment_type</th>\n",
       "      <th>fare_amount</th>\n",
       "      <th>extra</th>\n",
       "      <th>mta_tax</th>\n",
       "      <th>tip_amount</th>\n",
       "      <th>tolls_amount</th>\n",
       "      <th>imp_surcharge</th>\n",
       "      <th>total_amount</th>\n",
       "      <th>pickup_location_id</th>\n",
       "      <th>dropoff_location_id</th>\n",
       "      <th>year</th>\n",
       "      <th>month</th>\n",
       "      <th>day</th>\n",
       "      <th>day_of_week</th>\n",
       "      <th>hour_of_day</th>\n",
       "      <th>trip_duration</th>\n",
       "      <th>calculated_total_amount</th>\n",
       "    </tr>\n",
       "  </thead>\n",
       "  <tbody>\n",
       "    <tr>\n",
       "      <th>0</th>\n",
       "      <td>9.01</td>\n",
       "      <td>1</td>\n",
       "      <td>N</td>\n",
       "      <td>1</td>\n",
       "      <td>26.0</td>\n",
       "      <td>0.0</td>\n",
       "      <td>0.5</td>\n",
       "      <td>8.14</td>\n",
       "      <td>5.76</td>\n",
       "      <td>0.3</td>\n",
       "      <td>40.70</td>\n",
       "      <td>262</td>\n",
       "      <td>138</td>\n",
       "      <td>2018</td>\n",
       "      <td>3</td>\n",
       "      <td>7</td>\n",
       "      <td>2</td>\n",
       "      <td>6</td>\n",
       "      <td>2131.0</td>\n",
       "      <td>24.30</td>\n",
       "    </tr>\n",
       "    <tr>\n",
       "      <th>1</th>\n",
       "      <td>0.20</td>\n",
       "      <td>1</td>\n",
       "      <td>N</td>\n",
       "      <td>1</td>\n",
       "      <td>3.0</td>\n",
       "      <td>0.0</td>\n",
       "      <td>0.5</td>\n",
       "      <td>0.75</td>\n",
       "      <td>0.00</td>\n",
       "      <td>0.3</td>\n",
       "      <td>4.55</td>\n",
       "      <td>263</td>\n",
       "      <td>236</td>\n",
       "      <td>2018</td>\n",
       "      <td>2</td>\n",
       "      <td>25</td>\n",
       "      <td>6</td>\n",
       "      <td>10</td>\n",
       "      <td>2377.0</td>\n",
       "      <td>37.40</td>\n",
       "    </tr>\n",
       "    <tr>\n",
       "      <th>2</th>\n",
       "      <td>9.65</td>\n",
       "      <td>1</td>\n",
       "      <td>N</td>\n",
       "      <td>1</td>\n",
       "      <td>41.5</td>\n",
       "      <td>0.0</td>\n",
       "      <td>0.5</td>\n",
       "      <td>9.61</td>\n",
       "      <td>5.76</td>\n",
       "      <td>0.3</td>\n",
       "      <td>57.67</td>\n",
       "      <td>138</td>\n",
       "      <td>230</td>\n",
       "      <td>2018</td>\n",
       "      <td>1</td>\n",
       "      <td>29</td>\n",
       "      <td>0</td>\n",
       "      <td>8</td>\n",
       "      <td>1286.0</td>\n",
       "      <td>30.36</td>\n",
       "    </tr>\n",
       "    <tr>\n",
       "      <th>3</th>\n",
       "      <td>9.50</td>\n",
       "      <td>1</td>\n",
       "      <td>N</td>\n",
       "      <td>1</td>\n",
       "      <td>30.0</td>\n",
       "      <td>0.5</td>\n",
       "      <td>0.5</td>\n",
       "      <td>9.25</td>\n",
       "      <td>5.76</td>\n",
       "      <td>0.3</td>\n",
       "      <td>46.31</td>\n",
       "      <td>186</td>\n",
       "      <td>138</td>\n",
       "      <td>2018</td>\n",
       "      <td>9</td>\n",
       "      <td>25</td>\n",
       "      <td>1</td>\n",
       "      <td>20</td>\n",
       "      <td>2586.0</td>\n",
       "      <td>4.30</td>\n",
       "    </tr>\n",
       "    <tr>\n",
       "      <th>4</th>\n",
       "      <td>5.80</td>\n",
       "      <td>1</td>\n",
       "      <td>N</td>\n",
       "      <td>1</td>\n",
       "      <td>21.5</td>\n",
       "      <td>0.5</td>\n",
       "      <td>0.5</td>\n",
       "      <td>4.56</td>\n",
       "      <td>0.00</td>\n",
       "      <td>0.3</td>\n",
       "      <td>27.36</td>\n",
       "      <td>162</td>\n",
       "      <td>87</td>\n",
       "      <td>2018</td>\n",
       "      <td>8</td>\n",
       "      <td>20</td>\n",
       "      <td>0</td>\n",
       "      <td>21</td>\n",
       "      <td>1575.0</td>\n",
       "      <td>23.80</td>\n",
       "    </tr>\n",
       "  </tbody>\n",
       "</table>\n",
       "</div>"
      ],
      "text/plain": [
       "   trip_distance  rate_code store_and_fwd_flag  payment_type  fare_amount  \\\n",
       "0           9.01          1                  N             1         26.0   \n",
       "1           0.20          1                  N             1          3.0   \n",
       "2           9.65          1                  N             1         41.5   \n",
       "3           9.50          1                  N             1         30.0   \n",
       "4           5.80          1                  N             1         21.5   \n",
       "\n",
       "   extra  mta_tax  tip_amount  tolls_amount  imp_surcharge  total_amount  \\\n",
       "0    0.0      0.5        8.14          5.76            0.3         40.70   \n",
       "1    0.0      0.5        0.75          0.00            0.3          4.55   \n",
       "2    0.0      0.5        9.61          5.76            0.3         57.67   \n",
       "3    0.5      0.5        9.25          5.76            0.3         46.31   \n",
       "4    0.5      0.5        4.56          0.00            0.3         27.36   \n",
       "\n",
       "   pickup_location_id  dropoff_location_id  year  month  day  day_of_week  \\\n",
       "0                 262                  138  2018      3    7            2   \n",
       "1                 263                  236  2018      2   25            6   \n",
       "2                 138                  230  2018      1   29            0   \n",
       "3                 186                  138  2018      9   25            1   \n",
       "4                 162                   87  2018      8   20            0   \n",
       "\n",
       "   hour_of_day  trip_duration  calculated_total_amount  \n",
       "0            6         2131.0                    24.30  \n",
       "1           10         2377.0                    37.40  \n",
       "2            8         1286.0                    30.36  \n",
       "3           20         2586.0                     4.30  \n",
       "4           21         1575.0                    23.80  "
      ]
     },
     "execution_count": 83,
     "metadata": {},
     "output_type": "execute_result"
    }
   ],
   "source": [
    "combined = pd.concat([train, test], axis = 0)\n",
    "combined.head()"
   ]
  },
  {
   "cell_type": "code",
   "execution_count": 84,
   "id": "3cfa381e",
   "metadata": {},
   "outputs": [],
   "source": [
    "combined['store_and_fwd_flag'] = combined['store_and_fwd_flag'].replace({'N':0, 'Y': 1})\n",
    "combined['store_and_fwd_flag'] = combined['store_and_fwd_flag'].astype(int)"
   ]
  },
  {
   "cell_type": "code",
   "execution_count": 85,
   "id": "72b77e7c",
   "metadata": {},
   "outputs": [],
   "source": [
    "combined = combined.drop(['pickup_location_id', 'dropoff_location_id', 'year', 'store_and_fwd_flag', 'imp_surcharge', \n",
    "                         'mta_tax', 'payment_type', 'rate_code'], axis = 1)"
   ]
  },
  {
   "cell_type": "code",
   "execution_count": 86,
   "id": "e6a49397",
   "metadata": {},
   "outputs": [
    {
     "data": {
      "text/plain": [
       "(35000, 12)"
      ]
     },
     "execution_count": 86,
     "metadata": {},
     "output_type": "execute_result"
    }
   ],
   "source": [
    "newtrain = combined.iloc[0:35000, :]\n",
    "newtrain.shape"
   ]
  },
  {
   "cell_type": "code",
   "execution_count": 87,
   "id": "06f8848a",
   "metadata": {},
   "outputs": [
    {
     "data": {
      "text/html": [
       "<div>\n",
       "<style scoped>\n",
       "    .dataframe tbody tr th:only-of-type {\n",
       "        vertical-align: middle;\n",
       "    }\n",
       "\n",
       "    .dataframe tbody tr th {\n",
       "        vertical-align: top;\n",
       "    }\n",
       "\n",
       "    .dataframe thead th {\n",
       "        text-align: right;\n",
       "    }\n",
       "</style>\n",
       "<table border=\"1\" class=\"dataframe\">\n",
       "  <thead>\n",
       "    <tr style=\"text-align: right;\">\n",
       "      <th></th>\n",
       "      <th>trip_distance</th>\n",
       "      <th>fare_amount</th>\n",
       "      <th>extra</th>\n",
       "      <th>tip_amount</th>\n",
       "      <th>tolls_amount</th>\n",
       "      <th>total_amount</th>\n",
       "      <th>month</th>\n",
       "      <th>day</th>\n",
       "      <th>day_of_week</th>\n",
       "      <th>hour_of_day</th>\n",
       "      <th>trip_duration</th>\n",
       "    </tr>\n",
       "  </thead>\n",
       "  <tbody>\n",
       "    <tr>\n",
       "      <th>0</th>\n",
       "      <td>15.70</td>\n",
       "      <td>45.0</td>\n",
       "      <td>0.0</td>\n",
       "      <td>0.00</td>\n",
       "      <td>0.00</td>\n",
       "      <td>45.80</td>\n",
       "      <td>10</td>\n",
       "      <td>20</td>\n",
       "      <td>5</td>\n",
       "      <td>16</td>\n",
       "      <td>3967.0</td>\n",
       "    </tr>\n",
       "    <tr>\n",
       "      <th>1</th>\n",
       "      <td>7.30</td>\n",
       "      <td>25.5</td>\n",
       "      <td>0.0</td>\n",
       "      <td>7.89</td>\n",
       "      <td>0.00</td>\n",
       "      <td>34.19</td>\n",
       "      <td>2</td>\n",
       "      <td>24</td>\n",
       "      <td>5</td>\n",
       "      <td>15</td>\n",
       "      <td>1491.0</td>\n",
       "    </tr>\n",
       "    <tr>\n",
       "      <th>2</th>\n",
       "      <td>14.87</td>\n",
       "      <td>40.5</td>\n",
       "      <td>0.5</td>\n",
       "      <td>8.36</td>\n",
       "      <td>0.00</td>\n",
       "      <td>50.16</td>\n",
       "      <td>9</td>\n",
       "      <td>11</td>\n",
       "      <td>1</td>\n",
       "      <td>22</td>\n",
       "      <td>1395.0</td>\n",
       "    </tr>\n",
       "    <tr>\n",
       "      <th>3</th>\n",
       "      <td>2.90</td>\n",
       "      <td>22.0</td>\n",
       "      <td>0.0</td>\n",
       "      <td>0.00</td>\n",
       "      <td>0.00</td>\n",
       "      <td>22.80</td>\n",
       "      <td>6</td>\n",
       "      <td>7</td>\n",
       "      <td>3</td>\n",
       "      <td>11</td>\n",
       "      <td>1742.0</td>\n",
       "    </tr>\n",
       "    <tr>\n",
       "      <th>4</th>\n",
       "      <td>8.96</td>\n",
       "      <td>32.0</td>\n",
       "      <td>0.0</td>\n",
       "      <td>0.00</td>\n",
       "      <td>5.76</td>\n",
       "      <td>38.56</td>\n",
       "      <td>4</td>\n",
       "      <td>20</td>\n",
       "      <td>4</td>\n",
       "      <td>10</td>\n",
       "      <td>1623.0</td>\n",
       "    </tr>\n",
       "  </tbody>\n",
       "</table>\n",
       "</div>"
      ],
      "text/plain": [
       "   trip_distance  fare_amount  extra  tip_amount  tolls_amount  total_amount  \\\n",
       "0          15.70         45.0    0.0        0.00          0.00         45.80   \n",
       "1           7.30         25.5    0.0        7.89          0.00         34.19   \n",
       "2          14.87         40.5    0.5        8.36          0.00         50.16   \n",
       "3           2.90         22.0    0.0        0.00          0.00         22.80   \n",
       "4           8.96         32.0    0.0        0.00          5.76         38.56   \n",
       "\n",
       "   month  day  day_of_week  hour_of_day  trip_duration  \n",
       "0     10   20            5           16         3967.0  \n",
       "1      2   24            5           15         1491.0  \n",
       "2      9   11            1           22         1395.0  \n",
       "3      6    7            3           11         1742.0  \n",
       "4      4   20            4           10         1623.0  "
      ]
     },
     "execution_count": 87,
     "metadata": {},
     "output_type": "execute_result"
    }
   ],
   "source": [
    "newtest = combined.iloc[35000:, :-1]\n",
    "newtest.head()"
   ]
  },
  {
   "cell_type": "code",
   "execution_count": 88,
   "id": "615eaaad",
   "metadata": {},
   "outputs": [
    {
     "data": {
      "text/plain": [
       "(15000, 11)"
      ]
     },
     "execution_count": 88,
     "metadata": {},
     "output_type": "execute_result"
    }
   ],
   "source": [
    "newtest.shape"
   ]
  },
  {
   "cell_type": "code",
   "execution_count": 89,
   "id": "d71c0b0b",
   "metadata": {},
   "outputs": [
    {
     "data": {
      "text/plain": [
       "<AxesSubplot:>"
      ]
     },
     "execution_count": 89,
     "metadata": {},
     "output_type": "execute_result"
    },
    {
     "data": {
      "image/png": "[encoded data removed]",
      "text/plain": [
       "<Figure size 1440x1440 with 2 Axes>"
      ]
     },
     "metadata": {
      "needs_background": "light"
     },
     "output_type": "display_data"
    }
   ],
   "source": [
    "plt.figure(figsize=(20, 20))\n",
    "sns.heatmap(newtrain.corr(), annot= True)"
   ]
  },
  {
   "cell_type": "code",
   "execution_count": 90,
   "id": "ba9ccd96",
   "metadata": {},
   "outputs": [
    {
     "name": "stderr",
     "output_type": "stream",
     "text": [
      "C:\\Users\\Akshay.Patil\\Anaconda3\\lib\\site-packages\\seaborn\\_decorators.py:36: FutureWarning: Pass the following variable as a keyword arg: x. From version 0.12, the only valid positional argument will be `data`, and passing other arguments without an explicit keyword will result in an error or misinterpretation.\n",
      "  warnings.warn(\n"
     ]
    },
    {
     "data": {
      "text/plain": [
       "<AxesSubplot:xlabel='trip_distance'>"
      ]
     },
     "execution_count": 90,
     "metadata": {},
     "output_type": "execute_result"
    },
    {
     "data": {
      "image/png": "[encoded data removed]",
      "text/plain": [
       "<Figure size 432x288 with 1 Axes>"
      ]
     },
     "metadata": {
      "needs_background": "light"
     },
     "output_type": "display_data"
    }
   ],
   "source": [
    "sns.boxplot(newtrain['trip_distance'])"
   ]
  },
  {
   "cell_type": "code",
   "execution_count": 91,
   "id": "bbfee556",
   "metadata": {},
   "outputs": [
    {
     "name": "stderr",
     "output_type": "stream",
     "text": [
      "C:\\Users\\Akshay.Patil\\Anaconda3\\lib\\site-packages\\seaborn\\_decorators.py:36: FutureWarning: Pass the following variable as a keyword arg: x. From version 0.12, the only valid positional argument will be `data`, and passing other arguments without an explicit keyword will result in an error or misinterpretation.\n",
      "  warnings.warn(\n"
     ]
    },
    {
     "data": {
      "text/plain": [
       "<AxesSubplot:xlabel='fare_amount'>"
      ]
     },
     "execution_count": 91,
     "metadata": {},
     "output_type": "execute_result"
    },
    {
     "data": {
      "image/png": "[encoded data removed]",
      "text/plain": [
       "<Figure size 432x288 with 1 Axes>"
      ]
     },
     "metadata": {
      "needs_background": "light"
     },
     "output_type": "display_data"
    }
   ],
   "source": [
    "sns.boxplot(newtrain['fare_amount'])"
   ]
  },
  {
   "cell_type": "code",
   "execution_count": 92,
   "id": "6b5f198c",
   "metadata": {},
   "outputs": [
    {
     "name": "stderr",
     "output_type": "stream",
     "text": [
      "C:\\Users\\Akshay.Patil\\Anaconda3\\lib\\site-packages\\seaborn\\_decorators.py:36: FutureWarning: Pass the following variable as a keyword arg: x. From version 0.12, the only valid positional argument will be `data`, and passing other arguments without an explicit keyword will result in an error or misinterpretation.\n",
      "  warnings.warn(\n"
     ]
    },
    {
     "data": {
      "text/plain": [
       "<AxesSubplot:xlabel='tip_amount'>"
      ]
     },
     "execution_count": 92,
     "metadata": {},
     "output_type": "execute_result"
    },
    {
     "data": {
      "image/png": "[encoded data removed]",
      "text/plain": [
       "<Figure size 432x288 with 1 Axes>"
      ]
     },
     "metadata": {
      "needs_background": "light"
     },
     "output_type": "display_data"
    }
   ],
   "source": [
    "sns.boxplot(newtrain['tip_amount'])"
   ]
  },
  {
   "cell_type": "code",
   "execution_count": 93,
   "id": "03b33070",
   "metadata": {},
   "outputs": [
    {
     "name": "stderr",
     "output_type": "stream",
     "text": [
      "C:\\Users\\Akshay.Patil\\Anaconda3\\lib\\site-packages\\seaborn\\_decorators.py:36: FutureWarning: Pass the following variable as a keyword arg: x. From version 0.12, the only valid positional argument will be `data`, and passing other arguments without an explicit keyword will result in an error or misinterpretation.\n",
      "  warnings.warn(\n"
     ]
    },
    {
     "data": {
      "text/plain": [
       "<AxesSubplot:xlabel='total_amount'>"
      ]
     },
     "execution_count": 93,
     "metadata": {},
     "output_type": "execute_result"
    },
    {
     "data": {
      "image/png": "[encoded data removed]",
      "text/plain": [
       "<Figure size 432x288 with 1 Axes>"
      ]
     },
     "metadata": {
      "needs_background": "light"
     },
     "output_type": "display_data"
    }
   ],
   "source": [
    "sns.boxplot(newtrain['total_amount'])"
   ]
  },
  {
   "cell_type": "code",
   "execution_count": 94,
   "id": "86aae688",
   "metadata": {},
   "outputs": [
    {
     "data": {
      "image/png": "[encoded data removed]",
      "text/plain": [
       "<Figure size 432x288 with 1 Axes>"
      ]
     },
     "metadata": {
      "needs_background": "light"
     },
     "output_type": "display_data"
    }
   ],
   "source": [
    "ax = newtest[['tip_amount', 'total_amount']].plot(kind = 'box')\n",
    "plt.show()"
   ]
  },
  {
   "cell_type": "code",
   "execution_count": 95,
   "id": "9cb59510",
   "metadata": {},
   "outputs": [
    {
     "data": {
      "image/png": "[encoded data removed]",
      "text/plain": [
       "<Figure size 432x288 with 1 Axes>"
      ]
     },
     "metadata": {
      "needs_background": "light"
     },
     "output_type": "display_data"
    }
   ],
   "source": [
    "ax = newtest[['trip_distance', 'fare_amount']].plot(kind = 'box')\n",
    "plt.show()"
   ]
  },
  {
   "cell_type": "code",
   "execution_count": 96,
   "id": "81b8bbb1",
   "metadata": {},
   "outputs": [],
   "source": [
    "def scaling_function(df,column_name):\n",
    "    for i in df[column_name]:\n",
    "        q1 = df[column_name].quantile(0.25)\n",
    "        q3 = df[column_name].quantile(0.75)\n",
    "        iqr = q3-q1\n",
    "        lower = q1 - 1.5 * iqr\n",
    "        upper = q3 + 1.5 * iqr\n",
    "        if i > upper or i < lower:\n",
    "            df[column_name] = df[column_name].replace(i, np.median(df[column_name]))"
   ]
  },
  {
   "cell_type": "code",
   "execution_count": 97,
   "id": "334be6ff",
   "metadata": {},
   "outputs": [],
   "source": [
    "scaling_function(newtest,'trip_distance')"
   ]
  },
  {
   "cell_type": "code",
   "execution_count": 98,
   "id": "fdc19658",
   "metadata": {},
   "outputs": [],
   "source": [
    "scaling_function(newtest,'fare_amount')"
   ]
  },
  {
   "cell_type": "code",
   "execution_count": 99,
   "id": "8dc497f0",
   "metadata": {},
   "outputs": [],
   "source": [
    "scaling_function(newtest,'tip_amount')"
   ]
  },
  {
   "cell_type": "code",
   "execution_count": 100,
   "id": "2b5664f9",
   "metadata": {},
   "outputs": [],
   "source": [
    "scaling_function(newtest,'total_amount')"
   ]
  },
  {
   "cell_type": "code",
   "execution_count": 101,
   "id": "285403b0",
   "metadata": {},
   "outputs": [
    {
     "name": "stderr",
     "output_type": "stream",
     "text": [
      "<ipython-input-96-dd5846ce1334>:9: SettingWithCopyWarning: \n",
      "A value is trying to be set on a copy of a slice from a DataFrame.\n",
      "Try using .loc[row_indexer,col_indexer] = value instead\n",
      "\n",
      "See the caveats in the documentation: https://pandas.pydata.org/pandas-docs/stable/user_guide/indexing.html#returning-a-view-versus-a-copy\n",
      "  df[column_name] = df[column_name].replace(i, np.median(df[column_name]))\n"
     ]
    }
   ],
   "source": [
    "scaling_function(newtrain,'trip_distance')"
   ]
  },
  {
   "cell_type": "code",
   "execution_count": 102,
   "id": "7e4ea5a9",
   "metadata": {},
   "outputs": [
    {
     "name": "stderr",
     "output_type": "stream",
     "text": [
      "<ipython-input-96-dd5846ce1334>:9: SettingWithCopyWarning: \n",
      "A value is trying to be set on a copy of a slice from a DataFrame.\n",
      "Try using .loc[row_indexer,col_indexer] = value instead\n",
      "\n",
      "See the caveats in the documentation: https://pandas.pydata.org/pandas-docs/stable/user_guide/indexing.html#returning-a-view-versus-a-copy\n",
      "  df[column_name] = df[column_name].replace(i, np.median(df[column_name]))\n"
     ]
    }
   ],
   "source": [
    "scaling_function(newtrain,'fare_amount')"
   ]
  },
  {
   "cell_type": "code",
   "execution_count": 103,
   "id": "54e41286",
   "metadata": {},
   "outputs": [
    {
     "name": "stderr",
     "output_type": "stream",
     "text": [
      "<ipython-input-96-dd5846ce1334>:9: SettingWithCopyWarning: \n",
      "A value is trying to be set on a copy of a slice from a DataFrame.\n",
      "Try using .loc[row_indexer,col_indexer] = value instead\n",
      "\n",
      "See the caveats in the documentation: https://pandas.pydata.org/pandas-docs/stable/user_guide/indexing.html#returning-a-view-versus-a-copy\n",
      "  df[column_name] = df[column_name].replace(i, np.median(df[column_name]))\n"
     ]
    }
   ],
   "source": [
    "scaling_function(newtrain,'tip_amount')"
   ]
  },
  {
   "cell_type": "code",
   "execution_count": 104,
   "id": "7df4af83",
   "metadata": {},
   "outputs": [
    {
     "name": "stderr",
     "output_type": "stream",
     "text": [
      "<ipython-input-96-dd5846ce1334>:9: SettingWithCopyWarning: \n",
      "A value is trying to be set on a copy of a slice from a DataFrame.\n",
      "Try using .loc[row_indexer,col_indexer] = value instead\n",
      "\n",
      "See the caveats in the documentation: https://pandas.pydata.org/pandas-docs/stable/user_guide/indexing.html#returning-a-view-versus-a-copy\n",
      "  df[column_name] = df[column_name].replace(i, np.median(df[column_name]))\n"
     ]
    }
   ],
   "source": [
    "scaling_function(newtrain,'total_amount')"
   ]
  },
  {
   "cell_type": "code",
   "execution_count": 122,
   "id": "45648a1d",
   "metadata": {},
   "outputs": [],
   "source": [
    "x = newtrain.drop('calculated_total_amount', axis = 1)\n",
    "y = newtrain['calculated_total_amount']"
   ]
  },
  {
   "cell_type": "code",
   "execution_count": 123,
   "id": "f930c040",
   "metadata": {},
   "outputs": [],
   "source": [
    "from sklearn.model_selection import train_test_split\n",
    "x_train, x_test, y_train, y_test = train_test_split(x, y, test_size = 0.2, random_state = 1)"
   ]
  },
  {
   "cell_type": "code",
   "execution_count": 107,
   "id": "4b449365",
   "metadata": {},
   "outputs": [],
   "source": [
    "from sklearn.metrics import mean_squared_error"
   ]
  },
  {
   "cell_type": "code",
   "execution_count": 108,
   "id": "47648677",
   "metadata": {},
   "outputs": [
    {
     "name": "stdout",
     "output_type": "stream",
     "text": [
      "19.033062583687784\n"
     ]
    }
   ],
   "source": [
    "from sklearn.linear_model import LinearRegression\n",
    "lr = LinearRegression()\n",
    "y_pred = lr.fit(x_train, y_train).predict(x_test)\n",
    "print(np.sqrt(mean_squared_error(y_test, y_pred)))"
   ]
  },
  {
   "cell_type": "code",
   "execution_count": 109,
   "id": "d404098e",
   "metadata": {},
   "outputs": [
    {
     "name": "stdout",
     "output_type": "stream",
     "text": [
      "19.57126638383566\n"
     ]
    }
   ],
   "source": [
    "from sklearn.ensemble import RandomForestRegressor\n",
    "rf = RandomForestRegressor()\n",
    "y_pred = rf.fit(x_train, y_train).predict(x_test)\n",
    "print(np.sqrt(mean_squared_error(y_test, y_pred)))"
   ]
  },
  {
   "cell_type": "code",
   "execution_count": 110,
   "id": "e6b0825e",
   "metadata": {},
   "outputs": [
    {
     "data": {
      "image/png": "[encoded data removed]",
      "text/plain": [
       "<Figure size 432x288 with 1 Axes>"
      ]
     },
     "metadata": {
      "needs_background": "light"
     },
     "output_type": "display_data"
    }
   ],
   "source": [
    "feature_imp = pd.DataFrame(sorted(zip(rf.feature_importances_, x.columns), reverse=True)[:20], columns=['Value','Feature'])\n",
    "sns.barplot(x=\"Value\", y=\"Feature\", data=feature_imp.sort_values(by=\"Value\", ascending=False))\n",
    "plt.title('RF Features')\n",
    "plt.tight_layout()\n",
    "plt.show()\n"
   ]
  },
  {
   "cell_type": "code",
   "execution_count": 126,
   "id": "08d4fc9d",
   "metadata": {},
   "outputs": [],
   "source": [
    "x_train = newtrain.drop(['calculated_total_amount', 'extra', 'tolls_amount'], axis = 1)\n",
    "y_train = newtrain['calculated_total_amount']\n",
    "x_test = newtest.drop([ 'extra', 'tolls_amount'], axis = 1)"
   ]
  },
  {
   "cell_type": "code",
   "execution_count": 2,
   "id": "d712f17a",
   "metadata": {},
   "outputs": [],
   "source": [
    "from sklearn.ensemble import RandomForestRegressor\n",
    "rf = RandomForestRegressor()\n",
    "y_pred = rf.fit(x_train, y_train).predict(x_test)\n",
    "solution = pd.DataFrame({'calculated_total_amount': y_pred})\n",
    "solution.to_csv('Solution.csv', index = False)"
   ]
  },
  {
   "cell_type": "code",
   "execution_count": null,
   "id": "f67c32c8",
   "metadata": {},
   "outputs": [],
   "source": []
  }
 ],
 "metadata": {
  "kernelspec": {
   "display_name": "Python 3 (ipykernel)",
   "language": "python",
   "name": "python3"
  },
  "language_info": {
   "codemirror_mode": {
    "name": "ipython",
    "version": 3
   },
   "file_extension": ".py",
   "mimetype": "text/x-python",
   "name": "python",
   "nbconvert_exporter": "python",
   "pygments_lexer": "ipython3",
   "version": "3.9.7"
  }
 },
 "nbformat": 4,
 "nbformat_minor": 5
}
