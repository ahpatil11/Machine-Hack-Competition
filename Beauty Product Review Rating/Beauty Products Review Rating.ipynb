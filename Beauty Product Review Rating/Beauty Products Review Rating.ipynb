{
 "cells": [
  {
   "cell_type": "code",
   "execution_count": 158,
   "id": "442f8ed3-8ab2-4c3e-859d-ecb23d577133",
   "metadata": {},
   "outputs": [],
   "source": [
    "import numpy as np\n",
    "import pandas as pd\n",
    "import matplotlib.pyplot as plt\n",
    "import seaborn as sns\n",
    "from sklearn.feature_extraction.text import TfidfVectorizer\n",
    "from sklearn.preprocessing import LabelEncoder, MinMaxScaler\n",
    "from sklearn.model_selection import train_test_split\n",
    "from sklearn.ensemble import RandomForestRegressor\n",
    "from xgboost import XGBRegressor\n",
    "from sklearn.metrics import mean_squared_error\n",
    "from scipy.sparse import hstack"
   ]
  },
  {
   "cell_type": "code",
   "execution_count": 159,
   "id": "4777b4b5-dae3-4b02-8ecc-e8e884fca7d1",
   "metadata": {},
   "outputs": [
    {
     "data": {
      "text/html": [
       "<div>\n",
       "<style scoped>\n",
       "    .dataframe tbody tr th:only-of-type {\n",
       "        vertical-align: middle;\n",
       "    }\n",
       "\n",
       "    .dataframe tbody tr th {\n",
       "        vertical-align: top;\n",
       "    }\n",
       "\n",
       "    .dataframe thead th {\n",
       "        text-align: right;\n",
       "    }\n",
       "</style>\n",
       "<table border=\"1\" class=\"dataframe\">\n",
       "  <thead>\n",
       "    <tr style=\"text-align: right;\">\n",
       "      <th></th>\n",
       "      <th>rating</th>\n",
       "      <th>title</th>\n",
       "      <th>text</th>\n",
       "      <th>asin</th>\n",
       "      <th>parent_asin</th>\n",
       "      <th>timestamp</th>\n",
       "      <th>helpful_vote</th>\n",
       "      <th>verified_purchase</th>\n",
       "    </tr>\n",
       "  </thead>\n",
       "  <tbody>\n",
       "    <tr>\n",
       "      <th>0</th>\n",
       "      <td>5</td>\n",
       "      <td>Unique and authentic</td>\n",
       "      <td>A very classy and chic look. This necklace is ...</td>\n",
       "      <td>B0107QYW14</td>\n",
       "      <td>B0107QYW14</td>\n",
       "      <td>1.460000e+12</td>\n",
       "      <td>2</td>\n",
       "      <td>True</td>\n",
       "    </tr>\n",
       "    <tr>\n",
       "      <th>1</th>\n",
       "      <td>2</td>\n",
       "      <td>Uncomfortable</td>\n",
       "      <td>The cloth bands tend to scrunch up under my wi...</td>\n",
       "      <td>B08WX159BW</td>\n",
       "      <td>B08WX159BW</td>\n",
       "      <td>1.630000e+12</td>\n",
       "      <td>0</td>\n",
       "      <td>True</td>\n",
       "    </tr>\n",
       "    <tr>\n",
       "      <th>2</th>\n",
       "      <td>3</td>\n",
       "      <td>Something has changed for the worse</td>\n",
       "      <td>Really loved this product the first time I bou...</td>\n",
       "      <td>B083F76L79</td>\n",
       "      <td>B083F76L79</td>\n",
       "      <td>1.630000e+12</td>\n",
       "      <td>1</td>\n",
       "      <td>True</td>\n",
       "    </tr>\n",
       "    <tr>\n",
       "      <th>3</th>\n",
       "      <td>5</td>\n",
       "      <td>Five Stars</td>\n",
       "      <td>beautiful</td>\n",
       "      <td>B00FBXJ11K</td>\n",
       "      <td>B00FBXJ11K</td>\n",
       "      <td>1.440000e+12</td>\n",
       "      <td>0</td>\n",
       "      <td>True</td>\n",
       "    </tr>\n",
       "    <tr>\n",
       "      <th>4</th>\n",
       "      <td>3</td>\n",
       "      <td>1/4 and 3/4</td>\n",
       "      <td>I was so excited to get these.  I opened the b...</td>\n",
       "      <td>B00F029PWC</td>\n",
       "      <td>B00F029PWC</td>\n",
       "      <td>1.520000e+12</td>\n",
       "      <td>0</td>\n",
       "      <td>True</td>\n",
       "    </tr>\n",
       "  </tbody>\n",
       "</table>\n",
       "</div>"
      ],
      "text/plain": [
       "   rating                                title  \\\n",
       "0       5                 Unique and authentic   \n",
       "1       2                        Uncomfortable   \n",
       "2       3  Something has changed for the worse   \n",
       "3       5                           Five Stars   \n",
       "4       3                          1/4 and 3/4   \n",
       "\n",
       "                                                text        asin parent_asin  \\\n",
       "0  A very classy and chic look. This necklace is ...  B0107QYW14  B0107QYW14   \n",
       "1  The cloth bands tend to scrunch up under my wi...  B08WX159BW  B08WX159BW   \n",
       "2  Really loved this product the first time I bou...  B083F76L79  B083F76L79   \n",
       "3                                          beautiful  B00FBXJ11K  B00FBXJ11K   \n",
       "4  I was so excited to get these.  I opened the b...  B00F029PWC  B00F029PWC   \n",
       "\n",
       "      timestamp  helpful_vote  verified_purchase  \n",
       "0  1.460000e+12             2               True  \n",
       "1  1.630000e+12             0               True  \n",
       "2  1.630000e+12             1               True  \n",
       "3  1.440000e+12             0               True  \n",
       "4  1.520000e+12             0               True  "
      ]
     },
     "execution_count": 159,
     "metadata": {},
     "output_type": "execute_result"
    }
   ],
   "source": [
    "train = pd.read_csv('Train.csv')\n",
    "train.head()"
   ]
  },
  {
   "cell_type": "code",
   "execution_count": 160,
   "id": "395b6e4c-4e78-47ab-ad5e-19d47f201455",
   "metadata": {},
   "outputs": [
    {
     "data": {
      "text/plain": [
       "(39986, 8)"
      ]
     },
     "execution_count": 160,
     "metadata": {},
     "output_type": "execute_result"
    }
   ],
   "source": [
    "train.shape"
   ]
  },
  {
   "cell_type": "code",
   "execution_count": 161,
   "id": "3d798be7-1349-4adc-9268-211ae82b99ca",
   "metadata": {},
   "outputs": [
    {
     "data": {
      "text/plain": [
       "rating\n",
       "5    24105\n",
       "4     5499\n",
       "1     4297\n",
       "3     3678\n",
       "2     2407\n",
       "Name: count, dtype: int64"
      ]
     },
     "execution_count": 161,
     "metadata": {},
     "output_type": "execute_result"
    }
   ],
   "source": [
    "train['rating'].value_counts()"
   ]
  },
  {
   "cell_type": "code",
   "execution_count": 162,
   "id": "55074bed-f222-4fdf-9c82-f08f80727cb4",
   "metadata": {},
   "outputs": [
    {
     "data": {
      "text/plain": [
       "rating               0\n",
       "title                0\n",
       "text                 0\n",
       "asin                 0\n",
       "parent_asin          0\n",
       "timestamp            0\n",
       "helpful_vote         0\n",
       "verified_purchase    0\n",
       "dtype: int64"
      ]
     },
     "execution_count": 162,
     "metadata": {},
     "output_type": "execute_result"
    }
   ],
   "source": [
    "train.isnull().sum()"
   ]
  },
  {
   "cell_type": "code",
   "execution_count": 163,
   "id": "1c03fb8f-d64c-44e9-b7ee-4d66035052fe",
   "metadata": {},
   "outputs": [
    {
     "data": {
      "text/html": [
       "<div>\n",
       "<style scoped>\n",
       "    .dataframe tbody tr th:only-of-type {\n",
       "        vertical-align: middle;\n",
       "    }\n",
       "\n",
       "    .dataframe tbody tr th {\n",
       "        vertical-align: top;\n",
       "    }\n",
       "\n",
       "    .dataframe thead th {\n",
       "        text-align: right;\n",
       "    }\n",
       "</style>\n",
       "<table border=\"1\" class=\"dataframe\">\n",
       "  <thead>\n",
       "    <tr style=\"text-align: right;\">\n",
       "      <th></th>\n",
       "      <th>title</th>\n",
       "      <th>text</th>\n",
       "      <th>asin</th>\n",
       "      <th>parent_asin</th>\n",
       "      <th>timestamp</th>\n",
       "      <th>helpful_vote</th>\n",
       "      <th>verified_purchase</th>\n",
       "      <th>rating</th>\n",
       "    </tr>\n",
       "  </thead>\n",
       "  <tbody>\n",
       "    <tr>\n",
       "      <th>0</th>\n",
       "      <td>just a brush</td>\n",
       "      <td>I didn't realize I was buying just a brush.  I...</td>\n",
       "      <td>B07S29RTQZ</td>\n",
       "      <td>B07S29RTQZ</td>\n",
       "      <td>1.610000e+12</td>\n",
       "      <td>0</td>\n",
       "      <td>True</td>\n",
       "      <td>NaN</td>\n",
       "    </tr>\n",
       "    <tr>\n",
       "      <th>1</th>\n",
       "      <td>Easy fast and convenient to stay clean</td>\n",
       "      <td>Great for your purse and camping!  When the ki...</td>\n",
       "      <td>B07PWLXFR5</td>\n",
       "      <td>B07PWLXFR5</td>\n",
       "      <td>1.600000e+12</td>\n",
       "      <td>0</td>\n",
       "      <td>True</td>\n",
       "      <td>NaN</td>\n",
       "    </tr>\n",
       "    <tr>\n",
       "      <th>2</th>\n",
       "      <td>AVOID! Simply thicker personal wipes.</td>\n",
       "      <td>I expected a larger \"towel.\" Disappointed.  Th...</td>\n",
       "      <td>B01LXQTVNE</td>\n",
       "      <td>B01LXQTVNE</td>\n",
       "      <td>1.620000e+12</td>\n",
       "      <td>1</td>\n",
       "      <td>True</td>\n",
       "      <td>NaN</td>\n",
       "    </tr>\n",
       "    <tr>\n",
       "      <th>3</th>\n",
       "      <td>Five Stars</td>\n",
       "      <td>Great product!</td>\n",
       "      <td>B00N11BR2A</td>\n",
       "      <td>B00N11BR2A</td>\n",
       "      <td>1.520000e+12</td>\n",
       "      <td>2</td>\n",
       "      <td>True</td>\n",
       "      <td>NaN</td>\n",
       "    </tr>\n",
       "    <tr>\n",
       "      <th>4</th>\n",
       "      <td>It looks like the picture.</td>\n",
       "      <td>I don't  love it. But, I can and will wear it....</td>\n",
       "      <td>B08D7Q5J6Y</td>\n",
       "      <td>B08D7Q5J6Y</td>\n",
       "      <td>1.630000e+12</td>\n",
       "      <td>0</td>\n",
       "      <td>True</td>\n",
       "      <td>NaN</td>\n",
       "    </tr>\n",
       "  </tbody>\n",
       "</table>\n",
       "</div>"
      ],
      "text/plain": [
       "                                    title  \\\n",
       "0                            just a brush   \n",
       "1  Easy fast and convenient to stay clean   \n",
       "2   AVOID! Simply thicker personal wipes.   \n",
       "3                              Five Stars   \n",
       "4              It looks like the picture.   \n",
       "\n",
       "                                                text        asin parent_asin  \\\n",
       "0  I didn't realize I was buying just a brush.  I...  B07S29RTQZ  B07S29RTQZ   \n",
       "1  Great for your purse and camping!  When the ki...  B07PWLXFR5  B07PWLXFR5   \n",
       "2  I expected a larger \"towel.\" Disappointed.  Th...  B01LXQTVNE  B01LXQTVNE   \n",
       "3                                     Great product!  B00N11BR2A  B00N11BR2A   \n",
       "4  I don't  love it. But, I can and will wear it....  B08D7Q5J6Y  B08D7Q5J6Y   \n",
       "\n",
       "      timestamp  helpful_vote  verified_purchase  rating  \n",
       "0  1.610000e+12             0               True     NaN  \n",
       "1  1.600000e+12             0               True     NaN  \n",
       "2  1.620000e+12             1               True     NaN  \n",
       "3  1.520000e+12             2               True     NaN  \n",
       "4  1.630000e+12             0               True     NaN  "
      ]
     },
     "execution_count": 163,
     "metadata": {},
     "output_type": "execute_result"
    }
   ],
   "source": [
    "test = pd.read_csv('Test.csv')\n",
    "test.head()"
   ]
  },
  {
   "cell_type": "code",
   "execution_count": 164,
   "id": "1f8d72a1-0e80-4877-914f-f28691f0da99",
   "metadata": {},
   "outputs": [
    {
     "data": {
      "text/plain": [
       "(200, 8)"
      ]
     },
     "execution_count": 164,
     "metadata": {},
     "output_type": "execute_result"
    }
   ],
   "source": [
    "test.shape"
   ]
  },
  {
   "cell_type": "code",
   "execution_count": 165,
   "id": "30212e6b-71ea-4bba-a1dd-c9a27227c297",
   "metadata": {},
   "outputs": [
    {
     "data": {
      "text/plain": [
       "title                  0\n",
       "text                   0\n",
       "asin                   0\n",
       "parent_asin            0\n",
       "timestamp              0\n",
       "helpful_vote           0\n",
       "verified_purchase      0\n",
       "rating               200\n",
       "dtype: int64"
      ]
     },
     "execution_count": 165,
     "metadata": {},
     "output_type": "execute_result"
    }
   ],
   "source": [
    "test.isnull().sum()"
   ]
  },
  {
   "cell_type": "code",
   "execution_count": 166,
   "id": "418895b4-c236-4a98-9691-4721d0ca92ac",
   "metadata": {},
   "outputs": [
    {
     "data": {
      "text/html": [
       "<div>\n",
       "<style scoped>\n",
       "    .dataframe tbody tr th:only-of-type {\n",
       "        vertical-align: middle;\n",
       "    }\n",
       "\n",
       "    .dataframe tbody tr th {\n",
       "        vertical-align: top;\n",
       "    }\n",
       "\n",
       "    .dataframe thead th {\n",
       "        text-align: right;\n",
       "    }\n",
       "</style>\n",
       "<table border=\"1\" class=\"dataframe\">\n",
       "  <thead>\n",
       "    <tr style=\"text-align: right;\">\n",
       "      <th></th>\n",
       "      <th>rating</th>\n",
       "      <th>title</th>\n",
       "      <th>text</th>\n",
       "      <th>asin</th>\n",
       "      <th>parent_asin</th>\n",
       "      <th>timestamp</th>\n",
       "      <th>helpful_vote</th>\n",
       "      <th>verified_purchase</th>\n",
       "    </tr>\n",
       "  </thead>\n",
       "  <tbody>\n",
       "    <tr>\n",
       "      <th>0</th>\n",
       "      <td>5.0</td>\n",
       "      <td>Unique and authentic</td>\n",
       "      <td>A very classy and chic look. This necklace is ...</td>\n",
       "      <td>B0107QYW14</td>\n",
       "      <td>B0107QYW14</td>\n",
       "      <td>1.460000e+12</td>\n",
       "      <td>2</td>\n",
       "      <td>True</td>\n",
       "    </tr>\n",
       "    <tr>\n",
       "      <th>1</th>\n",
       "      <td>2.0</td>\n",
       "      <td>Uncomfortable</td>\n",
       "      <td>The cloth bands tend to scrunch up under my wi...</td>\n",
       "      <td>B08WX159BW</td>\n",
       "      <td>B08WX159BW</td>\n",
       "      <td>1.630000e+12</td>\n",
       "      <td>0</td>\n",
       "      <td>True</td>\n",
       "    </tr>\n",
       "    <tr>\n",
       "      <th>2</th>\n",
       "      <td>3.0</td>\n",
       "      <td>Something has changed for the worse</td>\n",
       "      <td>Really loved this product the first time I bou...</td>\n",
       "      <td>B083F76L79</td>\n",
       "      <td>B083F76L79</td>\n",
       "      <td>1.630000e+12</td>\n",
       "      <td>1</td>\n",
       "      <td>True</td>\n",
       "    </tr>\n",
       "    <tr>\n",
       "      <th>3</th>\n",
       "      <td>5.0</td>\n",
       "      <td>Five Stars</td>\n",
       "      <td>beautiful</td>\n",
       "      <td>B00FBXJ11K</td>\n",
       "      <td>B00FBXJ11K</td>\n",
       "      <td>1.440000e+12</td>\n",
       "      <td>0</td>\n",
       "      <td>True</td>\n",
       "    </tr>\n",
       "    <tr>\n",
       "      <th>4</th>\n",
       "      <td>3.0</td>\n",
       "      <td>1/4 and 3/4</td>\n",
       "      <td>I was so excited to get these.  I opened the b...</td>\n",
       "      <td>B00F029PWC</td>\n",
       "      <td>B00F029PWC</td>\n",
       "      <td>1.520000e+12</td>\n",
       "      <td>0</td>\n",
       "      <td>True</td>\n",
       "    </tr>\n",
       "  </tbody>\n",
       "</table>\n",
       "</div>"
      ],
      "text/plain": [
       "   rating                                title  \\\n",
       "0     5.0                 Unique and authentic   \n",
       "1     2.0                        Uncomfortable   \n",
       "2     3.0  Something has changed for the worse   \n",
       "3     5.0                           Five Stars   \n",
       "4     3.0                          1/4 and 3/4   \n",
       "\n",
       "                                                text        asin parent_asin  \\\n",
       "0  A very classy and chic look. This necklace is ...  B0107QYW14  B0107QYW14   \n",
       "1  The cloth bands tend to scrunch up under my wi...  B08WX159BW  B08WX159BW   \n",
       "2  Really loved this product the first time I bou...  B083F76L79  B083F76L79   \n",
       "3                                          beautiful  B00FBXJ11K  B00FBXJ11K   \n",
       "4  I was so excited to get these.  I opened the b...  B00F029PWC  B00F029PWC   \n",
       "\n",
       "      timestamp  helpful_vote  verified_purchase  \n",
       "0  1.460000e+12             2               True  \n",
       "1  1.630000e+12             0               True  \n",
       "2  1.630000e+12             1               True  \n",
       "3  1.440000e+12             0               True  \n",
       "4  1.520000e+12             0               True  "
      ]
     },
     "execution_count": 166,
     "metadata": {},
     "output_type": "execute_result"
    }
   ],
   "source": [
    "combined = pd.concat([train, test], axis = 0)\n",
    "combined.head()"
   ]
  },
  {
   "cell_type": "code",
   "execution_count": 167,
   "id": "f6b11809-0b9c-45ae-bb95-a57dd0c83e2a",
   "metadata": {},
   "outputs": [
    {
     "data": {
      "text/plain": [
       "(40186, 8)"
      ]
     },
     "execution_count": 167,
     "metadata": {},
     "output_type": "execute_result"
    }
   ],
   "source": [
    "combined.shape"
   ]
  },
  {
   "cell_type": "code",
   "execution_count": 168,
   "id": "aafb95aa-f89a-4032-b0b3-65925f86b24d",
   "metadata": {},
   "outputs": [],
   "source": [
    "combined[\"timestamp\"] = pd.to_datetime(combined[\"timestamp\"], unit=\"ms\")\n",
    "combined[\"year\"] = combined[\"timestamp\"].dt.year\n",
    "combined[\"month\"] = combined[\"timestamp\"].dt.month\n",
    "combined[\"day\"] = combined[\"timestamp\"].dt.day"
   ]
  },
  {
   "cell_type": "code",
   "execution_count": 169,
   "id": "4102a3bd-f212-4e81-b7f5-0378536612ca",
   "metadata": {},
   "outputs": [],
   "source": [
    "combined[\"asin\"] = LabelEncoder().fit_transform(combined[\"asin\"])\n",
    "combined[\"parent_asin\"] = LabelEncoder().fit_transform(combined[\"parent_asin\"])\n",
    "combined[\"verified_purchase\"] = combined[\"verified_purchase\"].astype(int)"
   ]
  },
  {
   "cell_type": "code",
   "execution_count": 170,
   "id": "0061d7a4-491e-4128-bd17-93c66baf5acf",
   "metadata": {},
   "outputs": [],
   "source": [
    "combined[\"helpful_vote\"] = MinMaxScaler().fit_transform(combined[[\"helpful_vote\"]])"
   ]
  },
  {
   "cell_type": "code",
   "execution_count": 171,
   "id": "190fa5c0-21ca-4081-b1ff-49af70fac010",
   "metadata": {},
   "outputs": [],
   "source": [
    "newtrain = combined.iloc[0:39986, :]\n",
    "newtest = combined.iloc[39986:, :]"
   ]
  },
  {
   "cell_type": "code",
   "execution_count": 172,
   "id": "ee0cd851-bcc3-4e69-b041-5bc6e803378f",
   "metadata": {},
   "outputs": [
    {
     "data": {
      "text/plain": [
       "(39986, 11)"
      ]
     },
     "execution_count": 172,
     "metadata": {},
     "output_type": "execute_result"
    }
   ],
   "source": [
    "newtrain.shape"
   ]
  },
  {
   "cell_type": "code",
   "execution_count": 173,
   "id": "5e988a18-189e-478f-97a4-b62fefc5d90b",
   "metadata": {},
   "outputs": [],
   "source": [
    "newtest = newtest.drop('rating', axis = 1)"
   ]
  },
  {
   "cell_type": "code",
   "execution_count": 174,
   "id": "ed48c852-162a-4cbc-bfe5-7d5026bd485c",
   "metadata": {},
   "outputs": [
    {
     "data": {
      "text/plain": [
       "(200, 10)"
      ]
     },
     "execution_count": 174,
     "metadata": {},
     "output_type": "execute_result"
    }
   ],
   "source": [
    "newtest.shape"
   ]
  },
  {
   "cell_type": "code",
   "execution_count": 175,
   "id": "df2cc51c-a925-4ce4-b87e-f07993fc5c3e",
   "metadata": {},
   "outputs": [],
   "source": [
    "tfidf = TfidfVectorizer(max_features=5000, stop_words=\"english\")\n",
    "tfidf_matrix = tfidf.fit_transform(newtrain[\"title\"] + \" \" + newtrain[\"text\"])"
   ]
  },
  {
   "cell_type": "code",
   "execution_count": 176,
   "id": "946047c5-6b74-42ef-8149-c5323af75a69",
   "metadata": {},
   "outputs": [],
   "source": [
    "num_features = [\"year\", \"month\", \"day\", \"asin\", \"parent_asin\", \"verified_purchase\", \"helpful_vote\"]"
   ]
  },
  {
   "cell_type": "code",
   "execution_count": 177,
   "id": "00d9a02d-4002-40d0-95d5-275cd15623bd",
   "metadata": {},
   "outputs": [],
   "source": [
    "X = hstack([newtrain[num_features], tfidf_matrix])\n",
    "y = newtrain[\"rating\"]"
   ]
  },
  {
   "cell_type": "code",
   "execution_count": 178,
   "id": "133fce9b-e219-44e1-95b8-dd626f24220d",
   "metadata": {},
   "outputs": [],
   "source": [
    "X_train, X_val, y_train, y_val = train_test_split(X, y, test_size=0.2, random_state=42)"
   ]
  },
  {
   "cell_type": "code",
   "execution_count": 200,
   "id": "6325ab94-6443-4985-8be0-67d59fbb5c4f",
   "metadata": {},
   "outputs": [
    {
     "name": "stdout",
     "output_type": "stream",
     "text": [
      "XGBoost RMSE: 0.9493889436848301\n"
     ]
    }
   ],
   "source": [
    "xgb_model = XGBRegressor( random_state=42)\n",
    "xgb_model.fit(X_train, y_train)\n",
    "y_pred_xgb = xgb_model.predict(X_val)\n",
    "rmse_xgb = np.sqrt(mean_squared_error(y_val, y_pred_xgb))\n",
    "print(f\"XGBoost RMSE: {rmse_xgb}\")"
   ]
  },
  {
   "cell_type": "code",
   "execution_count": 208,
   "id": "302e9b26-daca-4da4-a2f6-3cbeaa2e015f",
   "metadata": {},
   "outputs": [],
   "source": [
    "tfidf = TfidfVectorizer(max_features=5000, stop_words=\"english\")\n",
    "tfidf_matrix_train = tfidf.fit_transform(newtrain[\"title\"] + \" \" + newtrain[\"text\"])\n",
    "tfidf_matrix_test = tfidf.transform(newtest[\"title\"] + \" \" + newtest[\"text\"])"
   ]
  },
  {
   "cell_type": "code",
   "execution_count": 210,
   "id": "76e3926a-b4cd-481f-8d14-4fe592aabd25",
   "metadata": {},
   "outputs": [],
   "source": [
    "X_train = hstack([newtrain[num_features], tfidf_matrix_train])\n",
    "X_test = hstack([newtest[num_features], tfidf_matrix_test])\n",
    "y_train = newtrain[\"rating\"]"
   ]
  },
  {
   "cell_type": "code",
   "execution_count": 214,
   "id": "e3740184-edd2-4a07-aa11-85eeeea9ea49",
   "metadata": {},
   "outputs": [],
   "source": [
    "xgb_model = XGBRegressor( random_state=42)\n",
    "xgb_model.fit(X_train, y_train)\n",
    "y_pred_xgb = xgb_model.predict(X_test)"
   ]
  },
  {
   "cell_type": "code",
   "execution_count": 216,
   "id": "5ae1c9fe-195c-42eb-a602-f226734298fa",
   "metadata": {},
   "outputs": [],
   "source": [
    "solution = pd.DataFrame(y_pred_xgb, columns= ['rating'])\n",
    "solution.to_csv('Solution.csv', index = False)"
   ]
  },
  {
   "cell_type": "code",
   "execution_count": null,
   "id": "2d720b4b-2d86-466f-95c7-ac77e6eee9f0",
   "metadata": {},
   "outputs": [],
   "source": []
  }
 ],
 "metadata": {
  "kernelspec": {
   "display_name": "Python 3 (ipykernel)",
   "language": "python",
   "name": "python3"
  },
  "language_info": {
   "codemirror_mode": {
    "name": "ipython",
    "version": 3
   },
   "file_extension": ".py",
   "mimetype": "text/x-python",
   "name": "python",
   "nbconvert_exporter": "python",
   "pygments_lexer": "ipython3",
   "version": "3.12.7"
  }
 },
 "nbformat": 4,
 "nbformat_minor": 5
}
