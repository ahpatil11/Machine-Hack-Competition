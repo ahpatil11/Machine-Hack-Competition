{
 "cells": [
  {
   "cell_type": "code",
   "execution_count": 1,
   "id": "19c1a623-a210-445f-8467-977b09932785",
   "metadata": {},
   "outputs": [],
   "source": [
    "import numpy as np\n",
    "import pandas as pd\n",
    "import matplotlib.pyplot as plt\n",
    "import seaborn as sns\n",
    "from sklearn.preprocessing import StandardScaler, LabelEncoder\n",
    "from sklearn.metrics import mean_squared_error\n",
    "from sklearn.pipeline import Pipeline\n",
    "from sklearn.linear_model import LinearRegression\n",
    "from sklearn.ensemble import RandomForestRegressor, ExtraTreesRegressor, AdaBoostRegressor, GradientBoostingRegressor, BaggingRegressor\n",
    "from lightgbm import LGBMRegressor\n",
    "from xgboost import XGBRegressor\n",
    "from sklearn.model_selection import train_test_split, KFold, GridSearchCV"
   ]
  },
  {
   "cell_type": "code",
   "execution_count": 2,
   "id": "8f3b5298-d0ba-4bc6-9481-e8b302b48e2f",
   "metadata": {},
   "outputs": [
    {
     "data": {
      "text/html": [
       "<div>\n",
       "<style scoped>\n",
       "    .dataframe tbody tr th:only-of-type {\n",
       "        vertical-align: middle;\n",
       "    }\n",
       "\n",
       "    .dataframe tbody tr th {\n",
       "        vertical-align: top;\n",
       "    }\n",
       "\n",
       "    .dataframe thead th {\n",
       "        text-align: right;\n",
       "    }\n",
       "</style>\n",
       "<table border=\"1\" class=\"dataframe\">\n",
       "  <thead>\n",
       "    <tr style=\"text-align: right;\">\n",
       "      <th></th>\n",
       "      <th>Unnamed: 0</th>\n",
       "      <th>Very low frequency power</th>\n",
       "      <th>VLF component (%)</th>\n",
       "      <th>Low frequency power</th>\n",
       "      <th>LF component (%)</th>\n",
       "      <th>Low frequency in normalized units</th>\n",
       "      <th>High frequency power</th>\n",
       "      <th>HF component (%)</th>\n",
       "      <th>High frequency in normalized units</th>\n",
       "      <th>Total RR interval power</th>\n",
       "      <th>...</th>\n",
       "      <th>RR differences &gt; 25 ms (%)</th>\n",
       "      <th>RR differences &gt; 50 ms (%)</th>\n",
       "      <th>RR interval kurtosis</th>\n",
       "      <th>RR interval skewness</th>\n",
       "      <th>Average relative RR intervals</th>\n",
       "      <th>Median relative RR intervals</th>\n",
       "      <th>Relative RR variability</th>\n",
       "      <th>RMS of relative RR differences</th>\n",
       "      <th>Variation of relative RR differences</th>\n",
       "      <th>Patient's condition</th>\n",
       "    </tr>\n",
       "  </thead>\n",
       "  <tbody>\n",
       "    <tr>\n",
       "      <th>0</th>\n",
       "      <td>244435</td>\n",
       "      <td>1254.975811</td>\n",
       "      <td>57.890929</td>\n",
       "      <td>901.004602</td>\n",
       "      <td>41.479506</td>\n",
       "      <td>98.173273</td>\n",
       "      <td>15.847376</td>\n",
       "      <td>0.728107</td>\n",
       "      <td>1.730184</td>\n",
       "      <td>2169.995916</td>\n",
       "      <td>...</td>\n",
       "      <td>7.3926</td>\n",
       "      <td>0.000000</td>\n",
       "      <td>-0.045043</td>\n",
       "      <td>-0.158011</td>\n",
       "      <td>-0.000073</td>\n",
       "      <td>-0.000378</td>\n",
       "      <td>0.016513</td>\n",
       "      <td>0.007952</td>\n",
       "      <td>0.007968</td>\n",
       "      <td>disturbed</td>\n",
       "    </tr>\n",
       "    <tr>\n",
       "      <th>1</th>\n",
       "      <td>24119</td>\n",
       "      <td>8691.867667</td>\n",
       "      <td>93.662416</td>\n",
       "      <td>557.400294</td>\n",
       "      <td>5.994471</td>\n",
       "      <td>93.023670</td>\n",
       "      <td>41.203154</td>\n",
       "      <td>0.442227</td>\n",
       "      <td>6.890097</td>\n",
       "      <td>9289.275104</td>\n",
       "      <td>...</td>\n",
       "      <td>15.3846</td>\n",
       "      <td>2.936267</td>\n",
       "      <td>-0.721847</td>\n",
       "      <td>-0.501405</td>\n",
       "      <td>-0.000131</td>\n",
       "      <td>0.000037</td>\n",
       "      <td>0.025143</td>\n",
       "      <td>0.015671</td>\n",
       "      <td>0.015702</td>\n",
       "      <td>stress</td>\n",
       "    </tr>\n",
       "    <tr>\n",
       "      <th>2</th>\n",
       "      <td>129126</td>\n",
       "      <td>941.999352</td>\n",
       "      <td>67.088870</td>\n",
       "      <td>435.381922</td>\n",
       "      <td>30.945797</td>\n",
       "      <td>93.649782</td>\n",
       "      <td>29.057534</td>\n",
       "      <td>2.061206</td>\n",
       "      <td>6.262731</td>\n",
       "      <td>1405.510857</td>\n",
       "      <td>...</td>\n",
       "      <td>1.4652</td>\n",
       "      <td>0.000000</td>\n",
       "      <td>-0.277983</td>\n",
       "      <td>-0.080453</td>\n",
       "      <td>0.000080</td>\n",
       "      <td>0.000668</td>\n",
       "      <td>0.013346</td>\n",
       "      <td>0.007190</td>\n",
       "      <td>0.007205</td>\n",
       "      <td>Calm</td>\n",
       "    </tr>\n",
       "    <tr>\n",
       "      <th>3</th>\n",
       "      <td>120498</td>\n",
       "      <td>951.732602</td>\n",
       "      <td>69.917040</td>\n",
       "      <td>382.366064</td>\n",
       "      <td>28.033598</td>\n",
       "      <td>92.786010</td>\n",
       "      <td>29.316362</td>\n",
       "      <td>2.145068</td>\n",
       "      <td>7.128232</td>\n",
       "      <td>1362.592486</td>\n",
       "      <td>...</td>\n",
       "      <td>0.7992</td>\n",
       "      <td>0.000000</td>\n",
       "      <td>0.001528</td>\n",
       "      <td>0.254826</td>\n",
       "      <td>0.000162</td>\n",
       "      <td>-0.000060</td>\n",
       "      <td>0.012779</td>\n",
       "      <td>0.007273</td>\n",
       "      <td>0.007288</td>\n",
       "      <td>Calm</td>\n",
       "    </tr>\n",
       "    <tr>\n",
       "      <th>4</th>\n",
       "      <td>310661</td>\n",
       "      <td>1696.321425</td>\n",
       "      <td>72.242287</td>\n",
       "      <td>623.055076</td>\n",
       "      <td>26.481415</td>\n",
       "      <td>94.964483</td>\n",
       "      <td>32.381571</td>\n",
       "      <td>1.373549</td>\n",
       "      <td>4.945398</td>\n",
       "      <td>2350.448508</td>\n",
       "      <td>...</td>\n",
       "      <td>4.9284</td>\n",
       "      <td>0.200200</td>\n",
       "      <td>0.172188</td>\n",
       "      <td>0.047651</td>\n",
       "      <td>0.000088</td>\n",
       "      <td>0.001038</td>\n",
       "      <td>0.015351</td>\n",
       "      <td>0.007889</td>\n",
       "      <td>0.007905</td>\n",
       "      <td>Calm</td>\n",
       "    </tr>\n",
       "  </tbody>\n",
       "</table>\n",
       "<p>5 rows × 33 columns</p>\n",
       "</div>"
      ],
      "text/plain": [
       "   Unnamed: 0  Very low frequency power  VLF component (%)  \\\n",
       "0      244435               1254.975811          57.890929   \n",
       "1       24119               8691.867667          93.662416   \n",
       "2      129126                941.999352          67.088870   \n",
       "3      120498                951.732602          69.917040   \n",
       "4      310661               1696.321425          72.242287   \n",
       "\n",
       "   Low frequency power  LF component (%)  Low frequency in normalized units  \\\n",
       "0           901.004602         41.479506                          98.173273   \n",
       "1           557.400294          5.994471                          93.023670   \n",
       "2           435.381922         30.945797                          93.649782   \n",
       "3           382.366064         28.033598                          92.786010   \n",
       "4           623.055076         26.481415                          94.964483   \n",
       "\n",
       "   High frequency power  HF component (%)  High frequency in normalized units  \\\n",
       "0             15.847376          0.728107                            1.730184   \n",
       "1             41.203154          0.442227                            6.890097   \n",
       "2             29.057534          2.061206                            6.262731   \n",
       "3             29.316362          2.145068                            7.128232   \n",
       "4             32.381571          1.373549                            4.945398   \n",
       "\n",
       "   Total RR interval power  ...  RR differences > 25 ms (%)  \\\n",
       "0              2169.995916  ...                      7.3926   \n",
       "1              9289.275104  ...                     15.3846   \n",
       "2              1405.510857  ...                      1.4652   \n",
       "3              1362.592486  ...                      0.7992   \n",
       "4              2350.448508  ...                      4.9284   \n",
       "\n",
       "   RR differences > 50 ms (%)  RR interval kurtosis  RR interval skewness  \\\n",
       "0                    0.000000             -0.045043             -0.158011   \n",
       "1                    2.936267             -0.721847             -0.501405   \n",
       "2                    0.000000             -0.277983             -0.080453   \n",
       "3                    0.000000              0.001528              0.254826   \n",
       "4                    0.200200              0.172188              0.047651   \n",
       "\n",
       "   Average relative RR intervals  Median relative RR intervals  \\\n",
       "0                      -0.000073                     -0.000378   \n",
       "1                      -0.000131                      0.000037   \n",
       "2                       0.000080                      0.000668   \n",
       "3                       0.000162                     -0.000060   \n",
       "4                       0.000088                      0.001038   \n",
       "\n",
       "   Relative RR variability  RMS of relative RR differences  \\\n",
       "0                 0.016513                        0.007952   \n",
       "1                 0.025143                        0.015671   \n",
       "2                 0.013346                        0.007190   \n",
       "3                 0.012779                        0.007273   \n",
       "4                 0.015351                        0.007889   \n",
       "\n",
       "   Variation of relative RR differences  Patient's condition  \n",
       "0                              0.007968            disturbed  \n",
       "1                              0.015702               stress  \n",
       "2                              0.007205                 Calm  \n",
       "3                              0.007288                 Calm  \n",
       "4                              0.007905                 Calm  \n",
       "\n",
       "[5 rows x 33 columns]"
      ]
     },
     "execution_count": 2,
     "metadata": {},
     "output_type": "execute_result"
    }
   ],
   "source": [
    "train = pd.read_csv(\"Train.csv\")\n",
    "train.head()"
   ]
  },
  {
   "cell_type": "code",
   "execution_count": 3,
   "id": "1e2c8fd7-6b76-431f-a2e4-3182b5ab372b",
   "metadata": {},
   "outputs": [
    {
     "data": {
      "text/plain": [
       "(184644, 33)"
      ]
     },
     "execution_count": 3,
     "metadata": {},
     "output_type": "execute_result"
    }
   ],
   "source": [
    "train.shape"
   ]
  },
  {
   "cell_type": "code",
   "execution_count": 4,
   "id": "9e8762d7-e8f0-4b01-9a81-fb66e44b0f2c",
   "metadata": {},
   "outputs": [
    {
     "data": {
      "text/plain": [
       "Unnamed: 0                              0\n",
       "Very low frequency power                0\n",
       "VLF component (%)                       0\n",
       "Low frequency power                     0\n",
       "LF component (%)                        0\n",
       "Low frequency in normalized units       0\n",
       "High frequency power                    0\n",
       "HF component (%)                        0\n",
       "High frequency in normalized units      0\n",
       "Total RR interval power                 0\n",
       "LF to HF ratio                          0\n",
       "HF to LF ratio                          0\n",
       "Poincaré plot SD perpendicular          0\n",
       "Poincaré plot SD along identity         0\n",
       "sampen                                  0\n",
       "Higuchi fractal dimension               0\n",
       "Average RR intervals                    0\n",
       "Median RR intervals                     0\n",
       "RR interval variability                 0\n",
       "Root mean square of RR differences      0\n",
       "Variation of RR differences             0\n",
       "SDRR to RMSSD ratio                     0\n",
       "Heart_Rate                              0\n",
       "RR differences > 25 ms (%)              0\n",
       "RR differences > 50 ms (%)              0\n",
       "RR interval kurtosis                    0\n",
       "RR interval skewness                    0\n",
       "Average relative RR intervals           0\n",
       "Median relative RR intervals            0\n",
       "Relative RR variability                 0\n",
       "RMS of relative RR differences          0\n",
       "Variation of relative RR differences    0\n",
       "Patient's condition                     0\n",
       "dtype: int64"
      ]
     },
     "execution_count": 4,
     "metadata": {},
     "output_type": "execute_result"
    }
   ],
   "source": [
    "train.isnull().sum()"
   ]
  },
  {
   "cell_type": "code",
   "execution_count": 5,
   "id": "97cfb242-80cf-405f-8a1f-0a545d1ca314",
   "metadata": {},
   "outputs": [
    {
     "data": {
      "text/plain": [
       "0"
      ]
     },
     "execution_count": 5,
     "metadata": {},
     "output_type": "execute_result"
    }
   ],
   "source": [
    "train.duplicated().sum()"
   ]
  },
  {
   "cell_type": "code",
   "execution_count": 6,
   "id": "cdf12118-ffe0-4fc5-b67a-49bde1cb3bef",
   "metadata": {},
   "outputs": [
    {
     "name": "stdout",
     "output_type": "stream",
     "text": [
      "<class 'pandas.core.frame.DataFrame'>\n",
      "RangeIndex: 184644 entries, 0 to 184643\n",
      "Data columns (total 33 columns):\n",
      " #   Column                                Non-Null Count   Dtype  \n",
      "---  ------                                --------------   -----  \n",
      " 0   Unnamed: 0                            184644 non-null  int64  \n",
      " 1   Very low frequency power              184644 non-null  float64\n",
      " 2   VLF component (%)                     184644 non-null  float64\n",
      " 3   Low frequency power                   184644 non-null  float64\n",
      " 4   LF component (%)                      184644 non-null  float64\n",
      " 5   Low frequency in normalized units     184644 non-null  float64\n",
      " 6   High frequency power                  184644 non-null  float64\n",
      " 7   HF component (%)                      184644 non-null  float64\n",
      " 8   High frequency in normalized units    184644 non-null  float64\n",
      " 9   Total RR interval power               184644 non-null  float64\n",
      " 10  LF to HF ratio                        184644 non-null  float64\n",
      " 11  HF to LF ratio                        184644 non-null  float64\n",
      " 12  Poincaré plot SD perpendicular        184644 non-null  float64\n",
      " 13  Poincaré plot SD along identity       184644 non-null  float64\n",
      " 14  sampen                                184644 non-null  float64\n",
      " 15  Higuchi fractal dimension             184644 non-null  float64\n",
      " 16  Average RR intervals                  184644 non-null  float64\n",
      " 17  Median RR intervals                   184644 non-null  float64\n",
      " 18  RR interval variability               184644 non-null  float64\n",
      " 19  Root mean square of RR differences    184644 non-null  float64\n",
      " 20  Variation of RR differences           184644 non-null  float64\n",
      " 21  SDRR to RMSSD ratio                   184644 non-null  float64\n",
      " 22  Heart_Rate                            184644 non-null  float64\n",
      " 23  RR differences > 25 ms (%)            184644 non-null  float64\n",
      " 24  RR differences > 50 ms (%)            184644 non-null  float64\n",
      " 25  RR interval kurtosis                  184644 non-null  float64\n",
      " 26  RR interval skewness                  184644 non-null  float64\n",
      " 27  Average relative RR intervals         184644 non-null  float64\n",
      " 28  Median relative RR intervals          184644 non-null  float64\n",
      " 29  Relative RR variability               184644 non-null  float64\n",
      " 30  RMS of relative RR differences        184644 non-null  float64\n",
      " 31  Variation of relative RR differences  184644 non-null  float64\n",
      " 32  Patient's condition                   184644 non-null  object \n",
      "dtypes: float64(31), int64(1), object(1)\n",
      "memory usage: 46.5+ MB\n"
     ]
    }
   ],
   "source": [
    "train.info()"
   ]
  },
  {
   "cell_type": "code",
   "execution_count": 7,
   "id": "db57a732-5bc0-477a-8b58-00c26ca5fdad",
   "metadata": {},
   "outputs": [
    {
     "data": {
      "text/html": [
       "<div>\n",
       "<style scoped>\n",
       "    .dataframe tbody tr th:only-of-type {\n",
       "        vertical-align: middle;\n",
       "    }\n",
       "\n",
       "    .dataframe tbody tr th {\n",
       "        vertical-align: top;\n",
       "    }\n",
       "\n",
       "    .dataframe thead th {\n",
       "        text-align: right;\n",
       "    }\n",
       "</style>\n",
       "<table border=\"1\" class=\"dataframe\">\n",
       "  <thead>\n",
       "    <tr style=\"text-align: right;\">\n",
       "      <th></th>\n",
       "      <th>Unnamed: 0</th>\n",
       "      <th>Very low frequency power</th>\n",
       "      <th>VLF component (%)</th>\n",
       "      <th>Low frequency power</th>\n",
       "      <th>LF component (%)</th>\n",
       "      <th>Low frequency in normalized units</th>\n",
       "      <th>High frequency power</th>\n",
       "      <th>HF component (%)</th>\n",
       "      <th>High frequency in normalized units</th>\n",
       "      <th>Total RR interval power</th>\n",
       "      <th>...</th>\n",
       "      <th>RR differences &gt; 25 ms (%)</th>\n",
       "      <th>RR differences &gt; 50 ms (%)</th>\n",
       "      <th>RR interval kurtosis</th>\n",
       "      <th>RR interval skewness</th>\n",
       "      <th>Average relative RR intervals</th>\n",
       "      <th>Median relative RR intervals</th>\n",
       "      <th>Relative RR variability</th>\n",
       "      <th>RMS of relative RR differences</th>\n",
       "      <th>Variation of relative RR differences</th>\n",
       "      <th>Patient's condition</th>\n",
       "    </tr>\n",
       "  </thead>\n",
       "  <tbody>\n",
       "    <tr>\n",
       "      <th>0</th>\n",
       "      <td>329723</td>\n",
       "      <td>718.279862</td>\n",
       "      <td>37.481682</td>\n",
       "      <td>1189.360880</td>\n",
       "      <td>61.939891</td>\n",
       "      <td>98.817650</td>\n",
       "      <td>13.027067</td>\n",
       "      <td>0.677072</td>\n",
       "      <td>1.084516</td>\n",
       "      <td>1918.265436</td>\n",
       "      <td>...</td>\n",
       "      <td>6.9264</td>\n",
       "      <td>0.000000</td>\n",
       "      <td>-0.425943</td>\n",
       "      <td>0.065630</td>\n",
       "      <td>0.000099</td>\n",
       "      <td>-0.001897</td>\n",
       "      <td>0.017034</td>\n",
       "      <td>0.007355</td>\n",
       "      <td>0.007370</td>\n",
       "      <td>disturbed</td>\n",
       "    </tr>\n",
       "    <tr>\n",
       "      <th>1</th>\n",
       "      <td>122441</td>\n",
       "      <td>5214.388791</td>\n",
       "      <td>84.101779</td>\n",
       "      <td>984.518339</td>\n",
       "      <td>15.847363</td>\n",
       "      <td>98.957974</td>\n",
       "      <td>9.372078</td>\n",
       "      <td>0.150557</td>\n",
       "      <td>0.943912</td>\n",
       "      <td>6206.293413</td>\n",
       "      <td>...</td>\n",
       "      <td>10.9224</td>\n",
       "      <td>1.201200</td>\n",
       "      <td>2.048374</td>\n",
       "      <td>0.020589</td>\n",
       "      <td>0.000025</td>\n",
       "      <td>0.000945</td>\n",
       "      <td>0.021838</td>\n",
       "      <td>0.009722</td>\n",
       "      <td>0.009741</td>\n",
       "      <td>stress</td>\n",
       "    </tr>\n",
       "    <tr>\n",
       "      <th>2</th>\n",
       "      <td>173015</td>\n",
       "      <td>5569.676934</td>\n",
       "      <td>82.805104</td>\n",
       "      <td>1138.325715</td>\n",
       "      <td>16.889821</td>\n",
       "      <td>97.560180</td>\n",
       "      <td>27.300865</td>\n",
       "      <td>0.404265</td>\n",
       "      <td>2.344504</td>\n",
       "      <td>6732.974590</td>\n",
       "      <td>...</td>\n",
       "      <td>14.3190</td>\n",
       "      <td>2.469133</td>\n",
       "      <td>1.595684</td>\n",
       "      <td>1.010021</td>\n",
       "      <td>0.000109</td>\n",
       "      <td>-0.000504</td>\n",
       "      <td>0.021682</td>\n",
       "      <td>0.010512</td>\n",
       "      <td>0.010533</td>\n",
       "      <td>stress</td>\n",
       "    </tr>\n",
       "    <tr>\n",
       "      <th>3</th>\n",
       "      <td>209362</td>\n",
       "      <td>1151.124351</td>\n",
       "      <td>33.471472</td>\n",
       "      <td>2209.534855</td>\n",
       "      <td>64.118719</td>\n",
       "      <td>96.136899</td>\n",
       "      <td>86.488156</td>\n",
       "      <td>2.504794</td>\n",
       "      <td>3.770635</td>\n",
       "      <td>3442.559903</td>\n",
       "      <td>...</td>\n",
       "      <td>23.9094</td>\n",
       "      <td>0.734067</td>\n",
       "      <td>-0.639722</td>\n",
       "      <td>0.079405</td>\n",
       "      <td>-0.000036</td>\n",
       "      <td>-0.001525</td>\n",
       "      <td>0.028175</td>\n",
       "      <td>0.014375</td>\n",
       "      <td>0.014404</td>\n",
       "      <td>disturbed</td>\n",
       "    </tr>\n",
       "    <tr>\n",
       "      <th>4</th>\n",
       "      <td>336393</td>\n",
       "      <td>868.444194</td>\n",
       "      <td>59.415372</td>\n",
       "      <td>568.871835</td>\n",
       "      <td>38.842104</td>\n",
       "      <td>95.375732</td>\n",
       "      <td>26.985150</td>\n",
       "      <td>1.838843</td>\n",
       "      <td>4.533325</td>\n",
       "      <td>1463.110656</td>\n",
       "      <td>...</td>\n",
       "      <td>7.0596</td>\n",
       "      <td>0.133467</td>\n",
       "      <td>-0.419051</td>\n",
       "      <td>-0.214816</td>\n",
       "      <td>-0.000049</td>\n",
       "      <td>-0.001246</td>\n",
       "      <td>0.016175</td>\n",
       "      <td>0.009847</td>\n",
       "      <td>0.009867</td>\n",
       "      <td>stress</td>\n",
       "    </tr>\n",
       "  </tbody>\n",
       "</table>\n",
       "<p>5 rows × 32 columns</p>\n",
       "</div>"
      ],
      "text/plain": [
       "   Unnamed: 0  Very low frequency power  VLF component (%)  \\\n",
       "0      329723                718.279862          37.481682   \n",
       "1      122441               5214.388791          84.101779   \n",
       "2      173015               5569.676934          82.805104   \n",
       "3      209362               1151.124351          33.471472   \n",
       "4      336393                868.444194          59.415372   \n",
       "\n",
       "   Low frequency power  LF component (%)  Low frequency in normalized units  \\\n",
       "0          1189.360880         61.939891                          98.817650   \n",
       "1           984.518339         15.847363                          98.957974   \n",
       "2          1138.325715         16.889821                          97.560180   \n",
       "3          2209.534855         64.118719                          96.136899   \n",
       "4           568.871835         38.842104                          95.375732   \n",
       "\n",
       "   High frequency power  HF component (%)  High frequency in normalized units  \\\n",
       "0             13.027067          0.677072                            1.084516   \n",
       "1              9.372078          0.150557                            0.943912   \n",
       "2             27.300865          0.404265                            2.344504   \n",
       "3             86.488156          2.504794                            3.770635   \n",
       "4             26.985150          1.838843                            4.533325   \n",
       "\n",
       "   Total RR interval power  ...  RR differences > 25 ms (%)  \\\n",
       "0              1918.265436  ...                      6.9264   \n",
       "1              6206.293413  ...                     10.9224   \n",
       "2              6732.974590  ...                     14.3190   \n",
       "3              3442.559903  ...                     23.9094   \n",
       "4              1463.110656  ...                      7.0596   \n",
       "\n",
       "   RR differences > 50 ms (%)  RR interval kurtosis  RR interval skewness  \\\n",
       "0                    0.000000             -0.425943              0.065630   \n",
       "1                    1.201200              2.048374              0.020589   \n",
       "2                    2.469133              1.595684              1.010021   \n",
       "3                    0.734067             -0.639722              0.079405   \n",
       "4                    0.133467             -0.419051             -0.214816   \n",
       "\n",
       "   Average relative RR intervals  Median relative RR intervals  \\\n",
       "0                       0.000099                     -0.001897   \n",
       "1                       0.000025                      0.000945   \n",
       "2                       0.000109                     -0.000504   \n",
       "3                      -0.000036                     -0.001525   \n",
       "4                      -0.000049                     -0.001246   \n",
       "\n",
       "   Relative RR variability  RMS of relative RR differences  \\\n",
       "0                 0.017034                        0.007355   \n",
       "1                 0.021838                        0.009722   \n",
       "2                 0.021682                        0.010512   \n",
       "3                 0.028175                        0.014375   \n",
       "4                 0.016175                        0.009847   \n",
       "\n",
       "   Variation of relative RR differences  Patient's condition  \n",
       "0                              0.007370            disturbed  \n",
       "1                              0.009741               stress  \n",
       "2                              0.010533               stress  \n",
       "3                              0.014404            disturbed  \n",
       "4                              0.009867               stress  \n",
       "\n",
       "[5 rows x 32 columns]"
      ]
     },
     "execution_count": 7,
     "metadata": {},
     "output_type": "execute_result"
    }
   ],
   "source": [
    "test = pd.read_csv(\"Test.csv\")\n",
    "test.head()"
   ]
  },
  {
   "cell_type": "code",
   "execution_count": 8,
   "id": "b20aae31-4531-4da0-be18-099395084cc7",
   "metadata": {},
   "outputs": [
    {
     "data": {
      "text/plain": [
       "(184645, 32)"
      ]
     },
     "execution_count": 8,
     "metadata": {},
     "output_type": "execute_result"
    }
   ],
   "source": [
    "test.shape"
   ]
  },
  {
   "cell_type": "code",
   "execution_count": 9,
   "id": "bb52034a-fce1-4634-b839-f511f0de317b",
   "metadata": {},
   "outputs": [
    {
     "data": {
      "text/plain": [
       "Unnamed: 0                              0\n",
       "Very low frequency power                0\n",
       "VLF component (%)                       0\n",
       "Low frequency power                     0\n",
       "LF component (%)                        0\n",
       "Low frequency in normalized units       0\n",
       "High frequency power                    0\n",
       "HF component (%)                        0\n",
       "High frequency in normalized units      0\n",
       "Total RR interval power                 0\n",
       "LF to HF ratio                          0\n",
       "HF to LF ratio                          0\n",
       "Poincaré plot SD perpendicular          0\n",
       "Poincaré plot SD along identity         0\n",
       "sampen                                  0\n",
       "Higuchi fractal dimension               0\n",
       "Average RR intervals                    0\n",
       "Median RR intervals                     0\n",
       "RR interval variability                 0\n",
       "Root mean square of RR differences      0\n",
       "Variation of RR differences             0\n",
       "SDRR to RMSSD ratio                     0\n",
       "RR differences > 25 ms (%)              0\n",
       "RR differences > 50 ms (%)              0\n",
       "RR interval kurtosis                    0\n",
       "RR interval skewness                    0\n",
       "Average relative RR intervals           0\n",
       "Median relative RR intervals            0\n",
       "Relative RR variability                 0\n",
       "RMS of relative RR differences          0\n",
       "Variation of relative RR differences    0\n",
       "Patient's condition                     0\n",
       "dtype: int64"
      ]
     },
     "execution_count": 9,
     "metadata": {},
     "output_type": "execute_result"
    }
   ],
   "source": [
    "test.isnull().sum()"
   ]
  },
  {
   "cell_type": "code",
   "execution_count": 10,
   "id": "dc022260-6c49-484a-9d69-f422ff4f3d2f",
   "metadata": {},
   "outputs": [
    {
     "data": {
      "text/plain": [
       "0"
      ]
     },
     "execution_count": 10,
     "metadata": {},
     "output_type": "execute_result"
    }
   ],
   "source": [
    "test.duplicated().sum()"
   ]
  },
  {
   "cell_type": "code",
   "execution_count": 11,
   "id": "d9fe4e97-6079-4652-aad1-fe1779c671a5",
   "metadata": {},
   "outputs": [
    {
     "data": {
      "text/plain": [
       "Patient's condition\n",
       "Calm         100069\n",
       "disturbed     52565\n",
       "stress        32010\n",
       "Name: count, dtype: int64"
      ]
     },
     "execution_count": 11,
     "metadata": {},
     "output_type": "execute_result"
    }
   ],
   "source": [
    "train['Patient\\'s condition'].value_counts()"
   ]
  },
  {
   "cell_type": "code",
   "execution_count": 12,
   "id": "55383a4e-018a-4636-a681-32e3c8991e58",
   "metadata": {},
   "outputs": [
    {
     "data": {
      "text/plain": [
       "{'Heart_Rate'}"
      ]
     },
     "execution_count": 12,
     "metadata": {},
     "output_type": "execute_result"
    }
   ],
   "source": [
    "set(train.columns)-set(test.columns)"
   ]
  },
  {
   "cell_type": "code",
   "execution_count": 13,
   "id": "a025aa9f-90ba-4039-b8cf-18404c35530e",
   "metadata": {},
   "outputs": [
    {
     "data": {
      "text/plain": [
       "<Axes: ylabel='Heart_Rate'>"
      ]
     },
     "execution_count": 13,
     "metadata": {},
     "output_type": "execute_result"
    },
    {
     "data": {
      "image/png": "[encoded data removed]",
      "text/plain": [
       "<Figure size 640x480 with 1 Axes>"
      ]
     },
     "metadata": {},
     "output_type": "display_data"
    }
   ],
   "source": [
    "sns.boxplot(train['Heart_Rate'])"
   ]
  },
  {
   "cell_type": "code",
   "execution_count": 14,
   "id": "ccd3180d-0d44-40ad-8415-354c6f7be8c0",
   "metadata": {},
   "outputs": [
    {
     "data": {
      "text/plain": [
       "(369289, 33)"
      ]
     },
     "execution_count": 14,
     "metadata": {},
     "output_type": "execute_result"
    }
   ],
   "source": [
    "combined = pd.concat([train, test], axis = 0)\n",
    "combined.shape"
   ]
  },
  {
   "cell_type": "code",
   "execution_count": 15,
   "id": "aa376f1e-658f-40b8-8870-d3b940677e0c",
   "metadata": {},
   "outputs": [],
   "source": [
    "numerical_columns = combined.select_dtypes(exclude = 'object')"
   ]
  },
  {
   "cell_type": "code",
   "execution_count": 16,
   "id": "738c8211-9c95-4061-8b06-44d4497c62db",
   "metadata": {},
   "outputs": [
    {
     "data": {
      "text/plain": [
       "(369289, 32)"
      ]
     },
     "execution_count": 16,
     "metadata": {},
     "output_type": "execute_result"
    }
   ],
   "source": [
    "numerical_columns.shape"
   ]
  },
  {
   "cell_type": "code",
   "execution_count": 18,
   "id": "47092921-456a-4ccc-b32a-f8581ad799ba",
   "metadata": {},
   "outputs": [],
   "source": [
    "le = LabelEncoder()\n",
    "combined['Patient_condition_encoded'] = le.fit_transform(combined[\"Patient\\'s condition\"])"
   ]
  },
  {
   "cell_type": "code",
   "execution_count": 19,
   "id": "012b38c5-e4e1-4004-b458-5551bf8f702e",
   "metadata": {},
   "outputs": [],
   "source": [
    "condition_avg_heart_rate = combined.groupby('Patient\\'s condition')['Heart_Rate'].transform('mean')\n",
    "combined['Avg_Heart_Rate_by_Condition'] = condition_avg_heart_rate"
   ]
  },
  {
   "cell_type": "code",
   "execution_count": 20,
   "id": "3df33752-59b3-45d9-b8fc-0abcf7ab7925",
   "metadata": {},
   "outputs": [],
   "source": [
    "# Time-based features (synthetic for now)\n",
    "combined['Time_Index'] = np.arange(len(combined))\n",
    "combined['Is_Weekend'] = combined['Time_Index'] % 2"
   ]
  },
  {
   "cell_type": "code",
   "execution_count": 21,
   "id": "fe9c6570-40c6-4b27-a2a6-ef89d3346106",
   "metadata": {},
   "outputs": [],
   "source": [
    "combined = combined.drop(columns=['Patient\\'s condition', 'Unnamed: 0'])"
   ]
  },
  {
   "cell_type": "code",
   "execution_count": 22,
   "id": "55b6be1a-8d75-488c-9f6a-603ba3b30866",
   "metadata": {},
   "outputs": [],
   "source": [
    "# LF to HF combined ratio\n",
    "combined['LF_HF_combined'] = combined['LF to HF ratio'] + combined['HF to LF ratio']\n",
    "\n",
    "# Difference between LF and HF components (%)\n",
    "combined['LF_HF_diff_percent'] = combined['LF component (%)'] - combined['HF component (%)']\n",
    "\n",
    "# Ratio of Average to Median RR intervals\n",
    "combined['Avg_Median_RR_ratio'] = combined['Average RR intervals'] / (combined['Median RR intervals'] + 1e-5)  # Avoid division by zero\n",
    "\n",
    "# Normalized difference of Low and High frequency components\n",
    "combined['Normalized_LF_HF_diff'] = combined['Low frequency in normalized units'] - combined['High frequency in normalized units']\n",
    "\n",
    "# Sum of LF and HF power\n",
    "combined['LF_HF_power_sum'] = combined['Low frequency power'] + combined['High frequency power']\n"
   ]
  },
  {
   "cell_type": "code",
   "execution_count": 23,
   "id": "e590d6a4-7f1a-4660-9ef3-6134a082e3e2",
   "metadata": {},
   "outputs": [
    {
     "data": {
      "text/plain": [
       "(184644, 40)"
      ]
     },
     "execution_count": 23,
     "metadata": {},
     "output_type": "execute_result"
    }
   ],
   "source": [
    "newtrain = combined.iloc[0:184644,:]\n",
    "newtrain.shape"
   ]
  },
  {
   "cell_type": "code",
   "execution_count": 24,
   "id": "b1afbda5-40e2-46ba-a35c-940b73f553d6",
   "metadata": {},
   "outputs": [
    {
     "data": {
      "text/plain": [
       "(184645, 40)"
      ]
     },
     "execution_count": 24,
     "metadata": {},
     "output_type": "execute_result"
    }
   ],
   "source": [
    "newtest = combined.iloc[184644:, :]\n",
    "newtest.shape"
   ]
  },
  {
   "cell_type": "code",
   "execution_count": 25,
   "id": "6104a4a8-3938-4741-93cd-f801a0ffe254",
   "metadata": {},
   "outputs": [],
   "source": [
    "X = newtrain.drop(columns=['Heart_Rate'])\n",
    "y = newtrain['Heart_Rate']"
   ]
  },
  {
   "cell_type": "code",
   "execution_count": 26,
   "id": "d08d8e5b-1f29-449f-b345-a9f1a3a77860",
   "metadata": {},
   "outputs": [],
   "source": [
    "scaler = StandardScaler()\n",
    "X_scaled = scaler.fit_transform(X)"
   ]
  },
  {
   "cell_type": "code",
   "execution_count": 27,
   "id": "2c0829e9-4471-4c30-9cde-7032328ed8ad",
   "metadata": {},
   "outputs": [],
   "source": [
    "X_train, X_test, y_train, y_test = train_test_split(X_scaled, y, test_size=0.2, random_state=42)"
   ]
  },
  {
   "cell_type": "code",
   "execution_count": 28,
   "id": "6b3e4f64-7288-44b7-b4c7-3e884b17d2c6",
   "metadata": {},
   "outputs": [],
   "source": [
    "models = {'Logistic Regression': LinearRegression(), 'Random Forest': RandomForestRegressor(),\n",
    "         'Bagging': BaggingRegressor(), 'Extra Tree': ExtraTreesRegressor(), 'LightGBM': LGBMRegressor(),\n",
    "         'Gradient Boosting': GradientBoostingRegressor(), 'Adaboost': AdaBoostRegressor(),\n",
    "         'XGB': XGBRegressor()}"
   ]
  },
  {
   "cell_type": "code",
   "execution_count": 29,
   "id": "c2780620-a96e-4d2d-8927-f30f0c9719a5",
   "metadata": {},
   "outputs": [],
   "source": [
    "def evaluate_models(X_train, X_test, y_train, y_test, models):\n",
    "    results = {}\n",
    "    for name, model in models.items():\n",
    "        predictions = model.fit(X_train, y_train).predict(X_test)\n",
    "        rmse = np.sqrt(mean_squared_error(y_test, predictions))\n",
    "        results[name] = rmse\n",
    "    return results"
   ]
  },
  {
   "cell_type": "code",
   "execution_count": 58,
   "id": "79148bb8-6de2-4f48-9d41-1e33137e4a21",
   "metadata": {},
   "outputs": [
    {
     "name": "stdout",
     "output_type": "stream",
     "text": [
      "[LightGBM] [Info] Auto-choosing col-wise multi-threading, the overhead of testing was 0.009862 seconds.\n",
      "You can set `force_col_wise=true` to remove the overhead.\n",
      "[LightGBM] [Info] Total Bins 9018\n",
      "[LightGBM] [Info] Number of data points in the train set: 147715, number of used features: 39\n",
      "[LightGBM] [Info] Start training from score 73.862948\n"
     ]
    }
   ],
   "source": [
    "results = evaluate_models(X_train, X_test, y_train, y_test, models)"
   ]
  },
  {
   "cell_type": "code",
   "execution_count": 59,
   "id": "198ed7f3-3593-4739-b6f8-4041c35be048",
   "metadata": {},
   "outputs": [],
   "source": [
    "best_model_name = min(results, key = results.get)\n",
    "best_model = models[best_model_name]"
   ]
  },
  {
   "cell_type": "code",
   "execution_count": 67,
   "id": "327cea76-c023-4ab8-adcb-986ac9afa61b",
   "metadata": {},
   "outputs": [
    {
     "name": "stdout",
     "output_type": "stream",
     "text": [
      "best model is Extra Tree with rmse 0.013839215783378444\n"
     ]
    }
   ],
   "source": [
    "print(f\"best model is {best_model_name} with rmse {results[best_model_name]}\")"
   ]
  },
  {
   "cell_type": "code",
   "execution_count": 69,
   "id": "29363c78-5d57-49ce-8100-73d2c32bc5df",
   "metadata": {},
   "outputs": [],
   "source": [
    "y_pred = best_model.fit(X_train, y_train).predict(X_test)"
   ]
  },
  {
   "cell_type": "code",
   "execution_count": 72,
   "id": "406f17eb-08bd-4bae-83f6-c006c7aad0d5",
   "metadata": {},
   "outputs": [
    {
     "name": "stdout",
     "output_type": "stream",
     "text": [
      "0.013773354118103777\n"
     ]
    }
   ],
   "source": [
    "print(np.sqrt(mean_squared_error(y_test, y_pred)))"
   ]
  },
  {
   "cell_type": "code",
   "execution_count": 74,
   "id": "3247a5dd-1cdd-4aac-bb23-44a26f97faae",
   "metadata": {},
   "outputs": [],
   "source": [
    "x_train = newtrain.drop('Heart_Rate', axis = 1)\n",
    "y_train = newtrain['Heart_Rate']\n",
    "x_test = newtest.drop('Heart_Rate', axis = 1)\n",
    "y_pred = best_model.fit(x_train, y_train).predict(x_test)"
   ]
  },
  {
   "cell_type": "code",
   "execution_count": 75,
   "id": "cd0e9baf-0e65-4682-95ee-6a2cb2583f90",
   "metadata": {},
   "outputs": [
    {
     "data": {
      "text/html": [
       "<div>\n",
       "<style scoped>\n",
       "    .dataframe tbody tr th:only-of-type {\n",
       "        vertical-align: middle;\n",
       "    }\n",
       "\n",
       "    .dataframe tbody tr th {\n",
       "        vertical-align: top;\n",
       "    }\n",
       "\n",
       "    .dataframe thead th {\n",
       "        text-align: right;\n",
       "    }\n",
       "</style>\n",
       "<table border=\"1\" class=\"dataframe\">\n",
       "  <thead>\n",
       "    <tr style=\"text-align: right;\">\n",
       "      <th></th>\n",
       "      <th>Heart_Rate</th>\n",
       "    </tr>\n",
       "  </thead>\n",
       "  <tbody>\n",
       "    <tr>\n",
       "      <th>0</th>\n",
       "      <td>72.517902</td>\n",
       "    </tr>\n",
       "    <tr>\n",
       "      <th>1</th>\n",
       "      <td>64.022100</td>\n",
       "    </tr>\n",
       "    <tr>\n",
       "      <th>2</th>\n",
       "      <td>65.650655</td>\n",
       "    </tr>\n",
       "    <tr>\n",
       "      <th>3</th>\n",
       "      <td>82.760330</td>\n",
       "    </tr>\n",
       "    <tr>\n",
       "      <th>4</th>\n",
       "      <td>69.340038</td>\n",
       "    </tr>\n",
       "  </tbody>\n",
       "</table>\n",
       "</div>"
      ],
      "text/plain": [
       "   Heart_Rate\n",
       "0   72.517902\n",
       "1   64.022100\n",
       "2   65.650655\n",
       "3   82.760330\n",
       "4   69.340038"
      ]
     },
     "execution_count": 75,
     "metadata": {},
     "output_type": "execute_result"
    }
   ],
   "source": [
    "solution = pd.DataFrame({'Heart_Rate' : y_pred})\n",
    "solution.head()"
   ]
  },
  {
   "cell_type": "code",
   "execution_count": 76,
   "id": "6194836f-2b02-4f1b-ae54-d76a83af4ae9",
   "metadata": {},
   "outputs": [],
   "source": [
    "solution.to_csv('Solution.csv', index = False)"
   ]
  },
  {
   "cell_type": "code",
   "execution_count": null,
   "id": "701ddbf6-e30a-462f-a43f-d1d47a1044e2",
   "metadata": {},
   "outputs": [],
   "source": []
  }
 ],
 "metadata": {
  "kernelspec": {
   "display_name": "Python 3 (ipykernel)",
   "language": "python",
   "name": "python3"
  },
  "language_info": {
   "codemirror_mode": {
    "name": "ipython",
    "version": 3
   },
   "file_extension": ".py",
   "mimetype": "text/x-python",
   "name": "python",
   "nbconvert_exporter": "python",
   "pygments_lexer": "ipython3",
   "version": "3.12.7"
  }
 },
 "nbformat": 4,
 "nbformat_minor": 5
}
