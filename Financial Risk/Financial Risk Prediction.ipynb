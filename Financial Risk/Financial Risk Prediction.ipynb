{
 "cells": [
  {
   "cell_type": "code",
   "execution_count": 1,
   "metadata": {},
   "outputs": [],
   "source": [
    "import numpy as np\n",
    "import pandas as pd\n",
    "import matplotlib.pyplot as plt\n",
    "import seaborn as sns"
   ]
  },
  {
   "cell_type": "code",
   "execution_count": 2,
   "metadata": {},
   "outputs": [
    {
     "data": {
      "text/html": [
       "<div>\n",
       "<style scoped>\n",
       "    .dataframe tbody tr th:only-of-type {\n",
       "        vertical-align: middle;\n",
       "    }\n",
       "\n",
       "    .dataframe tbody tr th {\n",
       "        vertical-align: top;\n",
       "    }\n",
       "\n",
       "    .dataframe thead th {\n",
       "        text-align: right;\n",
       "    }\n",
       "</style>\n",
       "<table border=\"1\" class=\"dataframe\">\n",
       "  <thead>\n",
       "    <tr style=\"text-align: right;\">\n",
       "      <th></th>\n",
       "      <th>City</th>\n",
       "      <th>Location_Score</th>\n",
       "      <th>Internal_Audit_Score</th>\n",
       "      <th>External_Audit_Score</th>\n",
       "      <th>Fin_Score</th>\n",
       "      <th>Loss_score</th>\n",
       "      <th>Past_Results</th>\n",
       "      <th>IsUnderRisk</th>\n",
       "    </tr>\n",
       "  </thead>\n",
       "  <tbody>\n",
       "    <tr>\n",
       "      <th>0</th>\n",
       "      <td>2</td>\n",
       "      <td>8.032</td>\n",
       "      <td>14</td>\n",
       "      <td>8</td>\n",
       "      <td>3</td>\n",
       "      <td>6</td>\n",
       "      <td>0</td>\n",
       "      <td>1</td>\n",
       "    </tr>\n",
       "    <tr>\n",
       "      <th>1</th>\n",
       "      <td>31</td>\n",
       "      <td>77.730</td>\n",
       "      <td>8</td>\n",
       "      <td>3</td>\n",
       "      <td>3</td>\n",
       "      <td>8</td>\n",
       "      <td>1</td>\n",
       "      <td>0</td>\n",
       "    </tr>\n",
       "    <tr>\n",
       "      <th>2</th>\n",
       "      <td>40</td>\n",
       "      <td>59.203</td>\n",
       "      <td>3</td>\n",
       "      <td>12</td>\n",
       "      <td>11</td>\n",
       "      <td>3</td>\n",
       "      <td>0</td>\n",
       "      <td>1</td>\n",
       "    </tr>\n",
       "    <tr>\n",
       "      <th>3</th>\n",
       "      <td>12</td>\n",
       "      <td>73.080</td>\n",
       "      <td>4</td>\n",
       "      <td>5</td>\n",
       "      <td>7</td>\n",
       "      <td>6</td>\n",
       "      <td>0</td>\n",
       "      <td>0</td>\n",
       "    </tr>\n",
       "    <tr>\n",
       "      <th>4</th>\n",
       "      <td>4</td>\n",
       "      <td>15.666</td>\n",
       "      <td>13</td>\n",
       "      <td>15</td>\n",
       "      <td>6</td>\n",
       "      <td>7</td>\n",
       "      <td>2</td>\n",
       "      <td>1</td>\n",
       "    </tr>\n",
       "  </tbody>\n",
       "</table>\n",
       "</div>"
      ],
      "text/plain": [
       "   City  Location_Score  Internal_Audit_Score  External_Audit_Score  \\\n",
       "0     2           8.032                    14                     8   \n",
       "1    31          77.730                     8                     3   \n",
       "2    40          59.203                     3                    12   \n",
       "3    12          73.080                     4                     5   \n",
       "4     4          15.666                    13                    15   \n",
       "\n",
       "   Fin_Score  Loss_score  Past_Results  IsUnderRisk  \n",
       "0          3           6             0            1  \n",
       "1          3           8             1            0  \n",
       "2         11           3             0            1  \n",
       "3          7           6             0            0  \n",
       "4          6           7             2            1  "
      ]
     },
     "execution_count": 2,
     "metadata": {},
     "output_type": "execute_result"
    }
   ],
   "source": [
    "train = pd.read_csv('Train.csv')\n",
    "train.head()"
   ]
  },
  {
   "cell_type": "code",
   "execution_count": 3,
   "metadata": {},
   "outputs": [
    {
     "data": {
      "text/html": [
       "<div>\n",
       "<style scoped>\n",
       "    .dataframe tbody tr th:only-of-type {\n",
       "        vertical-align: middle;\n",
       "    }\n",
       "\n",
       "    .dataframe tbody tr th {\n",
       "        vertical-align: top;\n",
       "    }\n",
       "\n",
       "    .dataframe thead th {\n",
       "        text-align: right;\n",
       "    }\n",
       "</style>\n",
       "<table border=\"1\" class=\"dataframe\">\n",
       "  <thead>\n",
       "    <tr style=\"text-align: right;\">\n",
       "      <th></th>\n",
       "      <th>City</th>\n",
       "      <th>Location_Score</th>\n",
       "      <th>Internal_Audit_Score</th>\n",
       "      <th>External_Audit_Score</th>\n",
       "      <th>Fin_Score</th>\n",
       "      <th>Loss_score</th>\n",
       "      <th>Past_Results</th>\n",
       "    </tr>\n",
       "  </thead>\n",
       "  <tbody>\n",
       "    <tr>\n",
       "      <th>0</th>\n",
       "      <td>41</td>\n",
       "      <td>18.272</td>\n",
       "      <td>13</td>\n",
       "      <td>12</td>\n",
       "      <td>9</td>\n",
       "      <td>7</td>\n",
       "      <td>0</td>\n",
       "    </tr>\n",
       "    <tr>\n",
       "      <th>1</th>\n",
       "      <td>17</td>\n",
       "      <td>64.799</td>\n",
       "      <td>6</td>\n",
       "      <td>10</td>\n",
       "      <td>7</td>\n",
       "      <td>4</td>\n",
       "      <td>1</td>\n",
       "    </tr>\n",
       "    <tr>\n",
       "      <th>2</th>\n",
       "      <td>31</td>\n",
       "      <td>68.890</td>\n",
       "      <td>3</td>\n",
       "      <td>3</td>\n",
       "      <td>7</td>\n",
       "      <td>8</td>\n",
       "      <td>0</td>\n",
       "    </tr>\n",
       "    <tr>\n",
       "      <th>3</th>\n",
       "      <td>3</td>\n",
       "      <td>16.492</td>\n",
       "      <td>15</td>\n",
       "      <td>10</td>\n",
       "      <td>7</td>\n",
       "      <td>4</td>\n",
       "      <td>1</td>\n",
       "    </tr>\n",
       "    <tr>\n",
       "      <th>4</th>\n",
       "      <td>9</td>\n",
       "      <td>17.178</td>\n",
       "      <td>7</td>\n",
       "      <td>3</td>\n",
       "      <td>8</td>\n",
       "      <td>3</td>\n",
       "      <td>1</td>\n",
       "    </tr>\n",
       "  </tbody>\n",
       "</table>\n",
       "</div>"
      ],
      "text/plain": [
       "   City  Location_Score  Internal_Audit_Score  External_Audit_Score  \\\n",
       "0    41          18.272                    13                    12   \n",
       "1    17          64.799                     6                    10   \n",
       "2    31          68.890                     3                     3   \n",
       "3     3          16.492                    15                    10   \n",
       "4     9          17.178                     7                     3   \n",
       "\n",
       "   Fin_Score  Loss_score  Past_Results  \n",
       "0          9           7             0  \n",
       "1          7           4             1  \n",
       "2          7           8             0  \n",
       "3          7           4             1  \n",
       "4          8           3             1  "
      ]
     },
     "execution_count": 3,
     "metadata": {},
     "output_type": "execute_result"
    }
   ],
   "source": [
    "test = pd.read_csv('Test.csv')\n",
    "test.head()"
   ]
  },
  {
   "cell_type": "code",
   "execution_count": 4,
   "metadata": {},
   "outputs": [
    {
     "data": {
      "text/plain": [
       "<matplotlib.axes._subplots.AxesSubplot at 0x22f9aa674e0>"
      ]
     },
     "execution_count": 4,
     "metadata": {},
     "output_type": "execute_result"
    },
    {
     "data": {
      "image/png": "[encoded data removed]",
      "text/plain": [
       "<Figure size 432x288 with 2 Axes>"
      ]
     },
     "metadata": {
      "needs_background": "light"
     },
     "output_type": "display_data"
    }
   ],
   "source": [
    "sns.heatmap(train.corr(), annot= True)"
   ]
  },
  {
   "cell_type": "code",
   "execution_count": 5,
   "metadata": {},
   "outputs": [],
   "source": [
    "cor = train.corr()\n",
    "corr_target = abs(cor['IsUnderRisk'])"
   ]
  },
  {
   "cell_type": "code",
   "execution_count": 6,
   "metadata": {},
   "outputs": [
    {
     "data": {
      "text/plain": [
       "Location_Score          0.423956\n",
       "Internal_Audit_Score    0.586097\n",
       "External_Audit_Score    0.435619\n",
       "Fin_Score               0.362463\n",
       "Past_Results            0.102120\n",
       "IsUnderRisk             1.000000\n",
       "Name: IsUnderRisk, dtype: float64"
      ]
     },
     "execution_count": 6,
     "metadata": {},
     "output_type": "execute_result"
    }
   ],
   "source": [
    "features = corr_target[corr_target>0.1]\n",
    "features"
   ]
  },
  {
   "cell_type": "code",
   "execution_count": 101,
   "metadata": {},
   "outputs": [],
   "source": [
    "x = train.drop('IsUnderRisk', axis = 1)\n",
    "y = train['IsUnderRisk']"
   ]
  },
  {
   "cell_type": "code",
   "execution_count": 102,
   "metadata": {},
   "outputs": [
    {
     "name": "stdout",
     "output_type": "stream",
     "text": [
      "(380, 7)\n",
      "(163, 7)\n",
      "(380,)\n",
      "(163,)\n"
     ]
    }
   ],
   "source": [
    "from sklearn.model_selection import train_test_split\n",
    "x_train, x_test, y_train, y_test = train_test_split(x, y, test_size = 0.3, random_state = 1)\n",
    "print(x_train.shape)\n",
    "print(x_test.shape)\n",
    "print(y_train.shape)\n",
    "print(y_test.shape)"
   ]
  },
  {
   "cell_type": "code",
   "execution_count": 103,
   "metadata": {},
   "outputs": [],
   "source": [
    "from sklearn.preprocessing import StandardScaler\n",
    "sc = StandardScaler()"
   ]
  },
  {
   "cell_type": "code",
   "execution_count": 104,
   "metadata": {},
   "outputs": [],
   "source": [
    "x_train = sc.fit_transform(x_train)\n",
    "x_test = sc.transform(x_test)"
   ]
  },
  {
   "cell_type": "code",
   "execution_count": 11,
   "metadata": {},
   "outputs": [],
   "source": [
    "from sklearn.linear_model import LogisticRegression\n",
    "lor = LogisticRegression(solver='liblinear')"
   ]
  },
  {
   "cell_type": "code",
   "execution_count": 12,
   "metadata": {},
   "outputs": [
    {
     "name": "stdout",
     "output_type": "stream",
     "text": [
      "0.8105263157894737\n",
      "0.8404907975460123\n"
     ]
    }
   ],
   "source": [
    "lor.fit(x_train, y_train)\n",
    "\n",
    "print(lor.score(x_train, y_train))\n",
    "print(lor.score(x_test, y_test))"
   ]
  },
  {
   "cell_type": "code",
   "execution_count": 13,
   "metadata": {},
   "outputs": [
    {
     "data": {
      "text/plain": [
       "array([0, 1], dtype=int64)"
      ]
     },
     "execution_count": 13,
     "metadata": {},
     "output_type": "execute_result"
    }
   ],
   "source": [
    "lor.classes_"
   ]
  },
  {
   "cell_type": "code",
   "execution_count": 14,
   "metadata": {},
   "outputs": [
    {
     "data": {
      "text/plain": [
       "array([[1.23171295e-01, 8.76828705e-01],\n",
       "       [7.56391162e-02, 9.24360884e-01],\n",
       "       [2.04968329e-02, 9.79503167e-01],\n",
       "       [3.62280198e-01, 6.37719802e-01],\n",
       "       [8.17806903e-01, 1.82193097e-01],\n",
       "       [2.87052214e-02, 9.71294779e-01],\n",
       "       [1.19743828e-01, 8.80256172e-01],\n",
       "       [8.97987462e-04, 9.99102013e-01],\n",
       "       [2.55817791e-03, 9.97441822e-01],\n",
       "       [4.41832100e-03, 9.95581679e-01],\n",
       "       [6.92943537e-01, 3.07056463e-01],\n",
       "       [1.84904605e-02, 9.81509540e-01],\n",
       "       [5.49662509e-02, 9.45033749e-01],\n",
       "       [7.64075097e-01, 2.35924903e-01],\n",
       "       [2.88678124e-01, 7.11321876e-01],\n",
       "       [1.29228612e-02, 9.87077139e-01],\n",
       "       [9.43028054e-01, 5.69719457e-02],\n",
       "       [2.54346228e-03, 9.97456538e-01],\n",
       "       [1.74366697e-03, 9.98256333e-01],\n",
       "       [1.12178188e-03, 9.98878218e-01],\n",
       "       [8.07570707e-01, 1.92429293e-01],\n",
       "       [2.01334025e-03, 9.97986660e-01],\n",
       "       [2.27341949e-01, 7.72658051e-01],\n",
       "       [9.35380474e-01, 6.46195257e-02],\n",
       "       [8.24111550e-01, 1.75888450e-01],\n",
       "       [1.66273914e-02, 9.83372609e-01],\n",
       "       [4.23104082e-01, 5.76895918e-01],\n",
       "       [2.10735630e-02, 9.78926437e-01],\n",
       "       [2.86152723e-01, 7.13847277e-01],\n",
       "       [8.72480515e-01, 1.27519485e-01],\n",
       "       [1.37102689e-03, 9.98628973e-01],\n",
       "       [2.50375297e-01, 7.49624703e-01],\n",
       "       [2.73370073e-04, 9.99726630e-01],\n",
       "       [2.74283378e-01, 7.25716622e-01],\n",
       "       [5.87697475e-01, 4.12302525e-01],\n",
       "       [5.28954670e-01, 4.71045330e-01],\n",
       "       [5.98390502e-03, 9.94016095e-01],\n",
       "       [1.45110809e-01, 8.54889191e-01],\n",
       "       [5.20586637e-01, 4.79413363e-01],\n",
       "       [7.69662909e-02, 9.23033709e-01],\n",
       "       [6.79609264e-01, 3.20390736e-01],\n",
       "       [6.89369541e-04, 9.99310630e-01],\n",
       "       [5.77413481e-01, 4.22586519e-01],\n",
       "       [4.04144308e-01, 5.95855692e-01],\n",
       "       [3.47615568e-01, 6.52384432e-01],\n",
       "       [9.74386863e-01, 2.56131367e-02],\n",
       "       [6.71809115e-01, 3.28190885e-01],\n",
       "       [5.13761151e-01, 4.86238849e-01],\n",
       "       [6.74737353e-03, 9.93252626e-01],\n",
       "       [2.05848983e-02, 9.79415102e-01],\n",
       "       [7.28493559e-01, 2.71506441e-01],\n",
       "       [4.48267118e-01, 5.51732882e-01],\n",
       "       [6.94980739e-03, 9.93050193e-01],\n",
       "       [7.80868966e-01, 2.19131034e-01],\n",
       "       [4.12521434e-02, 9.58747857e-01],\n",
       "       [5.90103094e-01, 4.09896906e-01],\n",
       "       [3.97343981e-01, 6.02656019e-01],\n",
       "       [8.61682362e-01, 1.38317638e-01],\n",
       "       [9.27074800e-01, 7.29252000e-02],\n",
       "       [2.91541774e-03, 9.97084582e-01],\n",
       "       [2.18945380e-01, 7.81054620e-01],\n",
       "       [2.57426038e-01, 7.42573962e-01],\n",
       "       [3.44953884e-03, 9.96550461e-01],\n",
       "       [8.36140087e-01, 1.63859913e-01],\n",
       "       [4.29918126e-01, 5.70081874e-01],\n",
       "       [5.80831911e-01, 4.19168089e-01],\n",
       "       [6.14722959e-03, 9.93852770e-01],\n",
       "       [5.39636761e-01, 4.60363239e-01],\n",
       "       [5.87546958e-02, 9.41245304e-01],\n",
       "       [8.21971032e-03, 9.91780290e-01],\n",
       "       [6.46446995e-01, 3.53553005e-01],\n",
       "       [1.82986808e-01, 8.17013192e-01],\n",
       "       [4.88246107e-01, 5.11753893e-01],\n",
       "       [1.40012524e-01, 8.59987476e-01],\n",
       "       [5.81384387e-01, 4.18615613e-01],\n",
       "       [7.08448321e-01, 2.91551679e-01],\n",
       "       [1.40170644e-03, 9.98598294e-01],\n",
       "       [6.06545884e-01, 3.93454116e-01],\n",
       "       [3.88199047e-01, 6.11800953e-01],\n",
       "       [1.15216273e-01, 8.84783727e-01],\n",
       "       [1.73208091e-01, 8.26791909e-01],\n",
       "       [5.20892532e-01, 4.79107468e-01],\n",
       "       [8.63854903e-01, 1.36145097e-01],\n",
       "       [2.31519040e-01, 7.68480960e-01],\n",
       "       [7.77732605e-01, 2.22267395e-01],\n",
       "       [8.80728674e-01, 1.19271326e-01],\n",
       "       [9.15160878e-01, 8.48391224e-02],\n",
       "       [7.99969334e-03, 9.92000307e-01],\n",
       "       [9.43198868e-01, 5.68011318e-02],\n",
       "       [7.50618582e-01, 2.49381418e-01],\n",
       "       [9.52684609e-01, 4.73153913e-02],\n",
       "       [4.58630948e-01, 5.41369052e-01],\n",
       "       [2.49538482e-01, 7.50461518e-01],\n",
       "       [2.61351184e-01, 7.38648816e-01],\n",
       "       [1.50571483e-02, 9.84942852e-01],\n",
       "       [2.29250638e-01, 7.70749362e-01],\n",
       "       [2.93876843e-02, 9.70612316e-01],\n",
       "       [6.69300517e-01, 3.30699483e-01],\n",
       "       [4.69831735e-01, 5.30168265e-01],\n",
       "       [3.69369404e-03, 9.96306306e-01],\n",
       "       [8.54279405e-04, 9.99145721e-01],\n",
       "       [4.31655769e-01, 5.68344231e-01],\n",
       "       [5.57501154e-01, 4.42498846e-01],\n",
       "       [1.59846336e-02, 9.84015366e-01],\n",
       "       [2.68303222e-02, 9.73169678e-01],\n",
       "       [6.66713929e-01, 3.33286071e-01],\n",
       "       [7.78991065e-01, 2.21008935e-01],\n",
       "       [4.01233965e-01, 5.98766035e-01],\n",
       "       [8.88667185e-01, 1.11332815e-01],\n",
       "       [2.43957498e-01, 7.56042502e-01],\n",
       "       [6.89769201e-01, 3.10230799e-01],\n",
       "       [6.92431927e-02, 9.30756807e-01],\n",
       "       [1.70756153e-03, 9.98292438e-01],\n",
       "       [4.88423728e-01, 5.11576272e-01],\n",
       "       [3.32836497e-01, 6.67163503e-01],\n",
       "       [5.16485991e-01, 4.83514009e-01],\n",
       "       [6.93361977e-01, 3.06638023e-01],\n",
       "       [8.82105582e-02, 9.11789442e-01],\n",
       "       [9.08783604e-01, 9.12163960e-02],\n",
       "       [6.30091479e-01, 3.69908521e-01],\n",
       "       [8.74002293e-01, 1.25997707e-01],\n",
       "       [8.60135943e-03, 9.91398641e-01],\n",
       "       [4.29642928e-02, 9.57035707e-01],\n",
       "       [8.64842705e-01, 1.35157295e-01],\n",
       "       [3.60122902e-01, 6.39877098e-01],\n",
       "       [5.26870983e-01, 4.73129017e-01],\n",
       "       [1.73422108e-03, 9.98265779e-01],\n",
       "       [6.00521754e-02, 9.39947825e-01],\n",
       "       [8.01037128e-02, 9.19896287e-01],\n",
       "       [2.80970592e-01, 7.19029408e-01],\n",
       "       [8.87008928e-01, 1.12991072e-01],\n",
       "       [8.67457273e-01, 1.32542727e-01],\n",
       "       [2.25373626e-01, 7.74626374e-01],\n",
       "       [4.33676899e-02, 9.56632310e-01],\n",
       "       [4.24718435e-02, 9.57528156e-01],\n",
       "       [6.30088400e-01, 3.69911600e-01],\n",
       "       [8.85955589e-01, 1.14044411e-01],\n",
       "       [7.88192384e-01, 2.11807616e-01],\n",
       "       [8.63696969e-01, 1.36303031e-01],\n",
       "       [5.49512091e-01, 4.50487909e-01],\n",
       "       [1.37702185e-02, 9.86229781e-01],\n",
       "       [6.66316559e-01, 3.33683441e-01],\n",
       "       [6.25831147e-01, 3.74168853e-01],\n",
       "       [9.72686998e-01, 2.73130018e-02],\n",
       "       [4.60221756e-01, 5.39778244e-01],\n",
       "       [8.44262479e-01, 1.55737521e-01],\n",
       "       [6.86178100e-01, 3.13821900e-01],\n",
       "       [2.70180867e-02, 9.72981913e-01],\n",
       "       [2.39995172e-03, 9.97600048e-01],\n",
       "       [1.01725115e-02, 9.89827488e-01],\n",
       "       [1.04028954e-03, 9.98959710e-01],\n",
       "       [2.02228183e-01, 7.97771817e-01],\n",
       "       [9.25072303e-01, 7.49276974e-02],\n",
       "       [9.00903520e-01, 9.90964799e-02],\n",
       "       [7.48866915e-02, 9.25113309e-01],\n",
       "       [6.23008953e-02, 9.37699105e-01],\n",
       "       [5.48708611e-03, 9.94512914e-01],\n",
       "       [2.41575338e-01, 7.58424662e-01],\n",
       "       [7.06336577e-01, 2.93663423e-01],\n",
       "       [7.71551082e-01, 2.28448918e-01],\n",
       "       [6.01064551e-02, 9.39893545e-01],\n",
       "       [5.09659846e-01, 4.90340154e-01],\n",
       "       [9.57938944e-01, 4.20610558e-02]])"
      ]
     },
     "execution_count": 14,
     "metadata": {},
     "output_type": "execute_result"
    }
   ],
   "source": [
    "lor.predict_proba(x_test)"
   ]
  },
  {
   "cell_type": "code",
   "execution_count": 15,
   "metadata": {},
   "outputs": [],
   "source": [
    "test_pred = lor.predict(test)"
   ]
  },
  {
   "cell_type": "code",
   "execution_count": 16,
   "metadata": {},
   "outputs": [],
   "source": [
    "a = lor.predict_proba(test)"
   ]
  },
  {
   "cell_type": "code",
   "execution_count": 63,
   "metadata": {},
   "outputs": [],
   "source": [
    "df1 = pd.DataFrame(a)\n",
    "filepath = 'MySubmission.xlsx'\n",
    "df1.to_excel(filepath, index = False)"
   ]
  },
  {
   "cell_type": "code",
   "execution_count": null,
   "metadata": {},
   "outputs": [],
   "source": []
  },
  {
   "cell_type": "code",
   "execution_count": 37,
   "metadata": {},
   "outputs": [
    {
     "data": {
      "text/plain": [
       "GridSearchCV(cv=5, error_score=nan,\n",
       "             estimator=RandomForestClassifier(bootstrap=True, ccp_alpha=0.0,\n",
       "                                              class_weight=None,\n",
       "                                              criterion='gini', max_depth=None,\n",
       "                                              max_features='auto',\n",
       "                                              max_leaf_nodes=None,\n",
       "                                              max_samples=None,\n",
       "                                              min_impurity_decrease=0.0,\n",
       "                                              min_impurity_split=None,\n",
       "                                              min_samples_leaf=1,\n",
       "                                              min_samples_split=2,\n",
       "                                              min_weight_fraction_leaf=0.0,\n",
       "                                              n_estimators=100, n_jobs=None,\n",
       "                                              oob_score=False,\n",
       "                                              random_state=None, verbose=0,\n",
       "                                              warm_start=False),\n",
       "             iid='deprecated', n_jobs=None,\n",
       "             param_grid={'criterion': ['gini', 'entropy'],\n",
       "                         'max_depth': [1, 2, 3, 4, 5, 6],\n",
       "                         'min_samples_leaf': [1, 2, 3, 4, 5],\n",
       "                         'min_samples_split': [2, 3, 4, 5, 6, 7]},\n",
       "             pre_dispatch='2*n_jobs', refit=True, return_train_score=False,\n",
       "             scoring=None, verbose=0)"
      ]
     },
     "execution_count": 37,
     "metadata": {},
     "output_type": "execute_result"
    }
   ],
   "source": [
    "from sklearn.ensemble import RandomForestClassifier\n",
    "rf = RandomForestClassifier()\n",
    "rf.fit(x_train, y_train)\n",
    "params = {'criterion':['gini','entropy'], 'max_depth':[1,2,3,4,5,6], 'min_samples_split':[2,3,4,5,6,7], \n",
    "          'min_samples_leaf':[1, 2, 3, 4, 5]}\n",
    "grid = GridSearchCV(rf, param_grid= params, cv = 5)\n",
    "grid.fit(x_train, y_train)"
   ]
  },
  {
   "cell_type": "code",
   "execution_count": 38,
   "metadata": {},
   "outputs": [
    {
     "data": {
      "text/plain": [
       "{'criterion': 'gini',\n",
       " 'max_depth': 5,\n",
       " 'min_samples_leaf': 2,\n",
       " 'min_samples_split': 5}"
      ]
     },
     "execution_count": 38,
     "metadata": {},
     "output_type": "execute_result"
    }
   ],
   "source": [
    "grid.best_params_"
   ]
  },
  {
   "cell_type": "code",
   "execution_count": 39,
   "metadata": {},
   "outputs": [
    {
     "data": {
      "text/plain": [
       "0.8526315789473685"
      ]
     },
     "execution_count": 39,
     "metadata": {},
     "output_type": "execute_result"
    }
   ],
   "source": [
    "grid.best_score_"
   ]
  },
  {
   "cell_type": "code",
   "execution_count": 40,
   "metadata": {},
   "outputs": [
    {
     "name": "stdout",
     "output_type": "stream",
     "text": [
      "0.9210526315789473\n",
      "0.852760736196319\n"
     ]
    }
   ],
   "source": [
    "rf = RandomForestClassifier(criterion= 'gini', max_depth= 5, min_samples_leaf= 2, min_samples_split= 5)\n",
    "rf.fit(x_train, y_train)\n",
    "print(rf.score(x_train, y_train))\n",
    "print(rf.score(x_test, y_test))"
   ]
  },
  {
   "cell_type": "code",
   "execution_count": 41,
   "metadata": {},
   "outputs": [],
   "source": [
    "rf.predict_proba(x_test)\n",
    "\n",
    "test_pred = rf.predict(test)\n",
    "\n",
    "a = rf.predict_proba(test)\n",
    "\n",
    "df1 = pd.DataFrame(a)\n",
    "filepath = 'MySubmission3.xlsx'\n",
    "df1.to_excel(filepath, index = False)"
   ]
  },
  {
   "cell_type": "code",
   "execution_count": null,
   "metadata": {},
   "outputs": [],
   "source": []
  }
 ],
 "metadata": {
  "kernelspec": {
   "display_name": "Python 3",
   "language": "python",
   "name": "python3"
  },
  "language_info": {
   "codemirror_mode": {
    "name": "ipython",
    "version": 3
   },
   "file_extension": ".py",
   "mimetype": "text/x-python",
   "name": "python",
   "nbconvert_exporter": "python",
   "pygments_lexer": "ipython3",
   "version": "3.7.3"
  }
 },
 "nbformat": 4,
 "nbformat_minor": 2
}
