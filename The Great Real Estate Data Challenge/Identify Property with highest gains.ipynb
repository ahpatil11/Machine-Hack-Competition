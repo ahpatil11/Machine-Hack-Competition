{
 "cells": [
  {
   "cell_type": "code",
   "execution_count": 1,
   "id": "d6151551",
   "metadata": {},
   "outputs": [],
   "source": [
    "import numpy as np\n",
    "import pandas as pd\n",
    "import matplotlib.pyplot as plt\n",
    "import seaborn as sns"
   ]
  },
  {
   "cell_type": "code",
   "execution_count": 2,
   "id": "07c1d8d5",
   "metadata": {},
   "outputs": [
    {
     "data": {
      "text/html": [
       "<div>\n",
       "<style scoped>\n",
       "    .dataframe tbody tr th:only-of-type {\n",
       "        vertical-align: middle;\n",
       "    }\n",
       "\n",
       "    .dataframe tbody tr th {\n",
       "        vertical-align: top;\n",
       "    }\n",
       "\n",
       "    .dataframe thead th {\n",
       "        text-align: right;\n",
       "    }\n",
       "</style>\n",
       "<table border=\"1\" class=\"dataframe\">\n",
       "  <thead>\n",
       "    <tr style=\"text-align: right;\">\n",
       "      <th></th>\n",
       "      <th>Year</th>\n",
       "      <th>Date</th>\n",
       "      <th>Locality</th>\n",
       "      <th>Address</th>\n",
       "      <th>Estimated Value</th>\n",
       "      <th>Sale Price</th>\n",
       "      <th>Property</th>\n",
       "      <th>Residential</th>\n",
       "      <th>num_rooms</th>\n",
       "      <th>carpet_area</th>\n",
       "      <th>property_tax_rate</th>\n",
       "    </tr>\n",
       "  </thead>\n",
       "  <tbody>\n",
       "    <tr>\n",
       "      <th>0</th>\n",
       "      <td>2009</td>\n",
       "      <td>2009-01-02</td>\n",
       "      <td>Greenwich</td>\n",
       "      <td>40 ETTL LN UT 24</td>\n",
       "      <td>711270.0</td>\n",
       "      <td>975000.0</td>\n",
       "      <td>Condo</td>\n",
       "      <td>Condominium</td>\n",
       "      <td>2</td>\n",
       "      <td>760</td>\n",
       "      <td>1.025953</td>\n",
       "    </tr>\n",
       "    <tr>\n",
       "      <th>1</th>\n",
       "      <td>2009</td>\n",
       "      <td>2009-01-02</td>\n",
       "      <td>East Hampton</td>\n",
       "      <td>18 BAUER RD</td>\n",
       "      <td>119970.0</td>\n",
       "      <td>189900.0</td>\n",
       "      <td>Single Family</td>\n",
       "      <td>Detached House</td>\n",
       "      <td>3</td>\n",
       "      <td>921</td>\n",
       "      <td>1.025953</td>\n",
       "    </tr>\n",
       "    <tr>\n",
       "      <th>2</th>\n",
       "      <td>2009</td>\n",
       "      <td>2009-01-02</td>\n",
       "      <td>Ridgefield</td>\n",
       "      <td>48 HIGH VALLEY RD.</td>\n",
       "      <td>494530.0</td>\n",
       "      <td>825000.0</td>\n",
       "      <td>Single Family</td>\n",
       "      <td>Detached House</td>\n",
       "      <td>3</td>\n",
       "      <td>982</td>\n",
       "      <td>1.025953</td>\n",
       "    </tr>\n",
       "    <tr>\n",
       "      <th>3</th>\n",
       "      <td>2009</td>\n",
       "      <td>2009-01-02</td>\n",
       "      <td>Old Lyme</td>\n",
       "      <td>56 MERIDEN RD</td>\n",
       "      <td>197600.0</td>\n",
       "      <td>450000.0</td>\n",
       "      <td>Single Family</td>\n",
       "      <td>Detached House</td>\n",
       "      <td>3</td>\n",
       "      <td>976</td>\n",
       "      <td>1.025953</td>\n",
       "    </tr>\n",
       "    <tr>\n",
       "      <th>4</th>\n",
       "      <td>2009</td>\n",
       "      <td>2009-01-02</td>\n",
       "      <td>Naugatuck</td>\n",
       "      <td>13 CELENTANO DR</td>\n",
       "      <td>105440.0</td>\n",
       "      <td>200000.0</td>\n",
       "      <td>Single Family</td>\n",
       "      <td>Detached House</td>\n",
       "      <td>3</td>\n",
       "      <td>947</td>\n",
       "      <td>1.025953</td>\n",
       "    </tr>\n",
       "  </tbody>\n",
       "</table>\n",
       "</div>"
      ],
      "text/plain": [
       "   Year        Date      Locality             Address  Estimated Value  \\\n",
       "0  2009  2009-01-02     Greenwich    40 ETTL LN UT 24         711270.0   \n",
       "1  2009  2009-01-02  East Hampton         18 BAUER RD         119970.0   \n",
       "2  2009  2009-01-02    Ridgefield  48 HIGH VALLEY RD.         494530.0   \n",
       "3  2009  2009-01-02      Old Lyme       56 MERIDEN RD         197600.0   \n",
       "4  2009  2009-01-02     Naugatuck     13 CELENTANO DR         105440.0   \n",
       "\n",
       "   Sale Price       Property     Residential  num_rooms  carpet_area  \\\n",
       "0    975000.0          Condo     Condominium          2          760   \n",
       "1    189900.0  Single Family  Detached House          3          921   \n",
       "2    825000.0  Single Family  Detached House          3          982   \n",
       "3    450000.0  Single Family  Detached House          3          976   \n",
       "4    200000.0  Single Family  Detached House          3          947   \n",
       "\n",
       "   property_tax_rate  \n",
       "0           1.025953  \n",
       "1           1.025953  \n",
       "2           1.025953  \n",
       "3           1.025953  \n",
       "4           1.025953  "
      ]
     },
     "execution_count": 2,
     "metadata": {},
     "output_type": "execute_result"
    }
   ],
   "source": [
    "train = pd.read_csv('train.csv')\n",
    "train.head()"
   ]
  },
  {
   "cell_type": "code",
   "execution_count": 3,
   "id": "5048283f",
   "metadata": {},
   "outputs": [
    {
     "data": {
      "text/plain": [
       "(553952, 11)"
      ]
     },
     "execution_count": 3,
     "metadata": {},
     "output_type": "execute_result"
    }
   ],
   "source": [
    "train.shape"
   ]
  },
  {
   "cell_type": "code",
   "execution_count": 4,
   "id": "f889ceb4",
   "metadata": {},
   "outputs": [
    {
     "data": {
      "text/html": [
       "<div>\n",
       "<style scoped>\n",
       "    .dataframe tbody tr th:only-of-type {\n",
       "        vertical-align: middle;\n",
       "    }\n",
       "\n",
       "    .dataframe tbody tr th {\n",
       "        vertical-align: top;\n",
       "    }\n",
       "\n",
       "    .dataframe thead th {\n",
       "        text-align: right;\n",
       "    }\n",
       "</style>\n",
       "<table border=\"1\" class=\"dataframe\">\n",
       "  <thead>\n",
       "    <tr style=\"text-align: right;\">\n",
       "      <th></th>\n",
       "      <th>Year</th>\n",
       "      <th>Date</th>\n",
       "      <th>Locality</th>\n",
       "      <th>Address</th>\n",
       "      <th>Estimated Value</th>\n",
       "      <th>Sale Price</th>\n",
       "      <th>Property</th>\n",
       "      <th>Residential</th>\n",
       "      <th>num_rooms</th>\n",
       "      <th>carpet_area</th>\n",
       "      <th>property_tax_rate</th>\n",
       "      <th>Segment</th>\n",
       "    </tr>\n",
       "  </thead>\n",
       "  <tbody>\n",
       "    <tr>\n",
       "      <th>0</th>\n",
       "      <td>2023</td>\n",
       "      <td>2023-01-01</td>\n",
       "      <td>Old Lyme</td>\n",
       "      <td>12 SWAN AVE</td>\n",
       "      <td>151400.0</td>\n",
       "      <td>0</td>\n",
       "      <td>Residential</td>\n",
       "      <td>Detached House</td>\n",
       "      <td>3</td>\n",
       "      <td>947.0</td>\n",
       "      <td>1.46</td>\n",
       "      <td>0</td>\n",
       "    </tr>\n",
       "    <tr>\n",
       "      <th>1</th>\n",
       "      <td>2023</td>\n",
       "      <td>2023-01-01</td>\n",
       "      <td>Ridgefield</td>\n",
       "      <td>59 LINCOLN LANE</td>\n",
       "      <td>686900.0</td>\n",
       "      <td>0</td>\n",
       "      <td>Residential</td>\n",
       "      <td>Detached House</td>\n",
       "      <td>3</td>\n",
       "      <td>1051.0</td>\n",
       "      <td>1.46</td>\n",
       "      <td>0</td>\n",
       "    </tr>\n",
       "    <tr>\n",
       "      <th>2</th>\n",
       "      <td>2023</td>\n",
       "      <td>2023-01-04</td>\n",
       "      <td>Cromwell</td>\n",
       "      <td>6 GROVE RD</td>\n",
       "      <td>152030.0</td>\n",
       "      <td>0</td>\n",
       "      <td>Residential</td>\n",
       "      <td>Detached House</td>\n",
       "      <td>3</td>\n",
       "      <td>925.0</td>\n",
       "      <td>1.46</td>\n",
       "      <td>0</td>\n",
       "    </tr>\n",
       "    <tr>\n",
       "      <th>3</th>\n",
       "      <td>2023</td>\n",
       "      <td>2023-01-04</td>\n",
       "      <td>New Haven</td>\n",
       "      <td>346 CONCORD ST</td>\n",
       "      <td>156130.0</td>\n",
       "      <td>0</td>\n",
       "      <td>Residential</td>\n",
       "      <td>Duplex</td>\n",
       "      <td>4</td>\n",
       "      <td>1210.0</td>\n",
       "      <td>1.46</td>\n",
       "      <td>0</td>\n",
       "    </tr>\n",
       "    <tr>\n",
       "      <th>4</th>\n",
       "      <td>2023</td>\n",
       "      <td>2023-01-04</td>\n",
       "      <td>Beacon Falls</td>\n",
       "      <td>14 LASKY ROAD</td>\n",
       "      <td>108970.0</td>\n",
       "      <td>0</td>\n",
       "      <td>Residential</td>\n",
       "      <td>Detached House</td>\n",
       "      <td>3</td>\n",
       "      <td>1089.0</td>\n",
       "      <td>1.46</td>\n",
       "      <td>0</td>\n",
       "    </tr>\n",
       "  </tbody>\n",
       "</table>\n",
       "</div>"
      ],
      "text/plain": [
       "   Year        Date      Locality          Address  Estimated Value  \\\n",
       "0  2023  2023-01-01      Old Lyme      12 SWAN AVE         151400.0   \n",
       "1  2023  2023-01-01    Ridgefield  59 LINCOLN LANE         686900.0   \n",
       "2  2023  2023-01-04      Cromwell       6 GROVE RD         152030.0   \n",
       "3  2023  2023-01-04     New Haven   346 CONCORD ST         156130.0   \n",
       "4  2023  2023-01-04  Beacon Falls    14 LASKY ROAD         108970.0   \n",
       "\n",
       "   Sale Price     Property     Residential  num_rooms  carpet_area  \\\n",
       "0           0  Residential  Detached House          3        947.0   \n",
       "1           0  Residential  Detached House          3       1051.0   \n",
       "2           0  Residential  Detached House          3        925.0   \n",
       "3           0  Residential          Duplex          4       1210.0   \n",
       "4           0  Residential  Detached House          3       1089.0   \n",
       "\n",
       "   property_tax_rate  Segment  \n",
       "0               1.46        0  \n",
       "1               1.46        0  \n",
       "2               1.46        0  \n",
       "3               1.46        0  \n",
       "4               1.46        0  "
      ]
     },
     "execution_count": 4,
     "metadata": {},
     "output_type": "execute_result"
    }
   ],
   "source": [
    "test = pd.read_csv('test.csv')\n",
    "test.head()"
   ]
  },
  {
   "cell_type": "code",
   "execution_count": 5,
   "id": "79bc4111",
   "metadata": {},
   "outputs": [
    {
     "data": {
      "text/plain": [
       "(43954, 12)"
      ]
     },
     "execution_count": 5,
     "metadata": {},
     "output_type": "execute_result"
    }
   ],
   "source": [
    "test.shape"
   ]
  },
  {
   "cell_type": "code",
   "execution_count": 6,
   "id": "45cc5617",
   "metadata": {},
   "outputs": [],
   "source": [
    "newtrain = train.copy()\n",
    "newtest = test.copy()"
   ]
  },
  {
   "cell_type": "code",
   "execution_count": 7,
   "id": "ac807edd",
   "metadata": {},
   "outputs": [],
   "source": [
    "segment = []\n",
    "for i in range(len(newtrain)):\n",
    "    segment.append(np.abs(newtrain['Sale Price'][i] - newtrain['Estimated Value'][i])/100)\n"
   ]
  },
  {
   "cell_type": "code",
   "execution_count": 8,
   "id": "cefeb832",
   "metadata": {},
   "outputs": [
    {
     "name": "stdout",
     "output_type": "stream",
     "text": [
      "381.8 754.8 1301.0\n"
     ]
    }
   ],
   "source": [
    "q1, q2, q3 = np.percentile(segment, [25, 50, 75])\n",
    "print(q1, q2, q3)"
   ]
  },
  {
   "cell_type": "code",
   "execution_count": 9,
   "id": "f9905b2b",
   "metadata": {},
   "outputs": [],
   "source": [
    "con_seg = []\n",
    "for ind in range(len(segment)):\n",
    "    if segment[ind] >= 0 and segment[ind] < q1:\n",
    "        con_seg.append(3)\n",
    "    if segment[ind] >= q1 and segment[ind] < q2:\n",
    "        con_seg.append(2)\n",
    "    if segment[ind] >= q2 and segment[ind] < q3:\n",
    "        con_seg.append(1)\n",
    "    if segment[ind] >= q3:\n",
    "        con_seg.append(0)"
   ]
  },
  {
   "cell_type": "code",
   "execution_count": 10,
   "id": "a8bf800f",
   "metadata": {},
   "outputs": [],
   "source": [
    "y_train = newtrain['Sale Price']\n",
    "newtrain.drop(['Sale Price','Year','Date','Address'] ,axis = 1,inplace = True)"
   ]
  },
  {
   "cell_type": "code",
   "execution_count": 11,
   "id": "33d48ad0",
   "metadata": {},
   "outputs": [],
   "source": [
    "newtest.drop(['Sale Price', 'Segment', 'Year', 'Date' ,'Address'] , axis = 1,inplace = True)"
   ]
  },
  {
   "cell_type": "code",
   "execution_count": 12,
   "id": "686c91b1",
   "metadata": {},
   "outputs": [],
   "source": [
    "from sklearn.preprocessing import LabelEncoder\n",
    "le = LabelEncoder()"
   ]
  },
  {
   "cell_type": "code",
   "execution_count": 13,
   "id": "7beaffba",
   "metadata": {},
   "outputs": [],
   "source": [
    "x = ['Locality', 'Property', 'Residential', 'num_rooms']\n",
    "for i in x:\n",
    "    newtrain[i] = le.fit_transform(newtrain[i])\n",
    "    newtest[i] = np.where(newtest[i].isin(le.classes_), le.transform(newtest[i]), -1)"
   ]
  },
  {
   "cell_type": "code",
   "execution_count": 14,
   "id": "308665a9",
   "metadata": {},
   "outputs": [],
   "source": [
    "newtrain['carpet_area'] = pd.cut(newtrain['carpet_area'], bins = 5, labels=[1, 2, 3, 4, 5])"
   ]
  },
  {
   "cell_type": "code",
   "execution_count": 15,
   "id": "eed1fd12",
   "metadata": {},
   "outputs": [],
   "source": [
    "newtest['carpet_area'] = pd.cut(newtest['carpet_area'], bins = 5, labels=[1, 2, 3, 4, 5])"
   ]
  },
  {
   "cell_type": "code",
   "execution_count": 16,
   "id": "f5a2c1ef",
   "metadata": {},
   "outputs": [],
   "source": [
    "newtrain['property_tax_rate'] = pd.cut(newtrain['property_tax_rate'], bins = 5, labels= [1, 2, 3, 4, 5])"
   ]
  },
  {
   "cell_type": "code",
   "execution_count": 17,
   "id": "a9ebc8fb",
   "metadata": {},
   "outputs": [],
   "source": [
    "newtest['property_tax_rate'] = pd.cut(newtest['property_tax_rate'], bins = 5, labels= [1, 2, 3, 4, 5])"
   ]
  },
  {
   "cell_type": "code",
   "execution_count": 18,
   "id": "7c8ffe0a",
   "metadata": {},
   "outputs": [
    {
     "data": {
      "text/html": [
       "<div>\n",
       "<style scoped>\n",
       "    .dataframe tbody tr th:only-of-type {\n",
       "        vertical-align: middle;\n",
       "    }\n",
       "\n",
       "    .dataframe tbody tr th {\n",
       "        vertical-align: top;\n",
       "    }\n",
       "\n",
       "    .dataframe thead th {\n",
       "        text-align: right;\n",
       "    }\n",
       "</style>\n",
       "<table border=\"1\" class=\"dataframe\">\n",
       "  <thead>\n",
       "    <tr style=\"text-align: right;\">\n",
       "      <th></th>\n",
       "      <th>Locality</th>\n",
       "      <th>Estimated Value</th>\n",
       "      <th>Property</th>\n",
       "      <th>Residential</th>\n",
       "      <th>num_rooms</th>\n",
       "      <th>carpet_area</th>\n",
       "      <th>property_tax_rate</th>\n",
       "    </tr>\n",
       "  </thead>\n",
       "  <tbody>\n",
       "    <tr>\n",
       "      <th>0</th>\n",
       "      <td>57</td>\n",
       "      <td>711270.0</td>\n",
       "      <td>0</td>\n",
       "      <td>0</td>\n",
       "      <td>0</td>\n",
       "      <td>1</td>\n",
       "      <td>1</td>\n",
       "    </tr>\n",
       "    <tr>\n",
       "      <th>1</th>\n",
       "      <td>41</td>\n",
       "      <td>119970.0</td>\n",
       "      <td>3</td>\n",
       "      <td>1</td>\n",
       "      <td>1</td>\n",
       "      <td>1</td>\n",
       "      <td>1</td>\n",
       "    </tr>\n",
       "    <tr>\n",
       "      <th>2</th>\n",
       "      <td>118</td>\n",
       "      <td>494530.0</td>\n",
       "      <td>3</td>\n",
       "      <td>1</td>\n",
       "      <td>1</td>\n",
       "      <td>1</td>\n",
       "      <td>1</td>\n",
       "    </tr>\n",
       "    <tr>\n",
       "      <th>3</th>\n",
       "      <td>105</td>\n",
       "      <td>197600.0</td>\n",
       "      <td>3</td>\n",
       "      <td>1</td>\n",
       "      <td>1</td>\n",
       "      <td>1</td>\n",
       "      <td>1</td>\n",
       "    </tr>\n",
       "    <tr>\n",
       "      <th>4</th>\n",
       "      <td>88</td>\n",
       "      <td>105440.0</td>\n",
       "      <td>3</td>\n",
       "      <td>1</td>\n",
       "      <td>1</td>\n",
       "      <td>1</td>\n",
       "      <td>1</td>\n",
       "    </tr>\n",
       "  </tbody>\n",
       "</table>\n",
       "</div>"
      ],
      "text/plain": [
       "   Locality  Estimated Value  Property  Residential  num_rooms carpet_area  \\\n",
       "0        57         711270.0         0            0          0           1   \n",
       "1        41         119970.0         3            1          1           1   \n",
       "2       118         494530.0         3            1          1           1   \n",
       "3       105         197600.0         3            1          1           1   \n",
       "4        88         105440.0         3            1          1           1   \n",
       "\n",
       "  property_tax_rate  \n",
       "0                 1  \n",
       "1                 1  \n",
       "2                 1  \n",
       "3                 1  \n",
       "4                 1  "
      ]
     },
     "execution_count": 18,
     "metadata": {},
     "output_type": "execute_result"
    }
   ],
   "source": [
    "newtrain.head()"
   ]
  },
  {
   "cell_type": "code",
   "execution_count": 19,
   "id": "826a8df3",
   "metadata": {},
   "outputs": [
    {
     "data": {
      "text/html": [
       "<div>\n",
       "<style scoped>\n",
       "    .dataframe tbody tr th:only-of-type {\n",
       "        vertical-align: middle;\n",
       "    }\n",
       "\n",
       "    .dataframe tbody tr th {\n",
       "        vertical-align: top;\n",
       "    }\n",
       "\n",
       "    .dataframe thead th {\n",
       "        text-align: right;\n",
       "    }\n",
       "</style>\n",
       "<table border=\"1\" class=\"dataframe\">\n",
       "  <thead>\n",
       "    <tr style=\"text-align: right;\">\n",
       "      <th></th>\n",
       "      <th>Locality</th>\n",
       "      <th>Estimated Value</th>\n",
       "      <th>Property</th>\n",
       "      <th>Residential</th>\n",
       "      <th>num_rooms</th>\n",
       "      <th>carpet_area</th>\n",
       "      <th>property_tax_rate</th>\n",
       "    </tr>\n",
       "  </thead>\n",
       "  <tbody>\n",
       "    <tr>\n",
       "      <th>0</th>\n",
       "      <td>105</td>\n",
       "      <td>151400.0</td>\n",
       "      <td>2</td>\n",
       "      <td>1</td>\n",
       "      <td>1</td>\n",
       "      <td>1</td>\n",
       "      <td>3</td>\n",
       "    </tr>\n",
       "    <tr>\n",
       "      <th>1</th>\n",
       "      <td>118</td>\n",
       "      <td>686900.0</td>\n",
       "      <td>2</td>\n",
       "      <td>1</td>\n",
       "      <td>1</td>\n",
       "      <td>1</td>\n",
       "      <td>3</td>\n",
       "    </tr>\n",
       "    <tr>\n",
       "      <th>2</th>\n",
       "      <td>33</td>\n",
       "      <td>152030.0</td>\n",
       "      <td>2</td>\n",
       "      <td>1</td>\n",
       "      <td>1</td>\n",
       "      <td>1</td>\n",
       "      <td>3</td>\n",
       "    </tr>\n",
       "    <tr>\n",
       "      <th>3</th>\n",
       "      <td>93</td>\n",
       "      <td>156130.0</td>\n",
       "      <td>2</td>\n",
       "      <td>2</td>\n",
       "      <td>2</td>\n",
       "      <td>2</td>\n",
       "      <td>3</td>\n",
       "    </tr>\n",
       "    <tr>\n",
       "      <th>4</th>\n",
       "      <td>6</td>\n",
       "      <td>108970.0</td>\n",
       "      <td>2</td>\n",
       "      <td>1</td>\n",
       "      <td>1</td>\n",
       "      <td>2</td>\n",
       "      <td>3</td>\n",
       "    </tr>\n",
       "  </tbody>\n",
       "</table>\n",
       "</div>"
      ],
      "text/plain": [
       "   Locality  Estimated Value  Property  Residential  num_rooms carpet_area  \\\n",
       "0       105         151400.0         2            1          1           1   \n",
       "1       118         686900.0         2            1          1           1   \n",
       "2        33         152030.0         2            1          1           1   \n",
       "3        93         156130.0         2            2          2           2   \n",
       "4         6         108970.0         2            1          1           2   \n",
       "\n",
       "  property_tax_rate  \n",
       "0                 3  \n",
       "1                 3  \n",
       "2                 3  \n",
       "3                 3  \n",
       "4                 3  "
      ]
     },
     "execution_count": 19,
     "metadata": {},
     "output_type": "execute_result"
    }
   ],
   "source": [
    "newtest.head()"
   ]
  },
  {
   "cell_type": "code",
   "execution_count": 20,
   "id": "8111bade",
   "metadata": {},
   "outputs": [],
   "source": [
    "from sklearn.metrics import mean_squared_error\n",
    "from sklearn.ensemble import RandomForestRegressor\n",
    "rf = RandomForestRegressor(n_estimators=100, max_depth=5, random_state=42)\n",
    "y_pred = rf.fit(newtrain, y_train).predict(newtest)"
   ]
  },
  {
   "cell_type": "code",
   "execution_count": 21,
   "id": "d998e075",
   "metadata": {},
   "outputs": [
    {
     "data": {
      "text/plain": [
       "43954"
      ]
     },
     "execution_count": 21,
     "metadata": {},
     "output_type": "execute_result"
    }
   ],
   "source": [
    "test_gain = []\n",
    "for i in range(len(newtest)):\n",
    "    test_gain.append((y_pred[i] - newtest['Estimated Value'][i])/100)\n",
    "len(test_gain)\n"
   ]
  },
  {
   "cell_type": "code",
   "execution_count": 22,
   "id": "6dcc79a6",
   "metadata": {},
   "outputs": [],
   "source": [
    "seg = []\n",
    "for ind in range(len(test_gain)):\n",
    "    if test_gain[ind] >= 0 and test_gain[ind] < q1:\n",
    "        seg.append(3)\n",
    "    elif test_gain[ind]>=q1 and test_gain[ind]< q2:\n",
    "        seg.append(2)\n",
    "    elif test_gain[ind]>=q2 and test_gain[ind]< q3:\n",
    "        seg.append(1)\n",
    "    elif test_gain[ind]>=q3:\n",
    "        seg.append(0)\n",
    "    else:\n",
    "        seg.append(0)"
   ]
  },
  {
   "cell_type": "code",
   "execution_count": 23,
   "id": "e0d955a3",
   "metadata": {},
   "outputs": [],
   "source": [
    "result = pd.DataFrame({'Segment': seg})\n",
    "result.to_csv('Solution.csv', index = False)"
   ]
  },
  {
   "cell_type": "code",
   "execution_count": null,
   "id": "2144c868",
   "metadata": {},
   "outputs": [],
   "source": []
  }
 ],
 "metadata": {
  "kernelspec": {
   "display_name": "Python 3 (ipykernel)",
   "language": "python",
   "name": "python3"
  },
  "language_info": {
   "codemirror_mode": {
    "name": "ipython",
    "version": 3
   },
   "file_extension": ".py",
   "mimetype": "text/x-python",
   "name": "python",
   "nbconvert_exporter": "python",
   "pygments_lexer": "ipython3",
   "version": "3.9.7"
  }
 },
 "nbformat": 4,
 "nbformat_minor": 5
}
