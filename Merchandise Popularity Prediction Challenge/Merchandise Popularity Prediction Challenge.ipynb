{
 "cells": [
  {
   "cell_type": "code",
   "execution_count": 47,
   "metadata": {},
   "outputs": [],
   "source": [
    "import numpy as np\n",
    "import pandas as pd\n",
    "import matplotlib.pyplot as plt\n",
    "import seaborn as sns"
   ]
  },
  {
   "cell_type": "code",
   "execution_count": 48,
   "metadata": {},
   "outputs": [
    {
     "data": {
      "text/html": [
       "<div>\n",
       "<style scoped>\n",
       "    .dataframe tbody tr th:only-of-type {\n",
       "        vertical-align: middle;\n",
       "    }\n",
       "\n",
       "    .dataframe tbody tr th {\n",
       "        vertical-align: top;\n",
       "    }\n",
       "\n",
       "    .dataframe thead th {\n",
       "        text-align: right;\n",
       "    }\n",
       "</style>\n",
       "<table border=\"1\" class=\"dataframe\">\n",
       "  <thead>\n",
       "    <tr style=\"text-align: right;\">\n",
       "      <th></th>\n",
       "      <th>Store_Ratio</th>\n",
       "      <th>Basket_Ratio</th>\n",
       "      <th>Category_1</th>\n",
       "      <th>Store_Score</th>\n",
       "      <th>Category_2</th>\n",
       "      <th>Store_Presence</th>\n",
       "      <th>Score_1</th>\n",
       "      <th>Score_2</th>\n",
       "      <th>Score_3</th>\n",
       "      <th>Score_4</th>\n",
       "      <th>time</th>\n",
       "      <th>popularity</th>\n",
       "    </tr>\n",
       "  </thead>\n",
       "  <tbody>\n",
       "    <tr>\n",
       "      <th>0</th>\n",
       "      <td>0.407</td>\n",
       "      <td>0.00380</td>\n",
       "      <td>2</td>\n",
       "      <td>-35.865</td>\n",
       "      <td>1</td>\n",
       "      <td>0.9920</td>\n",
       "      <td>0.944</td>\n",
       "      <td>0.0988</td>\n",
       "      <td>0.1100</td>\n",
       "      <td>113.911</td>\n",
       "      <td>189125</td>\n",
       "      <td>4</td>\n",
       "    </tr>\n",
       "    <tr>\n",
       "      <th>1</th>\n",
       "      <td>0.234</td>\n",
       "      <td>0.10500</td>\n",
       "      <td>0</td>\n",
       "      <td>-19.884</td>\n",
       "      <td>1</td>\n",
       "      <td>0.9440</td>\n",
       "      <td>0.900</td>\n",
       "      <td>0.1290</td>\n",
       "      <td>0.0382</td>\n",
       "      <td>76.332</td>\n",
       "      <td>186513</td>\n",
       "      <td>4</td>\n",
       "    </tr>\n",
       "    <tr>\n",
       "      <th>2</th>\n",
       "      <td>0.668</td>\n",
       "      <td>0.72600</td>\n",
       "      <td>9</td>\n",
       "      <td>-7.512</td>\n",
       "      <td>1</td>\n",
       "      <td>0.0387</td>\n",
       "      <td>0.000</td>\n",
       "      <td>0.1340</td>\n",
       "      <td>0.4530</td>\n",
       "      <td>124.075</td>\n",
       "      <td>172143</td>\n",
       "      <td>4</td>\n",
       "    </tr>\n",
       "    <tr>\n",
       "      <th>3</th>\n",
       "      <td>0.184</td>\n",
       "      <td>0.00561</td>\n",
       "      <td>4</td>\n",
       "      <td>-34.357</td>\n",
       "      <td>1</td>\n",
       "      <td>0.8490</td>\n",
       "      <td>0.931</td>\n",
       "      <td>0.1110</td>\n",
       "      <td>0.0641</td>\n",
       "      <td>79.037</td>\n",
       "      <td>184000</td>\n",
       "      <td>5</td>\n",
       "    </tr>\n",
       "    <tr>\n",
       "      <th>4</th>\n",
       "      <td>0.231</td>\n",
       "      <td>0.13100</td>\n",
       "      <td>6</td>\n",
       "      <td>-22.842</td>\n",
       "      <td>1</td>\n",
       "      <td>0.9370</td>\n",
       "      <td>0.000</td>\n",
       "      <td>0.1090</td>\n",
       "      <td>0.0677</td>\n",
       "      <td>109.560</td>\n",
       "      <td>186507</td>\n",
       "      <td>3</td>\n",
       "    </tr>\n",
       "  </tbody>\n",
       "</table>\n",
       "</div>"
      ],
      "text/plain": [
       "   Store_Ratio  Basket_Ratio  Category_1  Store_Score  Category_2  \\\n",
       "0        0.407       0.00380           2      -35.865           1   \n",
       "1        0.234       0.10500           0      -19.884           1   \n",
       "2        0.668       0.72600           9       -7.512           1   \n",
       "3        0.184       0.00561           4      -34.357           1   \n",
       "4        0.231       0.13100           6      -22.842           1   \n",
       "\n",
       "   Store_Presence  Score_1  Score_2  Score_3  Score_4    time  popularity  \n",
       "0          0.9920    0.944   0.0988   0.1100  113.911  189125           4  \n",
       "1          0.9440    0.900   0.1290   0.0382   76.332  186513           4  \n",
       "2          0.0387    0.000   0.1340   0.4530  124.075  172143           4  \n",
       "3          0.8490    0.931   0.1110   0.0641   79.037  184000           5  \n",
       "4          0.9370    0.000   0.1090   0.0677  109.560  186507           3  "
      ]
     },
     "execution_count": 48,
     "metadata": {},
     "output_type": "execute_result"
    }
   ],
   "source": [
    "train = pd.read_csv('Train.csv')\n",
    "train.head()"
   ]
  },
  {
   "cell_type": "code",
   "execution_count": 49,
   "metadata": {},
   "outputs": [
    {
     "data": {
      "text/plain": [
       "(18208, 12)"
      ]
     },
     "execution_count": 49,
     "metadata": {},
     "output_type": "execute_result"
    }
   ],
   "source": [
    "train.shape"
   ]
  },
  {
   "cell_type": "code",
   "execution_count": 50,
   "metadata": {},
   "outputs": [
    {
     "data": {
      "text/plain": [
       "4    15231\n",
       "3     2166\n",
       "5      472\n",
       "1      323\n",
       "0       16\n",
       "Name: popularity, dtype: int64"
      ]
     },
     "execution_count": 50,
     "metadata": {},
     "output_type": "execute_result"
    }
   ],
   "source": [
    "train['popularity'].value_counts()"
   ]
  },
  {
   "cell_type": "code",
   "execution_count": 51,
   "metadata": {},
   "outputs": [
    {
     "data": {
      "text/plain": [
       "3    15231\n",
       "2     2166\n",
       "4      472\n",
       "1      323\n",
       "0       16\n",
       "Name: popularity, dtype: int64"
      ]
     },
     "execution_count": 51,
     "metadata": {},
     "output_type": "execute_result"
    }
   ],
   "source": [
    "train['popularity'] = train['popularity'].replace({3:2, 4:3, 5:4})\n",
    "train['popularity'].value_counts()"
   ]
  },
  {
   "cell_type": "code",
   "execution_count": 52,
   "metadata": {},
   "outputs": [
    {
     "data": {
      "text/html": [
       "<div>\n",
       "<style scoped>\n",
       "    .dataframe tbody tr th:only-of-type {\n",
       "        vertical-align: middle;\n",
       "    }\n",
       "\n",
       "    .dataframe tbody tr th {\n",
       "        vertical-align: top;\n",
       "    }\n",
       "\n",
       "    .dataframe thead th {\n",
       "        text-align: right;\n",
       "    }\n",
       "</style>\n",
       "<table border=\"1\" class=\"dataframe\">\n",
       "  <thead>\n",
       "    <tr style=\"text-align: right;\">\n",
       "      <th></th>\n",
       "      <th>Store_Ratio</th>\n",
       "      <th>Basket_Ratio</th>\n",
       "      <th>Category_1</th>\n",
       "      <th>Store_Score</th>\n",
       "      <th>Category_2</th>\n",
       "      <th>Store_Presence</th>\n",
       "      <th>Score_1</th>\n",
       "      <th>Score_2</th>\n",
       "      <th>Score_3</th>\n",
       "      <th>Score_4</th>\n",
       "      <th>time</th>\n",
       "    </tr>\n",
       "  </thead>\n",
       "  <tbody>\n",
       "    <tr>\n",
       "      <th>0</th>\n",
       "      <td>0.164</td>\n",
       "      <td>0.994</td>\n",
       "      <td>1</td>\n",
       "      <td>-23.718</td>\n",
       "      <td>0</td>\n",
       "      <td>0.12400</td>\n",
       "      <td>0.99100</td>\n",
       "      <td>0.7890</td>\n",
       "      <td>0.00001</td>\n",
       "      <td>127.602</td>\n",
       "      <td>236436</td>\n",
       "    </tr>\n",
       "    <tr>\n",
       "      <th>1</th>\n",
       "      <td>0.586</td>\n",
       "      <td>0.636</td>\n",
       "      <td>4</td>\n",
       "      <td>-7.710</td>\n",
       "      <td>1</td>\n",
       "      <td>0.00208</td>\n",
       "      <td>0.32200</td>\n",
       "      <td>0.1070</td>\n",
       "      <td>0.35500</td>\n",
       "      <td>136.337</td>\n",
       "      <td>253631</td>\n",
       "    </tr>\n",
       "    <tr>\n",
       "      <th>2</th>\n",
       "      <td>0.457</td>\n",
       "      <td>0.743</td>\n",
       "      <td>0</td>\n",
       "      <td>-7.591</td>\n",
       "      <td>1</td>\n",
       "      <td>0.40400</td>\n",
       "      <td>0.00931</td>\n",
       "      <td>0.2010</td>\n",
       "      <td>0.68800</td>\n",
       "      <td>154.902</td>\n",
       "      <td>215669</td>\n",
       "    </tr>\n",
       "    <tr>\n",
       "      <th>3</th>\n",
       "      <td>0.423</td>\n",
       "      <td>0.748</td>\n",
       "      <td>5</td>\n",
       "      <td>-9.832</td>\n",
       "      <td>1</td>\n",
       "      <td>0.03000</td>\n",
       "      <td>0.22100</td>\n",
       "      <td>0.1690</td>\n",
       "      <td>0.42800</td>\n",
       "      <td>93.977</td>\n",
       "      <td>325200</td>\n",
       "    </tr>\n",
       "    <tr>\n",
       "      <th>4</th>\n",
       "      <td>0.802</td>\n",
       "      <td>0.756</td>\n",
       "      <td>2</td>\n",
       "      <td>-10.791</td>\n",
       "      <td>0</td>\n",
       "      <td>0.08430</td>\n",
       "      <td>0.00765</td>\n",
       "      <td>0.0521</td>\n",
       "      <td>0.96300</td>\n",
       "      <td>131.715</td>\n",
       "      <td>288293</td>\n",
       "    </tr>\n",
       "  </tbody>\n",
       "</table>\n",
       "</div>"
      ],
      "text/plain": [
       "   Store_Ratio  Basket_Ratio  Category_1  Store_Score  Category_2  \\\n",
       "0        0.164         0.994           1      -23.718           0   \n",
       "1        0.586         0.636           4       -7.710           1   \n",
       "2        0.457         0.743           0       -7.591           1   \n",
       "3        0.423         0.748           5       -9.832           1   \n",
       "4        0.802         0.756           2      -10.791           0   \n",
       "\n",
       "   Store_Presence  Score_1  Score_2  Score_3  Score_4    time  \n",
       "0         0.12400  0.99100   0.7890  0.00001  127.602  236436  \n",
       "1         0.00208  0.32200   0.1070  0.35500  136.337  253631  \n",
       "2         0.40400  0.00931   0.2010  0.68800  154.902  215669  \n",
       "3         0.03000  0.22100   0.1690  0.42800   93.977  325200  \n",
       "4         0.08430  0.00765   0.0521  0.96300  131.715  288293  "
      ]
     },
     "execution_count": 52,
     "metadata": {},
     "output_type": "execute_result"
    }
   ],
   "source": [
    "test = pd.read_csv('Test.csv')\n",
    "test.head()"
   ]
  },
  {
   "cell_type": "code",
   "execution_count": 53,
   "metadata": {},
   "outputs": [
    {
     "data": {
      "text/plain": [
       "(12140, 11)"
      ]
     },
     "execution_count": 53,
     "metadata": {},
     "output_type": "execute_result"
    }
   ],
   "source": [
    "test.shape"
   ]
  },
  {
   "cell_type": "code",
   "execution_count": 54,
   "metadata": {},
   "outputs": [
    {
     "data": {
      "text/plain": [
       "2923"
      ]
     },
     "execution_count": 54,
     "metadata": {},
     "output_type": "execute_result"
    }
   ],
   "source": [
    "train.duplicated().sum()"
   ]
  },
  {
   "cell_type": "code",
   "execution_count": 55,
   "metadata": {},
   "outputs": [
    {
     "data": {
      "text/plain": [
       "(15285, 12)"
      ]
     },
     "execution_count": 55,
     "metadata": {},
     "output_type": "execute_result"
    }
   ],
   "source": [
    "train = train.drop_duplicates(keep= 'first')\n",
    "train.shape"
   ]
  },
  {
   "cell_type": "code",
   "execution_count": 77,
   "metadata": {},
   "outputs": [],
   "source": [
    "x = train.drop('popularity', axis = 1)\n",
    "y = train['popularity']"
   ]
  },
  {
   "cell_type": "code",
   "execution_count": 78,
   "metadata": {},
   "outputs": [],
   "source": [
    "from sklearn.model_selection import train_test_split\n",
    "x_train, x_test, y_train, y_test = train_test_split(x, y, test_size = 0.2, random_state = 42)"
   ]
  },
  {
   "cell_type": "code",
   "execution_count": 79,
   "metadata": {},
   "outputs": [],
   "source": [
    "from sklearn.preprocessing import StandardScaler\n",
    "sc = StandardScaler()\n",
    "x_train = sc.fit_transform(x_train)\n",
    "x_test = sc.transform(x_test)"
   ]
  },
  {
   "cell_type": "code",
   "execution_count": 17,
   "metadata": {},
   "outputs": [
    {
     "name": "stderr",
     "output_type": "stream",
     "text": [
      "C:\\Users\\Akshay\\AppData\\Roaming\\Python\\Python37\\site-packages\\sklearn\\linear_model\\_logistic.py:940: ConvergenceWarning: lbfgs failed to converge (status=1):\n",
      "STOP: TOTAL NO. of ITERATIONS REACHED LIMIT.\n",
      "\n",
      "Increase the number of iterations (max_iter) or scale the data as shown in:\n",
      "    https://scikit-learn.org/stable/modules/preprocessing.html\n",
      "Please also refer to the documentation for alternative solver options:\n",
      "    https://scikit-learn.org/stable/modules/linear_model.html#logistic-regression\n",
      "  extra_warning_msg=_LOGISTIC_SOLVER_CONVERGENCE_MSG)\n"
     ]
    }
   ],
   "source": [
    "from sklearn.linear_model import LogisticRegression\n",
    "lor = LogisticRegression()\n",
    "y_pred = lor.fit(x_train, y_train).predict(x_test)"
   ]
  },
  {
   "cell_type": "code",
   "execution_count": 18,
   "metadata": {},
   "outputs": [],
   "source": [
    "from sklearn.metrics import accuracy_score"
   ]
  },
  {
   "cell_type": "code",
   "execution_count": 19,
   "metadata": {},
   "outputs": [
    {
     "name": "stdout",
     "output_type": "stream",
     "text": [
      "0.8406934903500164\n"
     ]
    }
   ],
   "source": [
    "print(accuracy_score(y_test, y_pred))"
   ]
  },
  {
   "cell_type": "code",
   "execution_count": 80,
   "metadata": {},
   "outputs": [
    {
     "name": "stdout",
     "output_type": "stream",
     "text": [
      "0.8370951913640824\n",
      "              precision    recall  f1-score   support\n",
      "\n",
      "           0       0.14      1.00      0.25         1\n",
      "           1       0.25      0.02      0.03        55\n",
      "           2       0.38      0.09      0.15       367\n",
      "           3       0.85      0.98      0.91      2569\n",
      "           4       0.00      0.00      0.00        65\n",
      "\n",
      "    accuracy                           0.84      3057\n",
      "   macro avg       0.33      0.42      0.27      3057\n",
      "weighted avg       0.77      0.84      0.79      3057\n",
      "\n",
      "[[   1    0    0    0    0]\n",
      " [   0    1    5   49    0]\n",
      " [   1    3   33  326    4]\n",
      " [   5    0   39 2524    1]\n",
      " [   0    0    9   56    0]]\n"
     ]
    }
   ],
   "source": [
    "from lightgbm import LGBMClassifier\n",
    "lgbm = LGBMClassifier()\n",
    "y_pred = lgbm.fit(x_train, y_train).predict(x_test)\n",
    "\n",
    "print(accuracy_score(y_test, y_pred))\n",
    "print(classification_report(y_test, y_pred))\n",
    "print(confusion_matrix(y_test, y_pred))"
   ]
  },
  {
   "cell_type": "code",
   "execution_count": 81,
   "metadata": {},
   "outputs": [
    {
     "data": {
      "image/png": "[encoded data removed]",
      "text/plain": [
       "<Figure size 720x360 with 1 Axes>"
      ]
     },
     "metadata": {
      "needs_background": "light"
     },
     "output_type": "display_data"
    }
   ],
   "source": [
    "feature_imp = pd.DataFrame(sorted(zip(lgbm.feature_importances_, x.columns), reverse=True)[:], columns=['Value','Feature'])\n",
    "plt.figure(figsize=(10,5))\n",
    "sns.barplot(x=\"Value\", y=\"Feature\", data=feature_imp.sort_values(by=\"Value\", ascending=False))\n",
    "plt.title('LGBM Features')\n",
    "plt.tight_layout()\n",
    "plt.show()"
   ]
  },
  {
   "cell_type": "code",
   "execution_count": 82,
   "metadata": {},
   "outputs": [],
   "source": [
    "x_train = train.drop(['popularity', 'Category_2'], axis = 1)\n",
    "y_train = train['popularity']\n",
    "x_test = test.drop('Category_2', axis = 1)\n",
    "from lightgbm import LGBMClassifier\n",
    "lgbm = LGBMClassifier()\n",
    "y_pred = lgbm.fit(x_train, y_train).predict(x_test)\n",
    "solution = pd.DataFrame(pd.get_dummies(y_pred))\n",
    "solution.to_csv('Solution.csv', index = False)"
   ]
  },
  {
   "cell_type": "code",
   "execution_count": null,
   "metadata": {},
   "outputs": [],
   "source": []
  }
 ],
 "metadata": {
  "kernelspec": {
   "display_name": "Python 3",
   "language": "python",
   "name": "python3"
  },
  "language_info": {
   "codemirror_mode": {
    "name": "ipython",
    "version": 3
   },
   "file_extension": ".py",
   "mimetype": "text/x-python",
   "name": "python",
   "nbconvert_exporter": "python",
   "pygments_lexer": "ipython3",
   "version": "3.7.3"
  }
 },
 "nbformat": 4,
 "nbformat_minor": 2
}
