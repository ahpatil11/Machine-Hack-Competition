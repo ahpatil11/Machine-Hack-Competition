{
 "cells": [
  {
   "cell_type": "code",
   "execution_count": 66,
   "id": "dd8f7950",
   "metadata": {},
   "outputs": [],
   "source": [
    "import numpy as np\n",
    "import pandas as pd\n",
    "import matplotlib.pyplot as plt\n",
    "import seaborn as sns"
   ]
  },
  {
   "cell_type": "code",
   "execution_count": 67,
   "id": "bbc8d1e6",
   "metadata": {},
   "outputs": [
    {
     "data": {
      "text/html": [
       "<div>\n",
       "<style scoped>\n",
       "    .dataframe tbody tr th:only-of-type {\n",
       "        vertical-align: middle;\n",
       "    }\n",
       "\n",
       "    .dataframe tbody tr th {\n",
       "        vertical-align: top;\n",
       "    }\n",
       "\n",
       "    .dataframe thead th {\n",
       "        text-align: right;\n",
       "    }\n",
       "</style>\n",
       "<table border=\"1\" class=\"dataframe\">\n",
       "  <thead>\n",
       "    <tr style=\"text-align: right;\">\n",
       "      <th></th>\n",
       "      <th>edible-poisonous</th>\n",
       "      <th>cap-diameter</th>\n",
       "      <th>cap-shape</th>\n",
       "      <th>cap-color</th>\n",
       "      <th>does-bruise-or-bleed</th>\n",
       "      <th>gill-attachment</th>\n",
       "      <th>gill-color</th>\n",
       "      <th>stem-height</th>\n",
       "      <th>stem-width</th>\n",
       "      <th>stem-color</th>\n",
       "      <th>has-ring</th>\n",
       "      <th>ring-type</th>\n",
       "      <th>habitat</th>\n",
       "      <th>season</th>\n",
       "    </tr>\n",
       "  </thead>\n",
       "  <tbody>\n",
       "    <tr>\n",
       "      <th>0</th>\n",
       "      <td>p</td>\n",
       "      <td>5.75</td>\n",
       "      <td>x</td>\n",
       "      <td>n</td>\n",
       "      <td>t</td>\n",
       "      <td>s</td>\n",
       "      <td>w</td>\n",
       "      <td>6.13</td>\n",
       "      <td>14.93</td>\n",
       "      <td>w</td>\n",
       "      <td>f</td>\n",
       "      <td>f</td>\n",
       "      <td>d</td>\n",
       "      <td>a</td>\n",
       "    </tr>\n",
       "    <tr>\n",
       "      <th>1</th>\n",
       "      <td>p</td>\n",
       "      <td>2.27</td>\n",
       "      <td>o</td>\n",
       "      <td>g</td>\n",
       "      <td>f</td>\n",
       "      <td>f</td>\n",
       "      <td>f</td>\n",
       "      <td>0.00</td>\n",
       "      <td>0.00</td>\n",
       "      <td>f</td>\n",
       "      <td>f</td>\n",
       "      <td>f</td>\n",
       "      <td>d</td>\n",
       "      <td>s</td>\n",
       "    </tr>\n",
       "    <tr>\n",
       "      <th>2</th>\n",
       "      <td>p</td>\n",
       "      <td>5.59</td>\n",
       "      <td>c</td>\n",
       "      <td>y</td>\n",
       "      <td>t</td>\n",
       "      <td>x</td>\n",
       "      <td>p</td>\n",
       "      <td>5.47</td>\n",
       "      <td>11.27</td>\n",
       "      <td>w</td>\n",
       "      <td>f</td>\n",
       "      <td>f</td>\n",
       "      <td>d</td>\n",
       "      <td>a</td>\n",
       "    </tr>\n",
       "    <tr>\n",
       "      <th>3</th>\n",
       "      <td>p</td>\n",
       "      <td>0.74</td>\n",
       "      <td>x</td>\n",
       "      <td>p</td>\n",
       "      <td>f</td>\n",
       "      <td>a</td>\n",
       "      <td>n</td>\n",
       "      <td>4.33</td>\n",
       "      <td>0.98</td>\n",
       "      <td>k</td>\n",
       "      <td>f</td>\n",
       "      <td>f</td>\n",
       "      <td>d</td>\n",
       "      <td>a</td>\n",
       "    </tr>\n",
       "    <tr>\n",
       "      <th>4</th>\n",
       "      <td>p</td>\n",
       "      <td>9.60</td>\n",
       "      <td>x</td>\n",
       "      <td>n</td>\n",
       "      <td>f</td>\n",
       "      <td>a</td>\n",
       "      <td>w</td>\n",
       "      <td>10.84</td>\n",
       "      <td>28.52</td>\n",
       "      <td>w</td>\n",
       "      <td>f</td>\n",
       "      <td>f</td>\n",
       "      <td>d</td>\n",
       "      <td>u</td>\n",
       "    </tr>\n",
       "  </tbody>\n",
       "</table>\n",
       "</div>"
      ],
      "text/plain": [
       "  edible-poisonous  cap-diameter cap-shape cap-color does-bruise-or-bleed  \\\n",
       "0                p          5.75         x         n                    t   \n",
       "1                p          2.27         o         g                    f   \n",
       "2                p          5.59         c         y                    t   \n",
       "3                p          0.74         x         p                    f   \n",
       "4                p          9.60         x         n                    f   \n",
       "\n",
       "  gill-attachment gill-color  stem-height  stem-width stem-color has-ring  \\\n",
       "0               s          w         6.13       14.93          w        f   \n",
       "1               f          f         0.00        0.00          f        f   \n",
       "2               x          p         5.47       11.27          w        f   \n",
       "3               a          n         4.33        0.98          k        f   \n",
       "4               a          w        10.84       28.52          w        f   \n",
       "\n",
       "  ring-type habitat season  \n",
       "0         f       d      a  \n",
       "1         f       d      s  \n",
       "2         f       d      a  \n",
       "3         f       d      a  \n",
       "4         f       d      u  "
      ]
     },
     "execution_count": 67,
     "metadata": {},
     "output_type": "execute_result"
    }
   ],
   "source": [
    "train = pd.read_csv('train.csv')\n",
    "train.head()"
   ]
  },
  {
   "cell_type": "code",
   "execution_count": 68,
   "id": "1179fe05",
   "metadata": {},
   "outputs": [
    {
     "data": {
      "text/plain": [
       "(42748, 14)"
      ]
     },
     "execution_count": 68,
     "metadata": {},
     "output_type": "execute_result"
    }
   ],
   "source": [
    "train.shape"
   ]
  },
  {
   "cell_type": "code",
   "execution_count": 69,
   "id": "b3055340",
   "metadata": {},
   "outputs": [
    {
     "data": {
      "text/plain": [
       "91"
      ]
     },
     "execution_count": 69,
     "metadata": {},
     "output_type": "execute_result"
    }
   ],
   "source": [
    "train.duplicated().sum()"
   ]
  },
  {
   "cell_type": "code",
   "execution_count": 70,
   "id": "c24aaea4",
   "metadata": {},
   "outputs": [
    {
     "data": {
      "text/plain": [
       "(42657, 14)"
      ]
     },
     "execution_count": 70,
     "metadata": {},
     "output_type": "execute_result"
    }
   ],
   "source": [
    "train = train.drop_duplicates(keep = 'first')\n",
    "train.shape"
   ]
  },
  {
   "cell_type": "code",
   "execution_count": 71,
   "id": "517b777e",
   "metadata": {},
   "outputs": [
    {
     "data": {
      "text/plain": [
       "edible-poisonous           0\n",
       "cap-diameter               0\n",
       "cap-shape                  0\n",
       "cap-color                  0\n",
       "does-bruise-or-bleed       0\n",
       "gill-attachment         6910\n",
       "gill-color                 0\n",
       "stem-height                0\n",
       "stem-width                 0\n",
       "stem-color                 0\n",
       "has-ring                   0\n",
       "ring-type               1719\n",
       "habitat                    0\n",
       "season                     0\n",
       "dtype: int64"
      ]
     },
     "execution_count": 71,
     "metadata": {},
     "output_type": "execute_result"
    }
   ],
   "source": [
    "train.isnull().sum()"
   ]
  },
  {
   "cell_type": "code",
   "execution_count": 72,
   "id": "e5c2826c",
   "metadata": {},
   "outputs": [
    {
     "name": "stdout",
     "output_type": "stream",
     "text": [
      "<class 'pandas.core.frame.DataFrame'>\n",
      "Int64Index: 42657 entries, 0 to 42747\n",
      "Data columns (total 14 columns):\n",
      " #   Column                Non-Null Count  Dtype  \n",
      "---  ------                --------------  -----  \n",
      " 0   edible-poisonous      42657 non-null  object \n",
      " 1   cap-diameter          42657 non-null  float64\n",
      " 2   cap-shape             42657 non-null  object \n",
      " 3   cap-color             42657 non-null  object \n",
      " 4   does-bruise-or-bleed  42657 non-null  object \n",
      " 5   gill-attachment       35747 non-null  object \n",
      " 6   gill-color            42657 non-null  object \n",
      " 7   stem-height           42657 non-null  float64\n",
      " 8   stem-width            42657 non-null  float64\n",
      " 9   stem-color            42657 non-null  object \n",
      " 10  has-ring              42657 non-null  object \n",
      " 11  ring-type             40938 non-null  object \n",
      " 12  habitat               42657 non-null  object \n",
      " 13  season                42657 non-null  object \n",
      "dtypes: float64(3), object(11)\n",
      "memory usage: 4.9+ MB\n"
     ]
    }
   ],
   "source": [
    "train.info()"
   ]
  },
  {
   "cell_type": "code",
   "execution_count": 73,
   "id": "65742209",
   "metadata": {},
   "outputs": [
    {
     "data": {
      "text/html": [
       "<div>\n",
       "<style scoped>\n",
       "    .dataframe tbody tr th:only-of-type {\n",
       "        vertical-align: middle;\n",
       "    }\n",
       "\n",
       "    .dataframe tbody tr th {\n",
       "        vertical-align: top;\n",
       "    }\n",
       "\n",
       "    .dataframe thead th {\n",
       "        text-align: right;\n",
       "    }\n",
       "</style>\n",
       "<table border=\"1\" class=\"dataframe\">\n",
       "  <thead>\n",
       "    <tr style=\"text-align: right;\">\n",
       "      <th></th>\n",
       "      <th>edible-poisonous</th>\n",
       "      <th>cap-diameter</th>\n",
       "      <th>cap-shape</th>\n",
       "      <th>cap-color</th>\n",
       "      <th>does-bruise-or-bleed</th>\n",
       "      <th>gill-attachment</th>\n",
       "      <th>gill-color</th>\n",
       "      <th>stem-height</th>\n",
       "      <th>stem-width</th>\n",
       "      <th>stem-color</th>\n",
       "      <th>has-ring</th>\n",
       "      <th>ring-type</th>\n",
       "      <th>habitat</th>\n",
       "      <th>season</th>\n",
       "    </tr>\n",
       "  </thead>\n",
       "  <tbody>\n",
       "    <tr>\n",
       "      <th>0</th>\n",
       "      <td>e</td>\n",
       "      <td>4.68</td>\n",
       "      <td>x</td>\n",
       "      <td>w</td>\n",
       "      <td>f</td>\n",
       "      <td>x</td>\n",
       "      <td>w</td>\n",
       "      <td>8.22</td>\n",
       "      <td>9.58</td>\n",
       "      <td>n</td>\n",
       "      <td>t</td>\n",
       "      <td>NaN</td>\n",
       "      <td>g</td>\n",
       "      <td>NaN</td>\n",
       "    </tr>\n",
       "    <tr>\n",
       "      <th>1</th>\n",
       "      <td>p</td>\n",
       "      <td>10.33</td>\n",
       "      <td>x</td>\n",
       "      <td>y</td>\n",
       "      <td>f</td>\n",
       "      <td>a</td>\n",
       "      <td>y</td>\n",
       "      <td>11.98</td>\n",
       "      <td>13.29</td>\n",
       "      <td>y</td>\n",
       "      <td>t</td>\n",
       "      <td>NaN</td>\n",
       "      <td>d</td>\n",
       "      <td>NaN</td>\n",
       "    </tr>\n",
       "    <tr>\n",
       "      <th>2</th>\n",
       "      <td>p</td>\n",
       "      <td>9.26</td>\n",
       "      <td>x</td>\n",
       "      <td>w</td>\n",
       "      <td>t</td>\n",
       "      <td>NaN</td>\n",
       "      <td>w</td>\n",
       "      <td>7.41</td>\n",
       "      <td>12.68</td>\n",
       "      <td>w</td>\n",
       "      <td>t</td>\n",
       "      <td>l</td>\n",
       "      <td>g</td>\n",
       "      <td>NaN</td>\n",
       "    </tr>\n",
       "    <tr>\n",
       "      <th>3</th>\n",
       "      <td>p</td>\n",
       "      <td>14.90</td>\n",
       "      <td>s</td>\n",
       "      <td>w</td>\n",
       "      <td>t</td>\n",
       "      <td>d</td>\n",
       "      <td>w</td>\n",
       "      <td>5.33</td>\n",
       "      <td>23.03</td>\n",
       "      <td>w</td>\n",
       "      <td>f</td>\n",
       "      <td>f</td>\n",
       "      <td>d</td>\n",
       "      <td>NaN</td>\n",
       "    </tr>\n",
       "    <tr>\n",
       "      <th>4</th>\n",
       "      <td>p</td>\n",
       "      <td>1.01</td>\n",
       "      <td>x</td>\n",
       "      <td>w</td>\n",
       "      <td>f</td>\n",
       "      <td>a</td>\n",
       "      <td>w</td>\n",
       "      <td>3.17</td>\n",
       "      <td>1.64</td>\n",
       "      <td>e</td>\n",
       "      <td>f</td>\n",
       "      <td>f</td>\n",
       "      <td>l</td>\n",
       "      <td>NaN</td>\n",
       "    </tr>\n",
       "  </tbody>\n",
       "</table>\n",
       "</div>"
      ],
      "text/plain": [
       "  edible-poisonous  cap-diameter cap-shape cap-color does-bruise-or-bleed  \\\n",
       "0                e          4.68         x         w                    f   \n",
       "1                p         10.33         x         y                    f   \n",
       "2                p          9.26         x         w                    t   \n",
       "3                p         14.90         s         w                    t   \n",
       "4                p          1.01         x         w                    f   \n",
       "\n",
       "  gill-attachment gill-color  stem-height  stem-width stem-color has-ring  \\\n",
       "0               x          w         8.22        9.58          n        t   \n",
       "1               a          y        11.98       13.29          y        t   \n",
       "2             NaN          w         7.41       12.68          w        t   \n",
       "3               d          w         5.33       23.03          w        f   \n",
       "4               a          w         3.17        1.64          e        f   \n",
       "\n",
       "  ring-type habitat  season  \n",
       "0       NaN       g     NaN  \n",
       "1       NaN       d     NaN  \n",
       "2         l       g     NaN  \n",
       "3         f       d     NaN  \n",
       "4         f       l     NaN  "
      ]
     },
     "execution_count": 73,
     "metadata": {},
     "output_type": "execute_result"
    }
   ],
   "source": [
    "test = pd.read_csv('test.csv')\n",
    "test.head()"
   ]
  },
  {
   "cell_type": "code",
   "execution_count": 74,
   "id": "008e914a",
   "metadata": {},
   "outputs": [
    {
     "data": {
      "text/plain": [
       "(18321, 14)"
      ]
     },
     "execution_count": 74,
     "metadata": {},
     "output_type": "execute_result"
    }
   ],
   "source": [
    "test.shape"
   ]
  },
  {
   "cell_type": "code",
   "execution_count": 75,
   "id": "75b4e7e3",
   "metadata": {},
   "outputs": [
    {
     "data": {
      "text/plain": [
       "edible-poisonous            0\n",
       "cap-diameter                0\n",
       "cap-shape                   0\n",
       "cap-color                   0\n",
       "does-bruise-or-bleed        0\n",
       "gill-attachment          2944\n",
       "gill-color                  0\n",
       "stem-height                 0\n",
       "stem-width                  0\n",
       "stem-color                  0\n",
       "has-ring                    0\n",
       "ring-type                 752\n",
       "habitat                     0\n",
       "season                  18321\n",
       "dtype: int64"
      ]
     },
     "execution_count": 75,
     "metadata": {},
     "output_type": "execute_result"
    }
   ],
   "source": [
    "test.isnull().sum()"
   ]
  },
  {
   "cell_type": "code",
   "execution_count": 76,
   "id": "aa54cd67",
   "metadata": {},
   "outputs": [
    {
     "data": {
      "text/plain": [
       "(60978, 14)"
      ]
     },
     "execution_count": 76,
     "metadata": {},
     "output_type": "execute_result"
    }
   ],
   "source": [
    "combined = pd.concat([train, test], axis = 0)\n",
    "combined.shape"
   ]
  },
  {
   "cell_type": "code",
   "execution_count": 77,
   "id": "acaf05c3",
   "metadata": {},
   "outputs": [
    {
     "name": "stdout",
     "output_type": "stream",
     "text": [
      "<class 'pandas.core.frame.DataFrame'>\n",
      "Int64Index: 60978 entries, 0 to 18320\n",
      "Data columns (total 14 columns):\n",
      " #   Column                Non-Null Count  Dtype  \n",
      "---  ------                --------------  -----  \n",
      " 0   edible-poisonous      60978 non-null  object \n",
      " 1   cap-diameter          60978 non-null  float64\n",
      " 2   cap-shape             60978 non-null  object \n",
      " 3   cap-color             60978 non-null  object \n",
      " 4   does-bruise-or-bleed  60978 non-null  object \n",
      " 5   gill-attachment       51124 non-null  object \n",
      " 6   gill-color            60978 non-null  object \n",
      " 7   stem-height           60978 non-null  float64\n",
      " 8   stem-width            60978 non-null  float64\n",
      " 9   stem-color            60978 non-null  object \n",
      " 10  has-ring              60978 non-null  object \n",
      " 11  ring-type             58507 non-null  object \n",
      " 12  habitat               60978 non-null  object \n",
      " 13  season                42657 non-null  object \n",
      "dtypes: float64(3), object(11)\n",
      "memory usage: 7.0+ MB\n"
     ]
    }
   ],
   "source": [
    "combined.info()"
   ]
  },
  {
   "cell_type": "code",
   "execution_count": 78,
   "id": "26f9c012",
   "metadata": {},
   "outputs": [
    {
     "data": {
      "text/plain": [
       "a    12698\n",
       "d    10247\n",
       "x     7413\n",
       "p     6001\n",
       "s     5648\n",
       "e     5648\n",
       "f     3469\n",
       "Name: gill-attachment, dtype: int64"
      ]
     },
     "execution_count": 78,
     "metadata": {},
     "output_type": "execute_result"
    }
   ],
   "source": [
    "combined['gill-attachment'].value_counts()"
   ]
  },
  {
   "cell_type": "code",
   "execution_count": 79,
   "id": "8135a9c1",
   "metadata": {},
   "outputs": [
    {
     "data": {
      "text/plain": [
       "f    48270\n",
       "e     2435\n",
       "z     2118\n",
       "l     1427\n",
       "r     1399\n",
       "p     1265\n",
       "g     1240\n",
       "m      353\n",
       "Name: ring-type, dtype: int64"
      ]
     },
     "execution_count": 79,
     "metadata": {},
     "output_type": "execute_result"
    }
   ],
   "source": [
    "combined['ring-type'].value_counts()"
   ]
  },
  {
   "cell_type": "code",
   "execution_count": 80,
   "id": "1a74d446",
   "metadata": {},
   "outputs": [],
   "source": [
    "x = ['gill-attachment', 'ring-type']\n",
    "for i in x:\n",
    "    combined[i] = combined[i].fillna(combined[i].value_counts().index[0])"
   ]
  },
  {
   "cell_type": "code",
   "execution_count": 81,
   "id": "9fae960c",
   "metadata": {},
   "outputs": [
    {
     "data": {
      "text/plain": [
       "a    22552\n",
       "d    10247\n",
       "x     7413\n",
       "p     6001\n",
       "s     5648\n",
       "e     5648\n",
       "f     3469\n",
       "Name: gill-attachment, dtype: int64"
      ]
     },
     "execution_count": 81,
     "metadata": {},
     "output_type": "execute_result"
    }
   ],
   "source": [
    "combined['gill-attachment'].value_counts()"
   ]
  },
  {
   "cell_type": "code",
   "execution_count": 82,
   "id": "cc94a7a9",
   "metadata": {},
   "outputs": [
    {
     "data": {
      "text/plain": [
       "f    50741\n",
       "e     2435\n",
       "z     2118\n",
       "l     1427\n",
       "r     1399\n",
       "p     1265\n",
       "g     1240\n",
       "m      353\n",
       "Name: ring-type, dtype: int64"
      ]
     },
     "execution_count": 82,
     "metadata": {},
     "output_type": "execute_result"
    }
   ],
   "source": [
    "combined['ring-type'].value_counts()"
   ]
  },
  {
   "cell_type": "code",
   "execution_count": 83,
   "id": "3c7053aa",
   "metadata": {},
   "outputs": [
    {
     "data": {
      "text/plain": [
       "edible-poisonous            0\n",
       "cap-diameter                0\n",
       "cap-shape                   0\n",
       "cap-color                   0\n",
       "does-bruise-or-bleed        0\n",
       "gill-attachment             0\n",
       "gill-color                  0\n",
       "stem-height                 0\n",
       "stem-width                  0\n",
       "stem-color                  0\n",
       "has-ring                    0\n",
       "ring-type                   0\n",
       "habitat                     0\n",
       "season                  18321\n",
       "dtype: int64"
      ]
     },
     "execution_count": 83,
     "metadata": {},
     "output_type": "execute_result"
    }
   ],
   "source": [
    "combined.isnull().sum()"
   ]
  },
  {
   "cell_type": "code",
   "execution_count": 84,
   "id": "785bb0a3",
   "metadata": {},
   "outputs": [
    {
     "data": {
      "text/plain": [
       "(42657, 14)"
      ]
     },
     "execution_count": 84,
     "metadata": {},
     "output_type": "execute_result"
    }
   ],
   "source": [
    "newtrain = combined.iloc[0:42657, :]\n",
    "newtrain.shape"
   ]
  },
  {
   "cell_type": "code",
   "execution_count": 85,
   "id": "1f9c5eef",
   "metadata": {},
   "outputs": [
    {
     "data": {
      "text/plain": [
       "(18321, 13)"
      ]
     },
     "execution_count": 85,
     "metadata": {},
     "output_type": "execute_result"
    }
   ],
   "source": [
    "newtest = combined.iloc[42657: , :]\n",
    "newtest = newtest.drop('season', axis = 1)\n",
    "newtest.shape"
   ]
  },
  {
   "cell_type": "code",
   "execution_count": 86,
   "id": "666c7510",
   "metadata": {},
   "outputs": [
    {
     "name": "stdout",
     "output_type": "stream",
     "text": [
      "<class 'pandas.core.frame.DataFrame'>\n",
      "Int64Index: 42657 entries, 0 to 42747\n",
      "Data columns (total 14 columns):\n",
      " #   Column                Non-Null Count  Dtype  \n",
      "---  ------                --------------  -----  \n",
      " 0   edible-poisonous      42657 non-null  object \n",
      " 1   cap-diameter          42657 non-null  float64\n",
      " 2   cap-shape             42657 non-null  object \n",
      " 3   cap-color             42657 non-null  object \n",
      " 4   does-bruise-or-bleed  42657 non-null  object \n",
      " 5   gill-attachment       42657 non-null  object \n",
      " 6   gill-color            42657 non-null  object \n",
      " 7   stem-height           42657 non-null  float64\n",
      " 8   stem-width            42657 non-null  float64\n",
      " 9   stem-color            42657 non-null  object \n",
      " 10  has-ring              42657 non-null  object \n",
      " 11  ring-type             42657 non-null  object \n",
      " 12  habitat               42657 non-null  object \n",
      " 13  season                42657 non-null  object \n",
      "dtypes: float64(3), object(11)\n",
      "memory usage: 4.9+ MB\n"
     ]
    }
   ],
   "source": [
    "newtrain.info()"
   ]
  },
  {
   "cell_type": "code",
   "execution_count": 87,
   "id": "0ba7dd73",
   "metadata": {},
   "outputs": [
    {
     "name": "stdout",
     "output_type": "stream",
     "text": [
      "<class 'pandas.core.frame.DataFrame'>\n",
      "Int64Index: 18321 entries, 0 to 18320\n",
      "Data columns (total 13 columns):\n",
      " #   Column                Non-Null Count  Dtype  \n",
      "---  ------                --------------  -----  \n",
      " 0   edible-poisonous      18321 non-null  object \n",
      " 1   cap-diameter          18321 non-null  float64\n",
      " 2   cap-shape             18321 non-null  object \n",
      " 3   cap-color             18321 non-null  object \n",
      " 4   does-bruise-or-bleed  18321 non-null  object \n",
      " 5   gill-attachment       18321 non-null  object \n",
      " 6   gill-color            18321 non-null  object \n",
      " 7   stem-height           18321 non-null  float64\n",
      " 8   stem-width            18321 non-null  float64\n",
      " 9   stem-color            18321 non-null  object \n",
      " 10  has-ring              18321 non-null  object \n",
      " 11  ring-type             18321 non-null  object \n",
      " 12  habitat               18321 non-null  object \n",
      "dtypes: float64(3), object(10)\n",
      "memory usage: 2.0+ MB\n"
     ]
    }
   ],
   "source": [
    "newtest.info()"
   ]
  },
  {
   "cell_type": "code",
   "execution_count": 88,
   "id": "c9a10eef",
   "metadata": {},
   "outputs": [
    {
     "data": {
      "text/html": [
       "<div>\n",
       "<style scoped>\n",
       "    .dataframe tbody tr th:only-of-type {\n",
       "        vertical-align: middle;\n",
       "    }\n",
       "\n",
       "    .dataframe tbody tr th {\n",
       "        vertical-align: top;\n",
       "    }\n",
       "\n",
       "    .dataframe thead th {\n",
       "        text-align: right;\n",
       "    }\n",
       "</style>\n",
       "<table border=\"1\" class=\"dataframe\">\n",
       "  <thead>\n",
       "    <tr style=\"text-align: right;\">\n",
       "      <th></th>\n",
       "      <th>edible-poisonous</th>\n",
       "      <th>cap-diameter</th>\n",
       "      <th>cap-shape</th>\n",
       "      <th>cap-color</th>\n",
       "      <th>does-bruise-or-bleed</th>\n",
       "      <th>gill-attachment</th>\n",
       "      <th>gill-color</th>\n",
       "      <th>stem-height</th>\n",
       "      <th>stem-width</th>\n",
       "      <th>stem-color</th>\n",
       "      <th>has-ring</th>\n",
       "      <th>ring-type</th>\n",
       "      <th>habitat</th>\n",
       "      <th>season</th>\n",
       "    </tr>\n",
       "  </thead>\n",
       "  <tbody>\n",
       "    <tr>\n",
       "      <th>0</th>\n",
       "      <td>p</td>\n",
       "      <td>5.75</td>\n",
       "      <td>x</td>\n",
       "      <td>n</td>\n",
       "      <td>t</td>\n",
       "      <td>s</td>\n",
       "      <td>w</td>\n",
       "      <td>6.13</td>\n",
       "      <td>14.93</td>\n",
       "      <td>w</td>\n",
       "      <td>f</td>\n",
       "      <td>f</td>\n",
       "      <td>d</td>\n",
       "      <td>a</td>\n",
       "    </tr>\n",
       "    <tr>\n",
       "      <th>1</th>\n",
       "      <td>p</td>\n",
       "      <td>2.27</td>\n",
       "      <td>o</td>\n",
       "      <td>g</td>\n",
       "      <td>f</td>\n",
       "      <td>f</td>\n",
       "      <td>f</td>\n",
       "      <td>0.00</td>\n",
       "      <td>0.00</td>\n",
       "      <td>f</td>\n",
       "      <td>f</td>\n",
       "      <td>f</td>\n",
       "      <td>d</td>\n",
       "      <td>s</td>\n",
       "    </tr>\n",
       "    <tr>\n",
       "      <th>2</th>\n",
       "      <td>p</td>\n",
       "      <td>5.59</td>\n",
       "      <td>c</td>\n",
       "      <td>y</td>\n",
       "      <td>t</td>\n",
       "      <td>x</td>\n",
       "      <td>p</td>\n",
       "      <td>5.47</td>\n",
       "      <td>11.27</td>\n",
       "      <td>w</td>\n",
       "      <td>f</td>\n",
       "      <td>f</td>\n",
       "      <td>d</td>\n",
       "      <td>a</td>\n",
       "    </tr>\n",
       "    <tr>\n",
       "      <th>3</th>\n",
       "      <td>p</td>\n",
       "      <td>0.74</td>\n",
       "      <td>x</td>\n",
       "      <td>p</td>\n",
       "      <td>f</td>\n",
       "      <td>a</td>\n",
       "      <td>n</td>\n",
       "      <td>4.33</td>\n",
       "      <td>0.98</td>\n",
       "      <td>k</td>\n",
       "      <td>f</td>\n",
       "      <td>f</td>\n",
       "      <td>d</td>\n",
       "      <td>a</td>\n",
       "    </tr>\n",
       "    <tr>\n",
       "      <th>4</th>\n",
       "      <td>p</td>\n",
       "      <td>9.60</td>\n",
       "      <td>x</td>\n",
       "      <td>n</td>\n",
       "      <td>f</td>\n",
       "      <td>a</td>\n",
       "      <td>w</td>\n",
       "      <td>10.84</td>\n",
       "      <td>28.52</td>\n",
       "      <td>w</td>\n",
       "      <td>f</td>\n",
       "      <td>f</td>\n",
       "      <td>d</td>\n",
       "      <td>u</td>\n",
       "    </tr>\n",
       "  </tbody>\n",
       "</table>\n",
       "</div>"
      ],
      "text/plain": [
       "  edible-poisonous  cap-diameter cap-shape cap-color does-bruise-or-bleed  \\\n",
       "0                p          5.75         x         n                    t   \n",
       "1                p          2.27         o         g                    f   \n",
       "2                p          5.59         c         y                    t   \n",
       "3                p          0.74         x         p                    f   \n",
       "4                p          9.60         x         n                    f   \n",
       "\n",
       "  gill-attachment gill-color  stem-height  stem-width stem-color has-ring  \\\n",
       "0               s          w         6.13       14.93          w        f   \n",
       "1               f          f         0.00        0.00          f        f   \n",
       "2               x          p         5.47       11.27          w        f   \n",
       "3               a          n         4.33        0.98          k        f   \n",
       "4               a          w        10.84       28.52          w        f   \n",
       "\n",
       "  ring-type habitat season  \n",
       "0         f       d      a  \n",
       "1         f       d      s  \n",
       "2         f       d      a  \n",
       "3         f       d      a  \n",
       "4         f       d      u  "
      ]
     },
     "execution_count": 88,
     "metadata": {},
     "output_type": "execute_result"
    }
   ],
   "source": [
    "newtrain.head()"
   ]
  },
  {
   "cell_type": "code",
   "execution_count": 89,
   "id": "58830e34",
   "metadata": {},
   "outputs": [
    {
     "name": "stderr",
     "output_type": "stream",
     "text": [
      "<ipython-input-89-8a1ca655176d>:3: SettingWithCopyWarning: \n",
      "A value is trying to be set on a copy of a slice from a DataFrame.\n",
      "Try using .loc[row_indexer,col_indexer] = value instead\n",
      "\n",
      "See the caveats in the documentation: https://pandas.pydata.org/pandas-docs/stable/user_guide/indexing.html#returning-a-view-versus-a-copy\n",
      "  newtrain[i] = newtrain[i].replace({'p': 1, 'e': 0, 't': 1, 'f': 0})\n"
     ]
    }
   ],
   "source": [
    "x = ['edible-poisonous', 'does-bruise-or-bleed', 'has-ring']\n",
    "for i in x:\n",
    "    newtrain[i] = newtrain[i].replace({'p': 1, 'e': 0, 't': 1, 'f': 0})\n",
    "    newtest[i] = newtest[i].replace({'p': 1, 'e': 0, 't': 1, 'f': 0})"
   ]
  },
  {
   "cell_type": "code",
   "execution_count": 90,
   "id": "c7a91594",
   "metadata": {},
   "outputs": [
    {
     "name": "stderr",
     "output_type": "stream",
     "text": [
      "<ipython-input-90-7387f81b7a24>:2: SettingWithCopyWarning: \n",
      "A value is trying to be set on a copy of a slice from a DataFrame.\n",
      "Try using .loc[row_indexer,col_indexer] = value instead\n",
      "\n",
      "See the caveats in the documentation: https://pandas.pydata.org/pandas-docs/stable/user_guide/indexing.html#returning-a-view-versus-a-copy\n",
      "  newtrain[i] = newtrain[i].astype(int)\n"
     ]
    }
   ],
   "source": [
    "for i in x:\n",
    "    newtrain[i] = newtrain[i].astype(int)\n",
    "    newtest[i] = newtest[i].astype(int)"
   ]
  },
  {
   "cell_type": "code",
   "execution_count": 91,
   "id": "da1b0691",
   "metadata": {},
   "outputs": [
    {
     "data": {
      "text/plain": [
       "Index(['cap-shape', 'cap-color', 'gill-attachment', 'gill-color', 'stem-color',\n",
       "       'ring-type', 'habitat'],\n",
       "      dtype='object')"
      ]
     },
     "execution_count": 91,
     "metadata": {},
     "output_type": "execute_result"
    }
   ],
   "source": [
    "cat_columns = newtest.select_dtypes(include= 'object')\n",
    "cat_columns.columns"
   ]
  },
  {
   "cell_type": "code",
   "execution_count": 92,
   "id": "3279fcd8",
   "metadata": {},
   "outputs": [],
   "source": [
    "from sklearn.preprocessing import LabelEncoder\n",
    "le = LabelEncoder()"
   ]
  },
  {
   "cell_type": "code",
   "execution_count": 93,
   "id": "907c56ad",
   "metadata": {
    "scrolled": true
   },
   "outputs": [
    {
     "name": "stderr",
     "output_type": "stream",
     "text": [
      "<ipython-input-93-7e0629d08f84>:2: SettingWithCopyWarning: \n",
      "A value is trying to be set on a copy of a slice from a DataFrame.\n",
      "Try using .loc[row_indexer,col_indexer] = value instead\n",
      "\n",
      "See the caveats in the documentation: https://pandas.pydata.org/pandas-docs/stable/user_guide/indexing.html#returning-a-view-versus-a-copy\n",
      "  newtrain[i] = le.fit_transform(newtrain[i])\n"
     ]
    }
   ],
   "source": [
    "for i in cat_columns.columns:\n",
    "    newtrain[i] = le.fit_transform(newtrain[i])\n",
    "    newtest[i] = le.fit_transform(newtest[i])"
   ]
  },
  {
   "cell_type": "code",
   "execution_count": 94,
   "id": "16986cfb",
   "metadata": {},
   "outputs": [
    {
     "name": "stdout",
     "output_type": "stream",
     "text": [
      "<class 'pandas.core.frame.DataFrame'>\n",
      "Int64Index: 42657 entries, 0 to 42747\n",
      "Data columns (total 14 columns):\n",
      " #   Column                Non-Null Count  Dtype  \n",
      "---  ------                --------------  -----  \n",
      " 0   edible-poisonous      42657 non-null  int32  \n",
      " 1   cap-diameter          42657 non-null  float64\n",
      " 2   cap-shape             42657 non-null  int32  \n",
      " 3   cap-color             42657 non-null  int32  \n",
      " 4   does-bruise-or-bleed  42657 non-null  int32  \n",
      " 5   gill-attachment       42657 non-null  int32  \n",
      " 6   gill-color            42657 non-null  int32  \n",
      " 7   stem-height           42657 non-null  float64\n",
      " 8   stem-width            42657 non-null  float64\n",
      " 9   stem-color            42657 non-null  int32  \n",
      " 10  has-ring              42657 non-null  int32  \n",
      " 11  ring-type             42657 non-null  int32  \n",
      " 12  habitat               42657 non-null  int32  \n",
      " 13  season                42657 non-null  object \n",
      "dtypes: float64(3), int32(10), object(1)\n",
      "memory usage: 3.3+ MB\n"
     ]
    }
   ],
   "source": [
    "newtrain.info()"
   ]
  },
  {
   "cell_type": "code",
   "execution_count": 95,
   "id": "068e8e3c",
   "metadata": {},
   "outputs": [
    {
     "name": "stdout",
     "output_type": "stream",
     "text": [
      "<class 'pandas.core.frame.DataFrame'>\n",
      "Int64Index: 18321 entries, 0 to 18320\n",
      "Data columns (total 13 columns):\n",
      " #   Column                Non-Null Count  Dtype  \n",
      "---  ------                --------------  -----  \n",
      " 0   edible-poisonous      18321 non-null  int32  \n",
      " 1   cap-diameter          18321 non-null  float64\n",
      " 2   cap-shape             18321 non-null  int32  \n",
      " 3   cap-color             18321 non-null  int32  \n",
      " 4   does-bruise-or-bleed  18321 non-null  int32  \n",
      " 5   gill-attachment       18321 non-null  int32  \n",
      " 6   gill-color            18321 non-null  int32  \n",
      " 7   stem-height           18321 non-null  float64\n",
      " 8   stem-width            18321 non-null  float64\n",
      " 9   stem-color            18321 non-null  int32  \n",
      " 10  has-ring              18321 non-null  int32  \n",
      " 11  ring-type             18321 non-null  int32  \n",
      " 12  habitat               18321 non-null  int32  \n",
      "dtypes: float64(3), int32(10)\n",
      "memory usage: 1.3 MB\n"
     ]
    }
   ],
   "source": [
    "newtest.info()"
   ]
  },
  {
   "cell_type": "code",
   "execution_count": 96,
   "id": "8398d1c9",
   "metadata": {},
   "outputs": [],
   "source": [
    "x = newtrain.iloc[:, 0:-1].values\n",
    "y = newtrain.iloc[:, -1]"
   ]
  },
  {
   "cell_type": "code",
   "execution_count": 97,
   "id": "605bfe69",
   "metadata": {},
   "outputs": [],
   "source": [
    "from keras.utils import np_utils"
   ]
  },
  {
   "cell_type": "code",
   "execution_count": 98,
   "id": "12e63172",
   "metadata": {},
   "outputs": [],
   "source": [
    "le.fit(y)\n",
    "y = le.transform(y)\n",
    "y = np_utils.to_categorical(y)"
   ]
  },
  {
   "cell_type": "code",
   "execution_count": 99,
   "id": "1350f97c",
   "metadata": {},
   "outputs": [
    {
     "data": {
      "text/plain": [
       "(42657, 13)"
      ]
     },
     "execution_count": 99,
     "metadata": {},
     "output_type": "execute_result"
    }
   ],
   "source": [
    "x.shape"
   ]
  },
  {
   "cell_type": "code",
   "execution_count": 100,
   "id": "3b1436d9",
   "metadata": {},
   "outputs": [
    {
     "data": {
      "text/plain": [
       "(42657, 4)"
      ]
     },
     "execution_count": 100,
     "metadata": {},
     "output_type": "execute_result"
    }
   ],
   "source": [
    "y.shape"
   ]
  },
  {
   "cell_type": "code",
   "execution_count": 101,
   "id": "477f6688",
   "metadata": {},
   "outputs": [],
   "source": [
    "from sklearn.model_selection import train_test_split"
   ]
  },
  {
   "cell_type": "code",
   "execution_count": 102,
   "id": "92d73539",
   "metadata": {},
   "outputs": [],
   "source": [
    "x_train, x_test, y_train, y_test = train_test_split(x, y, test_size = 0.3, random_state = 1)"
   ]
  },
  {
   "cell_type": "code",
   "execution_count": 103,
   "id": "eeb4962b",
   "metadata": {},
   "outputs": [],
   "source": [
    "from sklearn.preprocessing import StandardScaler"
   ]
  },
  {
   "cell_type": "code",
   "execution_count": 104,
   "id": "9595f997",
   "metadata": {},
   "outputs": [],
   "source": [
    "sc = StandardScaler()"
   ]
  },
  {
   "cell_type": "code",
   "execution_count": 105,
   "id": "45271390",
   "metadata": {},
   "outputs": [],
   "source": [
    "x_train = sc.fit_transform(x_train)"
   ]
  },
  {
   "cell_type": "code",
   "execution_count": 106,
   "id": "4ac9dd67",
   "metadata": {},
   "outputs": [],
   "source": [
    "x_test = sc.transform(x_test)"
   ]
  },
  {
   "cell_type": "markdown",
   "id": "f81bbce0",
   "metadata": {},
   "source": [
    "# ANN"
   ]
  },
  {
   "cell_type": "code",
   "execution_count": 107,
   "id": "0cad5010",
   "metadata": {},
   "outputs": [],
   "source": [
    "from keras.layers import Dense, Activation"
   ]
  },
  {
   "cell_type": "code",
   "execution_count": 108,
   "id": "aab13cca",
   "metadata": {},
   "outputs": [],
   "source": [
    "from keras.models import Sequential"
   ]
  },
  {
   "cell_type": "code",
   "execution_count": 109,
   "id": "0ceadb5e",
   "metadata": {},
   "outputs": [],
   "source": [
    "from keras.optimizers import Adam"
   ]
  },
  {
   "cell_type": "code",
   "execution_count": 110,
   "id": "7f172c5d",
   "metadata": {},
   "outputs": [],
   "source": [
    "model = Sequential()\n",
    "\n",
    "model.add(Dense(64, input_shape = (13, ), activation = 'relu'))\n",
    "model.add(Dense(32, activation = 'relu'))\n",
    "model.add(Dense(4, activation = 'softmax'))\n",
    "\n",
    "model.compile(loss = 'categorical_crossentropy', optimizer = 'adam', metrics = ['accuracy'])"
   ]
  },
  {
   "cell_type": "code",
   "execution_count": 111,
   "id": "0f6e4060",
   "metadata": {},
   "outputs": [
    {
     "name": "stdout",
     "output_type": "stream",
     "text": [
      "Epoch 1/15\n",
      "934/934 [==============================] - 4s 3ms/step - loss: 1.0479 - accuracy: 0.4773 - val_loss: 0.9167 - val_accuracy: 0.5141\n",
      "Epoch 2/15\n",
      "934/934 [==============================] - 2s 2ms/step - loss: 0.9014 - accuracy: 0.5109 - val_loss: 0.8640 - val_accuracy: 0.5210\n",
      "Epoch 3/15\n",
      "934/934 [==============================] - 2s 3ms/step - loss: 0.8517 - accuracy: 0.5233 - val_loss: 0.8440 - val_accuracy: 0.5047\n",
      "Epoch 4/15\n",
      "934/934 [==============================] - 2s 3ms/step - loss: 0.8354 - accuracy: 0.5179 - val_loss: 0.8276 - val_accuracy: 0.5197\n",
      "Epoch 5/15\n",
      "934/934 [==============================] - 2s 2ms/step - loss: 0.8145 - accuracy: 0.5262 - val_loss: 0.8177 - val_accuracy: 0.5195\n",
      "Epoch 6/15\n",
      "934/934 [==============================] - 2s 2ms/step - loss: 0.8062 - accuracy: 0.5286 - val_loss: 0.8121 - val_accuracy: 0.5207\n",
      "Epoch 7/15\n",
      "934/934 [==============================] - 2s 2ms/step - loss: 0.7997 - accuracy: 0.5276 - val_loss: 0.7966 - val_accuracy: 0.5243\n",
      "Epoch 8/15\n",
      "934/934 [==============================] - 2s 2ms/step - loss: 0.7936 - accuracy: 0.5218 - val_loss: 0.7923 - val_accuracy: 0.5180\n",
      "Epoch 9/15\n",
      "934/934 [==============================] - 2s 2ms/step - loss: 0.7877 - accuracy: 0.5334 - val_loss: 0.7920 - val_accuracy: 0.5180\n",
      "Epoch 10/15\n",
      "934/934 [==============================] - 2s 3ms/step - loss: 0.7827 - accuracy: 0.5326 - val_loss: 0.7883 - val_accuracy: 0.5255\n",
      "Epoch 11/15\n",
      "934/934 [==============================] - 2s 3ms/step - loss: 0.7759 - accuracy: 0.5363 - val_loss: 0.7830 - val_accuracy: 0.5227\n",
      "Epoch 12/15\n",
      "934/934 [==============================] - 2s 2ms/step - loss: 0.7738 - accuracy: 0.5361 - val_loss: 0.7865 - val_accuracy: 0.5141\n",
      "Epoch 13/15\n",
      "934/934 [==============================] - 2s 2ms/step - loss: 0.7690 - accuracy: 0.5450 - val_loss: 0.7767 - val_accuracy: 0.5222\n",
      "Epoch 14/15\n",
      "934/934 [==============================] - 2s 2ms/step - loss: 0.7683 - accuracy: 0.5379 - val_loss: 0.7791 - val_accuracy: 0.5145\n",
      "Epoch 15/15\n",
      "934/934 [==============================] - 2s 3ms/step - loss: 0.7709 - accuracy: 0.5313 - val_loss: 0.7765 - val_accuracy: 0.5168\n"
     ]
    },
    {
     "data": {
      "text/plain": [
       "<keras.callbacks.History at 0x2baaba5adc0>"
      ]
     },
     "execution_count": 111,
     "metadata": {},
     "output_type": "execute_result"
    }
   ],
   "source": [
    "model.fit(x_train, y_train, epochs= 15, validation_data= (x_test, y_test))"
   ]
  },
  {
   "cell_type": "code",
   "execution_count": 112,
   "id": "8ff054d5",
   "metadata": {},
   "outputs": [],
   "source": [
    "losses = pd.DataFrame(model.history.history)"
   ]
  },
  {
   "cell_type": "code",
   "execution_count": 113,
   "id": "04b00312",
   "metadata": {},
   "outputs": [
    {
     "data": {
      "text/plain": [
       "<AxesSubplot:>"
      ]
     },
     "execution_count": 113,
     "metadata": {},
     "output_type": "execute_result"
    },
    {
     "data": {
      "text/plain": [
       "<Figure size 2016x720 with 0 Axes>"
      ]
     },
     "metadata": {},
     "output_type": "display_data"
    },
    {
     "data": {
      "image/png": "[encoded data removed]",
      "text/plain": [
       "<Figure size 432x288 with 1 Axes>"
      ]
     },
     "metadata": {
      "needs_background": "light"
     },
     "output_type": "display_data"
    }
   ],
   "source": [
    "plt.figure(figsize= (28, 10))\n",
    "losses.plot()"
   ]
  },
  {
   "cell_type": "code",
   "execution_count": 114,
   "id": "408b8dfd",
   "metadata": {},
   "outputs": [
    {
     "name": "stderr",
     "output_type": "stream",
     "text": [
      "C:\\Users\\Akshay.Patil\\Anaconda3\\lib\\site-packages\\keras\\engine\\sequential.py:450: UserWarning: `model.predict_classes()` is deprecated and will be removed after 2021-01-01. Please use instead:* `np.argmax(model.predict(x), axis=-1)`,   if your model does multi-class classification   (e.g. if it uses a `softmax` last-layer activation).* `(model.predict(x) > 0.5).astype(\"int32\")`,   if your model does binary classification   (e.g. if it uses a `sigmoid` last-layer activation).\n",
      "  warnings.warn('`model.predict_classes()` is deprecated and '\n"
     ]
    }
   ],
   "source": [
    "y_pred = model.predict_classes(x_test)"
   ]
  },
  {
   "cell_type": "code",
   "execution_count": 115,
   "id": "e93c42f4",
   "metadata": {},
   "outputs": [
    {
     "data": {
      "text/plain": [
       "array([0, 0, 3, ..., 0, 0, 0], dtype=int64)"
      ]
     },
     "execution_count": 115,
     "metadata": {},
     "output_type": "execute_result"
    }
   ],
   "source": [
    "y_pred"
   ]
  },
  {
   "cell_type": "code",
   "execution_count": 116,
   "id": "2c3f2401",
   "metadata": {},
   "outputs": [
    {
     "data": {
      "text/html": [
       "<div>\n",
       "<style scoped>\n",
       "    .dataframe tbody tr th:only-of-type {\n",
       "        vertical-align: middle;\n",
       "    }\n",
       "\n",
       "    .dataframe tbody tr th {\n",
       "        vertical-align: top;\n",
       "    }\n",
       "\n",
       "    .dataframe thead th {\n",
       "        text-align: right;\n",
       "    }\n",
       "</style>\n",
       "<table border=\"1\" class=\"dataframe\">\n",
       "  <thead>\n",
       "    <tr style=\"text-align: right;\">\n",
       "      <th></th>\n",
       "      <th>edible-poisonous</th>\n",
       "      <th>cap-diameter</th>\n",
       "      <th>cap-shape</th>\n",
       "      <th>cap-color</th>\n",
       "      <th>does-bruise-or-bleed</th>\n",
       "      <th>gill-attachment</th>\n",
       "      <th>gill-color</th>\n",
       "      <th>stem-height</th>\n",
       "      <th>stem-width</th>\n",
       "      <th>stem-color</th>\n",
       "      <th>has-ring</th>\n",
       "      <th>ring-type</th>\n",
       "      <th>habitat</th>\n",
       "    </tr>\n",
       "  </thead>\n",
       "  <tbody>\n",
       "    <tr>\n",
       "      <th>0</th>\n",
       "      <td>0</td>\n",
       "      <td>4.68</td>\n",
       "      <td>6</td>\n",
       "      <td>10</td>\n",
       "      <td>0</td>\n",
       "      <td>6</td>\n",
       "      <td>10</td>\n",
       "      <td>8.22</td>\n",
       "      <td>9.58</td>\n",
       "      <td>6</td>\n",
       "      <td>1</td>\n",
       "      <td>1</td>\n",
       "      <td>1</td>\n",
       "    </tr>\n",
       "    <tr>\n",
       "      <th>1</th>\n",
       "      <td>1</td>\n",
       "      <td>10.33</td>\n",
       "      <td>6</td>\n",
       "      <td>11</td>\n",
       "      <td>0</td>\n",
       "      <td>0</td>\n",
       "      <td>11</td>\n",
       "      <td>11.98</td>\n",
       "      <td>13.29</td>\n",
       "      <td>12</td>\n",
       "      <td>1</td>\n",
       "      <td>1</td>\n",
       "      <td>0</td>\n",
       "    </tr>\n",
       "    <tr>\n",
       "      <th>2</th>\n",
       "      <td>1</td>\n",
       "      <td>9.26</td>\n",
       "      <td>6</td>\n",
       "      <td>10</td>\n",
       "      <td>1</td>\n",
       "      <td>0</td>\n",
       "      <td>10</td>\n",
       "      <td>7.41</td>\n",
       "      <td>12.68</td>\n",
       "      <td>11</td>\n",
       "      <td>1</td>\n",
       "      <td>3</td>\n",
       "      <td>1</td>\n",
       "    </tr>\n",
       "    <tr>\n",
       "      <th>3</th>\n",
       "      <td>1</td>\n",
       "      <td>14.90</td>\n",
       "      <td>5</td>\n",
       "      <td>10</td>\n",
       "      <td>1</td>\n",
       "      <td>1</td>\n",
       "      <td>10</td>\n",
       "      <td>5.33</td>\n",
       "      <td>23.03</td>\n",
       "      <td>11</td>\n",
       "      <td>0</td>\n",
       "      <td>1</td>\n",
       "      <td>0</td>\n",
       "    </tr>\n",
       "    <tr>\n",
       "      <th>4</th>\n",
       "      <td>1</td>\n",
       "      <td>1.01</td>\n",
       "      <td>6</td>\n",
       "      <td>10</td>\n",
       "      <td>0</td>\n",
       "      <td>0</td>\n",
       "      <td>10</td>\n",
       "      <td>3.17</td>\n",
       "      <td>1.64</td>\n",
       "      <td>1</td>\n",
       "      <td>0</td>\n",
       "      <td>1</td>\n",
       "      <td>3</td>\n",
       "    </tr>\n",
       "  </tbody>\n",
       "</table>\n",
       "</div>"
      ],
      "text/plain": [
       "   edible-poisonous  cap-diameter  cap-shape  cap-color  does-bruise-or-bleed  \\\n",
       "0                 0          4.68          6         10                     0   \n",
       "1                 1         10.33          6         11                     0   \n",
       "2                 1          9.26          6         10                     1   \n",
       "3                 1         14.90          5         10                     1   \n",
       "4                 1          1.01          6         10                     0   \n",
       "\n",
       "   gill-attachment  gill-color  stem-height  stem-width  stem-color  has-ring  \\\n",
       "0                6          10         8.22        9.58           6         1   \n",
       "1                0          11        11.98       13.29          12         1   \n",
       "2                0          10         7.41       12.68          11         1   \n",
       "3                1          10         5.33       23.03          11         0   \n",
       "4                0          10         3.17        1.64           1         0   \n",
       "\n",
       "   ring-type  habitat  \n",
       "0          1        1  \n",
       "1          1        0  \n",
       "2          3        1  \n",
       "3          1        0  \n",
       "4          1        3  "
      ]
     },
     "execution_count": 116,
     "metadata": {},
     "output_type": "execute_result"
    }
   ],
   "source": [
    "newtest.head()"
   ]
  },
  {
   "cell_type": "code",
   "execution_count": 186,
   "id": "6ccb7767",
   "metadata": {},
   "outputs": [],
   "source": [
    "x_train = newtrain.drop('season', axis = 1)\n",
    "y_train = newtrain['season']\n",
    "x_test = newtest"
   ]
  },
  {
   "cell_type": "code",
   "execution_count": 187,
   "id": "76ba3eb2",
   "metadata": {},
   "outputs": [],
   "source": [
    "from keras.utils import np_utils"
   ]
  },
  {
   "cell_type": "code",
   "execution_count": 188,
   "id": "74a32e2d",
   "metadata": {},
   "outputs": [],
   "source": [
    "le.fit(y_train)\n",
    "y_train = le.transform(y_train)\n",
    "y_train = np_utils.to_categorical(y_train)"
   ]
  },
  {
   "cell_type": "code",
   "execution_count": 189,
   "id": "07c51cc2",
   "metadata": {},
   "outputs": [
    {
     "data": {
      "text/plain": [
       "array([[1., 0., 0., 0.],\n",
       "       [0., 1., 0., 0.],\n",
       "       [1., 0., 0., 0.],\n",
       "       ...,\n",
       "       [0., 0., 0., 1.],\n",
       "       [0., 0., 1., 0.],\n",
       "       [1., 0., 0., 0.]], dtype=float32)"
      ]
     },
     "execution_count": 189,
     "metadata": {},
     "output_type": "execute_result"
    }
   ],
   "source": [
    "y_train"
   ]
  },
  {
   "cell_type": "code",
   "execution_count": 165,
   "id": "6852fa95",
   "metadata": {},
   "outputs": [],
   "source": [
    "from sklearn.preprocessing import StandardScaler"
   ]
  },
  {
   "cell_type": "code",
   "execution_count": 166,
   "id": "687f81a3",
   "metadata": {},
   "outputs": [],
   "source": [
    "sc = StandardScaler()"
   ]
  },
  {
   "cell_type": "code",
   "execution_count": 167,
   "id": "cd757402",
   "metadata": {},
   "outputs": [],
   "source": [
    "x_train = sc.fit_transform(x_train)"
   ]
  },
  {
   "cell_type": "code",
   "execution_count": 168,
   "id": "028d92af",
   "metadata": {},
   "outputs": [],
   "source": [
    "x_test = sc.transform(x_test)"
   ]
  },
  {
   "cell_type": "code",
   "execution_count": 169,
   "id": "b5ca4b82",
   "metadata": {},
   "outputs": [],
   "source": [
    "model = Sequential()\n",
    "\n",
    "model.add(Dense(64, input_shape = (13, ), activation = 'relu'))\n",
    "model.add(Dense(32, activation = 'relu'))\n",
    "model.add(Dense(4, activation = 'softmax'))\n",
    "\n",
    "model.compile(loss = 'categorical_crossentropy', optimizer = 'adam', metrics = ['accuracy'])\n"
   ]
  },
  {
   "cell_type": "code",
   "execution_count": 170,
   "id": "7845756f",
   "metadata": {},
   "outputs": [
    {
     "name": "stdout",
     "output_type": "stream",
     "text": [
      "Epoch 1/15\n",
      "1334/1334 [==============================] - 4s 2ms/step - loss: 1.0162 - accuracy: 0.4909\n",
      "Epoch 2/15\n",
      "1334/1334 [==============================] - 3s 2ms/step - loss: 0.8921 - accuracy: 0.5113\n",
      "Epoch 3/15\n",
      "1334/1334 [==============================] - 3s 2ms/step - loss: 0.8425 - accuracy: 0.5240\n",
      "Epoch 4/15\n",
      "1334/1334 [==============================] - 3s 2ms/step - loss: 0.8240 - accuracy: 0.5236\n",
      "Epoch 5/15\n",
      "1334/1334 [==============================] - 3s 2ms/step - loss: 0.8095 - accuracy: 0.5235\n",
      "Epoch 6/15\n",
      "1334/1334 [==============================] - 3s 2ms/step - loss: 0.7974 - accuracy: 0.5242\n",
      "Epoch 7/15\n",
      "1334/1334 [==============================] - 3s 2ms/step - loss: 0.7939 - accuracy: 0.5265\n",
      "Epoch 8/15\n",
      "1334/1334 [==============================] - 3s 2ms/step - loss: 0.7904 - accuracy: 0.5257\n",
      "Epoch 9/15\n",
      "1334/1334 [==============================] - 3s 2ms/step - loss: 0.7864 - accuracy: 0.5248\n",
      "Epoch 10/15\n",
      "1334/1334 [==============================] - 3s 2ms/step - loss: 0.7792 - accuracy: 0.5315\n",
      "Epoch 11/15\n",
      "1334/1334 [==============================] - 3s 2ms/step - loss: 0.7738 - accuracy: 0.5333\n",
      "Epoch 12/15\n",
      "1334/1334 [==============================] - 3s 2ms/step - loss: 0.7731 - accuracy: 0.5313\n",
      "Epoch 13/15\n",
      "1334/1334 [==============================] - 3s 2ms/step - loss: 0.7721 - accuracy: 0.5339\n",
      "Epoch 14/15\n",
      "1334/1334 [==============================] - 3s 2ms/step - loss: 0.7647 - accuracy: 0.5355\n",
      "Epoch 15/15\n",
      "1334/1334 [==============================] - 3s 2ms/step - loss: 0.7645 - accuracy: 0.5383\n"
     ]
    },
    {
     "data": {
      "text/plain": [
       "<keras.callbacks.History at 0x2baab7153d0>"
      ]
     },
     "execution_count": 170,
     "metadata": {},
     "output_type": "execute_result"
    }
   ],
   "source": [
    "model.fit(x_train, y_train, epochs= 15)"
   ]
  },
  {
   "cell_type": "code",
   "execution_count": 172,
   "id": "e72478e2",
   "metadata": {},
   "outputs": [],
   "source": [
    "predictions = model.predict(x_test)"
   ]
  },
  {
   "cell_type": "code",
   "execution_count": 173,
   "id": "1cc6a5dc",
   "metadata": {},
   "outputs": [
    {
     "data": {
      "text/plain": [
       "array([[4.6336570e-01, 1.5799108e-01, 3.7843645e-01, 2.0678941e-04],\n",
       "       [5.9720755e-01, 6.0906209e-06, 4.0146062e-01, 1.3257584e-03],\n",
       "       [5.4348636e-01, 1.1005582e-06, 4.5648599e-01, 2.6486901e-05],\n",
       "       ...,\n",
       "       [5.3226233e-01, 1.0145609e-03, 4.6672130e-01, 1.7803347e-06],\n",
       "       [3.5851091e-01, 2.3867878e-04, 6.4028519e-01, 9.6525351e-04],\n",
       "       [4.9331298e-01, 3.3290480e-04, 5.0626630e-01, 8.7804103e-05]],\n",
       "      dtype=float32)"
      ]
     },
     "execution_count": 173,
     "metadata": {},
     "output_type": "execute_result"
    }
   ],
   "source": [
    "predictions"
   ]
  },
  {
   "cell_type": "code",
   "execution_count": 174,
   "id": "4b1bbf39",
   "metadata": {},
   "outputs": [
    {
     "data": {
      "text/plain": [
       "array([0, 0, 0, ..., 0, 2, 2], dtype=int64)"
      ]
     },
     "execution_count": 174,
     "metadata": {},
     "output_type": "execute_result"
    }
   ],
   "source": [
    "np.argmax(predictions, axis = 1)"
   ]
  },
  {
   "cell_type": "code",
   "execution_count": 175,
   "id": "71fe00b1",
   "metadata": {},
   "outputs": [
    {
     "data": {
      "text/plain": [
       "array([0, 0, 0, ..., 0, 2, 2], dtype=int64)"
      ]
     },
     "execution_count": 175,
     "metadata": {},
     "output_type": "execute_result"
    }
   ],
   "source": [
    "output = np.argmax(predictions, axis = 1)\n",
    "output"
   ]
  },
  {
   "cell_type": "code",
   "execution_count": 176,
   "id": "f53b610a",
   "metadata": {},
   "outputs": [
    {
     "data": {
      "text/plain": [
       "numpy.ndarray"
      ]
     },
     "execution_count": 176,
     "metadata": {},
     "output_type": "execute_result"
    }
   ],
   "source": [
    "type(output)"
   ]
  },
  {
   "cell_type": "code",
   "execution_count": 192,
   "id": "ce8276f7",
   "metadata": {},
   "outputs": [
    {
     "data": {
      "text/html": [
       "<div>\n",
       "<style scoped>\n",
       "    .dataframe tbody tr th:only-of-type {\n",
       "        vertical-align: middle;\n",
       "    }\n",
       "\n",
       "    .dataframe tbody tr th {\n",
       "        vertical-align: top;\n",
       "    }\n",
       "\n",
       "    .dataframe thead th {\n",
       "        text-align: right;\n",
       "    }\n",
       "</style>\n",
       "<table border=\"1\" class=\"dataframe\">\n",
       "  <thead>\n",
       "    <tr style=\"text-align: right;\">\n",
       "      <th></th>\n",
       "      <th>season</th>\n",
       "    </tr>\n",
       "  </thead>\n",
       "  <tbody>\n",
       "    <tr>\n",
       "      <th>0</th>\n",
       "      <td>0</td>\n",
       "    </tr>\n",
       "    <tr>\n",
       "      <th>1</th>\n",
       "      <td>0</td>\n",
       "    </tr>\n",
       "    <tr>\n",
       "      <th>2</th>\n",
       "      <td>0</td>\n",
       "    </tr>\n",
       "    <tr>\n",
       "      <th>3</th>\n",
       "      <td>0</td>\n",
       "    </tr>\n",
       "    <tr>\n",
       "      <th>4</th>\n",
       "      <td>2</td>\n",
       "    </tr>\n",
       "  </tbody>\n",
       "</table>\n",
       "</div>"
      ],
      "text/plain": [
       "   season\n",
       "0       0\n",
       "1       0\n",
       "2       0\n",
       "3       0\n",
       "4       2"
      ]
     },
     "execution_count": 192,
     "metadata": {},
     "output_type": "execute_result"
    }
   ],
   "source": [
    "solution = pd.DataFrame({'season' : output})\n",
    "solution.head()"
   ]
  },
  {
   "cell_type": "code",
   "execution_count": 196,
   "id": "6ed21082",
   "metadata": {},
   "outputs": [
    {
     "data": {
      "text/plain": [
       "a    21083\n",
       "u    16019\n",
       "w     3679\n",
       "s     1876\n",
       "Name: season, dtype: int64"
      ]
     },
     "execution_count": 196,
     "metadata": {},
     "output_type": "execute_result"
    }
   ],
   "source": [
    "newtrain['season'].value_counts()"
   ]
  },
  {
   "cell_type": "code",
   "execution_count": 195,
   "id": "80abc6d5",
   "metadata": {},
   "outputs": [
    {
     "data": {
      "text/plain": [
       "0    9239\n",
       "2    6145\n",
       "3    2052\n",
       "1     885\n",
       "Name: season, dtype: int64"
      ]
     },
     "execution_count": 195,
     "metadata": {},
     "output_type": "execute_result"
    }
   ],
   "source": [
    "solution['season'].value_counts()"
   ]
  },
  {
   "cell_type": "code",
   "execution_count": 197,
   "id": "e82da4d4",
   "metadata": {},
   "outputs": [],
   "source": [
    "solution['season'] = solution['season'].replace({0: 'a', 2 : 'u', 3 : 'w', 1 : 's'})"
   ]
  },
  {
   "cell_type": "code",
   "execution_count": 198,
   "id": "6d58437a",
   "metadata": {},
   "outputs": [],
   "source": [
    "solution.to_csv('Solution.csv', index = False)"
   ]
  },
  {
   "cell_type": "code",
   "execution_count": null,
   "id": "c94c5799",
   "metadata": {},
   "outputs": [],
   "source": []
  }
 ],
 "metadata": {
  "kernelspec": {
   "display_name": "Python 3",
   "language": "python",
   "name": "python3"
  },
  "language_info": {
   "codemirror_mode": {
    "name": "ipython",
    "version": 3
   },
   "file_extension": ".py",
   "mimetype": "text/x-python",
   "name": "python",
   "nbconvert_exporter": "python",
   "pygments_lexer": "ipython3",
   "version": "3.8.8"
  }
 },
 "nbformat": 4,
 "nbformat_minor": 5
}
