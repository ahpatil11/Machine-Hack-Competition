{
 "cells": [
  {
   "cell_type": "code",
   "execution_count": 1,
   "id": "767fbd7b",
   "metadata": {},
   "outputs": [],
   "source": [
    "import numpy as np\n",
    "import pandas as pd\n",
    "import matplotlib.pyplot as plt\n",
    "import seaborn as sns"
   ]
  },
  {
   "cell_type": "code",
   "execution_count": 2,
   "id": "d8f6cb57",
   "metadata": {},
   "outputs": [
    {
     "data": {
      "text/html": [
       "<div>\n",
       "<style scoped>\n",
       "    .dataframe tbody tr th:only-of-type {\n",
       "        vertical-align: middle;\n",
       "    }\n",
       "\n",
       "    .dataframe tbody tr th {\n",
       "        vertical-align: top;\n",
       "    }\n",
       "\n",
       "    .dataframe thead th {\n",
       "        text-align: right;\n",
       "    }\n",
       "</style>\n",
       "<table border=\"1\" class=\"dataframe\">\n",
       "  <thead>\n",
       "    <tr style=\"text-align: right;\">\n",
       "      <th></th>\n",
       "      <th>age</th>\n",
       "      <th>workclass</th>\n",
       "      <th>fnlwgt</th>\n",
       "      <th>education</th>\n",
       "      <th>education-num</th>\n",
       "      <th>marital-status</th>\n",
       "      <th>occupation</th>\n",
       "      <th>relationship</th>\n",
       "      <th>race</th>\n",
       "      <th>sex</th>\n",
       "      <th>capital-gain</th>\n",
       "      <th>capital-loss</th>\n",
       "      <th>hours-per-week</th>\n",
       "      <th>native-country</th>\n",
       "      <th>income</th>\n",
       "    </tr>\n",
       "  </thead>\n",
       "  <tbody>\n",
       "    <tr>\n",
       "      <th>0</th>\n",
       "      <td>52</td>\n",
       "      <td>Private</td>\n",
       "      <td>98926</td>\n",
       "      <td>HS-grad</td>\n",
       "      <td>9</td>\n",
       "      <td>Never-married</td>\n",
       "      <td>Other-service</td>\n",
       "      <td>Unmarried</td>\n",
       "      <td>White</td>\n",
       "      <td>Male</td>\n",
       "      <td>-3</td>\n",
       "      <td>0</td>\n",
       "      <td>44</td>\n",
       "      <td>United-States</td>\n",
       "      <td>&lt;=50K</td>\n",
       "    </tr>\n",
       "    <tr>\n",
       "      <th>1</th>\n",
       "      <td>76</td>\n",
       "      <td>Self-emp-not-inc</td>\n",
       "      <td>132607</td>\n",
       "      <td>Bachelors</td>\n",
       "      <td>12</td>\n",
       "      <td>Married-civ-spouse</td>\n",
       "      <td>Sales</td>\n",
       "      <td>Husband</td>\n",
       "      <td>White</td>\n",
       "      <td>Male</td>\n",
       "      <td>7527</td>\n",
       "      <td>0</td>\n",
       "      <td>44</td>\n",
       "      <td>United-States</td>\n",
       "      <td>&gt;50K</td>\n",
       "    </tr>\n",
       "    <tr>\n",
       "      <th>2</th>\n",
       "      <td>40</td>\n",
       "      <td>Private</td>\n",
       "      <td>243258</td>\n",
       "      <td>Bachelors</td>\n",
       "      <td>13</td>\n",
       "      <td>Married-civ-spouse</td>\n",
       "      <td>Transport-moving</td>\n",
       "      <td>Husband</td>\n",
       "      <td>Amer-Indian-Eskimo</td>\n",
       "      <td>Male</td>\n",
       "      <td>19</td>\n",
       "      <td>0</td>\n",
       "      <td>57</td>\n",
       "      <td>United-States</td>\n",
       "      <td>&gt;50K</td>\n",
       "    </tr>\n",
       "    <tr>\n",
       "      <th>3</th>\n",
       "      <td>76</td>\n",
       "      <td>State-gov</td>\n",
       "      <td>181259</td>\n",
       "      <td>Bachelors</td>\n",
       "      <td>12</td>\n",
       "      <td>Married-civ-spouse</td>\n",
       "      <td>Prof-specialty</td>\n",
       "      <td>Husband</td>\n",
       "      <td>White</td>\n",
       "      <td>Male</td>\n",
       "      <td>7720</td>\n",
       "      <td>0</td>\n",
       "      <td>44</td>\n",
       "      <td>United-States</td>\n",
       "      <td>&gt;50K</td>\n",
       "    </tr>\n",
       "    <tr>\n",
       "      <th>4</th>\n",
       "      <td>36</td>\n",
       "      <td>Self-emp-inc</td>\n",
       "      <td>115379</td>\n",
       "      <td>Masters</td>\n",
       "      <td>13</td>\n",
       "      <td>Divorced</td>\n",
       "      <td>Exec-managerial</td>\n",
       "      <td>Not-in-family</td>\n",
       "      <td>White</td>\n",
       "      <td>Male</td>\n",
       "      <td>12</td>\n",
       "      <td>0</td>\n",
       "      <td>58</td>\n",
       "      <td>United-States</td>\n",
       "      <td>&lt;=50K</td>\n",
       "    </tr>\n",
       "  </tbody>\n",
       "</table>\n",
       "</div>"
      ],
      "text/plain": [
       "   age          workclass  fnlwgt   education  education-num  \\\n",
       "0   52            Private   98926     HS-grad              9   \n",
       "1   76   Self-emp-not-inc  132607   Bachelors             12   \n",
       "2   40            Private  243258   Bachelors             13   \n",
       "3   76          State-gov  181259   Bachelors             12   \n",
       "4   36       Self-emp-inc  115379     Masters             13   \n",
       "\n",
       "        marital-status         occupation    relationship  \\\n",
       "0        Never-married      Other-service       Unmarried   \n",
       "1   Married-civ-spouse              Sales         Husband   \n",
       "2   Married-civ-spouse   Transport-moving         Husband   \n",
       "3   Married-civ-spouse     Prof-specialty         Husband   \n",
       "4             Divorced    Exec-managerial   Not-in-family   \n",
       "\n",
       "                  race    sex  capital-gain  capital-loss  hours-per-week  \\\n",
       "0                White   Male            -3             0              44   \n",
       "1                White   Male          7527             0              44   \n",
       "2   Amer-Indian-Eskimo   Male            19             0              57   \n",
       "3                White   Male          7720             0              44   \n",
       "4                White   Male            12             0              58   \n",
       "\n",
       "   native-country  income  \n",
       "0   United-States   <=50K  \n",
       "1   United-States    >50K  \n",
       "2   United-States    >50K  \n",
       "3   United-States    >50K  \n",
       "4   United-States   <=50K  "
      ]
     },
     "execution_count": 2,
     "metadata": {},
     "output_type": "execute_result"
    }
   ],
   "source": [
    "train = pd.read_csv('train.csv')\n",
    "train.head()"
   ]
  },
  {
   "cell_type": "code",
   "execution_count": 3,
   "id": "0b9e3f2c",
   "metadata": {},
   "outputs": [
    {
     "data": {
      "text/plain": [
       "(18944, 15)"
      ]
     },
     "execution_count": 3,
     "metadata": {},
     "output_type": "execute_result"
    }
   ],
   "source": [
    "train.shape"
   ]
  },
  {
   "cell_type": "code",
   "execution_count": 4,
   "id": "53d3dc30",
   "metadata": {},
   "outputs": [
    {
     "data": {
      "text/plain": [
       "0"
      ]
     },
     "execution_count": 4,
     "metadata": {},
     "output_type": "execute_result"
    }
   ],
   "source": [
    "train.duplicated().sum()"
   ]
  },
  {
   "cell_type": "code",
   "execution_count": 5,
   "id": "d8b98309",
   "metadata": {},
   "outputs": [
    {
     "data": {
      "text/plain": [
       "age               0\n",
       "workclass         0\n",
       "fnlwgt            0\n",
       "education         0\n",
       "education-num     0\n",
       "marital-status    0\n",
       "occupation        0\n",
       "relationship      0\n",
       "race              0\n",
       "sex               0\n",
       "capital-gain      0\n",
       "capital-loss      0\n",
       "hours-per-week    0\n",
       "native-country    0\n",
       "income            0\n",
       "dtype: int64"
      ]
     },
     "execution_count": 5,
     "metadata": {},
     "output_type": "execute_result"
    }
   ],
   "source": [
    "train.isnull().sum()"
   ]
  },
  {
   "cell_type": "code",
   "execution_count": 6,
   "id": "31a89392",
   "metadata": {},
   "outputs": [
    {
     "data": {
      "text/html": [
       "<div>\n",
       "<style scoped>\n",
       "    .dataframe tbody tr th:only-of-type {\n",
       "        vertical-align: middle;\n",
       "    }\n",
       "\n",
       "    .dataframe tbody tr th {\n",
       "        vertical-align: top;\n",
       "    }\n",
       "\n",
       "    .dataframe thead th {\n",
       "        text-align: right;\n",
       "    }\n",
       "</style>\n",
       "<table border=\"1\" class=\"dataframe\">\n",
       "  <thead>\n",
       "    <tr style=\"text-align: right;\">\n",
       "      <th></th>\n",
       "      <th>age</th>\n",
       "      <th>workclass</th>\n",
       "      <th>fnlwgt</th>\n",
       "      <th>education</th>\n",
       "      <th>education-num</th>\n",
       "      <th>marital-status</th>\n",
       "      <th>occupation</th>\n",
       "      <th>relationship</th>\n",
       "      <th>race</th>\n",
       "      <th>sex</th>\n",
       "      <th>capital-gain</th>\n",
       "      <th>capital-loss</th>\n",
       "      <th>native-country</th>\n",
       "      <th>income</th>\n",
       "      <th>hours-per-week</th>\n",
       "    </tr>\n",
       "  </thead>\n",
       "  <tbody>\n",
       "    <tr>\n",
       "      <th>0</th>\n",
       "      <td>40</td>\n",
       "      <td>Without-pay</td>\n",
       "      <td>106899</td>\n",
       "      <td>HS-grad</td>\n",
       "      <td>8</td>\n",
       "      <td>Never-married</td>\n",
       "      <td>Adm-clerical</td>\n",
       "      <td>Own-child</td>\n",
       "      <td>White</td>\n",
       "      <td>Male</td>\n",
       "      <td>0</td>\n",
       "      <td>0</td>\n",
       "      <td>United-States</td>\n",
       "      <td>&lt;=50K</td>\n",
       "      <td>NaN</td>\n",
       "    </tr>\n",
       "    <tr>\n",
       "      <th>1</th>\n",
       "      <td>38</td>\n",
       "      <td>Private</td>\n",
       "      <td>157191</td>\n",
       "      <td>HS-grad</td>\n",
       "      <td>8</td>\n",
       "      <td>Married-civ-spouse</td>\n",
       "      <td>Craft-repair</td>\n",
       "      <td>Husband</td>\n",
       "      <td>Black</td>\n",
       "      <td>Male</td>\n",
       "      <td>0</td>\n",
       "      <td>0</td>\n",
       "      <td>United-States</td>\n",
       "      <td>&lt;=50K</td>\n",
       "      <td>NaN</td>\n",
       "    </tr>\n",
       "    <tr>\n",
       "      <th>2</th>\n",
       "      <td>76</td>\n",
       "      <td>Self-emp-not-inc</td>\n",
       "      <td>102547</td>\n",
       "      <td>Some-college</td>\n",
       "      <td>10</td>\n",
       "      <td>Widowed</td>\n",
       "      <td>Sales</td>\n",
       "      <td>Not-in-family</td>\n",
       "      <td>Asian-Pac-Islander</td>\n",
       "      <td>Female</td>\n",
       "      <td>32</td>\n",
       "      <td>0</td>\n",
       "      <td>United-States</td>\n",
       "      <td>&lt;=50K</td>\n",
       "      <td>NaN</td>\n",
       "    </tr>\n",
       "    <tr>\n",
       "      <th>3</th>\n",
       "      <td>38</td>\n",
       "      <td>Self-emp-not-inc</td>\n",
       "      <td>44426</td>\n",
       "      <td>HS-grad</td>\n",
       "      <td>9</td>\n",
       "      <td>Never-married</td>\n",
       "      <td>Sales</td>\n",
       "      <td>Unmarried</td>\n",
       "      <td>White</td>\n",
       "      <td>Male</td>\n",
       "      <td>30</td>\n",
       "      <td>0</td>\n",
       "      <td>United-States</td>\n",
       "      <td>&gt;50K</td>\n",
       "      <td>NaN</td>\n",
       "    </tr>\n",
       "    <tr>\n",
       "      <th>4</th>\n",
       "      <td>62</td>\n",
       "      <td>Without-pay</td>\n",
       "      <td>33230</td>\n",
       "      <td>HS-grad</td>\n",
       "      <td>9</td>\n",
       "      <td>Married-civ-spouse</td>\n",
       "      <td>Sales</td>\n",
       "      <td>Husband</td>\n",
       "      <td>White</td>\n",
       "      <td>Male</td>\n",
       "      <td>-4</td>\n",
       "      <td>0</td>\n",
       "      <td>United-States</td>\n",
       "      <td>&lt;=50K</td>\n",
       "      <td>NaN</td>\n",
       "    </tr>\n",
       "  </tbody>\n",
       "</table>\n",
       "</div>"
      ],
      "text/plain": [
       "   age          workclass  fnlwgt      education  education-num  \\\n",
       "0   40        Without-pay  106899        HS-grad              8   \n",
       "1   38            Private  157191        HS-grad              8   \n",
       "2   76   Self-emp-not-inc  102547   Some-college             10   \n",
       "3   38   Self-emp-not-inc   44426        HS-grad              9   \n",
       "4   62        Without-pay   33230        HS-grad              9   \n",
       "\n",
       "        marital-status     occupation    relationship                 race  \\\n",
       "0        Never-married   Adm-clerical       Own-child                White   \n",
       "1   Married-civ-spouse   Craft-repair         Husband                Black   \n",
       "2              Widowed          Sales   Not-in-family   Asian-Pac-Islander   \n",
       "3        Never-married          Sales       Unmarried                White   \n",
       "4   Married-civ-spouse          Sales         Husband                White   \n",
       "\n",
       "       sex  capital-gain  capital-loss  native-country  income  hours-per-week  \n",
       "0     Male             0             0   United-States   <=50K             NaN  \n",
       "1     Male             0             0   United-States   <=50K             NaN  \n",
       "2   Female            32             0   United-States   <=50K             NaN  \n",
       "3     Male            30             0   United-States    >50K             NaN  \n",
       "4     Male            -4             0   United-States   <=50K             NaN  "
      ]
     },
     "execution_count": 6,
     "metadata": {},
     "output_type": "execute_result"
    }
   ],
   "source": [
    "test = pd.read_csv('test.csv')\n",
    "test.head()"
   ]
  },
  {
   "cell_type": "code",
   "execution_count": 7,
   "id": "5d9e0867",
   "metadata": {},
   "outputs": [
    {
     "data": {
      "text/plain": [
       "(8119, 15)"
      ]
     },
     "execution_count": 7,
     "metadata": {},
     "output_type": "execute_result"
    }
   ],
   "source": [
    "test.shape"
   ]
  },
  {
   "cell_type": "code",
   "execution_count": 8,
   "id": "306faae2",
   "metadata": {},
   "outputs": [
    {
     "data": {
      "text/plain": [
       "age                  0\n",
       "workclass            0\n",
       "fnlwgt               0\n",
       "education            0\n",
       "education-num        0\n",
       "marital-status       0\n",
       "occupation           0\n",
       "relationship         0\n",
       "race                 0\n",
       "sex                  0\n",
       "capital-gain         0\n",
       "capital-loss         0\n",
       "native-country       0\n",
       "income               0\n",
       "hours-per-week    8119\n",
       "dtype: int64"
      ]
     },
     "execution_count": 8,
     "metadata": {},
     "output_type": "execute_result"
    }
   ],
   "source": [
    "test.isnull().sum()"
   ]
  },
  {
   "cell_type": "code",
   "execution_count": 9,
   "id": "731d7848",
   "metadata": {},
   "outputs": [
    {
     "name": "stdout",
     "output_type": "stream",
     "text": [
      "<class 'pandas.core.frame.DataFrame'>\n",
      "RangeIndex: 18944 entries, 0 to 18943\n",
      "Data columns (total 15 columns):\n",
      " #   Column          Non-Null Count  Dtype \n",
      "---  ------          --------------  ----- \n",
      " 0   age             18944 non-null  int64 \n",
      " 1   workclass       18944 non-null  object\n",
      " 2   fnlwgt          18944 non-null  int64 \n",
      " 3   education       18944 non-null  object\n",
      " 4   education-num   18944 non-null  int64 \n",
      " 5   marital-status  18944 non-null  object\n",
      " 6   occupation      18944 non-null  object\n",
      " 7   relationship    18944 non-null  object\n",
      " 8   race            18944 non-null  object\n",
      " 9   sex             18944 non-null  object\n",
      " 10  capital-gain    18944 non-null  int64 \n",
      " 11  capital-loss    18944 non-null  int64 \n",
      " 12  hours-per-week  18944 non-null  int64 \n",
      " 13  native-country  18944 non-null  object\n",
      " 14  income          18944 non-null  object\n",
      "dtypes: int64(6), object(9)\n",
      "memory usage: 2.2+ MB\n"
     ]
    }
   ],
   "source": [
    "train.info()"
   ]
  },
  {
   "cell_type": "code",
   "execution_count": 10,
   "id": "57240a04",
   "metadata": {},
   "outputs": [
    {
     "data": {
      "text/plain": [
       " Private             11700\n",
       " Self-emp-not-inc     3089\n",
       " Local-gov            1159\n",
       " Federal-gov           995\n",
       " Self-emp-inc          861\n",
       " State-gov             819\n",
       " Without-pay           258\n",
       " Never-worked           63\n",
       "Name: workclass, dtype: int64"
      ]
     },
     "execution_count": 10,
     "metadata": {},
     "output_type": "execute_result"
    }
   ],
   "source": [
    "train['workclass'].value_counts()"
   ]
  },
  {
   "cell_type": "code",
   "execution_count": 11,
   "id": "9fb830db",
   "metadata": {},
   "outputs": [
    {
     "data": {
      "text/plain": [
       " HS-grad         5462\n",
       " Some-college    3745\n",
       " Bachelors       3337\n",
       " 11th            1000\n",
       " Masters          941\n",
       " Assoc-acdm       796\n",
       " Assoc-voc        769\n",
       " 7th-8th          750\n",
       " Prof-school      476\n",
       " Doctorate        387\n",
       " 10th             386\n",
       " 5th-6th          319\n",
       " 9th              200\n",
       " 12th             184\n",
       " 1st-4th          148\n",
       " Preschool         44\n",
       "Name: education, dtype: int64"
      ]
     },
     "execution_count": 11,
     "metadata": {},
     "output_type": "execute_result"
    }
   ],
   "source": [
    "train['education'].value_counts()"
   ]
  },
  {
   "cell_type": "code",
   "execution_count": 12,
   "id": "841b1511",
   "metadata": {},
   "outputs": [
    {
     "data": {
      "text/plain": [
       " Married-civ-spouse       8311\n",
       " Never-married            5857\n",
       " Divorced                 2697\n",
       " Separated                 772\n",
       " Widowed                   624\n",
       " Married-spouse-absent     461\n",
       " Married-AF-spouse         222\n",
       "Name: marital-status, dtype: int64"
      ]
     },
     "execution_count": 12,
     "metadata": {},
     "output_type": "execute_result"
    }
   ],
   "source": [
    "train['marital-status'].value_counts()"
   ]
  },
  {
   "cell_type": "code",
   "execution_count": 13,
   "id": "477de696",
   "metadata": {},
   "outputs": [
    {
     "data": {
      "text/plain": [
       " Adm-clerical         3957\n",
       " Prof-specialty       2951\n",
       " Other-service        2134\n",
       " Sales                2046\n",
       " Craft-repair         1901\n",
       " Exec-managerial      1543\n",
       " Handlers-cleaners    1126\n",
       " Machine-op-inspct     920\n",
       " Transport-moving      790\n",
       " Farming-fishing       574\n",
       " Tech-support          504\n",
       " Protective-serv       405\n",
       " Priv-house-serv        91\n",
       " Armed-Forces            2\n",
       "Name: occupation, dtype: int64"
      ]
     },
     "execution_count": 13,
     "metadata": {},
     "output_type": "execute_result"
    }
   ],
   "source": [
    "train['occupation'].value_counts()"
   ]
  },
  {
   "cell_type": "code",
   "execution_count": 14,
   "id": "07101750",
   "metadata": {},
   "outputs": [
    {
     "data": {
      "text/plain": [
       " Husband           7164\n",
       " Unmarried         3557\n",
       " Not-in-family     3428\n",
       " Own-child         2768\n",
       " Wife              1090\n",
       " Other-relative     937\n",
       "Name: relationship, dtype: int64"
      ]
     },
     "execution_count": 14,
     "metadata": {},
     "output_type": "execute_result"
    }
   ],
   "source": [
    "train['relationship'].value_counts()"
   ]
  },
  {
   "cell_type": "code",
   "execution_count": 15,
   "id": "4b605569",
   "metadata": {},
   "outputs": [
    {
     "data": {
      "text/plain": [
       " White                 12682\n",
       " Black                  3565\n",
       " Asian-Pac-Islander     1728\n",
       " Amer-Indian-Eskimo      491\n",
       " Other                   478\n",
       "Name: race, dtype: int64"
      ]
     },
     "execution_count": 15,
     "metadata": {},
     "output_type": "execute_result"
    }
   ],
   "source": [
    "train['race'].value_counts()"
   ]
  },
  {
   "cell_type": "code",
   "execution_count": 16,
   "id": "03f994ee",
   "metadata": {},
   "outputs": [
    {
     "data": {
      "text/plain": [
       " Male      10727\n",
       " Female     8217\n",
       "Name: sex, dtype: int64"
      ]
     },
     "execution_count": 16,
     "metadata": {},
     "output_type": "execute_result"
    }
   ],
   "source": [
    "train['sex'].value_counts()"
   ]
  },
  {
   "cell_type": "code",
   "execution_count": 17,
   "id": "b225265c",
   "metadata": {},
   "outputs": [
    {
     "data": {
      "text/plain": [
       " United-States                 16000\n",
       " South                           342\n",
       " Mexico                          329\n",
       " Cuba                            321\n",
       " Puerto-Rico                     283\n",
       " Jamaica                         254\n",
       " Honduras                        247\n",
       " Canada                          236\n",
       " England                         165\n",
       " India                           125\n",
       " Philippines                     112\n",
       " Taiwan                           49\n",
       " Dominican-Republic               48\n",
       " Vietnam                          42\n",
       " Germany                          34\n",
       " China                            29\n",
       " Haiti                            27\n",
       " Poland                           26\n",
       " Guatemala                        24\n",
       " Italy                            24\n",
       " Japan                            22\n",
       " El-Salvador                      22\n",
       " Laos                             19\n",
       " Columbia                         19\n",
       " Iran                             17\n",
       " Thailand                         15\n",
       " Yugoslavia                       13\n",
       " Portugal                         12\n",
       " Greece                           12\n",
       " Peru                             12\n",
       " Nicaragua                        11\n",
       " Ireland                           9\n",
       " Trinadad&Tobago                   9\n",
       " Ecuador                           7\n",
       " Cambodia                          7\n",
       " Outlying-US(Guam-USVI-etc)        6\n",
       " Scotland                          5\n",
       " Hungary                           4\n",
       " Hong                              3\n",
       " Holand-Netherlands                2\n",
       " France                            1\n",
       "Name: native-country, dtype: int64"
      ]
     },
     "execution_count": 17,
     "metadata": {},
     "output_type": "execute_result"
    }
   ],
   "source": [
    "train['native-country'].value_counts()"
   ]
  },
  {
   "cell_type": "code",
   "execution_count": 18,
   "id": "e04aa8ee",
   "metadata": {},
   "outputs": [
    {
     "data": {
      "text/plain": [
       " <=50K    13517\n",
       " >50K      5427\n",
       "Name: income, dtype: int64"
      ]
     },
     "execution_count": 18,
     "metadata": {},
     "output_type": "execute_result"
    }
   ],
   "source": [
    "train['income'].value_counts()"
   ]
  },
  {
   "cell_type": "code",
   "execution_count": 19,
   "id": "f73de364",
   "metadata": {},
   "outputs": [],
   "source": [
    "from sklearn.preprocessing import LabelEncoder\n",
    "le = LabelEncoder()"
   ]
  },
  {
   "cell_type": "code",
   "execution_count": 20,
   "id": "81307886",
   "metadata": {},
   "outputs": [],
   "source": [
    "x = ['workclass', 'education', 'marital-status', 'occupation', 'race', 'sex', 'native-country', 'income', 'relationship']\n",
    "for i in x:\n",
    "    train[i] = le.fit_transform(train[i])\n",
    "    test[i] = le.fit_transform(test[i])"
   ]
  },
  {
   "cell_type": "code",
   "execution_count": 21,
   "id": "b415879d",
   "metadata": {},
   "outputs": [
    {
     "data": {
      "text/plain": [
       "<AxesSubplot:>"
      ]
     },
     "execution_count": 21,
     "metadata": {},
     "output_type": "execute_result"
    },
    {
     "data": {
      "image/png": "[encoded data removed]",
      "text/plain": [
       "<Figure size 1296x360 with 2 Axes>"
      ]
     },
     "metadata": {
      "needs_background": "light"
     },
     "output_type": "display_data"
    }
   ],
   "source": [
    "plt.figure(figsize = (18, 5))\n",
    "sns.heatmap(train.corr(), annot = True)"
   ]
  },
  {
   "cell_type": "code",
   "execution_count": 22,
   "id": "cd9ce7f1",
   "metadata": {},
   "outputs": [],
   "source": [
    "newtrain = train.copy()\n",
    "newtest = test.copy()"
   ]
  },
  {
   "cell_type": "code",
   "execution_count": 23,
   "id": "f8872848",
   "metadata": {},
   "outputs": [],
   "source": [
    "newtest = newtest.drop('hours-per-week', axis = 1)"
   ]
  },
  {
   "cell_type": "code",
   "execution_count": 24,
   "id": "45648a1d",
   "metadata": {},
   "outputs": [],
   "source": [
    "x = newtrain.drop('hours-per-week', axis = 1)\n",
    "y = newtrain['hours-per-week']"
   ]
  },
  {
   "cell_type": "code",
   "execution_count": 25,
   "id": "f930c040",
   "metadata": {},
   "outputs": [],
   "source": [
    "from sklearn.model_selection import train_test_split\n",
    "x_train, x_test, y_train, y_test = train_test_split(x, y, test_size = 0.2, random_state = 1)"
   ]
  },
  {
   "cell_type": "code",
   "execution_count": 26,
   "id": "4b449365",
   "metadata": {},
   "outputs": [],
   "source": [
    "from sklearn.metrics import mean_squared_error"
   ]
  },
  {
   "cell_type": "code",
   "execution_count": 27,
   "id": "47648677",
   "metadata": {},
   "outputs": [
    {
     "name": "stdout",
     "output_type": "stream",
     "text": [
      "9.900044238440751\n"
     ]
    }
   ],
   "source": [
    "from sklearn.linear_model import LinearRegression\n",
    "lr = LinearRegression()\n",
    "y_pred = lr.fit(x_train, y_train).predict(x_test)\n",
    "print(np.sqrt(mean_squared_error(y_test, y_pred)))"
   ]
  },
  {
   "cell_type": "code",
   "execution_count": 28,
   "id": "d712f17a",
   "metadata": {},
   "outputs": [
    {
     "name": "stdout",
     "output_type": "stream",
     "text": [
      "Training error : 0.18802116275425218\n",
      "Test error : 0.19739060967757305\n"
     ]
    }
   ],
   "source": [
    "print('Training error :', lr.score(x_train, y_train))\n",
    "print('Test error :', lr.score(x_test, y_test))"
   ]
  },
  {
   "cell_type": "code",
   "execution_count": 29,
   "id": "c3988b8b",
   "metadata": {},
   "outputs": [
    {
     "name": "stdout",
     "output_type": "stream",
     "text": [
      "9.807259299540796\n"
     ]
    }
   ],
   "source": [
    "from sklearn.ensemble import AdaBoostRegressor\n",
    "adab = AdaBoostRegressor()\n",
    "y_pred = adab.fit(x_train, y_train).predict(x_test)\n",
    "print(np.sqrt(mean_squared_error(y_test, y_pred)))"
   ]
  },
  {
   "cell_type": "code",
   "execution_count": 30,
   "id": "a578cdc4",
   "metadata": {},
   "outputs": [
    {
     "data": {
      "image/png": "[encoded data removed]",
      "text/plain": [
       "<Figure size 720x360 with 1 Axes>"
      ]
     },
     "metadata": {
      "needs_background": "light"
     },
     "output_type": "display_data"
    }
   ],
   "source": [
    "feature_imp = pd.DataFrame(sorted(zip(adab.feature_importances_, x.columns), reverse=True)[:], columns=['Value','Feature'])\n",
    "plt.figure(figsize=(10,5))\n",
    "sns.barplot(x=\"Value\", y=\"Feature\", data=feature_imp.sort_values(by=\"Value\", ascending=False))\n",
    "plt.title('ADAB Features')\n",
    "plt.tight_layout()\n",
    "plt.show()"
   ]
  },
  {
   "cell_type": "code",
   "execution_count": 31,
   "id": "2ca4b573",
   "metadata": {},
   "outputs": [],
   "source": [
    "x_train = newtrain.drop('hours-per-week', axis = 1)\n",
    "y_train = newtrain['hours-per-week']\n",
    "x_test = newtest"
   ]
  },
  {
   "cell_type": "code",
   "execution_count": 32,
   "id": "05578762",
   "metadata": {},
   "outputs": [],
   "source": [
    "from sklearn.ensemble import AdaBoostRegressor\n",
    "adab = AdaBoostRegressor()\n",
    "y_pred = adab.fit(x_train, y_train).predict(x_test)"
   ]
  },
  {
   "cell_type": "code",
   "execution_count": 33,
   "id": "516738d1",
   "metadata": {},
   "outputs": [],
   "source": [
    "solution = pd.DataFrame({'hours-per-week' : y_pred})\n",
    "solution.to_csv('Adab.csv', index = False)"
   ]
  }
 ],
 "metadata": {
  "kernelspec": {
   "display_name": "Python 3",
   "language": "python",
   "name": "python3"
  },
  "language_info": {
   "codemirror_mode": {
    "name": "ipython",
    "version": 3
   },
   "file_extension": ".py",
   "mimetype": "text/x-python",
   "name": "python",
   "nbconvert_exporter": "python",
   "pygments_lexer": "ipython3",
   "version": "3.8.8"
  }
 },
 "nbformat": 4,
 "nbformat_minor": 5
}
