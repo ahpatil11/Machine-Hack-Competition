{
 "cells": [
  {
   "cell_type": "code",
   "execution_count": 34,
   "id": "72be6019",
   "metadata": {},
   "outputs": [],
   "source": [
    "import numpy as np\n",
    "import pandas as pd\n",
    "import matplotlib.pyplot as plt\n",
    "import seaborn as sns"
   ]
  },
  {
   "cell_type": "code",
   "execution_count": 35,
   "id": "e8262b52",
   "metadata": {},
   "outputs": [
    {
     "data": {
      "text/html": [
       "<div>\n",
       "<style scoped>\n",
       "    .dataframe tbody tr th:only-of-type {\n",
       "        vertical-align: middle;\n",
       "    }\n",
       "\n",
       "    .dataframe tbody tr th {\n",
       "        vertical-align: top;\n",
       "    }\n",
       "\n",
       "    .dataframe thead th {\n",
       "        text-align: right;\n",
       "    }\n",
       "</style>\n",
       "<table border=\"1\" class=\"dataframe\">\n",
       "  <thead>\n",
       "    <tr style=\"text-align: right;\">\n",
       "      <th></th>\n",
       "      <th>Year</th>\n",
       "      <th>Month</th>\n",
       "      <th>Day</th>\n",
       "      <th>Hour</th>\n",
       "      <th>Minute</th>\n",
       "      <th>Clearsky DHI</th>\n",
       "      <th>Clearsky DNI</th>\n",
       "      <th>Clearsky GHI</th>\n",
       "      <th>Cloud Type</th>\n",
       "      <th>Dew Point</th>\n",
       "      <th>Temperature</th>\n",
       "      <th>Pressure</th>\n",
       "      <th>Relative Humidity</th>\n",
       "      <th>Solar Zenith Angle</th>\n",
       "      <th>Precipitable Water</th>\n",
       "      <th>Wind Direction</th>\n",
       "      <th>Wind Speed</th>\n",
       "      <th>Fill Flag</th>\n",
       "    </tr>\n",
       "  </thead>\n",
       "  <tbody>\n",
       "    <tr>\n",
       "      <th>0</th>\n",
       "      <td>2009</td>\n",
       "      <td>1</td>\n",
       "      <td>1</td>\n",
       "      <td>0</td>\n",
       "      <td>0</td>\n",
       "      <td>0</td>\n",
       "      <td>0</td>\n",
       "      <td>0</td>\n",
       "      <td>0</td>\n",
       "      <td>0.0</td>\n",
       "      <td>5.0</td>\n",
       "      <td>1010</td>\n",
       "      <td>75.34</td>\n",
       "      <td>106.15</td>\n",
       "      <td>0.499</td>\n",
       "      <td>346.1</td>\n",
       "      <td>3.1</td>\n",
       "      <td>0</td>\n",
       "    </tr>\n",
       "    <tr>\n",
       "      <th>1</th>\n",
       "      <td>2009</td>\n",
       "      <td>1</td>\n",
       "      <td>1</td>\n",
       "      <td>0</td>\n",
       "      <td>30</td>\n",
       "      <td>0</td>\n",
       "      <td>0</td>\n",
       "      <td>0</td>\n",
       "      <td>0</td>\n",
       "      <td>1.0</td>\n",
       "      <td>5.0</td>\n",
       "      <td>1010</td>\n",
       "      <td>80.81</td>\n",
       "      <td>112.28</td>\n",
       "      <td>0.490</td>\n",
       "      <td>346.1</td>\n",
       "      <td>3.1</td>\n",
       "      <td>0</td>\n",
       "    </tr>\n",
       "    <tr>\n",
       "      <th>2</th>\n",
       "      <td>2009</td>\n",
       "      <td>1</td>\n",
       "      <td>1</td>\n",
       "      <td>1</td>\n",
       "      <td>0</td>\n",
       "      <td>0</td>\n",
       "      <td>0</td>\n",
       "      <td>0</td>\n",
       "      <td>4</td>\n",
       "      <td>0.0</td>\n",
       "      <td>5.0</td>\n",
       "      <td>1010</td>\n",
       "      <td>78.27</td>\n",
       "      <td>118.50</td>\n",
       "      <td>0.482</td>\n",
       "      <td>347.9</td>\n",
       "      <td>3.2</td>\n",
       "      <td>0</td>\n",
       "    </tr>\n",
       "    <tr>\n",
       "      <th>3</th>\n",
       "      <td>2009</td>\n",
       "      <td>1</td>\n",
       "      <td>1</td>\n",
       "      <td>1</td>\n",
       "      <td>30</td>\n",
       "      <td>0</td>\n",
       "      <td>0</td>\n",
       "      <td>0</td>\n",
       "      <td>4</td>\n",
       "      <td>0.0</td>\n",
       "      <td>4.0</td>\n",
       "      <td>1010</td>\n",
       "      <td>78.27</td>\n",
       "      <td>124.78</td>\n",
       "      <td>0.478</td>\n",
       "      <td>347.9</td>\n",
       "      <td>3.1</td>\n",
       "      <td>0</td>\n",
       "    </tr>\n",
       "    <tr>\n",
       "      <th>4</th>\n",
       "      <td>2009</td>\n",
       "      <td>1</td>\n",
       "      <td>1</td>\n",
       "      <td>2</td>\n",
       "      <td>0</td>\n",
       "      <td>0</td>\n",
       "      <td>0</td>\n",
       "      <td>0</td>\n",
       "      <td>4</td>\n",
       "      <td>0.0</td>\n",
       "      <td>4.0</td>\n",
       "      <td>1010</td>\n",
       "      <td>76.45</td>\n",
       "      <td>131.12</td>\n",
       "      <td>0.475</td>\n",
       "      <td>350.0</td>\n",
       "      <td>3.0</td>\n",
       "      <td>0</td>\n",
       "    </tr>\n",
       "  </tbody>\n",
       "</table>\n",
       "</div>"
      ],
      "text/plain": [
       "   Year  Month  Day  Hour  Minute  Clearsky DHI  Clearsky DNI  Clearsky GHI  \\\n",
       "0  2009      1    1     0       0             0             0             0   \n",
       "1  2009      1    1     0      30             0             0             0   \n",
       "2  2009      1    1     1       0             0             0             0   \n",
       "3  2009      1    1     1      30             0             0             0   \n",
       "4  2009      1    1     2       0             0             0             0   \n",
       "\n",
       "   Cloud Type  Dew Point  Temperature  Pressure  Relative Humidity  \\\n",
       "0           0        0.0          5.0      1010              75.34   \n",
       "1           0        1.0          5.0      1010              80.81   \n",
       "2           4        0.0          5.0      1010              78.27   \n",
       "3           4        0.0          4.0      1010              78.27   \n",
       "4           4        0.0          4.0      1010              76.45   \n",
       "\n",
       "   Solar Zenith Angle  Precipitable Water  Wind Direction  Wind Speed  \\\n",
       "0              106.15               0.499           346.1         3.1   \n",
       "1              112.28               0.490           346.1         3.1   \n",
       "2              118.50               0.482           347.9         3.2   \n",
       "3              124.78               0.478           347.9         3.1   \n",
       "4              131.12               0.475           350.0         3.0   \n",
       "\n",
       "   Fill Flag  \n",
       "0          0  \n",
       "1          0  \n",
       "2          0  \n",
       "3          0  \n",
       "4          0  "
      ]
     },
     "execution_count": 35,
     "metadata": {},
     "output_type": "execute_result"
    }
   ],
   "source": [
    "train = pd.read_csv('train.csv')\n",
    "train.head()"
   ]
  },
  {
   "cell_type": "code",
   "execution_count": 36,
   "id": "53d59aa2",
   "metadata": {},
   "outputs": [
    {
     "data": {
      "text/plain": [
       "(175296, 18)"
      ]
     },
     "execution_count": 36,
     "metadata": {},
     "output_type": "execute_result"
    }
   ],
   "source": [
    "train.shape"
   ]
  },
  {
   "cell_type": "code",
   "execution_count": 37,
   "id": "3e03d115",
   "metadata": {},
   "outputs": [
    {
     "data": {
      "text/plain": [
       "Year                  0\n",
       "Month                 0\n",
       "Day                   0\n",
       "Hour                  0\n",
       "Minute                0\n",
       "Clearsky DHI          0\n",
       "Clearsky DNI          0\n",
       "Clearsky GHI          0\n",
       "Cloud Type            0\n",
       "Dew Point             0\n",
       "Temperature           0\n",
       "Pressure              0\n",
       "Relative Humidity     0\n",
       "Solar Zenith Angle    0\n",
       "Precipitable Water    0\n",
       "Wind Direction        0\n",
       "Wind Speed            0\n",
       "Fill Flag             0\n",
       "dtype: int64"
      ]
     },
     "execution_count": 37,
     "metadata": {},
     "output_type": "execute_result"
    }
   ],
   "source": [
    "train.isnull().sum()"
   ]
  },
  {
   "cell_type": "code",
   "execution_count": 38,
   "id": "e1f9af00",
   "metadata": {},
   "outputs": [
    {
     "data": {
      "text/plain": [
       "0"
      ]
     },
     "execution_count": 38,
     "metadata": {},
     "output_type": "execute_result"
    }
   ],
   "source": [
    "train.duplicated().sum()"
   ]
  },
  {
   "cell_type": "code",
   "execution_count": 39,
   "id": "c1f06844",
   "metadata": {},
   "outputs": [
    {
     "data": {
      "text/html": [
       "<div>\n",
       "<style scoped>\n",
       "    .dataframe tbody tr th:only-of-type {\n",
       "        vertical-align: middle;\n",
       "    }\n",
       "\n",
       "    .dataframe tbody tr th {\n",
       "        vertical-align: top;\n",
       "    }\n",
       "\n",
       "    .dataframe thead th {\n",
       "        text-align: right;\n",
       "    }\n",
       "</style>\n",
       "<table border=\"1\" class=\"dataframe\">\n",
       "  <thead>\n",
       "    <tr style=\"text-align: right;\">\n",
       "      <th></th>\n",
       "      <th>Year</th>\n",
       "      <th>Month</th>\n",
       "      <th>Day</th>\n",
       "      <th>Hour</th>\n",
       "      <th>Minute</th>\n",
       "      <th>Cloud Type</th>\n",
       "      <th>Dew Point</th>\n",
       "      <th>Temperature</th>\n",
       "      <th>Pressure</th>\n",
       "      <th>Relative Humidity</th>\n",
       "      <th>Solar Zenith Angle</th>\n",
       "      <th>Precipitable Water</th>\n",
       "      <th>Wind Direction</th>\n",
       "      <th>Wind Speed</th>\n",
       "      <th>Fill Flag</th>\n",
       "      <th>Clearsky DHI</th>\n",
       "      <th>Clearsky DNI</th>\n",
       "      <th>Clearsky GHI</th>\n",
       "    </tr>\n",
       "  </thead>\n",
       "  <tbody>\n",
       "    <tr>\n",
       "      <th>0</th>\n",
       "      <td>2019</td>\n",
       "      <td>1</td>\n",
       "      <td>1</td>\n",
       "      <td>0</td>\n",
       "      <td>0</td>\n",
       "      <td>7</td>\n",
       "      <td>18.4</td>\n",
       "      <td>18.8</td>\n",
       "      <td>1008</td>\n",
       "      <td>97.70</td>\n",
       "      <td>106.23</td>\n",
       "      <td>3.5</td>\n",
       "      <td>190</td>\n",
       "      <td>2.3</td>\n",
       "      <td>0</td>\n",
       "      <td>NaN</td>\n",
       "      <td>NaN</td>\n",
       "      <td>NaN</td>\n",
       "    </tr>\n",
       "    <tr>\n",
       "      <th>1</th>\n",
       "      <td>2019</td>\n",
       "      <td>1</td>\n",
       "      <td>1</td>\n",
       "      <td>0</td>\n",
       "      <td>30</td>\n",
       "      <td>3</td>\n",
       "      <td>18.4</td>\n",
       "      <td>18.6</td>\n",
       "      <td>1008</td>\n",
       "      <td>98.92</td>\n",
       "      <td>112.36</td>\n",
       "      <td>3.5</td>\n",
       "      <td>187</td>\n",
       "      <td>2.5</td>\n",
       "      <td>0</td>\n",
       "      <td>NaN</td>\n",
       "      <td>NaN</td>\n",
       "      <td>NaN</td>\n",
       "    </tr>\n",
       "    <tr>\n",
       "      <th>2</th>\n",
       "      <td>2019</td>\n",
       "      <td>1</td>\n",
       "      <td>1</td>\n",
       "      <td>1</td>\n",
       "      <td>0</td>\n",
       "      <td>3</td>\n",
       "      <td>18.2</td>\n",
       "      <td>18.5</td>\n",
       "      <td>1008</td>\n",
       "      <td>98.35</td>\n",
       "      <td>118.58</td>\n",
       "      <td>3.5</td>\n",
       "      <td>184</td>\n",
       "      <td>2.8</td>\n",
       "      <td>0</td>\n",
       "      <td>NaN</td>\n",
       "      <td>NaN</td>\n",
       "      <td>NaN</td>\n",
       "    </tr>\n",
       "    <tr>\n",
       "      <th>3</th>\n",
       "      <td>2019</td>\n",
       "      <td>1</td>\n",
       "      <td>1</td>\n",
       "      <td>1</td>\n",
       "      <td>30</td>\n",
       "      <td>3</td>\n",
       "      <td>18.2</td>\n",
       "      <td>18.3</td>\n",
       "      <td>1008</td>\n",
       "      <td>99.58</td>\n",
       "      <td>124.86</td>\n",
       "      <td>3.5</td>\n",
       "      <td>185</td>\n",
       "      <td>3.0</td>\n",
       "      <td>0</td>\n",
       "      <td>NaN</td>\n",
       "      <td>NaN</td>\n",
       "      <td>NaN</td>\n",
       "    </tr>\n",
       "    <tr>\n",
       "      <th>4</th>\n",
       "      <td>2019</td>\n",
       "      <td>1</td>\n",
       "      <td>1</td>\n",
       "      <td>2</td>\n",
       "      <td>0</td>\n",
       "      <td>0</td>\n",
       "      <td>18.0</td>\n",
       "      <td>18.0</td>\n",
       "      <td>1008</td>\n",
       "      <td>99.71</td>\n",
       "      <td>131.20</td>\n",
       "      <td>3.6</td>\n",
       "      <td>186</td>\n",
       "      <td>3.1</td>\n",
       "      <td>0</td>\n",
       "      <td>NaN</td>\n",
       "      <td>NaN</td>\n",
       "      <td>NaN</td>\n",
       "    </tr>\n",
       "  </tbody>\n",
       "</table>\n",
       "</div>"
      ],
      "text/plain": [
       "   Year  Month  Day  Hour  Minute  Cloud Type  Dew Point  Temperature  \\\n",
       "0  2019      1    1     0       0           7       18.4         18.8   \n",
       "1  2019      1    1     0      30           3       18.4         18.6   \n",
       "2  2019      1    1     1       0           3       18.2         18.5   \n",
       "3  2019      1    1     1      30           3       18.2         18.3   \n",
       "4  2019      1    1     2       0           0       18.0         18.0   \n",
       "\n",
       "   Pressure  Relative Humidity  Solar Zenith Angle  Precipitable Water  \\\n",
       "0      1008              97.70              106.23                 3.5   \n",
       "1      1008              98.92              112.36                 3.5   \n",
       "2      1008              98.35              118.58                 3.5   \n",
       "3      1008              99.58              124.86                 3.5   \n",
       "4      1008              99.71              131.20                 3.6   \n",
       "\n",
       "   Wind Direction  Wind Speed  Fill Flag  Clearsky DHI  Clearsky DNI  \\\n",
       "0             190         2.3          0           NaN           NaN   \n",
       "1             187         2.5          0           NaN           NaN   \n",
       "2             184         2.8          0           NaN           NaN   \n",
       "3             185         3.0          0           NaN           NaN   \n",
       "4             186         3.1          0           NaN           NaN   \n",
       "\n",
       "   Clearsky GHI  \n",
       "0           NaN  \n",
       "1           NaN  \n",
       "2           NaN  \n",
       "3           NaN  \n",
       "4           NaN  "
      ]
     },
     "execution_count": 39,
     "metadata": {},
     "output_type": "execute_result"
    }
   ],
   "source": [
    "test = pd.read_csv('test.csv')\n",
    "test.head()"
   ]
  },
  {
   "cell_type": "code",
   "execution_count": 40,
   "id": "dc8fcaa4",
   "metadata": {},
   "outputs": [
    {
     "data": {
      "text/plain": [
       "(17520, 18)"
      ]
     },
     "execution_count": 40,
     "metadata": {},
     "output_type": "execute_result"
    }
   ],
   "source": [
    "test.shape"
   ]
  },
  {
   "cell_type": "code",
   "execution_count": 41,
   "id": "fe8d358a",
   "metadata": {},
   "outputs": [
    {
     "data": {
      "text/plain": [
       "Year                      0\n",
       "Month                     0\n",
       "Day                       0\n",
       "Hour                      0\n",
       "Minute                    0\n",
       "Cloud Type                0\n",
       "Dew Point                 0\n",
       "Temperature               0\n",
       "Pressure                  0\n",
       "Relative Humidity         0\n",
       "Solar Zenith Angle        0\n",
       "Precipitable Water        0\n",
       "Wind Direction            0\n",
       "Wind Speed                0\n",
       "Fill Flag                 0\n",
       "Clearsky DHI          17520\n",
       "Clearsky DNI          17520\n",
       "Clearsky GHI          17520\n",
       "dtype: int64"
      ]
     },
     "execution_count": 41,
     "metadata": {},
     "output_type": "execute_result"
    }
   ],
   "source": [
    "test.isnull().sum()"
   ]
  },
  {
   "cell_type": "code",
   "execution_count": 42,
   "id": "9824f7cc",
   "metadata": {},
   "outputs": [
    {
     "name": "stdout",
     "output_type": "stream",
     "text": [
      "<class 'pandas.core.frame.DataFrame'>\n",
      "RangeIndex: 175296 entries, 0 to 175295\n",
      "Data columns (total 18 columns):\n",
      " #   Column              Non-Null Count   Dtype  \n",
      "---  ------              --------------   -----  \n",
      " 0   Year                175296 non-null  int64  \n",
      " 1   Month               175296 non-null  int64  \n",
      " 2   Day                 175296 non-null  int64  \n",
      " 3   Hour                175296 non-null  int64  \n",
      " 4   Minute              175296 non-null  int64  \n",
      " 5   Clearsky DHI        175296 non-null  int64  \n",
      " 6   Clearsky DNI        175296 non-null  int64  \n",
      " 7   Clearsky GHI        175296 non-null  int64  \n",
      " 8   Cloud Type          175296 non-null  int64  \n",
      " 9   Dew Point           175296 non-null  float64\n",
      " 10  Temperature         175296 non-null  float64\n",
      " 11  Pressure            175296 non-null  int64  \n",
      " 12  Relative Humidity   175296 non-null  float64\n",
      " 13  Solar Zenith Angle  175296 non-null  float64\n",
      " 14  Precipitable Water  175296 non-null  float64\n",
      " 15  Wind Direction      175296 non-null  float64\n",
      " 16  Wind Speed          175296 non-null  float64\n",
      " 17  Fill Flag           175296 non-null  int64  \n",
      "dtypes: float64(7), int64(11)\n",
      "memory usage: 24.1 MB\n"
     ]
    }
   ],
   "source": [
    "train.info()"
   ]
  },
  {
   "cell_type": "code",
   "execution_count": 43,
   "id": "dbaf9cdb",
   "metadata": {},
   "outputs": [
    {
     "data": {
      "text/html": [
       "<div>\n",
       "<style scoped>\n",
       "    .dataframe tbody tr th:only-of-type {\n",
       "        vertical-align: middle;\n",
       "    }\n",
       "\n",
       "    .dataframe tbody tr th {\n",
       "        vertical-align: top;\n",
       "    }\n",
       "\n",
       "    .dataframe thead th {\n",
       "        text-align: right;\n",
       "    }\n",
       "</style>\n",
       "<table border=\"1\" class=\"dataframe\">\n",
       "  <thead>\n",
       "    <tr style=\"text-align: right;\">\n",
       "      <th></th>\n",
       "      <th>Year</th>\n",
       "      <th>Month</th>\n",
       "      <th>Day</th>\n",
       "      <th>Hour</th>\n",
       "      <th>Minute</th>\n",
       "      <th>Clearsky DHI</th>\n",
       "      <th>Clearsky DNI</th>\n",
       "      <th>Clearsky GHI</th>\n",
       "      <th>Cloud Type</th>\n",
       "      <th>Dew Point</th>\n",
       "      <th>Temperature</th>\n",
       "      <th>Pressure</th>\n",
       "      <th>Relative Humidity</th>\n",
       "      <th>Solar Zenith Angle</th>\n",
       "      <th>Precipitable Water</th>\n",
       "      <th>Wind Direction</th>\n",
       "      <th>Wind Speed</th>\n",
       "      <th>Fill Flag</th>\n",
       "    </tr>\n",
       "  </thead>\n",
       "  <tbody>\n",
       "    <tr>\n",
       "      <th>18</th>\n",
       "      <td>2009</td>\n",
       "      <td>1</td>\n",
       "      <td>1</td>\n",
       "      <td>9</td>\n",
       "      <td>0</td>\n",
       "      <td>0</td>\n",
       "      <td>0</td>\n",
       "      <td>0</td>\n",
       "      <td>0</td>\n",
       "      <td>-1.0</td>\n",
       "      <td>0.0</td>\n",
       "      <td>1010</td>\n",
       "      <td>88.32</td>\n",
       "      <td>134.92</td>\n",
       "      <td>0.541</td>\n",
       "      <td>49.8</td>\n",
       "      <td>2.2</td>\n",
       "      <td>0</td>\n",
       "    </tr>\n",
       "    <tr>\n",
       "      <th>19</th>\n",
       "      <td>2009</td>\n",
       "      <td>1</td>\n",
       "      <td>1</td>\n",
       "      <td>9</td>\n",
       "      <td>30</td>\n",
       "      <td>0</td>\n",
       "      <td>0</td>\n",
       "      <td>0</td>\n",
       "      <td>0</td>\n",
       "      <td>-1.0</td>\n",
       "      <td>0.0</td>\n",
       "      <td>1010</td>\n",
       "      <td>88.33</td>\n",
       "      <td>128.56</td>\n",
       "      <td>0.544</td>\n",
       "      <td>49.8</td>\n",
       "      <td>2.2</td>\n",
       "      <td>0</td>\n",
       "    </tr>\n",
       "    <tr>\n",
       "      <th>66</th>\n",
       "      <td>2009</td>\n",
       "      <td>1</td>\n",
       "      <td>2</td>\n",
       "      <td>9</td>\n",
       "      <td>0</td>\n",
       "      <td>0</td>\n",
       "      <td>0</td>\n",
       "      <td>0</td>\n",
       "      <td>4</td>\n",
       "      <td>4.0</td>\n",
       "      <td>5.0</td>\n",
       "      <td>1000</td>\n",
       "      <td>100.00</td>\n",
       "      <td>134.99</td>\n",
       "      <td>2.134</td>\n",
       "      <td>158.2</td>\n",
       "      <td>1.6</td>\n",
       "      <td>0</td>\n",
       "    </tr>\n",
       "    <tr>\n",
       "      <th>67</th>\n",
       "      <td>2009</td>\n",
       "      <td>1</td>\n",
       "      <td>2</td>\n",
       "      <td>9</td>\n",
       "      <td>30</td>\n",
       "      <td>0</td>\n",
       "      <td>0</td>\n",
       "      <td>0</td>\n",
       "      <td>3</td>\n",
       "      <td>4.0</td>\n",
       "      <td>5.0</td>\n",
       "      <td>1000</td>\n",
       "      <td>100.00</td>\n",
       "      <td>128.63</td>\n",
       "      <td>2.176</td>\n",
       "      <td>158.2</td>\n",
       "      <td>1.4</td>\n",
       "      <td>0</td>\n",
       "    </tr>\n",
       "    <tr>\n",
       "      <th>114</th>\n",
       "      <td>2009</td>\n",
       "      <td>1</td>\n",
       "      <td>3</td>\n",
       "      <td>9</td>\n",
       "      <td>0</td>\n",
       "      <td>0</td>\n",
       "      <td>0</td>\n",
       "      <td>0</td>\n",
       "      <td>1</td>\n",
       "      <td>11.0</td>\n",
       "      <td>12.0</td>\n",
       "      <td>1000</td>\n",
       "      <td>100.00</td>\n",
       "      <td>135.05</td>\n",
       "      <td>2.646</td>\n",
       "      <td>222.3</td>\n",
       "      <td>1.6</td>\n",
       "      <td>0</td>\n",
       "    </tr>\n",
       "  </tbody>\n",
       "</table>\n",
       "</div>"
      ],
      "text/plain": [
       "     Year  Month  Day  Hour  Minute  Clearsky DHI  Clearsky DNI  Clearsky GHI  \\\n",
       "18   2009      1    1     9       0             0             0             0   \n",
       "19   2009      1    1     9      30             0             0             0   \n",
       "66   2009      1    2     9       0             0             0             0   \n",
       "67   2009      1    2     9      30             0             0             0   \n",
       "114  2009      1    3     9       0             0             0             0   \n",
       "\n",
       "     Cloud Type  Dew Point  Temperature  Pressure  Relative Humidity  \\\n",
       "18            0       -1.0          0.0      1010              88.32   \n",
       "19            0       -1.0          0.0      1010              88.33   \n",
       "66            4        4.0          5.0      1000             100.00   \n",
       "67            3        4.0          5.0      1000             100.00   \n",
       "114           1       11.0         12.0      1000             100.00   \n",
       "\n",
       "     Solar Zenith Angle  Precipitable Water  Wind Direction  Wind Speed  \\\n",
       "18               134.92               0.541            49.8         2.2   \n",
       "19               128.56               0.544            49.8         2.2   \n",
       "66               134.99               2.134           158.2         1.6   \n",
       "67               128.63               2.176           158.2         1.4   \n",
       "114              135.05               2.646           222.3         1.6   \n",
       "\n",
       "     Fill Flag  \n",
       "18           0  \n",
       "19           0  \n",
       "66           0  \n",
       "67           0  \n",
       "114          0  "
      ]
     },
     "execution_count": 43,
     "metadata": {},
     "output_type": "execute_result"
    }
   ],
   "source": [
    "train[train['Hour'] == 9].head(5)"
   ]
  },
  {
   "cell_type": "code",
   "execution_count": 44,
   "id": "eab8e0d0",
   "metadata": {},
   "outputs": [
    {
     "data": {
      "text/plain": [
       "Text(0, 0.5, 'Clearsky DNI')"
      ]
     },
     "execution_count": 44,
     "metadata": {},
     "output_type": "execute_result"
    },
    {
     "data": {
      "image/png": "[encoded data removed]",
      "text/plain": [
       "<Figure size 1440x360 with 2 Axes>"
      ]
     },
     "metadata": {
      "needs_background": "light"
     },
     "output_type": "display_data"
    }
   ],
   "source": [
    "fig = plt.figure(figsize= (20, 5))\n",
    "ax1 = fig.add_subplot(121)\n",
    "ax2 = fig.add_subplot(122)\n",
    "ax1.scatter(train['Hour'], train['Clearsky GHI'])\n",
    "ax1.set_xlabel('Hour')\n",
    "ax1.set_ylabel('Clearsky GHI')\n",
    "ax2.scatter(train['Hour'], train['Clearsky DNI'])\n",
    "ax2.set_xlabel('Hour')\n",
    "ax2.set_ylabel('Clearsky DNI')"
   ]
  },
  {
   "cell_type": "code",
   "execution_count": 45,
   "id": "6925e061",
   "metadata": {},
   "outputs": [
    {
     "data": {
      "text/plain": [
       "Text(0, 0.5, 'Clearsky DHI')"
      ]
     },
     "execution_count": 45,
     "metadata": {},
     "output_type": "execute_result"
    },
    {
     "data": {
      "image/png": "[encoded data removed]",
      "text/plain": [
       "<Figure size 576x360 with 1 Axes>"
      ]
     },
     "metadata": {
      "needs_background": "light"
     },
     "output_type": "display_data"
    }
   ],
   "source": [
    "plt.figure(figsize= (8, 5))\n",
    "plt.scatter(train['Hour'], train['Clearsky DHI'])\n",
    "plt.xlabel('Hour')\n",
    "plt.ylabel('Clearsky DHI')"
   ]
  },
  {
   "cell_type": "raw",
   "id": "6f005934",
   "metadata": {},
   "source": [
    "From above Analysis, we infer that from 1am to 9am the values for Clearsky DHI, Clearsky GHI, Clearsky DNI will be Zero"
   ]
  },
  {
   "cell_type": "code",
   "execution_count": 46,
   "id": "bded3843",
   "metadata": {},
   "outputs": [
    {
     "data": {
      "text/plain": [
       "(192816, 18)"
      ]
     },
     "execution_count": 46,
     "metadata": {},
     "output_type": "execute_result"
    }
   ],
   "source": [
    "combined = pd.concat([train, test], axis = 0)\n",
    "combined.shape"
   ]
  },
  {
   "cell_type": "code",
   "execution_count": 47,
   "id": "5a905ed3",
   "metadata": {},
   "outputs": [],
   "source": [
    "combined['time'] = combined['Hour']*60 + combined['Minute']"
   ]
  },
  {
   "cell_type": "code",
   "execution_count": 48,
   "id": "ed9c6f16",
   "metadata": {},
   "outputs": [],
   "source": [
    "combined['pro_unit'] = combined['Temperature'] / combined['Relative Humidity']\n",
    "combined['volume'] = combined['Temperature'] / combined['Pressure']"
   ]
  },
  {
   "cell_type": "code",
   "execution_count": 49,
   "id": "5193745d",
   "metadata": {},
   "outputs": [
    {
     "data": {
      "text/plain": [
       "{'whiskers': [<matplotlib.lines.Line2D at 0x1bc8be83a60>,\n",
       "  <matplotlib.lines.Line2D at 0x1bc8beab040>],\n",
       " 'caps': [<matplotlib.lines.Line2D at 0x1bc8bec85e0>,\n",
       "  <matplotlib.lines.Line2D at 0x1bc8bee2b80>],\n",
       " 'boxes': [<matplotlib.lines.Line2D at 0x1bc8be64490>],\n",
       " 'medians': [<matplotlib.lines.Line2D at 0x1bc8bf0c160>],\n",
       " 'fliers': [<matplotlib.lines.Line2D at 0x1bc8bf28700>],\n",
       " 'means': []}"
      ]
     },
     "execution_count": 49,
     "metadata": {},
     "output_type": "execute_result"
    },
    {
     "data": {
      "image/png": "[encoded data removed]",
      "text/plain": [
       "<Figure size 1440x360 with 2 Axes>"
      ]
     },
     "metadata": {
      "needs_background": "light"
     },
     "output_type": "display_data"
    }
   ],
   "source": [
    "fig = plt.figure(figsize= (20, 5))\n",
    "ax1 = fig.add_subplot(121)\n",
    "ax2 = fig.add_subplot(122)\n",
    "ax1.boxplot(train['Dew Point'])\n",
    "ax2.boxplot(test['Dew Point'])"
   ]
  },
  {
   "cell_type": "code",
   "execution_count": 50,
   "id": "dff00f6b",
   "metadata": {},
   "outputs": [
    {
     "data": {
      "text/plain": [
       "{'whiskers': [<matplotlib.lines.Line2D at 0x1bc855fdf10>,\n",
       "  <matplotlib.lines.Line2D at 0x1bc856072b0>],\n",
       " 'caps': [<matplotlib.lines.Line2D at 0x1bc85607610>,\n",
       "  <matplotlib.lines.Line2D at 0x1bc85607970>],\n",
       " 'boxes': [<matplotlib.lines.Line2D at 0x1bc855fdbb0>],\n",
       " 'medians': [<matplotlib.lines.Line2D at 0x1bc85607cd0>],\n",
       " 'fliers': [<matplotlib.lines.Line2D at 0x1bc85613070>],\n",
       " 'means': []}"
      ]
     },
     "execution_count": 50,
     "metadata": {},
     "output_type": "execute_result"
    },
    {
     "data": {
      "image/png": "[encoded data removed]",
      "text/plain": [
       "<Figure size 1440x360 with 2 Axes>"
      ]
     },
     "metadata": {
      "needs_background": "light"
     },
     "output_type": "display_data"
    }
   ],
   "source": [
    "fig = plt.figure(figsize= (20, 5))\n",
    "ax1 = fig.add_subplot(121)\n",
    "ax2 = fig.add_subplot(122)\n",
    "ax1.boxplot(train['Temperature'])\n",
    "ax2.boxplot(test['Temperature'])"
   ]
  },
  {
   "cell_type": "code",
   "execution_count": 51,
   "id": "8c31349f",
   "metadata": {},
   "outputs": [
    {
     "data": {
      "text/plain": [
       "{'whiskers': [<matplotlib.lines.Line2D at 0x1bc856b3a00>,\n",
       "  <matplotlib.lines.Line2D at 0x1bc856b3d60>],\n",
       " 'caps': [<matplotlib.lines.Line2D at 0x1bc856bc100>,\n",
       "  <matplotlib.lines.Line2D at 0x1bc856bc460>],\n",
       " 'boxes': [<matplotlib.lines.Line2D at 0x1bc856b3670>],\n",
       " 'medians': [<matplotlib.lines.Line2D at 0x1bc856bc7c0>],\n",
       " 'fliers': [<matplotlib.lines.Line2D at 0x1bc856bcb20>],\n",
       " 'means': []}"
      ]
     },
     "execution_count": 51,
     "metadata": {},
     "output_type": "execute_result"
    },
    {
     "data": {
      "image/png": "[encoded data removed]",
      "text/plain": [
       "<Figure size 1440x360 with 2 Axes>"
      ]
     },
     "metadata": {
      "needs_background": "light"
     },
     "output_type": "display_data"
    }
   ],
   "source": [
    "fig = plt.figure(figsize= (20, 5))\n",
    "ax1 = fig.add_subplot(121)\n",
    "ax2 = fig.add_subplot(122)\n",
    "ax1.boxplot(train['Pressure'])\n",
    "ax2.boxplot(test['Pressure'])"
   ]
  },
  {
   "cell_type": "code",
   "execution_count": 52,
   "id": "bacee061",
   "metadata": {},
   "outputs": [
    {
     "data": {
      "text/plain": [
       "{'whiskers': [<matplotlib.lines.Line2D at 0x1bc85a83f40>,\n",
       "  <matplotlib.lines.Line2D at 0x1bc85a8f2e0>],\n",
       " 'caps': [<matplotlib.lines.Line2D at 0x1bc85a8f640>,\n",
       "  <matplotlib.lines.Line2D at 0x1bc85a8f9a0>],\n",
       " 'boxes': [<matplotlib.lines.Line2D at 0x1bc85a83be0>],\n",
       " 'medians': [<matplotlib.lines.Line2D at 0x1bc85a8fd00>],\n",
       " 'fliers': [<matplotlib.lines.Line2D at 0x1bc85a990a0>],\n",
       " 'means': []}"
      ]
     },
     "execution_count": 52,
     "metadata": {},
     "output_type": "execute_result"
    },
    {
     "data": {
      "image/png": "[encoded data removed]",
      "text/plain": [
       "<Figure size 1440x360 with 2 Axes>"
      ]
     },
     "metadata": {
      "needs_background": "light"
     },
     "output_type": "display_data"
    }
   ],
   "source": [
    "fig = plt.figure(figsize= (20, 5))\n",
    "ax1 = fig.add_subplot(121)\n",
    "ax2 = fig.add_subplot(122)\n",
    "ax1.boxplot(train['Relative Humidity'])\n",
    "ax2.boxplot(test['Relative Humidity'])"
   ]
  },
  {
   "cell_type": "code",
   "execution_count": 53,
   "id": "cedaebcd",
   "metadata": {},
   "outputs": [
    {
     "data": {
      "text/plain": [
       "{'whiskers': [<matplotlib.lines.Line2D at 0x1bc85c184c0>,\n",
       "  <matplotlib.lines.Line2D at 0x1bc85c18820>],\n",
       " 'caps': [<matplotlib.lines.Line2D at 0x1bc85c18b80>,\n",
       "  <matplotlib.lines.Line2D at 0x1bc85c18ee0>],\n",
       " 'boxes': [<matplotlib.lines.Line2D at 0x1bc85c18160>],\n",
       " 'medians': [<matplotlib.lines.Line2D at 0x1bc85c22280>],\n",
       " 'fliers': [<matplotlib.lines.Line2D at 0x1bc85c225e0>],\n",
       " 'means': []}"
      ]
     },
     "execution_count": 53,
     "metadata": {},
     "output_type": "execute_result"
    },
    {
     "data": {
      "image/png": "[encoded data removed]",
      "text/plain": [
       "<Figure size 1440x360 with 2 Axes>"
      ]
     },
     "metadata": {
      "needs_background": "light"
     },
     "output_type": "display_data"
    }
   ],
   "source": [
    "fig = plt.figure(figsize= (20, 5))\n",
    "ax1 = fig.add_subplot(121)\n",
    "ax2 = fig.add_subplot(122)\n",
    "ax1.boxplot(train['Solar Zenith Angle'])\n",
    "ax2.boxplot(test['Solar Zenith Angle'])"
   ]
  },
  {
   "cell_type": "code",
   "execution_count": 54,
   "id": "c920e9a1",
   "metadata": {},
   "outputs": [
    {
     "data": {
      "text/plain": [
       "{'whiskers': [<matplotlib.lines.Line2D at 0x1bc864119a0>,\n",
       "  <matplotlib.lines.Line2D at 0x1bc86411d00>],\n",
       " 'caps': [<matplotlib.lines.Line2D at 0x1bc8641a0a0>,\n",
       "  <matplotlib.lines.Line2D at 0x1bc8641a400>],\n",
       " 'boxes': [<matplotlib.lines.Line2D at 0x1bc86411640>],\n",
       " 'medians': [<matplotlib.lines.Line2D at 0x1bc8641a760>],\n",
       " 'fliers': [<matplotlib.lines.Line2D at 0x1bc8641aac0>],\n",
       " 'means': []}"
      ]
     },
     "execution_count": 54,
     "metadata": {},
     "output_type": "execute_result"
    },
    {
     "data": {
      "image/png": "[encoded data removed]",
      "text/plain": [
       "<Figure size 1440x360 with 2 Axes>"
      ]
     },
     "metadata": {
      "needs_background": "light"
     },
     "output_type": "display_data"
    }
   ],
   "source": [
    "fig = plt.figure(figsize= (20, 5))\n",
    "ax1 = fig.add_subplot(121)\n",
    "ax2 = fig.add_subplot(122)\n",
    "ax1.boxplot(train['Precipitable Water'])\n",
    "ax2.boxplot(test['Precipitable Water'])"
   ]
  },
  {
   "cell_type": "code",
   "execution_count": 55,
   "id": "d97a3fbc",
   "metadata": {},
   "outputs": [
    {
     "data": {
      "text/plain": [
       "{'whiskers': [<matplotlib.lines.Line2D at 0x1bc86492460>,\n",
       "  <matplotlib.lines.Line2D at 0x1bc864927c0>],\n",
       " 'caps': [<matplotlib.lines.Line2D at 0x1bc86492b20>,\n",
       "  <matplotlib.lines.Line2D at 0x1bc86492e80>],\n",
       " 'boxes': [<matplotlib.lines.Line2D at 0x1bc86492100>],\n",
       " 'medians': [<matplotlib.lines.Line2D at 0x1bc8649e220>],\n",
       " 'fliers': [<matplotlib.lines.Line2D at 0x1bc8649e580>],\n",
       " 'means': []}"
      ]
     },
     "execution_count": 55,
     "metadata": {},
     "output_type": "execute_result"
    },
    {
     "data": {
      "image/png": "[encoded data removed]",
      "text/plain": [
       "<Figure size 1440x360 with 2 Axes>"
      ]
     },
     "metadata": {
      "needs_background": "light"
     },
     "output_type": "display_data"
    }
   ],
   "source": [
    "fig = plt.figure(figsize= (20, 5))\n",
    "ax1 = fig.add_subplot(121)\n",
    "ax2 = fig.add_subplot(122)\n",
    "ax1.boxplot(train['Wind Direction'])\n",
    "ax2.boxplot(test['Wind Direction'])"
   ]
  },
  {
   "cell_type": "code",
   "execution_count": 56,
   "id": "00c0b4d7",
   "metadata": {},
   "outputs": [
    {
     "data": {
      "text/plain": [
       "{'whiskers': [<matplotlib.lines.Line2D at 0x1bc86542bb0>,\n",
       "  <matplotlib.lines.Line2D at 0x1bc86542f10>],\n",
       " 'caps': [<matplotlib.lines.Line2D at 0x1bc8654e2b0>,\n",
       "  <matplotlib.lines.Line2D at 0x1bc8654e610>],\n",
       " 'boxes': [<matplotlib.lines.Line2D at 0x1bc86542850>],\n",
       " 'medians': [<matplotlib.lines.Line2D at 0x1bc8654e970>],\n",
       " 'fliers': [<matplotlib.lines.Line2D at 0x1bc8654ecd0>],\n",
       " 'means': []}"
      ]
     },
     "execution_count": 56,
     "metadata": {},
     "output_type": "execute_result"
    },
    {
     "data": {
      "image/png": "[encoded data removed]",
      "text/plain": [
       "<Figure size 1440x360 with 2 Axes>"
      ]
     },
     "metadata": {
      "needs_background": "light"
     },
     "output_type": "display_data"
    }
   ],
   "source": [
    "fig = plt.figure(figsize= (20, 5))\n",
    "ax1 = fig.add_subplot(121)\n",
    "ax2 = fig.add_subplot(122)\n",
    "ax1.boxplot(train['Wind Speed'])\n",
    "ax2.boxplot(test['Wind Speed'])"
   ]
  },
  {
   "cell_type": "code",
   "execution_count": 57,
   "id": "39da2a31",
   "metadata": {},
   "outputs": [
    {
     "data": {
      "text/plain": [
       "{'whiskers': [<matplotlib.lines.Line2D at 0x1bc865f3f10>,\n",
       "  <matplotlib.lines.Line2D at 0x1bc866002b0>],\n",
       " 'caps': [<matplotlib.lines.Line2D at 0x1bc86600610>,\n",
       "  <matplotlib.lines.Line2D at 0x1bc86600970>],\n",
       " 'boxes': [<matplotlib.lines.Line2D at 0x1bc865f3bb0>],\n",
       " 'medians': [<matplotlib.lines.Line2D at 0x1bc86600cd0>],\n",
       " 'fliers': [<matplotlib.lines.Line2D at 0x1bc8660d070>],\n",
       " 'means': []}"
      ]
     },
     "execution_count": 57,
     "metadata": {},
     "output_type": "execute_result"
    },
    {
     "data": {
      "image/png": "[encoded data removed]",
      "text/plain": [
       "<Figure size 1440x360 with 2 Axes>"
      ]
     },
     "metadata": {
      "needs_background": "light"
     },
     "output_type": "display_data"
    }
   ],
   "source": [
    "fig = plt.figure(figsize= (20, 5))\n",
    "ax1 = fig.add_subplot(121)\n",
    "ax2 = fig.add_subplot(122)\n",
    "ax1.boxplot(train['Fill Flag'])\n",
    "ax2.boxplot(test['Fill Flag'])"
   ]
  },
  {
   "cell_type": "code",
   "execution_count": 58,
   "id": "7207cc31",
   "metadata": {},
   "outputs": [
    {
     "data": {
      "text/plain": [
       "<AxesSubplot:xlabel='Fill Flag', ylabel='Count'>"
      ]
     },
     "execution_count": 58,
     "metadata": {},
     "output_type": "execute_result"
    },
    {
     "data": {
      "image/png": "[encoded data removed]",
      "text/plain": [
       "<Figure size 432x288 with 1 Axes>"
      ]
     },
     "metadata": {
      "needs_background": "light"
     },
     "output_type": "display_data"
    }
   ],
   "source": [
    "sns.histplot(train['Fill Flag'])"
   ]
  },
  {
   "cell_type": "code",
   "execution_count": 59,
   "id": "f45de141",
   "metadata": {},
   "outputs": [
    {
     "data": {
      "text/plain": [
       "<AxesSubplot:xlabel='Fill Flag', ylabel='Count'>"
      ]
     },
     "execution_count": 59,
     "metadata": {},
     "output_type": "execute_result"
    },
    {
     "data": {
      "image/png": "[encoded data removed]",
      "text/plain": [
       "<Figure size 432x288 with 1 Axes>"
      ]
     },
     "metadata": {
      "needs_background": "light"
     },
     "output_type": "display_data"
    }
   ],
   "source": [
    "sns.histplot(test['Fill Flag'])"
   ]
  },
  {
   "cell_type": "raw",
   "id": "2744c834",
   "metadata": {},
   "source": [
    "Outliers present in Dew Point, Temperature, Pressure, Relative Humidity, Wind Speed and Fill Flag"
   ]
  },
  {
   "cell_type": "code",
   "execution_count": 60,
   "id": "e16ed785",
   "metadata": {},
   "outputs": [],
   "source": [
    "newtrain = combined.iloc[0:175296, :]\n",
    "newtest = combined.iloc[175296: , :]"
   ]
  },
  {
   "cell_type": "code",
   "execution_count": 61,
   "id": "41f8f525",
   "metadata": {},
   "outputs": [],
   "source": [
    "newtrain = newtrain.drop(['Hour', 'Minute', 'Fill Flag'], axis = 1)\n",
    "newtest = newtest.drop(['Hour', 'Minute', 'Fill Flag'], axis = 1)"
   ]
  },
  {
   "cell_type": "code",
   "execution_count": 62,
   "id": "2c45230b",
   "metadata": {},
   "outputs": [
    {
     "data": {
      "text/plain": [
       "(175296, 18)"
      ]
     },
     "execution_count": 62,
     "metadata": {},
     "output_type": "execute_result"
    }
   ],
   "source": [
    "newtrain.shape"
   ]
  },
  {
   "cell_type": "code",
   "execution_count": 63,
   "id": "beded6f7",
   "metadata": {},
   "outputs": [
    {
     "data": {
      "text/plain": [
       "(17520, 18)"
      ]
     },
     "execution_count": 63,
     "metadata": {},
     "output_type": "execute_result"
    }
   ],
   "source": [
    "newtest.shape"
   ]
  },
  {
   "cell_type": "code",
   "execution_count": 64,
   "id": "7252569a",
   "metadata": {},
   "outputs": [
    {
     "data": {
      "text/plain": [
       "<AxesSubplot:title={'center':'Pearson Correlation of Features'}>"
      ]
     },
     "execution_count": 64,
     "metadata": {},
     "output_type": "execute_result"
    },
    {
     "data": {
      "image/png": "[encoded data removed]",
      "text/plain": [
       "<Figure size 1440x1440 with 2 Axes>"
      ]
     },
     "metadata": {
      "needs_background": "light"
     },
     "output_type": "display_data"
    }
   ],
   "source": [
    "colormap = plt.cm.RdBu\n",
    "plt.figure(figsize=(20,20))\n",
    "plt.title('Pearson Correlation of Features', y=1.05, size=15)\n",
    "sns.heatmap(newtrain.astype(float).corr(),linewidths=0.1,vmax=1.0, \n",
    "            square=True, cmap=colormap, linecolor='white', annot=True)"
   ]
  },
  {
   "cell_type": "code",
   "execution_count": 66,
   "id": "b38b811a",
   "metadata": {},
   "outputs": [],
   "source": [
    "def outlier_trim(dataframe, column_name):\n",
    "    for i in dataframe[column_name]:\n",
    "        q1 = dataframe[column_name].quantile(0.25)\n",
    "        q3 = dataframe[column_name].quantile(0.75)\n",
    "        iqr = q3 - q1\n",
    "        lower = q1 - 1.5*iqr\n",
    "        upper = q3 + 1.5*iqr\n",
    "        if i > upper or i < lower:\n",
    "            dataframe[column_name] = dataframe[column_name].replace(i, np.median(dataframe[column_name]))"
   ]
  },
  {
   "cell_type": "code",
   "execution_count": 67,
   "id": "d24f39a0",
   "metadata": {},
   "outputs": [],
   "source": [
    "outlier_trim(newtest, 'Dew Point')\n",
    "outlier_trim(newtest, 'Pressure')"
   ]
  },
  {
   "cell_type": "code",
   "execution_count": 68,
   "id": "48dc23cb",
   "metadata": {},
   "outputs": [],
   "source": [
    "outlier_trim(newtest, 'Wind Speed')\n",
    "##outlier_trim(newtest, 'Fill Flag')"
   ]
  },
  {
   "cell_type": "code",
   "execution_count": 69,
   "id": "4032a90a",
   "metadata": {},
   "outputs": [],
   "source": [
    "outlier_trim(newtrain, 'Dew Point')\n",
    "outlier_trim(newtrain, 'Pressure')"
   ]
  },
  {
   "cell_type": "code",
   "execution_count": 70,
   "id": "dc23347d",
   "metadata": {},
   "outputs": [],
   "source": [
    "outlier_trim(newtrain, 'Temperature')\n",
    "outlier_trim(newtrain, 'Relative Humidity')"
   ]
  },
  {
   "cell_type": "code",
   "execution_count": 71,
   "id": "2523b942",
   "metadata": {},
   "outputs": [],
   "source": [
    "outlier_trim(newtrain, 'Wind Speed')\n",
    "##outlier_trim(newtrain, 'Fill Flag')"
   ]
  },
  {
   "cell_type": "code",
   "execution_count": 72,
   "id": "c683db47",
   "metadata": {},
   "outputs": [
    {
     "data": {
      "text/plain": [
       "{'whiskers': [<matplotlib.lines.Line2D at 0x1bc87079eb0>,\n",
       "  <matplotlib.lines.Line2D at 0x1bc87083250>],\n",
       " 'caps': [<matplotlib.lines.Line2D at 0x1bc870835b0>,\n",
       "  <matplotlib.lines.Line2D at 0x1bc87083910>],\n",
       " 'boxes': [<matplotlib.lines.Line2D at 0x1bc87079b50>],\n",
       " 'medians': [<matplotlib.lines.Line2D at 0x1bc87083c70>],\n",
       " 'fliers': [<matplotlib.lines.Line2D at 0x1bc87083fd0>],\n",
       " 'means': []}"
      ]
     },
     "execution_count": 72,
     "metadata": {},
     "output_type": "execute_result"
    },
    {
     "data": {
      "image/png": "[encoded data removed]",
      "text/plain": [
       "<Figure size 1440x360 with 2 Axes>"
      ]
     },
     "metadata": {
      "needs_background": "light"
     },
     "output_type": "display_data"
    }
   ],
   "source": [
    "fig = plt.figure(figsize= (20, 5))\n",
    "ax1 = fig.add_subplot(121)\n",
    "ax2 = fig.add_subplot(122)\n",
    "ax1.boxplot(newtrain['pro_unit'])\n",
    "ax2.boxplot(newtest['pro_unit'])"
   ]
  },
  {
   "cell_type": "code",
   "execution_count": 73,
   "id": "5ea433b6",
   "metadata": {},
   "outputs": [
    {
     "data": {
      "text/plain": [
       "{'whiskers': [<matplotlib.lines.Line2D at 0x1bc87122af0>,\n",
       "  <matplotlib.lines.Line2D at 0x1bc87122e50>],\n",
       " 'caps': [<matplotlib.lines.Line2D at 0x1bc8712e1f0>,\n",
       "  <matplotlib.lines.Line2D at 0x1bc8712e550>],\n",
       " 'boxes': [<matplotlib.lines.Line2D at 0x1bc87122790>],\n",
       " 'medians': [<matplotlib.lines.Line2D at 0x1bc8712e8b0>],\n",
       " 'fliers': [<matplotlib.lines.Line2D at 0x1bc8712ec10>],\n",
       " 'means': []}"
      ]
     },
     "execution_count": 73,
     "metadata": {},
     "output_type": "execute_result"
    },
    {
     "data": {
      "image/png": "[encoded data removed]",
      "text/plain": [
       "<Figure size 1440x360 with 2 Axes>"
      ]
     },
     "metadata": {
      "needs_background": "light"
     },
     "output_type": "display_data"
    }
   ],
   "source": [
    "fig = plt.figure(figsize= (20, 5))\n",
    "ax1 = fig.add_subplot(121)\n",
    "ax2 = fig.add_subplot(122)\n",
    "ax1.boxplot(newtrain['volume'])\n",
    "ax2.boxplot(newtest['volume'])"
   ]
  },
  {
   "cell_type": "code",
   "execution_count": 74,
   "id": "f14f018c",
   "metadata": {},
   "outputs": [],
   "source": [
    "outlier_trim(newtrain, 'pro_unit')\n",
    "outlier_trim(newtrain, 'volume')"
   ]
  },
  {
   "cell_type": "code",
   "execution_count": 75,
   "id": "d7d8cafd",
   "metadata": {},
   "outputs": [],
   "source": [
    "outlier_trim(newtest, 'pro_unit')"
   ]
  },
  {
   "cell_type": "code",
   "execution_count": 108,
   "id": "d66e2fd0",
   "metadata": {},
   "outputs": [
    {
     "data": {
      "text/html": [
       "<div>\n",
       "<style scoped>\n",
       "    .dataframe tbody tr th:only-of-type {\n",
       "        vertical-align: middle;\n",
       "    }\n",
       "\n",
       "    .dataframe tbody tr th {\n",
       "        vertical-align: top;\n",
       "    }\n",
       "\n",
       "    .dataframe thead th {\n",
       "        text-align: right;\n",
       "    }\n",
       "</style>\n",
       "<table border=\"1\" class=\"dataframe\">\n",
       "  <thead>\n",
       "    <tr style=\"text-align: right;\">\n",
       "      <th></th>\n",
       "      <th>Year</th>\n",
       "      <th>Month</th>\n",
       "      <th>Day</th>\n",
       "      <th>Clearsky DHI</th>\n",
       "      <th>Clearsky DNI</th>\n",
       "      <th>Clearsky GHI</th>\n",
       "      <th>Cloud Type</th>\n",
       "      <th>Dew Point</th>\n",
       "      <th>Temperature</th>\n",
       "      <th>Pressure</th>\n",
       "      <th>Relative Humidity</th>\n",
       "      <th>Solar Zenith Angle</th>\n",
       "      <th>Precipitable Water</th>\n",
       "      <th>Wind Direction</th>\n",
       "      <th>Wind Speed</th>\n",
       "      <th>time</th>\n",
       "      <th>pro_unit</th>\n",
       "      <th>volume</th>\n",
       "    </tr>\n",
       "  </thead>\n",
       "  <tbody>\n",
       "    <tr>\n",
       "      <th>0</th>\n",
       "      <td>2009</td>\n",
       "      <td>1</td>\n",
       "      <td>1</td>\n",
       "      <td>0.0</td>\n",
       "      <td>0.0</td>\n",
       "      <td>0.0</td>\n",
       "      <td>0</td>\n",
       "      <td>0.0</td>\n",
       "      <td>5.0</td>\n",
       "      <td>1010.0</td>\n",
       "      <td>75.34</td>\n",
       "      <td>106.15</td>\n",
       "      <td>0.499</td>\n",
       "      <td>346.1</td>\n",
       "      <td>3.1</td>\n",
       "      <td>0</td>\n",
       "      <td>0.066366</td>\n",
       "      <td>0.00495</td>\n",
       "    </tr>\n",
       "    <tr>\n",
       "      <th>1</th>\n",
       "      <td>2009</td>\n",
       "      <td>1</td>\n",
       "      <td>1</td>\n",
       "      <td>0.0</td>\n",
       "      <td>0.0</td>\n",
       "      <td>0.0</td>\n",
       "      <td>0</td>\n",
       "      <td>1.0</td>\n",
       "      <td>5.0</td>\n",
       "      <td>1010.0</td>\n",
       "      <td>80.81</td>\n",
       "      <td>112.28</td>\n",
       "      <td>0.490</td>\n",
       "      <td>346.1</td>\n",
       "      <td>3.1</td>\n",
       "      <td>30</td>\n",
       "      <td>0.061874</td>\n",
       "      <td>0.00495</td>\n",
       "    </tr>\n",
       "    <tr>\n",
       "      <th>2</th>\n",
       "      <td>2009</td>\n",
       "      <td>1</td>\n",
       "      <td>1</td>\n",
       "      <td>0.0</td>\n",
       "      <td>0.0</td>\n",
       "      <td>0.0</td>\n",
       "      <td>4</td>\n",
       "      <td>0.0</td>\n",
       "      <td>5.0</td>\n",
       "      <td>1010.0</td>\n",
       "      <td>78.27</td>\n",
       "      <td>118.50</td>\n",
       "      <td>0.482</td>\n",
       "      <td>347.9</td>\n",
       "      <td>3.2</td>\n",
       "      <td>60</td>\n",
       "      <td>0.063881</td>\n",
       "      <td>0.00495</td>\n",
       "    </tr>\n",
       "    <tr>\n",
       "      <th>3</th>\n",
       "      <td>2009</td>\n",
       "      <td>1</td>\n",
       "      <td>1</td>\n",
       "      <td>0.0</td>\n",
       "      <td>0.0</td>\n",
       "      <td>0.0</td>\n",
       "      <td>4</td>\n",
       "      <td>0.0</td>\n",
       "      <td>4.0</td>\n",
       "      <td>1010.0</td>\n",
       "      <td>78.27</td>\n",
       "      <td>124.78</td>\n",
       "      <td>0.478</td>\n",
       "      <td>347.9</td>\n",
       "      <td>3.1</td>\n",
       "      <td>90</td>\n",
       "      <td>0.051105</td>\n",
       "      <td>0.00396</td>\n",
       "    </tr>\n",
       "    <tr>\n",
       "      <th>4</th>\n",
       "      <td>2009</td>\n",
       "      <td>1</td>\n",
       "      <td>1</td>\n",
       "      <td>0.0</td>\n",
       "      <td>0.0</td>\n",
       "      <td>0.0</td>\n",
       "      <td>4</td>\n",
       "      <td>0.0</td>\n",
       "      <td>4.0</td>\n",
       "      <td>1010.0</td>\n",
       "      <td>76.45</td>\n",
       "      <td>131.12</td>\n",
       "      <td>0.475</td>\n",
       "      <td>350.0</td>\n",
       "      <td>3.0</td>\n",
       "      <td>120</td>\n",
       "      <td>0.052322</td>\n",
       "      <td>0.00396</td>\n",
       "    </tr>\n",
       "  </tbody>\n",
       "</table>\n",
       "</div>"
      ],
      "text/plain": [
       "   Year  Month  Day  Clearsky DHI  Clearsky DNI  Clearsky GHI  Cloud Type  \\\n",
       "0  2009      1    1           0.0           0.0           0.0           0   \n",
       "1  2009      1    1           0.0           0.0           0.0           0   \n",
       "2  2009      1    1           0.0           0.0           0.0           4   \n",
       "3  2009      1    1           0.0           0.0           0.0           4   \n",
       "4  2009      1    1           0.0           0.0           0.0           4   \n",
       "\n",
       "   Dew Point  Temperature  Pressure  Relative Humidity  Solar Zenith Angle  \\\n",
       "0        0.0          5.0    1010.0              75.34              106.15   \n",
       "1        1.0          5.0    1010.0              80.81              112.28   \n",
       "2        0.0          5.0    1010.0              78.27              118.50   \n",
       "3        0.0          4.0    1010.0              78.27              124.78   \n",
       "4        0.0          4.0    1010.0              76.45              131.12   \n",
       "\n",
       "   Precipitable Water  Wind Direction  Wind Speed  time  pro_unit   volume  \n",
       "0               0.499           346.1         3.1     0  0.066366  0.00495  \n",
       "1               0.490           346.1         3.1    30  0.061874  0.00495  \n",
       "2               0.482           347.9         3.2    60  0.063881  0.00495  \n",
       "3               0.478           347.9         3.1    90  0.051105  0.00396  \n",
       "4               0.475           350.0         3.0   120  0.052322  0.00396  "
      ]
     },
     "execution_count": 108,
     "metadata": {},
     "output_type": "execute_result"
    }
   ],
   "source": [
    "newtrain.head()"
   ]
  },
  {
   "cell_type": "code",
   "execution_count": 109,
   "id": "7255443d",
   "metadata": {},
   "outputs": [
    {
     "data": {
      "text/html": [
       "<div>\n",
       "<style scoped>\n",
       "    .dataframe tbody tr th:only-of-type {\n",
       "        vertical-align: middle;\n",
       "    }\n",
       "\n",
       "    .dataframe tbody tr th {\n",
       "        vertical-align: top;\n",
       "    }\n",
       "\n",
       "    .dataframe thead th {\n",
       "        text-align: right;\n",
       "    }\n",
       "</style>\n",
       "<table border=\"1\" class=\"dataframe\">\n",
       "  <thead>\n",
       "    <tr style=\"text-align: right;\">\n",
       "      <th></th>\n",
       "      <th>Year</th>\n",
       "      <th>Month</th>\n",
       "      <th>Day</th>\n",
       "      <th>Clearsky DHI</th>\n",
       "      <th>Clearsky DNI</th>\n",
       "      <th>Clearsky GHI</th>\n",
       "      <th>Cloud Type</th>\n",
       "      <th>Dew Point</th>\n",
       "      <th>Temperature</th>\n",
       "      <th>Pressure</th>\n",
       "      <th>Relative Humidity</th>\n",
       "      <th>Solar Zenith Angle</th>\n",
       "      <th>Precipitable Water</th>\n",
       "      <th>Wind Direction</th>\n",
       "      <th>Wind Speed</th>\n",
       "      <th>time</th>\n",
       "      <th>pro_unit</th>\n",
       "      <th>volume</th>\n",
       "    </tr>\n",
       "  </thead>\n",
       "  <tbody>\n",
       "    <tr>\n",
       "      <th>0</th>\n",
       "      <td>2019</td>\n",
       "      <td>1</td>\n",
       "      <td>1</td>\n",
       "      <td>NaN</td>\n",
       "      <td>NaN</td>\n",
       "      <td>NaN</td>\n",
       "      <td>7</td>\n",
       "      <td>18.4</td>\n",
       "      <td>18.8</td>\n",
       "      <td>1008.0</td>\n",
       "      <td>97.70</td>\n",
       "      <td>106.23</td>\n",
       "      <td>3.5</td>\n",
       "      <td>190.0</td>\n",
       "      <td>2.3</td>\n",
       "      <td>0</td>\n",
       "      <td>0.192426</td>\n",
       "      <td>0.018651</td>\n",
       "    </tr>\n",
       "    <tr>\n",
       "      <th>1</th>\n",
       "      <td>2019</td>\n",
       "      <td>1</td>\n",
       "      <td>1</td>\n",
       "      <td>NaN</td>\n",
       "      <td>NaN</td>\n",
       "      <td>NaN</td>\n",
       "      <td>3</td>\n",
       "      <td>18.4</td>\n",
       "      <td>18.6</td>\n",
       "      <td>1008.0</td>\n",
       "      <td>98.92</td>\n",
       "      <td>112.36</td>\n",
       "      <td>3.5</td>\n",
       "      <td>187.0</td>\n",
       "      <td>2.5</td>\n",
       "      <td>30</td>\n",
       "      <td>0.188031</td>\n",
       "      <td>0.018452</td>\n",
       "    </tr>\n",
       "    <tr>\n",
       "      <th>2</th>\n",
       "      <td>2019</td>\n",
       "      <td>1</td>\n",
       "      <td>1</td>\n",
       "      <td>NaN</td>\n",
       "      <td>NaN</td>\n",
       "      <td>NaN</td>\n",
       "      <td>3</td>\n",
       "      <td>18.2</td>\n",
       "      <td>18.5</td>\n",
       "      <td>1008.0</td>\n",
       "      <td>98.35</td>\n",
       "      <td>118.58</td>\n",
       "      <td>3.5</td>\n",
       "      <td>184.0</td>\n",
       "      <td>2.8</td>\n",
       "      <td>60</td>\n",
       "      <td>0.188104</td>\n",
       "      <td>0.018353</td>\n",
       "    </tr>\n",
       "    <tr>\n",
       "      <th>3</th>\n",
       "      <td>2019</td>\n",
       "      <td>1</td>\n",
       "      <td>1</td>\n",
       "      <td>NaN</td>\n",
       "      <td>NaN</td>\n",
       "      <td>NaN</td>\n",
       "      <td>3</td>\n",
       "      <td>18.2</td>\n",
       "      <td>18.3</td>\n",
       "      <td>1008.0</td>\n",
       "      <td>99.58</td>\n",
       "      <td>124.86</td>\n",
       "      <td>3.5</td>\n",
       "      <td>185.0</td>\n",
       "      <td>3.0</td>\n",
       "      <td>90</td>\n",
       "      <td>0.183772</td>\n",
       "      <td>0.018155</td>\n",
       "    </tr>\n",
       "    <tr>\n",
       "      <th>4</th>\n",
       "      <td>2019</td>\n",
       "      <td>1</td>\n",
       "      <td>1</td>\n",
       "      <td>NaN</td>\n",
       "      <td>NaN</td>\n",
       "      <td>NaN</td>\n",
       "      <td>0</td>\n",
       "      <td>18.0</td>\n",
       "      <td>18.0</td>\n",
       "      <td>1008.0</td>\n",
       "      <td>99.71</td>\n",
       "      <td>131.20</td>\n",
       "      <td>3.6</td>\n",
       "      <td>186.0</td>\n",
       "      <td>3.1</td>\n",
       "      <td>120</td>\n",
       "      <td>0.180524</td>\n",
       "      <td>0.017857</td>\n",
       "    </tr>\n",
       "  </tbody>\n",
       "</table>\n",
       "</div>"
      ],
      "text/plain": [
       "   Year  Month  Day  Clearsky DHI  Clearsky DNI  Clearsky GHI  Cloud Type  \\\n",
       "0  2019      1    1           NaN           NaN           NaN           7   \n",
       "1  2019      1    1           NaN           NaN           NaN           3   \n",
       "2  2019      1    1           NaN           NaN           NaN           3   \n",
       "3  2019      1    1           NaN           NaN           NaN           3   \n",
       "4  2019      1    1           NaN           NaN           NaN           0   \n",
       "\n",
       "   Dew Point  Temperature  Pressure  Relative Humidity  Solar Zenith Angle  \\\n",
       "0       18.4         18.8    1008.0              97.70              106.23   \n",
       "1       18.4         18.6    1008.0              98.92              112.36   \n",
       "2       18.2         18.5    1008.0              98.35              118.58   \n",
       "3       18.2         18.3    1008.0              99.58              124.86   \n",
       "4       18.0         18.0    1008.0              99.71              131.20   \n",
       "\n",
       "   Precipitable Water  Wind Direction  Wind Speed  time  pro_unit    volume  \n",
       "0                 3.5           190.0         2.3     0  0.192426  0.018651  \n",
       "1                 3.5           187.0         2.5    30  0.188031  0.018452  \n",
       "2                 3.5           184.0         2.8    60  0.188104  0.018353  \n",
       "3                 3.5           185.0         3.0    90  0.183772  0.018155  \n",
       "4                 3.6           186.0         3.1   120  0.180524  0.017857  "
      ]
     },
     "execution_count": 109,
     "metadata": {},
     "output_type": "execute_result"
    }
   ],
   "source": [
    " newtest.head()"
   ]
  },
  {
   "cell_type": "code",
   "execution_count": 110,
   "id": "76356f12",
   "metadata": {},
   "outputs": [],
   "source": [
    "x = newtrain.drop(['Clearsky DNI','Clearsky GHI'], axis = 1)\n",
    "y = newtrain['Clearsky DHI']"
   ]
  },
  {
   "cell_type": "code",
   "execution_count": 111,
   "id": "b39eceab",
   "metadata": {},
   "outputs": [],
   "source": [
    "from sklearn.model_selection import train_test_split\n",
    "x_train, x_test, y_train, y_test = train_test_split(x, y, test_size = 0.3, random_state = 1)"
   ]
  },
  {
   "cell_type": "code",
   "execution_count": 112,
   "id": "0b0685af",
   "metadata": {},
   "outputs": [
    {
     "name": "stdout",
     "output_type": "stream",
     "text": [
      "tf.Tensor(0.162510060816596, shape=(), dtype=float64)\n"
     ]
    }
   ],
   "source": [
    "from sklearn.ensemble import GradientBoostingRegressor\n",
    "gab = GradientBoostingRegressor()\n",
    "y_pred = gab.fit(x_train, y_train).predict(x_test)\n",
    "print(mean_squared_error(y_test, y_pred))"
   ]
  },
  {
   "cell_type": "code",
   "execution_count": 113,
   "id": "b612c982",
   "metadata": {},
   "outputs": [],
   "source": [
    "x = newtrain.drop(['Clearsky DHI','Clearsky GHI'], axis = 1)\n",
    "y = newtrain['Clearsky DNI']"
   ]
  },
  {
   "cell_type": "code",
   "execution_count": 114,
   "id": "25ea05ea",
   "metadata": {},
   "outputs": [],
   "source": [
    "from sklearn.model_selection import train_test_split\n",
    "x_train, x_test, y_train, y_test = train_test_split(x, y, test_size = 0.3, random_state = 1)"
   ]
  },
  {
   "cell_type": "code",
   "execution_count": 115,
   "id": "7ab19851",
   "metadata": {},
   "outputs": [
    {
     "name": "stdout",
     "output_type": "stream",
     "text": [
      "tf.Tensor(1.9502611617802779, shape=(), dtype=float64)\n"
     ]
    }
   ],
   "source": [
    "from sklearn.ensemble import GradientBoostingRegressor\n",
    "gab = GradientBoostingRegressor()\n",
    "y_pred = gab.fit(x_train, y_train).predict(x_test)\n",
    "print(mean_squared_error(y_test, y_pred))"
   ]
  },
  {
   "cell_type": "code",
   "execution_count": 116,
   "id": "1525f219",
   "metadata": {},
   "outputs": [],
   "source": [
    "x = newtrain.drop(['Clearsky DNI','Clearsky DHI'], axis = 1)\n",
    "y = newtrain['Clearsky GHI']"
   ]
  },
  {
   "cell_type": "code",
   "execution_count": 117,
   "id": "b18debed",
   "metadata": {},
   "outputs": [],
   "source": [
    "from sklearn.model_selection import train_test_split\n",
    "x_train, x_test, y_train, y_test = train_test_split(x, y, test_size = 0.3, random_state = 1)"
   ]
  },
  {
   "cell_type": "code",
   "execution_count": 118,
   "id": "2bd1a3c5",
   "metadata": {},
   "outputs": [
    {
     "name": "stdout",
     "output_type": "stream",
     "text": [
      "tf.Tensor(2.434582808832377, shape=(), dtype=float64)\n"
     ]
    }
   ],
   "source": [
    "from sklearn.ensemble import GradientBoostingRegressor\n",
    "gab = GradientBoostingRegressor()\n",
    "y_pred = gab.fit(x_train, y_train).predict(x_test)\n",
    "print(mean_squared_error(y_test, y_pred))"
   ]
  },
  {
   "cell_type": "code",
   "execution_count": null,
   "id": "912053a4",
   "metadata": {},
   "outputs": [],
   "source": []
  },
  {
   "cell_type": "code",
   "execution_count": 122,
   "id": "58210687",
   "metadata": {},
   "outputs": [],
   "source": [
    "x_train = newtrain.drop(['Clearsky DNI','Clearsky GHI', 'Clearsky DHI'], axis = 1)\n",
    "y_train = newtrain['Clearsky DHI']\n",
    "x_test = newtest.drop(['Clearsky DNI','Clearsky GHI', 'Clearsky DHI'], axis = 1)"
   ]
  },
  {
   "cell_type": "code",
   "execution_count": 123,
   "id": "682bda1d",
   "metadata": {},
   "outputs": [],
   "source": [
    "from sklearn.ensemble import GradientBoostingRegressor\n",
    "gab = GradientBoostingRegressor()\n",
    "y_pred1 = gab.fit(x_train, y_train).predict(x_test)"
   ]
  },
  {
   "cell_type": "code",
   "execution_count": null,
   "id": "ba7ff118",
   "metadata": {},
   "outputs": [],
   "source": []
  },
  {
   "cell_type": "code",
   "execution_count": 124,
   "id": "a95e17c3",
   "metadata": {},
   "outputs": [],
   "source": [
    "x_train = newtrain.drop(['Clearsky DHI','Clearsky GHI', 'Clearsky DNI'], axis = 1)\n",
    "y_train = newtrain['Clearsky DNI']\n",
    "x_test = newtest.drop(['Clearsky DNI','Clearsky GHI', 'Clearsky DHI'], axis = 1)"
   ]
  },
  {
   "cell_type": "code",
   "execution_count": 125,
   "id": "39028af8",
   "metadata": {},
   "outputs": [],
   "source": [
    "from sklearn.ensemble import GradientBoostingRegressor\n",
    "gab = GradientBoostingRegressor()\n",
    "y_pred2 = gab.fit(x_train, y_train).predict(x_test)"
   ]
  },
  {
   "cell_type": "code",
   "execution_count": null,
   "id": "3b0a837f",
   "metadata": {},
   "outputs": [],
   "source": []
  },
  {
   "cell_type": "code",
   "execution_count": 126,
   "id": "1dc7415e",
   "metadata": {},
   "outputs": [],
   "source": [
    "x_train = newtrain.drop(['Clearsky DNI','Clearsky DHI', 'Clearsky GHI'], axis = 1)\n",
    "y_train = newtrain['Clearsky GHI']\n",
    "x_test = newtest.drop(['Clearsky DNI','Clearsky GHI', 'Clearsky DHI'], axis = 1)"
   ]
  },
  {
   "cell_type": "code",
   "execution_count": 127,
   "id": "e7da52c6",
   "metadata": {},
   "outputs": [],
   "source": [
    "from sklearn.ensemble import GradientBoostingRegressor\n",
    "gab = GradientBoostingRegressor()\n",
    "y_pred3 = gab.fit(x_train, y_train).predict(x_test)"
   ]
  },
  {
   "cell_type": "code",
   "execution_count": null,
   "id": "7fd58440",
   "metadata": {},
   "outputs": [],
   "source": []
  },
  {
   "cell_type": "code",
   "execution_count": 128,
   "id": "61143ca2",
   "metadata": {},
   "outputs": [
    {
     "data": {
      "text/plain": [
       "(17520, 3)"
      ]
     },
     "execution_count": 128,
     "metadata": {},
     "output_type": "execute_result"
    }
   ],
   "source": [
    "solution = pd.DataFrame({'Clearsky DHI' : y_pred1, 'Clearsky DNI' : y_pred2, 'Clearsky GHI' : y_pred3})\n",
    "solution.shape"
   ]
  },
  {
   "cell_type": "code",
   "execution_count": 129,
   "id": "7429f2e6",
   "metadata": {},
   "outputs": [],
   "source": [
    "solution.to_csv('Solution.csv', index = False)"
   ]
  },
  {
   "cell_type": "code",
   "execution_count": null,
   "id": "a8598287",
   "metadata": {},
   "outputs": [],
   "source": []
  }
 ],
 "metadata": {
  "kernelspec": {
   "display_name": "Python 3",
   "language": "python",
   "name": "python3"
  },
  "language_info": {
   "codemirror_mode": {
    "name": "ipython",
    "version": 3
   },
   "file_extension": ".py",
   "mimetype": "text/x-python",
   "name": "python",
   "nbconvert_exporter": "python",
   "pygments_lexer": "ipython3",
   "version": "3.8.8"
  }
 },
 "nbformat": 4,
 "nbformat_minor": 5
}
