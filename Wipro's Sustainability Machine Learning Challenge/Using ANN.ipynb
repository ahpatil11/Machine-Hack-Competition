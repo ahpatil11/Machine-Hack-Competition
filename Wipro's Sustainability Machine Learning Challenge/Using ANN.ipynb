{
 "cells": [
  {
   "cell_type": "code",
   "execution_count": 1,
   "id": "72be6019",
   "metadata": {},
   "outputs": [],
   "source": [
    "import numpy as np\n",
    "import pandas as pd\n",
    "import matplotlib.pyplot as plt\n",
    "import seaborn as sns"
   ]
  },
  {
   "cell_type": "code",
   "execution_count": 2,
   "id": "e8262b52",
   "metadata": {},
   "outputs": [
    {
     "data": {
      "text/html": [
       "<div>\n",
       "<style scoped>\n",
       "    .dataframe tbody tr th:only-of-type {\n",
       "        vertical-align: middle;\n",
       "    }\n",
       "\n",
       "    .dataframe tbody tr th {\n",
       "        vertical-align: top;\n",
       "    }\n",
       "\n",
       "    .dataframe thead th {\n",
       "        text-align: right;\n",
       "    }\n",
       "</style>\n",
       "<table border=\"1\" class=\"dataframe\">\n",
       "  <thead>\n",
       "    <tr style=\"text-align: right;\">\n",
       "      <th></th>\n",
       "      <th>Year</th>\n",
       "      <th>Month</th>\n",
       "      <th>Day</th>\n",
       "      <th>Hour</th>\n",
       "      <th>Minute</th>\n",
       "      <th>Clearsky DHI</th>\n",
       "      <th>Clearsky DNI</th>\n",
       "      <th>Clearsky GHI</th>\n",
       "      <th>Cloud Type</th>\n",
       "      <th>Dew Point</th>\n",
       "      <th>Temperature</th>\n",
       "      <th>Pressure</th>\n",
       "      <th>Relative Humidity</th>\n",
       "      <th>Solar Zenith Angle</th>\n",
       "      <th>Precipitable Water</th>\n",
       "      <th>Wind Direction</th>\n",
       "      <th>Wind Speed</th>\n",
       "      <th>Fill Flag</th>\n",
       "    </tr>\n",
       "  </thead>\n",
       "  <tbody>\n",
       "    <tr>\n",
       "      <th>0</th>\n",
       "      <td>2009</td>\n",
       "      <td>1</td>\n",
       "      <td>1</td>\n",
       "      <td>0</td>\n",
       "      <td>0</td>\n",
       "      <td>0</td>\n",
       "      <td>0</td>\n",
       "      <td>0</td>\n",
       "      <td>0</td>\n",
       "      <td>0.0</td>\n",
       "      <td>5.0</td>\n",
       "      <td>1010</td>\n",
       "      <td>75.34</td>\n",
       "      <td>106.15</td>\n",
       "      <td>0.499</td>\n",
       "      <td>346.1</td>\n",
       "      <td>3.1</td>\n",
       "      <td>0</td>\n",
       "    </tr>\n",
       "    <tr>\n",
       "      <th>1</th>\n",
       "      <td>2009</td>\n",
       "      <td>1</td>\n",
       "      <td>1</td>\n",
       "      <td>0</td>\n",
       "      <td>30</td>\n",
       "      <td>0</td>\n",
       "      <td>0</td>\n",
       "      <td>0</td>\n",
       "      <td>0</td>\n",
       "      <td>1.0</td>\n",
       "      <td>5.0</td>\n",
       "      <td>1010</td>\n",
       "      <td>80.81</td>\n",
       "      <td>112.28</td>\n",
       "      <td>0.490</td>\n",
       "      <td>346.1</td>\n",
       "      <td>3.1</td>\n",
       "      <td>0</td>\n",
       "    </tr>\n",
       "    <tr>\n",
       "      <th>2</th>\n",
       "      <td>2009</td>\n",
       "      <td>1</td>\n",
       "      <td>1</td>\n",
       "      <td>1</td>\n",
       "      <td>0</td>\n",
       "      <td>0</td>\n",
       "      <td>0</td>\n",
       "      <td>0</td>\n",
       "      <td>4</td>\n",
       "      <td>0.0</td>\n",
       "      <td>5.0</td>\n",
       "      <td>1010</td>\n",
       "      <td>78.27</td>\n",
       "      <td>118.50</td>\n",
       "      <td>0.482</td>\n",
       "      <td>347.9</td>\n",
       "      <td>3.2</td>\n",
       "      <td>0</td>\n",
       "    </tr>\n",
       "    <tr>\n",
       "      <th>3</th>\n",
       "      <td>2009</td>\n",
       "      <td>1</td>\n",
       "      <td>1</td>\n",
       "      <td>1</td>\n",
       "      <td>30</td>\n",
       "      <td>0</td>\n",
       "      <td>0</td>\n",
       "      <td>0</td>\n",
       "      <td>4</td>\n",
       "      <td>0.0</td>\n",
       "      <td>4.0</td>\n",
       "      <td>1010</td>\n",
       "      <td>78.27</td>\n",
       "      <td>124.78</td>\n",
       "      <td>0.478</td>\n",
       "      <td>347.9</td>\n",
       "      <td>3.1</td>\n",
       "      <td>0</td>\n",
       "    </tr>\n",
       "    <tr>\n",
       "      <th>4</th>\n",
       "      <td>2009</td>\n",
       "      <td>1</td>\n",
       "      <td>1</td>\n",
       "      <td>2</td>\n",
       "      <td>0</td>\n",
       "      <td>0</td>\n",
       "      <td>0</td>\n",
       "      <td>0</td>\n",
       "      <td>4</td>\n",
       "      <td>0.0</td>\n",
       "      <td>4.0</td>\n",
       "      <td>1010</td>\n",
       "      <td>76.45</td>\n",
       "      <td>131.12</td>\n",
       "      <td>0.475</td>\n",
       "      <td>350.0</td>\n",
       "      <td>3.0</td>\n",
       "      <td>0</td>\n",
       "    </tr>\n",
       "  </tbody>\n",
       "</table>\n",
       "</div>"
      ],
      "text/plain": [
       "   Year  Month  Day  Hour  Minute  Clearsky DHI  Clearsky DNI  Clearsky GHI  \\\n",
       "0  2009      1    1     0       0             0             0             0   \n",
       "1  2009      1    1     0      30             0             0             0   \n",
       "2  2009      1    1     1       0             0             0             0   \n",
       "3  2009      1    1     1      30             0             0             0   \n",
       "4  2009      1    1     2       0             0             0             0   \n",
       "\n",
       "   Cloud Type  Dew Point  Temperature  Pressure  Relative Humidity  \\\n",
       "0           0        0.0          5.0      1010              75.34   \n",
       "1           0        1.0          5.0      1010              80.81   \n",
       "2           4        0.0          5.0      1010              78.27   \n",
       "3           4        0.0          4.0      1010              78.27   \n",
       "4           4        0.0          4.0      1010              76.45   \n",
       "\n",
       "   Solar Zenith Angle  Precipitable Water  Wind Direction  Wind Speed  \\\n",
       "0              106.15               0.499           346.1         3.1   \n",
       "1              112.28               0.490           346.1         3.1   \n",
       "2              118.50               0.482           347.9         3.2   \n",
       "3              124.78               0.478           347.9         3.1   \n",
       "4              131.12               0.475           350.0         3.0   \n",
       "\n",
       "   Fill Flag  \n",
       "0          0  \n",
       "1          0  \n",
       "2          0  \n",
       "3          0  \n",
       "4          0  "
      ]
     },
     "execution_count": 2,
     "metadata": {},
     "output_type": "execute_result"
    }
   ],
   "source": [
    "train = pd.read_csv('train.csv')\n",
    "train.head()"
   ]
  },
  {
   "cell_type": "code",
   "execution_count": 3,
   "id": "53d59aa2",
   "metadata": {},
   "outputs": [
    {
     "data": {
      "text/plain": [
       "(175296, 18)"
      ]
     },
     "execution_count": 3,
     "metadata": {},
     "output_type": "execute_result"
    }
   ],
   "source": [
    "train.shape"
   ]
  },
  {
   "cell_type": "code",
   "execution_count": 4,
   "id": "3e03d115",
   "metadata": {},
   "outputs": [
    {
     "data": {
      "text/plain": [
       "Year                  0\n",
       "Month                 0\n",
       "Day                   0\n",
       "Hour                  0\n",
       "Minute                0\n",
       "Clearsky DHI          0\n",
       "Clearsky DNI          0\n",
       "Clearsky GHI          0\n",
       "Cloud Type            0\n",
       "Dew Point             0\n",
       "Temperature           0\n",
       "Pressure              0\n",
       "Relative Humidity     0\n",
       "Solar Zenith Angle    0\n",
       "Precipitable Water    0\n",
       "Wind Direction        0\n",
       "Wind Speed            0\n",
       "Fill Flag             0\n",
       "dtype: int64"
      ]
     },
     "execution_count": 4,
     "metadata": {},
     "output_type": "execute_result"
    }
   ],
   "source": [
    "train.isnull().sum()"
   ]
  },
  {
   "cell_type": "code",
   "execution_count": 5,
   "id": "e1f9af00",
   "metadata": {},
   "outputs": [
    {
     "data": {
      "text/plain": [
       "0"
      ]
     },
     "execution_count": 5,
     "metadata": {},
     "output_type": "execute_result"
    }
   ],
   "source": [
    "train.duplicated().sum()"
   ]
  },
  {
   "cell_type": "code",
   "execution_count": 6,
   "id": "c1f06844",
   "metadata": {},
   "outputs": [
    {
     "data": {
      "text/html": [
       "<div>\n",
       "<style scoped>\n",
       "    .dataframe tbody tr th:only-of-type {\n",
       "        vertical-align: middle;\n",
       "    }\n",
       "\n",
       "    .dataframe tbody tr th {\n",
       "        vertical-align: top;\n",
       "    }\n",
       "\n",
       "    .dataframe thead th {\n",
       "        text-align: right;\n",
       "    }\n",
       "</style>\n",
       "<table border=\"1\" class=\"dataframe\">\n",
       "  <thead>\n",
       "    <tr style=\"text-align: right;\">\n",
       "      <th></th>\n",
       "      <th>Year</th>\n",
       "      <th>Month</th>\n",
       "      <th>Day</th>\n",
       "      <th>Hour</th>\n",
       "      <th>Minute</th>\n",
       "      <th>Cloud Type</th>\n",
       "      <th>Dew Point</th>\n",
       "      <th>Temperature</th>\n",
       "      <th>Pressure</th>\n",
       "      <th>Relative Humidity</th>\n",
       "      <th>Solar Zenith Angle</th>\n",
       "      <th>Precipitable Water</th>\n",
       "      <th>Wind Direction</th>\n",
       "      <th>Wind Speed</th>\n",
       "      <th>Fill Flag</th>\n",
       "      <th>Clearsky DHI</th>\n",
       "      <th>Clearsky DNI</th>\n",
       "      <th>Clearsky GHI</th>\n",
       "    </tr>\n",
       "  </thead>\n",
       "  <tbody>\n",
       "    <tr>\n",
       "      <th>0</th>\n",
       "      <td>2019</td>\n",
       "      <td>1</td>\n",
       "      <td>1</td>\n",
       "      <td>0</td>\n",
       "      <td>0</td>\n",
       "      <td>7</td>\n",
       "      <td>18.4</td>\n",
       "      <td>18.8</td>\n",
       "      <td>1008</td>\n",
       "      <td>97.70</td>\n",
       "      <td>106.23</td>\n",
       "      <td>3.5</td>\n",
       "      <td>190</td>\n",
       "      <td>2.3</td>\n",
       "      <td>0</td>\n",
       "      <td>NaN</td>\n",
       "      <td>NaN</td>\n",
       "      <td>NaN</td>\n",
       "    </tr>\n",
       "    <tr>\n",
       "      <th>1</th>\n",
       "      <td>2019</td>\n",
       "      <td>1</td>\n",
       "      <td>1</td>\n",
       "      <td>0</td>\n",
       "      <td>30</td>\n",
       "      <td>3</td>\n",
       "      <td>18.4</td>\n",
       "      <td>18.6</td>\n",
       "      <td>1008</td>\n",
       "      <td>98.92</td>\n",
       "      <td>112.36</td>\n",
       "      <td>3.5</td>\n",
       "      <td>187</td>\n",
       "      <td>2.5</td>\n",
       "      <td>0</td>\n",
       "      <td>NaN</td>\n",
       "      <td>NaN</td>\n",
       "      <td>NaN</td>\n",
       "    </tr>\n",
       "    <tr>\n",
       "      <th>2</th>\n",
       "      <td>2019</td>\n",
       "      <td>1</td>\n",
       "      <td>1</td>\n",
       "      <td>1</td>\n",
       "      <td>0</td>\n",
       "      <td>3</td>\n",
       "      <td>18.2</td>\n",
       "      <td>18.5</td>\n",
       "      <td>1008</td>\n",
       "      <td>98.35</td>\n",
       "      <td>118.58</td>\n",
       "      <td>3.5</td>\n",
       "      <td>184</td>\n",
       "      <td>2.8</td>\n",
       "      <td>0</td>\n",
       "      <td>NaN</td>\n",
       "      <td>NaN</td>\n",
       "      <td>NaN</td>\n",
       "    </tr>\n",
       "    <tr>\n",
       "      <th>3</th>\n",
       "      <td>2019</td>\n",
       "      <td>1</td>\n",
       "      <td>1</td>\n",
       "      <td>1</td>\n",
       "      <td>30</td>\n",
       "      <td>3</td>\n",
       "      <td>18.2</td>\n",
       "      <td>18.3</td>\n",
       "      <td>1008</td>\n",
       "      <td>99.58</td>\n",
       "      <td>124.86</td>\n",
       "      <td>3.5</td>\n",
       "      <td>185</td>\n",
       "      <td>3.0</td>\n",
       "      <td>0</td>\n",
       "      <td>NaN</td>\n",
       "      <td>NaN</td>\n",
       "      <td>NaN</td>\n",
       "    </tr>\n",
       "    <tr>\n",
       "      <th>4</th>\n",
       "      <td>2019</td>\n",
       "      <td>1</td>\n",
       "      <td>1</td>\n",
       "      <td>2</td>\n",
       "      <td>0</td>\n",
       "      <td>0</td>\n",
       "      <td>18.0</td>\n",
       "      <td>18.0</td>\n",
       "      <td>1008</td>\n",
       "      <td>99.71</td>\n",
       "      <td>131.20</td>\n",
       "      <td>3.6</td>\n",
       "      <td>186</td>\n",
       "      <td>3.1</td>\n",
       "      <td>0</td>\n",
       "      <td>NaN</td>\n",
       "      <td>NaN</td>\n",
       "      <td>NaN</td>\n",
       "    </tr>\n",
       "  </tbody>\n",
       "</table>\n",
       "</div>"
      ],
      "text/plain": [
       "   Year  Month  Day  Hour  Minute  Cloud Type  Dew Point  Temperature  \\\n",
       "0  2019      1    1     0       0           7       18.4         18.8   \n",
       "1  2019      1    1     0      30           3       18.4         18.6   \n",
       "2  2019      1    1     1       0           3       18.2         18.5   \n",
       "3  2019      1    1     1      30           3       18.2         18.3   \n",
       "4  2019      1    1     2       0           0       18.0         18.0   \n",
       "\n",
       "   Pressure  Relative Humidity  Solar Zenith Angle  Precipitable Water  \\\n",
       "0      1008              97.70              106.23                 3.5   \n",
       "1      1008              98.92              112.36                 3.5   \n",
       "2      1008              98.35              118.58                 3.5   \n",
       "3      1008              99.58              124.86                 3.5   \n",
       "4      1008              99.71              131.20                 3.6   \n",
       "\n",
       "   Wind Direction  Wind Speed  Fill Flag  Clearsky DHI  Clearsky DNI  \\\n",
       "0             190         2.3          0           NaN           NaN   \n",
       "1             187         2.5          0           NaN           NaN   \n",
       "2             184         2.8          0           NaN           NaN   \n",
       "3             185         3.0          0           NaN           NaN   \n",
       "4             186         3.1          0           NaN           NaN   \n",
       "\n",
       "   Clearsky GHI  \n",
       "0           NaN  \n",
       "1           NaN  \n",
       "2           NaN  \n",
       "3           NaN  \n",
       "4           NaN  "
      ]
     },
     "execution_count": 6,
     "metadata": {},
     "output_type": "execute_result"
    }
   ],
   "source": [
    "test = pd.read_csv('test.csv')\n",
    "test.head()"
   ]
  },
  {
   "cell_type": "code",
   "execution_count": 7,
   "id": "dc8fcaa4",
   "metadata": {},
   "outputs": [
    {
     "data": {
      "text/plain": [
       "(17520, 18)"
      ]
     },
     "execution_count": 7,
     "metadata": {},
     "output_type": "execute_result"
    }
   ],
   "source": [
    "test.shape"
   ]
  },
  {
   "cell_type": "code",
   "execution_count": 8,
   "id": "fe8d358a",
   "metadata": {},
   "outputs": [
    {
     "data": {
      "text/plain": [
       "Year                      0\n",
       "Month                     0\n",
       "Day                       0\n",
       "Hour                      0\n",
       "Minute                    0\n",
       "Cloud Type                0\n",
       "Dew Point                 0\n",
       "Temperature               0\n",
       "Pressure                  0\n",
       "Relative Humidity         0\n",
       "Solar Zenith Angle        0\n",
       "Precipitable Water        0\n",
       "Wind Direction            0\n",
       "Wind Speed                0\n",
       "Fill Flag                 0\n",
       "Clearsky DHI          17520\n",
       "Clearsky DNI          17520\n",
       "Clearsky GHI          17520\n",
       "dtype: int64"
      ]
     },
     "execution_count": 8,
     "metadata": {},
     "output_type": "execute_result"
    }
   ],
   "source": [
    "test.isnull().sum()"
   ]
  },
  {
   "cell_type": "code",
   "execution_count": 9,
   "id": "9824f7cc",
   "metadata": {},
   "outputs": [
    {
     "name": "stdout",
     "output_type": "stream",
     "text": [
      "<class 'pandas.core.frame.DataFrame'>\n",
      "RangeIndex: 175296 entries, 0 to 175295\n",
      "Data columns (total 18 columns):\n",
      " #   Column              Non-Null Count   Dtype  \n",
      "---  ------              --------------   -----  \n",
      " 0   Year                175296 non-null  int64  \n",
      " 1   Month               175296 non-null  int64  \n",
      " 2   Day                 175296 non-null  int64  \n",
      " 3   Hour                175296 non-null  int64  \n",
      " 4   Minute              175296 non-null  int64  \n",
      " 5   Clearsky DHI        175296 non-null  int64  \n",
      " 6   Clearsky DNI        175296 non-null  int64  \n",
      " 7   Clearsky GHI        175296 non-null  int64  \n",
      " 8   Cloud Type          175296 non-null  int64  \n",
      " 9   Dew Point           175296 non-null  float64\n",
      " 10  Temperature         175296 non-null  float64\n",
      " 11  Pressure            175296 non-null  int64  \n",
      " 12  Relative Humidity   175296 non-null  float64\n",
      " 13  Solar Zenith Angle  175296 non-null  float64\n",
      " 14  Precipitable Water  175296 non-null  float64\n",
      " 15  Wind Direction      175296 non-null  float64\n",
      " 16  Wind Speed          175296 non-null  float64\n",
      " 17  Fill Flag           175296 non-null  int64  \n",
      "dtypes: float64(7), int64(11)\n",
      "memory usage: 24.1 MB\n"
     ]
    }
   ],
   "source": [
    "train.info()"
   ]
  },
  {
   "cell_type": "code",
   "execution_count": 10,
   "id": "dbaf9cdb",
   "metadata": {},
   "outputs": [
    {
     "data": {
      "text/html": [
       "<div>\n",
       "<style scoped>\n",
       "    .dataframe tbody tr th:only-of-type {\n",
       "        vertical-align: middle;\n",
       "    }\n",
       "\n",
       "    .dataframe tbody tr th {\n",
       "        vertical-align: top;\n",
       "    }\n",
       "\n",
       "    .dataframe thead th {\n",
       "        text-align: right;\n",
       "    }\n",
       "</style>\n",
       "<table border=\"1\" class=\"dataframe\">\n",
       "  <thead>\n",
       "    <tr style=\"text-align: right;\">\n",
       "      <th></th>\n",
       "      <th>Year</th>\n",
       "      <th>Month</th>\n",
       "      <th>Day</th>\n",
       "      <th>Hour</th>\n",
       "      <th>Minute</th>\n",
       "      <th>Clearsky DHI</th>\n",
       "      <th>Clearsky DNI</th>\n",
       "      <th>Clearsky GHI</th>\n",
       "      <th>Cloud Type</th>\n",
       "      <th>Dew Point</th>\n",
       "      <th>Temperature</th>\n",
       "      <th>Pressure</th>\n",
       "      <th>Relative Humidity</th>\n",
       "      <th>Solar Zenith Angle</th>\n",
       "      <th>Precipitable Water</th>\n",
       "      <th>Wind Direction</th>\n",
       "      <th>Wind Speed</th>\n",
       "      <th>Fill Flag</th>\n",
       "    </tr>\n",
       "  </thead>\n",
       "  <tbody>\n",
       "    <tr>\n",
       "      <th>18</th>\n",
       "      <td>2009</td>\n",
       "      <td>1</td>\n",
       "      <td>1</td>\n",
       "      <td>9</td>\n",
       "      <td>0</td>\n",
       "      <td>0</td>\n",
       "      <td>0</td>\n",
       "      <td>0</td>\n",
       "      <td>0</td>\n",
       "      <td>-1.0</td>\n",
       "      <td>0.0</td>\n",
       "      <td>1010</td>\n",
       "      <td>88.32</td>\n",
       "      <td>134.92</td>\n",
       "      <td>0.541</td>\n",
       "      <td>49.8</td>\n",
       "      <td>2.2</td>\n",
       "      <td>0</td>\n",
       "    </tr>\n",
       "    <tr>\n",
       "      <th>19</th>\n",
       "      <td>2009</td>\n",
       "      <td>1</td>\n",
       "      <td>1</td>\n",
       "      <td>9</td>\n",
       "      <td>30</td>\n",
       "      <td>0</td>\n",
       "      <td>0</td>\n",
       "      <td>0</td>\n",
       "      <td>0</td>\n",
       "      <td>-1.0</td>\n",
       "      <td>0.0</td>\n",
       "      <td>1010</td>\n",
       "      <td>88.33</td>\n",
       "      <td>128.56</td>\n",
       "      <td>0.544</td>\n",
       "      <td>49.8</td>\n",
       "      <td>2.2</td>\n",
       "      <td>0</td>\n",
       "    </tr>\n",
       "    <tr>\n",
       "      <th>66</th>\n",
       "      <td>2009</td>\n",
       "      <td>1</td>\n",
       "      <td>2</td>\n",
       "      <td>9</td>\n",
       "      <td>0</td>\n",
       "      <td>0</td>\n",
       "      <td>0</td>\n",
       "      <td>0</td>\n",
       "      <td>4</td>\n",
       "      <td>4.0</td>\n",
       "      <td>5.0</td>\n",
       "      <td>1000</td>\n",
       "      <td>100.00</td>\n",
       "      <td>134.99</td>\n",
       "      <td>2.134</td>\n",
       "      <td>158.2</td>\n",
       "      <td>1.6</td>\n",
       "      <td>0</td>\n",
       "    </tr>\n",
       "    <tr>\n",
       "      <th>67</th>\n",
       "      <td>2009</td>\n",
       "      <td>1</td>\n",
       "      <td>2</td>\n",
       "      <td>9</td>\n",
       "      <td>30</td>\n",
       "      <td>0</td>\n",
       "      <td>0</td>\n",
       "      <td>0</td>\n",
       "      <td>3</td>\n",
       "      <td>4.0</td>\n",
       "      <td>5.0</td>\n",
       "      <td>1000</td>\n",
       "      <td>100.00</td>\n",
       "      <td>128.63</td>\n",
       "      <td>2.176</td>\n",
       "      <td>158.2</td>\n",
       "      <td>1.4</td>\n",
       "      <td>0</td>\n",
       "    </tr>\n",
       "    <tr>\n",
       "      <th>114</th>\n",
       "      <td>2009</td>\n",
       "      <td>1</td>\n",
       "      <td>3</td>\n",
       "      <td>9</td>\n",
       "      <td>0</td>\n",
       "      <td>0</td>\n",
       "      <td>0</td>\n",
       "      <td>0</td>\n",
       "      <td>1</td>\n",
       "      <td>11.0</td>\n",
       "      <td>12.0</td>\n",
       "      <td>1000</td>\n",
       "      <td>100.00</td>\n",
       "      <td>135.05</td>\n",
       "      <td>2.646</td>\n",
       "      <td>222.3</td>\n",
       "      <td>1.6</td>\n",
       "      <td>0</td>\n",
       "    </tr>\n",
       "  </tbody>\n",
       "</table>\n",
       "</div>"
      ],
      "text/plain": [
       "     Year  Month  Day  Hour  Minute  Clearsky DHI  Clearsky DNI  Clearsky GHI  \\\n",
       "18   2009      1    1     9       0             0             0             0   \n",
       "19   2009      1    1     9      30             0             0             0   \n",
       "66   2009      1    2     9       0             0             0             0   \n",
       "67   2009      1    2     9      30             0             0             0   \n",
       "114  2009      1    3     9       0             0             0             0   \n",
       "\n",
       "     Cloud Type  Dew Point  Temperature  Pressure  Relative Humidity  \\\n",
       "18            0       -1.0          0.0      1010              88.32   \n",
       "19            0       -1.0          0.0      1010              88.33   \n",
       "66            4        4.0          5.0      1000             100.00   \n",
       "67            3        4.0          5.0      1000             100.00   \n",
       "114           1       11.0         12.0      1000             100.00   \n",
       "\n",
       "     Solar Zenith Angle  Precipitable Water  Wind Direction  Wind Speed  \\\n",
       "18               134.92               0.541            49.8         2.2   \n",
       "19               128.56               0.544            49.8         2.2   \n",
       "66               134.99               2.134           158.2         1.6   \n",
       "67               128.63               2.176           158.2         1.4   \n",
       "114              135.05               2.646           222.3         1.6   \n",
       "\n",
       "     Fill Flag  \n",
       "18           0  \n",
       "19           0  \n",
       "66           0  \n",
       "67           0  \n",
       "114          0  "
      ]
     },
     "execution_count": 10,
     "metadata": {},
     "output_type": "execute_result"
    }
   ],
   "source": [
    "train[train['Hour'] == 9].head(5)"
   ]
  },
  {
   "cell_type": "code",
   "execution_count": 11,
   "id": "eab8e0d0",
   "metadata": {},
   "outputs": [
    {
     "data": {
      "text/plain": [
       "Text(0, 0.5, 'Clearsky DNI')"
      ]
     },
     "execution_count": 11,
     "metadata": {},
     "output_type": "execute_result"
    },
    {
     "data": {
      "image/png": "[encoded data removed]",
      "text/plain": [
       "<Figure size 1440x360 with 2 Axes>"
      ]
     },
     "metadata": {
      "needs_background": "light"
     },
     "output_type": "display_data"
    }
   ],
   "source": [
    "fig = plt.figure(figsize= (20, 5))\n",
    "ax1 = fig.add_subplot(121)\n",
    "ax2 = fig.add_subplot(122)\n",
    "ax1.scatter(train['Hour'], train['Clearsky GHI'])\n",
    "ax1.set_xlabel('Hour')\n",
    "ax1.set_ylabel('Clearsky GHI')\n",
    "ax2.scatter(train['Hour'], train['Clearsky DNI'])\n",
    "ax2.set_xlabel('Hour')\n",
    "ax2.set_ylabel('Clearsky DNI')"
   ]
  },
  {
   "cell_type": "code",
   "execution_count": 12,
   "id": "6925e061",
   "metadata": {},
   "outputs": [
    {
     "data": {
      "text/plain": [
       "Text(0, 0.5, 'Clearsky DHI')"
      ]
     },
     "execution_count": 12,
     "metadata": {},
     "output_type": "execute_result"
    },
    {
     "data": {
      "image/png": "[encoded data removed]",
      "text/plain": [
       "<Figure size 576x360 with 1 Axes>"
      ]
     },
     "metadata": {
      "needs_background": "light"
     },
     "output_type": "display_data"
    }
   ],
   "source": [
    "plt.figure(figsize= (8, 5))\n",
    "plt.scatter(train['Hour'], train['Clearsky DHI'])\n",
    "plt.xlabel('Hour')\n",
    "plt.ylabel('Clearsky DHI')"
   ]
  },
  {
   "cell_type": "raw",
   "id": "6f005934",
   "metadata": {},
   "source": [
    "From above Analysis, we infer that from 1am to 9am the values for Clearsky DHI, Clearsky GHI, Clearsky DNI will be Zero"
   ]
  },
  {
   "cell_type": "code",
   "execution_count": 13,
   "id": "bded3843",
   "metadata": {},
   "outputs": [
    {
     "data": {
      "text/plain": [
       "(192816, 18)"
      ]
     },
     "execution_count": 13,
     "metadata": {},
     "output_type": "execute_result"
    }
   ],
   "source": [
    "combined = pd.concat([train, test], axis = 0)\n",
    "combined.shape"
   ]
  },
  {
   "cell_type": "code",
   "execution_count": 14,
   "id": "ed9c6f16",
   "metadata": {},
   "outputs": [],
   "source": [
    "combined['pro_unit'] = combined['Temperature'] / combined['Relative Humidity']\n",
    "combined['volume'] = combined['Temperature'] / combined['Pressure']"
   ]
  },
  {
   "cell_type": "code",
   "execution_count": 15,
   "id": "aaced68a",
   "metadata": {},
   "outputs": [
    {
     "name": "stdout",
     "output_type": "stream",
     "text": [
      "(175296, 20)\n",
      "(17520, 20)\n"
     ]
    }
   ],
   "source": [
    "newtrain = combined.iloc[0:175296, :]\n",
    "newtest = combined.iloc[175296: , :]\n",
    "print(newtrain.shape)\n",
    "print(newtest.shape)"
   ]
  },
  {
   "cell_type": "code",
   "execution_count": 16,
   "id": "196fed7a",
   "metadata": {},
   "outputs": [
    {
     "data": {
      "text/plain": [
       "{'whiskers': [<matplotlib.lines.Line2D at 0x22309a25d00>,\n",
       "  <matplotlib.lines.Line2D at 0x22309a300a0>],\n",
       " 'caps': [<matplotlib.lines.Line2D at 0x22309a30400>,\n",
       "  <matplotlib.lines.Line2D at 0x22309a30760>],\n",
       " 'boxes': [<matplotlib.lines.Line2D at 0x22309a259a0>],\n",
       " 'medians': [<matplotlib.lines.Line2D at 0x22309a30ac0>],\n",
       " 'fliers': [<matplotlib.lines.Line2D at 0x22309a30e20>],\n",
       " 'means': []}"
      ]
     },
     "execution_count": 16,
     "metadata": {},
     "output_type": "execute_result"
    },
    {
     "data": {
      "image/png": "[encoded data removed]",
      "text/plain": [
       "<Figure size 1440x360 with 2 Axes>"
      ]
     },
     "metadata": {
      "needs_background": "light"
     },
     "output_type": "display_data"
    }
   ],
   "source": [
    "fig = plt.figure(figsize= (20, 5))\n",
    "ax1 = fig.add_subplot(121)\n",
    "ax2 = fig.add_subplot(122)\n",
    "ax1.boxplot(newtrain['pro_unit'])\n",
    "ax2.boxplot(newtest['pro_unit'])"
   ]
  },
  {
   "cell_type": "code",
   "execution_count": 17,
   "id": "2acbd7c2",
   "metadata": {},
   "outputs": [
    {
     "data": {
      "text/plain": [
       "{'whiskers': [<matplotlib.lines.Line2D at 0x22309ad89a0>,\n",
       "  <matplotlib.lines.Line2D at 0x22309ad8d00>],\n",
       " 'caps': [<matplotlib.lines.Line2D at 0x22309ae30a0>,\n",
       "  <matplotlib.lines.Line2D at 0x22309ae3400>],\n",
       " 'boxes': [<matplotlib.lines.Line2D at 0x22309ad8640>],\n",
       " 'medians': [<matplotlib.lines.Line2D at 0x22309ae3760>],\n",
       " 'fliers': [<matplotlib.lines.Line2D at 0x22309ae3ac0>],\n",
       " 'means': []}"
      ]
     },
     "execution_count": 17,
     "metadata": {},
     "output_type": "execute_result"
    },
    {
     "data": {
      "image/png": "[encoded data removed]",
      "text/plain": [
       "<Figure size 1440x360 with 2 Axes>"
      ]
     },
     "metadata": {
      "needs_background": "light"
     },
     "output_type": "display_data"
    }
   ],
   "source": [
    "fig = plt.figure(figsize= (20, 5))\n",
    "ax1 = fig.add_subplot(121)\n",
    "ax2 = fig.add_subplot(122)\n",
    "ax1.boxplot(newtrain['volume'])\n",
    "ax2.boxplot(newtest['volume'])"
   ]
  },
  {
   "cell_type": "code",
   "execution_count": 18,
   "id": "d50d0131",
   "metadata": {},
   "outputs": [
    {
     "data": {
      "text/plain": [
       "(17520, 17)"
      ]
     },
     "execution_count": 18,
     "metadata": {},
     "output_type": "execute_result"
    }
   ],
   "source": [
    "newtest = newtest.drop(['Clearsky DHI', 'Clearsky DNI', 'Clearsky GHI'], axis = 1)\n",
    "newtest.shape"
   ]
  },
  {
   "cell_type": "code",
   "execution_count": 19,
   "id": "999ab585",
   "metadata": {},
   "outputs": [
    {
     "data": {
      "text/plain": [
       "(175296, 20)"
      ]
     },
     "execution_count": 19,
     "metadata": {},
     "output_type": "execute_result"
    }
   ],
   "source": [
    "newtrain.shape"
   ]
  },
  {
   "cell_type": "code",
   "execution_count": 22,
   "id": "1ea3f2ce",
   "metadata": {},
   "outputs": [],
   "source": [
    "x = newtrain.drop(['Clearsky DHI', 'Clearsky DNI', 'Clearsky GHI'],axis=1)\n",
    "y = newtrain['Clearsky DHI']"
   ]
  },
  {
   "cell_type": "code",
   "execution_count": 23,
   "id": "e95daf2f",
   "metadata": {},
   "outputs": [],
   "source": [
    "from sklearn.model_selection import train_test_split\n",
    "x_train, x_test, y_train, y_test = train_test_split(x, y, test_size = 0.3, random_state=101)"
   ]
  },
  {
   "cell_type": "code",
   "execution_count": 24,
   "id": "2cdf4f75",
   "metadata": {},
   "outputs": [],
   "source": [
    "from sklearn.preprocessing import MinMaxScaler\n",
    "scaler = MinMaxScaler()"
   ]
  },
  {
   "cell_type": "code",
   "execution_count": 25,
   "id": "159fcb70",
   "metadata": {},
   "outputs": [],
   "source": [
    "x_train= scaler.fit_transform(x_train)\n",
    "x_test = scaler.transform(x_test)"
   ]
  },
  {
   "cell_type": "code",
   "execution_count": 26,
   "id": "942f1ca6",
   "metadata": {},
   "outputs": [],
   "source": [
    "from tensorflow.keras.models import Sequential\n",
    "from tensorflow.keras.layers import Dense, Activation\n",
    "from tensorflow.keras.optimizers import Adam"
   ]
  },
  {
   "cell_type": "code",
   "execution_count": 32,
   "id": "01760c7c",
   "metadata": {},
   "outputs": [],
   "source": [
    "model = Sequential()\n",
    "model.add(Dense(19, activation = 'relu'))\n",
    "model.add(Dense(6, activation = 'relu'))\n",
    "model.add(Dense(1))"
   ]
  },
  {
   "cell_type": "code",
   "execution_count": 33,
   "id": "4e0d4fa9",
   "metadata": {},
   "outputs": [],
   "source": [
    "model.compile(optimizer = 'adam', loss = 'mse')"
   ]
  },
  {
   "cell_type": "code",
   "execution_count": 34,
   "id": "b6b4291a",
   "metadata": {},
   "outputs": [
    {
     "name": "stdout",
     "output_type": "stream",
     "text": [
      "Epoch 1/15\n",
      "3835/3835 [==============================] - 7s 2ms/step - loss: 1496.4172 - val_loss: 539.2921\n",
      "Epoch 2/15\n",
      "3835/3835 [==============================] - 7s 2ms/step - loss: 479.1811 - val_loss: 432.3646\n",
      "Epoch 3/15\n",
      "3835/3835 [==============================] - 7s 2ms/step - loss: 424.6712 - val_loss: 397.6006\n",
      "Epoch 4/15\n",
      "3835/3835 [==============================] - 7s 2ms/step - loss: 376.3507 - val_loss: 346.2864\n",
      "Epoch 5/15\n",
      "3835/3835 [==============================] - 7s 2ms/step - loss: 337.3230 - val_loss: 318.7604\n",
      "Epoch 6/15\n",
      "3835/3835 [==============================] - 7s 2ms/step - loss: 317.5364 - val_loss: 306.7423\n",
      "Epoch 7/15\n",
      "3835/3835 [==============================] - 7s 2ms/step - loss: 306.7545 - val_loss: 301.1446\n",
      "Epoch 8/15\n",
      "3835/3835 [==============================] - 7s 2ms/step - loss: 300.7744 - val_loss: 296.5498\n",
      "Epoch 9/15\n",
      "3835/3835 [==============================] - 7s 2ms/step - loss: 296.7953 - val_loss: 295.3138\n",
      "Epoch 10/15\n",
      "3835/3835 [==============================] - 7s 2ms/step - loss: 294.5727 - val_loss: 295.5324\n",
      "Epoch 11/15\n",
      "3835/3835 [==============================] - 7s 2ms/step - loss: 292.3647 - val_loss: 291.7990\n",
      "Epoch 12/15\n",
      "3835/3835 [==============================] - 7s 2ms/step - loss: 290.7150 - val_loss: 290.0912\n",
      "Epoch 13/15\n",
      "3835/3835 [==============================] - 7s 2ms/step - loss: 289.5612 - val_loss: 286.4857\n",
      "Epoch 14/15\n",
      "3835/3835 [==============================] - 7s 2ms/step - loss: 288.4113 - val_loss: 284.5804\n",
      "Epoch 15/15\n",
      "3835/3835 [==============================] - 7s 2ms/step - loss: 286.9634 - val_loss: 288.2684\n"
     ]
    },
    {
     "data": {
      "text/plain": [
       "<tensorflow.python.keras.callbacks.History at 0x223268e8430>"
      ]
     },
     "execution_count": 34,
     "metadata": {},
     "output_type": "execute_result"
    }
   ],
   "source": [
    "model.fit(x_train, y_train.values, validation_data = (x_test, y_test.values), epochs = 15)"
   ]
  },
  {
   "cell_type": "code",
   "execution_count": 35,
   "id": "09949bd2",
   "metadata": {},
   "outputs": [
    {
     "data": {
      "text/plain": [
       "<AxesSubplot:>"
      ]
     },
     "execution_count": 35,
     "metadata": {},
     "output_type": "execute_result"
    },
    {
     "data": {
      "image/png": "[encoded data removed]",
      "text/plain": [
       "<Figure size 432x288 with 1 Axes>"
      ]
     },
     "metadata": {
      "needs_background": "light"
     },
     "output_type": "display_data"
    }
   ],
   "source": [
    "losses = pd.DataFrame(model.history.history)\n",
    "losses.plot()"
   ]
  },
  {
   "cell_type": "code",
   "execution_count": 36,
   "id": "8da4a8a5",
   "metadata": {},
   "outputs": [],
   "source": [
    "from sklearn.metrics import mean_squared_error"
   ]
  },
  {
   "cell_type": "code",
   "execution_count": 37,
   "id": "72cc9436",
   "metadata": {},
   "outputs": [],
   "source": [
    "predictions = model.predict(x_test)"
   ]
  },
  {
   "cell_type": "code",
   "execution_count": 39,
   "id": "c8f16555",
   "metadata": {},
   "outputs": [
    {
     "data": {
      "text/plain": [
       "288.26837768897155"
      ]
     },
     "execution_count": 39,
     "metadata": {},
     "output_type": "execute_result"
    }
   ],
   "source": [
    "mean_squared_error(y_test,predictions)"
   ]
  },
  {
   "cell_type": "code",
   "execution_count": 40,
   "id": "ebb196fd",
   "metadata": {},
   "outputs": [],
   "source": [
    "x = newtrain.drop(['Clearsky DHI', 'Clearsky DNI', 'Clearsky GHI'],axis=1)\n",
    "y = newtrain['Clearsky DNI']"
   ]
  },
  {
   "cell_type": "code",
   "execution_count": 41,
   "id": "8fe8f317",
   "metadata": {},
   "outputs": [],
   "source": [
    "from sklearn.model_selection import train_test_split\n",
    "x_train, x_test, y_train, y_test = train_test_split(x, y, test_size = 0.3, random_state=101)"
   ]
  },
  {
   "cell_type": "code",
   "execution_count": 42,
   "id": "2527ceb7",
   "metadata": {},
   "outputs": [],
   "source": [
    "from sklearn.preprocessing import MinMaxScaler\n",
    "scaler = MinMaxScaler()"
   ]
  },
  {
   "cell_type": "code",
   "execution_count": 43,
   "id": "189e7b94",
   "metadata": {},
   "outputs": [],
   "source": [
    "x_train= scaler.fit_transform(x_train)\n",
    "x_test = scaler.transform(x_test)"
   ]
  },
  {
   "cell_type": "code",
   "execution_count": 49,
   "id": "caa1c80e",
   "metadata": {},
   "outputs": [],
   "source": [
    "from tensorflow.keras.models import Sequential\n",
    "from tensorflow.keras.layers import Dense, Activation\n",
    "from tensorflow.keras.optimizers import Adam"
   ]
  },
  {
   "cell_type": "code",
   "execution_count": 50,
   "id": "f60bc516",
   "metadata": {},
   "outputs": [],
   "source": [
    "model = Sequential()\n",
    "model.add(Dense(19, activation = 'relu'))\n",
    "model.add(Dense(6, activation = 'relu'))\n",
    "model.add(Dense(1))"
   ]
  },
  {
   "cell_type": "code",
   "execution_count": 51,
   "id": "6812c832",
   "metadata": {},
   "outputs": [],
   "source": [
    "model.compile(optimizer = 'adam', loss = 'mse')"
   ]
  },
  {
   "cell_type": "code",
   "execution_count": 52,
   "id": "5af50c34",
   "metadata": {},
   "outputs": [
    {
     "name": "stdout",
     "output_type": "stream",
     "text": [
      "Epoch 1/25\n",
      "3835/3835 [==============================] - 8s 2ms/step - loss: 72257.4219 - val_loss: 22368.3867\n",
      "Epoch 2/25\n",
      "3835/3835 [==============================] - 7s 2ms/step - loss: 18432.8027 - val_loss: 14972.4395\n",
      "Epoch 3/25\n",
      "3835/3835 [==============================] - 7s 2ms/step - loss: 13777.7764 - val_loss: 12499.1445\n",
      "Epoch 4/25\n",
      "3835/3835 [==============================] - 7s 2ms/step - loss: 12350.0020 - val_loss: 11920.0840\n",
      "Epoch 5/25\n",
      "3835/3835 [==============================] - 7s 2ms/step - loss: 11926.9062 - val_loss: 11709.8496\n",
      "Epoch 6/25\n",
      "3835/3835 [==============================] - 7s 2ms/step - loss: 11670.2070 - val_loss: 11528.5400\n",
      "Epoch 7/25\n",
      "3835/3835 [==============================] - 7s 2ms/step - loss: 11452.2637 - val_loss: 11477.9131\n",
      "Epoch 8/25\n",
      "3835/3835 [==============================] - 7s 2ms/step - loss: 11265.7812 - val_loss: 11064.3789\n",
      "Epoch 9/25\n",
      "3835/3835 [==============================] - 7s 2ms/step - loss: 11103.1035 - val_loss: 10998.2764\n",
      "Epoch 10/25\n",
      "3835/3835 [==============================] - 7s 2ms/step - loss: 10974.8535 - val_loss: 10772.5605\n",
      "Epoch 11/25\n",
      "3835/3835 [==============================] - 7s 2ms/step - loss: 10856.5791 - val_loss: 10699.5381\n",
      "Epoch 12/25\n",
      "3835/3835 [==============================] - 7s 2ms/step - loss: 10748.9736 - val_loss: 10569.6445\n",
      "Epoch 13/25\n",
      "3835/3835 [==============================] - 7s 2ms/step - loss: 10626.7510 - val_loss: 10580.9502\n",
      "Epoch 14/25\n",
      "3835/3835 [==============================] - 7s 2ms/step - loss: 10476.2900 - val_loss: 10303.8896\n",
      "Epoch 15/25\n",
      "3835/3835 [==============================] - 7s 2ms/step - loss: 10244.6465 - val_loss: 9965.9922\n",
      "Epoch 16/25\n",
      "3835/3835 [==============================] - 7s 2ms/step - loss: 9823.3164 - val_loss: 9588.2441\n",
      "Epoch 17/25\n",
      "3835/3835 [==============================] - 7s 2ms/step - loss: 9322.8828 - val_loss: 8987.6758\n",
      "Epoch 18/25\n",
      "3835/3835 [==============================] - 7s 2ms/step - loss: 8777.4209 - val_loss: 8390.5488\n",
      "Epoch 19/25\n",
      "3835/3835 [==============================] - 7s 2ms/step - loss: 7908.3818 - val_loss: 7445.3755\n",
      "Epoch 20/25\n",
      "3835/3835 [==============================] - 7s 2ms/step - loss: 6946.1538 - val_loss: 6498.5552\n",
      "Epoch 21/25\n",
      "3835/3835 [==============================] - 7s 2ms/step - loss: 5916.3281 - val_loss: 5358.8154\n",
      "Epoch 22/25\n",
      "3835/3835 [==============================] - 7s 2ms/step - loss: 5002.2749 - val_loss: 4587.7480\n",
      "Epoch 23/25\n",
      "3835/3835 [==============================] - 7s 2ms/step - loss: 4288.2119 - val_loss: 3940.4277\n",
      "Epoch 24/25\n",
      "3835/3835 [==============================] - 7s 2ms/step - loss: 3779.8093 - val_loss: 3565.7178\n",
      "Epoch 25/25\n",
      "3835/3835 [==============================] - 7s 2ms/step - loss: 3418.3462 - val_loss: 3284.2983\n"
     ]
    },
    {
     "data": {
      "text/plain": [
       "<tensorflow.python.keras.callbacks.History at 0x2232a147130>"
      ]
     },
     "execution_count": 52,
     "metadata": {},
     "output_type": "execute_result"
    }
   ],
   "source": [
    "model.fit(x_train, y_train.values, validation_data = (x_test, y_test.values), epochs = 25)"
   ]
  },
  {
   "cell_type": "code",
   "execution_count": 53,
   "id": "63a50320",
   "metadata": {},
   "outputs": [
    {
     "data": {
      "text/plain": [
       "<AxesSubplot:>"
      ]
     },
     "execution_count": 53,
     "metadata": {},
     "output_type": "execute_result"
    },
    {
     "data": {
      "image/png": "[encoded data removed]",
      "text/plain": [
       "<Figure size 432x288 with 1 Axes>"
      ]
     },
     "metadata": {
      "needs_background": "light"
     },
     "output_type": "display_data"
    }
   ],
   "source": [
    "losses = pd.DataFrame(model.history.history)\n",
    "losses.plot()"
   ]
  },
  {
   "cell_type": "code",
   "execution_count": 54,
   "id": "37f28d55",
   "metadata": {},
   "outputs": [],
   "source": [
    "from sklearn.metrics import mean_squared_error"
   ]
  },
  {
   "cell_type": "code",
   "execution_count": 55,
   "id": "2cca33a3",
   "metadata": {},
   "outputs": [],
   "source": [
    "predictions = model.predict(x_test)"
   ]
  },
  {
   "cell_type": "code",
   "execution_count": 56,
   "id": "52659038",
   "metadata": {},
   "outputs": [
    {
     "data": {
      "text/plain": [
       "3284.297547954951"
      ]
     },
     "execution_count": 56,
     "metadata": {},
     "output_type": "execute_result"
    }
   ],
   "source": [
    "mean_squared_error(y_test,predictions)"
   ]
  },
  {
   "cell_type": "code",
   "execution_count": null,
   "id": "1f36b2fa",
   "metadata": {},
   "outputs": [],
   "source": []
  },
  {
   "cell_type": "code",
   "execution_count": 57,
   "id": "f28581de",
   "metadata": {},
   "outputs": [],
   "source": [
    "x = newtrain.drop(['Clearsky DHI', 'Clearsky DNI', 'Clearsky GHI'],axis=1)\n",
    "y = newtrain['Clearsky GHI']"
   ]
  },
  {
   "cell_type": "code",
   "execution_count": 58,
   "id": "5529eada",
   "metadata": {},
   "outputs": [],
   "source": [
    "from sklearn.model_selection import train_test_split\n",
    "x_train, x_test, y_train, y_test = train_test_split(x, y, test_size = 0.3, random_state=101)"
   ]
  },
  {
   "cell_type": "code",
   "execution_count": 59,
   "id": "017ba74f",
   "metadata": {},
   "outputs": [],
   "source": [
    "from sklearn.preprocessing import MinMaxScaler\n",
    "scaler = MinMaxScaler()"
   ]
  },
  {
   "cell_type": "code",
   "execution_count": 60,
   "id": "b0c4b400",
   "metadata": {},
   "outputs": [],
   "source": [
    "x_train= scaler.fit_transform(x_train)\n",
    "x_test = scaler.transform(x_test)"
   ]
  },
  {
   "cell_type": "code",
   "execution_count": 61,
   "id": "1447bbde",
   "metadata": {},
   "outputs": [],
   "source": [
    "from tensorflow.keras.models import Sequential\n",
    "from tensorflow.keras.layers import Dense, Activation\n",
    "from tensorflow.keras.optimizers import Adam"
   ]
  },
  {
   "cell_type": "code",
   "execution_count": 62,
   "id": "6f14a0e3",
   "metadata": {},
   "outputs": [],
   "source": [
    "model = Sequential()\n",
    "model.add(Dense(19, activation = 'relu'))\n",
    "model.add(Dense(6, activation = 'relu'))\n",
    "model.add(Dense(1))"
   ]
  },
  {
   "cell_type": "code",
   "execution_count": 63,
   "id": "67e228c6",
   "metadata": {},
   "outputs": [],
   "source": [
    "model.compile(optimizer = 'adam', loss = 'mse')"
   ]
  },
  {
   "cell_type": "code",
   "execution_count": 64,
   "id": "4d032aa3",
   "metadata": {},
   "outputs": [
    {
     "name": "stdout",
     "output_type": "stream",
     "text": [
      "Epoch 1/15\n",
      "3835/3835 [==============================] - 8s 2ms/step - loss: 45919.4922 - val_loss: 11743.9561\n",
      "Epoch 2/15\n",
      "3835/3835 [==============================] - 8s 2ms/step - loss: 6652.7207 - val_loss: 3049.7039\n",
      "Epoch 3/15\n",
      "3835/3835 [==============================] - 7s 2ms/step - loss: 2225.8884 - val_loss: 1726.6609\n",
      "Epoch 4/15\n",
      "3835/3835 [==============================] - 8s 2ms/step - loss: 1505.8285 - val_loss: 1292.6041\n",
      "Epoch 5/15\n",
      "3835/3835 [==============================] - 7s 2ms/step - loss: 1181.3225 - val_loss: 1076.7692\n",
      "Epoch 6/15\n",
      "3835/3835 [==============================] - 8s 2ms/step - loss: 1032.7877 - val_loss: 1072.9266\n",
      "Epoch 7/15\n",
      "3835/3835 [==============================] - 7s 2ms/step - loss: 980.3528 - val_loss: 983.6737\n",
      "Epoch 8/15\n",
      "3835/3835 [==============================] - 7s 2ms/step - loss: 959.9798 - val_loss: 948.4622\n",
      "Epoch 9/15\n",
      "3835/3835 [==============================] - 7s 2ms/step - loss: 953.9456 - val_loss: 952.0817\n",
      "Epoch 10/15\n",
      "3835/3835 [==============================] - 8s 2ms/step - loss: 953.0809 - val_loss: 1047.5040\n",
      "Epoch 11/15\n",
      "3835/3835 [==============================] - 7s 2ms/step - loss: 951.2856 - val_loss: 944.5570\n",
      "Epoch 12/15\n",
      "3835/3835 [==============================] - 7s 2ms/step - loss: 951.4174 - val_loss: 953.1651\n",
      "Epoch 13/15\n",
      "3835/3835 [==============================] - 7s 2ms/step - loss: 951.7516 - val_loss: 959.3562\n",
      "Epoch 14/15\n",
      "3835/3835 [==============================] - 7s 2ms/step - loss: 951.2205 - val_loss: 955.6200\n",
      "Epoch 15/15\n",
      "3835/3835 [==============================] - 8s 2ms/step - loss: 953.2899 - val_loss: 944.5990\n"
     ]
    },
    {
     "data": {
      "text/plain": [
       "<tensorflow.python.keras.callbacks.History at 0x22326352670>"
      ]
     },
     "execution_count": 64,
     "metadata": {},
     "output_type": "execute_result"
    }
   ],
   "source": [
    "model.fit(x_train, y_train.values, validation_data = (x_test, y_test.values), epochs = 15)"
   ]
  },
  {
   "cell_type": "code",
   "execution_count": 65,
   "id": "1bc9e358",
   "metadata": {},
   "outputs": [
    {
     "data": {
      "text/plain": [
       "<AxesSubplot:>"
      ]
     },
     "execution_count": 65,
     "metadata": {},
     "output_type": "execute_result"
    },
    {
     "data": {
      "image/png": "[encoded data removed]",
      "text/plain": [
       "<Figure size 432x288 with 1 Axes>"
      ]
     },
     "metadata": {
      "needs_background": "light"
     },
     "output_type": "display_data"
    }
   ],
   "source": [
    "losses = pd.DataFrame(model.history.history)\n",
    "losses.plot()"
   ]
  },
  {
   "cell_type": "code",
   "execution_count": 66,
   "id": "366077a8",
   "metadata": {},
   "outputs": [],
   "source": [
    "from sklearn.metrics import mean_squared_error"
   ]
  },
  {
   "cell_type": "code",
   "execution_count": 67,
   "id": "0f4ac664",
   "metadata": {},
   "outputs": [],
   "source": [
    "predictions = model.predict(x_test)"
   ]
  },
  {
   "cell_type": "code",
   "execution_count": 68,
   "id": "a1f05768",
   "metadata": {},
   "outputs": [
    {
     "data": {
      "text/plain": [
       "944.5991030341663"
      ]
     },
     "execution_count": 68,
     "metadata": {},
     "output_type": "execute_result"
    }
   ],
   "source": [
    "mean_squared_error(y_test,predictions)"
   ]
  },
  {
   "cell_type": "code",
   "execution_count": null,
   "id": "07fb3d6e",
   "metadata": {},
   "outputs": [],
   "source": []
  },
  {
   "cell_type": "code",
   "execution_count": null,
   "id": "dac9dcda",
   "metadata": {},
   "outputs": [],
   "source": []
  },
  {
   "cell_type": "code",
   "execution_count": null,
   "id": "5670a4d2",
   "metadata": {},
   "outputs": [],
   "source": []
  },
  {
   "cell_type": "code",
   "execution_count": 103,
   "id": "8baafee5",
   "metadata": {},
   "outputs": [],
   "source": [
    "x_train = newtrain.drop(['Clearsky DHI', 'Clearsky DNI', 'Clearsky GHI'],axis=1)\n",
    "y_train = newtrain['Clearsky DHI']\n",
    "x_test = newtest"
   ]
  },
  {
   "cell_type": "code",
   "execution_count": 104,
   "id": "bd602be9",
   "metadata": {},
   "outputs": [],
   "source": [
    "from sklearn.preprocessing import MinMaxScaler\n",
    "scaler = MinMaxScaler()"
   ]
  },
  {
   "cell_type": "code",
   "execution_count": 105,
   "id": "4499ed7d",
   "metadata": {},
   "outputs": [],
   "source": [
    "x_train= scaler.fit_transform(x_train)\n",
    "x_test = scaler.transform(x_test)"
   ]
  },
  {
   "cell_type": "code",
   "execution_count": 106,
   "id": "3de540c5",
   "metadata": {},
   "outputs": [],
   "source": [
    "from tensorflow.keras.models import Sequential\n",
    "from tensorflow.keras.layers import Dense, Activation\n",
    "from tensorflow.keras.optimizers import Adam"
   ]
  },
  {
   "cell_type": "code",
   "execution_count": 107,
   "id": "c5c9ca5b",
   "metadata": {},
   "outputs": [],
   "source": [
    "model = Sequential()\n",
    "model.add(Dense(19, activation = 'relu'))\n",
    "model.add(Dense(6, activation = 'relu'))\n",
    "model.add(Dense(1))"
   ]
  },
  {
   "cell_type": "code",
   "execution_count": 108,
   "id": "ddb538f0",
   "metadata": {},
   "outputs": [],
   "source": [
    "model.compile(optimizer = 'adam', loss = 'mse')"
   ]
  },
  {
   "cell_type": "code",
   "execution_count": 109,
   "id": "1e84435a",
   "metadata": {},
   "outputs": [
    {
     "name": "stdout",
     "output_type": "stream",
     "text": [
      "Epoch 1/15\n",
      "5478/5478 [==============================] - ETA: 0s - loss: 1377.58 - 7s 1ms/step - loss: 1377.2006\n",
      "Epoch 2/15\n",
      "5478/5478 [==============================] - 7s 1ms/step - loss: 446.8907\n",
      "Epoch 3/15\n",
      "5478/5478 [==============================] - 7s 1ms/step - loss: 362.4648\n",
      "Epoch 4/15\n",
      "5478/5478 [==============================] - 7s 1ms/step - loss: 326.7456\n",
      "Epoch 5/15\n",
      "5478/5478 [==============================] - 7s 1ms/step - loss: 311.5324\n",
      "Epoch 6/15\n",
      "5478/5478 [==============================] - 7s 1ms/step - loss: 303.4406\n",
      "Epoch 7/15\n",
      "5478/5478 [==============================] - 7s 1ms/step - loss: 298.2996\n",
      "Epoch 8/15\n",
      "5478/5478 [==============================] - 7s 1ms/step - loss: 294.6280\n",
      "Epoch 9/15\n",
      "5478/5478 [==============================] - 7s 1ms/step - loss: 292.0471\n",
      "Epoch 10/15\n",
      "5478/5478 [==============================] - 7s 1ms/step - loss: 289.7513\n",
      "Epoch 11/15\n",
      "5478/5478 [==============================] - 7s 1ms/step - loss: 287.6996\n",
      "Epoch 12/15\n",
      "5478/5478 [==============================] - 7s 1ms/step - loss: 286.2473\n",
      "Epoch 13/15\n",
      "5478/5478 [==============================] - 7s 1ms/step - loss: 284.8490\n",
      "Epoch 14/15\n",
      "5478/5478 [==============================] - 7s 1ms/step - loss: 283.8821\n",
      "Epoch 15/15\n",
      "5478/5478 [==============================] - 7s 1ms/step - loss: 282.8799\n"
     ]
    },
    {
     "data": {
      "text/plain": [
       "<tensorflow.python.keras.callbacks.History at 0x22316d93580>"
      ]
     },
     "execution_count": 109,
     "metadata": {},
     "output_type": "execute_result"
    }
   ],
   "source": [
    "model.fit(x_train, y_train.values, epochs = 15)"
   ]
  },
  {
   "cell_type": "code",
   "execution_count": 110,
   "id": "11b5c598",
   "metadata": {},
   "outputs": [],
   "source": [
    "predictions1 = model.predict(x_test)"
   ]
  },
  {
   "cell_type": "code",
   "execution_count": 111,
   "id": "e8561256",
   "metadata": {},
   "outputs": [],
   "source": [
    "x_train = newtrain.drop(['Clearsky DHI', 'Clearsky DNI', 'Clearsky GHI'],axis=1)\n",
    "y_train = newtrain['Clearsky DNI']\n",
    "x_test = newtest"
   ]
  },
  {
   "cell_type": "code",
   "execution_count": 112,
   "id": "9e425d6e",
   "metadata": {},
   "outputs": [],
   "source": [
    "from sklearn.preprocessing import MinMaxScaler\n",
    "scaler = MinMaxScaler()"
   ]
  },
  {
   "cell_type": "code",
   "execution_count": 113,
   "id": "0354ae74",
   "metadata": {},
   "outputs": [],
   "source": [
    "x_train= scaler.fit_transform(x_train)\n",
    "x_test = scaler.transform(x_test)"
   ]
  },
  {
   "cell_type": "code",
   "execution_count": 114,
   "id": "5a50c7c1",
   "metadata": {},
   "outputs": [],
   "source": [
    "from tensorflow.keras.models import Sequential\n",
    "from tensorflow.keras.layers import Dense, Activation\n",
    "from tensorflow.keras.optimizers import Adam"
   ]
  },
  {
   "cell_type": "code",
   "execution_count": 115,
   "id": "4830e662",
   "metadata": {},
   "outputs": [],
   "source": [
    "model = Sequential()\n",
    "model.add(Dense(19, activation = 'relu'))\n",
    "model.add(Dense(6, activation = 'relu'))\n",
    "model.add(Dense(1))"
   ]
  },
  {
   "cell_type": "code",
   "execution_count": 116,
   "id": "1bd51540",
   "metadata": {},
   "outputs": [],
   "source": [
    "model.compile(optimizer = 'adam', loss = 'mse')"
   ]
  },
  {
   "cell_type": "code",
   "execution_count": 117,
   "id": "9c06bc86",
   "metadata": {},
   "outputs": [
    {
     "name": "stdout",
     "output_type": "stream",
     "text": [
      "Epoch 1/25\n",
      "5478/5478 [==============================] - 7s 1ms/step - loss: 56161.6406\n",
      "Epoch 2/25\n",
      "5478/5478 [==============================] - 7s 1ms/step - loss: 14046.1543\n",
      "Epoch 3/25\n",
      "5478/5478 [==============================] - 7s 1ms/step - loss: 8683.2607\n",
      "Epoch 4/25\n",
      "5478/5478 [==============================] - 7s 1ms/step - loss: 6134.4937\n",
      "Epoch 5/25\n",
      "5478/5478 [==============================] - 7s 1ms/step - loss: 4598.2856\n",
      "Epoch 6/25\n",
      "5478/5478 [==============================] - 7s 1ms/step - loss: 3618.5940\n",
      "Epoch 7/25\n",
      "5478/5478 [==============================] - 7s 1ms/step - loss: 3020.5212\n",
      "Epoch 8/25\n",
      "5478/5478 [==============================] - 7s 1ms/step - loss: 2666.6858\n",
      "Epoch 9/25\n",
      "5478/5478 [==============================] - 7s 1ms/step - loss: 2370.0806\n",
      "Epoch 10/25\n",
      "5478/5478 [==============================] - 7s 1ms/step - loss: 2164.6238\n",
      "Epoch 11/25\n",
      "5478/5478 [==============================] - 7s 1ms/step - loss: 2049.3464\n",
      "Epoch 12/25\n",
      "5478/5478 [==============================] - 7s 1ms/step - loss: 1974.4487\n",
      "Epoch 13/25\n",
      "5478/5478 [==============================] - 7s 1ms/step - loss: 1923.7324\n",
      "Epoch 14/25\n",
      "5478/5478 [==============================] - 7s 1ms/step - loss: 1883.9683\n",
      "Epoch 15/25\n",
      "5478/5478 [==============================] - 7s 1ms/step - loss: 1860.7560\n",
      "Epoch 16/25\n",
      "5478/5478 [==============================] - 7s 1ms/step - loss: 1838.3713: 0s\n",
      "Epoch 17/25\n",
      "5478/5478 [==============================] - 7s 1ms/step - loss: 1821.8781\n",
      "Epoch 18/25\n",
      "5478/5478 [==============================] - 7s 1ms/step - loss: 1807.8757\n",
      "Epoch 19/25\n",
      "5478/5478 [==============================] - 7s 1ms/step - loss: 1796.4065\n",
      "Epoch 20/25\n",
      "5478/5478 [==============================] - 7s 1ms/step - loss: 1787.8514\n",
      "Epoch 21/25\n",
      "5478/5478 [==============================] - 7s 1ms/step - loss: 1778.1978\n",
      "Epoch 22/25\n",
      "5478/5478 [==============================] - 7s 1ms/step - loss: 1773.0325\n",
      "Epoch 23/25\n",
      "5478/5478 [==============================] - 7s 1ms/step - loss: 1766.7373\n",
      "Epoch 24/25\n",
      "5478/5478 [==============================] - 7s 1ms/step - loss: 1760.9897\n",
      "Epoch 25/25\n",
      "5478/5478 [==============================] - 7s 1ms/step - loss: 1758.8232\n"
     ]
    },
    {
     "data": {
      "text/plain": [
       "<tensorflow.python.keras.callbacks.History at 0x22316ab0970>"
      ]
     },
     "execution_count": 117,
     "metadata": {},
     "output_type": "execute_result"
    }
   ],
   "source": [
    "model.fit(x_train, y_train.values, epochs = 25)"
   ]
  },
  {
   "cell_type": "code",
   "execution_count": 118,
   "id": "76c8883d",
   "metadata": {},
   "outputs": [],
   "source": [
    "predictions2 = model.predict(x_test)"
   ]
  },
  {
   "cell_type": "code",
   "execution_count": null,
   "id": "4744116e",
   "metadata": {},
   "outputs": [],
   "source": []
  },
  {
   "cell_type": "code",
   "execution_count": 119,
   "id": "ba92a942",
   "metadata": {},
   "outputs": [],
   "source": [
    "x_train = newtrain.drop(['Clearsky DHI', 'Clearsky DNI', 'Clearsky GHI'],axis=1)\n",
    "y_train = newtrain['Clearsky GHI']\n",
    "x_test = newtest"
   ]
  },
  {
   "cell_type": "code",
   "execution_count": 120,
   "id": "e2a166af",
   "metadata": {},
   "outputs": [],
   "source": [
    "from sklearn.preprocessing import MinMaxScaler\n",
    "scaler = MinMaxScaler()"
   ]
  },
  {
   "cell_type": "code",
   "execution_count": 121,
   "id": "d68055c5",
   "metadata": {},
   "outputs": [],
   "source": [
    "x_train= scaler.fit_transform(x_train)\n",
    "x_test = scaler.transform(x_test)"
   ]
  },
  {
   "cell_type": "code",
   "execution_count": 122,
   "id": "55ac4e5a",
   "metadata": {},
   "outputs": [],
   "source": [
    "from tensorflow.keras.models import Sequential\n",
    "from tensorflow.keras.layers import Dense, Activation\n",
    "from tensorflow.keras.optimizers import Adam"
   ]
  },
  {
   "cell_type": "code",
   "execution_count": 123,
   "id": "56a29d78",
   "metadata": {},
   "outputs": [],
   "source": [
    "model = Sequential()\n",
    "model.add(Dense(19, activation = 'relu'))\n",
    "model.add(Dense(6, activation = 'relu'))\n",
    "model.add(Dense(1))"
   ]
  },
  {
   "cell_type": "code",
   "execution_count": 124,
   "id": "7e6b0ee7",
   "metadata": {},
   "outputs": [],
   "source": [
    "model.compile(optimizer = 'adam', loss = 'mse')"
   ]
  },
  {
   "cell_type": "code",
   "execution_count": 125,
   "id": "d9297363",
   "metadata": {},
   "outputs": [
    {
     "name": "stdout",
     "output_type": "stream",
     "text": [
      "Epoch 1/15\n",
      "5478/5478 [==============================] - 7s 1ms/step - loss: 46651.9180\n",
      "Epoch 2/15\n",
      "5478/5478 [==============================] - 7s 1ms/step - loss: 4844.5845\n",
      "Epoch 3/15\n",
      "5478/5478 [==============================] - 7s 1ms/step - loss: 1792.7671\n",
      "Epoch 4/15\n",
      "5478/5478 [==============================] - 7s 1ms/step - loss: 1182.4026\n",
      "Epoch 5/15\n",
      "5478/5478 [==============================] - 7s 1ms/step - loss: 863.8604\n",
      "Epoch 6/15\n",
      "5478/5478 [==============================] - 7s 1ms/step - loss: 699.8318\n",
      "Epoch 7/15\n",
      "5478/5478 [==============================] - 7s 1ms/step - loss: 545.9903\n",
      "Epoch 8/15\n",
      "5478/5478 [==============================] - 7s 1ms/step - loss: 372.1054\n",
      "Epoch 9/15\n",
      "5478/5478 [==============================] - 7s 1ms/step - loss: 259.3710\n",
      "Epoch 10/15\n",
      "5478/5478 [==============================] - 8s 1ms/step - loss: 198.2987\n",
      "Epoch 11/15\n",
      "5478/5478 [==============================] - 8s 1ms/step - loss: 171.4434\n",
      "Epoch 12/15\n",
      "5478/5478 [==============================] - 7s 1ms/step - loss: 158.8604\n",
      "Epoch 13/15\n",
      "5478/5478 [==============================] - 7s 1ms/step - loss: 152.1665\n",
      "Epoch 14/15\n",
      "5478/5478 [==============================] - 7s 1ms/step - loss: 147.5091\n",
      "Epoch 15/15\n",
      "5478/5478 [==============================] - 8s 1ms/step - loss: 144.4802\n"
     ]
    },
    {
     "data": {
      "text/plain": [
       "<tensorflow.python.keras.callbacks.History at 0x2231850b730>"
      ]
     },
     "execution_count": 125,
     "metadata": {},
     "output_type": "execute_result"
    }
   ],
   "source": [
    "model.fit(x_train, y_train.values, epochs = 15)"
   ]
  },
  {
   "cell_type": "code",
   "execution_count": 126,
   "id": "3730b9d1",
   "metadata": {},
   "outputs": [],
   "source": [
    "predictions3 = model.predict(x_test)"
   ]
  },
  {
   "cell_type": "code",
   "execution_count": null,
   "id": "baff332d",
   "metadata": {},
   "outputs": [],
   "source": []
  },
  {
   "cell_type": "code",
   "execution_count": 131,
   "id": "9436c16c",
   "metadata": {},
   "outputs": [
    {
     "data": {
      "text/plain": [
       "(17520, 3)"
      ]
     },
     "execution_count": 131,
     "metadata": {},
     "output_type": "execute_result"
    }
   ],
   "source": [
    "solution = pd.DataFrame({'Clearsky DHI' : predictions1.flatten(), 'Clearsky DNI' : predictions2.flatten(), 'Clearsky GHI' : predictions3.flatten()})\n",
    "solution.shape"
   ]
  },
  {
   "cell_type": "code",
   "execution_count": 132,
   "id": "e97c6644",
   "metadata": {},
   "outputs": [
    {
     "data": {
      "text/html": [
       "<div>\n",
       "<style scoped>\n",
       "    .dataframe tbody tr th:only-of-type {\n",
       "        vertical-align: middle;\n",
       "    }\n",
       "\n",
       "    .dataframe tbody tr th {\n",
       "        vertical-align: top;\n",
       "    }\n",
       "\n",
       "    .dataframe thead th {\n",
       "        text-align: right;\n",
       "    }\n",
       "</style>\n",
       "<table border=\"1\" class=\"dataframe\">\n",
       "  <thead>\n",
       "    <tr style=\"text-align: right;\">\n",
       "      <th></th>\n",
       "      <th>Clearsky DHI</th>\n",
       "      <th>Clearsky DNI</th>\n",
       "      <th>Clearsky GHI</th>\n",
       "    </tr>\n",
       "  </thead>\n",
       "  <tbody>\n",
       "    <tr>\n",
       "      <th>0</th>\n",
       "      <td>0.541086</td>\n",
       "      <td>0.017802</td>\n",
       "      <td>0.728261</td>\n",
       "    </tr>\n",
       "    <tr>\n",
       "      <th>1</th>\n",
       "      <td>0.944163</td>\n",
       "      <td>0.017802</td>\n",
       "      <td>0.623769</td>\n",
       "    </tr>\n",
       "    <tr>\n",
       "      <th>2</th>\n",
       "      <td>0.840796</td>\n",
       "      <td>0.017802</td>\n",
       "      <td>0.475240</td>\n",
       "    </tr>\n",
       "    <tr>\n",
       "      <th>3</th>\n",
       "      <td>0.907870</td>\n",
       "      <td>0.017802</td>\n",
       "      <td>0.425496</td>\n",
       "    </tr>\n",
       "    <tr>\n",
       "      <th>4</th>\n",
       "      <td>0.848189</td>\n",
       "      <td>0.017802</td>\n",
       "      <td>0.218038</td>\n",
       "    </tr>\n",
       "  </tbody>\n",
       "</table>\n",
       "</div>"
      ],
      "text/plain": [
       "   Clearsky DHI  Clearsky DNI  Clearsky GHI\n",
       "0      0.541086      0.017802      0.728261\n",
       "1      0.944163      0.017802      0.623769\n",
       "2      0.840796      0.017802      0.475240\n",
       "3      0.907870      0.017802      0.425496\n",
       "4      0.848189      0.017802      0.218038"
      ]
     },
     "execution_count": 132,
     "metadata": {},
     "output_type": "execute_result"
    }
   ],
   "source": [
    "solution.head()"
   ]
  },
  {
   "cell_type": "code",
   "execution_count": 138,
   "id": "ce8e9f62",
   "metadata": {},
   "outputs": [],
   "source": [
    "solution.to_csv('ANN.csv', index = False)"
   ]
  },
  {
   "cell_type": "code",
   "execution_count": null,
   "id": "5b26ee67",
   "metadata": {},
   "outputs": [],
   "source": []
  }
 ],
 "metadata": {
  "kernelspec": {
   "display_name": "Python 3",
   "language": "python",
   "name": "python3"
  },
  "language_info": {
   "codemirror_mode": {
    "name": "ipython",
    "version": 3
   },
   "file_extension": ".py",
   "mimetype": "text/x-python",
   "name": "python",
   "nbconvert_exporter": "python",
   "pygments_lexer": "ipython3",
   "version": "3.8.8"
  }
 },
 "nbformat": 4,
 "nbformat_minor": 5
}
