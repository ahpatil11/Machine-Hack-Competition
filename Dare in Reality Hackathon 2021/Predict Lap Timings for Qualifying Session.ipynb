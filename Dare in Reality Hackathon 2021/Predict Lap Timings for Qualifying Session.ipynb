{
 "cells": [
  {
   "cell_type": "code",
   "execution_count": 1,
   "id": "767fbd7b",
   "metadata": {},
   "outputs": [],
   "source": [
    "import numpy as np\n",
    "import pandas as pd\n",
    "import matplotlib.pyplot as plt\n",
    "import seaborn as sns"
   ]
  },
  {
   "cell_type": "code",
   "execution_count": 2,
   "id": "d8f6cb57",
   "metadata": {},
   "outputs": [
    {
     "data": {
      "text/html": [
       "<div>\n",
       "<style scoped>\n",
       "    .dataframe tbody tr th:only-of-type {\n",
       "        vertical-align: middle;\n",
       "    }\n",
       "\n",
       "    .dataframe tbody tr th {\n",
       "        vertical-align: top;\n",
       "    }\n",
       "\n",
       "    .dataframe thead th {\n",
       "        text-align: right;\n",
       "    }\n",
       "</style>\n",
       "<table border=\"1\" class=\"dataframe\">\n",
       "  <thead>\n",
       "    <tr style=\"text-align: right;\">\n",
       "      <th></th>\n",
       "      <th>NUMBER</th>\n",
       "      <th>DRIVER_NUMBER</th>\n",
       "      <th>LAP_NUMBER</th>\n",
       "      <th>LAP_TIME</th>\n",
       "      <th>LAP_IMPROVEMENT</th>\n",
       "      <th>CROSSING_FINISH_LINE_IN_PIT</th>\n",
       "      <th>S1</th>\n",
       "      <th>S1_IMPROVEMENT</th>\n",
       "      <th>S2</th>\n",
       "      <th>S2_IMPROVEMENT</th>\n",
       "      <th>...</th>\n",
       "      <th>S1_LARGE</th>\n",
       "      <th>S2_LARGE</th>\n",
       "      <th>S3_LARGE</th>\n",
       "      <th>DRIVER_NAME</th>\n",
       "      <th>PIT_TIME</th>\n",
       "      <th>GROUP</th>\n",
       "      <th>TEAM</th>\n",
       "      <th>POWER</th>\n",
       "      <th>LOCATION</th>\n",
       "      <th>EVENT</th>\n",
       "    </tr>\n",
       "  </thead>\n",
       "  <tbody>\n",
       "    <tr>\n",
       "      <th>0</th>\n",
       "      <td>10</td>\n",
       "      <td>1</td>\n",
       "      <td>1</td>\n",
       "      <td>92</td>\n",
       "      <td>0</td>\n",
       "      <td>NaN</td>\n",
       "      <td>05:43.3</td>\n",
       "      <td>0</td>\n",
       "      <td>35.427</td>\n",
       "      <td>0</td>\n",
       "      <td>...</td>\n",
       "      <td>05:43.3</td>\n",
       "      <td>00:35.4</td>\n",
       "      <td>00:43.3</td>\n",
       "      <td>SB</td>\n",
       "      <td>05:14.7</td>\n",
       "      <td>NaN</td>\n",
       "      <td>JR</td>\n",
       "      <td>NaN</td>\n",
       "      <td>Location 2</td>\n",
       "      <td>Free Practice 2</td>\n",
       "    </tr>\n",
       "    <tr>\n",
       "      <th>1</th>\n",
       "      <td>10</td>\n",
       "      <td>1</td>\n",
       "      <td>2</td>\n",
       "      <td>87</td>\n",
       "      <td>2</td>\n",
       "      <td>NaN</td>\n",
       "      <td>25.674</td>\n",
       "      <td>2</td>\n",
       "      <td>33.399</td>\n",
       "      <td>2</td>\n",
       "      <td>...</td>\n",
       "      <td>00:25.7</td>\n",
       "      <td>00:33.4</td>\n",
       "      <td>00:41.9</td>\n",
       "      <td>SB</td>\n",
       "      <td>NaN</td>\n",
       "      <td>NaN</td>\n",
       "      <td>JR</td>\n",
       "      <td>NaN</td>\n",
       "      <td>Location 2</td>\n",
       "      <td>Free Practice 2</td>\n",
       "    </tr>\n",
       "    <tr>\n",
       "      <th>2</th>\n",
       "      <td>10</td>\n",
       "      <td>1</td>\n",
       "      <td>3</td>\n",
       "      <td>73</td>\n",
       "      <td>0</td>\n",
       "      <td>B</td>\n",
       "      <td>28.129</td>\n",
       "      <td>0</td>\n",
       "      <td>34.091</td>\n",
       "      <td>0</td>\n",
       "      <td>...</td>\n",
       "      <td>00:28.1</td>\n",
       "      <td>00:34.1</td>\n",
       "      <td>00:57.2</td>\n",
       "      <td>SB</td>\n",
       "      <td>NaN</td>\n",
       "      <td>NaN</td>\n",
       "      <td>JR</td>\n",
       "      <td>NaN</td>\n",
       "      <td>Location 2</td>\n",
       "      <td>Free Practice 2</td>\n",
       "    </tr>\n",
       "    <tr>\n",
       "      <th>3</th>\n",
       "      <td>11</td>\n",
       "      <td>1</td>\n",
       "      <td>1</td>\n",
       "      <td>73</td>\n",
       "      <td>0</td>\n",
       "      <td>NaN</td>\n",
       "      <td>01:05.0</td>\n",
       "      <td>0</td>\n",
       "      <td>38.416</td>\n",
       "      <td>0</td>\n",
       "      <td>...</td>\n",
       "      <td>01:05.0</td>\n",
       "      <td>00:38.4</td>\n",
       "      <td>00:56.8</td>\n",
       "      <td>LGRA</td>\n",
       "      <td>00:33.0</td>\n",
       "      <td>NaN</td>\n",
       "      <td>AD</td>\n",
       "      <td>NaN</td>\n",
       "      <td>Location 2</td>\n",
       "      <td>Free Practice 2</td>\n",
       "    </tr>\n",
       "    <tr>\n",
       "      <th>4</th>\n",
       "      <td>11</td>\n",
       "      <td>1</td>\n",
       "      <td>2</td>\n",
       "      <td>73</td>\n",
       "      <td>0</td>\n",
       "      <td>NaN</td>\n",
       "      <td>28.013</td>\n",
       "      <td>0</td>\n",
       "      <td>36.743</td>\n",
       "      <td>0</td>\n",
       "      <td>...</td>\n",
       "      <td>00:28.0</td>\n",
       "      <td>00:36.7</td>\n",
       "      <td>00:44.7</td>\n",
       "      <td>LGRA</td>\n",
       "      <td>NaN</td>\n",
       "      <td>NaN</td>\n",
       "      <td>AD</td>\n",
       "      <td>NaN</td>\n",
       "      <td>Location 2</td>\n",
       "      <td>Free Practice 2</td>\n",
       "    </tr>\n",
       "  </tbody>\n",
       "</table>\n",
       "<p>5 rows × 25 columns</p>\n",
       "</div>"
      ],
      "text/plain": [
       "   NUMBER   DRIVER_NUMBER   LAP_NUMBER  LAP_TIME   LAP_IMPROVEMENT  \\\n",
       "0      10               1            1        92                 0   \n",
       "1      10               1            2        87                 2   \n",
       "2      10               1            3        73                 0   \n",
       "3      11               1            1        73                 0   \n",
       "4      11               1            2        73                 0   \n",
       "\n",
       "   CROSSING_FINISH_LINE_IN_PIT       S1   S1_IMPROVEMENT      S2  \\\n",
       "0                          NaN  05:43.3                0  35.427   \n",
       "1                          NaN   25.674                2  33.399   \n",
       "2                            B   28.129                0  34.091   \n",
       "3                          NaN  01:05.0                0  38.416   \n",
       "4                          NaN   28.013                0  36.743   \n",
       "\n",
       "    S2_IMPROVEMENT  ... S1_LARGE  S2_LARGE  S3_LARGE DRIVER_NAME PIT_TIME  \\\n",
       "0                0  ...  05:43.3   00:35.4   00:43.3          SB  05:14.7   \n",
       "1                2  ...  00:25.7   00:33.4   00:41.9          SB      NaN   \n",
       "2                0  ...  00:28.1   00:34.1   00:57.2          SB      NaN   \n",
       "3                0  ...  01:05.0   00:38.4   00:56.8        LGRA  00:33.0   \n",
       "4                0  ...  00:28.0   00:36.7   00:44.7        LGRA      NaN   \n",
       "\n",
       "  GROUP TEAM POWER    LOCATION            EVENT  \n",
       "0   NaN   JR   NaN  Location 2  Free Practice 2  \n",
       "1   NaN   JR   NaN  Location 2  Free Practice 2  \n",
       "2   NaN   JR   NaN  Location 2  Free Practice 2  \n",
       "3   NaN   AD   NaN  Location 2  Free Practice 2  \n",
       "4   NaN   AD   NaN  Location 2  Free Practice 2  \n",
       "\n",
       "[5 rows x 25 columns]"
      ]
     },
     "execution_count": 2,
     "metadata": {},
     "output_type": "execute_result"
    }
   ],
   "source": [
    "train = pd.read_csv('train.csv')\n",
    "train.head()"
   ]
  },
  {
   "cell_type": "code",
   "execution_count": 3,
   "id": "0b9e3f2c",
   "metadata": {},
   "outputs": [
    {
     "data": {
      "text/plain": [
       "(10276, 25)"
      ]
     },
     "execution_count": 3,
     "metadata": {},
     "output_type": "execute_result"
    }
   ],
   "source": [
    "train.shape"
   ]
  },
  {
   "cell_type": "code",
   "execution_count": 4,
   "id": "53d3dc30",
   "metadata": {},
   "outputs": [
    {
     "data": {
      "text/plain": [
       "0"
      ]
     },
     "execution_count": 4,
     "metadata": {},
     "output_type": "execute_result"
    }
   ],
   "source": [
    "train.duplicated().sum()"
   ]
  },
  {
   "cell_type": "code",
   "execution_count": 5,
   "id": "d8b98309",
   "metadata": {},
   "outputs": [
    {
     "data": {
      "text/plain": [
       "NUMBER                             0\n",
       " DRIVER_NUMBER                     0\n",
       " LAP_NUMBER                        0\n",
       "LAP_TIME                           0\n",
       " LAP_IMPROVEMENT                   0\n",
       " CROSSING_FINISH_LINE_IN_PIT    9042\n",
       " S1                                4\n",
       " S1_IMPROVEMENT                    0\n",
       " S2                                8\n",
       " S2_IMPROVEMENT                    0\n",
       " S3                               34\n",
       " S3_IMPROVEMENT                    0\n",
       " KPH                              30\n",
       " ELAPSED                           0\n",
       " HOUR                              0\n",
       "S1_LARGE                           4\n",
       "S2_LARGE                           8\n",
       "S3_LARGE                          34\n",
       "DRIVER_NAME                        0\n",
       "PIT_TIME                        8378\n",
       "GROUP                           9768\n",
       "TEAM                               0\n",
       "POWER                           7373\n",
       "LOCATION                           0\n",
       "EVENT                              0\n",
       "dtype: int64"
      ]
     },
     "execution_count": 5,
     "metadata": {},
     "output_type": "execute_result"
    }
   ],
   "source": [
    "train.isnull().sum()"
   ]
  },
  {
   "cell_type": "code",
   "execution_count": 6,
   "id": "2aba34f5",
   "metadata": {},
   "outputs": [
    {
     "data": {
      "text/html": [
       "<div>\n",
       "<style scoped>\n",
       "    .dataframe tbody tr th:only-of-type {\n",
       "        vertical-align: middle;\n",
       "    }\n",
       "\n",
       "    .dataframe tbody tr th {\n",
       "        vertical-align: top;\n",
       "    }\n",
       "\n",
       "    .dataframe thead th {\n",
       "        text-align: right;\n",
       "    }\n",
       "</style>\n",
       "<table border=\"1\" class=\"dataframe\">\n",
       "  <thead>\n",
       "    <tr style=\"text-align: right;\">\n",
       "      <th></th>\n",
       "      <th>TIME_UTC_SECONDS</th>\n",
       "      <th>TIME_UTC_STR</th>\n",
       "      <th>AIR_TEMP</th>\n",
       "      <th>TRACK_TEMP</th>\n",
       "      <th>HUMIDITY</th>\n",
       "      <th>PRESSURE</th>\n",
       "      <th>WIND_SPEED</th>\n",
       "      <th>WIND_DIRECTION</th>\n",
       "      <th>RAIN</th>\n",
       "      <th>LOCATION</th>\n",
       "      <th>EVENT</th>\n",
       "    </tr>\n",
       "  </thead>\n",
       "  <tbody>\n",
       "    <tr>\n",
       "      <th>0</th>\n",
       "      <td>1618042506</td>\n",
       "      <td>10/04/21 8:15</td>\n",
       "      <td>15</td>\n",
       "      <td>18.4</td>\n",
       "      <td>60</td>\n",
       "      <td>1018.05</td>\n",
       "      <td>2.12187</td>\n",
       "      <td>165</td>\n",
       "      <td>-1</td>\n",
       "      <td>Location 2</td>\n",
       "      <td>Free Practice 2</td>\n",
       "    </tr>\n",
       "    <tr>\n",
       "      <th>1</th>\n",
       "      <td>1618042567</td>\n",
       "      <td>10/04/21 8:16</td>\n",
       "      <td>15.0556</td>\n",
       "      <td>18.4</td>\n",
       "      <td>60</td>\n",
       "      <td>1018.12</td>\n",
       "      <td>1.06093</td>\n",
       "      <td>177</td>\n",
       "      <td>-1</td>\n",
       "      <td>Location 2</td>\n",
       "      <td>Free Practice 2</td>\n",
       "    </tr>\n",
       "    <tr>\n",
       "      <th>2</th>\n",
       "      <td>1618042632</td>\n",
       "      <td>10/04/21 8:17</td>\n",
       "      <td>15.0556</td>\n",
       "      <td>18.5</td>\n",
       "      <td>60</td>\n",
       "      <td>1018.12</td>\n",
       "      <td>2.12187</td>\n",
       "      <td>157</td>\n",
       "      <td>-1</td>\n",
       "      <td>Location 2</td>\n",
       "      <td>Free Practice 2</td>\n",
       "    </tr>\n",
       "    <tr>\n",
       "      <th>3</th>\n",
       "      <td>1618042697</td>\n",
       "      <td>10/04/21 8:18</td>\n",
       "      <td>15.0556</td>\n",
       "      <td>18.5</td>\n",
       "      <td>60</td>\n",
       "      <td>1018.08</td>\n",
       "      <td>2.12187</td>\n",
       "      <td>163</td>\n",
       "      <td>-1</td>\n",
       "      <td>Location 2</td>\n",
       "      <td>Free Practice 2</td>\n",
       "    </tr>\n",
       "    <tr>\n",
       "      <th>4</th>\n",
       "      <td>1618042762</td>\n",
       "      <td>10/04/21 8:19</td>\n",
       "      <td>15.1111</td>\n",
       "      <td>18.5</td>\n",
       "      <td>60</td>\n",
       "      <td>1018.15</td>\n",
       "      <td>3.1828</td>\n",
       "      <td>149</td>\n",
       "      <td>-1</td>\n",
       "      <td>Location 2</td>\n",
       "      <td>Free Practice 2</td>\n",
       "    </tr>\n",
       "  </tbody>\n",
       "</table>\n",
       "</div>"
      ],
      "text/plain": [
       "   TIME_UTC_SECONDS   TIME_UTC_STR AIR_TEMP TRACK_TEMP HUMIDITY PRESSURE  \\\n",
       "0        1618042506  10/04/21 8:15       15       18.4       60  1018.05   \n",
       "1        1618042567  10/04/21 8:16  15.0556       18.4       60  1018.12   \n",
       "2        1618042632  10/04/21 8:17  15.0556       18.5       60  1018.12   \n",
       "3        1618042697  10/04/21 8:18  15.0556       18.5       60  1018.08   \n",
       "4        1618042762  10/04/21 8:19  15.1111       18.5       60  1018.15   \n",
       "\n",
       "  WIND_SPEED  WIND_DIRECTION RAIN    LOCATION            EVENT  \n",
       "0    2.12187             165   -1  Location 2  Free Practice 2  \n",
       "1    1.06093             177   -1  Location 2  Free Practice 2  \n",
       "2    2.12187             157   -1  Location 2  Free Practice 2  \n",
       "3    2.12187             163   -1  Location 2  Free Practice 2  \n",
       "4     3.1828             149   -1  Location 2  Free Practice 2  "
      ]
     },
     "execution_count": 6,
     "metadata": {},
     "output_type": "execute_result"
    }
   ],
   "source": [
    "train_weather = pd.read_csv('train_weather.csv')\n",
    "train_weather.head()"
   ]
  },
  {
   "cell_type": "code",
   "execution_count": 7,
   "id": "27a34e53",
   "metadata": {},
   "outputs": [
    {
     "data": {
      "text/plain": [
       "(914, 11)"
      ]
     },
     "execution_count": 7,
     "metadata": {},
     "output_type": "execute_result"
    }
   ],
   "source": [
    "train_weather.shape"
   ]
  },
  {
   "cell_type": "code",
   "execution_count": 8,
   "id": "9877065c",
   "metadata": {},
   "outputs": [
    {
     "data": {
      "text/plain": [
       "TIME_UTC_SECONDS    0\n",
       "TIME_UTC_STR        0\n",
       "AIR_TEMP            0\n",
       "TRACK_TEMP          0\n",
       "HUMIDITY            0\n",
       "PRESSURE            0\n",
       "WIND_SPEED          0\n",
       "WIND_DIRECTION      0\n",
       "RAIN                0\n",
       "LOCATION            0\n",
       "EVENT               0\n",
       "dtype: int64"
      ]
     },
     "execution_count": 8,
     "metadata": {},
     "output_type": "execute_result"
    }
   ],
   "source": [
    "train_weather.isnull().sum()"
   ]
  },
  {
   "cell_type": "code",
   "execution_count": 9,
   "id": "31a89392",
   "metadata": {},
   "outputs": [
    {
     "data": {
      "text/html": [
       "<div>\n",
       "<style scoped>\n",
       "    .dataframe tbody tr th:only-of-type {\n",
       "        vertical-align: middle;\n",
       "    }\n",
       "\n",
       "    .dataframe tbody tr th {\n",
       "        vertical-align: top;\n",
       "    }\n",
       "\n",
       "    .dataframe thead th {\n",
       "        text-align: right;\n",
       "    }\n",
       "</style>\n",
       "<table border=\"1\" class=\"dataframe\">\n",
       "  <thead>\n",
       "    <tr style=\"text-align: right;\">\n",
       "      <th></th>\n",
       "      <th>NUMBER</th>\n",
       "      <th>DRIVER_NUMBER</th>\n",
       "      <th>LAP_NUMBER</th>\n",
       "      <th>LAP_TIME</th>\n",
       "      <th>LAP_IMPROVEMENT</th>\n",
       "      <th>CROSSING_FINISH_LINE_IN_PIT</th>\n",
       "      <th>S1</th>\n",
       "      <th>S1_IMPROVEMENT</th>\n",
       "      <th>S2</th>\n",
       "      <th>S2_IMPROVEMENT</th>\n",
       "      <th>...</th>\n",
       "      <th>S1_LARGE</th>\n",
       "      <th>S2_LARGE</th>\n",
       "      <th>S3_LARGE</th>\n",
       "      <th>DRIVER_NAME</th>\n",
       "      <th>PIT_TIME</th>\n",
       "      <th>GROUP</th>\n",
       "      <th>TEAM</th>\n",
       "      <th>POWER</th>\n",
       "      <th>LOCATION</th>\n",
       "      <th>EVENT</th>\n",
       "    </tr>\n",
       "  </thead>\n",
       "  <tbody>\n",
       "    <tr>\n",
       "      <th>0</th>\n",
       "      <td>10</td>\n",
       "      <td>1</td>\n",
       "      <td>1</td>\n",
       "      <td>NaN</td>\n",
       "      <td>0</td>\n",
       "      <td>NaN</td>\n",
       "      <td>01:10.2</td>\n",
       "      <td>0</td>\n",
       "      <td>35.433</td>\n",
       "      <td>0</td>\n",
       "      <td>...</td>\n",
       "      <td>01:10.2</td>\n",
       "      <td>00:35.4</td>\n",
       "      <td>00:30.7</td>\n",
       "      <td>SB</td>\n",
       "      <td>00:47.0</td>\n",
       "      <td>1.0</td>\n",
       "      <td>JR</td>\n",
       "      <td>NaN</td>\n",
       "      <td>Location 7</td>\n",
       "      <td>Qualifying Group 1</td>\n",
       "    </tr>\n",
       "    <tr>\n",
       "      <th>1</th>\n",
       "      <td>10</td>\n",
       "      <td>1</td>\n",
       "      <td>2</td>\n",
       "      <td>NaN</td>\n",
       "      <td>0</td>\n",
       "      <td>NaN</td>\n",
       "      <td>27.667</td>\n",
       "      <td>0</td>\n",
       "      <td>33.68</td>\n",
       "      <td>0</td>\n",
       "      <td>...</td>\n",
       "      <td>00:27.7</td>\n",
       "      <td>00:33.7</td>\n",
       "      <td>00:37.8</td>\n",
       "      <td>SB</td>\n",
       "      <td>NaN</td>\n",
       "      <td>1.0</td>\n",
       "      <td>JR</td>\n",
       "      <td>250.0</td>\n",
       "      <td>Location 7</td>\n",
       "      <td>Qualifying Group 1</td>\n",
       "    </tr>\n",
       "    <tr>\n",
       "      <th>2</th>\n",
       "      <td>10</td>\n",
       "      <td>1</td>\n",
       "      <td>3</td>\n",
       "      <td>NaN</td>\n",
       "      <td>2</td>\n",
       "      <td>NaN</td>\n",
       "      <td>24.688</td>\n",
       "      <td>2</td>\n",
       "      <td>29.309</td>\n",
       "      <td>2</td>\n",
       "      <td>...</td>\n",
       "      <td>00:24.7</td>\n",
       "      <td>00:29.3</td>\n",
       "      <td>00:27.1</td>\n",
       "      <td>SB</td>\n",
       "      <td>NaN</td>\n",
       "      <td>1.0</td>\n",
       "      <td>JR</td>\n",
       "      <td>250.0</td>\n",
       "      <td>Location 7</td>\n",
       "      <td>Qualifying Group 1</td>\n",
       "    </tr>\n",
       "    <tr>\n",
       "      <th>3</th>\n",
       "      <td>13</td>\n",
       "      <td>1</td>\n",
       "      <td>1</td>\n",
       "      <td>NaN</td>\n",
       "      <td>0</td>\n",
       "      <td>NaN</td>\n",
       "      <td>01:09.1</td>\n",
       "      <td>0</td>\n",
       "      <td>35.705</td>\n",
       "      <td>0</td>\n",
       "      <td>...</td>\n",
       "      <td>01:09.1</td>\n",
       "      <td>00:35.7</td>\n",
       "      <td>00:30.5</td>\n",
       "      <td>ACO</td>\n",
       "      <td>00:44.7</td>\n",
       "      <td>1.0</td>\n",
       "      <td>DSo</td>\n",
       "      <td>NaN</td>\n",
       "      <td>Location 7</td>\n",
       "      <td>Qualifying Group 1</td>\n",
       "    </tr>\n",
       "    <tr>\n",
       "      <th>4</th>\n",
       "      <td>13</td>\n",
       "      <td>1</td>\n",
       "      <td>2</td>\n",
       "      <td>NaN</td>\n",
       "      <td>0</td>\n",
       "      <td>NaN</td>\n",
       "      <td>28.401</td>\n",
       "      <td>0</td>\n",
       "      <td>33.693</td>\n",
       "      <td>0</td>\n",
       "      <td>...</td>\n",
       "      <td>00:28.4</td>\n",
       "      <td>00:33.7</td>\n",
       "      <td>00:36.0</td>\n",
       "      <td>ACO</td>\n",
       "      <td>NaN</td>\n",
       "      <td>1.0</td>\n",
       "      <td>DSo</td>\n",
       "      <td>250.0</td>\n",
       "      <td>Location 7</td>\n",
       "      <td>Qualifying Group 1</td>\n",
       "    </tr>\n",
       "  </tbody>\n",
       "</table>\n",
       "<p>5 rows × 25 columns</p>\n",
       "</div>"
      ],
      "text/plain": [
       "   NUMBER   DRIVER_NUMBER   LAP_NUMBER  LAP_TIME   LAP_IMPROVEMENT  \\\n",
       "0      10               1            1       NaN                 0   \n",
       "1      10               1            2       NaN                 0   \n",
       "2      10               1            3       NaN                 2   \n",
       "3      13               1            1       NaN                 0   \n",
       "4      13               1            2       NaN                 0   \n",
       "\n",
       "   CROSSING_FINISH_LINE_IN_PIT       S1   S1_IMPROVEMENT      S2  \\\n",
       "0                          NaN  01:10.2                0  35.433   \n",
       "1                          NaN   27.667                0   33.68   \n",
       "2                          NaN   24.688                2  29.309   \n",
       "3                          NaN  01:09.1                0  35.705   \n",
       "4                          NaN   28.401                0  33.693   \n",
       "\n",
       "    S2_IMPROVEMENT  ... S1_LARGE  S2_LARGE  S3_LARGE DRIVER_NAME PIT_TIME  \\\n",
       "0                0  ...  01:10.2   00:35.4   00:30.7          SB  00:47.0   \n",
       "1                0  ...  00:27.7   00:33.7   00:37.8          SB      NaN   \n",
       "2                2  ...  00:24.7   00:29.3   00:27.1          SB      NaN   \n",
       "3                0  ...  01:09.1   00:35.7   00:30.5         ACO  00:44.7   \n",
       "4                0  ...  00:28.4   00:33.7   00:36.0         ACO      NaN   \n",
       "\n",
       "  GROUP TEAM  POWER    LOCATION               EVENT  \n",
       "0   1.0   JR    NaN  Location 7  Qualifying Group 1  \n",
       "1   1.0   JR  250.0  Location 7  Qualifying Group 1  \n",
       "2   1.0   JR  250.0  Location 7  Qualifying Group 1  \n",
       "3   1.0  DSo    NaN  Location 7  Qualifying Group 1  \n",
       "4   1.0  DSo  250.0  Location 7  Qualifying Group 1  \n",
       "\n",
       "[5 rows x 25 columns]"
      ]
     },
     "execution_count": 9,
     "metadata": {},
     "output_type": "execute_result"
    }
   ],
   "source": [
    "test = pd.read_csv('test.csv')\n",
    "test.head()"
   ]
  },
  {
   "cell_type": "code",
   "execution_count": 10,
   "id": "5d9e0867",
   "metadata": {},
   "outputs": [
    {
     "data": {
      "text/plain": [
       "(420, 25)"
      ]
     },
     "execution_count": 10,
     "metadata": {},
     "output_type": "execute_result"
    }
   ],
   "source": [
    "test.shape"
   ]
  },
  {
   "cell_type": "code",
   "execution_count": 11,
   "id": "67336b62",
   "metadata": {},
   "outputs": [],
   "source": [
    "test = test.drop('LAP_TIME', axis = 1)"
   ]
  },
  {
   "cell_type": "code",
   "execution_count": 12,
   "id": "306faae2",
   "metadata": {},
   "outputs": [
    {
     "data": {
      "text/plain": [
       "NUMBER                            0\n",
       " DRIVER_NUMBER                    0\n",
       " LAP_NUMBER                       0\n",
       " LAP_IMPROVEMENT                  0\n",
       " CROSSING_FINISH_LINE_IN_PIT    404\n",
       " S1                               0\n",
       " S1_IMPROVEMENT                   0\n",
       " S2                               0\n",
       " S2_IMPROVEMENT                   0\n",
       " S3                               2\n",
       " S3_IMPROVEMENT                   0\n",
       " KPH                              2\n",
       " ELAPSED                          0\n",
       " HOUR                             0\n",
       "S1_LARGE                          0\n",
       "S2_LARGE                          0\n",
       "S3_LARGE                          2\n",
       "DRIVER_NAME                       0\n",
       "PIT_TIME                        265\n",
       "GROUP                            29\n",
       "TEAM                              0\n",
       "POWER                           111\n",
       "LOCATION                          0\n",
       "EVENT                             0\n",
       "dtype: int64"
      ]
     },
     "execution_count": 12,
     "metadata": {},
     "output_type": "execute_result"
    }
   ],
   "source": [
    "test.isnull().sum()"
   ]
  },
  {
   "cell_type": "code",
   "execution_count": 13,
   "id": "411a7e12",
   "metadata": {},
   "outputs": [
    {
     "data": {
      "text/html": [
       "<div>\n",
       "<style scoped>\n",
       "    .dataframe tbody tr th:only-of-type {\n",
       "        vertical-align: middle;\n",
       "    }\n",
       "\n",
       "    .dataframe tbody tr th {\n",
       "        vertical-align: top;\n",
       "    }\n",
       "\n",
       "    .dataframe thead th {\n",
       "        text-align: right;\n",
       "    }\n",
       "</style>\n",
       "<table border=\"1\" class=\"dataframe\">\n",
       "  <thead>\n",
       "    <tr style=\"text-align: right;\">\n",
       "      <th></th>\n",
       "      <th>TIME_UTC_SECONDS</th>\n",
       "      <th>TIME_UTC_STR</th>\n",
       "      <th>AIR_TEMP</th>\n",
       "      <th>TRACK_TEMP</th>\n",
       "      <th>HUMIDITY</th>\n",
       "      <th>PRESSURE</th>\n",
       "      <th>WIND_SPEED</th>\n",
       "      <th>WIND_DIRECTION</th>\n",
       "      <th>RAIN</th>\n",
       "      <th>LOCATION</th>\n",
       "      <th>EVENTS</th>\n",
       "    </tr>\n",
       "  </thead>\n",
       "  <tbody>\n",
       "    <tr>\n",
       "      <th>0</th>\n",
       "      <td>1628920823</td>\n",
       "      <td>14/08/21 6:00</td>\n",
       "      <td>20,35</td>\n",
       "      <td>25,4</td>\n",
       "      <td>63,94</td>\n",
       "      <td>1016,46</td>\n",
       "      <td>1,18</td>\n",
       "      <td>203</td>\n",
       "      <td>0</td>\n",
       "      <td>Location 8</td>\n",
       "      <td>Free Practice 2</td>\n",
       "    </tr>\n",
       "    <tr>\n",
       "      <th>1</th>\n",
       "      <td>1628920883</td>\n",
       "      <td>14/08/21 6:01</td>\n",
       "      <td>20,33</td>\n",
       "      <td>25,4</td>\n",
       "      <td>63,96</td>\n",
       "      <td>1016,48</td>\n",
       "      <td>10,83</td>\n",
       "      <td>204</td>\n",
       "      <td>0</td>\n",
       "      <td>Location 8</td>\n",
       "      <td>Free Practice 2</td>\n",
       "    </tr>\n",
       "    <tr>\n",
       "      <th>2</th>\n",
       "      <td>1628920943</td>\n",
       "      <td>14/08/21 6:02</td>\n",
       "      <td>20,25</td>\n",
       "      <td>25,4</td>\n",
       "      <td>64,04</td>\n",
       "      <td>1016,48</td>\n",
       "      <td>12,53</td>\n",
       "      <td>201</td>\n",
       "      <td>0</td>\n",
       "      <td>Location 8</td>\n",
       "      <td>Free Practice 2</td>\n",
       "    </tr>\n",
       "    <tr>\n",
       "      <th>3</th>\n",
       "      <td>1628921003</td>\n",
       "      <td>14/08/21 6:03</td>\n",
       "      <td>20,24</td>\n",
       "      <td>25,3</td>\n",
       "      <td>64,22</td>\n",
       "      <td>1016,49</td>\n",
       "      <td>2,28</td>\n",
       "      <td>198</td>\n",
       "      <td>0</td>\n",
       "      <td>Location 8</td>\n",
       "      <td>Free Practice 2</td>\n",
       "    </tr>\n",
       "    <tr>\n",
       "      <th>4</th>\n",
       "      <td>1628921063</td>\n",
       "      <td>14/08/21 6:04</td>\n",
       "      <td>20,27</td>\n",
       "      <td>25,1</td>\n",
       "      <td>64,14</td>\n",
       "      <td>1016,5</td>\n",
       "      <td>11,28</td>\n",
       "      <td>204</td>\n",
       "      <td>0</td>\n",
       "      <td>Location 8</td>\n",
       "      <td>Free Practice 2</td>\n",
       "    </tr>\n",
       "  </tbody>\n",
       "</table>\n",
       "</div>"
      ],
      "text/plain": [
       "   TIME_UTC_SECONDS   TIME_UTC_STR AIR_TEMP TRACK_TEMP HUMIDITY PRESSURE  \\\n",
       "0        1628920823  14/08/21 6:00    20,35       25,4    63,94  1016,46   \n",
       "1        1628920883  14/08/21 6:01    20,33       25,4    63,96  1016,48   \n",
       "2        1628920943  14/08/21 6:02    20,25       25,4    64,04  1016,48   \n",
       "3        1628921003  14/08/21 6:03    20,24       25,3    64,22  1016,49   \n",
       "4        1628921063  14/08/21 6:04    20,27       25,1    64,14   1016,5   \n",
       "\n",
       "  WIND_SPEED  WIND_DIRECTION  RAIN    LOCATION           EVENTS  \n",
       "0       1,18             203     0  Location 8  Free Practice 2  \n",
       "1      10,83             204     0  Location 8  Free Practice 2  \n",
       "2      12,53             201     0  Location 8  Free Practice 2  \n",
       "3       2,28             198     0  Location 8  Free Practice 2  \n",
       "4      11,28             204     0  Location 8  Free Practice 2  "
      ]
     },
     "execution_count": 13,
     "metadata": {},
     "output_type": "execute_result"
    }
   ],
   "source": [
    "test_weather = pd.read_csv('test_weather.csv')\n",
    "test_weather.head()"
   ]
  },
  {
   "cell_type": "code",
   "execution_count": 14,
   "id": "74bd8074",
   "metadata": {},
   "outputs": [
    {
     "data": {
      "text/plain": [
       "(167, 11)"
      ]
     },
     "execution_count": 14,
     "metadata": {},
     "output_type": "execute_result"
    }
   ],
   "source": [
    "test_weather.shape"
   ]
  },
  {
   "cell_type": "code",
   "execution_count": 15,
   "id": "462f0bd6",
   "metadata": {},
   "outputs": [
    {
     "data": {
      "text/plain": [
       "TIME_UTC_SECONDS    0\n",
       "TIME_UTC_STR        0\n",
       "AIR_TEMP            0\n",
       "TRACK_TEMP          0\n",
       "HUMIDITY            0\n",
       "PRESSURE            0\n",
       "WIND_SPEED          0\n",
       "WIND_DIRECTION      0\n",
       "RAIN                0\n",
       "LOCATION            0\n",
       "EVENTS              0\n",
       "dtype: int64"
      ]
     },
     "execution_count": 15,
     "metadata": {},
     "output_type": "execute_result"
    }
   ],
   "source": [
    "test_weather.isnull().sum()"
   ]
  },
  {
   "cell_type": "code",
   "execution_count": 16,
   "id": "731d7848",
   "metadata": {},
   "outputs": [
    {
     "name": "stdout",
     "output_type": "stream",
     "text": [
      "<class 'pandas.core.frame.DataFrame'>\n",
      "RangeIndex: 10276 entries, 0 to 10275\n",
      "Data columns (total 25 columns):\n",
      " #   Column                        Non-Null Count  Dtype  \n",
      "---  ------                        --------------  -----  \n",
      " 0   NUMBER                        10276 non-null  int64  \n",
      " 1    DRIVER_NUMBER                10276 non-null  int64  \n",
      " 2    LAP_NUMBER                   10276 non-null  int64  \n",
      " 3   LAP_TIME                      10276 non-null  int64  \n",
      " 4    LAP_IMPROVEMENT              10276 non-null  int64  \n",
      " 5    CROSSING_FINISH_LINE_IN_PIT  1234 non-null   object \n",
      " 6    S1                           10272 non-null  object \n",
      " 7    S1_IMPROVEMENT               10276 non-null  int64  \n",
      " 8    S2                           10268 non-null  object \n",
      " 9    S2_IMPROVEMENT               10276 non-null  int64  \n",
      " 10   S3                           10242 non-null  object \n",
      " 11   S3_IMPROVEMENT               10276 non-null  int64  \n",
      " 12   KPH                          10246 non-null  float64\n",
      " 13   ELAPSED                      10276 non-null  object \n",
      " 14   HOUR                         10276 non-null  object \n",
      " 15  S1_LARGE                      10272 non-null  object \n",
      " 16  S2_LARGE                      10268 non-null  object \n",
      " 17  S3_LARGE                      10242 non-null  object \n",
      " 18  DRIVER_NAME                   10276 non-null  object \n",
      " 19  PIT_TIME                      1898 non-null   object \n",
      " 20  GROUP                         508 non-null    float64\n",
      " 21  TEAM                          10276 non-null  object \n",
      " 22  POWER                         2903 non-null   float64\n",
      " 23  LOCATION                      10276 non-null  object \n",
      " 24  EVENT                         10276 non-null  object \n",
      "dtypes: float64(3), int64(8), object(14)\n",
      "memory usage: 2.0+ MB\n"
     ]
    }
   ],
   "source": [
    "train.info()"
   ]
  },
  {
   "cell_type": "code",
   "execution_count": 17,
   "id": "330ff551",
   "metadata": {},
   "outputs": [
    {
     "data": {
      "text/plain": [
       "Index(['NUMBER', ' DRIVER_NUMBER', ' LAP_NUMBER', 'LAP_TIME',\n",
       "       ' LAP_IMPROVEMENT', ' CROSSING_FINISH_LINE_IN_PIT', ' S1',\n",
       "       ' S1_IMPROVEMENT', ' S2', ' S2_IMPROVEMENT', ' S3', ' S3_IMPROVEMENT',\n",
       "       ' KPH', ' ELAPSED', ' HOUR', 'S1_LARGE', 'S2_LARGE', 'S3_LARGE',\n",
       "       'DRIVER_NAME', 'PIT_TIME', 'GROUP', 'TEAM', 'POWER', 'LOCATION',\n",
       "       'EVENT'],\n",
       "      dtype='object')"
      ]
     },
     "execution_count": 17,
     "metadata": {},
     "output_type": "execute_result"
    }
   ],
   "source": [
    "train.columns"
   ]
  },
  {
   "cell_type": "code",
   "execution_count": 18,
   "id": "c3654d2d",
   "metadata": {},
   "outputs": [
    {
     "data": {
      "text/plain": [
       "Index(['NUMBER', 'DRIVER_NUMBER', 'LAP_NUMBER', 'LAP_TIME', 'LAP_IMPROVEMENT',\n",
       "       'CROSSING_FINISH_LINE_IN_PIT', 'S1', 'S1_IMPROVEMENT', 'S2',\n",
       "       'S2_IMPROVEMENT', 'S3', 'S3_IMPROVEMENT', 'KPH', 'ELAPSED', 'HOUR',\n",
       "       'S1_LARGE', 'S2_LARGE', 'S3_LARGE', 'DRIVER_NAME', 'PIT_TIME', 'GROUP',\n",
       "       'TEAM', 'POWER', 'LOCATION', 'EVENT'],\n",
       "      dtype='object')"
      ]
     },
     "execution_count": 18,
     "metadata": {},
     "output_type": "execute_result"
    }
   ],
   "source": [
    "train.columns = train.columns.str.replace(' ','')\n",
    "train.columns"
   ]
  },
  {
   "cell_type": "code",
   "execution_count": 19,
   "id": "133b0397",
   "metadata": {},
   "outputs": [
    {
     "data": {
      "text/plain": [
       "Index(['NUMBER', 'DRIVER_NUMBER', 'LAP_NUMBER', 'LAP_IMPROVEMENT',\n",
       "       'CROSSING_FINISH_LINE_IN_PIT', 'S1', 'S1_IMPROVEMENT', 'S2',\n",
       "       'S2_IMPROVEMENT', 'S3', 'S3_IMPROVEMENT', 'KPH', 'ELAPSED', 'HOUR',\n",
       "       'S1_LARGE', 'S2_LARGE', 'S3_LARGE', 'DRIVER_NAME', 'PIT_TIME', 'GROUP',\n",
       "       'TEAM', 'POWER', 'LOCATION', 'EVENT'],\n",
       "      dtype='object')"
      ]
     },
     "execution_count": 19,
     "metadata": {},
     "output_type": "execute_result"
    }
   ],
   "source": [
    "test.columns = test.columns.str.replace(' ','')\n",
    "test.columns"
   ]
  },
  {
   "cell_type": "code",
   "execution_count": 20,
   "id": "04d81c15",
   "metadata": {},
   "outputs": [
    {
     "data": {
      "text/plain": [
       "NUMBER                            0\n",
       "DRIVER_NUMBER                     0\n",
       "LAP_NUMBER                        0\n",
       "LAP_TIME                          0\n",
       "LAP_IMPROVEMENT                   0\n",
       "CROSSING_FINISH_LINE_IN_PIT    9042\n",
       "S1                                4\n",
       "S1_IMPROVEMENT                    0\n",
       "S2                                8\n",
       "S2_IMPROVEMENT                    0\n",
       "S3                               34\n",
       "S3_IMPROVEMENT                    0\n",
       "KPH                              30\n",
       "ELAPSED                           0\n",
       "HOUR                              0\n",
       "S1_LARGE                          4\n",
       "S2_LARGE                          8\n",
       "S3_LARGE                         34\n",
       "DRIVER_NAME                       0\n",
       "PIT_TIME                       8378\n",
       "GROUP                          9768\n",
       "TEAM                              0\n",
       "POWER                          7373\n",
       "LOCATION                          0\n",
       "EVENT                             0\n",
       "dtype: int64"
      ]
     },
     "execution_count": 20,
     "metadata": {},
     "output_type": "execute_result"
    }
   ],
   "source": [
    "train.isnull().sum()"
   ]
  },
  {
   "cell_type": "code",
   "execution_count": 21,
   "id": "92dc4c73",
   "metadata": {},
   "outputs": [],
   "source": [
    "newtrain = train.copy()\n",
    "newtest = test.copy()"
   ]
  },
  {
   "cell_type": "code",
   "execution_count": 22,
   "id": "1aeef8a7",
   "metadata": {},
   "outputs": [],
   "source": [
    "newtrain = newtrain.drop(['CROSSING_FINISH_LINE_IN_PIT', 'PIT_TIME', 'GROUP', 'POWER'], axis = 1)\n",
    "newtest = newtest.drop(['CROSSING_FINISH_LINE_IN_PIT', 'PIT_TIME', 'GROUP', 'POWER'], axis = 1)"
   ]
  },
  {
   "cell_type": "raw",
   "id": "782fe2ce",
   "metadata": {},
   "source": [
    "DRIVER_NAME -> Label Encoding"
   ]
  },
  {
   "cell_type": "code",
   "execution_count": 23,
   "id": "92925a5a",
   "metadata": {},
   "outputs": [
    {
     "name": "stdout",
     "output_type": "stream",
     "text": [
      "(10276, 21)\n",
      "(420, 20)\n"
     ]
    }
   ],
   "source": [
    "print(newtrain.shape)\n",
    "print(newtest.shape)"
   ]
  },
  {
   "cell_type": "code",
   "execution_count": 24,
   "id": "8f6fac57",
   "metadata": {},
   "outputs": [],
   "source": [
    "TIME_COLUMNS = ['S1', 'S2', 'S3', 'S1_LARGE', 'S2_LARGE', 'S3_LARGE']\n",
    "for i in TIME_COLUMNS:\n",
    "    newtrain[i] = newtrain[i].fillna(0)\n",
    "    newtest[i] = newtest[i].fillna(0)"
   ]
  },
  {
   "cell_type": "code",
   "execution_count": 25,
   "id": "f42c00d7",
   "metadata": {},
   "outputs": [],
   "source": [
    "def time2seconds(time):\n",
    "  if type(time) != str:\n",
    "    return time\n",
    "  parts = [float(p) for p in time.split(':')]\n",
    "  parts = [p * (60 ** i) for i, p in enumerate(reversed(parts))]\n",
    "  return sum(parts)"
   ]
  },
  {
   "cell_type": "code",
   "execution_count": 26,
   "id": "fd38d51f",
   "metadata": {},
   "outputs": [],
   "source": [
    "TIME_COLUMNS = ['ELAPSED', 'S1', 'S2', 'S3', 'S1_LARGE', 'S2_LARGE', 'S3_LARGE', 'HOUR']"
   ]
  },
  {
   "cell_type": "code",
   "execution_count": 27,
   "id": "b5f8d07d",
   "metadata": {},
   "outputs": [],
   "source": [
    "for i in TIME_COLUMNS:\n",
    "    newtrain[i] = newtrain[i].apply(time2seconds)\n",
    "    newtest[i] = newtest[i].apply(time2seconds)"
   ]
  },
  {
   "cell_type": "code",
   "execution_count": 28,
   "id": "5ee20f93",
   "metadata": {},
   "outputs": [],
   "source": [
    "newtrain['KPH'] = newtrain['KPH'].fillna(newtrain['KPH'].mean())\n",
    "newtest['KPH'] = newtest['KPH'].fillna(newtest['KPH'].mean())"
   ]
  },
  {
   "cell_type": "code",
   "execution_count": 29,
   "id": "46cf45e4",
   "metadata": {},
   "outputs": [
    {
     "data": {
      "text/plain": [
       "NUMBER             0\n",
       "DRIVER_NUMBER      0\n",
       "LAP_NUMBER         0\n",
       "LAP_TIME           0\n",
       "LAP_IMPROVEMENT    0\n",
       "S1                 0\n",
       "S1_IMPROVEMENT     0\n",
       "S2                 0\n",
       "S2_IMPROVEMENT     0\n",
       "S3                 0\n",
       "S3_IMPROVEMENT     0\n",
       "KPH                0\n",
       "ELAPSED            0\n",
       "HOUR               0\n",
       "S1_LARGE           0\n",
       "S2_LARGE           0\n",
       "S3_LARGE           0\n",
       "DRIVER_NAME        0\n",
       "TEAM               0\n",
       "LOCATION           0\n",
       "EVENT              0\n",
       "dtype: int64"
      ]
     },
     "execution_count": 29,
     "metadata": {},
     "output_type": "execute_result"
    }
   ],
   "source": [
    "newtrain.isnull().sum()"
   ]
  },
  {
   "cell_type": "code",
   "execution_count": 30,
   "id": "cfbe2e9b",
   "metadata": {},
   "outputs": [
    {
     "data": {
      "text/plain": [
       "NUMBER             0\n",
       "DRIVER_NUMBER      0\n",
       "LAP_NUMBER         0\n",
       "LAP_IMPROVEMENT    0\n",
       "S1                 0\n",
       "S1_IMPROVEMENT     0\n",
       "S2                 0\n",
       "S2_IMPROVEMENT     0\n",
       "S3                 0\n",
       "S3_IMPROVEMENT     0\n",
       "KPH                0\n",
       "ELAPSED            0\n",
       "HOUR               0\n",
       "S1_LARGE           0\n",
       "S2_LARGE           0\n",
       "S3_LARGE           0\n",
       "DRIVER_NAME        0\n",
       "TEAM               0\n",
       "LOCATION           0\n",
       "EVENT              0\n",
       "dtype: int64"
      ]
     },
     "execution_count": 30,
     "metadata": {},
     "output_type": "execute_result"
    }
   ],
   "source": [
    "newtest.isnull().sum()"
   ]
  },
  {
   "cell_type": "code",
   "execution_count": 31,
   "id": "2a20e07a",
   "metadata": {},
   "outputs": [
    {
     "name": "stdout",
     "output_type": "stream",
     "text": [
      "<class 'pandas.core.frame.DataFrame'>\n",
      "RangeIndex: 10276 entries, 0 to 10275\n",
      "Data columns (total 21 columns):\n",
      " #   Column           Non-Null Count  Dtype  \n",
      "---  ------           --------------  -----  \n",
      " 0   NUMBER           10276 non-null  int64  \n",
      " 1   DRIVER_NUMBER    10276 non-null  int64  \n",
      " 2   LAP_NUMBER       10276 non-null  int64  \n",
      " 3   LAP_TIME         10276 non-null  int64  \n",
      " 4   LAP_IMPROVEMENT  10276 non-null  int64  \n",
      " 5   S1               10276 non-null  float64\n",
      " 6   S1_IMPROVEMENT   10276 non-null  int64  \n",
      " 7   S2               10276 non-null  float64\n",
      " 8   S2_IMPROVEMENT   10276 non-null  int64  \n",
      " 9   S3               10276 non-null  float64\n",
      " 10  S3_IMPROVEMENT   10276 non-null  int64  \n",
      " 11  KPH              10276 non-null  float64\n",
      " 12  ELAPSED          10276 non-null  float64\n",
      " 13  HOUR             10276 non-null  float64\n",
      " 14  S1_LARGE         10276 non-null  float64\n",
      " 15  S2_LARGE         10276 non-null  float64\n",
      " 16  S3_LARGE         10276 non-null  float64\n",
      " 17  DRIVER_NAME      10276 non-null  object \n",
      " 18  TEAM             10276 non-null  object \n",
      " 19  LOCATION         10276 non-null  object \n",
      " 20  EVENT            10276 non-null  object \n",
      "dtypes: float64(9), int64(8), object(4)\n",
      "memory usage: 1.6+ MB\n"
     ]
    }
   ],
   "source": [
    "newtrain.info()"
   ]
  },
  {
   "cell_type": "code",
   "execution_count": 32,
   "id": "dd448f5a",
   "metadata": {},
   "outputs": [
    {
     "data": {
      "text/plain": [
       "TAG          935\n",
       "MAHINDRAd    801\n",
       "ME           470\n",
       "DSo          457\n",
       "ROK          456\n",
       "NIOO         455\n",
       "Ml           448\n",
       "N            441\n",
       "BMWE         438\n",
       "ROKo         438\n",
       "BMWl         435\n",
       "Nt           434\n",
       "NIO          433\n",
       "DS¬â         426\n",
       "JE           425\n",
       "AD           416\n",
       "AR           405\n",
       "JR           400\n",
       "EA           394\n",
       "DRAGONo      383\n",
       "EF           379\n",
       "DRAGONR      213\n",
       "DRAGON√É     194\n",
       "Name: TEAM, dtype: int64"
      ]
     },
     "execution_count": 32,
     "metadata": {},
     "output_type": "execute_result"
    }
   ],
   "source": [
    "newtrain['TEAM'].value_counts()"
   ]
  },
  {
   "cell_type": "code",
   "execution_count": 33,
   "id": "7af568fb",
   "metadata": {},
   "outputs": [
    {
     "data": {
      "text/plain": [
       "MAHINDRAd    38\n",
       "TAG          37\n",
       "Ml           21\n",
       "BMWE         20\n",
       "DS¬â         19\n",
       "N            19\n",
       "DRAGONR      18\n",
       "JR           18\n",
       "EA           17\n",
       "JE           17\n",
       "DSo          17\n",
       "NIO          17\n",
       "EF           17\n",
       "ME           17\n",
       "BMWl         16\n",
       "AD           16\n",
       "NIOO         16\n",
       "DRAGONo      16\n",
       "Nt           16\n",
       "AR           16\n",
       "ROKo         16\n",
       "ROK          16\n",
       "Name: TEAM, dtype: int64"
      ]
     },
     "execution_count": 33,
     "metadata": {},
     "output_type": "execute_result"
    }
   ],
   "source": [
    "newtest['TEAM'].value_counts()"
   ]
  },
  {
   "cell_type": "code",
   "execution_count": 34,
   "id": "2ebdbea9",
   "metadata": {},
   "outputs": [
    {
     "data": {
      "text/plain": [
       "Qualifying Group 2    113\n",
       "Qualifying Group 3    110\n",
       "Qualifying Group 4     99\n",
       "Qualifying Group 1     98\n",
       "Name: EVENT, dtype: int64"
      ]
     },
     "execution_count": 34,
     "metadata": {},
     "output_type": "execute_result"
    }
   ],
   "source": [
    "newtest['EVENT'].value_counts()"
   ]
  },
  {
   "cell_type": "code",
   "execution_count": 35,
   "id": "e961207f",
   "metadata": {},
   "outputs": [
    {
     "data": {
      "text/plain": [
       "Free Practice 1       4396\n",
       "Free Practice 2       2981\n",
       "Free Practice 3       2391\n",
       "Qualifying Group 4     137\n",
       "Qualifying Group 3     129\n",
       "Qualifying Group 2     122\n",
       "Qualifying Group 1     120\n",
       "Name: EVENT, dtype: int64"
      ]
     },
     "execution_count": 35,
     "metadata": {},
     "output_type": "execute_result"
    }
   ],
   "source": [
    "newtrain['EVENT'].value_counts()"
   ]
  },
  {
   "cell_type": "code",
   "execution_count": 36,
   "id": "3a9b0a27",
   "metadata": {},
   "outputs": [
    {
     "data": {
      "text/plain": [
       "Location 8    1845\n",
       "Location 1    1556\n",
       "Location 3    1443\n",
       "Location 6    1353\n",
       "Location 5    1319\n",
       "Location 2    1075\n",
       "Location 7     907\n",
       "Location 4     778\n",
       "Name: LOCATION, dtype: int64"
      ]
     },
     "execution_count": 36,
     "metadata": {},
     "output_type": "execute_result"
    }
   ],
   "source": [
    "newtrain['LOCATION'].value_counts()"
   ]
  },
  {
   "cell_type": "code",
   "execution_count": 37,
   "id": "34634910",
   "metadata": {},
   "outputs": [
    {
     "data": {
      "text/plain": [
       "Location 6    155\n",
       "Location 7    153\n",
       "Location 8    112\n",
       "Name: LOCATION, dtype: int64"
      ]
     },
     "execution_count": 37,
     "metadata": {},
     "output_type": "execute_result"
    }
   ],
   "source": [
    "newtest['LOCATION'].value_counts()"
   ]
  },
  {
   "cell_type": "code",
   "execution_count": 38,
   "id": "56f274d4",
   "metadata": {},
   "outputs": [],
   "source": [
    "newtrain['LOCATION']= newtrain['LOCATION'].apply(lambda x:x.split(' ')[1])"
   ]
  },
  {
   "cell_type": "code",
   "execution_count": 39,
   "id": "68ad9914",
   "metadata": {},
   "outputs": [],
   "source": [
    "newtest['LOCATION']= newtest['LOCATION'].apply(lambda x:x.split(' ')[1])"
   ]
  },
  {
   "cell_type": "code",
   "execution_count": 40,
   "id": "1cb5ef87",
   "metadata": {},
   "outputs": [],
   "source": [
    "newtrain['LOCATION'] = newtrain['LOCATION'].astype(int)\n",
    "newtest['LOCATION'] = newtest['LOCATION'].astype(int)"
   ]
  },
  {
   "cell_type": "code",
   "execution_count": 41,
   "id": "be0e604e",
   "metadata": {},
   "outputs": [],
   "source": [
    "from sklearn.preprocessing import LabelEncoder\n",
    "le = LabelEncoder()"
   ]
  },
  {
   "cell_type": "code",
   "execution_count": 42,
   "id": "09e92342",
   "metadata": {},
   "outputs": [],
   "source": [
    "columns = ['TEAM', 'EVENT', 'DRIVER_NAME']\n",
    "for i in columns:\n",
    "    newtrain[i] = le.fit_transform(newtrain[i])\n",
    "    newtest[i] = le.fit_transform(newtest[i])"
   ]
  },
  {
   "cell_type": "code",
   "execution_count": 43,
   "id": "85c7e35a",
   "metadata": {},
   "outputs": [
    {
     "name": "stdout",
     "output_type": "stream",
     "text": [
      "<class 'pandas.core.frame.DataFrame'>\n",
      "RangeIndex: 10276 entries, 0 to 10275\n",
      "Data columns (total 21 columns):\n",
      " #   Column           Non-Null Count  Dtype  \n",
      "---  ------           --------------  -----  \n",
      " 0   NUMBER           10276 non-null  int64  \n",
      " 1   DRIVER_NUMBER    10276 non-null  int64  \n",
      " 2   LAP_NUMBER       10276 non-null  int64  \n",
      " 3   LAP_TIME         10276 non-null  int64  \n",
      " 4   LAP_IMPROVEMENT  10276 non-null  int64  \n",
      " 5   S1               10276 non-null  float64\n",
      " 6   S1_IMPROVEMENT   10276 non-null  int64  \n",
      " 7   S2               10276 non-null  float64\n",
      " 8   S2_IMPROVEMENT   10276 non-null  int64  \n",
      " 9   S3               10276 non-null  float64\n",
      " 10  S3_IMPROVEMENT   10276 non-null  int64  \n",
      " 11  KPH              10276 non-null  float64\n",
      " 12  ELAPSED          10276 non-null  float64\n",
      " 13  HOUR             10276 non-null  float64\n",
      " 14  S1_LARGE         10276 non-null  float64\n",
      " 15  S2_LARGE         10276 non-null  float64\n",
      " 16  S3_LARGE         10276 non-null  float64\n",
      " 17  DRIVER_NAME      10276 non-null  int32  \n",
      " 18  TEAM             10276 non-null  int32  \n",
      " 19  LOCATION         10276 non-null  int32  \n",
      " 20  EVENT            10276 non-null  int32  \n",
      "dtypes: float64(9), int32(4), int64(8)\n",
      "memory usage: 1.5 MB\n"
     ]
    }
   ],
   "source": [
    "newtrain.info()"
   ]
  },
  {
   "cell_type": "code",
   "execution_count": 44,
   "id": "3a240922",
   "metadata": {},
   "outputs": [
    {
     "name": "stdout",
     "output_type": "stream",
     "text": [
      "<class 'pandas.core.frame.DataFrame'>\n",
      "RangeIndex: 420 entries, 0 to 419\n",
      "Data columns (total 20 columns):\n",
      " #   Column           Non-Null Count  Dtype  \n",
      "---  ------           --------------  -----  \n",
      " 0   NUMBER           420 non-null    int64  \n",
      " 1   DRIVER_NUMBER    420 non-null    int64  \n",
      " 2   LAP_NUMBER       420 non-null    int64  \n",
      " 3   LAP_IMPROVEMENT  420 non-null    int64  \n",
      " 4   S1               420 non-null    float64\n",
      " 5   S1_IMPROVEMENT   420 non-null    int64  \n",
      " 6   S2               420 non-null    float64\n",
      " 7   S2_IMPROVEMENT   420 non-null    int64  \n",
      " 8   S3               420 non-null    float64\n",
      " 9   S3_IMPROVEMENT   420 non-null    int64  \n",
      " 10  KPH              420 non-null    float64\n",
      " 11  ELAPSED          420 non-null    float64\n",
      " 12  HOUR             420 non-null    float64\n",
      " 13  S1_LARGE         420 non-null    float64\n",
      " 14  S2_LARGE         420 non-null    float64\n",
      " 15  S3_LARGE         420 non-null    float64\n",
      " 16  DRIVER_NAME      420 non-null    int32  \n",
      " 17  TEAM             420 non-null    int32  \n",
      " 18  LOCATION         420 non-null    int32  \n",
      " 19  EVENT            420 non-null    int32  \n",
      "dtypes: float64(9), int32(4), int64(7)\n",
      "memory usage: 59.2 KB\n"
     ]
    }
   ],
   "source": [
    "newtest.info()"
   ]
  },
  {
   "cell_type": "code",
   "execution_count": 45,
   "id": "c8863dda",
   "metadata": {},
   "outputs": [],
   "source": [
    "x = newtrain.drop('LAP_TIME', axis = 1)\n",
    "y = newtrain['LAP_TIME']"
   ]
  },
  {
   "cell_type": "code",
   "execution_count": 46,
   "id": "bf430d05",
   "metadata": {},
   "outputs": [],
   "source": [
    "from sklearn.model_selection import train_test_split\n",
    "x_train, x_test, y_train, y_test = train_test_split(x, y, test_size = 0.2, random_state = 1)"
   ]
  },
  {
   "cell_type": "code",
   "execution_count": 47,
   "id": "905ff6b1",
   "metadata": {},
   "outputs": [],
   "source": [
    "from sklearn.metrics import mean_squared_log_error"
   ]
  },
  {
   "cell_type": "code",
   "execution_count": 54,
   "id": "18c576d5",
   "metadata": {},
   "outputs": [
    {
     "name": "stdout",
     "output_type": "stream",
     "text": [
      "0.6145579359626746\n"
     ]
    }
   ],
   "source": [
    "from xgboost import XGBRegressor\n",
    "xgb = XGBRegressor()\n",
    "y_pred = xgb.fit(x_train, y_train).predict(x_test)\n",
    "print(np.sqrt(mean_squared_log_error(y_test, y_pred)))"
   ]
  },
  {
   "cell_type": "code",
   "execution_count": 60,
   "id": "8beae8bc",
   "metadata": {},
   "outputs": [
    {
     "data": {
      "image/png": "[encoded data removed]",
      "text/plain": [
       "<Figure size 720x360 with 1 Axes>"
      ]
     },
     "metadata": {
      "needs_background": "light"
     },
     "output_type": "display_data"
    }
   ],
   "source": [
    "feature_imp = pd.DataFrame(sorted(zip(xgb.feature_importances_, x.columns), reverse=True)[:], columns=['Value','Feature'])\n",
    "plt.figure(figsize=(10,5))\n",
    "sns.barplot(x=\"Value\", y=\"Feature\", data=feature_imp.sort_values(by=\"Value\", ascending=False))\n",
    "plt.title('XGB Features')\n",
    "plt.tight_layout()\n",
    "plt.show()"
   ]
  },
  {
   "cell_type": "code",
   "execution_count": 61,
   "id": "84f3919a",
   "metadata": {},
   "outputs": [],
   "source": [
    "x_train = newtrain.drop('LAP_TIME', axis = 1)\n",
    "y_train = newtrain['LAP_TIME']\n",
    "x_test = newtest"
   ]
  },
  {
   "cell_type": "code",
   "execution_count": 62,
   "id": "ee815568",
   "metadata": {},
   "outputs": [],
   "source": [
    "from xgboost import XGBRegressor\n",
    "xgb = XGBRegressor()\n",
    "y_pred = xgb.fit(x_train, y_train).predict(x_test)\n",
    "solution = pd.DataFrame({'LAP_TIME': y_pred})\n",
    "solution.to_csv('XGB.csv', index = False)"
   ]
  },
  {
   "cell_type": "code",
   "execution_count": 48,
   "id": "eb63bb53",
   "metadata": {},
   "outputs": [],
   "source": [
    "x_train = newtrain.drop(['LAP_TIME', 'S3_LARGE', 'S2_LARGE', 'S1_LARGE', 'DRIVER_NUMBER'], axis = 1)\n",
    "y_train = newtrain['LAP_TIME']\n",
    "x_test = newtest.drop(['S3_LARGE', 'S2_LARGE', 'S1_LARGE', 'DRIVER_NUMBER'], axis = 1)"
   ]
  },
  {
   "cell_type": "code",
   "execution_count": 49,
   "id": "6a89a700",
   "metadata": {},
   "outputs": [],
   "source": [
    "from xgboost import XGBRegressor\n",
    "xgb = XGBRegressor()\n",
    "y_pred = xgb.fit(x_train, y_train).predict(x_test)\n",
    "solution = pd.DataFrame({'LAP_TIME': y_pred})\n",
    "solution.to_csv('Solution.csv', index = False)"
   ]
  },
  {
   "cell_type": "code",
   "execution_count": null,
   "id": "d066875d",
   "metadata": {},
   "outputs": [],
   "source": []
  }
 ],
 "metadata": {
  "kernelspec": {
   "display_name": "Python 3",
   "language": "python",
   "name": "python3"
  },
  "language_info": {
   "codemirror_mode": {
    "name": "ipython",
    "version": 3
   },
   "file_extension": ".py",
   "mimetype": "text/x-python",
   "name": "python",
   "nbconvert_exporter": "python",
   "pygments_lexer": "ipython3",
   "version": "3.8.8"
  }
 },
 "nbformat": 4,
 "nbformat_minor": 5
}
