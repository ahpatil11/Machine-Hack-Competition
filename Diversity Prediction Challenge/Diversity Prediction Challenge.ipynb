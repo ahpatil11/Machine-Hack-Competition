{
 "cells": [
  {
   "cell_type": "code",
   "execution_count": 51,
   "id": "5e7635da-6443-448e-9138-52b47ada35ea",
   "metadata": {},
   "outputs": [],
   "source": [
    "import numpy as np\n",
    "import pandas as pd\n",
    "import matplotlib.pyplot as plt\n",
    "import seaborn as sns\n",
    "from sklearn.preprocessing import LabelEncoder\n",
    "from sklearn.model_selection import train_test_split\n",
    "from sklearn.metrics import mean_squared_error\n",
    "from sklearn.linear_model import LinearRegression, Ridge, Lasso\n",
    "from sklearn.ensemble import RandomForestRegressor, ExtraTreesRegressor, AdaBoostRegressor, GradientBoostingRegressor, BaggingRegressor\n",
    "from lightgbm import LGBMRegressor\n",
    "from xgboost import XGBRegressor\n",
    "from sklearn.feature_selection import SelectKBest, f_regression"
   ]
  },
  {
   "cell_type": "code",
   "execution_count": 52,
   "id": "c1320939-543a-4d04-8b9d-544d2ba88fc7",
   "metadata": {},
   "outputs": [
    {
     "data": {
      "text/html": [
       "<div>\n",
       "<style scoped>\n",
       "    .dataframe tbody tr th:only-of-type {\n",
       "        vertical-align: middle;\n",
       "    }\n",
       "\n",
       "    .dataframe tbody tr th {\n",
       "        vertical-align: top;\n",
       "    }\n",
       "\n",
       "    .dataframe thead th {\n",
       "        text-align: right;\n",
       "    }\n",
       "</style>\n",
       "<table border=\"1\" class=\"dataframe\">\n",
       "  <thead>\n",
       "    <tr style=\"text-align: right;\">\n",
       "      <th></th>\n",
       "      <th>Per Student Funding(USD)</th>\n",
       "      <th>Test Performance(%)</th>\n",
       "      <th>Classroom Ratio</th>\n",
       "      <th>Low-Income Rate (%)</th>\n",
       "      <th>Connectivity Rate (%)</th>\n",
       "      <th>School Dropout (%)</th>\n",
       "      <th>Diversity Rate (%)</th>\n",
       "    </tr>\n",
       "  </thead>\n",
       "  <tbody>\n",
       "    <tr>\n",
       "      <th>0</th>\n",
       "      <td>17995.51486</td>\n",
       "      <td>50.616212</td>\n",
       "      <td>18.023624</td>\n",
       "      <td>68.168177</td>\n",
       "      <td>69.113964</td>\n",
       "      <td>1.604255</td>\n",
       "      <td>48.006275</td>\n",
       "    </tr>\n",
       "    <tr>\n",
       "      <th>1</th>\n",
       "      <td>11689.23744</td>\n",
       "      <td>46.041003</td>\n",
       "      <td>15.191602</td>\n",
       "      <td>46.131005</td>\n",
       "      <td>87.913586</td>\n",
       "      <td>0.740963</td>\n",
       "      <td>56.350199</td>\n",
       "    </tr>\n",
       "    <tr>\n",
       "      <th>2</th>\n",
       "      <td>19779.66264</td>\n",
       "      <td>63.317402</td>\n",
       "      <td>23.372859</td>\n",
       "      <td>37.472473</td>\n",
       "      <td>101.250322</td>\n",
       "      <td>8.900814</td>\n",
       "      <td>68.705602</td>\n",
       "    </tr>\n",
       "    <tr>\n",
       "      <th>3</th>\n",
       "      <td>17837.19393</td>\n",
       "      <td>78.581923</td>\n",
       "      <td>18.092028</td>\n",
       "      <td>48.378386</td>\n",
       "      <td>60.120687</td>\n",
       "      <td>-5.214861</td>\n",
       "      <td>78.297445</td>\n",
       "    </tr>\n",
       "    <tr>\n",
       "      <th>4</th>\n",
       "      <td>15733.39175</td>\n",
       "      <td>92.504305</td>\n",
       "      <td>22.426376</td>\n",
       "      <td>61.897801</td>\n",
       "      <td>88.066737</td>\n",
       "      <td>3.717773</td>\n",
       "      <td>73.792760</td>\n",
       "    </tr>\n",
       "  </tbody>\n",
       "</table>\n",
       "</div>"
      ],
      "text/plain": [
       "   Per Student Funding(USD)   Test Performance(%)  Classroom Ratio  \\\n",
       "0                17995.51486            50.616212        18.023624   \n",
       "1                11689.23744            46.041003        15.191602   \n",
       "2                19779.66264            63.317402        23.372859   \n",
       "3                17837.19393            78.581923        18.092028   \n",
       "4                15733.39175            92.504305        22.426376   \n",
       "\n",
       "   Low-Income Rate (%)  Connectivity Rate (%)  School Dropout (%)  \\\n",
       "0            68.168177              69.113964            1.604255   \n",
       "1            46.131005              87.913586            0.740963   \n",
       "2            37.472473             101.250322            8.900814   \n",
       "3            48.378386              60.120687           -5.214861   \n",
       "4            61.897801              88.066737            3.717773   \n",
       "\n",
       "   Diversity Rate (%)  \n",
       "0           48.006275  \n",
       "1           56.350199  \n",
       "2           68.705602  \n",
       "3           78.297445  \n",
       "4           73.792760  "
      ]
     },
     "execution_count": 52,
     "metadata": {},
     "output_type": "execute_result"
    }
   ],
   "source": [
    "train = pd.read_csv('Train.csv')\n",
    "train.head()"
   ]
  },
  {
   "cell_type": "code",
   "execution_count": 53,
   "id": "40ab6a46-46aa-47c7-98c6-509920bb09dd",
   "metadata": {},
   "outputs": [
    {
     "data": {
      "text/plain": [
       "(14700, 7)"
      ]
     },
     "execution_count": 53,
     "metadata": {},
     "output_type": "execute_result"
    }
   ],
   "source": [
    "train.shape"
   ]
  },
  {
   "cell_type": "code",
   "execution_count": 54,
   "id": "3dd7ffb5-8609-4137-858d-1af7db2b0b58",
   "metadata": {},
   "outputs": [
    {
     "data": {
      "text/plain": [
       "Per Student Funding(USD)     0\n",
       "Test Performance(%)          0\n",
       "Classroom Ratio              0\n",
       "Low-Income Rate (%)          0\n",
       "Connectivity Rate (%)        0\n",
       "School Dropout (%)           0\n",
       "Diversity Rate (%)           0\n",
       "dtype: int64"
      ]
     },
     "execution_count": 54,
     "metadata": {},
     "output_type": "execute_result"
    }
   ],
   "source": [
    "train.isnull().sum()"
   ]
  },
  {
   "cell_type": "code",
   "execution_count": 55,
   "id": "2a900bd9-c41f-4ece-89a5-c9e67f0513aa",
   "metadata": {},
   "outputs": [
    {
     "data": {
      "text/plain": [
       "0"
      ]
     },
     "execution_count": 55,
     "metadata": {},
     "output_type": "execute_result"
    }
   ],
   "source": [
    "train.duplicated().sum()"
   ]
  },
  {
   "cell_type": "code",
   "execution_count": 56,
   "id": "1571696c-601b-41d0-9471-eaf67039173b",
   "metadata": {},
   "outputs": [
    {
     "data": {
      "text/html": [
       "<div>\n",
       "<style scoped>\n",
       "    .dataframe tbody tr th:only-of-type {\n",
       "        vertical-align: middle;\n",
       "    }\n",
       "\n",
       "    .dataframe tbody tr th {\n",
       "        vertical-align: top;\n",
       "    }\n",
       "\n",
       "    .dataframe thead th {\n",
       "        text-align: right;\n",
       "    }\n",
       "</style>\n",
       "<table border=\"1\" class=\"dataframe\">\n",
       "  <thead>\n",
       "    <tr style=\"text-align: right;\">\n",
       "      <th></th>\n",
       "      <th>Per Student Funding(USD)</th>\n",
       "      <th>Test Performance(%)</th>\n",
       "      <th>Classroom Ratio</th>\n",
       "      <th>Low-Income Rate (%)</th>\n",
       "      <th>Connectivity Rate (%)</th>\n",
       "      <th>School Dropout (%)</th>\n",
       "      <th>Diversity Rate (%)</th>\n",
       "    </tr>\n",
       "  </thead>\n",
       "  <tbody>\n",
       "    <tr>\n",
       "      <th>count</th>\n",
       "      <td>14700.000000</td>\n",
       "      <td>14700.000000</td>\n",
       "      <td>14700.000000</td>\n",
       "      <td>14700.000000</td>\n",
       "      <td>14700.000000</td>\n",
       "      <td>14700.000000</td>\n",
       "      <td>14700.000000</td>\n",
       "    </tr>\n",
       "    <tr>\n",
       "      <th>mean</th>\n",
       "      <td>15268.913871</td>\n",
       "      <td>70.228092</td>\n",
       "      <td>20.200533</td>\n",
       "      <td>54.267529</td>\n",
       "      <td>74.610153</td>\n",
       "      <td>7.920468</td>\n",
       "      <td>50.093686</td>\n",
       "    </tr>\n",
       "    <tr>\n",
       "      <th>std</th>\n",
       "      <td>5916.000949</td>\n",
       "      <td>17.632782</td>\n",
       "      <td>5.771417</td>\n",
       "      <td>24.597131</td>\n",
       "      <td>14.445575</td>\n",
       "      <td>4.194316</td>\n",
       "      <td>26.050654</td>\n",
       "    </tr>\n",
       "    <tr>\n",
       "      <th>min</th>\n",
       "      <td>-10593.411860</td>\n",
       "      <td>-2.449913</td>\n",
       "      <td>-1.689505</td>\n",
       "      <td>-40.581485</td>\n",
       "      <td>18.707233</td>\n",
       "      <td>-8.282535</td>\n",
       "      <td>-49.405451</td>\n",
       "    </tr>\n",
       "    <tr>\n",
       "      <th>25%</th>\n",
       "      <td>11415.348818</td>\n",
       "      <td>58.299919</td>\n",
       "      <td>16.356119</td>\n",
       "      <td>37.689892</td>\n",
       "      <td>64.786941</td>\n",
       "      <td>5.078449</td>\n",
       "      <td>32.402684</td>\n",
       "    </tr>\n",
       "    <tr>\n",
       "      <th>50%</th>\n",
       "      <td>15231.718335</td>\n",
       "      <td>69.954503</td>\n",
       "      <td>20.224745</td>\n",
       "      <td>54.221808</td>\n",
       "      <td>74.543051</td>\n",
       "      <td>7.973299</td>\n",
       "      <td>50.343994</td>\n",
       "    </tr>\n",
       "    <tr>\n",
       "      <th>75%</th>\n",
       "      <td>19181.685900</td>\n",
       "      <td>82.100600</td>\n",
       "      <td>24.101931</td>\n",
       "      <td>70.831080</td>\n",
       "      <td>84.366057</td>\n",
       "      <td>10.751051</td>\n",
       "      <td>67.823299</td>\n",
       "    </tr>\n",
       "    <tr>\n",
       "      <th>max</th>\n",
       "      <td>35733.909850</td>\n",
       "      <td>149.743641</td>\n",
       "      <td>44.658630</td>\n",
       "      <td>145.170503</td>\n",
       "      <td>128.694284</td>\n",
       "      <td>23.513298</td>\n",
       "      <td>145.759553</td>\n",
       "    </tr>\n",
       "  </tbody>\n",
       "</table>\n",
       "</div>"
      ],
      "text/plain": [
       "       Per Student Funding(USD)   Test Performance(%)  Classroom Ratio  \\\n",
       "count               14700.000000         14700.000000     14700.000000   \n",
       "mean                15268.913871            70.228092        20.200533   \n",
       "std                  5916.000949            17.632782         5.771417   \n",
       "min                -10593.411860            -2.449913        -1.689505   \n",
       "25%                 11415.348818            58.299919        16.356119   \n",
       "50%                 15231.718335            69.954503        20.224745   \n",
       "75%                 19181.685900            82.100600        24.101931   \n",
       "max                 35733.909850           149.743641        44.658630   \n",
       "\n",
       "       Low-Income Rate (%)  Connectivity Rate (%)  School Dropout (%)  \\\n",
       "count         14700.000000           14700.000000        14700.000000   \n",
       "mean             54.267529              74.610153            7.920468   \n",
       "std              24.597131              14.445575            4.194316   \n",
       "min             -40.581485              18.707233           -8.282535   \n",
       "25%              37.689892              64.786941            5.078449   \n",
       "50%              54.221808              74.543051            7.973299   \n",
       "75%              70.831080              84.366057           10.751051   \n",
       "max             145.170503             128.694284           23.513298   \n",
       "\n",
       "       Diversity Rate (%)  \n",
       "count        14700.000000  \n",
       "mean            50.093686  \n",
       "std             26.050654  \n",
       "min            -49.405451  \n",
       "25%             32.402684  \n",
       "50%             50.343994  \n",
       "75%             67.823299  \n",
       "max            145.759553  "
      ]
     },
     "execution_count": 56,
     "metadata": {},
     "output_type": "execute_result"
    }
   ],
   "source": [
    "train.describe()"
   ]
  },
  {
   "cell_type": "code",
   "execution_count": 57,
   "id": "1aedbc21-912b-4a39-97bf-9642be098924",
   "metadata": {},
   "outputs": [
    {
     "data": {
      "text/html": [
       "<div>\n",
       "<style scoped>\n",
       "    .dataframe tbody tr th:only-of-type {\n",
       "        vertical-align: middle;\n",
       "    }\n",
       "\n",
       "    .dataframe tbody tr th {\n",
       "        vertical-align: top;\n",
       "    }\n",
       "\n",
       "    .dataframe thead th {\n",
       "        text-align: right;\n",
       "    }\n",
       "</style>\n",
       "<table border=\"1\" class=\"dataframe\">\n",
       "  <thead>\n",
       "    <tr style=\"text-align: right;\">\n",
       "      <th></th>\n",
       "      <th>Per Student Funding(USD)</th>\n",
       "      <th>Test Performance(%)</th>\n",
       "      <th>Classroom Ratio</th>\n",
       "      <th>Low-Income Rate (%)</th>\n",
       "      <th>Connectivity Rate (%)</th>\n",
       "      <th>School Dropout (%)</th>\n",
       "      <th>Diversity Rate (%)</th>\n",
       "    </tr>\n",
       "  </thead>\n",
       "  <tbody>\n",
       "    <tr>\n",
       "      <th>0</th>\n",
       "      <td>15724.388930</td>\n",
       "      <td>60.806753</td>\n",
       "      <td>14.702170</td>\n",
       "      <td>71.002171</td>\n",
       "      <td>76.072673</td>\n",
       "      <td>10.964144</td>\n",
       "      <td>NaN</td>\n",
       "    </tr>\n",
       "    <tr>\n",
       "      <th>1</th>\n",
       "      <td>14740.026620</td>\n",
       "      <td>107.979847</td>\n",
       "      <td>24.033725</td>\n",
       "      <td>84.329638</td>\n",
       "      <td>71.712362</td>\n",
       "      <td>6.762501</td>\n",
       "      <td>NaN</td>\n",
       "    </tr>\n",
       "    <tr>\n",
       "      <th>2</th>\n",
       "      <td>3520.555536</td>\n",
       "      <td>51.857149</td>\n",
       "      <td>19.245079</td>\n",
       "      <td>64.562618</td>\n",
       "      <td>85.788766</td>\n",
       "      <td>11.032276</td>\n",
       "      <td>NaN</td>\n",
       "    </tr>\n",
       "    <tr>\n",
       "      <th>3</th>\n",
       "      <td>18508.990270</td>\n",
       "      <td>55.190317</td>\n",
       "      <td>13.346302</td>\n",
       "      <td>116.179627</td>\n",
       "      <td>95.158741</td>\n",
       "      <td>10.833485</td>\n",
       "      <td>NaN</td>\n",
       "    </tr>\n",
       "    <tr>\n",
       "      <th>4</th>\n",
       "      <td>14932.335600</td>\n",
       "      <td>102.821108</td>\n",
       "      <td>19.018740</td>\n",
       "      <td>68.174215</td>\n",
       "      <td>77.436701</td>\n",
       "      <td>8.040940</td>\n",
       "      <td>NaN</td>\n",
       "    </tr>\n",
       "  </tbody>\n",
       "</table>\n",
       "</div>"
      ],
      "text/plain": [
       "   Per Student Funding(USD)   Test Performance(%)  Classroom Ratio  \\\n",
       "0               15724.388930            60.806753        14.702170   \n",
       "1               14740.026620           107.979847        24.033725   \n",
       "2                3520.555536            51.857149        19.245079   \n",
       "3               18508.990270            55.190317        13.346302   \n",
       "4               14932.335600           102.821108        19.018740   \n",
       "\n",
       "   Low-Income Rate (%)  Connectivity Rate (%)  School Dropout (%)  \\\n",
       "0            71.002171              76.072673           10.964144   \n",
       "1            84.329638              71.712362            6.762501   \n",
       "2            64.562618              85.788766           11.032276   \n",
       "3           116.179627              95.158741           10.833485   \n",
       "4            68.174215              77.436701            8.040940   \n",
       "\n",
       "   Diversity Rate (%)  \n",
       "0                 NaN  \n",
       "1                 NaN  \n",
       "2                 NaN  \n",
       "3                 NaN  \n",
       "4                 NaN  "
      ]
     },
     "execution_count": 57,
     "metadata": {},
     "output_type": "execute_result"
    }
   ],
   "source": [
    "test = pd.read_csv('Test.csv')\n",
    "test.head()"
   ]
  },
  {
   "cell_type": "code",
   "execution_count": 58,
   "id": "14ae015d-f65a-476b-a985-5e06568d7d5c",
   "metadata": {},
   "outputs": [
    {
     "data": {
      "text/plain": [
       "(300, 7)"
      ]
     },
     "execution_count": 58,
     "metadata": {},
     "output_type": "execute_result"
    }
   ],
   "source": [
    "test.shape"
   ]
  },
  {
   "cell_type": "code",
   "execution_count": 59,
   "id": "8bfdf997-ac4f-46d6-8010-d31accca9d8c",
   "metadata": {},
   "outputs": [
    {
     "data": {
      "text/plain": [
       "Per Student Funding(USD)       0\n",
       "Test Performance(%)            0\n",
       "Classroom Ratio                0\n",
       "Low-Income Rate (%)            0\n",
       "Connectivity Rate (%)          0\n",
       "School Dropout (%)             0\n",
       "Diversity Rate (%)           300\n",
       "dtype: int64"
      ]
     },
     "execution_count": 59,
     "metadata": {},
     "output_type": "execute_result"
    }
   ],
   "source": [
    "test.isnull().sum()"
   ]
  },
  {
   "cell_type": "code",
   "execution_count": 60,
   "id": "4fb1c288-0db9-4708-96b4-c868a033384c",
   "metadata": {},
   "outputs": [
    {
     "data": {
      "text/plain": [
       "0"
      ]
     },
     "execution_count": 60,
     "metadata": {},
     "output_type": "execute_result"
    }
   ],
   "source": [
    "test.duplicated().sum()"
   ]
  },
  {
   "cell_type": "code",
   "execution_count": 61,
   "id": "053284ad-b761-4ea2-a3f4-683946352326",
   "metadata": {},
   "outputs": [
    {
     "data": {
      "text/plain": [
       "(15000, 7)"
      ]
     },
     "execution_count": 61,
     "metadata": {},
     "output_type": "execute_result"
    }
   ],
   "source": [
    "combined = pd.concat([train, test], axis = 0)\n",
    "combined.shape"
   ]
  },
  {
   "cell_type": "code",
   "execution_count": 62,
   "id": "9657a053-39d1-4f8c-81f4-2f0dac053116",
   "metadata": {},
   "outputs": [
    {
     "name": "stderr",
     "output_type": "stream",
     "text": [
      "C:\\Users\\ahpat\\AppData\\Local\\Temp\\ipykernel_16476\\395857070.py:1: UserWarning: \n",
      "\n",
      "`distplot` is a deprecated function and will be removed in seaborn v0.14.0.\n",
      "\n",
      "Please adapt your code to use either `displot` (a figure-level function with\n",
      "similar flexibility) or `histplot` (an axes-level function for histograms).\n",
      "\n",
      "For a guide to updating your code to use the new functions, please see\n",
      "https://gist.github.com/mwaskom/de44147ed2974457ad6372750bbe5751\n",
      "\n",
      "  sns.distplot(train['Diversity Rate (%)'], kde = True)\n"
     ]
    },
    {
     "data": {
      "text/plain": [
       "<Axes: xlabel='Diversity Rate (%)', ylabel='Density'>"
      ]
     },
     "execution_count": 62,
     "metadata": {},
     "output_type": "execute_result"
    },
    {
     "data": {
      "image/png": "[encoded data removed]",
      "text/plain": [
       "<Figure size 640x480 with 1 Axes>"
      ]
     },
     "metadata": {},
     "output_type": "display_data"
    }
   ],
   "source": [
    "sns.distplot(train['Diversity Rate (%)'], kde = True)"
   ]
  },
  {
   "cell_type": "code",
   "execution_count": 63,
   "id": "68b518eb-7b70-42a6-95a8-0fa52e26b971",
   "metadata": {},
   "outputs": [],
   "source": [
    "input_variables = combined.drop('Diversity Rate (%)', axis = 1)"
   ]
  },
  {
   "cell_type": "code",
   "execution_count": 64,
   "id": "2b707e0a-ca06-45af-b3dc-ab1741c033d2",
   "metadata": {},
   "outputs": [],
   "source": [
    "def replace_outliers(df, column):\n",
    "    q1 = df[column].quantile(0.25)\n",
    "    q3 = df[column].quantile(0.75)\n",
    "    iqr = q3-q1\n",
    "    lower = q1-1.5*iqr\n",
    "    upper = q3+1.5*iqr\n",
    "    median_value = df[column].median()\n",
    "    df[column] = np.where((df[column]<lower)|(df[column]>upper), median_value, df[column])\n",
    "    return df"
   ]
  },
  {
   "cell_type": "code",
   "execution_count": 65,
   "id": "5888694b-1185-423a-aea8-b9242036da92",
   "metadata": {},
   "outputs": [],
   "source": [
    "for col in input_variables.columns:\n",
    "    concat_df = replace_outliers(combined, col)"
   ]
  },
  {
   "cell_type": "code",
   "execution_count": 66,
   "id": "5ebbdc84-d844-4743-9002-61160f2ed4ac",
   "metadata": {},
   "outputs": [
    {
     "data": {
      "image/png": "[encoded data removed]",
      "text/plain": [
       "<Figure size 1500x500 with 6 Axes>"
      ]
     },
     "metadata": {},
     "output_type": "display_data"
    }
   ],
   "source": [
    "fig, axes = plt.subplots(2, 3, figsize=(15,5))\n",
    "axes = axes.flatten()\n",
    "\n",
    "for i, col in enumerate(input_variables.columns):\n",
    "    sns.boxplot(data = combined, y=col, ax=axes[i])\n",
    "    axes[i].set_title(f'Bloxplot of {col}')\n",
    "\n",
    "plt.tight_layout()\n",
    "plt.show()"
   ]
  },
  {
   "cell_type": "code",
   "execution_count": 67,
   "id": "e447dac7-5712-452d-98ce-55be11c9732b",
   "metadata": {},
   "outputs": [],
   "source": [
    "combined['funding_performance_ratio'] = combined['Per Student Funding(USD) '] / (combined['Test Performance(%)'] + 1e-5)\n",
    "combined['dropout_low_income_ratio'] = combined['School Dropout (%)'] / (combined['Low-Income Rate (%)'] + 1e-5)\n",
    "combined['connectivity_classroom_interaction'] = combined['Connectivity Rate (%)'] * combined['Classroom Ratio']\n",
    "combined['funding_per_classroom'] = combined['Per Student Funding(USD) '] / (combined['Classroom Ratio'] + 1e-5)\n",
    "combined['performance_connectivity'] = combined['Test Performance(%)'] * combined['Connectivity Rate (%)']\n",
    "combined['dropout_squared'] = combined['School Dropout (%)'] ** 2\n",
    "combined['inverse_low_income'] = 1 / (combined['Low-Income Rate (%)'] + 1e-5)\n",
    "combined['funding_dropout_interaction'] = combined['Per Student Funding(USD) '] * combined['School Dropout (%)']\n",
    "combined['connectivity_dropout_ratio'] = combined['Connectivity Rate (%)'] / (combined['School Dropout (%)'] + 1e-5)\n",
    "combined['performance_per_classroom'] = combined['Test Performance(%)'] / (combined['Classroom Ratio'] + 1e-5)\n",
    "combined['socio_economic_stress'] = combined['Low-Income Rate (%)'] + combined['School Dropout (%)']"
   ]
  },
  {
   "cell_type": "code",
   "execution_count": 68,
   "id": "16cb26ff-8ddb-4f66-bda2-c880673bb82f",
   "metadata": {},
   "outputs": [],
   "source": [
    "newtrain = combined.iloc[0:14700, :]\n",
    "newtest = combined.iloc[14700:, :].drop('Diversity Rate (%)', axis = 1)"
   ]
  },
  {
   "cell_type": "code",
   "execution_count": 69,
   "id": "387fac7b-710c-437c-b5e4-759cc5657cbf",
   "metadata": {},
   "outputs": [
    {
     "data": {
      "text/html": [
       "<div>\n",
       "<style scoped>\n",
       "    .dataframe tbody tr th:only-of-type {\n",
       "        vertical-align: middle;\n",
       "    }\n",
       "\n",
       "    .dataframe tbody tr th {\n",
       "        vertical-align: top;\n",
       "    }\n",
       "\n",
       "    .dataframe thead th {\n",
       "        text-align: right;\n",
       "    }\n",
       "</style>\n",
       "<table border=\"1\" class=\"dataframe\">\n",
       "  <thead>\n",
       "    <tr style=\"text-align: right;\">\n",
       "      <th></th>\n",
       "      <th>Per Student Funding(USD)</th>\n",
       "      <th>Test Performance(%)</th>\n",
       "      <th>Classroom Ratio</th>\n",
       "      <th>Low-Income Rate (%)</th>\n",
       "      <th>Connectivity Rate (%)</th>\n",
       "      <th>School Dropout (%)</th>\n",
       "      <th>Diversity Rate (%)</th>\n",
       "      <th>funding_performance_ratio</th>\n",
       "      <th>dropout_low_income_ratio</th>\n",
       "      <th>connectivity_classroom_interaction</th>\n",
       "      <th>funding_per_classroom</th>\n",
       "      <th>performance_connectivity</th>\n",
       "      <th>dropout_squared</th>\n",
       "      <th>inverse_low_income</th>\n",
       "      <th>funding_dropout_interaction</th>\n",
       "      <th>connectivity_dropout_ratio</th>\n",
       "      <th>performance_per_classroom</th>\n",
       "      <th>socio_economic_stress</th>\n",
       "    </tr>\n",
       "  </thead>\n",
       "  <tbody>\n",
       "    <tr>\n",
       "      <th>0</th>\n",
       "      <td>17995.51486</td>\n",
       "      <td>50.616212</td>\n",
       "      <td>18.023624</td>\n",
       "      <td>68.168177</td>\n",
       "      <td>69.113964</td>\n",
       "      <td>1.604255</td>\n",
       "      <td>48.006275</td>\n",
       "      <td>355.528608</td>\n",
       "      <td>0.023534</td>\n",
       "      <td>1245.684115</td>\n",
       "      <td>998.439859</td>\n",
       "      <td>3498.287022</td>\n",
       "      <td>2.573635</td>\n",
       "      <td>0.014670</td>\n",
       "      <td>28869.398219</td>\n",
       "      <td>43.081383</td>\n",
       "      <td>2.808324</td>\n",
       "      <td>69.772432</td>\n",
       "    </tr>\n",
       "    <tr>\n",
       "      <th>1</th>\n",
       "      <td>11689.23744</td>\n",
       "      <td>46.041003</td>\n",
       "      <td>15.191602</td>\n",
       "      <td>46.131005</td>\n",
       "      <td>87.913586</td>\n",
       "      <td>0.740963</td>\n",
       "      <td>56.350199</td>\n",
       "      <td>253.887496</td>\n",
       "      <td>0.016062</td>\n",
       "      <td>1335.548215</td>\n",
       "      <td>769.453397</td>\n",
       "      <td>4047.629677</td>\n",
       "      <td>0.549026</td>\n",
       "      <td>0.021677</td>\n",
       "      <td>8661.290770</td>\n",
       "      <td>118.646163</td>\n",
       "      <td>3.030686</td>\n",
       "      <td>46.871968</td>\n",
       "    </tr>\n",
       "    <tr>\n",
       "      <th>2</th>\n",
       "      <td>19779.66264</td>\n",
       "      <td>63.317402</td>\n",
       "      <td>23.372859</td>\n",
       "      <td>37.472473</td>\n",
       "      <td>101.250322</td>\n",
       "      <td>8.900814</td>\n",
       "      <td>68.705602</td>\n",
       "      <td>312.388995</td>\n",
       "      <td>0.237529</td>\n",
       "      <td>2366.509445</td>\n",
       "      <td>846.265943</td>\n",
       "      <td>6410.907305</td>\n",
       "      <td>79.224492</td>\n",
       "      <td>0.026686</td>\n",
       "      <td>176055.100673</td>\n",
       "      <td>11.375387</td>\n",
       "      <td>2.709013</td>\n",
       "      <td>46.373287</td>\n",
       "    </tr>\n",
       "    <tr>\n",
       "      <th>3</th>\n",
       "      <td>17837.19393</td>\n",
       "      <td>78.581923</td>\n",
       "      <td>18.092028</td>\n",
       "      <td>48.378386</td>\n",
       "      <td>60.120687</td>\n",
       "      <td>7.976986</td>\n",
       "      <td>78.297445</td>\n",
       "      <td>226.988486</td>\n",
       "      <td>0.164887</td>\n",
       "      <td>1087.705150</td>\n",
       "      <td>985.914030</td>\n",
       "      <td>4724.399206</td>\n",
       "      <td>63.632302</td>\n",
       "      <td>0.020670</td>\n",
       "      <td>142287.041844</td>\n",
       "      <td>7.536758</td>\n",
       "      <td>4.343453</td>\n",
       "      <td>56.355372</td>\n",
       "    </tr>\n",
       "    <tr>\n",
       "      <th>4</th>\n",
       "      <td>15733.39175</td>\n",
       "      <td>92.504305</td>\n",
       "      <td>22.426376</td>\n",
       "      <td>61.897801</td>\n",
       "      <td>88.066737</td>\n",
       "      <td>3.717773</td>\n",
       "      <td>73.792760</td>\n",
       "      <td>170.082787</td>\n",
       "      <td>0.060063</td>\n",
       "      <td>1975.017762</td>\n",
       "      <td>701.557158</td>\n",
       "      <td>8146.552262</td>\n",
       "      <td>13.821834</td>\n",
       "      <td>0.016156</td>\n",
       "      <td>58493.173792</td>\n",
       "      <td>23.687973</td>\n",
       "      <td>4.124798</td>\n",
       "      <td>65.615574</td>\n",
       "    </tr>\n",
       "  </tbody>\n",
       "</table>\n",
       "</div>"
      ],
      "text/plain": [
       "   Per Student Funding(USD)   Test Performance(%)  Classroom Ratio  \\\n",
       "0                17995.51486            50.616212        18.023624   \n",
       "1                11689.23744            46.041003        15.191602   \n",
       "2                19779.66264            63.317402        23.372859   \n",
       "3                17837.19393            78.581923        18.092028   \n",
       "4                15733.39175            92.504305        22.426376   \n",
       "\n",
       "   Low-Income Rate (%)  Connectivity Rate (%)  School Dropout (%)  \\\n",
       "0            68.168177              69.113964            1.604255   \n",
       "1            46.131005              87.913586            0.740963   \n",
       "2            37.472473             101.250322            8.900814   \n",
       "3            48.378386              60.120687            7.976986   \n",
       "4            61.897801              88.066737            3.717773   \n",
       "\n",
       "   Diversity Rate (%)  funding_performance_ratio  dropout_low_income_ratio  \\\n",
       "0           48.006275                 355.528608                  0.023534   \n",
       "1           56.350199                 253.887496                  0.016062   \n",
       "2           68.705602                 312.388995                  0.237529   \n",
       "3           78.297445                 226.988486                  0.164887   \n",
       "4           73.792760                 170.082787                  0.060063   \n",
       "\n",
       "   connectivity_classroom_interaction  funding_per_classroom  \\\n",
       "0                         1245.684115             998.439859   \n",
       "1                         1335.548215             769.453397   \n",
       "2                         2366.509445             846.265943   \n",
       "3                         1087.705150             985.914030   \n",
       "4                         1975.017762             701.557158   \n",
       "\n",
       "   performance_connectivity  dropout_squared  inverse_low_income  \\\n",
       "0               3498.287022         2.573635            0.014670   \n",
       "1               4047.629677         0.549026            0.021677   \n",
       "2               6410.907305        79.224492            0.026686   \n",
       "3               4724.399206        63.632302            0.020670   \n",
       "4               8146.552262        13.821834            0.016156   \n",
       "\n",
       "   funding_dropout_interaction  connectivity_dropout_ratio  \\\n",
       "0                 28869.398219                   43.081383   \n",
       "1                  8661.290770                  118.646163   \n",
       "2                176055.100673                   11.375387   \n",
       "3                142287.041844                    7.536758   \n",
       "4                 58493.173792                   23.687973   \n",
       "\n",
       "   performance_per_classroom  socio_economic_stress  \n",
       "0                   2.808324              69.772432  \n",
       "1                   3.030686              46.871968  \n",
       "2                   2.709013              46.373287  \n",
       "3                   4.343453              56.355372  \n",
       "4                   4.124798              65.615574  "
      ]
     },
     "execution_count": 69,
     "metadata": {},
     "output_type": "execute_result"
    }
   ],
   "source": [
    "newtrain.head()"
   ]
  },
  {
   "cell_type": "code",
   "execution_count": 70,
   "id": "6aaa1898-cde7-4553-a66b-92553b6211dd",
   "metadata": {},
   "outputs": [
    {
     "data": {
      "text/plain": [
       "(14700, 18)"
      ]
     },
     "execution_count": 70,
     "metadata": {},
     "output_type": "execute_result"
    }
   ],
   "source": [
    "newtrain.shape"
   ]
  },
  {
   "cell_type": "code",
   "execution_count": 95,
   "id": "6bb06111-79b5-4626-a90f-b202f9dd1b22",
   "metadata": {},
   "outputs": [
    {
     "data": {
      "text/plain": [
       "(300, 17)"
      ]
     },
     "execution_count": 95,
     "metadata": {},
     "output_type": "execute_result"
    }
   ],
   "source": [
    "newtest.shape"
   ]
  },
  {
   "cell_type": "code",
   "execution_count": 97,
   "id": "6aa0d9ac-f9de-4d66-a6d8-b87cd9de5e4a",
   "metadata": {},
   "outputs": [
    {
     "name": "stdout",
     "output_type": "stream",
     "text": [
      "Top 12 selected features:\n",
      "Index(['Per Student Funding(USD) ', 'Test Performance(%)',\n",
      "       'Low-Income Rate (%)', 'Connectivity Rate (%)', 'School Dropout (%)',\n",
      "       'funding_performance_ratio', 'dropout_low_income_ratio',\n",
      "       'funding_per_classroom', 'performance_connectivity', 'dropout_squared',\n",
      "       'connectivity_dropout_ratio', 'socio_economic_stress'],\n",
      "      dtype='object')\n"
     ]
    }
   ],
   "source": [
    "X = newtrain.drop(columns=['Diversity Rate (%)'])\n",
    "y = newtrain['Diversity Rate (%)']\n",
    "k = 12  \n",
    "selector = SelectKBest(score_func=f_regression, k=k)\n",
    "selector.fit(X, y)\n",
    "mask = selector.get_support()\n",
    "selected_features = X.columns[mask]\n",
    "print(f\"Top {k} selected features:\")\n",
    "print(selected_features)"
   ]
  },
  {
   "cell_type": "code",
   "execution_count": 99,
   "id": "a3a23bae-d96c-4237-bc86-a22eb0d9c41d",
   "metadata": {},
   "outputs": [
    {
     "name": "stdout",
     "output_type": "stream",
     "text": [
      "Diversity Rate (%)                    1.000000\n",
      "funding_per_classroom                 0.005865\n",
      "Per Student Funding(USD)              0.005528\n",
      "funding_performance_ratio             0.004618\n",
      "Test Performance(%)                   0.003530\n",
      "Classroom Ratio                       0.002189\n",
      "funding_dropout_interaction           0.002032\n",
      "performance_per_classroom             0.001389\n",
      "inverse_low_income                   -0.000981\n",
      "connectivity_classroom_interaction   -0.002676\n",
      "dropout_low_income_ratio             -0.002821\n",
      "dropout_squared                      -0.003197\n",
      "School Dropout (%)                   -0.004091\n",
      "performance_connectivity             -0.005918\n",
      "Low-Income Rate (%)                  -0.006769\n",
      "socio_economic_stress                -0.007325\n",
      "connectivity_dropout_ratio           -0.009977\n",
      "Connectivity Rate (%)                -0.011872\n",
      "Name: Diversity Rate (%), dtype: float64\n"
     ]
    }
   ],
   "source": [
    "correlation_matrix = newtrain.corr()\n",
    "target_corr = correlation_matrix[\"Diversity Rate (%)\"].sort_values(ascending=False)\n",
    "print(target_corr)"
   ]
  },
  {
   "cell_type": "code",
   "execution_count": 103,
   "id": "1f0b9dad-ad95-40ca-b33d-d65fbf99e98b",
   "metadata": {},
   "outputs": [],
   "source": [
    "x = newtrain[['funding_per_classroom', 'Per Student Funding(USD) ', 'funding_performance_ratio', 'Test Performance(%)', 'Classroom Ratio', \n",
    "             'funding_dropout_interaction', 'performance_per_classroom']]\n",
    "y = newtrain['Diversity Rate (%)']"
   ]
  },
  {
   "cell_type": "code",
   "execution_count": 105,
   "id": "225fcc26-6639-4631-9a21-8ffc477e9767",
   "metadata": {},
   "outputs": [],
   "source": [
    "x_train, x_test, y_train, y_test = train_test_split(x, y, test_size = 0.2, random_state = 1)"
   ]
  },
  {
   "cell_type": "code",
   "execution_count": 107,
   "id": "989f5c74-1103-4dae-ac45-89a961ab8c91",
   "metadata": {},
   "outputs": [],
   "source": [
    "models = {'Linear Regression': LinearRegression(), 'Random Forest': RandomForestRegressor(),\n",
    "         'Bagging': BaggingRegressor(), 'Extra Tree': ExtraTreesRegressor(), 'LightGBM': LGBMRegressor(),\n",
    "         'Gradient Boosting': GradientBoostingRegressor(), 'Adaboost': AdaBoostRegressor(),\n",
    "         'XGB': XGBRegressor(), 'lasso': Lasso(), 'ridge' : Ridge()}"
   ]
  },
  {
   "cell_type": "code",
   "execution_count": 109,
   "id": "ae238477-7900-4e87-9eed-57aa87ef01f2",
   "metadata": {},
   "outputs": [],
   "source": [
    "def evaluate_models(x_train, x_test, y_train, y_test, models):\n",
    "    results = {}\n",
    "    for name, model in models.items():\n",
    "        predictions = model.fit(x_train, y_train).predict(x_test)\n",
    "        accuracy = np.sqrt(mean_squared_error(y_test, predictions))\n",
    "        results[name] = accuracy\n",
    "    return results"
   ]
  },
  {
   "cell_type": "code",
   "execution_count": 111,
   "id": "10eb0f4b-452d-49b7-ad6e-c234d775ba75",
   "metadata": {},
   "outputs": [
    {
     "name": "stdout",
     "output_type": "stream",
     "text": [
      "[LightGBM] [Warning] Found whitespace in feature_names, replace with underlines\n",
      "[LightGBM] [Info] Auto-choosing col-wise multi-threading, the overhead of testing was 0.000189 seconds.\n",
      "You can set `force_col_wise=true` to remove the overhead.\n",
      "[LightGBM] [Info] Total Bins 1785\n",
      "[LightGBM] [Info] Number of data points in the train set: 11760, number of used features: 7\n",
      "[LightGBM] [Info] Start training from score 50.024266\n"
     ]
    }
   ],
   "source": [
    "results = evaluate_models(x_train, x_test, y_train, y_test, models)"
   ]
  },
  {
   "cell_type": "code",
   "execution_count": 112,
   "id": "57e6571e-134c-4b22-85b0-8051086224ba",
   "metadata": {},
   "outputs": [],
   "source": [
    "best_model_name = min(results, key = results.get)\n",
    "best_model = models[best_model_name]"
   ]
  },
  {
   "cell_type": "code",
   "execution_count": 113,
   "id": "109a14ad-2b49-4922-9503-f23d7c3edd4f",
   "metadata": {},
   "outputs": [
    {
     "name": "stdout",
     "output_type": "stream",
     "text": [
      "best model is ridge with r2_square 26.20927796951063\n"
     ]
    }
   ],
   "source": [
    "print(f\"best model is {best_model_name} with r2_square {results[best_model_name]}\")"
   ]
  },
  {
   "cell_type": "code",
   "execution_count": 117,
   "id": "31bc4103-51af-48de-9607-8a369c0132b4",
   "metadata": {},
   "outputs": [],
   "source": [
    "y_pred = best_model.fit(x_train, y_train).predict(x_test)"
   ]
  },
  {
   "cell_type": "code",
   "execution_count": 119,
   "id": "7f8083a2-8374-415c-abf1-b965325bf30e",
   "metadata": {},
   "outputs": [
    {
     "name": "stdout",
     "output_type": "stream",
     "text": [
      "26.20927796951063\n"
     ]
    }
   ],
   "source": [
    "print(np.sqrt(mean_squared_error(y_test, y_pred)))"
   ]
  },
  {
   "cell_type": "code",
   "execution_count": 121,
   "id": "808da406-c8a8-4c67-a8c2-7edbf6f7ca03",
   "metadata": {},
   "outputs": [],
   "source": [
    "x_train = newtrain.drop('Diversity Rate (%)', axis = 1)\n",
    "y_train = newtrain['Diversity Rate (%)']\n",
    "x_test = newtest\n",
    "y_pred = best_model.fit(x_train, y_train).predict(x_test)"
   ]
  },
  {
   "cell_type": "code",
   "execution_count": 123,
   "id": "d20ed9be-9a01-4a80-8a1b-e8d4d3d69d83",
   "metadata": {},
   "outputs": [
    {
     "data": {
      "text/html": [
       "<div>\n",
       "<style scoped>\n",
       "    .dataframe tbody tr th:only-of-type {\n",
       "        vertical-align: middle;\n",
       "    }\n",
       "\n",
       "    .dataframe tbody tr th {\n",
       "        vertical-align: top;\n",
       "    }\n",
       "\n",
       "    .dataframe thead th {\n",
       "        text-align: right;\n",
       "    }\n",
       "</style>\n",
       "<table border=\"1\" class=\"dataframe\">\n",
       "  <thead>\n",
       "    <tr style=\"text-align: right;\">\n",
       "      <th></th>\n",
       "      <th>Diversity Rate (%)</th>\n",
       "    </tr>\n",
       "  </thead>\n",
       "  <tbody>\n",
       "    <tr>\n",
       "      <th>0</th>\n",
       "      <td>49.640660</td>\n",
       "    </tr>\n",
       "    <tr>\n",
       "      <th>1</th>\n",
       "      <td>50.626796</td>\n",
       "    </tr>\n",
       "    <tr>\n",
       "      <th>2</th>\n",
       "      <td>48.880399</td>\n",
       "    </tr>\n",
       "    <tr>\n",
       "      <th>3</th>\n",
       "      <td>48.935544</td>\n",
       "    </tr>\n",
       "    <tr>\n",
       "      <th>4</th>\n",
       "      <td>50.060514</td>\n",
       "    </tr>\n",
       "  </tbody>\n",
       "</table>\n",
       "</div>"
      ],
      "text/plain": [
       "   Diversity Rate (%)\n",
       "0           49.640660\n",
       "1           50.626796\n",
       "2           48.880399\n",
       "3           48.935544\n",
       "4           50.060514"
      ]
     },
     "execution_count": 123,
     "metadata": {},
     "output_type": "execute_result"
    }
   ],
   "source": [
    "solution = pd.DataFrame({'Diversity Rate (%)': y_pred})\n",
    "solution.head()"
   ]
  },
  {
   "cell_type": "code",
   "execution_count": 127,
   "id": "64e48f6b-f577-4a35-afad-4d4a0984dfd1",
   "metadata": {},
   "outputs": [],
   "source": [
    "solution.to_csv('Solution.csv', index = False)"
   ]
  },
  {
   "cell_type": "code",
   "execution_count": null,
   "id": "4d18780e-93c6-409c-a079-6eeb46660a0d",
   "metadata": {},
   "outputs": [],
   "source": []
  }
 ],
 "metadata": {
  "kernelspec": {
   "display_name": "Python 3 (ipykernel)",
   "language": "python",
   "name": "python3"
  },
  "language_info": {
   "codemirror_mode": {
    "name": "ipython",
    "version": 3
   },
   "file_extension": ".py",
   "mimetype": "text/x-python",
   "name": "python",
   "nbconvert_exporter": "python",
   "pygments_lexer": "ipython3",
   "version": "3.12.7"
  }
 },
 "nbformat": 4,
 "nbformat_minor": 5
}
