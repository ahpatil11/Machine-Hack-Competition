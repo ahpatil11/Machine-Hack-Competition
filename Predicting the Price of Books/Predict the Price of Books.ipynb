{
 "cells": [
  {
   "cell_type": "code",
   "execution_count": 1,
   "metadata": {},
   "outputs": [],
   "source": [
    "import numpy as np\n",
    "import pandas as pd\n",
    "import matplotlib.pyplot as plt\n",
    "import seaborn as sns"
   ]
  },
  {
   "cell_type": "code",
   "execution_count": 2,
   "metadata": {},
   "outputs": [
    {
     "data": {
      "text/html": [
       "<div>\n",
       "<style scoped>\n",
       "    .dataframe tbody tr th:only-of-type {\n",
       "        vertical-align: middle;\n",
       "    }\n",
       "\n",
       "    .dataframe tbody tr th {\n",
       "        vertical-align: top;\n",
       "    }\n",
       "\n",
       "    .dataframe thead th {\n",
       "        text-align: right;\n",
       "    }\n",
       "</style>\n",
       "<table border=\"1\" class=\"dataframe\">\n",
       "  <thead>\n",
       "    <tr style=\"text-align: right;\">\n",
       "      <th></th>\n",
       "      <th>Title</th>\n",
       "      <th>Author</th>\n",
       "      <th>Edition</th>\n",
       "      <th>Reviews</th>\n",
       "      <th>Ratings</th>\n",
       "      <th>Synopsis</th>\n",
       "      <th>Genre</th>\n",
       "      <th>BookCategory</th>\n",
       "      <th>Price</th>\n",
       "    </tr>\n",
       "  </thead>\n",
       "  <tbody>\n",
       "    <tr>\n",
       "      <th>0</th>\n",
       "      <td>The Prisoner's Gold (The Hunters 3)</td>\n",
       "      <td>Chris Kuzneski</td>\n",
       "      <td>Paperback,– 10 Mar 2016</td>\n",
       "      <td>4.0 out of 5 stars</td>\n",
       "      <td>8 customer reviews</td>\n",
       "      <td>THE HUNTERS return in their third brilliant no...</td>\n",
       "      <td>Action &amp; Adventure (Books)</td>\n",
       "      <td>Action &amp; Adventure</td>\n",
       "      <td>220.00</td>\n",
       "    </tr>\n",
       "    <tr>\n",
       "      <th>1</th>\n",
       "      <td>Guru Dutt: A Tragedy in Three Acts</td>\n",
       "      <td>Arun Khopkar</td>\n",
       "      <td>Paperback,– 7 Nov 2012</td>\n",
       "      <td>3.9 out of 5 stars</td>\n",
       "      <td>14 customer reviews</td>\n",
       "      <td>A layered portrait of a troubled genius for wh...</td>\n",
       "      <td>Cinema &amp; Broadcast (Books)</td>\n",
       "      <td>Biographies, Diaries &amp; True Accounts</td>\n",
       "      <td>202.93</td>\n",
       "    </tr>\n",
       "    <tr>\n",
       "      <th>2</th>\n",
       "      <td>Leviathan (Penguin Classics)</td>\n",
       "      <td>Thomas Hobbes</td>\n",
       "      <td>Paperback,– 25 Feb 1982</td>\n",
       "      <td>4.8 out of 5 stars</td>\n",
       "      <td>6 customer reviews</td>\n",
       "      <td>\"During the time men live without a common Pow...</td>\n",
       "      <td>International Relations</td>\n",
       "      <td>Humour</td>\n",
       "      <td>299.00</td>\n",
       "    </tr>\n",
       "    <tr>\n",
       "      <th>3</th>\n",
       "      <td>A Pocket Full of Rye (Miss Marple)</td>\n",
       "      <td>Agatha Christie</td>\n",
       "      <td>Paperback,– 5 Oct 2017</td>\n",
       "      <td>4.1 out of 5 stars</td>\n",
       "      <td>13 customer reviews</td>\n",
       "      <td>A handful of grain is found in the pocket of a...</td>\n",
       "      <td>Contemporary Fiction (Books)</td>\n",
       "      <td>Crime, Thriller &amp; Mystery</td>\n",
       "      <td>180.00</td>\n",
       "    </tr>\n",
       "    <tr>\n",
       "      <th>4</th>\n",
       "      <td>LIFE 70 Years of Extraordinary Photography</td>\n",
       "      <td>Editors of Life</td>\n",
       "      <td>Hardcover,– 10 Oct 2006</td>\n",
       "      <td>5.0 out of 5 stars</td>\n",
       "      <td>1 customer review</td>\n",
       "      <td>For seven decades, \"Life\" has been thrilling t...</td>\n",
       "      <td>Photography Textbooks</td>\n",
       "      <td>Arts, Film &amp; Photography</td>\n",
       "      <td>965.62</td>\n",
       "    </tr>\n",
       "  </tbody>\n",
       "</table>\n",
       "</div>"
      ],
      "text/plain": [
       "                                        Title           Author  \\\n",
       "0         The Prisoner's Gold (The Hunters 3)   Chris Kuzneski   \n",
       "1          Guru Dutt: A Tragedy in Three Acts     Arun Khopkar   \n",
       "2                Leviathan (Penguin Classics)    Thomas Hobbes   \n",
       "3          A Pocket Full of Rye (Miss Marple)  Agatha Christie   \n",
       "4  LIFE 70 Years of Extraordinary Photography  Editors of Life   \n",
       "\n",
       "                   Edition             Reviews              Ratings  \\\n",
       "0  Paperback,– 10 Mar 2016  4.0 out of 5 stars   8 customer reviews   \n",
       "1   Paperback,– 7 Nov 2012  3.9 out of 5 stars  14 customer reviews   \n",
       "2  Paperback,– 25 Feb 1982  4.8 out of 5 stars   6 customer reviews   \n",
       "3   Paperback,– 5 Oct 2017  4.1 out of 5 stars  13 customer reviews   \n",
       "4  Hardcover,– 10 Oct 2006  5.0 out of 5 stars    1 customer review   \n",
       "\n",
       "                                            Synopsis  \\\n",
       "0  THE HUNTERS return in their third brilliant no...   \n",
       "1  A layered portrait of a troubled genius for wh...   \n",
       "2  \"During the time men live without a common Pow...   \n",
       "3  A handful of grain is found in the pocket of a...   \n",
       "4  For seven decades, \"Life\" has been thrilling t...   \n",
       "\n",
       "                          Genre                          BookCategory   Price  \n",
       "0    Action & Adventure (Books)                    Action & Adventure  220.00  \n",
       "1    Cinema & Broadcast (Books)  Biographies, Diaries & True Accounts  202.93  \n",
       "2       International Relations                                Humour  299.00  \n",
       "3  Contemporary Fiction (Books)             Crime, Thriller & Mystery  180.00  \n",
       "4         Photography Textbooks              Arts, Film & Photography  965.62  "
      ]
     },
     "execution_count": 2,
     "metadata": {},
     "output_type": "execute_result"
    }
   ],
   "source": [
    "train = pd.read_excel('Data_Train.xlsx')\n",
    "train.head()"
   ]
  },
  {
   "cell_type": "code",
   "execution_count": 3,
   "metadata": {},
   "outputs": [
    {
     "data": {
      "text/plain": [
       "(6237, 9)"
      ]
     },
     "execution_count": 3,
     "metadata": {},
     "output_type": "execute_result"
    }
   ],
   "source": [
    "train.shape"
   ]
  },
  {
   "cell_type": "code",
   "execution_count": 4,
   "metadata": {},
   "outputs": [
    {
     "data": {
      "text/html": [
       "<div>\n",
       "<style scoped>\n",
       "    .dataframe tbody tr th:only-of-type {\n",
       "        vertical-align: middle;\n",
       "    }\n",
       "\n",
       "    .dataframe tbody tr th {\n",
       "        vertical-align: top;\n",
       "    }\n",
       "\n",
       "    .dataframe thead th {\n",
       "        text-align: right;\n",
       "    }\n",
       "</style>\n",
       "<table border=\"1\" class=\"dataframe\">\n",
       "  <thead>\n",
       "    <tr style=\"text-align: right;\">\n",
       "      <th></th>\n",
       "      <th>Title</th>\n",
       "      <th>Author</th>\n",
       "      <th>Edition</th>\n",
       "      <th>Reviews</th>\n",
       "      <th>Ratings</th>\n",
       "      <th>Synopsis</th>\n",
       "      <th>Genre</th>\n",
       "      <th>BookCategory</th>\n",
       "    </tr>\n",
       "  </thead>\n",
       "  <tbody>\n",
       "    <tr>\n",
       "      <th>0</th>\n",
       "      <td>The Complete Sherlock Holmes: 2 Boxes sets</td>\n",
       "      <td>Sir Arthur Conan Doyle</td>\n",
       "      <td>Mass Market Paperback,– 1 Oct 1986</td>\n",
       "      <td>4.4 out of 5 stars</td>\n",
       "      <td>960 customer reviews</td>\n",
       "      <td>A collection of entire body of work of the She...</td>\n",
       "      <td>Short Stories (Books)</td>\n",
       "      <td>Crime, Thriller &amp; Mystery</td>\n",
       "    </tr>\n",
       "    <tr>\n",
       "      <th>1</th>\n",
       "      <td>Learn Docker - Fundamentals of Docker 18.x: Ev...</td>\n",
       "      <td>Gabriel N. Schenker</td>\n",
       "      <td>Paperback,– Import, 26 Apr 2018</td>\n",
       "      <td>5.0 out of 5 stars</td>\n",
       "      <td>1 customer review</td>\n",
       "      <td>Enhance your software deployment workflow usin...</td>\n",
       "      <td>Operating Systems Textbooks</td>\n",
       "      <td>Computing, Internet &amp; Digital Media</td>\n",
       "    </tr>\n",
       "    <tr>\n",
       "      <th>2</th>\n",
       "      <td>Big Girl</td>\n",
       "      <td>Danielle Steel</td>\n",
       "      <td>Paperback,– 17 Mar 2011</td>\n",
       "      <td>5.0 out of 5 stars</td>\n",
       "      <td>4 customer reviews</td>\n",
       "      <td>'Watch out, world. Here I come!'\\nFor Victoria...</td>\n",
       "      <td>Romance (Books)</td>\n",
       "      <td>Romance</td>\n",
       "    </tr>\n",
       "    <tr>\n",
       "      <th>3</th>\n",
       "      <td>Think Python: How to Think Like a Computer Sci...</td>\n",
       "      <td>Allen B. Downey</td>\n",
       "      <td>Paperback,– 2016</td>\n",
       "      <td>4.1 out of 5 stars</td>\n",
       "      <td>11 customer reviews</td>\n",
       "      <td>If you want to learn how to program, working w...</td>\n",
       "      <td>Programming &amp; Software Development (Books)</td>\n",
       "      <td>Computing, Internet &amp; Digital Media</td>\n",
       "    </tr>\n",
       "    <tr>\n",
       "      <th>4</th>\n",
       "      <td>Oxford Word Skills: Advanced - Idioms &amp; Phrasa...</td>\n",
       "      <td>Redman Gairns</td>\n",
       "      <td>Paperback,– 26 Dec 2011</td>\n",
       "      <td>4.4 out of 5 stars</td>\n",
       "      <td>9 customer reviews</td>\n",
       "      <td>Learn and practise the verbs, prepositions and...</td>\n",
       "      <td>Linguistics (Books)</td>\n",
       "      <td>Language, Linguistics &amp; Writing</td>\n",
       "    </tr>\n",
       "  </tbody>\n",
       "</table>\n",
       "</div>"
      ],
      "text/plain": [
       "                                               Title                  Author  \\\n",
       "0         The Complete Sherlock Holmes: 2 Boxes sets  Sir Arthur Conan Doyle   \n",
       "1  Learn Docker - Fundamentals of Docker 18.x: Ev...     Gabriel N. Schenker   \n",
       "2                                           Big Girl          Danielle Steel   \n",
       "3  Think Python: How to Think Like a Computer Sci...         Allen B. Downey   \n",
       "4  Oxford Word Skills: Advanced - Idioms & Phrasa...           Redman Gairns   \n",
       "\n",
       "                              Edition             Reviews  \\\n",
       "0  Mass Market Paperback,– 1 Oct 1986  4.4 out of 5 stars   \n",
       "1     Paperback,– Import, 26 Apr 2018  5.0 out of 5 stars   \n",
       "2             Paperback,– 17 Mar 2011  5.0 out of 5 stars   \n",
       "3                    Paperback,– 2016  4.1 out of 5 stars   \n",
       "4             Paperback,– 26 Dec 2011  4.4 out of 5 stars   \n",
       "\n",
       "                Ratings                                           Synopsis  \\\n",
       "0  960 customer reviews  A collection of entire body of work of the She...   \n",
       "1     1 customer review  Enhance your software deployment workflow usin...   \n",
       "2    4 customer reviews  'Watch out, world. Here I come!'\\nFor Victoria...   \n",
       "3   11 customer reviews  If you want to learn how to program, working w...   \n",
       "4    9 customer reviews  Learn and practise the verbs, prepositions and...   \n",
       "\n",
       "                                        Genre  \\\n",
       "0                       Short Stories (Books)   \n",
       "1                 Operating Systems Textbooks   \n",
       "2                             Romance (Books)   \n",
       "3  Programming & Software Development (Books)   \n",
       "4                         Linguistics (Books)   \n",
       "\n",
       "                          BookCategory  \n",
       "0            Crime, Thriller & Mystery  \n",
       "1  Computing, Internet & Digital Media  \n",
       "2                              Romance  \n",
       "3  Computing, Internet & Digital Media  \n",
       "4      Language, Linguistics & Writing  "
      ]
     },
     "execution_count": 4,
     "metadata": {},
     "output_type": "execute_result"
    }
   ],
   "source": [
    "test = pd.read_excel('Data_Test.xlsx')\n",
    "test.head()"
   ]
  },
  {
   "cell_type": "code",
   "execution_count": 5,
   "metadata": {},
   "outputs": [
    {
     "data": {
      "text/plain": [
       "(1560, 8)"
      ]
     },
     "execution_count": 5,
     "metadata": {},
     "output_type": "execute_result"
    }
   ],
   "source": [
    "test.shape"
   ]
  },
  {
   "cell_type": "code",
   "execution_count": 6,
   "metadata": {},
   "outputs": [
    {
     "data": {
      "text/plain": [
       "Title           0\n",
       "Author          0\n",
       "Edition         0\n",
       "Reviews         0\n",
       "Ratings         0\n",
       "Synopsis        0\n",
       "Genre           0\n",
       "BookCategory    0\n",
       "Price           0\n",
       "dtype: int64"
      ]
     },
     "execution_count": 6,
     "metadata": {},
     "output_type": "execute_result"
    }
   ],
   "source": [
    "train.isnull().sum()"
   ]
  },
  {
   "cell_type": "code",
   "execution_count": 7,
   "metadata": {},
   "outputs": [],
   "source": [
    "from sklearn.preprocessing import LabelEncoder\n",
    "le = LabelEncoder()"
   ]
  },
  {
   "cell_type": "code",
   "execution_count": 8,
   "metadata": {},
   "outputs": [],
   "source": [
    "train['Title'] = le.fit_transform(train['Title'])\n",
    "train['Author'] = le.fit_transform(train['Author'])\n",
    "train['Genre'] = le.fit_transform(train['Genre'])\n",
    "train['BookCategory'] = le.fit_transform(train['BookCategory'])"
   ]
  },
  {
   "cell_type": "code",
   "execution_count": 9,
   "metadata": {},
   "outputs": [],
   "source": [
    "train = train.drop('Edition', axis = 1)"
   ]
  },
  {
   "cell_type": "code",
   "execution_count": 10,
   "metadata": {},
   "outputs": [
    {
     "data": {
      "text/plain": [
       "array(['4.0 out of 5 stars', '3.9 out of 5 stars', '4.8 out of 5 stars',\n",
       "       '4.1 out of 5 stars', '5.0 out of 5 stars', '4.5 out of 5 stars',\n",
       "       '4.4 out of 5 stars', '4.7 out of 5 stars', '4.2 out of 5 stars',\n",
       "       '4.9 out of 5 stars', '3.5 out of 5 stars', '3.8 out of 5 stars',\n",
       "       '4.3 out of 5 stars', '3.1 out of 5 stars', '4.6 out of 5 stars',\n",
       "       '2.0 out of 5 stars', '3.7 out of 5 stars', '3.2 out of 5 stars',\n",
       "       '2.6 out of 5 stars', '2.8 out of 5 stars', '3.4 out of 5 stars',\n",
       "       '2.9 out of 5 stars', '3.3 out of 5 stars', '3.0 out of 5 stars',\n",
       "       '2.5 out of 5 stars', '1.0 out of 5 stars', '3.6 out of 5 stars',\n",
       "       '2.7 out of 5 stars', '1.5 out of 5 stars', '2.3 out of 5 stars',\n",
       "       '1.7 out of 5 stars', '2.2 out of 5 stars', '1.4 out of 5 stars',\n",
       "       '2.4 out of 5 stars', '1.6 out of 5 stars', '2.1 out of 5 stars'],\n",
       "      dtype=object)"
      ]
     },
     "execution_count": 10,
     "metadata": {},
     "output_type": "execute_result"
    }
   ],
   "source": [
    "train['Reviews'].unique()"
   ]
  },
  {
   "cell_type": "code",
   "execution_count": 11,
   "metadata": {},
   "outputs": [],
   "source": [
    "train['Reviews'] = train['Reviews'].apply(lambda x:x.split(' ')[0])"
   ]
  },
  {
   "cell_type": "code",
   "execution_count": 12,
   "metadata": {},
   "outputs": [
    {
     "data": {
      "text/plain": [
       "array(['8 customer reviews', '14 customer reviews', '6 customer reviews',\n",
       "       '13 customer reviews', '1 customer review', '72 customer reviews',\n",
       "       '16 customer reviews', '111 customer reviews',\n",
       "       '132 customer reviews', '17 customer reviews',\n",
       "       '4 customer reviews', '3 customer reviews', '5 customer reviews',\n",
       "       '2 customer reviews', '23 customer reviews', '76 customer reviews',\n",
       "       '10 customer reviews', '9 customer reviews', '15 customer reviews',\n",
       "       '34 customer reviews', '32 customer reviews',\n",
       "       '49 customer reviews', '62 customer reviews',\n",
       "       '61 customer reviews', '7 customer reviews', '18 customer reviews',\n",
       "       '98 customer reviews', '12 customer reviews',\n",
       "       '97 customer reviews', '285 customer reviews',\n",
       "       '29 customer reviews', '27 customer reviews',\n",
       "       '267 customer reviews', '24 customer reviews',\n",
       "       '146 customer reviews', '95 customer reviews',\n",
       "       '234 customer reviews', '35 customer reviews',\n",
       "       '66 customer reviews', '20 customer reviews',\n",
       "       '39 customer reviews', '171 customer reviews',\n",
       "       '399 customer reviews', '42 customer reviews',\n",
       "       '142 customer reviews', '11 customer reviews',\n",
       "       '839 customer reviews', '47 customer reviews',\n",
       "       '165 customer reviews', '30 customer reviews',\n",
       "       '53 customer reviews', '77 customer reviews',\n",
       "       '33 customer reviews', '37 customer reviews',\n",
       "       '54 customer reviews', '28 customer reviews',\n",
       "       '50 customer reviews', '197 customer reviews',\n",
       "       '26 customer reviews', '114 customer reviews',\n",
       "       '46 customer reviews', '51 customer reviews',\n",
       "       '161 customer reviews', '135 customer reviews',\n",
       "       '41 customer reviews', '156 customer reviews',\n",
       "       '1,416 customer reviews', '93 customer reviews',\n",
       "       '221 customer reviews', '36 customer reviews',\n",
       "       '154 customer reviews', '74 customer reviews',\n",
       "       '45 customer reviews', '240 customer reviews',\n",
       "       '55 customer reviews', '19 customer reviews',\n",
       "       '48 customer reviews', '404 customer reviews',\n",
       "       '245 customer reviews', '22 customer reviews',\n",
       "       '292 customer reviews', '25 customer reviews',\n",
       "       '75 customer reviews', '381 customer reviews',\n",
       "       '44 customer reviews', '443 customer reviews',\n",
       "       '425 customer reviews', '21 customer reviews',\n",
       "       '238 customer reviews', '84 customer reviews',\n",
       "       '68 customer reviews', '108 customer reviews',\n",
       "       '52 customer reviews', '57 customer reviews',\n",
       "       '109 customer reviews', '89 customer reviews',\n",
       "       '304 customer reviews', '96 customer reviews',\n",
       "       '419 customer reviews', '205 customer reviews',\n",
       "       '85 customer reviews', '960 customer reviews',\n",
       "       '71 customer reviews', '167 customer reviews',\n",
       "       '58 customer reviews', '40 customer reviews',\n",
       "       '102 customer reviews', '101 customer reviews',\n",
       "       '65 customer reviews', '70 customer reviews',\n",
       "       '106 customer reviews', '922 customer reviews',\n",
       "       '31 customer reviews', '38 customer reviews',\n",
       "       '63 customer reviews', '177 customer reviews',\n",
       "       '138 customer reviews', '164 customer reviews',\n",
       "       '257 customer reviews', '207 customer reviews',\n",
       "       '64 customer reviews', '56 customer reviews',\n",
       "       '196 customer reviews', '82 customer reviews',\n",
       "       '1,558 customer reviews', '567 customer reviews',\n",
       "       '60 customer reviews', '80 customer reviews',\n",
       "       '303 customer reviews', '73 customer reviews',\n",
       "       '193 customer reviews', '155 customer reviews',\n",
       "       '798 customer reviews', '128 customer reviews',\n",
       "       '87 customer reviews', '90 customer reviews',\n",
       "       '286 customer reviews', '565 customer reviews',\n",
       "       '137 customer reviews', '99 customer reviews',\n",
       "       '403 customer reviews', '277 customer reviews',\n",
       "       '902 customer reviews', '59 customer reviews',\n",
       "       '861 customer reviews', '67 customer reviews',\n",
       "       '815 customer reviews', '227 customer reviews',\n",
       "       '119 customer reviews', '474 customer reviews',\n",
       "       '69 customer reviews', '247 customer reviews',\n",
       "       '414 customer reviews', '86 customer reviews',\n",
       "       '432 customer reviews', '1,142 customer reviews',\n",
       "       '168 customer reviews', '382 customer reviews',\n",
       "       '79 customer reviews', '141 customer reviews',\n",
       "       '220 customer reviews', '732 customer reviews',\n",
       "       '2,048 customer reviews', '1,097 customer reviews',\n",
       "       '226 customer reviews', '649 customer reviews',\n",
       "       '160 customer reviews', '140 customer reviews',\n",
       "       '2,081 customer reviews', '405 customer reviews',\n",
       "       '121 customer reviews', '88 customer reviews',\n",
       "       '342 customer reviews', '190 customer reviews',\n",
       "       '83 customer reviews', '250 customer reviews',\n",
       "       '217 customer reviews', '115 customer reviews',\n",
       "       '224 customer reviews', '43 customer reviews',\n",
       "       '136 customer reviews', '230 customer reviews',\n",
       "       '283 customer reviews', '184 customer reviews',\n",
       "       '186 customer reviews', '110 customer reviews',\n",
       "       '187 customer reviews', '81 customer reviews',\n",
       "       '107 customer reviews', '355 customer reviews',\n",
       "       '2,084 customer reviews', '116 customer reviews',\n",
       "       '862 customer reviews', '370 customer reviews',\n",
       "       '92 customer reviews', '6,090 customer reviews',\n",
       "       '215 customer reviews', '893 customer reviews',\n",
       "       '261 customer reviews', '129 customer reviews',\n",
       "       '113 customer reviews', '206 customer reviews',\n",
       "       '159 customer reviews', '540 customer reviews',\n",
       "       '413 customer reviews', '307 customer reviews',\n",
       "       '351 customer reviews', '390 customer reviews',\n",
       "       '143 customer reviews', '185 customer reviews',\n",
       "       '282 customer reviews', '150 customer reviews',\n",
       "       '120 customer reviews', '246 customer reviews',\n",
       "       '126 customer reviews', '784 customer reviews',\n",
       "       '174 customer reviews', '397 customer reviews',\n",
       "       '172 customer reviews', '158 customer reviews',\n",
       "       '863 customer reviews', '291 customer reviews',\n",
       "       '225 customer reviews', '1,227 customer reviews',\n",
       "       '366 customer reviews', '218 customer reviews',\n",
       "       '100 customer reviews', '337 customer reviews',\n",
       "       '973 customer reviews', '310 customer reviews',\n",
       "       '301 customer reviews', '212 customer reviews',\n",
       "       '764 customer reviews', '279 customer reviews',\n",
       "       '255 customer reviews', '251 customer reviews',\n",
       "       '653 customer reviews', '894 customer reviews',\n",
       "       '3,135 customer reviews', '958 customer reviews',\n",
       "       '134 customer reviews', '127 customer reviews',\n",
       "       '420 customer reviews', '139 customer reviews',\n",
       "       '800 customer reviews', '94 customer reviews',\n",
       "       '178 customer reviews', '145 customer reviews',\n",
       "       '967 customer reviews', '1,392 customer reviews',\n",
       "       '264 customer reviews', '122 customer reviews',\n",
       "       '219 customer reviews', '505 customer reviews',\n",
       "       '125 customer reviews', '407 customer reviews',\n",
       "       '210 customer reviews', '133 customer reviews',\n",
       "       '151 customer reviews', '188 customer reviews',\n",
       "       '166 customer reviews', '656 customer reviews',\n",
       "       '175 customer reviews', '153 customer reviews',\n",
       "       '1,684 customer reviews', '149 customer reviews',\n",
       "       '163 customer reviews', '199 customer reviews',\n",
       "       '157 customer reviews', '203 customer reviews',\n",
       "       '331 customer reviews', '970 customer reviews',\n",
       "       '305 customer reviews', '327 customer reviews',\n",
       "       '1,403 customer reviews', '180 customer reviews',\n",
       "       '268 customer reviews', '104 customer reviews',\n",
       "       '123 customer reviews', '290 customer reviews',\n",
       "       '396 customer reviews', '287 customer reviews',\n",
       "       '244 customer reviews', '670 customer reviews',\n",
       "       '223 customer reviews', '117 customer reviews',\n",
       "       '867 customer reviews', '91 customer reviews',\n",
       "       '105 customer reviews', '332 customer reviews',\n",
       "       '152 customer reviews', '379 customer reviews',\n",
       "       '278 customer reviews', '144 customer reviews',\n",
       "       '606 customer reviews', '1,248 customer reviews',\n",
       "       '112 customer reviews', '295 customer reviews',\n",
       "       '450 customer reviews', '298 customer reviews',\n",
       "       '899 customer reviews', '570 customer reviews',\n",
       "       '871 customer reviews', '356 customer reviews',\n",
       "       '249 customer reviews', '179 customer reviews',\n",
       "       '545 customer reviews', '494 customer reviews',\n",
       "       '358 customer reviews', '853 customer reviews',\n",
       "       '280 customer reviews', '118 customer reviews',\n",
       "       '1,563 customer reviews', '1,259 customer reviews',\n",
       "       '200 customer reviews', '2,255 customer reviews',\n",
       "       '727 customer reviews', '568 customer reviews',\n",
       "       '429 customer reviews', '296 customer reviews',\n",
       "       '124 customer reviews', '252 customer reviews',\n",
       "       '78 customer reviews', '695 customer reviews',\n",
       "       '3,075 customer reviews', '434 customer reviews',\n",
       "       '353 customer reviews', '328 customer reviews',\n",
       "       '170 customer reviews', '1,256 customer reviews',\n",
       "       '162 customer reviews', '270 customer reviews',\n",
       "       '297 customer reviews', '615 customer reviews',\n",
       "       '421 customer reviews', '253 customer reviews',\n",
       "       '325 customer reviews', '308 customer reviews',\n",
       "       '804 customer reviews', '551 customer reviews',\n",
       "       '288 customer reviews', '483 customer reviews'], dtype=object)"
      ]
     },
     "execution_count": 12,
     "metadata": {},
     "output_type": "execute_result"
    }
   ],
   "source": [
    "train['Ratings'].unique()"
   ]
  },
  {
   "cell_type": "code",
   "execution_count": 13,
   "metadata": {},
   "outputs": [],
   "source": [
    "train['Ratings'] = train['Ratings'].apply(lambda x:x.split(' ')[0])"
   ]
  },
  {
   "cell_type": "code",
   "execution_count": 14,
   "metadata": {},
   "outputs": [
    {
     "data": {
      "text/html": [
       "<div>\n",
       "<style scoped>\n",
       "    .dataframe tbody tr th:only-of-type {\n",
       "        vertical-align: middle;\n",
       "    }\n",
       "\n",
       "    .dataframe tbody tr th {\n",
       "        vertical-align: top;\n",
       "    }\n",
       "\n",
       "    .dataframe thead th {\n",
       "        text-align: right;\n",
       "    }\n",
       "</style>\n",
       "<table border=\"1\" class=\"dataframe\">\n",
       "  <thead>\n",
       "    <tr style=\"text-align: right;\">\n",
       "      <th></th>\n",
       "      <th>Title</th>\n",
       "      <th>Author</th>\n",
       "      <th>Reviews</th>\n",
       "      <th>Ratings</th>\n",
       "      <th>Synopsis</th>\n",
       "      <th>Genre</th>\n",
       "      <th>BookCategory</th>\n",
       "      <th>Price</th>\n",
       "    </tr>\n",
       "  </thead>\n",
       "  <tbody>\n",
       "  </tbody>\n",
       "</table>\n",
       "</div>"
      ],
      "text/plain": [
       "Empty DataFrame\n",
       "Columns: [Title, Author, Reviews, Ratings, Synopsis, Genre, BookCategory, Price]\n",
       "Index: []"
      ]
     },
     "execution_count": 14,
     "metadata": {},
     "output_type": "execute_result"
    }
   ],
   "source": [
    "train[train['Ratings'] == 1416]"
   ]
  },
  {
   "cell_type": "code",
   "execution_count": 15,
   "metadata": {},
   "outputs": [],
   "source": [
    "train['Ratings'] = train['Ratings'].apply(lambda x: eval(''.join(x.split(','))))"
   ]
  },
  {
   "cell_type": "code",
   "execution_count": 16,
   "metadata": {},
   "outputs": [],
   "source": [
    "train['Ratings'] = train['Ratings'].astype(float)\n",
    "train['Reviews'] = train['Reviews'].astype(float)"
   ]
  },
  {
   "cell_type": "code",
   "execution_count": 17,
   "metadata": {},
   "outputs": [],
   "source": [
    "train['Reviews_Ratings'] = train['Reviews']*train['Ratings']"
   ]
  },
  {
   "cell_type": "code",
   "execution_count": 18,
   "metadata": {},
   "outputs": [
    {
     "data": {
      "text/html": [
       "<div>\n",
       "<style scoped>\n",
       "    .dataframe tbody tr th:only-of-type {\n",
       "        vertical-align: middle;\n",
       "    }\n",
       "\n",
       "    .dataframe tbody tr th {\n",
       "        vertical-align: top;\n",
       "    }\n",
       "\n",
       "    .dataframe thead th {\n",
       "        text-align: right;\n",
       "    }\n",
       "</style>\n",
       "<table border=\"1\" class=\"dataframe\">\n",
       "  <thead>\n",
       "    <tr style=\"text-align: right;\">\n",
       "      <th></th>\n",
       "      <th>Title</th>\n",
       "      <th>Author</th>\n",
       "      <th>Reviews</th>\n",
       "      <th>Ratings</th>\n",
       "      <th>Synopsis</th>\n",
       "      <th>Genre</th>\n",
       "      <th>BookCategory</th>\n",
       "      <th>Price</th>\n",
       "      <th>Reviews_Ratings</th>\n",
       "    </tr>\n",
       "  </thead>\n",
       "  <tbody>\n",
       "    <tr>\n",
       "      <th>0</th>\n",
       "      <td>4763</td>\n",
       "      <td>615</td>\n",
       "      <td>4.0</td>\n",
       "      <td>8.0</td>\n",
       "      <td>THE HUNTERS return in their third brilliant no...</td>\n",
       "      <td>1</td>\n",
       "      <td>0</td>\n",
       "      <td>220.00</td>\n",
       "      <td>32.0</td>\n",
       "    </tr>\n",
       "    <tr>\n",
       "      <th>1</th>\n",
       "      <td>1721</td>\n",
       "      <td>307</td>\n",
       "      <td>3.9</td>\n",
       "      <td>14.0</td>\n",
       "      <td>A layered portrait of a troubled genius for wh...</td>\n",
       "      <td>74</td>\n",
       "      <td>2</td>\n",
       "      <td>202.93</td>\n",
       "      <td>54.6</td>\n",
       "    </tr>\n",
       "    <tr>\n",
       "      <th>2</th>\n",
       "      <td>2446</td>\n",
       "      <td>3390</td>\n",
       "      <td>4.8</td>\n",
       "      <td>6.0</td>\n",
       "      <td>\"During the time men live without a common Pow...</td>\n",
       "      <td>193</td>\n",
       "      <td>6</td>\n",
       "      <td>299.00</td>\n",
       "      <td>28.8</td>\n",
       "    </tr>\n",
       "    <tr>\n",
       "      <th>3</th>\n",
       "      <td>155</td>\n",
       "      <td>62</td>\n",
       "      <td>4.1</td>\n",
       "      <td>13.0</td>\n",
       "      <td>A handful of grain is found in the pocket of a...</td>\n",
       "      <td>92</td>\n",
       "      <td>5</td>\n",
       "      <td>180.00</td>\n",
       "      <td>53.3</td>\n",
       "    </tr>\n",
       "    <tr>\n",
       "      <th>4</th>\n",
       "      <td>2343</td>\n",
       "      <td>953</td>\n",
       "      <td>5.0</td>\n",
       "      <td>1.0</td>\n",
       "      <td>For seven decades, \"Life\" has been thrilling t...</td>\n",
       "      <td>253</td>\n",
       "      <td>1</td>\n",
       "      <td>965.62</td>\n",
       "      <td>5.0</td>\n",
       "    </tr>\n",
       "  </tbody>\n",
       "</table>\n",
       "</div>"
      ],
      "text/plain": [
       "   Title  Author  Reviews  Ratings  \\\n",
       "0   4763     615      4.0      8.0   \n",
       "1   1721     307      3.9     14.0   \n",
       "2   2446    3390      4.8      6.0   \n",
       "3    155      62      4.1     13.0   \n",
       "4   2343     953      5.0      1.0   \n",
       "\n",
       "                                            Synopsis  Genre  BookCategory  \\\n",
       "0  THE HUNTERS return in their third brilliant no...      1             0   \n",
       "1  A layered portrait of a troubled genius for wh...     74             2   \n",
       "2  \"During the time men live without a common Pow...    193             6   \n",
       "3  A handful of grain is found in the pocket of a...     92             5   \n",
       "4  For seven decades, \"Life\" has been thrilling t...    253             1   \n",
       "\n",
       "    Price  Reviews_Ratings  \n",
       "0  220.00             32.0  \n",
       "1  202.93             54.6  \n",
       "2  299.00             28.8  \n",
       "3  180.00             53.3  \n",
       "4  965.62              5.0  "
      ]
     },
     "execution_count": 18,
     "metadata": {},
     "output_type": "execute_result"
    }
   ],
   "source": [
    "train.head()"
   ]
  },
  {
   "cell_type": "code",
   "execution_count": 19,
   "metadata": {},
   "outputs": [
    {
     "name": "stdout",
     "output_type": "stream",
     "text": [
      "<class 'pandas.core.frame.DataFrame'>\n",
      "RangeIndex: 6237 entries, 0 to 6236\n",
      "Data columns (total 9 columns):\n",
      "Title              6237 non-null int32\n",
      "Author             6237 non-null int32\n",
      "Reviews            6237 non-null float64\n",
      "Ratings            6237 non-null float64\n",
      "Synopsis           6237 non-null object\n",
      "Genre              6237 non-null int32\n",
      "BookCategory       6237 non-null int32\n",
      "Price              6237 non-null float64\n",
      "Reviews_Ratings    6237 non-null float64\n",
      "dtypes: float64(4), int32(4), object(1)\n",
      "memory usage: 341.2+ KB\n"
     ]
    }
   ],
   "source": [
    "train.info()"
   ]
  },
  {
   "cell_type": "code",
   "execution_count": 20,
   "metadata": {},
   "outputs": [],
   "source": [
    "train = train.drop('Synopsis', axis = 1)"
   ]
  },
  {
   "cell_type": "code",
   "execution_count": 21,
   "metadata": {},
   "outputs": [],
   "source": [
    "test = test.drop('Synopsis', axis = 1)"
   ]
  },
  {
   "cell_type": "code",
   "execution_count": 22,
   "metadata": {},
   "outputs": [],
   "source": [
    "test = test.drop('Edition', axis = 1)"
   ]
  },
  {
   "cell_type": "code",
   "execution_count": 23,
   "metadata": {},
   "outputs": [],
   "source": [
    "test['Title'] = le.fit_transform(test['Title'])\n",
    "test['Author'] = le.fit_transform(test['Author'])\n",
    "test['Genre'] = le.fit_transform(test['Genre'])\n",
    "test['BookCategory'] = le.fit_transform(test['BookCategory'])"
   ]
  },
  {
   "cell_type": "code",
   "execution_count": 24,
   "metadata": {},
   "outputs": [],
   "source": [
    "test['Reviews'] = test['Reviews'].apply(lambda x:x.split(' ')[0])"
   ]
  },
  {
   "cell_type": "code",
   "execution_count": 25,
   "metadata": {},
   "outputs": [],
   "source": [
    "test['Ratings'] = test['Ratings'].apply(lambda x:x.split(' ')[0])"
   ]
  },
  {
   "cell_type": "code",
   "execution_count": 26,
   "metadata": {},
   "outputs": [],
   "source": [
    "test['Ratings'] = test['Ratings'].apply(lambda x: eval(''.join(x.split(','))))"
   ]
  },
  {
   "cell_type": "code",
   "execution_count": 27,
   "metadata": {},
   "outputs": [],
   "source": [
    "test['Ratings'] = test['Ratings'].astype(float)\n",
    "test['Reviews'] = test['Reviews'].astype(float)"
   ]
  },
  {
   "cell_type": "code",
   "execution_count": 28,
   "metadata": {},
   "outputs": [],
   "source": [
    "test['Reviews_Ratings'] = test['Reviews']*test['Ratings']"
   ]
  },
  {
   "cell_type": "code",
   "execution_count": 29,
   "metadata": {},
   "outputs": [],
   "source": [
    "x_train = train.drop('Price', axis = 1)\n",
    "y_train = train['Price']\n",
    "x_test = test"
   ]
  },
  {
   "cell_type": "code",
   "execution_count": 30,
   "metadata": {},
   "outputs": [
    {
     "name": "stdout",
     "output_type": "stream",
     "text": [
      "Training score is  0.49044156217209744\n"
     ]
    }
   ],
   "source": [
    "from lightgbm import LGBMRegressor\n",
    "lgm = LGBMRegressor()\n",
    "lgm_pred = lgm.fit(x_train, y_train).predict(x_test)\n",
    "\n",
    "print('Training score is ', lgm.score(x_train, y_train))\n",
    "solution = pd.DataFrame({'Price': lgm_pred})\n",
    "solution.to_csv('lgm.csv', index = False)"
   ]
  }
 ],
 "metadata": {
  "kernelspec": {
   "display_name": "Python 3",
   "language": "python",
   "name": "python3"
  },
  "language_info": {
   "codemirror_mode": {
    "name": "ipython",
    "version": 3
   },
   "file_extension": ".py",
   "mimetype": "text/x-python",
   "name": "python",
   "nbconvert_exporter": "python",
   "pygments_lexer": "ipython3",
   "version": "3.7.3"
  }
 },
 "nbformat": 4,
 "nbformat_minor": 2
}
