{
 "cells": [
  {
   "cell_type": "code",
   "execution_count": 123,
   "id": "20ddf5dc-96ce-4f24-bb89-e3985a4fde02",
   "metadata": {},
   "outputs": [],
   "source": [
    "import numpy as np\n",
    "import pandas as pd\n",
    "import matplotlib.pyplot as plt\n",
    "import seaborn as sns\n",
    "from sklearn.preprocessing import StandardScaler, LabelEncoder\n",
    "from sklearn.metrics import mean_squared_error\n",
    "from sklearn.pipeline import Pipeline\n",
    "from sklearn.linear_model import LinearRegression\n",
    "from sklearn.ensemble import RandomForestRegressor, ExtraTreesRegressor, AdaBoostRegressor, GradientBoostingRegressor, BaggingRegressor\n",
    "from lightgbm import LGBMRegressor\n",
    "from xgboost import XGBRegressor\n",
    "from sklearn.model_selection import train_test_split, KFold, GridSearchCV\n",
    "from catboost import CatBoostRegressor\n",
    "from sklearn.model_selection import RandomizedSearchCV\n",
    "from scipy.stats import randint, uniform"
   ]
  },
  {
   "cell_type": "code",
   "execution_count": 3,
   "id": "7212a969-9d87-49de-827d-49cf1ff48e99",
   "metadata": {},
   "outputs": [
    {
     "data": {
      "text/html": [
       "<div>\n",
       "<style scoped>\n",
       "    .dataframe tbody tr th:only-of-type {\n",
       "        vertical-align: middle;\n",
       "    }\n",
       "\n",
       "    .dataframe tbody tr th {\n",
       "        vertical-align: top;\n",
       "    }\n",
       "\n",
       "    .dataframe thead th {\n",
       "        text-align: right;\n",
       "    }\n",
       "</style>\n",
       "<table border=\"1\" class=\"dataframe\">\n",
       "  <thead>\n",
       "    <tr style=\"text-align: right;\">\n",
       "      <th></th>\n",
       "      <th>engine_capacity_cc</th>\n",
       "      <th>fuel_category</th>\n",
       "      <th>owner_count</th>\n",
       "      <th>car_brand</th>\n",
       "      <th>transmission_type</th>\n",
       "      <th>exterior_color</th>\n",
       "      <th>fuel_efficiency_kmpl</th>\n",
       "    </tr>\n",
       "  </thead>\n",
       "  <tbody>\n",
       "    <tr>\n",
       "      <th>0</th>\n",
       "      <td>5000</td>\n",
       "      <td>Petrol</td>\n",
       "      <td>2</td>\n",
       "      <td>Nissan</td>\n",
       "      <td>Automatic</td>\n",
       "      <td>Black</td>\n",
       "      <td>15.985031</td>\n",
       "    </tr>\n",
       "    <tr>\n",
       "      <th>1</th>\n",
       "      <td>1200</td>\n",
       "      <td>Diesel</td>\n",
       "      <td>3</td>\n",
       "      <td>Chevrolet</td>\n",
       "      <td>Manual</td>\n",
       "      <td>Gray</td>\n",
       "      <td>21.093824</td>\n",
       "    </tr>\n",
       "    <tr>\n",
       "      <th>2</th>\n",
       "      <td>5000</td>\n",
       "      <td>Diesel</td>\n",
       "      <td>4</td>\n",
       "      <td>Toyota</td>\n",
       "      <td>Automatic</td>\n",
       "      <td>Blue</td>\n",
       "      <td>9.789724</td>\n",
       "    </tr>\n",
       "    <tr>\n",
       "      <th>3</th>\n",
       "      <td>1000</td>\n",
       "      <td>Diesel</td>\n",
       "      <td>3</td>\n",
       "      <td>Chevrolet</td>\n",
       "      <td>Manual</td>\n",
       "      <td>Red</td>\n",
       "      <td>25.626237</td>\n",
       "    </tr>\n",
       "    <tr>\n",
       "      <th>4</th>\n",
       "      <td>1000</td>\n",
       "      <td>Diesel</td>\n",
       "      <td>1</td>\n",
       "      <td>BMW</td>\n",
       "      <td>Manual</td>\n",
       "      <td>Gray</td>\n",
       "      <td>22.844176</td>\n",
       "    </tr>\n",
       "  </tbody>\n",
       "</table>\n",
       "</div>"
      ],
      "text/plain": [
       "   engine_capacity_cc fuel_category  owner_count  car_brand transmission_type  \\\n",
       "0                5000        Petrol            2     Nissan         Automatic   \n",
       "1                1200        Diesel            3  Chevrolet            Manual   \n",
       "2                5000        Diesel            4     Toyota         Automatic   \n",
       "3                1000        Diesel            3  Chevrolet            Manual   \n",
       "4                1000        Diesel            1        BMW            Manual   \n",
       "\n",
       "  exterior_color  fuel_efficiency_kmpl  \n",
       "0          Black             15.985031  \n",
       "1           Gray             21.093824  \n",
       "2           Blue              9.789724  \n",
       "3            Red             25.626237  \n",
       "4           Gray             22.844176  "
      ]
     },
     "execution_count": 3,
     "metadata": {},
     "output_type": "execute_result"
    }
   ],
   "source": [
    "train = pd.read_csv(\"Train.csv\")\n",
    "train.head()"
   ]
  },
  {
   "cell_type": "code",
   "execution_count": 6,
   "id": "61b65fdc-03ae-44f7-b255-88c52dd3c1bb",
   "metadata": {},
   "outputs": [
    {
     "data": {
      "text/plain": [
       "(14800, 7)"
      ]
     },
     "execution_count": 6,
     "metadata": {},
     "output_type": "execute_result"
    }
   ],
   "source": [
    "train.shape"
   ]
  },
  {
   "cell_type": "code",
   "execution_count": 8,
   "id": "75841fc8-c608-4ff6-8c6b-496bda4ecbdc",
   "metadata": {},
   "outputs": [
    {
     "data": {
      "text/plain": [
       "engine_capacity_cc      0\n",
       "fuel_category           0\n",
       "owner_count             0\n",
       "car_brand               0\n",
       "transmission_type       0\n",
       "exterior_color          0\n",
       "fuel_efficiency_kmpl    0\n",
       "dtype: int64"
      ]
     },
     "execution_count": 8,
     "metadata": {},
     "output_type": "execute_result"
    }
   ],
   "source": [
    "train.isnull().sum()"
   ]
  },
  {
   "cell_type": "code",
   "execution_count": 10,
   "id": "05f79ef4-bda3-4506-bdbc-f40ffe00187c",
   "metadata": {},
   "outputs": [
    {
     "data": {
      "text/plain": [
       "0"
      ]
     },
     "execution_count": 10,
     "metadata": {},
     "output_type": "execute_result"
    }
   ],
   "source": [
    "train.duplicated().sum()"
   ]
  },
  {
   "cell_type": "code",
   "execution_count": 12,
   "id": "acc8f6f5-f60b-44a7-b501-de4b8b373c32",
   "metadata": {},
   "outputs": [
    {
     "name": "stdout",
     "output_type": "stream",
     "text": [
      "<class 'pandas.core.frame.DataFrame'>\n",
      "RangeIndex: 14800 entries, 0 to 14799\n",
      "Data columns (total 7 columns):\n",
      " #   Column                Non-Null Count  Dtype  \n",
      "---  ------                --------------  -----  \n",
      " 0   engine_capacity_cc    14800 non-null  int64  \n",
      " 1   fuel_category         14800 non-null  object \n",
      " 2   owner_count           14800 non-null  int64  \n",
      " 3   car_brand             14800 non-null  object \n",
      " 4   transmission_type     14800 non-null  object \n",
      " 5   exterior_color        14800 non-null  object \n",
      " 6   fuel_efficiency_kmpl  14800 non-null  float64\n",
      "dtypes: float64(1), int64(2), object(4)\n",
      "memory usage: 809.5+ KB\n"
     ]
    }
   ],
   "source": [
    "train.info()"
   ]
  },
  {
   "cell_type": "code",
   "execution_count": 14,
   "id": "e188bcf3-3059-49b6-b43a-2a32496bb59c",
   "metadata": {},
   "outputs": [
    {
     "data": {
      "text/html": [
       "<div>\n",
       "<style scoped>\n",
       "    .dataframe tbody tr th:only-of-type {\n",
       "        vertical-align: middle;\n",
       "    }\n",
       "\n",
       "    .dataframe tbody tr th {\n",
       "        vertical-align: top;\n",
       "    }\n",
       "\n",
       "    .dataframe thead th {\n",
       "        text-align: right;\n",
       "    }\n",
       "</style>\n",
       "<table border=\"1\" class=\"dataframe\">\n",
       "  <thead>\n",
       "    <tr style=\"text-align: right;\">\n",
       "      <th></th>\n",
       "      <th>engine_capacity_cc</th>\n",
       "      <th>fuel_category</th>\n",
       "      <th>owner_count</th>\n",
       "      <th>car_brand</th>\n",
       "      <th>transmission_type</th>\n",
       "      <th>exterior_color</th>\n",
       "      <th>fuel_efficiency_kmpl</th>\n",
       "    </tr>\n",
       "  </thead>\n",
       "  <tbody>\n",
       "    <tr>\n",
       "      <th>0</th>\n",
       "      <td>1500</td>\n",
       "      <td>Electric</td>\n",
       "      <td>3</td>\n",
       "      <td>Kia</td>\n",
       "      <td>Automatic</td>\n",
       "      <td>Black</td>\n",
       "      <td>NaN</td>\n",
       "    </tr>\n",
       "    <tr>\n",
       "      <th>1</th>\n",
       "      <td>1000</td>\n",
       "      <td>Diesel</td>\n",
       "      <td>3</td>\n",
       "      <td>Ford</td>\n",
       "      <td>Automatic</td>\n",
       "      <td>Silver</td>\n",
       "      <td>NaN</td>\n",
       "    </tr>\n",
       "    <tr>\n",
       "      <th>2</th>\n",
       "      <td>800</td>\n",
       "      <td>Petrol</td>\n",
       "      <td>5</td>\n",
       "      <td>Nissan</td>\n",
       "      <td>Automatic</td>\n",
       "      <td>Black</td>\n",
       "      <td>NaN</td>\n",
       "    </tr>\n",
       "    <tr>\n",
       "      <th>3</th>\n",
       "      <td>1500</td>\n",
       "      <td>Electric</td>\n",
       "      <td>5</td>\n",
       "      <td>Tesla</td>\n",
       "      <td>Manual</td>\n",
       "      <td>Blue</td>\n",
       "      <td>NaN</td>\n",
       "    </tr>\n",
       "    <tr>\n",
       "      <th>4</th>\n",
       "      <td>3000</td>\n",
       "      <td>Petrol</td>\n",
       "      <td>3</td>\n",
       "      <td>Ford</td>\n",
       "      <td>Manual</td>\n",
       "      <td>Silver</td>\n",
       "      <td>NaN</td>\n",
       "    </tr>\n",
       "  </tbody>\n",
       "</table>\n",
       "</div>"
      ],
      "text/plain": [
       "   engine_capacity_cc fuel_category  owner_count car_brand transmission_type  \\\n",
       "0                1500      Electric            3       Kia         Automatic   \n",
       "1                1000        Diesel            3      Ford         Automatic   \n",
       "2                 800        Petrol            5    Nissan         Automatic   \n",
       "3                1500      Electric            5     Tesla            Manual   \n",
       "4                3000        Petrol            3      Ford            Manual   \n",
       "\n",
       "  exterior_color  fuel_efficiency_kmpl  \n",
       "0          Black                   NaN  \n",
       "1         Silver                   NaN  \n",
       "2          Black                   NaN  \n",
       "3           Blue                   NaN  \n",
       "4         Silver                   NaN  "
      ]
     },
     "execution_count": 14,
     "metadata": {},
     "output_type": "execute_result"
    }
   ],
   "source": [
    "test = pd.read_csv(\"Test.csv\")\n",
    "test.head()"
   ]
  },
  {
   "cell_type": "code",
   "execution_count": 16,
   "id": "81057cef-01aa-401e-9bd2-846a48c78809",
   "metadata": {},
   "outputs": [
    {
     "data": {
      "text/plain": [
       "(200, 7)"
      ]
     },
     "execution_count": 16,
     "metadata": {},
     "output_type": "execute_result"
    }
   ],
   "source": [
    "test.shape"
   ]
  },
  {
   "cell_type": "code",
   "execution_count": 18,
   "id": "aedbd89c-5d07-44df-997d-9d74b4d7facb",
   "metadata": {},
   "outputs": [
    {
     "data": {
      "text/plain": [
       "engine_capacity_cc        0\n",
       "fuel_category             0\n",
       "owner_count               0\n",
       "car_brand                 0\n",
       "transmission_type         0\n",
       "exterior_color            0\n",
       "fuel_efficiency_kmpl    200\n",
       "dtype: int64"
      ]
     },
     "execution_count": 18,
     "metadata": {},
     "output_type": "execute_result"
    }
   ],
   "source": [
    "test.isnull().sum()"
   ]
  },
  {
   "cell_type": "code",
   "execution_count": 20,
   "id": "eb15e86e-fc31-490f-98ba-f8aa38c69ed1",
   "metadata": {},
   "outputs": [
    {
     "data": {
      "text/plain": [
       "0"
      ]
     },
     "execution_count": 20,
     "metadata": {},
     "output_type": "execute_result"
    }
   ],
   "source": [
    "test.duplicated().sum()"
   ]
  },
  {
   "cell_type": "code",
   "execution_count": 22,
   "id": "22b6a1f9-2c49-42ec-a039-4bfe21264aab",
   "metadata": {},
   "outputs": [
    {
     "data": {
      "text/plain": [
       "<Axes: ylabel='fuel_efficiency_kmpl'>"
      ]
     },
     "execution_count": 22,
     "metadata": {},
     "output_type": "execute_result"
    },
    {
     "data": {
      "image/png": "[encoded data removed]",
      "text/plain": [
       "<Figure size 640x480 with 1 Axes>"
      ]
     },
     "metadata": {},
     "output_type": "display_data"
    }
   ],
   "source": [
    "sns.boxplot(train['fuel_efficiency_kmpl'])"
   ]
  },
  {
   "cell_type": "code",
   "execution_count": 24,
   "id": "ad87e3a3-d91b-49cb-a229-78417b4ae3f3",
   "metadata": {},
   "outputs": [
    {
     "data": {
      "text/plain": [
       "(15000, 7)"
      ]
     },
     "execution_count": 24,
     "metadata": {},
     "output_type": "execute_result"
    }
   ],
   "source": [
    "combined = pd.concat([train, test], axis = 0)\n",
    "combined.shape"
   ]
  },
  {
   "cell_type": "code",
   "execution_count": 26,
   "id": "6f752dd3-6115-4476-9d88-629a6a2bd12c",
   "metadata": {},
   "outputs": [],
   "source": [
    "numerical_columns = combined.select_dtypes(exclude= 'object')"
   ]
  },
  {
   "cell_type": "code",
   "execution_count": 28,
   "id": "fb139ce8-204e-4cd3-9770-1df5d975d930",
   "metadata": {},
   "outputs": [
    {
     "data": {
      "image/png": "[encoded data removed]",
      "text/plain": [
       "<Figure size 1500x500 with 3 Axes>"
      ]
     },
     "metadata": {},
     "output_type": "display_data"
    }
   ],
   "source": [
    "fig, axes = plt.subplots(1, 3, figsize=(15,5))\n",
    "axes = axes.flatten()\n",
    "\n",
    "for i, col in enumerate(numerical_columns.columns):\n",
    "    sns.boxplot(data = combined, y=col, ax=axes[i])\n",
    "    axes[i].set_title(f'Bloxplot of {col}')\n",
    "\n",
    "plt.tight_layout()\n",
    "plt.show()"
   ]
  },
  {
   "cell_type": "code",
   "execution_count": 42,
   "id": "0ce2df7e-9fc9-4fa6-b8b8-1329a7456683",
   "metadata": {},
   "outputs": [],
   "source": [
    "categorical_variables = combined.select_dtypes(include= 'object')"
   ]
  },
  {
   "cell_type": "code",
   "execution_count": 40,
   "id": "ed7a4de6-656e-4a9e-93e0-9c9e5ad387e6",
   "metadata": {},
   "outputs": [
    {
     "data": {
      "text/plain": [
       "car_brand\n",
       "Ford          1539\n",
       "Chevrolet     1528\n",
       "Kia           1517\n",
       "Honda         1517\n",
       "Toyota        1513\n",
       "Nissan        1512\n",
       "Volkswagen    1500\n",
       "Tesla         1480\n",
       "BMW           1450\n",
       "Hyundai       1444\n",
       "Name: count, dtype: int64"
      ]
     },
     "execution_count": 40,
     "metadata": {},
     "output_type": "execute_result"
    }
   ],
   "source": [
    "combined['car_brand'].value_counts()"
   ]
  },
  {
   "cell_type": "code",
   "execution_count": 36,
   "id": "c6ea9042-4027-45e1-96a9-e3f654df844f",
   "metadata": {},
   "outputs": [
    {
     "data": {
      "text/plain": [
       "transmission_type\n",
       "Automatic    7503\n",
       "Manual       7497\n",
       "Name: count, dtype: int64"
      ]
     },
     "execution_count": 36,
     "metadata": {},
     "output_type": "execute_result"
    }
   ],
   "source": [
    "combined['transmission_type'].value_counts()"
   ]
  },
  {
   "cell_type": "code",
   "execution_count": 38,
   "id": "9c2e73e3-87cc-4aee-8e93-c5586b3f9ddc",
   "metadata": {},
   "outputs": [
    {
     "data": {
      "text/plain": [
       "exterior_color\n",
       "White     2546\n",
       "Gray      2524\n",
       "Blue      2506\n",
       "Black     2494\n",
       "Silver    2472\n",
       "Red       2458\n",
       "Name: count, dtype: int64"
      ]
     },
     "execution_count": 38,
     "metadata": {},
     "output_type": "execute_result"
    }
   ],
   "source": [
    "combined['exterior_color'].value_counts()"
   ]
  },
  {
   "cell_type": "code",
   "execution_count": 46,
   "id": "465cdd9e-29ae-43fb-97c0-d16ed6d329aa",
   "metadata": {},
   "outputs": [],
   "source": [
    "le = LabelEncoder()\n",
    "for i in categorical_variables:\n",
    "    combined[i] = le.fit_transform(combined[i])"
   ]
  },
  {
   "cell_type": "code",
   "execution_count": 48,
   "id": "51696fdb-bd23-4d09-8e98-223cf13ebe66",
   "metadata": {},
   "outputs": [
    {
     "data": {
      "text/html": [
       "<div>\n",
       "<style scoped>\n",
       "    .dataframe tbody tr th:only-of-type {\n",
       "        vertical-align: middle;\n",
       "    }\n",
       "\n",
       "    .dataframe tbody tr th {\n",
       "        vertical-align: top;\n",
       "    }\n",
       "\n",
       "    .dataframe thead th {\n",
       "        text-align: right;\n",
       "    }\n",
       "</style>\n",
       "<table border=\"1\" class=\"dataframe\">\n",
       "  <thead>\n",
       "    <tr style=\"text-align: right;\">\n",
       "      <th></th>\n",
       "      <th>engine_capacity_cc</th>\n",
       "      <th>fuel_category</th>\n",
       "      <th>owner_count</th>\n",
       "      <th>car_brand</th>\n",
       "      <th>transmission_type</th>\n",
       "      <th>exterior_color</th>\n",
       "      <th>fuel_efficiency_kmpl</th>\n",
       "    </tr>\n",
       "  </thead>\n",
       "  <tbody>\n",
       "    <tr>\n",
       "      <th>0</th>\n",
       "      <td>5000</td>\n",
       "      <td>2</td>\n",
       "      <td>2</td>\n",
       "      <td>6</td>\n",
       "      <td>0</td>\n",
       "      <td>0</td>\n",
       "      <td>15.985031</td>\n",
       "    </tr>\n",
       "    <tr>\n",
       "      <th>1</th>\n",
       "      <td>1200</td>\n",
       "      <td>0</td>\n",
       "      <td>3</td>\n",
       "      <td>1</td>\n",
       "      <td>1</td>\n",
       "      <td>2</td>\n",
       "      <td>21.093824</td>\n",
       "    </tr>\n",
       "    <tr>\n",
       "      <th>2</th>\n",
       "      <td>5000</td>\n",
       "      <td>0</td>\n",
       "      <td>4</td>\n",
       "      <td>8</td>\n",
       "      <td>0</td>\n",
       "      <td>1</td>\n",
       "      <td>9.789724</td>\n",
       "    </tr>\n",
       "    <tr>\n",
       "      <th>3</th>\n",
       "      <td>1000</td>\n",
       "      <td>0</td>\n",
       "      <td>3</td>\n",
       "      <td>1</td>\n",
       "      <td>1</td>\n",
       "      <td>3</td>\n",
       "      <td>25.626237</td>\n",
       "    </tr>\n",
       "    <tr>\n",
       "      <th>4</th>\n",
       "      <td>1000</td>\n",
       "      <td>0</td>\n",
       "      <td>1</td>\n",
       "      <td>0</td>\n",
       "      <td>1</td>\n",
       "      <td>2</td>\n",
       "      <td>22.844176</td>\n",
       "    </tr>\n",
       "  </tbody>\n",
       "</table>\n",
       "</div>"
      ],
      "text/plain": [
       "   engine_capacity_cc  fuel_category  owner_count  car_brand  \\\n",
       "0                5000              2            2          6   \n",
       "1                1200              0            3          1   \n",
       "2                5000              0            4          8   \n",
       "3                1000              0            3          1   \n",
       "4                1000              0            1          0   \n",
       "\n",
       "   transmission_type  exterior_color  fuel_efficiency_kmpl  \n",
       "0                  0               0             15.985031  \n",
       "1                  1               2             21.093824  \n",
       "2                  0               1              9.789724  \n",
       "3                  1               3             25.626237  \n",
       "4                  1               2             22.844176  "
      ]
     },
     "execution_count": 48,
     "metadata": {},
     "output_type": "execute_result"
    }
   ],
   "source": [
    "combined.head()"
   ]
  },
  {
   "cell_type": "code",
   "execution_count": 50,
   "id": "75c33a10-91ef-403b-bfd1-35345dfa20ec",
   "metadata": {},
   "outputs": [],
   "source": [
    "newtrain = combined.iloc[0:14800, :]\n",
    "newtest = combined.iloc[14800: , :]"
   ]
  },
  {
   "cell_type": "code",
   "execution_count": 52,
   "id": "aa52a0dd-9fd2-46b1-a8be-288522a982d6",
   "metadata": {},
   "outputs": [
    {
     "data": {
      "text/plain": [
       "(14800, 7)"
      ]
     },
     "execution_count": 52,
     "metadata": {},
     "output_type": "execute_result"
    }
   ],
   "source": [
    "newtrain.shape"
   ]
  },
  {
   "cell_type": "code",
   "execution_count": 54,
   "id": "22a4f26f-87d2-409a-99a9-bc7fa63ce1d9",
   "metadata": {},
   "outputs": [
    {
     "data": {
      "text/plain": [
       "(200, 6)"
      ]
     },
     "execution_count": 54,
     "metadata": {},
     "output_type": "execute_result"
    }
   ],
   "source": [
    "newtest = newtest.drop('fuel_efficiency_kmpl', axis = 1)\n",
    "newtest.shape"
   ]
  },
  {
   "cell_type": "code",
   "execution_count": 56,
   "id": "0cd56765-2a67-4ea4-8a67-84e88d7c9a80",
   "metadata": {},
   "outputs": [],
   "source": [
    "x = newtrain.drop('fuel_efficiency_kmpl', axis = 1)\n",
    "y = newtrain['fuel_efficiency_kmpl']"
   ]
  },
  {
   "cell_type": "code",
   "execution_count": 58,
   "id": "7717fc0e-a24f-4f91-839a-a8e2420dd6ae",
   "metadata": {},
   "outputs": [],
   "source": [
    "x_train, x_test, y_train, y_test = train_test_split(x, y, test_size = 0.2, random_state = 1)"
   ]
  },
  {
   "cell_type": "code",
   "execution_count": 76,
   "id": "e632f3e6-d6e0-4c45-b514-cafac988e553",
   "metadata": {},
   "outputs": [],
   "source": [
    "models = {'Linear Regression': LinearRegression(), 'Random Forest': RandomForestRegressor(),\n",
    "         'Bagging': BaggingRegressor(), 'Extra Tree': ExtraTreesRegressor(), 'LightGBM': LGBMRegressor(),\n",
    "         'Gradient Boosting': GradientBoostingRegressor(), 'Adaboost': AdaBoostRegressor(),\n",
    "         'XGB': XGBRegressor()}"
   ]
  },
  {
   "cell_type": "code",
   "execution_count": 78,
   "id": "7826e355-d6b6-4602-a456-68b3c3c1bd6d",
   "metadata": {},
   "outputs": [],
   "source": [
    "def evaluate_models(x_train, x_test, y_train, y_test, models):\n",
    "    results = {}\n",
    "    for name, model in models.items():\n",
    "        predictions = model.fit(x_train, y_train).predict(x_test)\n",
    "        accuracy = np.sqrt(mean_squared_error(y_test, predictions))\n",
    "        results[name] = accuracy\n",
    "    return results"
   ]
  },
  {
   "cell_type": "code",
   "execution_count": 80,
   "id": "1b300ac2-04da-404d-a1d1-55d1d0a120ac",
   "metadata": {},
   "outputs": [
    {
     "name": "stdout",
     "output_type": "stream",
     "text": [
      "[LightGBM] [Info] Auto-choosing row-wise multi-threading, the overhead of testing was 0.000188 seconds.\n",
      "You can set `force_row_wise=true` to remove the overhead.\n",
      "And if memory is not enough, you can set `force_col_wise=true`.\n",
      "[LightGBM] [Info] Total Bins 38\n",
      "[LightGBM] [Info] Number of data points in the train set: 11840, number of used features: 6\n",
      "[LightGBM] [Info] Start training from score 18.149047\n"
     ]
    }
   ],
   "source": [
    "results = evaluate_models(x_train, x_test, y_train, y_test, models)"
   ]
  },
  {
   "cell_type": "code",
   "execution_count": 81,
   "id": "8156ca37-a765-453e-9385-f6ddf4651cd0",
   "metadata": {},
   "outputs": [],
   "source": [
    "best_model_name = min(results, key = results.get)\n",
    "best_model = models[best_model_name]"
   ]
  },
  {
   "cell_type": "code",
   "execution_count": 82,
   "id": "a177be8e-c272-44d3-a6d8-d688b77ade63",
   "metadata": {},
   "outputs": [
    {
     "name": "stdout",
     "output_type": "stream",
     "text": [
      "best model is Linear Regression with rmse 4.903400593403623\n"
     ]
    }
   ],
   "source": [
    "print(f\"best model is {best_model_name} with rmse {results[best_model_name]}\")"
   ]
  },
  {
   "cell_type": "code",
   "execution_count": 83,
   "id": "3144b1d1-70dc-4453-b9f6-bd5cb8222393",
   "metadata": {},
   "outputs": [],
   "source": [
    "y_pred = best_model.fit(x_train, y_train).predict(x_test)"
   ]
  },
  {
   "cell_type": "code",
   "execution_count": 84,
   "id": "8e8db99b-e4dd-4e62-b994-246851247a92",
   "metadata": {},
   "outputs": [
    {
     "name": "stdout",
     "output_type": "stream",
     "text": [
      "4.903400593403623\n"
     ]
    }
   ],
   "source": [
    "print(np.sqrt(mean_squared_error(y_test, y_pred)))"
   ]
  },
  {
   "cell_type": "code",
   "execution_count": 92,
   "id": "151e83a5-333a-49d7-9965-0ed2527457d2",
   "metadata": {},
   "outputs": [],
   "source": [
    "x_train = newtrain.drop('fuel_efficiency_kmpl', axis = 1)\n",
    "y_train = newtrain['fuel_efficiency_kmpl']\n",
    "x_test = newtest\n",
    "y_pred = best_model.fit(x_train, y_train).predict(x_test)"
   ]
  },
  {
   "cell_type": "code",
   "execution_count": 94,
   "id": "2c2b653d-9be5-4731-8631-781a2a7abbdc",
   "metadata": {},
   "outputs": [
    {
     "data": {
      "text/html": [
       "<div>\n",
       "<style scoped>\n",
       "    .dataframe tbody tr th:only-of-type {\n",
       "        vertical-align: middle;\n",
       "    }\n",
       "\n",
       "    .dataframe tbody tr th {\n",
       "        vertical-align: top;\n",
       "    }\n",
       "\n",
       "    .dataframe thead th {\n",
       "        text-align: right;\n",
       "    }\n",
       "</style>\n",
       "<table border=\"1\" class=\"dataframe\">\n",
       "  <thead>\n",
       "    <tr style=\"text-align: right;\">\n",
       "      <th></th>\n",
       "      <th>fuel_efficiency_kmpl</th>\n",
       "    </tr>\n",
       "  </thead>\n",
       "  <tbody>\n",
       "    <tr>\n",
       "      <th>0</th>\n",
       "      <td>18.107546</td>\n",
       "    </tr>\n",
       "    <tr>\n",
       "      <th>1</th>\n",
       "      <td>18.112022</td>\n",
       "    </tr>\n",
       "    <tr>\n",
       "      <th>2</th>\n",
       "      <td>18.018153</td>\n",
       "    </tr>\n",
       "    <tr>\n",
       "      <th>3</th>\n",
       "      <td>18.054572</td>\n",
       "    </tr>\n",
       "    <tr>\n",
       "      <th>4</th>\n",
       "      <td>18.083985</td>\n",
       "    </tr>\n",
       "  </tbody>\n",
       "</table>\n",
       "</div>"
      ],
      "text/plain": [
       "   fuel_efficiency_kmpl\n",
       "0             18.107546\n",
       "1             18.112022\n",
       "2             18.018153\n",
       "3             18.054572\n",
       "4             18.083985"
      ]
     },
     "execution_count": 94,
     "metadata": {},
     "output_type": "execute_result"
    }
   ],
   "source": [
    "solution = pd.DataFrame({'fuel_efficiency_kmpl': y_pred})\n",
    "solution.head()"
   ]
  },
  {
   "cell_type": "code",
   "execution_count": 96,
   "id": "0a88ea73-66fd-485f-bc13-8b620c866eb6",
   "metadata": {},
   "outputs": [],
   "source": [
    "solution.to_csv('Solution.csv', index = False)"
   ]
  },
  {
   "cell_type": "code",
   "execution_count": 106,
   "id": "bb120935-04e9-4fd5-8adf-22e1ed98c37c",
   "metadata": {},
   "outputs": [],
   "source": [
    "xgb = XGBRegressor()\n",
    "x_train = newtrain.drop(['fuel_efficiency_kmpl', 'exterior_color'], axis = 1)\n",
    "y_train = newtrain['fuel_efficiency_kmpl']\n",
    "x_test = newtest.drop('exterior_color', axis = 1)\n",
    "y_pred = xgb.fit(x_train, y_train).predict(x_test)\n",
    "solution = pd.DataFrame({'fuel_efficiency_kmpl': y_pred})\n",
    "solution.to_csv('XGB.csv', index = False)\n",
    "## 5.94"
   ]
  },
  {
   "cell_type": "code",
   "execution_count": 113,
   "id": "32d27918-4d0e-4070-aea7-55df613c05b6",
   "metadata": {},
   "outputs": [
    {
     "data": {
      "image/png": "[encoded data removed]",
      "text/plain": [
       "<Figure size 640x480 with 1 Axes>"
      ]
     },
     "metadata": {},
     "output_type": "display_data"
    }
   ],
   "source": [
    "x = newtrain.drop('fuel_efficiency_kmpl', axis = 1)\n",
    "y = newtrain['fuel_efficiency_kmpl']\n",
    "x_train, x_test, y_train, y_test = train_test_split(x, y, test_size = 0.2, random_state = 1)\n",
    "y_pred = xgb.fit(x_train, y_train).predict(x_test)\n",
    "feature_imp = pd.DataFrame(sorted(zip(xgb.feature_importances_, x.columns), reverse=True)[:20], columns=['Value','Feature'])\n",
    "sns.barplot(x=\"Value\", y=\"Feature\", data=feature_imp.sort_values(by=\"Value\", ascending=False))\n",
    "plt.title(f'{best_model_name} Features')\n",
    "plt.tight_layout()\n",
    "plt.show()"
   ]
  },
  {
   "cell_type": "code",
   "execution_count": 125,
   "id": "203bc464-6d9e-4c26-a1c2-c538b3941a97",
   "metadata": {},
   "outputs": [
    {
     "name": "stdout",
     "output_type": "stream",
     "text": [
      "Fitting 5 folds for each of 50 candidates, totalling 250 fits\n"
     ]
    },
    {
     "name": "stderr",
     "output_type": "stream",
     "text": [
      "C:\\Users\\ahpat\\anaconda3\\Lib\\site-packages\\sklearn\\model_selection\\_search.py:1108: UserWarning: One or more of the test scores are non-finite: [nan nan nan nan nan nan nan nan nan nan nan nan nan nan nan nan nan nan\n",
      " nan nan nan nan nan nan nan nan nan nan nan nan nan nan nan nan nan nan\n",
      " nan nan nan nan nan nan nan nan nan nan nan nan nan nan]\n",
      "  warnings.warn(\n"
     ]
    },
    {
     "name": "stdout",
     "output_type": "stream",
     "text": [
      "{'regressor__colsample_bytree': 0.749816047538945, 'regressor__gamma': 4.75357153204958, 'regressor__learning_rate': 0.22959818254342154, 'regressor__max_depth': 7, 'regressor__min_child_weight': 5, 'regressor__n_estimators': 714, 'regressor__subsample': 0.7783331011414365}\n"
     ]
    }
   ],
   "source": [
    "xgb = XGBRegressor()\n",
    "x_train = newtrain.drop(['fuel_efficiency_kmpl', 'exterior_color'], axis = 1)\n",
    "y_train = newtrain['fuel_efficiency_kmpl']\n",
    "pipeline = Pipeline([\n",
    "    ('regressor', xgb)\n",
    "])\n",
    "param_distributions = {\n",
    "    'regressor__n_estimators': randint(100, 1000),\n",
    "    'regressor__learning_rate': uniform(0.01, 0.3),\n",
    "    'regressor__max_depth': randint(3, 10),\n",
    "    'regressor__subsample': uniform(0.6, 0.4),\n",
    "    'regressor__colsample_bytree': uniform(0.6, 0.4),\n",
    "    'regressor__gamma': uniform(0, 5),\n",
    "    'regressor__min_child_weight': randint(1, 10)\n",
    "}\n",
    "search = RandomizedSearchCV(\n",
    "    pipeline,\n",
    "    param_distributions=param_distributions,\n",
    "    n_iter=50,  # number of iterations (try increasing to 100+ for better results)\n",
    "    cv=5,\n",
    "    scoring='neg_mean_absolute_error',\n",
    "    verbose=1,\n",
    "    random_state=42,\n",
    "    n_jobs=-1\n",
    ")\n",
    "search.fit(x_train, y_train)\n",
    "print(search.best_params_)"
   ]
  },
  {
   "cell_type": "code",
   "execution_count": 127,
   "id": "82137cbf-683f-43a7-a6c4-e443375bba4c",
   "metadata": {},
   "outputs": [
    {
     "data": {
      "text/plain": [
       "{'regressor__colsample_bytree': 0.749816047538945,\n",
       " 'regressor__gamma': 4.75357153204958,\n",
       " 'regressor__learning_rate': 0.22959818254342154,\n",
       " 'regressor__max_depth': 7,\n",
       " 'regressor__min_child_weight': 5,\n",
       " 'regressor__n_estimators': 714,\n",
       " 'regressor__subsample': 0.7783331011414365}"
      ]
     },
     "execution_count": 127,
     "metadata": {},
     "output_type": "execute_result"
    }
   ],
   "source": [
    "search.best_params_"
   ]
  },
  {
   "cell_type": "code",
   "execution_count": 129,
   "id": "2e0e9967-fef2-45bb-ae55-5f317cd099c7",
   "metadata": {},
   "outputs": [
    {
     "name": "stderr",
     "output_type": "stream",
     "text": [
      "C:\\Users\\ahpat\\anaconda3\\Lib\\site-packages\\xgboost\\core.py:158: UserWarning: [16:35:43] WARNING: C:\\buildkite-agent\\builds\\buildkite-windows-cpu-autoscaling-group-i-0c55ff5f71b100e98-1\\xgboost\\xgboost-ci-windows\\src\\learner.cc:740: \n",
      "Parameters: { \"regressor__colsample_bytree\", \"regressor__gamma\", \"regressor__learning_rate\", \"regressor__max_depth\", \"regressor__min_child_weight\", \"regressor__n_estimators\", \"regressor__subsample\" } are not used.\n",
      "\n",
      "  warnings.warn(smsg, UserWarning)\n"
     ]
    }
   ],
   "source": [
    "xgb = XGBRegressor(regressor__colsample_bytree = 0.749816047538945, regressor__gamma = 4.75357153204958, regressor__learning_rate = 0.22959818254342154,\n",
    "                  regressor__max_depth = 7, regressor__min_child_weight = 5, regressor__n_estimators = 714,\n",
    "                  regressor__subsample = 0.7783331011414365)\n",
    "x_train = newtrain.drop(['fuel_efficiency_kmpl', 'exterior_color'], axis = 1)\n",
    "y_train = newtrain['fuel_efficiency_kmpl']\n",
    "x_test = newtest.drop('exterior_color', axis = 1)\n",
    "y_pred = xgb.fit(x_train, y_train).predict(x_test)\n",
    "solution = pd.DataFrame({'fuel_efficiency_kmpl': y_pred})\n",
    "solution.to_csv('Solution.csv', index = False)"
   ]
  },
  {
   "cell_type": "code",
   "execution_count": null,
   "id": "69e7a321-d5a0-4b23-9953-e69d9f374ccc",
   "metadata": {},
   "outputs": [],
   "source": []
  }
 ],
 "metadata": {
  "kernelspec": {
   "display_name": "Python 3 (ipykernel)",
   "language": "python",
   "name": "python3"
  },
  "language_info": {
   "codemirror_mode": {
    "name": "ipython",
    "version": 3
   },
   "file_extension": ".py",
   "mimetype": "text/x-python",
   "name": "python",
   "nbconvert_exporter": "python",
   "pygments_lexer": "ipython3",
   "version": "3.12.7"
  }
 },
 "nbformat": 4,
 "nbformat_minor": 5
}
