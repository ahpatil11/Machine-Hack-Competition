{
 "cells": [
  {
   "cell_type": "code",
   "execution_count": 64,
   "id": "163a80f5",
   "metadata": {},
   "outputs": [],
   "source": [
    "import numpy as np\n",
    "import pandas as pd\n",
    "import matplotlib.pyplot as plt\n",
    "import seaborn as sns\n",
    "from statsmodels.tsa.arima.model import ARIMA\n",
    "from sklearn.ensemble import RandomForestRegressor\n",
    "from sklearn.metrics import mean_squared_error"
   ]
  },
  {
   "cell_type": "code",
   "execution_count": 46,
   "id": "546fbbfc",
   "metadata": {},
   "outputs": [
    {
     "data": {
      "text/html": [
       "<div>\n",
       "<style scoped>\n",
       "    .dataframe tbody tr th:only-of-type {\n",
       "        vertical-align: middle;\n",
       "    }\n",
       "\n",
       "    .dataframe tbody tr th {\n",
       "        vertical-align: top;\n",
       "    }\n",
       "\n",
       "    .dataframe thead th {\n",
       "        text-align: right;\n",
       "    }\n",
       "</style>\n",
       "<table border=\"1\" class=\"dataframe\">\n",
       "  <thead>\n",
       "    <tr style=\"text-align: right;\">\n",
       "      <th></th>\n",
       "      <th>Unnamed: 0</th>\n",
       "      <th>St_Hour</th>\n",
       "      <th>St_Day</th>\n",
       "      <th>St_Month</th>\n",
       "      <th>St_Year</th>\n",
       "      <th>User_type</th>\n",
       "      <th>Datetime</th>\n",
       "      <th>Rental_Bicycles_Count</th>\n",
       "    </tr>\n",
       "  </thead>\n",
       "  <tbody>\n",
       "    <tr>\n",
       "      <th>0</th>\n",
       "      <td>0</td>\n",
       "      <td>0</td>\n",
       "      <td>1</td>\n",
       "      <td>1</td>\n",
       "      <td>2013</td>\n",
       "      <td>occasional</td>\n",
       "      <td>2013-01-01 00:00:00</td>\n",
       "      <td>20</td>\n",
       "    </tr>\n",
       "    <tr>\n",
       "      <th>1</th>\n",
       "      <td>1</td>\n",
       "      <td>0</td>\n",
       "      <td>1</td>\n",
       "      <td>1</td>\n",
       "      <td>2013</td>\n",
       "      <td>subscribed</td>\n",
       "      <td>2013-01-01 00:00:00</td>\n",
       "      <td>26</td>\n",
       "    </tr>\n",
       "    <tr>\n",
       "      <th>2</th>\n",
       "      <td>2</td>\n",
       "      <td>1</td>\n",
       "      <td>1</td>\n",
       "      <td>1</td>\n",
       "      <td>2013</td>\n",
       "      <td>occasional</td>\n",
       "      <td>2013-01-01 01:00:00</td>\n",
       "      <td>23</td>\n",
       "    </tr>\n",
       "    <tr>\n",
       "      <th>3</th>\n",
       "      <td>3</td>\n",
       "      <td>1</td>\n",
       "      <td>1</td>\n",
       "      <td>1</td>\n",
       "      <td>2013</td>\n",
       "      <td>subscribed</td>\n",
       "      <td>2013-01-01 01:00:00</td>\n",
       "      <td>23</td>\n",
       "    </tr>\n",
       "    <tr>\n",
       "      <th>4</th>\n",
       "      <td>4</td>\n",
       "      <td>2</td>\n",
       "      <td>1</td>\n",
       "      <td>1</td>\n",
       "      <td>2013</td>\n",
       "      <td>occasional</td>\n",
       "      <td>2013-01-01 02:00:00</td>\n",
       "      <td>20</td>\n",
       "    </tr>\n",
       "  </tbody>\n",
       "</table>\n",
       "</div>"
      ],
      "text/plain": [
       "   Unnamed: 0  St_Hour  St_Day  St_Month  St_Year   User_type  \\\n",
       "0           0        0       1         1     2013  occasional   \n",
       "1           1        0       1         1     2013  subscribed   \n",
       "2           2        1       1         1     2013  occasional   \n",
       "3           3        1       1         1     2013  subscribed   \n",
       "4           4        2       1         1     2013  occasional   \n",
       "\n",
       "             Datetime  Rental_Bicycles_Count  \n",
       "0 2013-01-01 00:00:00                     20  \n",
       "1 2013-01-01 00:00:00                     26  \n",
       "2 2013-01-01 01:00:00                     23  \n",
       "3 2013-01-01 01:00:00                     23  \n",
       "4 2013-01-01 02:00:00                     20  "
      ]
     },
     "execution_count": 46,
     "metadata": {},
     "output_type": "execute_result"
    }
   ],
   "source": [
    "train_data = pd.read_excel('Train.xlsx')\n",
    "train_data.head()"
   ]
  },
  {
   "cell_type": "code",
   "execution_count": 47,
   "id": "9f8404db",
   "metadata": {},
   "outputs": [
    {
     "data": {
      "text/plain": [
       "(59709, 8)"
      ]
     },
     "execution_count": 47,
     "metadata": {},
     "output_type": "execute_result"
    }
   ],
   "source": [
    "train_data.shape"
   ]
  },
  {
   "cell_type": "code",
   "execution_count": 48,
   "id": "52a2ffda",
   "metadata": {},
   "outputs": [
    {
     "data": {
      "text/html": [
       "<div>\n",
       "<style scoped>\n",
       "    .dataframe tbody tr th:only-of-type {\n",
       "        vertical-align: middle;\n",
       "    }\n",
       "\n",
       "    .dataframe tbody tr th {\n",
       "        vertical-align: top;\n",
       "    }\n",
       "\n",
       "    .dataframe thead th {\n",
       "        text-align: right;\n",
       "    }\n",
       "</style>\n",
       "<table border=\"1\" class=\"dataframe\">\n",
       "  <thead>\n",
       "    <tr style=\"text-align: right;\">\n",
       "      <th></th>\n",
       "      <th>Unnamed: 0</th>\n",
       "      <th>St_Hour</th>\n",
       "      <th>St_Day</th>\n",
       "      <th>St_Month</th>\n",
       "      <th>St_Year</th>\n",
       "      <th>User_type</th>\n",
       "      <th>Datetime</th>\n",
       "    </tr>\n",
       "  </thead>\n",
       "  <tbody>\n",
       "    <tr>\n",
       "      <th>0</th>\n",
       "      <td>0</td>\n",
       "      <td>0</td>\n",
       "      <td>1</td>\n",
       "      <td>6</td>\n",
       "      <td>2016</td>\n",
       "      <td>occasional</td>\n",
       "      <td>2016-06-01 00:00:00</td>\n",
       "    </tr>\n",
       "    <tr>\n",
       "      <th>1</th>\n",
       "      <td>1</td>\n",
       "      <td>0</td>\n",
       "      <td>1</td>\n",
       "      <td>6</td>\n",
       "      <td>2016</td>\n",
       "      <td>subscribed</td>\n",
       "      <td>2016-06-01 00:00:00</td>\n",
       "    </tr>\n",
       "    <tr>\n",
       "      <th>2</th>\n",
       "      <td>2</td>\n",
       "      <td>1</td>\n",
       "      <td>1</td>\n",
       "      <td>6</td>\n",
       "      <td>2016</td>\n",
       "      <td>occasional</td>\n",
       "      <td>2016-06-01 01:00:00</td>\n",
       "    </tr>\n",
       "    <tr>\n",
       "      <th>3</th>\n",
       "      <td>3</td>\n",
       "      <td>1</td>\n",
       "      <td>1</td>\n",
       "      <td>6</td>\n",
       "      <td>2016</td>\n",
       "      <td>subscribed</td>\n",
       "      <td>2016-06-01 01:00:00</td>\n",
       "    </tr>\n",
       "    <tr>\n",
       "      <th>4</th>\n",
       "      <td>4</td>\n",
       "      <td>2</td>\n",
       "      <td>1</td>\n",
       "      <td>6</td>\n",
       "      <td>2016</td>\n",
       "      <td>occasional</td>\n",
       "      <td>2016-06-01 02:00:00</td>\n",
       "    </tr>\n",
       "  </tbody>\n",
       "</table>\n",
       "</div>"
      ],
      "text/plain": [
       "   Unnamed: 0  St_Hour  St_Day  St_Month  St_Year   User_type  \\\n",
       "0           0        0       1         6     2016  occasional   \n",
       "1           1        0       1         6     2016  subscribed   \n",
       "2           2        1       1         6     2016  occasional   \n",
       "3           3        1       1         6     2016  subscribed   \n",
       "4           4        2       1         6     2016  occasional   \n",
       "\n",
       "             Datetime  \n",
       "0 2016-06-01 00:00:00  \n",
       "1 2016-06-01 00:00:00  \n",
       "2 2016-06-01 01:00:00  \n",
       "3 2016-06-01 01:00:00  \n",
       "4 2016-06-01 02:00:00  "
      ]
     },
     "execution_count": 48,
     "metadata": {},
     "output_type": "execute_result"
    }
   ],
   "source": [
    "test_data = pd.read_excel('Test.xlsx')\n",
    "test_data.head()"
   ]
  },
  {
   "cell_type": "code",
   "execution_count": 49,
   "id": "b97e3ce6",
   "metadata": {},
   "outputs": [
    {
     "data": {
      "text/plain": [
       "(1440, 7)"
      ]
     },
     "execution_count": 49,
     "metadata": {},
     "output_type": "execute_result"
    }
   ],
   "source": [
    "test_data.shape"
   ]
  },
  {
   "cell_type": "code",
   "execution_count": 50,
   "id": "1e5db6a3",
   "metadata": {},
   "outputs": [
    {
     "data": {
      "text/plain": [
       "Unnamed: 0               0\n",
       "St_Hour                  0\n",
       "St_Day                   0\n",
       "St_Month                 0\n",
       "St_Year                  0\n",
       "User_type                0\n",
       "Datetime                 0\n",
       "Rental_Bicycles_Count    0\n",
       "dtype: int64"
      ]
     },
     "execution_count": 50,
     "metadata": {},
     "output_type": "execute_result"
    }
   ],
   "source": [
    "train_data.isnull().sum()"
   ]
  },
  {
   "cell_type": "code",
   "execution_count": 51,
   "id": "58d71e5a",
   "metadata": {},
   "outputs": [
    {
     "data": {
      "text/plain": [
       "Unnamed: 0    0\n",
       "St_Hour       0\n",
       "St_Day        0\n",
       "St_Month      0\n",
       "St_Year       0\n",
       "User_type     0\n",
       "Datetime      0\n",
       "dtype: int64"
      ]
     },
     "execution_count": 51,
     "metadata": {},
     "output_type": "execute_result"
    }
   ],
   "source": [
    "test_data.isnull().sum()"
   ]
  },
  {
   "cell_type": "code",
   "execution_count": 52,
   "id": "e69261d7",
   "metadata": {},
   "outputs": [],
   "source": [
    "train_data['Datetime'] = pd.to_datetime(train_data['Datetime'])\n",
    "test_data['Datetime'] = pd.to_datetime(test_data['Datetime'])"
   ]
  },
  {
   "cell_type": "code",
   "execution_count": 53,
   "id": "4056bb82",
   "metadata": {},
   "outputs": [],
   "source": [
    "train_data['Hour'] = train_data['Datetime'].dt.hour\n",
    "train_data['DayOfWeek'] = train_data['Datetime'].dt.dayofweek\n",
    "train_data['DayOfMonth'] = train_data['Datetime'].dt.day\n",
    "train_data['Month'] = train_data['Datetime'].dt.month\n",
    "train_data['Year'] = train_data['Datetime'].dt.year"
   ]
  },
  {
   "cell_type": "code",
   "execution_count": 54,
   "id": "941ce56a",
   "metadata": {},
   "outputs": [],
   "source": [
    "test_data['Hour'] = test_data['Datetime'].dt.hour\n",
    "test_data['DayOfWeek'] = test_data['Datetime'].dt.dayofweek\n",
    "test_data['DayOfMonth'] = test_data['Datetime'].dt.day\n",
    "test_data['Month'] = test_data['Datetime'].dt.month\n",
    "test_data['Year'] = test_data['Datetime'].dt.year"
   ]
  },
  {
   "cell_type": "code",
   "execution_count": 55,
   "id": "42f05f11",
   "metadata": {},
   "outputs": [],
   "source": [
    "# Sort the data by 'Datetime' to ensure time series order\n",
    "train_data = train_data.sort_values('Datetime').reset_index(drop=True)\n",
    "test_data = test_data.sort_values('Datetime').reset_index(drop=True)"
   ]
  },
  {
   "cell_type": "code",
   "execution_count": 58,
   "id": "8ba74813",
   "metadata": {},
   "outputs": [
    {
     "data": {
      "text/html": [
       "<div>\n",
       "<style scoped>\n",
       "    .dataframe tbody tr th:only-of-type {\n",
       "        vertical-align: middle;\n",
       "    }\n",
       "\n",
       "    .dataframe tbody tr th {\n",
       "        vertical-align: top;\n",
       "    }\n",
       "\n",
       "    .dataframe thead th {\n",
       "        text-align: right;\n",
       "    }\n",
       "</style>\n",
       "<table border=\"1\" class=\"dataframe\">\n",
       "  <thead>\n",
       "    <tr style=\"text-align: right;\">\n",
       "      <th></th>\n",
       "      <th>Unnamed: 0</th>\n",
       "      <th>St_Hour</th>\n",
       "      <th>St_Day</th>\n",
       "      <th>St_Month</th>\n",
       "      <th>St_Year</th>\n",
       "      <th>User_type</th>\n",
       "      <th>Datetime</th>\n",
       "      <th>Rental_Bicycles_Count</th>\n",
       "      <th>Hour</th>\n",
       "      <th>DayOfWeek</th>\n",
       "      <th>DayOfMonth</th>\n",
       "      <th>Month</th>\n",
       "      <th>Year</th>\n",
       "    </tr>\n",
       "  </thead>\n",
       "  <tbody>\n",
       "    <tr>\n",
       "      <th>0</th>\n",
       "      <td>0</td>\n",
       "      <td>0</td>\n",
       "      <td>1</td>\n",
       "      <td>1</td>\n",
       "      <td>2013</td>\n",
       "      <td>occasional</td>\n",
       "      <td>2013-01-01 00:00:00</td>\n",
       "      <td>20</td>\n",
       "      <td>0</td>\n",
       "      <td>1</td>\n",
       "      <td>1</td>\n",
       "      <td>1</td>\n",
       "      <td>2013</td>\n",
       "    </tr>\n",
       "    <tr>\n",
       "      <th>1</th>\n",
       "      <td>1</td>\n",
       "      <td>0</td>\n",
       "      <td>1</td>\n",
       "      <td>1</td>\n",
       "      <td>2013</td>\n",
       "      <td>subscribed</td>\n",
       "      <td>2013-01-01 00:00:00</td>\n",
       "      <td>26</td>\n",
       "      <td>0</td>\n",
       "      <td>1</td>\n",
       "      <td>1</td>\n",
       "      <td>1</td>\n",
       "      <td>2013</td>\n",
       "    </tr>\n",
       "    <tr>\n",
       "      <th>2</th>\n",
       "      <td>2</td>\n",
       "      <td>1</td>\n",
       "      <td>1</td>\n",
       "      <td>1</td>\n",
       "      <td>2013</td>\n",
       "      <td>occasional</td>\n",
       "      <td>2013-01-01 01:00:00</td>\n",
       "      <td>23</td>\n",
       "      <td>1</td>\n",
       "      <td>1</td>\n",
       "      <td>1</td>\n",
       "      <td>1</td>\n",
       "      <td>2013</td>\n",
       "    </tr>\n",
       "    <tr>\n",
       "      <th>3</th>\n",
       "      <td>3</td>\n",
       "      <td>1</td>\n",
       "      <td>1</td>\n",
       "      <td>1</td>\n",
       "      <td>2013</td>\n",
       "      <td>subscribed</td>\n",
       "      <td>2013-01-01 01:00:00</td>\n",
       "      <td>23</td>\n",
       "      <td>1</td>\n",
       "      <td>1</td>\n",
       "      <td>1</td>\n",
       "      <td>1</td>\n",
       "      <td>2013</td>\n",
       "    </tr>\n",
       "    <tr>\n",
       "      <th>4</th>\n",
       "      <td>4</td>\n",
       "      <td>2</td>\n",
       "      <td>1</td>\n",
       "      <td>1</td>\n",
       "      <td>2013</td>\n",
       "      <td>occasional</td>\n",
       "      <td>2013-01-01 02:00:00</td>\n",
       "      <td>20</td>\n",
       "      <td>2</td>\n",
       "      <td>1</td>\n",
       "      <td>1</td>\n",
       "      <td>1</td>\n",
       "      <td>2013</td>\n",
       "    </tr>\n",
       "  </tbody>\n",
       "</table>\n",
       "</div>"
      ],
      "text/plain": [
       "   Unnamed: 0  St_Hour  St_Day  St_Month  St_Year   User_type  \\\n",
       "0           0        0       1         1     2013  occasional   \n",
       "1           1        0       1         1     2013  subscribed   \n",
       "2           2        1       1         1     2013  occasional   \n",
       "3           3        1       1         1     2013  subscribed   \n",
       "4           4        2       1         1     2013  occasional   \n",
       "\n",
       "             Datetime  Rental_Bicycles_Count  Hour  DayOfWeek  DayOfMonth  \\\n",
       "0 2013-01-01 00:00:00                     20     0          1           1   \n",
       "1 2013-01-01 00:00:00                     26     0          1           1   \n",
       "2 2013-01-01 01:00:00                     23     1          1           1   \n",
       "3 2013-01-01 01:00:00                     23     1          1           1   \n",
       "4 2013-01-01 02:00:00                     20     2          1           1   \n",
       "\n",
       "   Month  Year  \n",
       "0      1  2013  \n",
       "1      1  2013  \n",
       "2      1  2013  \n",
       "3      1  2013  \n",
       "4      1  2013  "
      ]
     },
     "execution_count": 58,
     "metadata": {},
     "output_type": "execute_result"
    }
   ],
   "source": [
    "train_data.head()"
   ]
  },
  {
   "cell_type": "code",
   "execution_count": 57,
   "id": "26965b51",
   "metadata": {},
   "outputs": [
    {
     "data": {
      "text/html": [
       "<div>\n",
       "<style scoped>\n",
       "    .dataframe tbody tr th:only-of-type {\n",
       "        vertical-align: middle;\n",
       "    }\n",
       "\n",
       "    .dataframe tbody tr th {\n",
       "        vertical-align: top;\n",
       "    }\n",
       "\n",
       "    .dataframe thead th {\n",
       "        text-align: right;\n",
       "    }\n",
       "</style>\n",
       "<table border=\"1\" class=\"dataframe\">\n",
       "  <thead>\n",
       "    <tr style=\"text-align: right;\">\n",
       "      <th></th>\n",
       "      <th>Unnamed: 0</th>\n",
       "      <th>St_Hour</th>\n",
       "      <th>St_Day</th>\n",
       "      <th>St_Month</th>\n",
       "      <th>St_Year</th>\n",
       "      <th>User_type</th>\n",
       "      <th>Datetime</th>\n",
       "      <th>Hour</th>\n",
       "      <th>DayOfWeek</th>\n",
       "      <th>DayOfMonth</th>\n",
       "      <th>Month</th>\n",
       "      <th>Year</th>\n",
       "    </tr>\n",
       "  </thead>\n",
       "  <tbody>\n",
       "    <tr>\n",
       "      <th>0</th>\n",
       "      <td>0</td>\n",
       "      <td>0</td>\n",
       "      <td>1</td>\n",
       "      <td>6</td>\n",
       "      <td>2016</td>\n",
       "      <td>occasional</td>\n",
       "      <td>2016-06-01 00:00:00</td>\n",
       "      <td>0</td>\n",
       "      <td>2</td>\n",
       "      <td>1</td>\n",
       "      <td>6</td>\n",
       "      <td>2016</td>\n",
       "    </tr>\n",
       "    <tr>\n",
       "      <th>1</th>\n",
       "      <td>1</td>\n",
       "      <td>0</td>\n",
       "      <td>1</td>\n",
       "      <td>6</td>\n",
       "      <td>2016</td>\n",
       "      <td>subscribed</td>\n",
       "      <td>2016-06-01 00:00:00</td>\n",
       "      <td>0</td>\n",
       "      <td>2</td>\n",
       "      <td>1</td>\n",
       "      <td>6</td>\n",
       "      <td>2016</td>\n",
       "    </tr>\n",
       "    <tr>\n",
       "      <th>2</th>\n",
       "      <td>2</td>\n",
       "      <td>1</td>\n",
       "      <td>1</td>\n",
       "      <td>6</td>\n",
       "      <td>2016</td>\n",
       "      <td>occasional</td>\n",
       "      <td>2016-06-01 01:00:00</td>\n",
       "      <td>1</td>\n",
       "      <td>2</td>\n",
       "      <td>1</td>\n",
       "      <td>6</td>\n",
       "      <td>2016</td>\n",
       "    </tr>\n",
       "    <tr>\n",
       "      <th>3</th>\n",
       "      <td>3</td>\n",
       "      <td>1</td>\n",
       "      <td>1</td>\n",
       "      <td>6</td>\n",
       "      <td>2016</td>\n",
       "      <td>subscribed</td>\n",
       "      <td>2016-06-01 01:00:00</td>\n",
       "      <td>1</td>\n",
       "      <td>2</td>\n",
       "      <td>1</td>\n",
       "      <td>6</td>\n",
       "      <td>2016</td>\n",
       "    </tr>\n",
       "    <tr>\n",
       "      <th>4</th>\n",
       "      <td>4</td>\n",
       "      <td>2</td>\n",
       "      <td>1</td>\n",
       "      <td>6</td>\n",
       "      <td>2016</td>\n",
       "      <td>occasional</td>\n",
       "      <td>2016-06-01 02:00:00</td>\n",
       "      <td>2</td>\n",
       "      <td>2</td>\n",
       "      <td>1</td>\n",
       "      <td>6</td>\n",
       "      <td>2016</td>\n",
       "    </tr>\n",
       "  </tbody>\n",
       "</table>\n",
       "</div>"
      ],
      "text/plain": [
       "   Unnamed: 0  St_Hour  St_Day  St_Month  St_Year   User_type  \\\n",
       "0           0        0       1         6     2016  occasional   \n",
       "1           1        0       1         6     2016  subscribed   \n",
       "2           2        1       1         6     2016  occasional   \n",
       "3           3        1       1         6     2016  subscribed   \n",
       "4           4        2       1         6     2016  occasional   \n",
       "\n",
       "             Datetime  Hour  DayOfWeek  DayOfMonth  Month  Year  \n",
       "0 2016-06-01 00:00:00     0          2           1      6  2016  \n",
       "1 2016-06-01 00:00:00     0          2           1      6  2016  \n",
       "2 2016-06-01 01:00:00     1          2           1      6  2016  \n",
       "3 2016-06-01 01:00:00     1          2           1      6  2016  \n",
       "4 2016-06-01 02:00:00     2          2           1      6  2016  "
      ]
     },
     "execution_count": 57,
     "metadata": {},
     "output_type": "execute_result"
    }
   ],
   "source": [
    "test_data.head()"
   ]
  },
  {
   "cell_type": "code",
   "execution_count": 59,
   "id": "7eb18bfa",
   "metadata": {},
   "outputs": [],
   "source": [
    "from sklearn.preprocessing import LabelEncoder\n",
    "le = LabelEncoder()\n",
    "train_data['User_type'] = le.fit_transform(train_data['User_type'])\n",
    "test_data['User_type'] = le.fit_transform(test_data['User_type'])"
   ]
  },
  {
   "cell_type": "code",
   "execution_count": 60,
   "id": "a72a95fe",
   "metadata": {},
   "outputs": [],
   "source": [
    "features = ['Hour', 'DayOfWeek', 'DayOfMonth', 'Month', 'Year', 'User_type']\n",
    "X_train = train_data[features]\n",
    "y_train = train_data['Rental_Bicycles_Count']\n",
    "rf_model = RandomForestRegressor(n_estimators=100, random_state=42)\n",
    "rf_model.fit(X_train, y_train)\n",
    "X_test = test_data[features]\n",
    "test_predictions = rf_model.predict(X_test)\n",
    "output = pd.DataFrame({'Rental_Bicycles_Count': test_predictions})\n",
    "output.to_csv('Solution.csv', index=False)"
   ]
  },
  {
   "cell_type": "code",
   "execution_count": 66,
   "id": "00bac5cd",
   "metadata": {},
   "outputs": [
    {
     "data": {
      "image/png": "[encoded data removed]",
      "text/plain": [
       "<Figure size 1000x500 with 1 Axes>"
      ]
     },
     "metadata": {},
     "output_type": "display_data"
    }
   ],
   "source": [
    "feature_imp = pd.DataFrame(sorted(zip(rf_model.feature_importances_, X_train.columns), reverse=True)[:], columns=['Value','Feature'])\n",
    "plt.figure(figsize=(10,5))\n",
    "sns.barplot(x=\"Value\", y=\"Feature\", data=feature_imp.sort_values(by=\"Value\", ascending=False))\n",
    "plt.title('RF Features')\n",
    "plt.tight_layout()\n",
    "plt.show()"
   ]
  },
  {
   "cell_type": "code",
   "execution_count": null,
   "id": "667a2113",
   "metadata": {},
   "outputs": [],
   "source": []
  },
  {
   "cell_type": "code",
   "execution_count": null,
   "id": "a69a49ae",
   "metadata": {},
   "outputs": [],
   "source": []
  },
  {
   "cell_type": "raw",
   "id": "5a3b570f",
   "metadata": {},
   "source": [
    "# Create lag features for the target variable\n",
    "for lag in range(1, 25):  # Lag features for past 24 hours\n",
    "    train_data[f'Lag_{lag}'] = train_data['Rental_Bicycles_Count'].shift(lag)"
   ]
  },
  {
   "cell_type": "raw",
   "id": "b040eb0e",
   "metadata": {},
   "source": [
    "# Create rolling mean features\n",
    "train_data['Rolling_Mean_3'] = train_data['Rental_Bicycles_Count'].rolling(window=3).mean()\n",
    "train_data['Rolling_Mean_12'] = train_data['Rental_Bicycles_Count'].rolling(window=12).mean()\n",
    "train_data['Rolling_Mean_24'] = train_data['Rental_Bicycles_Count'].rolling(window=24).mean()"
   ]
  },
  {
   "cell_type": "raw",
   "id": "7dcb646c",
   "metadata": {},
   "source": [
    "# Drop rows with NaN values created by lag and rolling features\n",
    "train_data.dropna(inplace=True)"
   ]
  },
  {
   "cell_type": "raw",
   "id": "de43fa8c",
   "metadata": {},
   "source": [
    "# Define the feature set (excluding the target and the original columns)\n",
    "features = [col for col in train_data.columns if col not in ['Datetime', 'Rental_Bicycles_Count', 'Unnamed: 0', 'User_type', 'St_Hour', 'St_Day', 'St_Month', 'St_Year']]\n",
    "X_train = train_data[features]\n",
    "y_train = train_data['Rental_Bicycles_Count']\n",
    "rf_model = RandomForestRegressor(n_estimators=100, random_state=42)\n",
    "rf_model.fit(X_train, y_train)\n",
    "rf_train_pred = rf_model.predict(X_train)\n",
    "rf_rmse = np.sqrt(mean_squared_error(y_train, rf_train_pred))\n",
    "print(f\"Random Forest RMSE: {rf_rmse}\")"
   ]
  },
  {
   "cell_type": "code",
   "execution_count": null,
   "id": "93882862",
   "metadata": {},
   "outputs": [],
   "source": []
  }
 ],
 "metadata": {
  "kernelspec": {
   "display_name": "Python 3 (ipykernel)",
   "language": "python",
   "name": "python3"
  },
  "language_info": {
   "codemirror_mode": {
    "name": "ipython",
    "version": 3
   },
   "file_extension": ".py",
   "mimetype": "text/x-python",
   "name": "python",
   "nbconvert_exporter": "python",
   "pygments_lexer": "ipython3",
   "version": "3.11.5"
  }
 },
 "nbformat": 4,
 "nbformat_minor": 5
}
