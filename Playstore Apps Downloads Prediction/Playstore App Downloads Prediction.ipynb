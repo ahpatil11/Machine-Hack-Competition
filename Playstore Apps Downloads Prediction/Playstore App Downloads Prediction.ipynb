{
 "cells": [
  {
   "cell_type": "code",
   "execution_count": 108,
   "metadata": {},
   "outputs": [],
   "source": [
    "import numpy as np\n",
    "import pandas as pd\n",
    "import matplotlib.pyplot as plt\n",
    "import seaborn as sns"
   ]
  },
  {
   "cell_type": "code",
   "execution_count": 109,
   "metadata": {},
   "outputs": [
    {
     "data": {
      "text/html": [
       "<div>\n",
       "<style scoped>\n",
       "    .dataframe tbody tr th:only-of-type {\n",
       "        vertical-align: middle;\n",
       "    }\n",
       "\n",
       "    .dataframe tbody tr th {\n",
       "        vertical-align: top;\n",
       "    }\n",
       "\n",
       "    .dataframe thead th {\n",
       "        text-align: right;\n",
       "    }\n",
       "</style>\n",
       "<table border=\"1\" class=\"dataframe\">\n",
       "  <thead>\n",
       "    <tr style=\"text-align: right;\">\n",
       "      <th></th>\n",
       "      <th>Offered_By</th>\n",
       "      <th>Category</th>\n",
       "      <th>Rating</th>\n",
       "      <th>Reviews</th>\n",
       "      <th>Size</th>\n",
       "      <th>Price</th>\n",
       "      <th>Content_Rating</th>\n",
       "      <th>Last_Updated_On</th>\n",
       "      <th>Release_Version</th>\n",
       "      <th>OS_Version_Required</th>\n",
       "      <th>Downloads</th>\n",
       "    </tr>\n",
       "  </thead>\n",
       "  <tbody>\n",
       "    <tr>\n",
       "      <th>0</th>\n",
       "      <td>ps_id-24654</td>\n",
       "      <td>Finance</td>\n",
       "      <td>4.18</td>\n",
       "      <td>1481</td>\n",
       "      <td>Varies with device</td>\n",
       "      <td>Free</td>\n",
       "      <td>Everyone</td>\n",
       "      <td>May 05 2020</td>\n",
       "      <td>Varies with device</td>\n",
       "      <td>Varies with device</td>\n",
       "      <td>100,000+</td>\n",
       "    </tr>\n",
       "    <tr>\n",
       "      <th>1</th>\n",
       "      <td>ps_id-35329</td>\n",
       "      <td>Music And Audio</td>\n",
       "      <td>4.81</td>\n",
       "      <td>302</td>\n",
       "      <td>10M</td>\n",
       "      <td>Free</td>\n",
       "      <td>Everyone</td>\n",
       "      <td>Mar 26 2020</td>\n",
       "      <td>3.9.18</td>\n",
       "      <td>4.1 and up</td>\n",
       "      <td>5,000+</td>\n",
       "    </tr>\n",
       "    <tr>\n",
       "      <th>2</th>\n",
       "      <td>ps_id-11044</td>\n",
       "      <td>Game Casual</td>\n",
       "      <td>4.27</td>\n",
       "      <td>374</td>\n",
       "      <td>27M</td>\n",
       "      <td>Free</td>\n",
       "      <td>Everyone</td>\n",
       "      <td>May 01 2020</td>\n",
       "      <td>1.10.1</td>\n",
       "      <td>4.1 and up</td>\n",
       "      <td>10,000+</td>\n",
       "    </tr>\n",
       "    <tr>\n",
       "      <th>3</th>\n",
       "      <td>ps_id-36068</td>\n",
       "      <td>Business</td>\n",
       "      <td>4.03</td>\n",
       "      <td>122058</td>\n",
       "      <td>Varies with device</td>\n",
       "      <td>Free</td>\n",
       "      <td>Teen</td>\n",
       "      <td>May 02 2020</td>\n",
       "      <td>Varies with device</td>\n",
       "      <td>Varies with device</td>\n",
       "      <td>10,000,000+</td>\n",
       "    </tr>\n",
       "    <tr>\n",
       "      <th>4</th>\n",
       "      <td>ps_id-35831</td>\n",
       "      <td>Medical</td>\n",
       "      <td>4.60</td>\n",
       "      <td>358</td>\n",
       "      <td>Varies with device</td>\n",
       "      <td>297.5742</td>\n",
       "      <td>Everyone</td>\n",
       "      <td>Nov 29 2018</td>\n",
       "      <td>Varies with device</td>\n",
       "      <td>Varies with device</td>\n",
       "      <td>5,000+</td>\n",
       "    </tr>\n",
       "  </tbody>\n",
       "</table>\n",
       "</div>"
      ],
      "text/plain": [
       "    Offered_By         Category  Rating  Reviews                Size  \\\n",
       "0  ps_id-24654          Finance    4.18     1481  Varies with device   \n",
       "1  ps_id-35329  Music And Audio    4.81      302                 10M   \n",
       "2  ps_id-11044      Game Casual    4.27      374                 27M   \n",
       "3  ps_id-36068         Business    4.03   122058  Varies with device   \n",
       "4  ps_id-35831          Medical    4.60      358  Varies with device   \n",
       "\n",
       "      Price Content_Rating Last_Updated_On     Release_Version  \\\n",
       "0      Free       Everyone     May 05 2020  Varies with device   \n",
       "1      Free       Everyone     Mar 26 2020              3.9.18   \n",
       "2      Free       Everyone     May 01 2020              1.10.1   \n",
       "3      Free           Teen     May 02 2020  Varies with device   \n",
       "4  297.5742       Everyone     Nov 29 2018  Varies with device   \n",
       "\n",
       "  OS_Version_Required    Downloads  \n",
       "0  Varies with device     100,000+  \n",
       "1          4.1 and up       5,000+  \n",
       "2          4.1 and up      10,000+  \n",
       "3  Varies with device  10,000,000+  \n",
       "4  Varies with device       5,000+  "
      ]
     },
     "execution_count": 109,
     "metadata": {},
     "output_type": "execute_result"
    }
   ],
   "source": [
    "train = pd.read_csv('Train.csv')\n",
    "train.head()"
   ]
  },
  {
   "cell_type": "code",
   "execution_count": 110,
   "metadata": {},
   "outputs": [
    {
     "data": {
      "text/html": [
       "<div>\n",
       "<style scoped>\n",
       "    .dataframe tbody tr th:only-of-type {\n",
       "        vertical-align: middle;\n",
       "    }\n",
       "\n",
       "    .dataframe tbody tr th {\n",
       "        vertical-align: top;\n",
       "    }\n",
       "\n",
       "    .dataframe thead th {\n",
       "        text-align: right;\n",
       "    }\n",
       "</style>\n",
       "<table border=\"1\" class=\"dataframe\">\n",
       "  <thead>\n",
       "    <tr style=\"text-align: right;\">\n",
       "      <th></th>\n",
       "      <th>Offered_By</th>\n",
       "      <th>Category</th>\n",
       "      <th>Rating</th>\n",
       "      <th>Reviews</th>\n",
       "      <th>Size</th>\n",
       "      <th>Price</th>\n",
       "      <th>Content_Rating</th>\n",
       "      <th>Last_Updated_On</th>\n",
       "      <th>Release_Version</th>\n",
       "      <th>OS_Version_Required</th>\n",
       "    </tr>\n",
       "  </thead>\n",
       "  <tbody>\n",
       "    <tr>\n",
       "      <th>0</th>\n",
       "      <td>ps_id-18231</td>\n",
       "      <td>Game Puzzle</td>\n",
       "      <td>4.52</td>\n",
       "      <td>1362</td>\n",
       "      <td>36M</td>\n",
       "      <td>Free</td>\n",
       "      <td>Everyone</td>\n",
       "      <td>May 05 2020</td>\n",
       "      <td>1.4.1</td>\n",
       "      <td>4.0.3 and up</td>\n",
       "    </tr>\n",
       "    <tr>\n",
       "      <th>1</th>\n",
       "      <td>ps_id-1874</td>\n",
       "      <td>Shopping</td>\n",
       "      <td>4.29</td>\n",
       "      <td>3353</td>\n",
       "      <td>Varies with device</td>\n",
       "      <td>Free</td>\n",
       "      <td>Teen</td>\n",
       "      <td>May 05 2020</td>\n",
       "      <td>Varies with device</td>\n",
       "      <td>Varies with device</td>\n",
       "    </tr>\n",
       "    <tr>\n",
       "      <th>2</th>\n",
       "      <td>ps_id-3182</td>\n",
       "      <td>Photography</td>\n",
       "      <td>4.55</td>\n",
       "      <td>161855</td>\n",
       "      <td>Varies with device</td>\n",
       "      <td>Free</td>\n",
       "      <td>Everyone</td>\n",
       "      <td>May 05 2020</td>\n",
       "      <td>Varies with device</td>\n",
       "      <td>Varies with device</td>\n",
       "    </tr>\n",
       "    <tr>\n",
       "      <th>3</th>\n",
       "      <td>ps_id-31452</td>\n",
       "      <td>Game Action</td>\n",
       "      <td>3.97</td>\n",
       "      <td>545</td>\n",
       "      <td>16M</td>\n",
       "      <td>Free</td>\n",
       "      <td>Everyone</td>\n",
       "      <td>Dec 07 2016</td>\n",
       "      <td>2</td>\n",
       "      <td>4.1 and up</td>\n",
       "    </tr>\n",
       "    <tr>\n",
       "      <th>4</th>\n",
       "      <td>ps_id-25641</td>\n",
       "      <td>Photography</td>\n",
       "      <td>4.65</td>\n",
       "      <td>1672</td>\n",
       "      <td>33M</td>\n",
       "      <td>Free</td>\n",
       "      <td>Everyone</td>\n",
       "      <td>Jan 25 2020</td>\n",
       "      <td>1</td>\n",
       "      <td>4.4 and up</td>\n",
       "    </tr>\n",
       "  </tbody>\n",
       "</table>\n",
       "</div>"
      ],
      "text/plain": [
       "    Offered_By     Category  Rating  Reviews                Size Price  \\\n",
       "0  ps_id-18231  Game Puzzle    4.52     1362                 36M  Free   \n",
       "1   ps_id-1874     Shopping    4.29     3353  Varies with device  Free   \n",
       "2   ps_id-3182  Photography    4.55   161855  Varies with device  Free   \n",
       "3  ps_id-31452  Game Action    3.97      545                 16M  Free   \n",
       "4  ps_id-25641  Photography    4.65     1672                 33M  Free   \n",
       "\n",
       "  Content_Rating Last_Updated_On     Release_Version OS_Version_Required  \n",
       "0       Everyone     May 05 2020               1.4.1        4.0.3 and up  \n",
       "1           Teen     May 05 2020  Varies with device  Varies with device  \n",
       "2       Everyone     May 05 2020  Varies with device  Varies with device  \n",
       "3       Everyone     Dec 07 2016                   2          4.1 and up  \n",
       "4       Everyone     Jan 25 2020                   1          4.4 and up  "
      ]
     },
     "execution_count": 110,
     "metadata": {},
     "output_type": "execute_result"
    }
   ],
   "source": [
    "test = pd.read_csv('Test.csv')\n",
    "test.head()"
   ]
  },
  {
   "cell_type": "code",
   "execution_count": 111,
   "metadata": {},
   "outputs": [
    {
     "data": {
      "text/plain": [
       "Offered_By             0\n",
       "Category               0\n",
       "Rating                 0\n",
       "Reviews                0\n",
       "Size                   0\n",
       "Price                  0\n",
       "Content_Rating         0\n",
       "Last_Updated_On        0\n",
       "Release_Version        0\n",
       "OS_Version_Required    0\n",
       "Downloads              0\n",
       "dtype: int64"
      ]
     },
     "execution_count": 111,
     "metadata": {},
     "output_type": "execute_result"
    }
   ],
   "source": [
    "train.isnull().sum()"
   ]
  },
  {
   "cell_type": "code",
   "execution_count": 112,
   "metadata": {},
   "outputs": [
    {
     "data": {
      "text/plain": [
       "(16516, 11)"
      ]
     },
     "execution_count": 112,
     "metadata": {},
     "output_type": "execute_result"
    }
   ],
   "source": [
    "train.shape"
   ]
  },
  {
   "cell_type": "code",
   "execution_count": 113,
   "metadata": {},
   "outputs": [
    {
     "data": {
      "text/plain": [
       "(24776, 10)"
      ]
     },
     "execution_count": 113,
     "metadata": {},
     "output_type": "execute_result"
    }
   ],
   "source": [
    "test.shape"
   ]
  },
  {
   "cell_type": "code",
   "execution_count": 114,
   "metadata": {},
   "outputs": [
    {
     "name": "stdout",
     "output_type": "stream",
     "text": [
      "<class 'pandas.core.frame.DataFrame'>\n",
      "RangeIndex: 16516 entries, 0 to 16515\n",
      "Data columns (total 11 columns):\n",
      "Offered_By             16516 non-null object\n",
      "Category               16516 non-null object\n",
      "Rating                 16516 non-null float64\n",
      "Reviews                16516 non-null int64\n",
      "Size                   16516 non-null object\n",
      "Price                  16516 non-null object\n",
      "Content_Rating         16516 non-null object\n",
      "Last_Updated_On        16516 non-null object\n",
      "Release_Version        16516 non-null object\n",
      "OS_Version_Required    16516 non-null object\n",
      "Downloads              16516 non-null object\n",
      "dtypes: float64(1), int64(1), object(9)\n",
      "memory usage: 1.4+ MB\n"
     ]
    }
   ],
   "source": [
    "train.info()"
   ]
  },
  {
   "cell_type": "code",
   "execution_count": 115,
   "metadata": {},
   "outputs": [
    {
     "name": "stdout",
     "output_type": "stream",
     "text": [
      "<class 'pandas.core.frame.DataFrame'>\n",
      "RangeIndex: 24776 entries, 0 to 24775\n",
      "Data columns (total 10 columns):\n",
      "Offered_By             24776 non-null object\n",
      "Category               24776 non-null object\n",
      "Rating                 24776 non-null float64\n",
      "Reviews                24776 non-null int64\n",
      "Size                   24776 non-null object\n",
      "Price                  24776 non-null object\n",
      "Content_Rating         24776 non-null object\n",
      "Last_Updated_On        24776 non-null object\n",
      "Release_Version        24776 non-null object\n",
      "OS_Version_Required    24776 non-null object\n",
      "dtypes: float64(1), int64(1), object(8)\n",
      "memory usage: 1.9+ MB\n"
     ]
    }
   ],
   "source": [
    "test.info()"
   ]
  },
  {
   "cell_type": "code",
   "execution_count": 116,
   "metadata": {},
   "outputs": [],
   "source": [
    "newtest = test.copy()"
   ]
  },
  {
   "cell_type": "code",
   "execution_count": 117,
   "metadata": {},
   "outputs": [],
   "source": [
    "import time\n",
    "from datetime import datetime\n",
    "date_format = \"%b %d %Y\"\n",
    "train['No_of_days_Updated'] = train['Last_Updated_On'].apply(lambda x:(datetime.strptime('May 07 2020', date_format)-datetime.strptime(str(x), date_format ) ).days )"
   ]
  },
  {
   "cell_type": "code",
   "execution_count": 118,
   "metadata": {},
   "outputs": [],
   "source": [
    "newtest['No_of_days_Updated'] = newtest['Last_Updated_On'].apply(lambda x:(datetime.strptime('May 07 2020', date_format)-datetime.strptime(str(x), date_format ) ).days )"
   ]
  },
  {
   "cell_type": "code",
   "execution_count": 119,
   "metadata": {},
   "outputs": [],
   "source": [
    "train['Offered_By'] = train['Offered_By'].apply(lambda x:x.split('-')[1])\n",
    "newtest['Offered_By'] = newtest['Offered_By'].apply(lambda x:x.split('-')[1])"
   ]
  },
  {
   "cell_type": "code",
   "execution_count": 120,
   "metadata": {},
   "outputs": [],
   "source": [
    "train['Offered_By'] = train['Offered_By'].astype(int)\n",
    "newtest['Offered_By'] = newtest['Offered_By'].astype(int)"
   ]
  },
  {
   "cell_type": "code",
   "execution_count": 121,
   "metadata": {},
   "outputs": [],
   "source": [
    "train['Size'] = train['Size'].str.replace(',','')\n",
    "k_indices = train['Size'].loc[train['Size'].str.contains('k')].index.tolist()\n",
    "converter = pd.DataFrame(train.loc[k_indices, 'Size'].apply(lambda x: x.strip('k')).astype(float).apply(lambda x: x / 1000).apply(lambda x: round(x, 3)).astype(str))\n",
    "train.loc[k_indices,'Size'] = converter\n",
    "train['Size'] = train['Size'].str.replace('M', '')\n",
    "train['Size'] = train['Size'].str.replace('Varies with device','0')"
   ]
  },
  {
   "cell_type": "code",
   "execution_count": 122,
   "metadata": {},
   "outputs": [],
   "source": [
    "newtest['Size'] = newtest['Size'].str.replace(',','')\n",
    "k_indices = newtest['Size'].loc[newtest['Size'].str.contains('k')].index.tolist()\n",
    "converter = pd.DataFrame(newtest.loc[k_indices, 'Size'].apply(lambda x: x.strip('k')).astype(float).apply(lambda x: x / 1000).apply(lambda x: round(x, 3)).astype(str))\n",
    "newtest.loc[k_indices,'Size'] = converter\n",
    "newtest['Size'] = newtest['Size'].str.replace('M', '')\n",
    "newtest['Size'] = newtest['Size'].str.replace('Varies with device','0')"
   ]
  },
  {
   "cell_type": "code",
   "execution_count": 123,
   "metadata": {},
   "outputs": [],
   "source": [
    "train['Size'] = train['Size'].astype(float)\n",
    "newtest['Size'] = newtest['Size'].astype(float)"
   ]
  },
  {
   "cell_type": "code",
   "execution_count": 124,
   "metadata": {},
   "outputs": [],
   "source": [
    "train['Price'] = train['Price'].str.replace('Free','0')\n",
    "train['Price'] = train['Price'].astype(float)"
   ]
  },
  {
   "cell_type": "code",
   "execution_count": 125,
   "metadata": {},
   "outputs": [],
   "source": [
    "newtest['Price'] = newtest['Price'].str.replace('Free','0')\n",
    "newtest['Price'] = newtest['Price'].astype(float)"
   ]
  },
  {
   "cell_type": "code",
   "execution_count": 126,
   "metadata": {},
   "outputs": [
    {
     "data": {
      "text/html": [
       "<div>\n",
       "<style scoped>\n",
       "    .dataframe tbody tr th:only-of-type {\n",
       "        vertical-align: middle;\n",
       "    }\n",
       "\n",
       "    .dataframe tbody tr th {\n",
       "        vertical-align: top;\n",
       "    }\n",
       "\n",
       "    .dataframe thead th {\n",
       "        text-align: right;\n",
       "    }\n",
       "</style>\n",
       "<table border=\"1\" class=\"dataframe\">\n",
       "  <thead>\n",
       "    <tr style=\"text-align: right;\">\n",
       "      <th></th>\n",
       "      <th>Offered_By</th>\n",
       "      <th>Category</th>\n",
       "      <th>Rating</th>\n",
       "      <th>Reviews</th>\n",
       "      <th>Size</th>\n",
       "      <th>Price</th>\n",
       "      <th>Content_Rating</th>\n",
       "      <th>Last_Updated_On</th>\n",
       "      <th>Release_Version</th>\n",
       "      <th>OS_Version_Required</th>\n",
       "      <th>Downloads</th>\n",
       "      <th>No_of_days_Updated</th>\n",
       "    </tr>\n",
       "  </thead>\n",
       "  <tbody>\n",
       "    <tr>\n",
       "      <th>0</th>\n",
       "      <td>24654</td>\n",
       "      <td>Finance</td>\n",
       "      <td>4.18</td>\n",
       "      <td>1481</td>\n",
       "      <td>0.0</td>\n",
       "      <td>0.0000</td>\n",
       "      <td>Everyone</td>\n",
       "      <td>May 05 2020</td>\n",
       "      <td>Varies with device</td>\n",
       "      <td>Varies with device</td>\n",
       "      <td>100,000+</td>\n",
       "      <td>2</td>\n",
       "    </tr>\n",
       "    <tr>\n",
       "      <th>1</th>\n",
       "      <td>35329</td>\n",
       "      <td>Music And Audio</td>\n",
       "      <td>4.81</td>\n",
       "      <td>302</td>\n",
       "      <td>10.0</td>\n",
       "      <td>0.0000</td>\n",
       "      <td>Everyone</td>\n",
       "      <td>Mar 26 2020</td>\n",
       "      <td>3.9.18</td>\n",
       "      <td>4.1 and up</td>\n",
       "      <td>5,000+</td>\n",
       "      <td>42</td>\n",
       "    </tr>\n",
       "    <tr>\n",
       "      <th>2</th>\n",
       "      <td>11044</td>\n",
       "      <td>Game Casual</td>\n",
       "      <td>4.27</td>\n",
       "      <td>374</td>\n",
       "      <td>27.0</td>\n",
       "      <td>0.0000</td>\n",
       "      <td>Everyone</td>\n",
       "      <td>May 01 2020</td>\n",
       "      <td>1.10.1</td>\n",
       "      <td>4.1 and up</td>\n",
       "      <td>10,000+</td>\n",
       "      <td>6</td>\n",
       "    </tr>\n",
       "    <tr>\n",
       "      <th>3</th>\n",
       "      <td>36068</td>\n",
       "      <td>Business</td>\n",
       "      <td>4.03</td>\n",
       "      <td>122058</td>\n",
       "      <td>0.0</td>\n",
       "      <td>0.0000</td>\n",
       "      <td>Teen</td>\n",
       "      <td>May 02 2020</td>\n",
       "      <td>Varies with device</td>\n",
       "      <td>Varies with device</td>\n",
       "      <td>10,000,000+</td>\n",
       "      <td>5</td>\n",
       "    </tr>\n",
       "    <tr>\n",
       "      <th>4</th>\n",
       "      <td>35831</td>\n",
       "      <td>Medical</td>\n",
       "      <td>4.60</td>\n",
       "      <td>358</td>\n",
       "      <td>0.0</td>\n",
       "      <td>297.5742</td>\n",
       "      <td>Everyone</td>\n",
       "      <td>Nov 29 2018</td>\n",
       "      <td>Varies with device</td>\n",
       "      <td>Varies with device</td>\n",
       "      <td>5,000+</td>\n",
       "      <td>525</td>\n",
       "    </tr>\n",
       "  </tbody>\n",
       "</table>\n",
       "</div>"
      ],
      "text/plain": [
       "   Offered_By         Category  Rating  Reviews  Size     Price  \\\n",
       "0       24654          Finance    4.18     1481   0.0    0.0000   \n",
       "1       35329  Music And Audio    4.81      302  10.0    0.0000   \n",
       "2       11044      Game Casual    4.27      374  27.0    0.0000   \n",
       "3       36068         Business    4.03   122058   0.0    0.0000   \n",
       "4       35831          Medical    4.60      358   0.0  297.5742   \n",
       "\n",
       "  Content_Rating Last_Updated_On     Release_Version OS_Version_Required  \\\n",
       "0       Everyone     May 05 2020  Varies with device  Varies with device   \n",
       "1       Everyone     Mar 26 2020              3.9.18          4.1 and up   \n",
       "2       Everyone     May 01 2020              1.10.1          4.1 and up   \n",
       "3           Teen     May 02 2020  Varies with device  Varies with device   \n",
       "4       Everyone     Nov 29 2018  Varies with device  Varies with device   \n",
       "\n",
       "     Downloads  No_of_days_Updated  \n",
       "0     100,000+                   2  \n",
       "1       5,000+                  42  \n",
       "2      10,000+                   6  \n",
       "3  10,000,000+                   5  \n",
       "4       5,000+                 525  "
      ]
     },
     "execution_count": 126,
     "metadata": {},
     "output_type": "execute_result"
    }
   ],
   "source": [
    "train.head()"
   ]
  },
  {
   "cell_type": "code",
   "execution_count": 127,
   "metadata": {},
   "outputs": [
    {
     "data": {
      "text/plain": [
       "Everyone           13895\n",
       "Teen                1590\n",
       "Everyone 10+         596\n",
       "Mature 17+           429\n",
       "Adults only 18+        4\n",
       "Unrated                2\n",
       "Name: Content_Rating, dtype: int64"
      ]
     },
     "execution_count": 127,
     "metadata": {},
     "output_type": "execute_result"
    }
   ],
   "source": [
    "train['Content_Rating'].value_counts()"
   ]
  },
  {
   "cell_type": "code",
   "execution_count": 128,
   "metadata": {},
   "outputs": [],
   "source": [
    "train['OS_Version_Required'] = [x[0:3] for x in train['OS_Version_Required']]"
   ]
  },
  {
   "cell_type": "code",
   "execution_count": 129,
   "metadata": {},
   "outputs": [],
   "source": [
    "train['OS_Version_Required'] = train['OS_Version_Required'].replace({'Var': 0.0})\n",
    "train['OS_Version_Required'] = train['OS_Version_Required'].astype(float)"
   ]
  },
  {
   "cell_type": "code",
   "execution_count": 130,
   "metadata": {},
   "outputs": [],
   "source": [
    "newtest['OS_Version_Required'] = [x[0:3] for x in newtest['OS_Version_Required']]\n",
    "\n",
    "newtest['OS_Version_Required'] = newtest['OS_Version_Required'].replace({'Var': 0.0})\n",
    "newtest['OS_Version_Required'] = newtest['OS_Version_Required'].astype(float)"
   ]
  },
  {
   "cell_type": "code",
   "execution_count": 131,
   "metadata": {},
   "outputs": [
    {
     "data": {
      "text/plain": [
       "array([0. , 4.1, 5. , 4.4, 4. , 2.3, 4.2, 4.3, 3. , 2.2, 6. , 3.1, 5.1,\n",
       "       2.1, 1.5, 1.6, 8. , 7. , 3.2, 7.1, 1.1, 2. , 1. ])"
      ]
     },
     "execution_count": 131,
     "metadata": {},
     "output_type": "execute_result"
    }
   ],
   "source": [
    "train['OS_Version_Required'].unique()"
   ]
  },
  {
   "cell_type": "code",
   "execution_count": 132,
   "metadata": {},
   "outputs": [
    {
     "data": {
      "text/plain": [
       "array(['Finance', 'Music And Audio', 'Game Casual', 'Business', 'Medical',\n",
       "       'Books And Reference', 'Tools', 'Game', 'Travel And Local',\n",
       "       'Family', 'Game Simulation', 'Lifestyle', 'Comics', 'Education',\n",
       "       'Entertainment', 'Game Action', 'Social', 'Sports', 'Photography',\n",
       "       'Game Word', 'Game Trivia', 'Communication', 'News And Magazines',\n",
       "       'Game Board', 'House And Home', 'Personalization', 'Game Puzzle',\n",
       "       'Productivity', 'Health And Fitness', 'Shopping', 'Art And Design',\n",
       "       'Weather', 'Maps And Navigation', 'Dating', 'Game Arcade',\n",
       "       'Game Role Playing', 'Game Educational', 'Video Players',\n",
       "       'Game Strategy', 'Food And Drink', 'Game Sports',\n",
       "       'Auto And Vehicles', 'Events', 'Game Adventure', 'Parenting',\n",
       "       'Libraries And Demo', 'Game Racing', 'Game Card', 'Game Music',\n",
       "       'Game Casino', 'Beauty'], dtype=object)"
      ]
     },
     "execution_count": 132,
     "metadata": {},
     "output_type": "execute_result"
    }
   ],
   "source": [
    "train['Category'].unique()"
   ]
  },
  {
   "cell_type": "code",
   "execution_count": 133,
   "metadata": {},
   "outputs": [],
   "source": [
    "train['Category'] = train['Category'].replace(to_replace = ['Game Casual', 'Game Simulation', 'Game Action', 'Game Word', 'Game Trivia',\n",
    "                                                           'Game Board', 'Game Puzzle', 'Game Arcade', 'Game Role Playing', 'Game Educational',\n",
    "                                                           'Game Strategy', 'Game Sports', 'Game Adventure', 'Game Racing', 'Game Card', 'Game Music',\n",
    "                                                           'Game Casino'], value = ['Game']*17)"
   ]
  },
  {
   "cell_type": "code",
   "execution_count": 134,
   "metadata": {},
   "outputs": [],
   "source": [
    "newtest['Category'] = newtest['Category'].replace(to_replace = ['Game Casual', 'Game Simulation', 'Game Action', 'Game Word', 'Game Trivia',\n",
    "                                                           'Game Board', 'Game Puzzle', 'Game Arcade', 'Game Role Playing', 'Game Educational',\n",
    "                                                           'Game Strategy', 'Game Sports', 'Game Adventure', 'Game Racing', 'Game Card', 'Game Music',\n",
    "                                                           'Game Casino'], value = ['Game']*17)"
   ]
  },
  {
   "cell_type": "code",
   "execution_count": 135,
   "metadata": {},
   "outputs": [],
   "source": [
    "from sklearn.preprocessing import LabelEncoder\n",
    "le = LabelEncoder()\n",
    "train['Category'] = le.fit_transform(train['Category'])\n",
    "train['Content_Rating'] = le.fit_transform(train['Content_Rating'])\n",
    "train['Downloads'] = le.fit_transform(train['Downloads'])"
   ]
  },
  {
   "cell_type": "code",
   "execution_count": 136,
   "metadata": {},
   "outputs": [],
   "source": [
    "newtest['Category'] = le.fit_transform(newtest['Category'])\n",
    "newtest['Content_Rating'] = le.fit_transform(newtest['Content_Rating'])"
   ]
  },
  {
   "cell_type": "code",
   "execution_count": 137,
   "metadata": {},
   "outputs": [],
   "source": [
    "train = train.drop(['Last_Updated_On','Release_Version'], axis = 1)\n",
    "newtest = newtest.drop(['Last_Updated_On', 'Release_Version'], axis = 1)"
   ]
  },
  {
   "cell_type": "code",
   "execution_count": 138,
   "metadata": {},
   "outputs": [
    {
     "data": {
      "text/html": [
       "<div>\n",
       "<style scoped>\n",
       "    .dataframe tbody tr th:only-of-type {\n",
       "        vertical-align: middle;\n",
       "    }\n",
       "\n",
       "    .dataframe tbody tr th {\n",
       "        vertical-align: top;\n",
       "    }\n",
       "\n",
       "    .dataframe thead th {\n",
       "        text-align: right;\n",
       "    }\n",
       "</style>\n",
       "<table border=\"1\" class=\"dataframe\">\n",
       "  <thead>\n",
       "    <tr style=\"text-align: right;\">\n",
       "      <th></th>\n",
       "      <th>Offered_By</th>\n",
       "      <th>Category</th>\n",
       "      <th>Rating</th>\n",
       "      <th>Reviews</th>\n",
       "      <th>Size</th>\n",
       "      <th>Price</th>\n",
       "      <th>Content_Rating</th>\n",
       "      <th>OS_Version_Required</th>\n",
       "      <th>Downloads</th>\n",
       "      <th>No_of_days_Updated</th>\n",
       "    </tr>\n",
       "  </thead>\n",
       "  <tbody>\n",
       "    <tr>\n",
       "      <th>0</th>\n",
       "      <td>24654</td>\n",
       "      <td>12</td>\n",
       "      <td>4.18</td>\n",
       "      <td>1481</td>\n",
       "      <td>0.0</td>\n",
       "      <td>0.0000</td>\n",
       "      <td>1</td>\n",
       "      <td>0.0</td>\n",
       "      <td>7</td>\n",
       "      <td>2</td>\n",
       "    </tr>\n",
       "    <tr>\n",
       "      <th>1</th>\n",
       "      <td>35329</td>\n",
       "      <td>21</td>\n",
       "      <td>4.81</td>\n",
       "      <td>302</td>\n",
       "      <td>10.0</td>\n",
       "      <td>0.0000</td>\n",
       "      <td>1</td>\n",
       "      <td>4.1</td>\n",
       "      <td>9</td>\n",
       "      <td>42</td>\n",
       "    </tr>\n",
       "    <tr>\n",
       "      <th>2</th>\n",
       "      <td>11044</td>\n",
       "      <td>14</td>\n",
       "      <td>4.27</td>\n",
       "      <td>374</td>\n",
       "      <td>27.0</td>\n",
       "      <td>0.0000</td>\n",
       "      <td>1</td>\n",
       "      <td>4.1</td>\n",
       "      <td>4</td>\n",
       "      <td>6</td>\n",
       "    </tr>\n",
       "    <tr>\n",
       "      <th>3</th>\n",
       "      <td>36068</td>\n",
       "      <td>4</td>\n",
       "      <td>4.03</td>\n",
       "      <td>122058</td>\n",
       "      <td>0.0</td>\n",
       "      <td>0.0000</td>\n",
       "      <td>4</td>\n",
       "      <td>0.0</td>\n",
       "      <td>5</td>\n",
       "      <td>5</td>\n",
       "    </tr>\n",
       "    <tr>\n",
       "      <th>4</th>\n",
       "      <td>35831</td>\n",
       "      <td>20</td>\n",
       "      <td>4.60</td>\n",
       "      <td>358</td>\n",
       "      <td>0.0</td>\n",
       "      <td>297.5742</td>\n",
       "      <td>1</td>\n",
       "      <td>0.0</td>\n",
       "      <td>9</td>\n",
       "      <td>525</td>\n",
       "    </tr>\n",
       "  </tbody>\n",
       "</table>\n",
       "</div>"
      ],
      "text/plain": [
       "   Offered_By  Category  Rating  Reviews  Size     Price  Content_Rating  \\\n",
       "0       24654        12    4.18     1481   0.0    0.0000               1   \n",
       "1       35329        21    4.81      302  10.0    0.0000               1   \n",
       "2       11044        14    4.27      374  27.0    0.0000               1   \n",
       "3       36068         4    4.03   122058   0.0    0.0000               4   \n",
       "4       35831        20    4.60      358   0.0  297.5742               1   \n",
       "\n",
       "   OS_Version_Required  Downloads  No_of_days_Updated  \n",
       "0                  0.0          7                   2  \n",
       "1                  4.1          9                  42  \n",
       "2                  4.1          4                   6  \n",
       "3                  0.0          5                   5  \n",
       "4                  0.0          9                 525  "
      ]
     },
     "execution_count": 138,
     "metadata": {},
     "output_type": "execute_result"
    }
   ],
   "source": [
    "train.head()"
   ]
  },
  {
   "cell_type": "code",
   "execution_count": 139,
   "metadata": {},
   "outputs": [
    {
     "data": {
      "text/html": [
       "<div>\n",
       "<style scoped>\n",
       "    .dataframe tbody tr th:only-of-type {\n",
       "        vertical-align: middle;\n",
       "    }\n",
       "\n",
       "    .dataframe tbody tr th {\n",
       "        vertical-align: top;\n",
       "    }\n",
       "\n",
       "    .dataframe thead th {\n",
       "        text-align: right;\n",
       "    }\n",
       "</style>\n",
       "<table border=\"1\" class=\"dataframe\">\n",
       "  <thead>\n",
       "    <tr style=\"text-align: right;\">\n",
       "      <th></th>\n",
       "      <th>Offered_By</th>\n",
       "      <th>Category</th>\n",
       "      <th>Rating</th>\n",
       "      <th>Reviews</th>\n",
       "      <th>Size</th>\n",
       "      <th>Price</th>\n",
       "      <th>Content_Rating</th>\n",
       "      <th>OS_Version_Required</th>\n",
       "      <th>No_of_days_Updated</th>\n",
       "    </tr>\n",
       "  </thead>\n",
       "  <tbody>\n",
       "    <tr>\n",
       "      <th>0</th>\n",
       "      <td>18231</td>\n",
       "      <td>14</td>\n",
       "      <td>4.52</td>\n",
       "      <td>1362</td>\n",
       "      <td>36.0</td>\n",
       "      <td>0.0</td>\n",
       "      <td>1</td>\n",
       "      <td>4.0</td>\n",
       "      <td>2</td>\n",
       "    </tr>\n",
       "    <tr>\n",
       "      <th>1</th>\n",
       "      <td>1874</td>\n",
       "      <td>27</td>\n",
       "      <td>4.29</td>\n",
       "      <td>3353</td>\n",
       "      <td>0.0</td>\n",
       "      <td>0.0</td>\n",
       "      <td>4</td>\n",
       "      <td>0.0</td>\n",
       "      <td>2</td>\n",
       "    </tr>\n",
       "    <tr>\n",
       "      <th>2</th>\n",
       "      <td>3182</td>\n",
       "      <td>25</td>\n",
       "      <td>4.55</td>\n",
       "      <td>161855</td>\n",
       "      <td>0.0</td>\n",
       "      <td>0.0</td>\n",
       "      <td>1</td>\n",
       "      <td>0.0</td>\n",
       "      <td>2</td>\n",
       "    </tr>\n",
       "    <tr>\n",
       "      <th>3</th>\n",
       "      <td>31452</td>\n",
       "      <td>14</td>\n",
       "      <td>3.97</td>\n",
       "      <td>545</td>\n",
       "      <td>16.0</td>\n",
       "      <td>0.0</td>\n",
       "      <td>1</td>\n",
       "      <td>4.1</td>\n",
       "      <td>1247</td>\n",
       "    </tr>\n",
       "    <tr>\n",
       "      <th>4</th>\n",
       "      <td>25641</td>\n",
       "      <td>25</td>\n",
       "      <td>4.65</td>\n",
       "      <td>1672</td>\n",
       "      <td>33.0</td>\n",
       "      <td>0.0</td>\n",
       "      <td>1</td>\n",
       "      <td>4.4</td>\n",
       "      <td>103</td>\n",
       "    </tr>\n",
       "  </tbody>\n",
       "</table>\n",
       "</div>"
      ],
      "text/plain": [
       "   Offered_By  Category  Rating  Reviews  Size  Price  Content_Rating  \\\n",
       "0       18231        14    4.52     1362  36.0    0.0               1   \n",
       "1        1874        27    4.29     3353   0.0    0.0               4   \n",
       "2        3182        25    4.55   161855   0.0    0.0               1   \n",
       "3       31452        14    3.97      545  16.0    0.0               1   \n",
       "4       25641        25    4.65     1672  33.0    0.0               1   \n",
       "\n",
       "   OS_Version_Required  No_of_days_Updated  \n",
       "0                  4.0                   2  \n",
       "1                  0.0                   2  \n",
       "2                  0.0                   2  \n",
       "3                  4.1                1247  \n",
       "4                  4.4                 103  "
      ]
     },
     "execution_count": 139,
     "metadata": {},
     "output_type": "execute_result"
    }
   ],
   "source": [
    "newtest.head()"
   ]
  },
  {
   "cell_type": "code",
   "execution_count": 140,
   "metadata": {},
   "outputs": [
    {
     "name": "stdout",
     "output_type": "stream",
     "text": [
      "<class 'pandas.core.frame.DataFrame'>\n",
      "RangeIndex: 16516 entries, 0 to 16515\n",
      "Data columns (total 10 columns):\n",
      "Offered_By             16516 non-null int32\n",
      "Category               16516 non-null int32\n",
      "Rating                 16516 non-null float64\n",
      "Reviews                16516 non-null int64\n",
      "Size                   16516 non-null float64\n",
      "Price                  16516 non-null float64\n",
      "Content_Rating         16516 non-null int32\n",
      "OS_Version_Required    16516 non-null float64\n",
      "Downloads              16516 non-null int32\n",
      "No_of_days_Updated     16516 non-null int64\n",
      "dtypes: float64(4), int32(4), int64(2)\n",
      "memory usage: 1.0 MB\n"
     ]
    }
   ],
   "source": [
    "train.info()"
   ]
  },
  {
   "cell_type": "code",
   "execution_count": 141,
   "metadata": {},
   "outputs": [],
   "source": [
    "x_train = train.drop('Downloads', axis = 1)\n",
    "y_train = train['Downloads']"
   ]
  },
  {
   "cell_type": "code",
   "execution_count": 58,
   "metadata": {},
   "outputs": [],
   "source": [
    "from sklearn.ensemble import RandomForestClassifier\n",
    "rf = RandomForestClassifier()\n",
    "rf.fit(x_train, y_train)\n",
    "\n",
    "test_pred = rf.predict_proba(newtest)\n",
    "\n",
    "df1 = pd.DataFrame(test_pred)\n",
    "filepath = 'rf3.csv'\n",
    "df1.to_csv(filepath, index = False)"
   ]
  },
  {
   "cell_type": "code",
   "execution_count": 59,
   "metadata": {},
   "outputs": [],
   "source": [
    "from xgboost import XGBClassifier\n",
    "xgb =XGBClassifier()\n",
    "xgb.fit(x_train, y_train)\n",
    "test_pred = xgb.predict_proba(newtest)\n",
    "\n",
    "df1 = pd.DataFrame(test_pred)\n",
    "filepath = 'xgb3.csv'\n",
    "df1.to_csv(filepath, index = False)"
   ]
  },
  {
   "cell_type": "code",
   "execution_count": 107,
   "metadata": {},
   "outputs": [],
   "source": []
  },
  {
   "cell_type": "code",
   "execution_count": null,
   "metadata": {},
   "outputs": [],
   "source": []
  }
 ],
 "metadata": {
  "kernelspec": {
   "display_name": "Python 3",
   "language": "python",
   "name": "python3"
  },
  "language_info": {
   "codemirror_mode": {
    "name": "ipython",
    "version": 3
   },
   "file_extension": ".py",
   "mimetype": "text/x-python",
   "name": "python",
   "nbconvert_exporter": "python",
   "pygments_lexer": "ipython3",
   "version": "3.7.3"
  }
 },
 "nbformat": 4,
 "nbformat_minor": 2
}
