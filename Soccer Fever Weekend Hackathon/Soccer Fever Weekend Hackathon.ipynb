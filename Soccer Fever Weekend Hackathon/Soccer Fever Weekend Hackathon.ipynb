{
 "cells": [
  {
   "cell_type": "code",
   "execution_count": 1,
   "id": "d68c23f6",
   "metadata": {},
   "outputs": [],
   "source": [
    "import numpy as np\n",
    "import pandas as pd\n",
    "import matplotlib.pyplot as plt\n",
    "import seaborn as sns"
   ]
  },
  {
   "cell_type": "code",
   "execution_count": 2,
   "id": "76d9441a",
   "metadata": {},
   "outputs": [
    {
     "data": {
      "text/html": [
       "<div>\n",
       "<style scoped>\n",
       "    .dataframe tbody tr th:only-of-type {\n",
       "        vertical-align: middle;\n",
       "    }\n",
       "\n",
       "    .dataframe tbody tr th {\n",
       "        vertical-align: top;\n",
       "    }\n",
       "\n",
       "    .dataframe thead th {\n",
       "        text-align: right;\n",
       "    }\n",
       "</style>\n",
       "<table border=\"1\" class=\"dataframe\">\n",
       "  <thead>\n",
       "    <tr style=\"text-align: right;\">\n",
       "      <th></th>\n",
       "      <th>season</th>\n",
       "      <th>date</th>\n",
       "      <th>league_id</th>\n",
       "      <th>league</th>\n",
       "      <th>Team 1</th>\n",
       "      <th>Team2</th>\n",
       "      <th>SPI1</th>\n",
       "      <th>SPI2</th>\n",
       "      <th>proj_score1</th>\n",
       "      <th>proj_score2</th>\n",
       "      <th>...</th>\n",
       "      <th>importance2</th>\n",
       "      <th>score1</th>\n",
       "      <th>score2</th>\n",
       "      <th>xg1</th>\n",
       "      <th>xg2</th>\n",
       "      <th>nsxg1</th>\n",
       "      <th>nsxg2</th>\n",
       "      <th>adj_score1</th>\n",
       "      <th>adj_score2</th>\n",
       "      <th>Outcome</th>\n",
       "    </tr>\n",
       "  </thead>\n",
       "  <tbody>\n",
       "    <tr>\n",
       "      <th>0</th>\n",
       "      <td>2019</td>\n",
       "      <td>01/03/19</td>\n",
       "      <td>1979</td>\n",
       "      <td>Chinese Super League</td>\n",
       "      <td>Shandong Luneng</td>\n",
       "      <td>Guizhou Renhe</td>\n",
       "      <td>48.22</td>\n",
       "      <td>37.83</td>\n",
       "      <td>1.75</td>\n",
       "      <td>0.84</td>\n",
       "      <td>...</td>\n",
       "      <td>22.1</td>\n",
       "      <td>1.0</td>\n",
       "      <td>0.0</td>\n",
       "      <td>1.39</td>\n",
       "      <td>0.26</td>\n",
       "      <td>2.05</td>\n",
       "      <td>0.54</td>\n",
       "      <td>1.05</td>\n",
       "      <td>0.00</td>\n",
       "      <td>1</td>\n",
       "    </tr>\n",
       "    <tr>\n",
       "      <th>1</th>\n",
       "      <td>2019</td>\n",
       "      <td>01/03/19</td>\n",
       "      <td>1979</td>\n",
       "      <td>Chinese Super League</td>\n",
       "      <td>Shanghai Greenland</td>\n",
       "      <td>Shanghai SIPG</td>\n",
       "      <td>39.81</td>\n",
       "      <td>60.08</td>\n",
       "      <td>1.22</td>\n",
       "      <td>1.89</td>\n",
       "      <td>...</td>\n",
       "      <td>63.4</td>\n",
       "      <td>0.0</td>\n",
       "      <td>4.0</td>\n",
       "      <td>0.57</td>\n",
       "      <td>2.76</td>\n",
       "      <td>0.80</td>\n",
       "      <td>1.50</td>\n",
       "      <td>0.00</td>\n",
       "      <td>3.26</td>\n",
       "      <td>0</td>\n",
       "    </tr>\n",
       "    <tr>\n",
       "      <th>2</th>\n",
       "      <td>2019</td>\n",
       "      <td>01/03/19</td>\n",
       "      <td>1979</td>\n",
       "      <td>Chinese Super League</td>\n",
       "      <td>Guangzhou Evergrande</td>\n",
       "      <td>Tianjin Quanujian</td>\n",
       "      <td>65.59</td>\n",
       "      <td>39.99</td>\n",
       "      <td>2.58</td>\n",
       "      <td>0.62</td>\n",
       "      <td>...</td>\n",
       "      <td>28.8</td>\n",
       "      <td>3.0</td>\n",
       "      <td>0.0</td>\n",
       "      <td>0.49</td>\n",
       "      <td>0.45</td>\n",
       "      <td>1.05</td>\n",
       "      <td>0.75</td>\n",
       "      <td>3.15</td>\n",
       "      <td>0.00</td>\n",
       "      <td>1</td>\n",
       "    </tr>\n",
       "    <tr>\n",
       "      <th>3</th>\n",
       "      <td>2019</td>\n",
       "      <td>01/03/19</td>\n",
       "      <td>1979</td>\n",
       "      <td>Chinese Super League</td>\n",
       "      <td>Wuhan Zall</td>\n",
       "      <td>Beijing Guoan</td>\n",
       "      <td>32.25</td>\n",
       "      <td>54.82</td>\n",
       "      <td>1.10</td>\n",
       "      <td>1.79</td>\n",
       "      <td>...</td>\n",
       "      <td>58.9</td>\n",
       "      <td>0.0</td>\n",
       "      <td>1.0</td>\n",
       "      <td>1.12</td>\n",
       "      <td>0.97</td>\n",
       "      <td>1.51</td>\n",
       "      <td>0.94</td>\n",
       "      <td>0.00</td>\n",
       "      <td>1.05</td>\n",
       "      <td>0</td>\n",
       "    </tr>\n",
       "    <tr>\n",
       "      <th>4</th>\n",
       "      <td>2019</td>\n",
       "      <td>01/03/19</td>\n",
       "      <td>1979</td>\n",
       "      <td>Chinese Super League</td>\n",
       "      <td>Chongqing Lifan</td>\n",
       "      <td>Guangzhou RF</td>\n",
       "      <td>38.24</td>\n",
       "      <td>40.45</td>\n",
       "      <td>1.57</td>\n",
       "      <td>1.24</td>\n",
       "      <td>...</td>\n",
       "      <td>21.3</td>\n",
       "      <td>2.0</td>\n",
       "      <td>2.0</td>\n",
       "      <td>2.77</td>\n",
       "      <td>3.17</td>\n",
       "      <td>1.05</td>\n",
       "      <td>2.08</td>\n",
       "      <td>2.10</td>\n",
       "      <td>2.10</td>\n",
       "      <td>1</td>\n",
       "    </tr>\n",
       "  </tbody>\n",
       "</table>\n",
       "<p>5 rows × 21 columns</p>\n",
       "</div>"
      ],
      "text/plain": [
       "   season      date  league_id                league                Team 1  \\\n",
       "0    2019  01/03/19       1979  Chinese Super League       Shandong Luneng   \n",
       "1    2019  01/03/19       1979  Chinese Super League    Shanghai Greenland   \n",
       "2    2019  01/03/19       1979  Chinese Super League  Guangzhou Evergrande   \n",
       "3    2019  01/03/19       1979  Chinese Super League            Wuhan Zall   \n",
       "4    2019  01/03/19       1979  Chinese Super League       Chongqing Lifan   \n",
       "\n",
       "               Team2   SPI1   SPI2  proj_score1  proj_score2  ...  \\\n",
       "0      Guizhou Renhe  48.22  37.83         1.75         0.84  ...   \n",
       "1      Shanghai SIPG  39.81  60.08         1.22         1.89  ...   \n",
       "2  Tianjin Quanujian  65.59  39.99         2.58         0.62  ...   \n",
       "3      Beijing Guoan  32.25  54.82         1.10         1.79  ...   \n",
       "4       Guangzhou RF  38.24  40.45         1.57         1.24  ...   \n",
       "\n",
       "   importance2  score1  score2   xg1   xg2  nsxg1  nsxg2  adj_score1  \\\n",
       "0         22.1     1.0     0.0  1.39  0.26   2.05   0.54        1.05   \n",
       "1         63.4     0.0     4.0  0.57  2.76   0.80   1.50        0.00   \n",
       "2         28.8     3.0     0.0  0.49  0.45   1.05   0.75        3.15   \n",
       "3         58.9     0.0     1.0  1.12  0.97   1.51   0.94        0.00   \n",
       "4         21.3     2.0     2.0  2.77  3.17   1.05   2.08        2.10   \n",
       "\n",
       "   adj_score2  Outcome  \n",
       "0        0.00        1  \n",
       "1        3.26        0  \n",
       "2        0.00        1  \n",
       "3        1.05        0  \n",
       "4        2.10        1  \n",
       "\n",
       "[5 rows x 21 columns]"
      ]
     },
     "execution_count": 2,
     "metadata": {},
     "output_type": "execute_result"
    }
   ],
   "source": [
    "train = pd.read_csv('train.csv')\n",
    "train.head()"
   ]
  },
  {
   "cell_type": "code",
   "execution_count": 3,
   "id": "132fe89d",
   "metadata": {},
   "outputs": [
    {
     "data": {
      "text/plain": [
       "(7443, 21)"
      ]
     },
     "execution_count": 3,
     "metadata": {},
     "output_type": "execute_result"
    }
   ],
   "source": [
    "train.shape"
   ]
  },
  {
   "cell_type": "code",
   "execution_count": 4,
   "id": "317f5a1b",
   "metadata": {},
   "outputs": [
    {
     "data": {
      "text/plain": [
       "season            0\n",
       "date              0\n",
       "league_id         0\n",
       "league            0\n",
       "Team 1            0\n",
       "Team2             0\n",
       "SPI1              0\n",
       "SPI2              0\n",
       "proj_score1       0\n",
       "proj_score2       0\n",
       "importance1    4916\n",
       "importance2    4916\n",
       "score1         4800\n",
       "score2         4800\n",
       "xg1            5728\n",
       "xg2            5728\n",
       "nsxg1          5728\n",
       "nsxg2          5728\n",
       "adj_score1     5728\n",
       "adj_score2     5728\n",
       "Outcome           0\n",
       "dtype: int64"
      ]
     },
     "execution_count": 4,
     "metadata": {},
     "output_type": "execute_result"
    }
   ],
   "source": [
    "train.isnull().sum()"
   ]
  },
  {
   "cell_type": "code",
   "execution_count": 5,
   "id": "3d3a15b2",
   "metadata": {},
   "outputs": [
    {
     "data": {
      "text/plain": [
       "0"
      ]
     },
     "execution_count": 5,
     "metadata": {},
     "output_type": "execute_result"
    }
   ],
   "source": [
    "train.duplicated().sum()"
   ]
  },
  {
   "cell_type": "code",
   "execution_count": 6,
   "id": "0e7db44b",
   "metadata": {},
   "outputs": [
    {
     "data": {
      "text/html": [
       "<div>\n",
       "<style scoped>\n",
       "    .dataframe tbody tr th:only-of-type {\n",
       "        vertical-align: middle;\n",
       "    }\n",
       "\n",
       "    .dataframe tbody tr th {\n",
       "        vertical-align: top;\n",
       "    }\n",
       "\n",
       "    .dataframe thead th {\n",
       "        text-align: right;\n",
       "    }\n",
       "</style>\n",
       "<table border=\"1\" class=\"dataframe\">\n",
       "  <thead>\n",
       "    <tr style=\"text-align: right;\">\n",
       "      <th></th>\n",
       "      <th>season</th>\n",
       "      <th>date</th>\n",
       "      <th>league_id</th>\n",
       "      <th>league</th>\n",
       "      <th>Team 1</th>\n",
       "      <th>Team2</th>\n",
       "      <th>SPI1</th>\n",
       "      <th>SPI2</th>\n",
       "      <th>proj_score1</th>\n",
       "      <th>proj_score2</th>\n",
       "      <th>importance1</th>\n",
       "      <th>importance2</th>\n",
       "      <th>score1</th>\n",
       "      <th>score2</th>\n",
       "      <th>xg1</th>\n",
       "      <th>xg2</th>\n",
       "      <th>nsxg1</th>\n",
       "      <th>nsxg2</th>\n",
       "      <th>adj_score1</th>\n",
       "      <th>adj_score2</th>\n",
       "    </tr>\n",
       "  </thead>\n",
       "  <tbody>\n",
       "    <tr>\n",
       "      <th>0</th>\n",
       "      <td>2021</td>\n",
       "      <td>14/12/21</td>\n",
       "      <td>2411</td>\n",
       "      <td>BPL</td>\n",
       "      <td>Arsenal</td>\n",
       "      <td>West Ham United</td>\n",
       "      <td>79.65</td>\n",
       "      <td>74.06</td>\n",
       "      <td>1.67</td>\n",
       "      <td>1.19</td>\n",
       "      <td>NaN</td>\n",
       "      <td>NaN</td>\n",
       "      <td>NaN</td>\n",
       "      <td>NaN</td>\n",
       "      <td>NaN</td>\n",
       "      <td>NaN</td>\n",
       "      <td>NaN</td>\n",
       "      <td>NaN</td>\n",
       "      <td>NaN</td>\n",
       "      <td>NaN</td>\n",
       "    </tr>\n",
       "    <tr>\n",
       "      <th>1</th>\n",
       "      <td>2021</td>\n",
       "      <td>14/12/21</td>\n",
       "      <td>2411</td>\n",
       "      <td>BPL</td>\n",
       "      <td>Brighton and Hove Albion</td>\n",
       "      <td>Wolverhampton</td>\n",
       "      <td>74.19</td>\n",
       "      <td>71.14</td>\n",
       "      <td>1.35</td>\n",
       "      <td>0.98</td>\n",
       "      <td>NaN</td>\n",
       "      <td>NaN</td>\n",
       "      <td>NaN</td>\n",
       "      <td>NaN</td>\n",
       "      <td>NaN</td>\n",
       "      <td>NaN</td>\n",
       "      <td>NaN</td>\n",
       "      <td>NaN</td>\n",
       "      <td>NaN</td>\n",
       "      <td>NaN</td>\n",
       "    </tr>\n",
       "    <tr>\n",
       "      <th>2</th>\n",
       "      <td>2021</td>\n",
       "      <td>14/12/21</td>\n",
       "      <td>2411</td>\n",
       "      <td>BPL</td>\n",
       "      <td>Norwich City</td>\n",
       "      <td>Aston Villa</td>\n",
       "      <td>60.67</td>\n",
       "      <td>71.45</td>\n",
       "      <td>1.18</td>\n",
       "      <td>1.49</td>\n",
       "      <td>NaN</td>\n",
       "      <td>NaN</td>\n",
       "      <td>NaN</td>\n",
       "      <td>NaN</td>\n",
       "      <td>NaN</td>\n",
       "      <td>NaN</td>\n",
       "      <td>NaN</td>\n",
       "      <td>NaN</td>\n",
       "      <td>NaN</td>\n",
       "      <td>NaN</td>\n",
       "    </tr>\n",
       "    <tr>\n",
       "      <th>3</th>\n",
       "      <td>2021</td>\n",
       "      <td>14/12/21</td>\n",
       "      <td>2411</td>\n",
       "      <td>BPL</td>\n",
       "      <td>Leicester City</td>\n",
       "      <td>Tottenham Hotspur</td>\n",
       "      <td>76.88</td>\n",
       "      <td>79.06</td>\n",
       "      <td>1.52</td>\n",
       "      <td>1.44</td>\n",
       "      <td>NaN</td>\n",
       "      <td>NaN</td>\n",
       "      <td>NaN</td>\n",
       "      <td>NaN</td>\n",
       "      <td>NaN</td>\n",
       "      <td>NaN</td>\n",
       "      <td>NaN</td>\n",
       "      <td>NaN</td>\n",
       "      <td>NaN</td>\n",
       "      <td>NaN</td>\n",
       "    </tr>\n",
       "    <tr>\n",
       "      <th>4</th>\n",
       "      <td>2021</td>\n",
       "      <td>14/12/21</td>\n",
       "      <td>2411</td>\n",
       "      <td>BPL</td>\n",
       "      <td>Brentford</td>\n",
       "      <td>Manchester United</td>\n",
       "      <td>63.53</td>\n",
       "      <td>85.58</td>\n",
       "      <td>0.95</td>\n",
       "      <td>1.92</td>\n",
       "      <td>NaN</td>\n",
       "      <td>NaN</td>\n",
       "      <td>NaN</td>\n",
       "      <td>NaN</td>\n",
       "      <td>NaN</td>\n",
       "      <td>NaN</td>\n",
       "      <td>NaN</td>\n",
       "      <td>NaN</td>\n",
       "      <td>NaN</td>\n",
       "      <td>NaN</td>\n",
       "    </tr>\n",
       "  </tbody>\n",
       "</table>\n",
       "</div>"
      ],
      "text/plain": [
       "   season      date  league_id league                    Team 1  \\\n",
       "0    2021  14/12/21       2411    BPL                   Arsenal   \n",
       "1    2021  14/12/21       2411    BPL  Brighton and Hove Albion   \n",
       "2    2021  14/12/21       2411    BPL              Norwich City   \n",
       "3    2021  14/12/21       2411    BPL            Leicester City   \n",
       "4    2021  14/12/21       2411    BPL                 Brentford   \n",
       "\n",
       "               Team2   SPI1   SPI2  proj_score1  proj_score2  importance1  \\\n",
       "0    West Ham United  79.65  74.06         1.67         1.19          NaN   \n",
       "1      Wolverhampton  74.19  71.14         1.35         0.98          NaN   \n",
       "2        Aston Villa  60.67  71.45         1.18         1.49          NaN   \n",
       "3  Tottenham Hotspur  76.88  79.06         1.52         1.44          NaN   \n",
       "4  Manchester United  63.53  85.58         0.95         1.92          NaN   \n",
       "\n",
       "   importance2  score1  score2  xg1  xg2  nsxg1  nsxg2  adj_score1  adj_score2  \n",
       "0          NaN     NaN     NaN  NaN  NaN    NaN    NaN         NaN         NaN  \n",
       "1          NaN     NaN     NaN  NaN  NaN    NaN    NaN         NaN         NaN  \n",
       "2          NaN     NaN     NaN  NaN  NaN    NaN    NaN         NaN         NaN  \n",
       "3          NaN     NaN     NaN  NaN  NaN    NaN    NaN         NaN         NaN  \n",
       "4          NaN     NaN     NaN  NaN  NaN    NaN    NaN         NaN         NaN  "
      ]
     },
     "execution_count": 6,
     "metadata": {},
     "output_type": "execute_result"
    }
   ],
   "source": [
    "test = pd.read_csv('test.csv')\n",
    "test.head()"
   ]
  },
  {
   "cell_type": "code",
   "execution_count": 7,
   "id": "1b76ee10",
   "metadata": {},
   "outputs": [
    {
     "data": {
      "text/plain": [
       "(4008, 20)"
      ]
     },
     "execution_count": 7,
     "metadata": {},
     "output_type": "execute_result"
    }
   ],
   "source": [
    "test.shape"
   ]
  },
  {
   "cell_type": "code",
   "execution_count": 8,
   "id": "bbd5fb11",
   "metadata": {},
   "outputs": [
    {
     "data": {
      "text/plain": [
       "season            0\n",
       "date              0\n",
       "league_id         0\n",
       "league            0\n",
       "Team 1            0\n",
       "Team2             0\n",
       "SPI1              0\n",
       "SPI2              0\n",
       "proj_score1       0\n",
       "proj_score2       0\n",
       "importance1    4008\n",
       "importance2    4008\n",
       "score1         4008\n",
       "score2         4008\n",
       "xg1            4008\n",
       "xg2            4008\n",
       "nsxg1          4008\n",
       "nsxg2          4008\n",
       "adj_score1     4008\n",
       "adj_score2     4008\n",
       "dtype: int64"
      ]
     },
     "execution_count": 8,
     "metadata": {},
     "output_type": "execute_result"
    }
   ],
   "source": [
    "test.isnull().sum()"
   ]
  },
  {
   "cell_type": "code",
   "execution_count": 9,
   "id": "f2ca44e9",
   "metadata": {},
   "outputs": [
    {
     "data": {
      "text/plain": [
       "1    5070\n",
       "0    2373\n",
       "Name: Outcome, dtype: int64"
      ]
     },
     "execution_count": 9,
     "metadata": {},
     "output_type": "execute_result"
    }
   ],
   "source": [
    "train['Outcome'].value_counts()"
   ]
  },
  {
   "cell_type": "raw",
   "id": "506c437e",
   "metadata": {},
   "source": [
    "x = ['importance1', 'importance2', 'score1', 'score2', 'xg1', 'xg2', 'nsxg1', 'nsxg2', 'adj_score1', 'adj_score2']\n",
    "for i in x:\n",
    "    train[i] = train[i].fillna(np.round(train[i].mean(), 2))\n",
    "    test[i] = test[i].fillna(np.round(train[i].mean(), 2))"
   ]
  },
  {
   "cell_type": "code",
   "execution_count": 10,
   "id": "1e1e06af",
   "metadata": {},
   "outputs": [
    {
     "name": "stdout",
     "output_type": "stream",
     "text": [
      "<class 'pandas.core.frame.DataFrame'>\n",
      "RangeIndex: 7443 entries, 0 to 7442\n",
      "Data columns (total 21 columns):\n",
      " #   Column       Non-Null Count  Dtype  \n",
      "---  ------       --------------  -----  \n",
      " 0   season       7443 non-null   int64  \n",
      " 1   date         7443 non-null   object \n",
      " 2   league_id    7443 non-null   int64  \n",
      " 3   league       7443 non-null   object \n",
      " 4   Team 1       7443 non-null   object \n",
      " 5   Team2        7443 non-null   object \n",
      " 6   SPI1         7443 non-null   float64\n",
      " 7   SPI2         7443 non-null   float64\n",
      " 8   proj_score1  7443 non-null   float64\n",
      " 9   proj_score2  7443 non-null   float64\n",
      " 10  importance1  2527 non-null   float64\n",
      " 11  importance2  2527 non-null   float64\n",
      " 12  score1       2643 non-null   float64\n",
      " 13  score2       2643 non-null   float64\n",
      " 14  xg1          1715 non-null   float64\n",
      " 15  xg2          1715 non-null   float64\n",
      " 16  nsxg1        1715 non-null   float64\n",
      " 17  nsxg2        1715 non-null   float64\n",
      " 18  adj_score1   1715 non-null   float64\n",
      " 19  adj_score2   1715 non-null   float64\n",
      " 20  Outcome      7443 non-null   int64  \n",
      "dtypes: float64(14), int64(3), object(4)\n",
      "memory usage: 1.2+ MB\n"
     ]
    }
   ],
   "source": [
    "train.info()"
   ]
  },
  {
   "cell_type": "raw",
   "id": "8da2b06f",
   "metadata": {},
   "source": [
    "x = ['importance1', 'importance2', 'score1', 'score2', 'xg1', 'xg2', 'nsxg1', 'nsxg2', 'adj_score1', 'adj_score2']\n",
    "for i in x:\n",
    "    print(i, np.round(train[i].mean(), 2))"
   ]
  },
  {
   "cell_type": "code",
   "execution_count": 11,
   "id": "a15035bd",
   "metadata": {},
   "outputs": [
    {
     "data": {
      "text/html": [
       "<div>\n",
       "<style scoped>\n",
       "    .dataframe tbody tr th:only-of-type {\n",
       "        vertical-align: middle;\n",
       "    }\n",
       "\n",
       "    .dataframe tbody tr th {\n",
       "        vertical-align: top;\n",
       "    }\n",
       "\n",
       "    .dataframe thead th {\n",
       "        text-align: right;\n",
       "    }\n",
       "</style>\n",
       "<table border=\"1\" class=\"dataframe\">\n",
       "  <thead>\n",
       "    <tr style=\"text-align: right;\">\n",
       "      <th></th>\n",
       "      <th>season</th>\n",
       "      <th>date</th>\n",
       "      <th>league_id</th>\n",
       "      <th>league</th>\n",
       "      <th>Team 1</th>\n",
       "      <th>Team2</th>\n",
       "      <th>SPI1</th>\n",
       "      <th>SPI2</th>\n",
       "      <th>proj_score1</th>\n",
       "      <th>proj_score2</th>\n",
       "      <th>importance1</th>\n",
       "      <th>importance2</th>\n",
       "      <th>score1</th>\n",
       "      <th>score2</th>\n",
       "      <th>xg1</th>\n",
       "      <th>xg2</th>\n",
       "      <th>nsxg1</th>\n",
       "      <th>nsxg2</th>\n",
       "      <th>adj_score1</th>\n",
       "      <th>adj_score2</th>\n",
       "    </tr>\n",
       "  </thead>\n",
       "  <tbody>\n",
       "    <tr>\n",
       "      <th>0</th>\n",
       "      <td>2021</td>\n",
       "      <td>14/12/21</td>\n",
       "      <td>2411</td>\n",
       "      <td>BPL</td>\n",
       "      <td>Arsenal</td>\n",
       "      <td>West Ham United</td>\n",
       "      <td>79.65</td>\n",
       "      <td>74.06</td>\n",
       "      <td>1.67</td>\n",
       "      <td>1.19</td>\n",
       "      <td>NaN</td>\n",
       "      <td>NaN</td>\n",
       "      <td>NaN</td>\n",
       "      <td>NaN</td>\n",
       "      <td>NaN</td>\n",
       "      <td>NaN</td>\n",
       "      <td>NaN</td>\n",
       "      <td>NaN</td>\n",
       "      <td>NaN</td>\n",
       "      <td>NaN</td>\n",
       "    </tr>\n",
       "    <tr>\n",
       "      <th>1</th>\n",
       "      <td>2021</td>\n",
       "      <td>14/12/21</td>\n",
       "      <td>2411</td>\n",
       "      <td>BPL</td>\n",
       "      <td>Brighton and Hove Albion</td>\n",
       "      <td>Wolverhampton</td>\n",
       "      <td>74.19</td>\n",
       "      <td>71.14</td>\n",
       "      <td>1.35</td>\n",
       "      <td>0.98</td>\n",
       "      <td>NaN</td>\n",
       "      <td>NaN</td>\n",
       "      <td>NaN</td>\n",
       "      <td>NaN</td>\n",
       "      <td>NaN</td>\n",
       "      <td>NaN</td>\n",
       "      <td>NaN</td>\n",
       "      <td>NaN</td>\n",
       "      <td>NaN</td>\n",
       "      <td>NaN</td>\n",
       "    </tr>\n",
       "    <tr>\n",
       "      <th>2</th>\n",
       "      <td>2021</td>\n",
       "      <td>14/12/21</td>\n",
       "      <td>2411</td>\n",
       "      <td>BPL</td>\n",
       "      <td>Norwich City</td>\n",
       "      <td>Aston Villa</td>\n",
       "      <td>60.67</td>\n",
       "      <td>71.45</td>\n",
       "      <td>1.18</td>\n",
       "      <td>1.49</td>\n",
       "      <td>NaN</td>\n",
       "      <td>NaN</td>\n",
       "      <td>NaN</td>\n",
       "      <td>NaN</td>\n",
       "      <td>NaN</td>\n",
       "      <td>NaN</td>\n",
       "      <td>NaN</td>\n",
       "      <td>NaN</td>\n",
       "      <td>NaN</td>\n",
       "      <td>NaN</td>\n",
       "    </tr>\n",
       "    <tr>\n",
       "      <th>3</th>\n",
       "      <td>2021</td>\n",
       "      <td>14/12/21</td>\n",
       "      <td>2411</td>\n",
       "      <td>BPL</td>\n",
       "      <td>Leicester City</td>\n",
       "      <td>Tottenham Hotspur</td>\n",
       "      <td>76.88</td>\n",
       "      <td>79.06</td>\n",
       "      <td>1.52</td>\n",
       "      <td>1.44</td>\n",
       "      <td>NaN</td>\n",
       "      <td>NaN</td>\n",
       "      <td>NaN</td>\n",
       "      <td>NaN</td>\n",
       "      <td>NaN</td>\n",
       "      <td>NaN</td>\n",
       "      <td>NaN</td>\n",
       "      <td>NaN</td>\n",
       "      <td>NaN</td>\n",
       "      <td>NaN</td>\n",
       "    </tr>\n",
       "    <tr>\n",
       "      <th>4</th>\n",
       "      <td>2021</td>\n",
       "      <td>14/12/21</td>\n",
       "      <td>2411</td>\n",
       "      <td>BPL</td>\n",
       "      <td>Brentford</td>\n",
       "      <td>Manchester United</td>\n",
       "      <td>63.53</td>\n",
       "      <td>85.58</td>\n",
       "      <td>0.95</td>\n",
       "      <td>1.92</td>\n",
       "      <td>NaN</td>\n",
       "      <td>NaN</td>\n",
       "      <td>NaN</td>\n",
       "      <td>NaN</td>\n",
       "      <td>NaN</td>\n",
       "      <td>NaN</td>\n",
       "      <td>NaN</td>\n",
       "      <td>NaN</td>\n",
       "      <td>NaN</td>\n",
       "      <td>NaN</td>\n",
       "    </tr>\n",
       "  </tbody>\n",
       "</table>\n",
       "</div>"
      ],
      "text/plain": [
       "   season      date  league_id league                    Team 1  \\\n",
       "0    2021  14/12/21       2411    BPL                   Arsenal   \n",
       "1    2021  14/12/21       2411    BPL  Brighton and Hove Albion   \n",
       "2    2021  14/12/21       2411    BPL              Norwich City   \n",
       "3    2021  14/12/21       2411    BPL            Leicester City   \n",
       "4    2021  14/12/21       2411    BPL                 Brentford   \n",
       "\n",
       "               Team2   SPI1   SPI2  proj_score1  proj_score2  importance1  \\\n",
       "0    West Ham United  79.65  74.06         1.67         1.19          NaN   \n",
       "1      Wolverhampton  74.19  71.14         1.35         0.98          NaN   \n",
       "2        Aston Villa  60.67  71.45         1.18         1.49          NaN   \n",
       "3  Tottenham Hotspur  76.88  79.06         1.52         1.44          NaN   \n",
       "4  Manchester United  63.53  85.58         0.95         1.92          NaN   \n",
       "\n",
       "   importance2  score1  score2  xg1  xg2  nsxg1  nsxg2  adj_score1  adj_score2  \n",
       "0          NaN     NaN     NaN  NaN  NaN    NaN    NaN         NaN         NaN  \n",
       "1          NaN     NaN     NaN  NaN  NaN    NaN    NaN         NaN         NaN  \n",
       "2          NaN     NaN     NaN  NaN  NaN    NaN    NaN         NaN         NaN  \n",
       "3          NaN     NaN     NaN  NaN  NaN    NaN    NaN         NaN         NaN  \n",
       "4          NaN     NaN     NaN  NaN  NaN    NaN    NaN         NaN         NaN  "
      ]
     },
     "execution_count": 11,
     "metadata": {},
     "output_type": "execute_result"
    }
   ],
   "source": [
    "test.head()"
   ]
  },
  {
   "cell_type": "code",
   "execution_count": 12,
   "id": "1ad30ad1",
   "metadata": {},
   "outputs": [
    {
     "name": "stdout",
     "output_type": "stream",
     "text": [
      "<class 'pandas.core.frame.DataFrame'>\n",
      "RangeIndex: 4008 entries, 0 to 4007\n",
      "Data columns (total 20 columns):\n",
      " #   Column       Non-Null Count  Dtype  \n",
      "---  ------       --------------  -----  \n",
      " 0   season       4008 non-null   int64  \n",
      " 1   date         4008 non-null   object \n",
      " 2   league_id    4008 non-null   int64  \n",
      " 3   league       4008 non-null   object \n",
      " 4   Team 1       4008 non-null   object \n",
      " 5   Team2        4008 non-null   object \n",
      " 6   SPI1         4008 non-null   float64\n",
      " 7   SPI2         4008 non-null   float64\n",
      " 8   proj_score1  4008 non-null   float64\n",
      " 9   proj_score2  4008 non-null   float64\n",
      " 10  importance1  0 non-null      float64\n",
      " 11  importance2  0 non-null      float64\n",
      " 12  score1       0 non-null      float64\n",
      " 13  score2       0 non-null      float64\n",
      " 14  xg1          0 non-null      float64\n",
      " 15  xg2          0 non-null      float64\n",
      " 16  nsxg1        0 non-null      float64\n",
      " 17  nsxg2        0 non-null      float64\n",
      " 18  adj_score1   0 non-null      float64\n",
      " 19  adj_score2   0 non-null      float64\n",
      "dtypes: float64(14), int64(2), object(4)\n",
      "memory usage: 626.4+ KB\n"
     ]
    }
   ],
   "source": [
    "test.info()"
   ]
  },
  {
   "cell_type": "code",
   "execution_count": 13,
   "id": "ae22f055",
   "metadata": {},
   "outputs": [
    {
     "data": {
      "text/plain": [
       "2021    6542\n",
       "2020     661\n",
       "2019     240\n",
       "Name: season, dtype: int64"
      ]
     },
     "execution_count": 13,
     "metadata": {},
     "output_type": "execute_result"
    }
   ],
   "source": [
    "train['season'].value_counts()"
   ]
  },
  {
   "cell_type": "code",
   "execution_count": 14,
   "id": "43963acb",
   "metadata": {},
   "outputs": [
    {
     "data": {
      "text/plain": [
       "39"
      ]
     },
     "execution_count": 14,
     "metadata": {},
     "output_type": "execute_result"
    }
   ],
   "source": [
    "train['league'].nunique()"
   ]
  },
  {
   "cell_type": "code",
   "execution_count": 15,
   "id": "cfbd449a",
   "metadata": {},
   "outputs": [
    {
     "data": {
      "text/plain": [
       "657"
      ]
     },
     "execution_count": 15,
     "metadata": {},
     "output_type": "execute_result"
    }
   ],
   "source": [
    "train['Team 1'].nunique()"
   ]
  },
  {
   "cell_type": "code",
   "execution_count": 16,
   "id": "98838f87",
   "metadata": {},
   "outputs": [
    {
     "data": {
      "text/plain": [
       "657"
      ]
     },
     "execution_count": 16,
     "metadata": {},
     "output_type": "execute_result"
    }
   ],
   "source": [
    "train['Team2'].nunique()"
   ]
  },
  {
   "cell_type": "code",
   "execution_count": 17,
   "id": "5f708c90",
   "metadata": {},
   "outputs": [],
   "source": [
    "newtrain = train.drop(['date', 'league_id', 'importance1', 'importance2', 'score1', 'score2', 'xg1', 'xg2', 'nsxg1', 'nsxg2', 'adj_score1', 'adj_score2'], axis = 1)\n",
    "newtest = test.drop(['date', 'league_id', 'importance1', 'importance2', 'score1', 'score2', 'xg1', 'xg2', 'nsxg1', 'nsxg2', 'adj_score1', 'adj_score2'], axis = 1)"
   ]
  },
  {
   "cell_type": "code",
   "execution_count": 18,
   "id": "27f9edc1",
   "metadata": {},
   "outputs": [],
   "source": [
    "from sklearn.preprocessing import LabelEncoder\n",
    "le = LabelEncoder()"
   ]
  },
  {
   "cell_type": "code",
   "execution_count": 19,
   "id": "485b581a",
   "metadata": {},
   "outputs": [],
   "source": [
    "newtrain['Team 1'] = le.fit_transform(newtrain['Team 1'])\n",
    "newtrain['Team2'] = le.fit_transform(newtrain['Team2'])\n",
    "newtrain['league'] = le.fit_transform(newtrain['league'])"
   ]
  },
  {
   "cell_type": "code",
   "execution_count": 20,
   "id": "f22b3ce3",
   "metadata": {},
   "outputs": [],
   "source": [
    "newtest['Team 1'] = le.fit_transform(newtest['Team 1'])\n",
    "newtest['Team2'] = le.fit_transform(newtest['Team2'])\n",
    "newtest['league'] = le.fit_transform(newtest['league'])"
   ]
  },
  {
   "cell_type": "code",
   "execution_count": 21,
   "id": "f1294651",
   "metadata": {},
   "outputs": [],
   "source": [
    "x = newtrain.drop('Outcome', axis = 1)\n",
    "y = newtrain['Outcome']"
   ]
  },
  {
   "cell_type": "code",
   "execution_count": 22,
   "id": "f86563a3",
   "metadata": {},
   "outputs": [],
   "source": [
    "from sklearn.model_selection import train_test_split\n",
    "from sklearn.metrics import accuracy_score, classification_report\n",
    "x_train, x_test, y_train, y_test = train_test_split(x, y, random_state = 0, test_size = 0.2)"
   ]
  },
  {
   "cell_type": "code",
   "execution_count": 24,
   "id": "14dac9e1",
   "metadata": {},
   "outputs": [
    {
     "name": "stdout",
     "output_type": "stream",
     "text": [
      "0.9872397582269979\n",
      "              precision    recall  f1-score   support\n",
      "\n",
      "           0       0.99      0.98      0.98       483\n",
      "           1       0.99      0.99      0.99      1006\n",
      "\n",
      "    accuracy                           0.99      1489\n",
      "   macro avg       0.99      0.98      0.99      1489\n",
      "weighted avg       0.99      0.99      0.99      1489\n",
      "\n"
     ]
    }
   ],
   "source": [
    "from sklearn.ensemble import RandomForestClassifier\n",
    "rf = RandomForestClassifier()\n",
    "y_pred = rf.fit(x_train, y_train).predict(x_test)\n",
    "print(accuracy_score(y_test, y_pred))\n",
    "print(classification_report(y_test, y_pred))"
   ]
  },
  {
   "cell_type": "code",
   "execution_count": 25,
   "id": "1d685474",
   "metadata": {},
   "outputs": [
    {
     "data": {
      "image/png": "[encoded data removed]",
      "text/plain": [
       "<Figure size 720x360 with 1 Axes>"
      ]
     },
     "metadata": {
      "needs_background": "light"
     },
     "output_type": "display_data"
    }
   ],
   "source": [
    "feature_imp = pd.DataFrame(sorted(zip(rf.feature_importances_, x.columns), reverse=True)[:], columns=['Value','Feature'])\n",
    "plt.figure(figsize=(10,5))\n",
    "sns.barplot(x=\"Value\", y=\"Feature\", data=feature_imp.sort_values(by=\"Value\", ascending=False))\n",
    "plt.title('RF Features')\n",
    "plt.tight_layout()\n",
    "plt.show()"
   ]
  },
  {
   "cell_type": "code",
   "execution_count": 32,
   "id": "f21fc0c5",
   "metadata": {},
   "outputs": [],
   "source": [
    "x_train = newtrain.drop(['Outcome', 'SPI1', 'SPI2', 'Team 1', 'Team2'], axis = 1)\n",
    "y_train = newtrain['Outcome']\n",
    "x_test = newtest.drop(['SPI1', 'SPI2', 'Team 1', 'Team2'], axis = 1)"
   ]
  },
  {
   "cell_type": "code",
   "execution_count": 28,
   "id": "3ebea7b8",
   "metadata": {},
   "outputs": [],
   "source": [
    "from sklearn.ensemble import RandomForestClassifier\n",
    "rf = RandomForestClassifier()\n",
    "y_pred = rf.fit(x_train, y_train).predict(x_test)"
   ]
  },
  {
   "cell_type": "code",
   "execution_count": 32,
   "id": "c75455a5",
   "metadata": {},
   "outputs": [],
   "source": [
    "solution = pd.DataFrame({'Outcome' : y_pred})\n",
    "solution.to_csv('Solution.csv', index = False)"
   ]
  },
  {
   "cell_type": "code",
   "execution_count": null,
   "id": "dff7925e",
   "metadata": {},
   "outputs": [],
   "source": []
  }
 ],
 "metadata": {
  "kernelspec": {
   "display_name": "Python 3",
   "language": "python",
   "name": "python3"
  },
  "language_info": {
   "codemirror_mode": {
    "name": "ipython",
    "version": 3
   },
   "file_extension": ".py",
   "mimetype": "text/x-python",
   "name": "python",
   "nbconvert_exporter": "python",
   "pygments_lexer": "ipython3",
   "version": "3.8.8"
  }
 },
 "nbformat": 4,
 "nbformat_minor": 5
}
