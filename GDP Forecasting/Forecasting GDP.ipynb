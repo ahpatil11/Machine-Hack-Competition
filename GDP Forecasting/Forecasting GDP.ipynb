{
 "cells": [
  {
   "cell_type": "code",
   "execution_count": 1,
   "id": "672564be",
   "metadata": {},
   "outputs": [],
   "source": [
    "import numpy as np\n",
    "import pandas as pd\n",
    "import matplotlib.pyplot as plt\n",
    "import seaborn as sns"
   ]
  },
  {
   "cell_type": "code",
   "execution_count": 2,
   "id": "4081b5c4",
   "metadata": {},
   "outputs": [
    {
     "data": {
      "text/html": [
       "<div>\n",
       "<style scoped>\n",
       "    .dataframe tbody tr th:only-of-type {\n",
       "        vertical-align: middle;\n",
       "    }\n",
       "\n",
       "    .dataframe tbody tr th {\n",
       "        vertical-align: top;\n",
       "    }\n",
       "\n",
       "    .dataframe thead th {\n",
       "        text-align: right;\n",
       "    }\n",
       "</style>\n",
       "<table border=\"1\" class=\"dataframe\">\n",
       "  <thead>\n",
       "    <tr style=\"text-align: right;\">\n",
       "      <th></th>\n",
       "      <th>Unnamed: 0</th>\n",
       "      <th>Financial Year</th>\n",
       "      <th>Quarter Ending</th>\n",
       "      <th>Quarter</th>\n",
       "      <th>County</th>\n",
       "      <th>City</th>\n",
       "      <th>County_City</th>\n",
       "      <th>key</th>\n",
       "      <th>GDP</th>\n",
       "    </tr>\n",
       "  </thead>\n",
       "  <tbody>\n",
       "    <tr>\n",
       "      <th>0</th>\n",
       "      <td>0</td>\n",
       "      <td>2012</td>\n",
       "      <td>09/30/2011</td>\n",
       "      <td>1</td>\n",
       "      <td>1</td>\n",
       "      <td>1</td>\n",
       "      <td>1_1</td>\n",
       "      <td>93020111</td>\n",
       "      <td>3449658.32</td>\n",
       "    </tr>\n",
       "    <tr>\n",
       "      <th>1</th>\n",
       "      <td>1</td>\n",
       "      <td>2012</td>\n",
       "      <td>12/31/2011</td>\n",
       "      <td>2</td>\n",
       "      <td>1</td>\n",
       "      <td>1</td>\n",
       "      <td>1_1</td>\n",
       "      <td>123120111</td>\n",
       "      <td>3433050.00</td>\n",
       "    </tr>\n",
       "    <tr>\n",
       "      <th>2</th>\n",
       "      <td>2</td>\n",
       "      <td>2012</td>\n",
       "      <td>03/31/2012</td>\n",
       "      <td>3</td>\n",
       "      <td>1</td>\n",
       "      <td>1</td>\n",
       "      <td>1_1</td>\n",
       "      <td>33120121</td>\n",
       "      <td>3520501.00</td>\n",
       "    </tr>\n",
       "    <tr>\n",
       "      <th>3</th>\n",
       "      <td>3</td>\n",
       "      <td>2012</td>\n",
       "      <td>06/30/2012</td>\n",
       "      <td>4</td>\n",
       "      <td>1</td>\n",
       "      <td>1</td>\n",
       "      <td>1_1</td>\n",
       "      <td>63020121</td>\n",
       "      <td>2268743.00</td>\n",
       "    </tr>\n",
       "    <tr>\n",
       "      <th>4</th>\n",
       "      <td>4</td>\n",
       "      <td>2013</td>\n",
       "      <td>09/30/2012</td>\n",
       "      <td>1</td>\n",
       "      <td>1</td>\n",
       "      <td>1</td>\n",
       "      <td>1_1</td>\n",
       "      <td>93020121</td>\n",
       "      <td>3515263.00</td>\n",
       "    </tr>\n",
       "  </tbody>\n",
       "</table>\n",
       "</div>"
      ],
      "text/plain": [
       "   Unnamed: 0  Financial Year Quarter Ending  Quarter  County  City  \\\n",
       "0           0            2012     09/30/2011        1       1     1   \n",
       "1           1            2012     12/31/2011        2       1     1   \n",
       "2           2            2012     03/31/2012        3       1     1   \n",
       "3           3            2012     06/30/2012        4       1     1   \n",
       "4           4            2013     09/30/2012        1       1     1   \n",
       "\n",
       "  County_City        key         GDP  \n",
       "0         1_1   93020111  3449658.32  \n",
       "1         1_1  123120111  3433050.00  \n",
       "2         1_1   33120121  3520501.00  \n",
       "3         1_1   63020121  2268743.00  \n",
       "4         1_1   93020121  3515263.00  "
      ]
     },
     "execution_count": 2,
     "metadata": {},
     "output_type": "execute_result"
    }
   ],
   "source": [
    "train = pd.read_csv('Training.csv')\n",
    "train.head()"
   ]
  },
  {
   "cell_type": "code",
   "execution_count": 3,
   "id": "814e944d",
   "metadata": {},
   "outputs": [
    {
     "data": {
      "text/plain": [
       "(33734, 9)"
      ]
     },
     "execution_count": 3,
     "metadata": {},
     "output_type": "execute_result"
    }
   ],
   "source": [
    "train.shape"
   ]
  },
  {
   "cell_type": "code",
   "execution_count": 4,
   "id": "35c05380",
   "metadata": {},
   "outputs": [
    {
     "data": {
      "text/plain": [
       "Unnamed: 0        0\n",
       "Financial Year    0\n",
       "Quarter Ending    0\n",
       "Quarter           0\n",
       "County            0\n",
       "City              0\n",
       "County_City       0\n",
       "key               0\n",
       "GDP               0\n",
       "dtype: int64"
      ]
     },
     "execution_count": 4,
     "metadata": {},
     "output_type": "execute_result"
    }
   ],
   "source": [
    "train.isnull().sum()"
   ]
  },
  {
   "cell_type": "code",
   "execution_count": 5,
   "id": "504df565",
   "metadata": {},
   "outputs": [
    {
     "data": {
      "text/plain": [
       "99"
      ]
     },
     "execution_count": 5,
     "metadata": {},
     "output_type": "execute_result"
    }
   ],
   "source": [
    "train['County'].nunique()"
   ]
  },
  {
   "cell_type": "code",
   "execution_count": 6,
   "id": "1443925b",
   "metadata": {},
   "outputs": [
    {
     "name": "stdout",
     "output_type": "stream",
     "text": [
      "<class 'pandas.core.frame.DataFrame'>\n",
      "RangeIndex: 33734 entries, 0 to 33733\n",
      "Data columns (total 9 columns):\n",
      " #   Column          Non-Null Count  Dtype  \n",
      "---  ------          --------------  -----  \n",
      " 0   Unnamed: 0      33734 non-null  int64  \n",
      " 1   Financial Year  33734 non-null  int64  \n",
      " 2   Quarter Ending  33734 non-null  object \n",
      " 3   Quarter         33734 non-null  int64  \n",
      " 4   County          33734 non-null  int64  \n",
      " 5   City            33734 non-null  int64  \n",
      " 6   County_City     33734 non-null  object \n",
      " 7   key             33734 non-null  int64  \n",
      " 8   GDP             33734 non-null  float64\n",
      "dtypes: float64(1), int64(6), object(2)\n",
      "memory usage: 2.3+ MB\n"
     ]
    }
   ],
   "source": [
    "train.info()"
   ]
  },
  {
   "cell_type": "code",
   "execution_count": 7,
   "id": "6a0816a0",
   "metadata": {},
   "outputs": [
    {
     "data": {
      "text/plain": [
       "775"
      ]
     },
     "execution_count": 7,
     "metadata": {},
     "output_type": "execute_result"
    }
   ],
   "source": [
    "train['County_City'].nunique()"
   ]
  },
  {
   "cell_type": "code",
   "execution_count": 8,
   "id": "73e6e9c5",
   "metadata": {},
   "outputs": [
    {
     "data": {
      "text/plain": [
       "array(['1_1', '1_2', '1_4', '1_5', '1_6', '1_7', '1_8', '2_9', '2_7',\n",
       "       '3_13', '3_14', '3_15', '3_7', '3_16', '3_17', '3_18', '4_19',\n",
       "       '4_20', '4_22', '4_23', '4_7', '5_28', '5_30', '5_7', '6_32',\n",
       "       '6_33', '6_34', '6_35', '6_36', '6_39', '6_40', '6_7', '6_41',\n",
       "       '6_42', '6_43', '6_44', '6_45', '7_46', '7_47', '7_48', '7_49',\n",
       "       '7_50', '7_51', '7_52', '7_54', '7_7', '7_55', '7_56', '8_58',\n",
       "       '8_59', '8_60', '8_7', '9_62', '9_52', '9_7', '9_64', '9_65',\n",
       "       '9_66', '9_67', '9_68', '10_69', '10_70', '10_71', '10_72',\n",
       "       '10_73', '10_53', '10_74', '10_7', '10_75', '10_76', '10_78',\n",
       "       '11_79', '11_80', '11_82', '11_83', '11_84', '11_7', '11_86',\n",
       "       '11_87', '12_88', '12_89', '12_91', '12_92', '12_93', '12_94',\n",
       "       '12_7', '12_95', '12_96', '13_97', '13_99', '13_100', '13_102',\n",
       "       '13_7', '13_103', '13_104', '14_106', '14_107', '14_108', '14_109',\n",
       "       '14_110', '14_111', '14_112', '14_114', '14_7', '14_115', '15_116',\n",
       "       '15_117', '15_118', '15_119', '15_120', '15_122', '15_123',\n",
       "       '16_125', '16_126', '16_127', '16_128', '16_7', '16_129', '16_130',\n",
       "       '16_131', '17_133', '17_134', '17_7', '17_137', '17_139', '17_140',\n",
       "       '17_141', '17_142', '18_143', '18_144', '18_147', '18_148', '18_7',\n",
       "       '18_149', '19_151', '19_152', '19_153', '19_154', '19_155',\n",
       "       '19_156', '19_7', '20_157', '20_158', '20_7', '21_161', '21_162',\n",
       "       '21_163', '21_7', '21_165', '21_166', '21_167', '21_168', '22_169',\n",
       "       '22_170', '22_174', '22_175', '22_176', '22_177', '22_179', '22_7',\n",
       "       '22_182', '23_184', '23_185', '23_186', '23_187', '23_188',\n",
       "       '23_189', '23_190', '23_191', '23_192', '23_193', '23_7', '23_196',\n",
       "       '24_198', '24_200', '24_201', '24_203', '24_204', '24_7', '24_205',\n",
       "       '24_206', '24_207', '25_208', '25_210', '25_211', '25_213',\n",
       "       '25_214', '25_215', '25_218', '25_7', '25_219', '25_220', '25_221',\n",
       "       '25_222', '25_223', '25_224', '25_225', '26_226', '26_227', '26_7',\n",
       "       '26_229', '27_230', '27_231', '27_233', '27_234', '27_235', '27_7',\n",
       "       '28_237', '28_239', '28_240', '28_241', '28_242', '28_169',\n",
       "       '28_243', '28_244', '28_245', '28_7', '28_247', '29_248', '29_249',\n",
       "       '29_250', '29_7', '29_252', '30_253', '30_254', '30_255', '30_256',\n",
       "       '30_7', '30_257', '30_259', '31_262', '31_263', '31_264', '31_265',\n",
       "       '31_266', '31_241', '31_267', '31_268', '31_269', '31_271', '31_7',\n",
       "       '31_272', '31_273', '31_274', '32_276', '32_278', '32_7', '32_279',\n",
       "       '32_280', '33_281', '33_282', '33_283', '33_284', '33_285',\n",
       "       '33_286', '33_287', '33_7', '33_290', '33_291', '33_292', '34_294',\n",
       "       '34_295', '34_296', '34_136', '34_7', '34_297', '34_298', '35_299',\n",
       "       '35_300', '35_303', '35_304', '35_305', '35_7', '35_306', '36_307',\n",
       "       '36_308', '36_7', '36_311', '36_312', '36_313', '37_315', '37_316',\n",
       "       '37_317', '37_7', '37_318', '37_319', '37_320', '38_321', '38_322',\n",
       "       '38_323', '38_324', '38_325', '38_7', '38_326', '38_328', '39_1',\n",
       "       '39_330', '39_3', '39_331', '39_333', '39_7', '39_334', '39_8',\n",
       "       '39_335', '40_336', '40_337', '40_7', '40_341', '40_342', '40_343',\n",
       "       '40_344', '41_345', '41_346', '41_348', '41_349', '41_351',\n",
       "       '41_352', '41_7', '41_353', '42_299', '42_354', '42_355', '42_356',\n",
       "       '42_357', '42_358', '42_7', '42_359', '42_360', '42_361', '43_202',\n",
       "       '43_363', '43_364', '43_366', '43_7', '43_367', '43_368', '43_369',\n",
       "       '44_371', '44_372', '44_373', '44_7', '44_375', '44_376', '44_377',\n",
       "       '45_378', '45_379', '45_380', '45_381', '45_7', '45_382', '45_383',\n",
       "       '46_385', '46_388', '46_389', '46_7', '46_391', '47_394', '47_395',\n",
       "       '47_396', '47_397', '47_398', '47_7', '48_401', '48_402', '48_404',\n",
       "       '48_7', '48_405', '48_406', '48_407', '49_410', '49_194', '49_412',\n",
       "       '49_7', '49_414', '49_415', '49_417', '50_419', '50_420', '50_421',\n",
       "       '50_422', '50_423', '50_425', '50_426', '50_7', '50_427', '50_428',\n",
       "       '50_429', '51_430', '51_432', '51_433', '51_434', '51_7', '51_435',\n",
       "       '52_436', '52_437', '52_438', '52_440', '52_441', '52_7', '52_442',\n",
       "       '52_443', '52_444', '52_445', '53_446', '53_264', '53_448',\n",
       "       '53_449', '53_450', '53_451', '53_7', '53_452', '53_453', '54_455',\n",
       "       '54_456', '54_457', '54_458', '54_459', '54_7', '54_460', '54_461',\n",
       "       '54_462', '54_464', '55_465', '55_466', '55_467', '55_468',\n",
       "       '55_469', '55_470', '55_471', '55_7', '55_473', '55_474', '55_475',\n",
       "       '55_476', '55_477', '56_478', '56_479', '56_480', '56_481',\n",
       "       '56_482', '56_7', '56_484', '57_486', '57_487', '57_488', '57_489',\n",
       "       '57_490', '57_491', '57_492', '57_493', '57_494', '57_495',\n",
       "       '57_496', '57_7', '57_497', '57_499', '57_500', '57_501', '58_504',\n",
       "       '58_506', '58_507', '58_7', '58_509', '59_510', '59_512', '59_7',\n",
       "       '59_513', '60_514', '60_515', '60_516', '60_517', '60_518',\n",
       "       '60_519', '60_520', '60_7', '60_521', '61_523', '61_7', '61_526',\n",
       "       '61_527', '62_528', '62_531', '62_532', '62_533', '62_534', '62_7',\n",
       "       '63_537', '63_538', '63_539', '63_7', '63_541', '63_543', '64_545',\n",
       "       '64_546', '64_548', '64_551', '64_552', '64_7', '64_553', '64_555',\n",
       "       '65_556', '65_557', '65_560', '65_7', '65_561', '65_562', '66_565',\n",
       "       '66_566', '66_7', '66_383', '66_567', '66_568', '67_571', '67_572',\n",
       "       '67_573', '67_7', '67_574', '67_575', '67_576', '68_577', '68_578',\n",
       "       '69_7', '69_581', '69_582', '69_583', '70_588', '70_589', '70_7',\n",
       "       '70_591', '70_132', '71_593', '71_594', '71_7', '71_595', '71_596',\n",
       "       '71_597', '71_598', '71_599', '72_600', '72_602', '72_603', '72_7',\n",
       "       '72_604', '73_605', '73_606', '73_607', '73_608', '73_7', '73_311',\n",
       "       '74_611', '74_612', '74_613', '74_614', '74_7', '74_615', '74_476',\n",
       "       '75_616', '75_618', '75_619', '75_620', '75_621', '75_7', '75_622',\n",
       "       '75_623', '75_624', '76_625', '76_626', '76_627', '76_7', '76_628',\n",
       "       '76_629', '76_630', '77_632', '77_633', '77_634', '77_635',\n",
       "       '77_210', '77_636', '77_637', '77_216', '77_638', '77_424', '77_7',\n",
       "       '77_640', '77_641', '77_642', '77_221', '77_224', '77_644',\n",
       "       '78_645', '78_646', '78_647', '78_648', '78_649', '78_650',\n",
       "       '78_653', '78_654', '78_655', '78_7', '78_657', '78_658', '78_659',\n",
       "       '79_660', '79_661', '79_662', '79_665', '79_666', '79_7', '80_669',\n",
       "       '80_670', '80_672', '80_7', '80_673', '81_675', '81_676', '81_677',\n",
       "       '81_101', '81_679', '81_7', '81_680', '81_681', '81_682', '82_683',\n",
       "       '82_585', '82_684', '82_685', '82_687', '82_688', '82_689',\n",
       "       '82_690', '82_7', '82_694', '82_696', '83_697', '83_698', '83_699',\n",
       "       '83_700', '83_701', '83_7', '83_702', '83_703', '83_656', '84_705',\n",
       "       '84_706', '84_707', '84_708', '84_709', '84_710', '84_711',\n",
       "       '84_713', '84_714', '84_7', '84_715', '84_598', '84_716', '85_57',\n",
       "       '85_717', '85_718', '85_719', '85_720', '85_721', '85_722',\n",
       "       '85_723', '85_725', '85_7', '85_726', '85_727', '85_728', '85_729',\n",
       "       '86_730', '86_731', '86_732', '86_733', '86_734', '86_735', '86_7',\n",
       "       '86_738', '86_739', '86_740', '87_741', '87_743', '87_745',\n",
       "       '87_746', '87_7', '88_747', '88_749', '88_750', '88_7', '89_753',\n",
       "       '89_754', '89_755', '89_757', '89_758', '89_759', '89_7', '89_761',\n",
       "       '90_762', '90_763', '90_530', '90_764', '90_7', '90_765', '91_635',\n",
       "       '91_767', '91_768', '91_769', '91_770', '91_771', '91_772',\n",
       "       '91_773', '91_639', '91_7', '92_776', '92_777', '92_778', '92_779',\n",
       "       '92_7', '92_780', '92_781', '92_782', '92_783', '93_784', '93_786',\n",
       "       '93_787', '93_788', '93_7', '93_790', '94_791', '94_793', '94_794',\n",
       "       '94_795', '94_796', '94_797', '94_798', '94_799', '94_800', '94_7',\n",
       "       '95_804', '95_348', '95_805', '95_806', '95_7', '95_809', '96_811',\n",
       "       '96_813', '96_814', '96_815', '96_7', '96_816', '96_817', '97_818',\n",
       "       '97_819', '97_820', '97_822', '97_823', '97_824', '97_825', '97_7',\n",
       "       '97_827', '97_828', '97_829', '97_623', '97_830', '98_832',\n",
       "       '98_833', '98_836', '98_837', '98_838', '98_7', '99_839', '99_840',\n",
       "       '99_302', '99_841', '99_842', '99_7'], dtype=object)"
      ]
     },
     "execution_count": 8,
     "metadata": {},
     "output_type": "execute_result"
    }
   ],
   "source": [
    "train['County_City'].unique()"
   ]
  },
  {
   "cell_type": "code",
   "execution_count": 9,
   "id": "31dc3ac1",
   "metadata": {},
   "outputs": [
    {
     "data": {
      "text/html": [
       "<div>\n",
       "<style scoped>\n",
       "    .dataframe tbody tr th:only-of-type {\n",
       "        vertical-align: middle;\n",
       "    }\n",
       "\n",
       "    .dataframe tbody tr th {\n",
       "        vertical-align: top;\n",
       "    }\n",
       "\n",
       "    .dataframe thead th {\n",
       "        text-align: right;\n",
       "    }\n",
       "</style>\n",
       "<table border=\"1\" class=\"dataframe\">\n",
       "  <thead>\n",
       "    <tr style=\"text-align: right;\">\n",
       "      <th></th>\n",
       "      <th>Unnamed: 0</th>\n",
       "      <th>City</th>\n",
       "      <th>Financial Year</th>\n",
       "      <th>Quarter Ending</th>\n",
       "      <th>Quarter</th>\n",
       "      <th>key</th>\n",
       "    </tr>\n",
       "  </thead>\n",
       "  <tbody>\n",
       "    <tr>\n",
       "      <th>0</th>\n",
       "      <td>0</td>\n",
       "      <td>1</td>\n",
       "      <td>2024</td>\n",
       "      <td>12/31/2023</td>\n",
       "      <td>2</td>\n",
       "      <td>123120231</td>\n",
       "    </tr>\n",
       "    <tr>\n",
       "      <th>1</th>\n",
       "      <td>1</td>\n",
       "      <td>1</td>\n",
       "      <td>2024</td>\n",
       "      <td>09/30/2023</td>\n",
       "      <td>1</td>\n",
       "      <td>93020231</td>\n",
       "    </tr>\n",
       "    <tr>\n",
       "      <th>2</th>\n",
       "      <td>2</td>\n",
       "      <td>1</td>\n",
       "      <td>2023</td>\n",
       "      <td>06/30/2023</td>\n",
       "      <td>4</td>\n",
       "      <td>63020231</td>\n",
       "    </tr>\n",
       "    <tr>\n",
       "      <th>3</th>\n",
       "      <td>3</td>\n",
       "      <td>1</td>\n",
       "      <td>2023</td>\n",
       "      <td>03/31/2023</td>\n",
       "      <td>3</td>\n",
       "      <td>33120231</td>\n",
       "    </tr>\n",
       "    <tr>\n",
       "      <th>4</th>\n",
       "      <td>4</td>\n",
       "      <td>1</td>\n",
       "      <td>2023</td>\n",
       "      <td>12/31/2022</td>\n",
       "      <td>2</td>\n",
       "      <td>123120221</td>\n",
       "    </tr>\n",
       "  </tbody>\n",
       "</table>\n",
       "</div>"
      ],
      "text/plain": [
       "   Unnamed: 0  City  Financial Year Quarter Ending  Quarter        key\n",
       "0           0     1            2024     12/31/2023        2  123120231\n",
       "1           1     1            2024     09/30/2023        1   93020231\n",
       "2           2     1            2023     06/30/2023        4   63020231\n",
       "3           3     1            2023     03/31/2023        3   33120231\n",
       "4           4     1            2023     12/31/2022        2  123120221"
      ]
     },
     "execution_count": 9,
     "metadata": {},
     "output_type": "execute_result"
    }
   ],
   "source": [
    "test = pd.read_csv('Mapping.csv')\n",
    "test.head()"
   ]
  },
  {
   "cell_type": "code",
   "execution_count": 10,
   "id": "1a42ddd9",
   "metadata": {},
   "outputs": [
    {
     "data": {
      "text/plain": [
       "(3972, 6)"
      ]
     },
     "execution_count": 10,
     "metadata": {},
     "output_type": "execute_result"
    }
   ],
   "source": [
    "test.shape"
   ]
  },
  {
   "cell_type": "code",
   "execution_count": 11,
   "id": "8e64295e",
   "metadata": {},
   "outputs": [
    {
     "data": {
      "text/plain": [
       "Unnamed: 0        0\n",
       "City              0\n",
       "Financial Year    0\n",
       "Quarter Ending    0\n",
       "Quarter           0\n",
       "key               0\n",
       "dtype: int64"
      ]
     },
     "execution_count": 11,
     "metadata": {},
     "output_type": "execute_result"
    }
   ],
   "source": [
    "test.isnull().sum()"
   ]
  },
  {
   "cell_type": "code",
   "execution_count": 12,
   "id": "702aeb58",
   "metadata": {},
   "outputs": [],
   "source": [
    "train['Quarter Ending'] = pd.to_datetime(train['Quarter Ending'])"
   ]
  },
  {
   "cell_type": "code",
   "execution_count": 13,
   "id": "9ed3f98d",
   "metadata": {},
   "outputs": [],
   "source": [
    "from statsmodels.tsa.arima.model import ARIMA\n",
    "from sklearn.metrics import mean_absolute_percentage_error"
   ]
  },
  {
   "cell_type": "code",
   "execution_count": 28,
   "id": "8a8ab3d1",
   "metadata": {},
   "outputs": [],
   "source": [
    "features = train[['Quarter Ending', 'Quarter', 'City']]"
   ]
  },
  {
   "cell_type": "code",
   "execution_count": 29,
   "id": "93d4120b",
   "metadata": {
    "scrolled": true
   },
   "outputs": [
    {
     "name": "stderr",
     "output_type": "stream",
     "text": [
      "C:\\Users\\ahpat\\AppData\\Local\\Temp\\ipykernel_11420\\2514656071.py:1: SettingWithCopyWarning: \n",
      "A value is trying to be set on a copy of a slice from a DataFrame.\n",
      "Try using .loc[row_indexer,col_indexer] = value instead\n",
      "\n",
      "See the caveats in the documentation: https://pandas.pydata.org/pandas-docs/stable/user_guide/indexing.html#returning-a-view-versus-a-copy\n",
      "  features['Quarter Ending'] = features['Quarter Ending'].map(pd.Timestamp.toordinal)  # Convert dates to ordinal\n"
     ]
    }
   ],
   "source": [
    "features['Quarter Ending'] = features['Quarter Ending'].map(pd.Timestamp.toordinal)  # Convert dates to ordinal"
   ]
  },
  {
   "cell_type": "code",
   "execution_count": 30,
   "id": "f103a2c3",
   "metadata": {},
   "outputs": [],
   "source": [
    "target = train['GDP'].astype(float)"
   ]
  },
  {
   "cell_type": "code",
   "execution_count": 31,
   "id": "1039197e",
   "metadata": {},
   "outputs": [],
   "source": [
    "from sklearn.model_selection import train_test_split\n",
    "from sklearn.preprocessing import StandardScaler\n",
    "from sklearn.metrics import mean_absolute_percentage_error\n",
    "from sklearn.ensemble import RandomForestRegressor"
   ]
  },
  {
   "cell_type": "code",
   "execution_count": 32,
   "id": "4a5d6aa7",
   "metadata": {},
   "outputs": [],
   "source": [
    "X_train, X_test, y_train, y_test = train_test_split(features, target, test_size=0.2, random_state=42, shuffle=False)"
   ]
  },
  {
   "cell_type": "code",
   "execution_count": 33,
   "id": "23fc920b",
   "metadata": {},
   "outputs": [],
   "source": [
    "scaler = StandardScaler()\n",
    "X_train_scaled = scaler.fit_transform(X_train)\n",
    "X_test_scaled = scaler.transform(X_test)"
   ]
  },
  {
   "cell_type": "code",
   "execution_count": 34,
   "id": "8f5e8100",
   "metadata": {},
   "outputs": [
    {
     "data": {
      "text/html": [
       "<style>#sk-container-id-2 {color: black;}#sk-container-id-2 pre{padding: 0;}#sk-container-id-2 div.sk-toggleable {background-color: white;}#sk-container-id-2 label.sk-toggleable__label {cursor: pointer;display: block;width: 100%;margin-bottom: 0;padding: 0.3em;box-sizing: border-box;text-align: center;}#sk-container-id-2 label.sk-toggleable__label-arrow:before {content: \"▸\";float: left;margin-right: 0.25em;color: #696969;}#sk-container-id-2 label.sk-toggleable__label-arrow:hover:before {color: black;}#sk-container-id-2 div.sk-estimator:hover label.sk-toggleable__label-arrow:before {color: black;}#sk-container-id-2 div.sk-toggleable__content {max-height: 0;max-width: 0;overflow: hidden;text-align: left;background-color: #f0f8ff;}#sk-container-id-2 div.sk-toggleable__content pre {margin: 0.2em;color: black;border-radius: 0.25em;background-color: #f0f8ff;}#sk-container-id-2 input.sk-toggleable__control:checked~div.sk-toggleable__content {max-height: 200px;max-width: 100%;overflow: auto;}#sk-container-id-2 input.sk-toggleable__control:checked~label.sk-toggleable__label-arrow:before {content: \"▾\";}#sk-container-id-2 div.sk-estimator input.sk-toggleable__control:checked~label.sk-toggleable__label {background-color: #d4ebff;}#sk-container-id-2 div.sk-label input.sk-toggleable__control:checked~label.sk-toggleable__label {background-color: #d4ebff;}#sk-container-id-2 input.sk-hidden--visually {border: 0;clip: rect(1px 1px 1px 1px);clip: rect(1px, 1px, 1px, 1px);height: 1px;margin: -1px;overflow: hidden;padding: 0;position: absolute;width: 1px;}#sk-container-id-2 div.sk-estimator {font-family: monospace;background-color: #f0f8ff;border: 1px dotted black;border-radius: 0.25em;box-sizing: border-box;margin-bottom: 0.5em;}#sk-container-id-2 div.sk-estimator:hover {background-color: #d4ebff;}#sk-container-id-2 div.sk-parallel-item::after {content: \"\";width: 100%;border-bottom: 1px solid gray;flex-grow: 1;}#sk-container-id-2 div.sk-label:hover label.sk-toggleable__label {background-color: #d4ebff;}#sk-container-id-2 div.sk-serial::before {content: \"\";position: absolute;border-left: 1px solid gray;box-sizing: border-box;top: 0;bottom: 0;left: 50%;z-index: 0;}#sk-container-id-2 div.sk-serial {display: flex;flex-direction: column;align-items: center;background-color: white;padding-right: 0.2em;padding-left: 0.2em;position: relative;}#sk-container-id-2 div.sk-item {position: relative;z-index: 1;}#sk-container-id-2 div.sk-parallel {display: flex;align-items: stretch;justify-content: center;background-color: white;position: relative;}#sk-container-id-2 div.sk-item::before, #sk-container-id-2 div.sk-parallel-item::before {content: \"\";position: absolute;border-left: 1px solid gray;box-sizing: border-box;top: 0;bottom: 0;left: 50%;z-index: -1;}#sk-container-id-2 div.sk-parallel-item {display: flex;flex-direction: column;z-index: 1;position: relative;background-color: white;}#sk-container-id-2 div.sk-parallel-item:first-child::after {align-self: flex-end;width: 50%;}#sk-container-id-2 div.sk-parallel-item:last-child::after {align-self: flex-start;width: 50%;}#sk-container-id-2 div.sk-parallel-item:only-child::after {width: 0;}#sk-container-id-2 div.sk-dashed-wrapped {border: 1px dashed gray;margin: 0 0.4em 0.5em 0.4em;box-sizing: border-box;padding-bottom: 0.4em;background-color: white;}#sk-container-id-2 div.sk-label label {font-family: monospace;font-weight: bold;display: inline-block;line-height: 1.2em;}#sk-container-id-2 div.sk-label-container {text-align: center;}#sk-container-id-2 div.sk-container {/* jupyter's `normalize.less` sets `[hidden] { display: none; }` but bootstrap.min.css set `[hidden] { display: none !important; }` so we also need the `!important` here to be able to override the default hidden behavior on the sphinx rendered scikit-learn.org. See: https://github.com/scikit-learn/scikit-learn/issues/21755 */display: inline-block !important;position: relative;}#sk-container-id-2 div.sk-text-repr-fallback {display: none;}</style><div id=\"sk-container-id-2\" class=\"sk-top-container\"><div class=\"sk-text-repr-fallback\"><pre>RandomForestRegressor(random_state=42)</pre><b>In a Jupyter environment, please rerun this cell to show the HTML representation or trust the notebook. <br />On GitHub, the HTML representation is unable to render, please try loading this page with nbviewer.org.</b></div><div class=\"sk-container\" hidden><div class=\"sk-item\"><div class=\"sk-estimator sk-toggleable\"><input class=\"sk-toggleable__control sk-hidden--visually\" id=\"sk-estimator-id-2\" type=\"checkbox\" checked><label for=\"sk-estimator-id-2\" class=\"sk-toggleable__label sk-toggleable__label-arrow\">RandomForestRegressor</label><div class=\"sk-toggleable__content\"><pre>RandomForestRegressor(random_state=42)</pre></div></div></div></div></div>"
      ],
      "text/plain": [
       "RandomForestRegressor(random_state=42)"
      ]
     },
     "execution_count": 34,
     "metadata": {},
     "output_type": "execute_result"
    }
   ],
   "source": [
    "model = RandomForestRegressor(n_estimators=100, random_state=42)\n",
    "model.fit(X_train_scaled, y_train)"
   ]
  },
  {
   "cell_type": "code",
   "execution_count": 35,
   "id": "5dd54cb8",
   "metadata": {},
   "outputs": [],
   "source": [
    "y_pred = model.predict(X_test_scaled)"
   ]
  },
  {
   "cell_type": "code",
   "execution_count": 36,
   "id": "6a1f4912",
   "metadata": {},
   "outputs": [
    {
     "data": {
      "text/plain": [
       "19.70179116510153"
      ]
     },
     "execution_count": 36,
     "metadata": {},
     "output_type": "execute_result"
    }
   ],
   "source": [
    "mape = mean_absolute_percentage_error(y_test, y_pred)\n",
    "mape"
   ]
  },
  {
   "cell_type": "code",
   "execution_count": 40,
   "id": "629107c6",
   "metadata": {},
   "outputs": [],
   "source": [
    "test['Quarter Ending'] = pd.to_datetime(test['Quarter Ending'])"
   ]
  },
  {
   "cell_type": "code",
   "execution_count": 42,
   "id": "a732f33e",
   "metadata": {},
   "outputs": [],
   "source": [
    "test['Quarter Ending'] = test['Quarter Ending'].map(pd.Timestamp.toordinal)  "
   ]
  },
  {
   "cell_type": "code",
   "execution_count": 45,
   "id": "888ba907",
   "metadata": {},
   "outputs": [
    {
     "name": "stdout",
     "output_type": "stream",
     "text": [
      "<class 'pandas.core.frame.DataFrame'>\n",
      "RangeIndex: 33734 entries, 0 to 33733\n",
      "Data columns (total 9 columns):\n",
      " #   Column          Non-Null Count  Dtype  \n",
      "---  ------          --------------  -----  \n",
      " 0   Unnamed: 0      33734 non-null  int64  \n",
      " 1   Financial Year  33734 non-null  int64  \n",
      " 2   Quarter Ending  33734 non-null  int64  \n",
      " 3   Quarter         33734 non-null  int64  \n",
      " 4   County          33734 non-null  int64  \n",
      " 5   City            33734 non-null  int64  \n",
      " 6   County_City     33734 non-null  object \n",
      " 7   key             33734 non-null  int64  \n",
      " 8   GDP             33734 non-null  float64\n",
      "dtypes: float64(1), int64(7), object(1)\n",
      "memory usage: 2.3+ MB\n"
     ]
    }
   ],
   "source": [
    "train.info()"
   ]
  },
  {
   "cell_type": "code",
   "execution_count": 48,
   "id": "02d9d33a",
   "metadata": {},
   "outputs": [
    {
     "name": "stdout",
     "output_type": "stream",
     "text": [
      "<class 'pandas.core.frame.DataFrame'>\n",
      "RangeIndex: 3972 entries, 0 to 3971\n",
      "Data columns (total 6 columns):\n",
      " #   Column          Non-Null Count  Dtype\n",
      "---  ------          --------------  -----\n",
      " 0   Unnamed: 0      3972 non-null   int64\n",
      " 1   City            3972 non-null   int64\n",
      " 2   Financial Year  3972 non-null   int64\n",
      " 3   Quarter Ending  3972 non-null   int64\n",
      " 4   Quarter         3972 non-null   int64\n",
      " 5   key             3972 non-null   int64\n",
      "dtypes: int64(6)\n",
      "memory usage: 186.3 KB\n"
     ]
    }
   ],
   "source": [
    "test.info()"
   ]
  },
  {
   "cell_type": "code",
   "execution_count": 49,
   "id": "8172d1a5",
   "metadata": {},
   "outputs": [],
   "source": [
    "x_train = train[['Quarter Ending', 'Quarter', 'City']]\n",
    "y_train = train['GDP']\n",
    "x_test = test[['Quarter Ending', 'Quarter', 'City']]"
   ]
  },
  {
   "cell_type": "code",
   "execution_count": 53,
   "id": "bdf05e90",
   "metadata": {},
   "outputs": [],
   "source": [
    "scaler = StandardScaler()\n",
    "X_train_scaled = scaler.fit_transform(x_train)\n",
    "X_test_scaled = scaler.transform(x_test)"
   ]
  },
  {
   "cell_type": "code",
   "execution_count": 54,
   "id": "7821847b",
   "metadata": {},
   "outputs": [
    {
     "data": {
      "text/html": [
       "<style>#sk-container-id-3 {color: black;}#sk-container-id-3 pre{padding: 0;}#sk-container-id-3 div.sk-toggleable {background-color: white;}#sk-container-id-3 label.sk-toggleable__label {cursor: pointer;display: block;width: 100%;margin-bottom: 0;padding: 0.3em;box-sizing: border-box;text-align: center;}#sk-container-id-3 label.sk-toggleable__label-arrow:before {content: \"▸\";float: left;margin-right: 0.25em;color: #696969;}#sk-container-id-3 label.sk-toggleable__label-arrow:hover:before {color: black;}#sk-container-id-3 div.sk-estimator:hover label.sk-toggleable__label-arrow:before {color: black;}#sk-container-id-3 div.sk-toggleable__content {max-height: 0;max-width: 0;overflow: hidden;text-align: left;background-color: #f0f8ff;}#sk-container-id-3 div.sk-toggleable__content pre {margin: 0.2em;color: black;border-radius: 0.25em;background-color: #f0f8ff;}#sk-container-id-3 input.sk-toggleable__control:checked~div.sk-toggleable__content {max-height: 200px;max-width: 100%;overflow: auto;}#sk-container-id-3 input.sk-toggleable__control:checked~label.sk-toggleable__label-arrow:before {content: \"▾\";}#sk-container-id-3 div.sk-estimator input.sk-toggleable__control:checked~label.sk-toggleable__label {background-color: #d4ebff;}#sk-container-id-3 div.sk-label input.sk-toggleable__control:checked~label.sk-toggleable__label {background-color: #d4ebff;}#sk-container-id-3 input.sk-hidden--visually {border: 0;clip: rect(1px 1px 1px 1px);clip: rect(1px, 1px, 1px, 1px);height: 1px;margin: -1px;overflow: hidden;padding: 0;position: absolute;width: 1px;}#sk-container-id-3 div.sk-estimator {font-family: monospace;background-color: #f0f8ff;border: 1px dotted black;border-radius: 0.25em;box-sizing: border-box;margin-bottom: 0.5em;}#sk-container-id-3 div.sk-estimator:hover {background-color: #d4ebff;}#sk-container-id-3 div.sk-parallel-item::after {content: \"\";width: 100%;border-bottom: 1px solid gray;flex-grow: 1;}#sk-container-id-3 div.sk-label:hover label.sk-toggleable__label {background-color: #d4ebff;}#sk-container-id-3 div.sk-serial::before {content: \"\";position: absolute;border-left: 1px solid gray;box-sizing: border-box;top: 0;bottom: 0;left: 50%;z-index: 0;}#sk-container-id-3 div.sk-serial {display: flex;flex-direction: column;align-items: center;background-color: white;padding-right: 0.2em;padding-left: 0.2em;position: relative;}#sk-container-id-3 div.sk-item {position: relative;z-index: 1;}#sk-container-id-3 div.sk-parallel {display: flex;align-items: stretch;justify-content: center;background-color: white;position: relative;}#sk-container-id-3 div.sk-item::before, #sk-container-id-3 div.sk-parallel-item::before {content: \"\";position: absolute;border-left: 1px solid gray;box-sizing: border-box;top: 0;bottom: 0;left: 50%;z-index: -1;}#sk-container-id-3 div.sk-parallel-item {display: flex;flex-direction: column;z-index: 1;position: relative;background-color: white;}#sk-container-id-3 div.sk-parallel-item:first-child::after {align-self: flex-end;width: 50%;}#sk-container-id-3 div.sk-parallel-item:last-child::after {align-self: flex-start;width: 50%;}#sk-container-id-3 div.sk-parallel-item:only-child::after {width: 0;}#sk-container-id-3 div.sk-dashed-wrapped {border: 1px dashed gray;margin: 0 0.4em 0.5em 0.4em;box-sizing: border-box;padding-bottom: 0.4em;background-color: white;}#sk-container-id-3 div.sk-label label {font-family: monospace;font-weight: bold;display: inline-block;line-height: 1.2em;}#sk-container-id-3 div.sk-label-container {text-align: center;}#sk-container-id-3 div.sk-container {/* jupyter's `normalize.less` sets `[hidden] { display: none; }` but bootstrap.min.css set `[hidden] { display: none !important; }` so we also need the `!important` here to be able to override the default hidden behavior on the sphinx rendered scikit-learn.org. See: https://github.com/scikit-learn/scikit-learn/issues/21755 */display: inline-block !important;position: relative;}#sk-container-id-3 div.sk-text-repr-fallback {display: none;}</style><div id=\"sk-container-id-3\" class=\"sk-top-container\"><div class=\"sk-text-repr-fallback\"><pre>RandomForestRegressor(random_state=42)</pre><b>In a Jupyter environment, please rerun this cell to show the HTML representation or trust the notebook. <br />On GitHub, the HTML representation is unable to render, please try loading this page with nbviewer.org.</b></div><div class=\"sk-container\" hidden><div class=\"sk-item\"><div class=\"sk-estimator sk-toggleable\"><input class=\"sk-toggleable__control sk-hidden--visually\" id=\"sk-estimator-id-3\" type=\"checkbox\" checked><label for=\"sk-estimator-id-3\" class=\"sk-toggleable__label sk-toggleable__label-arrow\">RandomForestRegressor</label><div class=\"sk-toggleable__content\"><pre>RandomForestRegressor(random_state=42)</pre></div></div></div></div></div>"
      ],
      "text/plain": [
       "RandomForestRegressor(random_state=42)"
      ]
     },
     "execution_count": 54,
     "metadata": {},
     "output_type": "execute_result"
    }
   ],
   "source": [
    "model = RandomForestRegressor(n_estimators=100, random_state=42)\n",
    "model.fit(X_train_scaled, y_train)"
   ]
  },
  {
   "cell_type": "code",
   "execution_count": 55,
   "id": "91d90ab7",
   "metadata": {},
   "outputs": [],
   "source": [
    "y_pred = model.predict(X_test_scaled)"
   ]
  },
  {
   "cell_type": "code",
   "execution_count": 56,
   "id": "d613ba6d",
   "metadata": {},
   "outputs": [
    {
     "data": {
      "text/plain": [
       "numpy.ndarray"
      ]
     },
     "execution_count": 56,
     "metadata": {},
     "output_type": "execute_result"
    }
   ],
   "source": [
    "type(y_pred)"
   ]
  },
  {
   "cell_type": "code",
   "execution_count": 57,
   "id": "0d2efa89",
   "metadata": {},
   "outputs": [
    {
     "data": {
      "text/html": [
       "<div>\n",
       "<style scoped>\n",
       "    .dataframe tbody tr th:only-of-type {\n",
       "        vertical-align: middle;\n",
       "    }\n",
       "\n",
       "    .dataframe tbody tr th {\n",
       "        vertical-align: top;\n",
       "    }\n",
       "\n",
       "    .dataframe thead th {\n",
       "        text-align: right;\n",
       "    }\n",
       "</style>\n",
       "<table border=\"1\" class=\"dataframe\">\n",
       "  <thead>\n",
       "    <tr style=\"text-align: right;\">\n",
       "      <th></th>\n",
       "      <th>Unnamed: 0</th>\n",
       "      <th>GDP</th>\n",
       "    </tr>\n",
       "  </thead>\n",
       "  <tbody>\n",
       "    <tr>\n",
       "      <th>0</th>\n",
       "      <td>0</td>\n",
       "      <td>0</td>\n",
       "    </tr>\n",
       "    <tr>\n",
       "      <th>1</th>\n",
       "      <td>1</td>\n",
       "      <td>0</td>\n",
       "    </tr>\n",
       "    <tr>\n",
       "      <th>2</th>\n",
       "      <td>2</td>\n",
       "      <td>0</td>\n",
       "    </tr>\n",
       "    <tr>\n",
       "      <th>3</th>\n",
       "      <td>3</td>\n",
       "      <td>0</td>\n",
       "    </tr>\n",
       "    <tr>\n",
       "      <th>4</th>\n",
       "      <td>4</td>\n",
       "      <td>0</td>\n",
       "    </tr>\n",
       "  </tbody>\n",
       "</table>\n",
       "</div>"
      ],
      "text/plain": [
       "   Unnamed: 0  GDP\n",
       "0           0    0\n",
       "1           1    0\n",
       "2           2    0\n",
       "3           3    0\n",
       "4           4    0"
      ]
     },
     "execution_count": 57,
     "metadata": {},
     "output_type": "execute_result"
    }
   ],
   "source": [
    "submission = pd.read_csv('Submission.csv')\n",
    "submission.head()"
   ]
  },
  {
   "cell_type": "code",
   "execution_count": 65,
   "id": "700de5b1",
   "metadata": {},
   "outputs": [
    {
     "data": {
      "text/html": [
       "<div>\n",
       "<style scoped>\n",
       "    .dataframe tbody tr th:only-of-type {\n",
       "        vertical-align: middle;\n",
       "    }\n",
       "\n",
       "    .dataframe tbody tr th {\n",
       "        vertical-align: top;\n",
       "    }\n",
       "\n",
       "    .dataframe thead th {\n",
       "        text-align: right;\n",
       "    }\n",
       "</style>\n",
       "<table border=\"1\" class=\"dataframe\">\n",
       "  <thead>\n",
       "    <tr style=\"text-align: right;\">\n",
       "      <th></th>\n",
       "      <th>Unnamed: 0</th>\n",
       "      <th>GDP</th>\n",
       "    </tr>\n",
       "  </thead>\n",
       "  <tbody>\n",
       "    <tr>\n",
       "      <th>0</th>\n",
       "      <td>0</td>\n",
       "      <td>1620338.0</td>\n",
       "    </tr>\n",
       "    <tr>\n",
       "      <th>1</th>\n",
       "      <td>1</td>\n",
       "      <td>1507227.0</td>\n",
       "    </tr>\n",
       "    <tr>\n",
       "      <th>2</th>\n",
       "      <td>2</td>\n",
       "      <td>1107641.0</td>\n",
       "    </tr>\n",
       "    <tr>\n",
       "      <th>3</th>\n",
       "      <td>3</td>\n",
       "      <td>1479239.0</td>\n",
       "    </tr>\n",
       "    <tr>\n",
       "      <th>4</th>\n",
       "      <td>4</td>\n",
       "      <td>1620338.0</td>\n",
       "    </tr>\n",
       "    <tr>\n",
       "      <th>...</th>\n",
       "      <td>...</td>\n",
       "      <td>...</td>\n",
       "    </tr>\n",
       "    <tr>\n",
       "      <th>3967</th>\n",
       "      <td>3967</td>\n",
       "      <td>1703724.0</td>\n",
       "    </tr>\n",
       "    <tr>\n",
       "      <th>3968</th>\n",
       "      <td>3968</td>\n",
       "      <td>1735179.0</td>\n",
       "    </tr>\n",
       "    <tr>\n",
       "      <th>3969</th>\n",
       "      <td>3969</td>\n",
       "      <td>1853646.0</td>\n",
       "    </tr>\n",
       "    <tr>\n",
       "      <th>3970</th>\n",
       "      <td>3970</td>\n",
       "      <td>1766313.0</td>\n",
       "    </tr>\n",
       "    <tr>\n",
       "      <th>3971</th>\n",
       "      <td>3971</td>\n",
       "      <td>1703724.0</td>\n",
       "    </tr>\n",
       "  </tbody>\n",
       "</table>\n",
       "<p>3972 rows × 2 columns</p>\n",
       "</div>"
      ],
      "text/plain": [
       "      Unnamed: 0        GDP\n",
       "0              0  1620338.0\n",
       "1              1  1507227.0\n",
       "2              2  1107641.0\n",
       "3              3  1479239.0\n",
       "4              4  1620338.0\n",
       "...          ...        ...\n",
       "3967        3967  1703724.0\n",
       "3968        3968  1735179.0\n",
       "3969        3969  1853646.0\n",
       "3970        3970  1766313.0\n",
       "3971        3971  1703724.0\n",
       "\n",
       "[3972 rows x 2 columns]"
      ]
     },
     "execution_count": 65,
     "metadata": {},
     "output_type": "execute_result"
    }
   ],
   "source": [
    "solution = pd.DataFrame(submission['Unnamed: 0'])\n",
    "solution['GDP'] = np.round(y_pred,0)\n",
    "solution"
   ]
  },
  {
   "cell_type": "code",
   "execution_count": 66,
   "id": "06d4242d",
   "metadata": {},
   "outputs": [],
   "source": [
    "solution.to_csv('Solution.csv', index= False)"
   ]
  },
  {
   "cell_type": "code",
   "execution_count": null,
   "id": "8c8a9434",
   "metadata": {},
   "outputs": [],
   "source": []
  }
 ],
 "metadata": {
  "kernelspec": {
   "display_name": "Python 3 (ipykernel)",
   "language": "python",
   "name": "python3"
  },
  "language_info": {
   "codemirror_mode": {
    "name": "ipython",
    "version": 3
   },
   "file_extension": ".py",
   "mimetype": "text/x-python",
   "name": "python",
   "nbconvert_exporter": "python",
   "pygments_lexer": "ipython3",
   "version": "3.11.5"
  }
 },
 "nbformat": 4,
 "nbformat_minor": 5
}
