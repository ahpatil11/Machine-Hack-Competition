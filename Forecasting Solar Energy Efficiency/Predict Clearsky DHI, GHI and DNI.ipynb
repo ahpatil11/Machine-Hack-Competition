{
 "cells": [
  {
   "cell_type": "code",
   "execution_count": 1,
   "id": "9b5b6b0f",
   "metadata": {},
   "outputs": [],
   "source": [
    "import numpy as np\n",
    "import pandas as pd\n",
    "import matplotlib.pyplot as plt\n",
    "import seaborn as sns"
   ]
  },
  {
   "cell_type": "code",
   "execution_count": 2,
   "id": "4d9e3467",
   "metadata": {},
   "outputs": [
    {
     "data": {
      "text/html": [
       "<div>\n",
       "<style scoped>\n",
       "    .dataframe tbody tr th:only-of-type {\n",
       "        vertical-align: middle;\n",
       "    }\n",
       "\n",
       "    .dataframe tbody tr th {\n",
       "        vertical-align: top;\n",
       "    }\n",
       "\n",
       "    .dataframe thead th {\n",
       "        text-align: right;\n",
       "    }\n",
       "</style>\n",
       "<table border=\"1\" class=\"dataframe\">\n",
       "  <thead>\n",
       "    <tr style=\"text-align: right;\">\n",
       "      <th></th>\n",
       "      <th>Timestamp</th>\n",
       "      <th>Temperature</th>\n",
       "      <th>Dew Point</th>\n",
       "      <th>Surface Albedo</th>\n",
       "      <th>Pressure</th>\n",
       "      <th>Wind Direction</th>\n",
       "      <th>Wind Speed</th>\n",
       "      <th>Clearsky DHI</th>\n",
       "      <th>Clearsky DNI</th>\n",
       "      <th>Clearsky GHI</th>\n",
       "      <th>Fill Flag</th>\n",
       "      <th>Ozone</th>\n",
       "      <th>Cloud Type</th>\n",
       "      <th>Solar Zenith Angle</th>\n",
       "      <th>Precipitable Water</th>\n",
       "      <th>Relative Humidity</th>\n",
       "    </tr>\n",
       "  </thead>\n",
       "  <tbody>\n",
       "    <tr>\n",
       "      <th>0</th>\n",
       "      <td>2019-01-01 00:00:00</td>\n",
       "      <td>12.5</td>\n",
       "      <td>6.9</td>\n",
       "      <td>0.21</td>\n",
       "      <td>1005</td>\n",
       "      <td>121</td>\n",
       "      <td>1.0</td>\n",
       "      <td>0</td>\n",
       "      <td>0</td>\n",
       "      <td>0</td>\n",
       "      <td>0</td>\n",
       "      <td>0.258</td>\n",
       "      <td>1</td>\n",
       "      <td>173.92</td>\n",
       "      <td>1.4</td>\n",
       "      <td>68.82</td>\n",
       "    </tr>\n",
       "    <tr>\n",
       "      <th>1</th>\n",
       "      <td>2019-01-01 00:10:00</td>\n",
       "      <td>12.3</td>\n",
       "      <td>6.9</td>\n",
       "      <td>0.21</td>\n",
       "      <td>1005</td>\n",
       "      <td>122</td>\n",
       "      <td>1.0</td>\n",
       "      <td>0</td>\n",
       "      <td>0</td>\n",
       "      <td>0</td>\n",
       "      <td>0</td>\n",
       "      <td>0.258</td>\n",
       "      <td>1</td>\n",
       "      <td>171.79</td>\n",
       "      <td>1.3</td>\n",
       "      <td>69.73</td>\n",
       "    </tr>\n",
       "    <tr>\n",
       "      <th>2</th>\n",
       "      <td>2019-01-01 00:20:00</td>\n",
       "      <td>12.1</td>\n",
       "      <td>6.9</td>\n",
       "      <td>0.21</td>\n",
       "      <td>1005</td>\n",
       "      <td>124</td>\n",
       "      <td>1.0</td>\n",
       "      <td>0</td>\n",
       "      <td>0</td>\n",
       "      <td>0</td>\n",
       "      <td>0</td>\n",
       "      <td>0.258</td>\n",
       "      <td>1</td>\n",
       "      <td>169.59</td>\n",
       "      <td>1.3</td>\n",
       "      <td>70.65</td>\n",
       "    </tr>\n",
       "    <tr>\n",
       "      <th>3</th>\n",
       "      <td>2019-01-01 00:30:00</td>\n",
       "      <td>12.0</td>\n",
       "      <td>6.9</td>\n",
       "      <td>0.21</td>\n",
       "      <td>1005</td>\n",
       "      <td>125</td>\n",
       "      <td>1.0</td>\n",
       "      <td>0</td>\n",
       "      <td>0</td>\n",
       "      <td>0</td>\n",
       "      <td>0</td>\n",
       "      <td>0.258</td>\n",
       "      <td>1</td>\n",
       "      <td>167.37</td>\n",
       "      <td>1.3</td>\n",
       "      <td>71.11</td>\n",
       "    </tr>\n",
       "    <tr>\n",
       "      <th>4</th>\n",
       "      <td>2019-01-01 00:40:00</td>\n",
       "      <td>11.8</td>\n",
       "      <td>6.9</td>\n",
       "      <td>0.21</td>\n",
       "      <td>1005</td>\n",
       "      <td>126</td>\n",
       "      <td>1.0</td>\n",
       "      <td>0</td>\n",
       "      <td>0</td>\n",
       "      <td>0</td>\n",
       "      <td>0</td>\n",
       "      <td>0.258</td>\n",
       "      <td>1</td>\n",
       "      <td>165.13</td>\n",
       "      <td>1.3</td>\n",
       "      <td>71.91</td>\n",
       "    </tr>\n",
       "  </tbody>\n",
       "</table>\n",
       "</div>"
      ],
      "text/plain": [
       "             Timestamp  Temperature  Dew Point  Surface Albedo  Pressure  \\\n",
       "0  2019-01-01 00:00:00         12.5        6.9            0.21      1005   \n",
       "1  2019-01-01 00:10:00         12.3        6.9            0.21      1005   \n",
       "2  2019-01-01 00:20:00         12.1        6.9            0.21      1005   \n",
       "3  2019-01-01 00:30:00         12.0        6.9            0.21      1005   \n",
       "4  2019-01-01 00:40:00         11.8        6.9            0.21      1005   \n",
       "\n",
       "   Wind Direction  Wind Speed  Clearsky DHI  Clearsky DNI  Clearsky GHI  \\\n",
       "0             121         1.0             0             0             0   \n",
       "1             122         1.0             0             0             0   \n",
       "2             124         1.0             0             0             0   \n",
       "3             125         1.0             0             0             0   \n",
       "4             126         1.0             0             0             0   \n",
       "\n",
       "   Fill Flag  Ozone  Cloud Type  Solar Zenith Angle  Precipitable Water  \\\n",
       "0          0  0.258           1              173.92                 1.4   \n",
       "1          0  0.258           1              171.79                 1.3   \n",
       "2          0  0.258           1              169.59                 1.3   \n",
       "3          0  0.258           1              167.37                 1.3   \n",
       "4          0  0.258           1              165.13                 1.3   \n",
       "\n",
       "   Relative Humidity  \n",
       "0              68.82  \n",
       "1              69.73  \n",
       "2              70.65  \n",
       "3              71.11  \n",
       "4              71.91  "
      ]
     },
     "execution_count": 2,
     "metadata": {},
     "output_type": "execute_result"
    }
   ],
   "source": [
    "train = pd.read_csv('train.csv')\n",
    "train.head()"
   ]
  },
  {
   "cell_type": "code",
   "execution_count": 3,
   "id": "61f98007",
   "metadata": {},
   "outputs": [
    {
     "data": {
      "text/plain": [
       "(210240, 16)"
      ]
     },
     "execution_count": 3,
     "metadata": {},
     "output_type": "execute_result"
    }
   ],
   "source": [
    "train.shape"
   ]
  },
  {
   "cell_type": "code",
   "execution_count": 4,
   "id": "3f3e1116",
   "metadata": {},
   "outputs": [
    {
     "data": {
      "text/plain": [
       "Timestamp             0\n",
       "Temperature           0\n",
       "Dew Point             0\n",
       "Surface Albedo        0\n",
       "Pressure              0\n",
       "Wind Direction        0\n",
       "Wind Speed            0\n",
       "Clearsky DHI          0\n",
       "Clearsky DNI          0\n",
       "Clearsky GHI          0\n",
       "Fill Flag             0\n",
       "Ozone                 0\n",
       "Cloud Type            0\n",
       "Solar Zenith Angle    0\n",
       "Precipitable Water    0\n",
       "Relative Humidity     0\n",
       "dtype: int64"
      ]
     },
     "execution_count": 4,
     "metadata": {},
     "output_type": "execute_result"
    }
   ],
   "source": [
    "train.isnull().sum()"
   ]
  },
  {
   "cell_type": "code",
   "execution_count": 5,
   "id": "19318c9d",
   "metadata": {},
   "outputs": [
    {
     "data": {
      "text/html": [
       "<div>\n",
       "<style scoped>\n",
       "    .dataframe tbody tr th:only-of-type {\n",
       "        vertical-align: middle;\n",
       "    }\n",
       "\n",
       "    .dataframe tbody tr th {\n",
       "        vertical-align: top;\n",
       "    }\n",
       "\n",
       "    .dataframe thead th {\n",
       "        text-align: right;\n",
       "    }\n",
       "</style>\n",
       "<table border=\"1\" class=\"dataframe\">\n",
       "  <thead>\n",
       "    <tr style=\"text-align: right;\">\n",
       "      <th></th>\n",
       "      <th>Timestamp</th>\n",
       "      <th>Temperature</th>\n",
       "      <th>Dew Point</th>\n",
       "      <th>Surface Albedo</th>\n",
       "      <th>Pressure</th>\n",
       "      <th>Wind Direction</th>\n",
       "      <th>Wind Speed</th>\n",
       "      <th>Clearsky DHI</th>\n",
       "      <th>Clearsky DNI</th>\n",
       "      <th>Clearsky GHI</th>\n",
       "      <th>Fill Flag</th>\n",
       "      <th>Ozone</th>\n",
       "      <th>Cloud Type</th>\n",
       "      <th>Solar Zenith Angle</th>\n",
       "      <th>Precipitable Water</th>\n",
       "      <th>Relative Humidity</th>\n",
       "    </tr>\n",
       "  </thead>\n",
       "  <tbody>\n",
       "    <tr>\n",
       "      <th>0</th>\n",
       "      <td>2023-01-01 00:00:00</td>\n",
       "      <td>11.3</td>\n",
       "      <td>1.6</td>\n",
       "      <td>0.21</td>\n",
       "      <td>1006</td>\n",
       "      <td>305</td>\n",
       "      <td>1.2</td>\n",
       "      <td>NaN</td>\n",
       "      <td>NaN</td>\n",
       "      <td>NaN</td>\n",
       "      <td>0</td>\n",
       "      <td>0.255</td>\n",
       "      <td>0</td>\n",
       "      <td>173.92</td>\n",
       "      <td>1.4</td>\n",
       "      <td>51.38</td>\n",
       "    </tr>\n",
       "    <tr>\n",
       "      <th>1</th>\n",
       "      <td>2023-01-01 00:10:00</td>\n",
       "      <td>11.2</td>\n",
       "      <td>1.6</td>\n",
       "      <td>0.21</td>\n",
       "      <td>1006</td>\n",
       "      <td>306</td>\n",
       "      <td>1.2</td>\n",
       "      <td>NaN</td>\n",
       "      <td>NaN</td>\n",
       "      <td>NaN</td>\n",
       "      <td>0</td>\n",
       "      <td>0.255</td>\n",
       "      <td>0</td>\n",
       "      <td>171.79</td>\n",
       "      <td>1.4</td>\n",
       "      <td>51.72</td>\n",
       "    </tr>\n",
       "    <tr>\n",
       "      <th>2</th>\n",
       "      <td>2023-01-01 00:20:00</td>\n",
       "      <td>11.1</td>\n",
       "      <td>1.6</td>\n",
       "      <td>0.21</td>\n",
       "      <td>1006</td>\n",
       "      <td>306</td>\n",
       "      <td>1.2</td>\n",
       "      <td>NaN</td>\n",
       "      <td>NaN</td>\n",
       "      <td>NaN</td>\n",
       "      <td>0</td>\n",
       "      <td>0.255</td>\n",
       "      <td>0</td>\n",
       "      <td>169.59</td>\n",
       "      <td>1.4</td>\n",
       "      <td>52.06</td>\n",
       "    </tr>\n",
       "    <tr>\n",
       "      <th>3</th>\n",
       "      <td>2023-01-01 00:30:00</td>\n",
       "      <td>11.0</td>\n",
       "      <td>1.6</td>\n",
       "      <td>0.21</td>\n",
       "      <td>1006</td>\n",
       "      <td>307</td>\n",
       "      <td>1.2</td>\n",
       "      <td>NaN</td>\n",
       "      <td>NaN</td>\n",
       "      <td>NaN</td>\n",
       "      <td>0</td>\n",
       "      <td>0.255</td>\n",
       "      <td>0</td>\n",
       "      <td>167.37</td>\n",
       "      <td>1.4</td>\n",
       "      <td>52.41</td>\n",
       "    </tr>\n",
       "    <tr>\n",
       "      <th>4</th>\n",
       "      <td>2023-01-01 00:40:00</td>\n",
       "      <td>10.9</td>\n",
       "      <td>1.2</td>\n",
       "      <td>0.21</td>\n",
       "      <td>1006</td>\n",
       "      <td>307</td>\n",
       "      <td>1.2</td>\n",
       "      <td>NaN</td>\n",
       "      <td>NaN</td>\n",
       "      <td>NaN</td>\n",
       "      <td>0</td>\n",
       "      <td>0.255</td>\n",
       "      <td>0</td>\n",
       "      <td>165.13</td>\n",
       "      <td>1.4</td>\n",
       "      <td>51.34</td>\n",
       "    </tr>\n",
       "  </tbody>\n",
       "</table>\n",
       "</div>"
      ],
      "text/plain": [
       "             Timestamp  Temperature  Dew Point  Surface Albedo  Pressure  \\\n",
       "0  2023-01-01 00:00:00         11.3        1.6            0.21      1006   \n",
       "1  2023-01-01 00:10:00         11.2        1.6            0.21      1006   \n",
       "2  2023-01-01 00:20:00         11.1        1.6            0.21      1006   \n",
       "3  2023-01-01 00:30:00         11.0        1.6            0.21      1006   \n",
       "4  2023-01-01 00:40:00         10.9        1.2            0.21      1006   \n",
       "\n",
       "   Wind Direction  Wind Speed  Clearsky DHI  Clearsky DNI  Clearsky GHI  \\\n",
       "0             305         1.2           NaN           NaN           NaN   \n",
       "1             306         1.2           NaN           NaN           NaN   \n",
       "2             306         1.2           NaN           NaN           NaN   \n",
       "3             307         1.2           NaN           NaN           NaN   \n",
       "4             307         1.2           NaN           NaN           NaN   \n",
       "\n",
       "   Fill Flag  Ozone  Cloud Type  Solar Zenith Angle  Precipitable Water  \\\n",
       "0          0  0.255           0              173.92                 1.4   \n",
       "1          0  0.255           0              171.79                 1.4   \n",
       "2          0  0.255           0              169.59                 1.4   \n",
       "3          0  0.255           0              167.37                 1.4   \n",
       "4          0  0.255           0              165.13                 1.4   \n",
       "\n",
       "   Relative Humidity  \n",
       "0              51.38  \n",
       "1              51.72  \n",
       "2              52.06  \n",
       "3              52.41  \n",
       "4              51.34  "
      ]
     },
     "execution_count": 5,
     "metadata": {},
     "output_type": "execute_result"
    }
   ],
   "source": [
    "test = pd.read_csv('test.csv')\n",
    "test.head()"
   ]
  },
  {
   "cell_type": "code",
   "execution_count": 6,
   "id": "3dbf0452",
   "metadata": {},
   "outputs": [
    {
     "data": {
      "text/plain": [
       "(52560, 16)"
      ]
     },
     "execution_count": 6,
     "metadata": {},
     "output_type": "execute_result"
    }
   ],
   "source": [
    "test.shape"
   ]
  },
  {
   "cell_type": "code",
   "execution_count": 7,
   "id": "7ab7c415",
   "metadata": {},
   "outputs": [
    {
     "data": {
      "text/plain": [
       "Timestamp                 0\n",
       "Temperature               0\n",
       "Dew Point                 0\n",
       "Surface Albedo            0\n",
       "Pressure                  0\n",
       "Wind Direction            0\n",
       "Wind Speed                0\n",
       "Clearsky DHI          52560\n",
       "Clearsky DNI          52560\n",
       "Clearsky GHI          52560\n",
       "Fill Flag                 0\n",
       "Ozone                     0\n",
       "Cloud Type                0\n",
       "Solar Zenith Angle        0\n",
       "Precipitable Water        0\n",
       "Relative Humidity         0\n",
       "dtype: int64"
      ]
     },
     "execution_count": 7,
     "metadata": {},
     "output_type": "execute_result"
    }
   ],
   "source": [
    "test.isnull().sum()"
   ]
  },
  {
   "cell_type": "code",
   "execution_count": 8,
   "id": "f70ae8b3",
   "metadata": {},
   "outputs": [],
   "source": [
    "newtrain = train.copy()"
   ]
  },
  {
   "cell_type": "code",
   "execution_count": 9,
   "id": "d3736cef",
   "metadata": {},
   "outputs": [],
   "source": [
    "newtest = test.copy()"
   ]
  },
  {
   "cell_type": "code",
   "execution_count": 13,
   "id": "830daf7e",
   "metadata": {},
   "outputs": [],
   "source": [
    "x = newtrain.drop(['Timestamp','Clearsky DHI', 'Clearsky GHI', 'Clearsky DNI'], axis = 1)\n",
    "y = newtrain[['Clearsky DHI','Clearsky DNI','Clearsky GHI']]"
   ]
  },
  {
   "cell_type": "code",
   "execution_count": 14,
   "id": "9aa77354",
   "metadata": {},
   "outputs": [],
   "source": [
    "from sklearn.model_selection import train_test_split\n",
    "x_train, x_test, y_train, y_test = train_test_split(x, y, test_size = 0.2, random_state = 42)"
   ]
  },
  {
   "cell_type": "code",
   "execution_count": 15,
   "id": "abbcda14",
   "metadata": {},
   "outputs": [],
   "source": [
    "from sklearn.ensemble import RandomForestRegressor\n",
    "rf = RandomForestRegressor(n_estimators = 100, random_state = 42, max_depth = 50)\n",
    "y_pred = rf.fit(x_train, y_train).predict(x_test)"
   ]
  },
  {
   "cell_type": "code",
   "execution_count": 16,
   "id": "e29ccdbd",
   "metadata": {},
   "outputs": [
    {
     "data": {
      "text/plain": [
       "618.8670127314792"
      ]
     },
     "execution_count": 16,
     "metadata": {},
     "output_type": "execute_result"
    }
   ],
   "source": [
    "from sklearn.metrics import mean_squared_error\n",
    "mean_squared_error(y_test, y_pred)"
   ]
  },
  {
   "cell_type": "code",
   "execution_count": 17,
   "id": "e64bb501",
   "metadata": {},
   "outputs": [],
   "source": [
    "newtest = newtest.drop(['Timestamp','Clearsky DHI', 'Clearsky GHI', 'Clearsky DNI'], axis = 1)"
   ]
  },
  {
   "cell_type": "code",
   "execution_count": 18,
   "id": "0945dffa",
   "metadata": {},
   "outputs": [],
   "source": [
    "test_prediction = rf.predict(newtest)"
   ]
  },
  {
   "cell_type": "code",
   "execution_count": 20,
   "id": "a65304d7",
   "metadata": {},
   "outputs": [
    {
     "data": {
      "text/html": [
       "<div>\n",
       "<style scoped>\n",
       "    .dataframe tbody tr th:only-of-type {\n",
       "        vertical-align: middle;\n",
       "    }\n",
       "\n",
       "    .dataframe tbody tr th {\n",
       "        vertical-align: top;\n",
       "    }\n",
       "\n",
       "    .dataframe thead th {\n",
       "        text-align: right;\n",
       "    }\n",
       "</style>\n",
       "<table border=\"1\" class=\"dataframe\">\n",
       "  <thead>\n",
       "    <tr style=\"text-align: right;\">\n",
       "      <th></th>\n",
       "      <th>0</th>\n",
       "      <th>1</th>\n",
       "      <th>2</th>\n",
       "    </tr>\n",
       "  </thead>\n",
       "  <tbody>\n",
       "    <tr>\n",
       "      <th>0</th>\n",
       "      <td>0.0</td>\n",
       "      <td>0.0</td>\n",
       "      <td>0.0</td>\n",
       "    </tr>\n",
       "    <tr>\n",
       "      <th>1</th>\n",
       "      <td>0.0</td>\n",
       "      <td>0.0</td>\n",
       "      <td>0.0</td>\n",
       "    </tr>\n",
       "    <tr>\n",
       "      <th>2</th>\n",
       "      <td>0.0</td>\n",
       "      <td>0.0</td>\n",
       "      <td>0.0</td>\n",
       "    </tr>\n",
       "    <tr>\n",
       "      <th>3</th>\n",
       "      <td>0.0</td>\n",
       "      <td>0.0</td>\n",
       "      <td>0.0</td>\n",
       "    </tr>\n",
       "    <tr>\n",
       "      <th>4</th>\n",
       "      <td>0.0</td>\n",
       "      <td>0.0</td>\n",
       "      <td>0.0</td>\n",
       "    </tr>\n",
       "  </tbody>\n",
       "</table>\n",
       "</div>"
      ],
      "text/plain": [
       "     0    1    2\n",
       "0  0.0  0.0  0.0\n",
       "1  0.0  0.0  0.0\n",
       "2  0.0  0.0  0.0\n",
       "3  0.0  0.0  0.0\n",
       "4  0.0  0.0  0.0"
      ]
     },
     "execution_count": 20,
     "metadata": {},
     "output_type": "execute_result"
    }
   ],
   "source": [
    "solution = pd.DataFrame(test_prediction)\n",
    "solution.head()"
   ]
  },
  {
   "cell_type": "code",
   "execution_count": 21,
   "id": "105b7921",
   "metadata": {},
   "outputs": [
    {
     "data": {
      "text/plain": [
       "(52560, 3)"
      ]
     },
     "execution_count": 21,
     "metadata": {},
     "output_type": "execute_result"
    }
   ],
   "source": [
    "solution.shape"
   ]
  },
  {
   "cell_type": "code",
   "execution_count": 23,
   "id": "b8a6494c",
   "metadata": {},
   "outputs": [],
   "source": [
    "solution.to_csv('Solution.csv', index = False)"
   ]
  },
  {
   "cell_type": "code",
   "execution_count": null,
   "id": "de10434b",
   "metadata": {},
   "outputs": [],
   "source": []
  }
 ],
 "metadata": {
  "kernelspec": {
   "display_name": "Python 3 (ipykernel)",
   "language": "python",
   "name": "python3"
  },
  "language_info": {
   "codemirror_mode": {
    "name": "ipython",
    "version": 3
   },
   "file_extension": ".py",
   "mimetype": "text/x-python",
   "name": "python",
   "nbconvert_exporter": "python",
   "pygments_lexer": "ipython3",
   "version": "3.9.7"
  }
 },
 "nbformat": 4,
 "nbformat_minor": 5
}
