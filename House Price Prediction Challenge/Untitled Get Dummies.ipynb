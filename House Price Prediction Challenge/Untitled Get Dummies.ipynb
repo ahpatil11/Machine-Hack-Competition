{
 "cells": [
  {
   "cell_type": "code",
   "execution_count": 1,
   "metadata": {},
   "outputs": [],
   "source": [
    "import numpy as np\n",
    "import pandas as pd\n",
    "import matplotlib.pyplot as plt\n",
    "import seaborn as sns"
   ]
  },
  {
   "cell_type": "code",
   "execution_count": 2,
   "metadata": {},
   "outputs": [
    {
     "data": {
      "text/html": [
       "<div>\n",
       "<style scoped>\n",
       "    .dataframe tbody tr th:only-of-type {\n",
       "        vertical-align: middle;\n",
       "    }\n",
       "\n",
       "    .dataframe tbody tr th {\n",
       "        vertical-align: top;\n",
       "    }\n",
       "\n",
       "    .dataframe thead th {\n",
       "        text-align: right;\n",
       "    }\n",
       "</style>\n",
       "<table border=\"1\" class=\"dataframe\">\n",
       "  <thead>\n",
       "    <tr style=\"text-align: right;\">\n",
       "      <th></th>\n",
       "      <th>POSTED_BY</th>\n",
       "      <th>UNDER_CONSTRUCTION</th>\n",
       "      <th>RERA</th>\n",
       "      <th>BHK_NO.</th>\n",
       "      <th>BHK_OR_RK</th>\n",
       "      <th>SQUARE_FT</th>\n",
       "      <th>READY_TO_MOVE</th>\n",
       "      <th>RESALE</th>\n",
       "      <th>ADDRESS</th>\n",
       "      <th>LONGITUDE</th>\n",
       "      <th>LATITUDE</th>\n",
       "      <th>TARGET(PRICE_IN_LACS)</th>\n",
       "    </tr>\n",
       "  </thead>\n",
       "  <tbody>\n",
       "    <tr>\n",
       "      <th>0</th>\n",
       "      <td>Owner</td>\n",
       "      <td>0</td>\n",
       "      <td>0</td>\n",
       "      <td>2</td>\n",
       "      <td>BHK</td>\n",
       "      <td>1300.236407</td>\n",
       "      <td>1</td>\n",
       "      <td>1</td>\n",
       "      <td>Ksfc Layout,Bangalore</td>\n",
       "      <td>12.969910</td>\n",
       "      <td>77.597960</td>\n",
       "      <td>55.0</td>\n",
       "    </tr>\n",
       "    <tr>\n",
       "      <th>1</th>\n",
       "      <td>Dealer</td>\n",
       "      <td>0</td>\n",
       "      <td>0</td>\n",
       "      <td>2</td>\n",
       "      <td>BHK</td>\n",
       "      <td>1275.000000</td>\n",
       "      <td>1</td>\n",
       "      <td>1</td>\n",
       "      <td>Vishweshwara Nagar,Mysore</td>\n",
       "      <td>12.274538</td>\n",
       "      <td>76.644605</td>\n",
       "      <td>51.0</td>\n",
       "    </tr>\n",
       "    <tr>\n",
       "      <th>2</th>\n",
       "      <td>Owner</td>\n",
       "      <td>0</td>\n",
       "      <td>0</td>\n",
       "      <td>2</td>\n",
       "      <td>BHK</td>\n",
       "      <td>933.159722</td>\n",
       "      <td>1</td>\n",
       "      <td>1</td>\n",
       "      <td>Jigani,Bangalore</td>\n",
       "      <td>12.778033</td>\n",
       "      <td>77.632191</td>\n",
       "      <td>43.0</td>\n",
       "    </tr>\n",
       "    <tr>\n",
       "      <th>3</th>\n",
       "      <td>Owner</td>\n",
       "      <td>0</td>\n",
       "      <td>1</td>\n",
       "      <td>2</td>\n",
       "      <td>BHK</td>\n",
       "      <td>929.921143</td>\n",
       "      <td>1</td>\n",
       "      <td>1</td>\n",
       "      <td>Sector-1 Vaishali,Ghaziabad</td>\n",
       "      <td>28.642300</td>\n",
       "      <td>77.344500</td>\n",
       "      <td>62.5</td>\n",
       "    </tr>\n",
       "    <tr>\n",
       "      <th>4</th>\n",
       "      <td>Dealer</td>\n",
       "      <td>1</td>\n",
       "      <td>0</td>\n",
       "      <td>2</td>\n",
       "      <td>BHK</td>\n",
       "      <td>999.009247</td>\n",
       "      <td>0</td>\n",
       "      <td>1</td>\n",
       "      <td>New Town,Kolkata</td>\n",
       "      <td>22.592200</td>\n",
       "      <td>88.484911</td>\n",
       "      <td>60.5</td>\n",
       "    </tr>\n",
       "  </tbody>\n",
       "</table>\n",
       "</div>"
      ],
      "text/plain": [
       "  POSTED_BY  UNDER_CONSTRUCTION  RERA  BHK_NO. BHK_OR_RK    SQUARE_FT  \\\n",
       "0     Owner                   0     0        2       BHK  1300.236407   \n",
       "1    Dealer                   0     0        2       BHK  1275.000000   \n",
       "2     Owner                   0     0        2       BHK   933.159722   \n",
       "3     Owner                   0     1        2       BHK   929.921143   \n",
       "4    Dealer                   1     0        2       BHK   999.009247   \n",
       "\n",
       "   READY_TO_MOVE  RESALE                      ADDRESS  LONGITUDE   LATITUDE  \\\n",
       "0              1       1        Ksfc Layout,Bangalore  12.969910  77.597960   \n",
       "1              1       1    Vishweshwara Nagar,Mysore  12.274538  76.644605   \n",
       "2              1       1             Jigani,Bangalore  12.778033  77.632191   \n",
       "3              1       1  Sector-1 Vaishali,Ghaziabad  28.642300  77.344500   \n",
       "4              0       1             New Town,Kolkata  22.592200  88.484911   \n",
       "\n",
       "   TARGET(PRICE_IN_LACS)  \n",
       "0                   55.0  \n",
       "1                   51.0  \n",
       "2                   43.0  \n",
       "3                   62.5  \n",
       "4                   60.5  "
      ]
     },
     "execution_count": 2,
     "metadata": {},
     "output_type": "execute_result"
    }
   ],
   "source": [
    "train = pd.read_csv('Train.csv')\n",
    "train.head()"
   ]
  },
  {
   "cell_type": "code",
   "execution_count": 3,
   "metadata": {},
   "outputs": [
    {
     "data": {
      "text/plain": [
       "(29451, 12)"
      ]
     },
     "execution_count": 3,
     "metadata": {},
     "output_type": "execute_result"
    }
   ],
   "source": [
    "train.shape"
   ]
  },
  {
   "cell_type": "code",
   "execution_count": 4,
   "metadata": {},
   "outputs": [
    {
     "data": {
      "text/html": [
       "<div>\n",
       "<style scoped>\n",
       "    .dataframe tbody tr th:only-of-type {\n",
       "        vertical-align: middle;\n",
       "    }\n",
       "\n",
       "    .dataframe tbody tr th {\n",
       "        vertical-align: top;\n",
       "    }\n",
       "\n",
       "    .dataframe thead th {\n",
       "        text-align: right;\n",
       "    }\n",
       "</style>\n",
       "<table border=\"1\" class=\"dataframe\">\n",
       "  <thead>\n",
       "    <tr style=\"text-align: right;\">\n",
       "      <th></th>\n",
       "      <th>POSTED_BY</th>\n",
       "      <th>UNDER_CONSTRUCTION</th>\n",
       "      <th>RERA</th>\n",
       "      <th>BHK_NO.</th>\n",
       "      <th>BHK_OR_RK</th>\n",
       "      <th>SQUARE_FT</th>\n",
       "      <th>READY_TO_MOVE</th>\n",
       "      <th>RESALE</th>\n",
       "      <th>ADDRESS</th>\n",
       "      <th>LONGITUDE</th>\n",
       "      <th>LATITUDE</th>\n",
       "    </tr>\n",
       "  </thead>\n",
       "  <tbody>\n",
       "    <tr>\n",
       "      <th>0</th>\n",
       "      <td>Owner</td>\n",
       "      <td>0</td>\n",
       "      <td>0</td>\n",
       "      <td>1</td>\n",
       "      <td>BHK</td>\n",
       "      <td>545.171340</td>\n",
       "      <td>1</td>\n",
       "      <td>1</td>\n",
       "      <td>Kamrej,Surat</td>\n",
       "      <td>21.262000</td>\n",
       "      <td>73.047700</td>\n",
       "    </tr>\n",
       "    <tr>\n",
       "      <th>1</th>\n",
       "      <td>Dealer</td>\n",
       "      <td>1</td>\n",
       "      <td>1</td>\n",
       "      <td>2</td>\n",
       "      <td>BHK</td>\n",
       "      <td>800.000000</td>\n",
       "      <td>0</td>\n",
       "      <td>0</td>\n",
       "      <td>Panvel,Lalitpur</td>\n",
       "      <td>18.966114</td>\n",
       "      <td>73.148278</td>\n",
       "    </tr>\n",
       "    <tr>\n",
       "      <th>2</th>\n",
       "      <td>Dealer</td>\n",
       "      <td>0</td>\n",
       "      <td>0</td>\n",
       "      <td>2</td>\n",
       "      <td>BHK</td>\n",
       "      <td>1257.096513</td>\n",
       "      <td>1</td>\n",
       "      <td>1</td>\n",
       "      <td>New Town,Kolkata</td>\n",
       "      <td>22.592200</td>\n",
       "      <td>88.484911</td>\n",
       "    </tr>\n",
       "    <tr>\n",
       "      <th>3</th>\n",
       "      <td>Dealer</td>\n",
       "      <td>0</td>\n",
       "      <td>0</td>\n",
       "      <td>3</td>\n",
       "      <td>BHK</td>\n",
       "      <td>1400.329489</td>\n",
       "      <td>1</td>\n",
       "      <td>1</td>\n",
       "      <td>Kalwar Road,Jaipur</td>\n",
       "      <td>26.988300</td>\n",
       "      <td>75.584600</td>\n",
       "    </tr>\n",
       "    <tr>\n",
       "      <th>4</th>\n",
       "      <td>Owner</td>\n",
       "      <td>0</td>\n",
       "      <td>0</td>\n",
       "      <td>1</td>\n",
       "      <td>BHK</td>\n",
       "      <td>430.477830</td>\n",
       "      <td>1</td>\n",
       "      <td>1</td>\n",
       "      <td>Mai Mandir,Nadiad</td>\n",
       "      <td>22.700000</td>\n",
       "      <td>72.870000</td>\n",
       "    </tr>\n",
       "  </tbody>\n",
       "</table>\n",
       "</div>"
      ],
      "text/plain": [
       "  POSTED_BY  UNDER_CONSTRUCTION  RERA  BHK_NO. BHK_OR_RK    SQUARE_FT  \\\n",
       "0     Owner                   0     0        1       BHK   545.171340   \n",
       "1    Dealer                   1     1        2       BHK   800.000000   \n",
       "2    Dealer                   0     0        2       BHK  1257.096513   \n",
       "3    Dealer                   0     0        3       BHK  1400.329489   \n",
       "4     Owner                   0     0        1       BHK   430.477830   \n",
       "\n",
       "   READY_TO_MOVE  RESALE             ADDRESS  LONGITUDE   LATITUDE  \n",
       "0              1       1        Kamrej,Surat  21.262000  73.047700  \n",
       "1              0       0     Panvel,Lalitpur  18.966114  73.148278  \n",
       "2              1       1    New Town,Kolkata  22.592200  88.484911  \n",
       "3              1       1  Kalwar Road,Jaipur  26.988300  75.584600  \n",
       "4              1       1   Mai Mandir,Nadiad  22.700000  72.870000  "
      ]
     },
     "execution_count": 4,
     "metadata": {},
     "output_type": "execute_result"
    }
   ],
   "source": [
    "test = pd.read_csv('Test.csv')\n",
    "test.head()"
   ]
  },
  {
   "cell_type": "code",
   "execution_count": 5,
   "metadata": {},
   "outputs": [
    {
     "data": {
      "text/plain": [
       "(68720, 11)"
      ]
     },
     "execution_count": 5,
     "metadata": {},
     "output_type": "execute_result"
    }
   ],
   "source": [
    "test.shape"
   ]
  },
  {
   "cell_type": "code",
   "execution_count": 6,
   "metadata": {},
   "outputs": [
    {
     "data": {
      "text/plain": [
       "POSTED_BY                0\n",
       "UNDER_CONSTRUCTION       0\n",
       "RERA                     0\n",
       "BHK_NO.                  0\n",
       "BHK_OR_RK                0\n",
       "SQUARE_FT                0\n",
       "READY_TO_MOVE            0\n",
       "RESALE                   0\n",
       "ADDRESS                  0\n",
       "LONGITUDE                0\n",
       "LATITUDE                 0\n",
       "TARGET(PRICE_IN_LACS)    0\n",
       "dtype: int64"
      ]
     },
     "execution_count": 6,
     "metadata": {},
     "output_type": "execute_result"
    }
   ],
   "source": [
    "train.isnull().sum()"
   ]
  },
  {
   "cell_type": "code",
   "execution_count": 7,
   "metadata": {},
   "outputs": [
    {
     "data": {
      "text/plain": [
       "POSTED_BY             0\n",
       "UNDER_CONSTRUCTION    0\n",
       "RERA                  0\n",
       "BHK_NO.               0\n",
       "BHK_OR_RK             0\n",
       "SQUARE_FT             0\n",
       "READY_TO_MOVE         0\n",
       "RESALE                0\n",
       "ADDRESS               0\n",
       "LONGITUDE             0\n",
       "LATITUDE              0\n",
       "dtype: int64"
      ]
     },
     "execution_count": 7,
     "metadata": {},
     "output_type": "execute_result"
    }
   ],
   "source": [
    "test.isnull().sum()"
   ]
  },
  {
   "cell_type": "code",
   "execution_count": 8,
   "metadata": {},
   "outputs": [
    {
     "name": "stdout",
     "output_type": "stream",
     "text": [
      "<class 'pandas.core.frame.DataFrame'>\n",
      "RangeIndex: 29451 entries, 0 to 29450\n",
      "Data columns (total 12 columns):\n",
      "POSTED_BY                29451 non-null object\n",
      "UNDER_CONSTRUCTION       29451 non-null int64\n",
      "RERA                     29451 non-null int64\n",
      "BHK_NO.                  29451 non-null int64\n",
      "BHK_OR_RK                29451 non-null object\n",
      "SQUARE_FT                29451 non-null float64\n",
      "READY_TO_MOVE            29451 non-null int64\n",
      "RESALE                   29451 non-null int64\n",
      "ADDRESS                  29451 non-null object\n",
      "LONGITUDE                29451 non-null float64\n",
      "LATITUDE                 29451 non-null float64\n",
      "TARGET(PRICE_IN_LACS)    29451 non-null float64\n",
      "dtypes: float64(4), int64(5), object(3)\n",
      "memory usage: 2.7+ MB\n"
     ]
    }
   ],
   "source": [
    "train.info()"
   ]
  },
  {
   "cell_type": "code",
   "execution_count": 9,
   "metadata": {},
   "outputs": [
    {
     "data": {
      "text/plain": [
       "Dealer     18291\n",
       "Owner      10538\n",
       "Builder      622\n",
       "Name: POSTED_BY, dtype: int64"
      ]
     },
     "execution_count": 9,
     "metadata": {},
     "output_type": "execute_result"
    }
   ],
   "source": [
    "train['POSTED_BY'].value_counts()"
   ]
  },
  {
   "cell_type": "code",
   "execution_count": 10,
   "metadata": {},
   "outputs": [
    {
     "data": {
      "text/plain": [
       "BHK    29427\n",
       "RK        24\n",
       "Name: BHK_OR_RK, dtype: int64"
      ]
     },
     "execution_count": 10,
     "metadata": {},
     "output_type": "execute_result"
    }
   ],
   "source": [
    "train['BHK_OR_RK'].value_counts()"
   ]
  },
  {
   "cell_type": "code",
   "execution_count": 11,
   "metadata": {},
   "outputs": [
    {
     "data": {
      "text/plain": [
       "Zirakpur,Chandigarh                        509\n",
       "Whitefield,Bangalore                       230\n",
       "Raj Nagar Extension,Ghaziabad              215\n",
       "Sector-137 Noida,Noida                     139\n",
       "New Town,Kolkata                           131\n",
       "Jagatpura,Jaipur                           120\n",
       "Rajarhat,Kolkata                           113\n",
       "Thanisandra,Bangalore                      110\n",
       "Noida Extension,Noida                      107\n",
       "Baner,Pune                                 101\n",
       "Sector 88 Faridabad,Faridabad              100\n",
       "Sector-75 Noida,Noida                       99\n",
       "Sector 86 Faridabad,Faridabad               97\n",
       "Ajmer Road,Jaipur                           96\n",
       "Sector-150 Noida,Noida                      94\n",
       "Sector-78 Noida,Noida                       91\n",
       "Sarjapur Road,Bangalore                     89\n",
       "Electronics City Phase 1,Bangalore          87\n",
       "Hebbal,Bangalore                            82\n",
       "Kundli,Sonipat                              81\n",
       "Mansarovar,Jaipur                           79\n",
       "Wagholi,Pune                                79\n",
       "Kharadi,Pune                                78\n",
       "Yelahanka,Bangalore                         77\n",
       "Sector-74 Noida,Noida                       77\n",
       "Crossing Republik,Ghaziabad                 71\n",
       "Wakad,Pune                                  71\n",
       "NIBM,Pune                                   71\n",
       "Hadapsar,Pune                               71\n",
       "Sector 82 Faridabad,Faridabad               69\n",
       "                                          ... \n",
       "Jalalpore,Navsari                            1\n",
       "Judicial Layout,Bangalore                    1\n",
       "Fairlands,Salem                              1\n",
       "RATA ROAD CHIRI,Vapi                         1\n",
       "Sai Colony, Near Sai Mandir, Dighi,Pune      1\n",
       "Mohan Nagar,Nagpur                           1\n",
       "Maldahiya,Varanasi                           1\n",
       "Mevalurkuppam,Kanchipuram                    1\n",
       "Nageshwar,jamnagar road,Rajkot               1\n",
       "Sector 11 Belapur,Mumbai                     1\n",
       "Film City Road,Maharashtra                   1\n",
       "Richmond Road,Bangalore                      1\n",
       "silicon city,Indore                          1\n",
       "Kannamkulangara,Thrissur                     1\n",
       "Lake City,Bangalore                          1\n",
       "Narayana Nagar 3rd Block,Bangalore           1\n",
       "Sakhiya Nagar,Rajkot                         1\n",
       "Chaksu,Jaipur                                1\n",
       "Shivramnagar,Pune                            1\n",
       "Kachimet,Lalitpur                            1\n",
       "Bilasi Town,Deoghar                          1\n",
       "Prem Nagar,Kota                              1\n",
       "Sathe Nagar,Pune                             1\n",
       "Godhni,Nagpur                                1\n",
       "Kathgodam,Haldwani                           1\n",
       "Sukanta Nagar,Kolkata                        1\n",
       "dahivali,Karjat                              1\n",
       "Pali Village,Maharashtra                     1\n",
       "Yahiyaganj,Lucknow                           1\n",
       "Ganjpara,Durg                                1\n",
       "Name: ADDRESS, Length: 6899, dtype: int64"
      ]
     },
     "execution_count": 11,
     "metadata": {},
     "output_type": "execute_result"
    }
   ],
   "source": [
    "train['ADDRESS'].value_counts()"
   ]
  },
  {
   "cell_type": "code",
   "execution_count": 12,
   "metadata": {},
   "outputs": [],
   "source": [
    "train['ADDRESS'] = train['ADDRESS'].apply(lambda x:x.split(',')[1])"
   ]
  },
  {
   "cell_type": "code",
   "execution_count": 13,
   "metadata": {},
   "outputs": [],
   "source": [
    "test['ADDRESS'] = test['ADDRESS'].apply(lambda x:x.split(',')[1])"
   ]
  },
  {
   "cell_type": "code",
   "execution_count": 14,
   "metadata": {},
   "outputs": [
    {
     "name": "stdout",
     "output_type": "stream",
     "text": [
      "<class 'pandas.core.frame.DataFrame'>\n",
      "RangeIndex: 29451 entries, 0 to 29450\n",
      "Data columns (total 12 columns):\n",
      "POSTED_BY                29451 non-null object\n",
      "UNDER_CONSTRUCTION       29451 non-null int64\n",
      "RERA                     29451 non-null int64\n",
      "BHK_NO.                  29451 non-null int64\n",
      "BHK_OR_RK                29451 non-null object\n",
      "SQUARE_FT                29451 non-null float64\n",
      "READY_TO_MOVE            29451 non-null int64\n",
      "RESALE                   29451 non-null int64\n",
      "ADDRESS                  29451 non-null object\n",
      "LONGITUDE                29451 non-null float64\n",
      "LATITUDE                 29451 non-null float64\n",
      "TARGET(PRICE_IN_LACS)    29451 non-null float64\n",
      "dtypes: float64(4), int64(5), object(3)\n",
      "memory usage: 2.7+ MB\n"
     ]
    }
   ],
   "source": [
    "train.info()"
   ]
  },
  {
   "cell_type": "code",
   "execution_count": 15,
   "metadata": {},
   "outputs": [],
   "source": [
    "from sklearn.preprocessing import LabelEncoder\n",
    "le = LabelEncoder()"
   ]
  },
  {
   "cell_type": "code",
   "execution_count": 16,
   "metadata": {},
   "outputs": [],
   "source": [
    "train['ADDRESS'] = le.fit_transform(train['ADDRESS'])"
   ]
  },
  {
   "cell_type": "code",
   "execution_count": 17,
   "metadata": {},
   "outputs": [],
   "source": [
    "test['ADDRESS'] = le.fit_transform(test['ADDRESS'])"
   ]
  },
  {
   "cell_type": "code",
   "execution_count": 18,
   "metadata": {},
   "outputs": [],
   "source": [
    "train = pd.get_dummies(train)"
   ]
  },
  {
   "cell_type": "code",
   "execution_count": 19,
   "metadata": {},
   "outputs": [],
   "source": [
    "test = pd.get_dummies(test)"
   ]
  },
  {
   "cell_type": "code",
   "execution_count": 20,
   "metadata": {},
   "outputs": [],
   "source": [
    "x_train = train.drop('TARGET(PRICE_IN_LACS)', axis = 1)\n",
    "y_train = train['TARGET(PRICE_IN_LACS)']\n",
    "x_test = test.copy()"
   ]
  },
  {
   "cell_type": "code",
   "execution_count": 21,
   "metadata": {},
   "outputs": [],
   "source": [
    "from sklearn.ensemble import RandomForestRegressor\n",
    "rf = RandomForestRegressor()\n",
    "y_pred = rf.fit(x_train, y_train).predict(x_test)\n",
    "solution = pd.DataFrame({'TARGET(PRICE_IN_LACS)': np.abs(y_pred)})\n",
    "solution.to_csv('RF GET DUMMIES.csv', index = False)"
   ]
  },
  {
   "cell_type": "code",
   "execution_count": 22,
   "metadata": {},
   "outputs": [
    {
     "data": {
      "text/plain": [
       "array([  19.157     ,   32.78      ,   44.05733333, ..., 8222.95      ,\n",
       "         70.279     ,  457.        ])"
      ]
     },
     "execution_count": 22,
     "metadata": {},
     "output_type": "execute_result"
    }
   ],
   "source": [
    "y_pred"
   ]
  },
  {
   "cell_type": "code",
   "execution_count": null,
   "metadata": {},
   "outputs": [],
   "source": []
  }
 ],
 "metadata": {
  "kernelspec": {
   "display_name": "Python 3",
   "language": "python",
   "name": "python3"
  },
  "language_info": {
   "codemirror_mode": {
    "name": "ipython",
    "version": 3
   },
   "file_extension": ".py",
   "mimetype": "text/x-python",
   "name": "python",
   "nbconvert_exporter": "python",
   "pygments_lexer": "ipython3",
   "version": "3.7.3"
  }
 },
 "nbformat": 4,
 "nbformat_minor": 2
}
