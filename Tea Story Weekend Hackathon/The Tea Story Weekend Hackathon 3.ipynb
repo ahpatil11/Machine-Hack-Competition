{
 "cells": [
  {
   "cell_type": "code",
   "execution_count": 64,
   "id": "a4d213d5",
   "metadata": {},
   "outputs": [],
   "source": [
    "import numpy as np\n",
    "import pandas as pd\n",
    "import matplotlib.pyplot as plt\n",
    "import seaborn as sns\n",
    "import re"
   ]
  },
  {
   "cell_type": "code",
   "execution_count": 65,
   "id": "14d60cbf",
   "metadata": {},
   "outputs": [
    {
     "data": {
      "text/html": [
       "<div>\n",
       "<style scoped>\n",
       "    .dataframe tbody tr th:only-of-type {\n",
       "        vertical-align: middle;\n",
       "    }\n",
       "\n",
       "    .dataframe tbody tr th {\n",
       "        vertical-align: top;\n",
       "    }\n",
       "\n",
       "    .dataframe thead th {\n",
       "        text-align: right;\n",
       "    }\n",
       "</style>\n",
       "<table border=\"1\" class=\"dataframe\">\n",
       "  <thead>\n",
       "    <tr style=\"text-align: right;\">\n",
       "      <th></th>\n",
       "      <th>WeekEnding_Date</th>\n",
       "      <th>Kolkata_Average_Price</th>\n",
       "      <th>Kolkata_Ref_Price</th>\n",
       "      <th>Bangalore_Average_Price</th>\n",
       "      <th>Bangalore_Ref_Price</th>\n",
       "      <th>Cochin_Average_Price</th>\n",
       "      <th>Cochin_Ref_Price</th>\n",
       "      <th>Darjeeling_Average_Price</th>\n",
       "      <th>Darjeeling_Ref_Price</th>\n",
       "      <th>Ernakulam_Average_Price</th>\n",
       "      <th>Ernakulam_Ref_Price</th>\n",
       "      <th>Siliguri_Average_Price</th>\n",
       "      <th>Siliguri_Ref_Price</th>\n",
       "      <th>Guwahati_Average_Price</th>\n",
       "      <th>Guwahati_Ref_Price</th>\n",
       "      <th>Average</th>\n",
       "    </tr>\n",
       "  </thead>\n",
       "  <tbody>\n",
       "    <tr>\n",
       "      <th>0</th>\n",
       "      <td>03/01/09</td>\n",
       "      <td>99.01</td>\n",
       "      <td>79.79</td>\n",
       "      <td>N.S.</td>\n",
       "      <td>76.19</td>\n",
       "      <td>84.02</td>\n",
       "      <td>70.07</td>\n",
       "      <td>81.66</td>\n",
       "      <td>57.83</td>\n",
       "      <td>68.94</td>\n",
       "      <td>51.67</td>\n",
       "      <td>70.74</td>\n",
       "      <td>53.88</td>\n",
       "      <td>65.55</td>\n",
       "      <td>46.75</td>\n",
       "      <td>69.700000</td>\n",
       "    </tr>\n",
       "    <tr>\n",
       "      <th>1</th>\n",
       "      <td>10/01/09</td>\n",
       "      <td>97.74</td>\n",
       "      <td>78.73</td>\n",
       "      <td>87.48</td>\n",
       "      <td>73.97</td>\n",
       "      <td>82.72</td>\n",
       "      <td>68.17</td>\n",
       "      <td>83.31</td>\n",
       "      <td>58.02</td>\n",
       "      <td>67.24</td>\n",
       "      <td>52.23</td>\n",
       "      <td>70.47</td>\n",
       "      <td>53.39</td>\n",
       "      <td>67.39</td>\n",
       "      <td>46.84</td>\n",
       "      <td>70.550000</td>\n",
       "    </tr>\n",
       "    <tr>\n",
       "      <th>2</th>\n",
       "      <td>17/01/09</td>\n",
       "      <td>95.95</td>\n",
       "      <td>71.01</td>\n",
       "      <td>87.66</td>\n",
       "      <td>71.01</td>\n",
       "      <td>80.58</td>\n",
       "      <td>67.16</td>\n",
       "      <td>82.25</td>\n",
       "      <td>57.49</td>\n",
       "      <td>69.64</td>\n",
       "      <td>52.48</td>\n",
       "      <td>71.66</td>\n",
       "      <td>53.18</td>\n",
       "      <td>69.51</td>\n",
       "      <td>48.04</td>\n",
       "      <td>69.830000</td>\n",
       "    </tr>\n",
       "    <tr>\n",
       "      <th>3</th>\n",
       "      <td>24/01/09</td>\n",
       "      <td>94.14</td>\n",
       "      <td>73.38</td>\n",
       "      <td>85.69</td>\n",
       "      <td>65.66</td>\n",
       "      <td>N.S.</td>\n",
       "      <td>65.57</td>\n",
       "      <td>80.87</td>\n",
       "      <td>54.59</td>\n",
       "      <td>N.S.</td>\n",
       "      <td>53.43</td>\n",
       "      <td>71.12</td>\n",
       "      <td>52.07</td>\n",
       "      <td>69.14</td>\n",
       "      <td>48.5</td>\n",
       "      <td>67.846667</td>\n",
       "    </tr>\n",
       "    <tr>\n",
       "      <th>4</th>\n",
       "      <td>31/01/09</td>\n",
       "      <td>91.45</td>\n",
       "      <td>70.39</td>\n",
       "      <td>N.S.</td>\n",
       "      <td>64.99</td>\n",
       "      <td>79.27</td>\n",
       "      <td>62.09</td>\n",
       "      <td>80.76</td>\n",
       "      <td>57.06</td>\n",
       "      <td>69.65</td>\n",
       "      <td>53.38</td>\n",
       "      <td>72.3</td>\n",
       "      <td>52.5</td>\n",
       "      <td>69.39</td>\n",
       "      <td>50.33</td>\n",
       "      <td>67.196923</td>\n",
       "    </tr>\n",
       "  </tbody>\n",
       "</table>\n",
       "</div>"
      ],
      "text/plain": [
       "  WeekEnding_Date Kolkata_Average_Price Kolkata_Ref_Price  \\\n",
       "0        03/01/09                 99.01             79.79   \n",
       "1        10/01/09                 97.74             78.73   \n",
       "2        17/01/09                 95.95             71.01   \n",
       "3        24/01/09                 94.14             73.38   \n",
       "4        31/01/09                 91.45             70.39   \n",
       "\n",
       "  Bangalore_Average_Price Bangalore_Ref_Price Cochin_Average_Price  \\\n",
       "0                    N.S.               76.19                84.02   \n",
       "1                   87.48               73.97                82.72   \n",
       "2                   87.66               71.01                80.58   \n",
       "3                   85.69               65.66                 N.S.   \n",
       "4                    N.S.               64.99                79.27   \n",
       "\n",
       "  Cochin_Ref_Price Darjeeling_Average_Price Darjeeling_Ref_Price  \\\n",
       "0            70.07                    81.66                57.83   \n",
       "1            68.17                    83.31                58.02   \n",
       "2            67.16                    82.25                57.49   \n",
       "3            65.57                    80.87                54.59   \n",
       "4            62.09                    80.76                57.06   \n",
       "\n",
       "  Ernakulam_Average_Price Ernakulam_Ref_Price Siliguri_Average_Price  \\\n",
       "0                   68.94               51.67                  70.74   \n",
       "1                   67.24               52.23                  70.47   \n",
       "2                   69.64               52.48                  71.66   \n",
       "3                    N.S.               53.43                  71.12   \n",
       "4                   69.65               53.38                   72.3   \n",
       "\n",
       "  Siliguri_Ref_Price Guwahati_Average_Price Guwahati_Ref_Price    Average  \n",
       "0              53.88                  65.55              46.75  69.700000  \n",
       "1              53.39                  67.39              46.84  70.550000  \n",
       "2              53.18                  69.51              48.04  69.830000  \n",
       "3              52.07                  69.14               48.5  67.846667  \n",
       "4               52.5                  69.39              50.33  67.196923  "
      ]
     },
     "execution_count": 65,
     "metadata": {},
     "output_type": "execute_result"
    }
   ],
   "source": [
    "train = pd.read_csv('train.csv')\n",
    "train.head()"
   ]
  },
  {
   "cell_type": "code",
   "execution_count": 66,
   "id": "4aac82ba",
   "metadata": {},
   "outputs": [
    {
     "data": {
      "text/plain": [
       "(544, 16)"
      ]
     },
     "execution_count": 66,
     "metadata": {},
     "output_type": "execute_result"
    }
   ],
   "source": [
    "train.shape"
   ]
  },
  {
   "cell_type": "code",
   "execution_count": 67,
   "id": "038a9d54",
   "metadata": {},
   "outputs": [
    {
     "data": {
      "text/plain": [
       "WeekEnding_Date             0\n",
       "Kolkata_Average_Price       0\n",
       "Kolkata_Ref_Price           2\n",
       "Bangalore_Average_Price     0\n",
       "Bangalore_Ref_Price         2\n",
       "Cochin_Average_Price        0\n",
       "Cochin_Ref_Price            3\n",
       "Darjeeling_Average_Price    0\n",
       "Darjeeling_Ref_Price        2\n",
       "Ernakulam_Average_Price     0\n",
       "Ernakulam_Ref_Price         1\n",
       "Siliguri_Average_Price      1\n",
       "Siliguri_Ref_Price          1\n",
       "Guwahati_Average_Price      0\n",
       "Guwahati_Ref_Price          0\n",
       "Average                     0\n",
       "dtype: int64"
      ]
     },
     "execution_count": 67,
     "metadata": {},
     "output_type": "execute_result"
    }
   ],
   "source": [
    "train.isnull().sum()"
   ]
  },
  {
   "cell_type": "code",
   "execution_count": 68,
   "id": "68eacb86",
   "metadata": {},
   "outputs": [
    {
     "data": {
      "text/plain": [
       "0"
      ]
     },
     "execution_count": 68,
     "metadata": {},
     "output_type": "execute_result"
    }
   ],
   "source": [
    "train.duplicated().sum()"
   ]
  },
  {
   "cell_type": "code",
   "execution_count": 69,
   "id": "f79b5caf",
   "metadata": {},
   "outputs": [
    {
     "data": {
      "text/html": [
       "<div>\n",
       "<style scoped>\n",
       "    .dataframe tbody tr th:only-of-type {\n",
       "        vertical-align: middle;\n",
       "    }\n",
       "\n",
       "    .dataframe tbody tr th {\n",
       "        vertical-align: top;\n",
       "    }\n",
       "\n",
       "    .dataframe thead th {\n",
       "        text-align: right;\n",
       "    }\n",
       "</style>\n",
       "<table border=\"1\" class=\"dataframe\">\n",
       "  <thead>\n",
       "    <tr style=\"text-align: right;\">\n",
       "      <th></th>\n",
       "      <th>WeekEnding_Date</th>\n",
       "      <th>Kolkata_Average_Price</th>\n",
       "      <th>Kolkata_Ref_Price</th>\n",
       "      <th>Bangalore_Average_Price</th>\n",
       "      <th>Bangalore_Ref_Price</th>\n",
       "      <th>Cochin_Average_Price</th>\n",
       "      <th>Cochin_Ref_Price</th>\n",
       "      <th>Darjeeling_Average_Price</th>\n",
       "      <th>Darjeeling_Ref_Price</th>\n",
       "      <th>Ernakulam_Average_Price</th>\n",
       "      <th>Ernakulam_Ref_Price</th>\n",
       "      <th>Siliguri_Average_Price</th>\n",
       "      <th>Siliguri_Ref_Price</th>\n",
       "      <th>Guwahati_Average_Price</th>\n",
       "      <th>Guwahati_Ref_Price</th>\n",
       "      <th>Average</th>\n",
       "    </tr>\n",
       "  </thead>\n",
       "  <tbody>\n",
       "    <tr>\n",
       "      <th>0</th>\n",
       "      <td>15/06/19</td>\n",
       "      <td>NaN</td>\n",
       "      <td>165.87</td>\n",
       "      <td>154.08</td>\n",
       "      <td>160.82</td>\n",
       "      <td>NaN</td>\n",
       "      <td>NaN</td>\n",
       "      <td>116.45</td>\n",
       "      <td>112.82</td>\n",
       "      <td>91.82</td>\n",
       "      <td>NaN</td>\n",
       "      <td>102.30</td>\n",
       "      <td>NaN</td>\n",
       "      <td>83.07</td>\n",
       "      <td>65.34</td>\n",
       "      <td>NaN</td>\n",
       "    </tr>\n",
       "    <tr>\n",
       "      <th>1</th>\n",
       "      <td>22/06/19</td>\n",
       "      <td>171.35</td>\n",
       "      <td>173.12</td>\n",
       "      <td>NaN</td>\n",
       "      <td>NaN</td>\n",
       "      <td>NaN</td>\n",
       "      <td>NaN</td>\n",
       "      <td>NaN</td>\n",
       "      <td>NaN</td>\n",
       "      <td>90.68</td>\n",
       "      <td>76.34</td>\n",
       "      <td>NaN</td>\n",
       "      <td>NaN</td>\n",
       "      <td>81.34</td>\n",
       "      <td>NaN</td>\n",
       "      <td>NaN</td>\n",
       "    </tr>\n",
       "    <tr>\n",
       "      <th>2</th>\n",
       "      <td>29/06/19</td>\n",
       "      <td>NaN</td>\n",
       "      <td>NaN</td>\n",
       "      <td>156.14</td>\n",
       "      <td>NaN</td>\n",
       "      <td>NaN</td>\n",
       "      <td>150.39</td>\n",
       "      <td>NaN</td>\n",
       "      <td>NaN</td>\n",
       "      <td>NaN</td>\n",
       "      <td>NaN</td>\n",
       "      <td>96.84</td>\n",
       "      <td>NaN</td>\n",
       "      <td>NaN</td>\n",
       "      <td>NaN</td>\n",
       "      <td>NaN</td>\n",
       "    </tr>\n",
       "    <tr>\n",
       "      <th>3</th>\n",
       "      <td>06/07/19</td>\n",
       "      <td>NaN</td>\n",
       "      <td>NaN</td>\n",
       "      <td>158.04</td>\n",
       "      <td>NaN</td>\n",
       "      <td>NaN</td>\n",
       "      <td>146.68</td>\n",
       "      <td>111.24</td>\n",
       "      <td>111.47</td>\n",
       "      <td>NaN</td>\n",
       "      <td>NaN</td>\n",
       "      <td>97.87</td>\n",
       "      <td>NaN</td>\n",
       "      <td>NaN</td>\n",
       "      <td>NaN</td>\n",
       "      <td>NaN</td>\n",
       "    </tr>\n",
       "    <tr>\n",
       "      <th>4</th>\n",
       "      <td>13/07/19</td>\n",
       "      <td>NaN</td>\n",
       "      <td>NaN</td>\n",
       "      <td>157.55</td>\n",
       "      <td>163.85</td>\n",
       "      <td>NaN</td>\n",
       "      <td>144.87</td>\n",
       "      <td>NaN</td>\n",
       "      <td>111.44</td>\n",
       "      <td>NaN</td>\n",
       "      <td>NaN</td>\n",
       "      <td>NaN</td>\n",
       "      <td>NaN</td>\n",
       "      <td>NaN</td>\n",
       "      <td>NaN</td>\n",
       "      <td>NaN</td>\n",
       "    </tr>\n",
       "  </tbody>\n",
       "</table>\n",
       "</div>"
      ],
      "text/plain": [
       "  WeekEnding_Date  Kolkata_Average_Price  Kolkata_Ref_Price  \\\n",
       "0        15/06/19                    NaN             165.87   \n",
       "1        22/06/19                 171.35             173.12   \n",
       "2        29/06/19                    NaN                NaN   \n",
       "3        06/07/19                    NaN                NaN   \n",
       "4        13/07/19                    NaN                NaN   \n",
       "\n",
       "   Bangalore_Average_Price  Bangalore_Ref_Price  Cochin_Average_Price  \\\n",
       "0                   154.08               160.82                   NaN   \n",
       "1                      NaN                  NaN                   NaN   \n",
       "2                   156.14                  NaN                   NaN   \n",
       "3                   158.04                  NaN                   NaN   \n",
       "4                   157.55               163.85                   NaN   \n",
       "\n",
       "   Cochin_Ref_Price  Darjeeling_Average_Price  Darjeeling_Ref_Price  \\\n",
       "0               NaN                    116.45                112.82   \n",
       "1               NaN                       NaN                   NaN   \n",
       "2            150.39                       NaN                   NaN   \n",
       "3            146.68                    111.24                111.47   \n",
       "4            144.87                       NaN                111.44   \n",
       "\n",
       "   Ernakulam_Average_Price  Ernakulam_Ref_Price  Siliguri_Average_Price  \\\n",
       "0                    91.82                  NaN                  102.30   \n",
       "1                    90.68                76.34                     NaN   \n",
       "2                      NaN                  NaN                   96.84   \n",
       "3                      NaN                  NaN                   97.87   \n",
       "4                      NaN                  NaN                     NaN   \n",
       "\n",
       "  Siliguri_Ref_Price  Guwahati_Average_Price  Guwahati_Ref_Price  Average  \n",
       "0                NaN                   83.07               65.34      NaN  \n",
       "1                NaN                   81.34                 NaN      NaN  \n",
       "2                NaN                     NaN                 NaN      NaN  \n",
       "3                NaN                     NaN                 NaN      NaN  \n",
       "4                NaN                     NaN                 NaN      NaN  "
      ]
     },
     "execution_count": 69,
     "metadata": {},
     "output_type": "execute_result"
    }
   ],
   "source": [
    "test = pd.read_csv('test.csv')\n",
    "test.head()"
   ]
  },
  {
   "cell_type": "code",
   "execution_count": 70,
   "id": "d54fdaba",
   "metadata": {},
   "outputs": [
    {
     "data": {
      "text/plain": [
       "(29, 16)"
      ]
     },
     "execution_count": 70,
     "metadata": {},
     "output_type": "execute_result"
    }
   ],
   "source": [
    "test.shape"
   ]
  },
  {
   "cell_type": "code",
   "execution_count": 71,
   "id": "6e64e3a7",
   "metadata": {},
   "outputs": [
    {
     "data": {
      "text/plain": [
       "WeekEnding_Date              0\n",
       "Kolkata_Average_Price       20\n",
       "Kolkata_Ref_Price           20\n",
       "Bangalore_Average_Price     20\n",
       "Bangalore_Ref_Price         20\n",
       "Cochin_Average_Price        20\n",
       "Cochin_Ref_Price            20\n",
       "Darjeeling_Average_Price    20\n",
       "Darjeeling_Ref_Price        20\n",
       "Ernakulam_Average_Price     20\n",
       "Ernakulam_Ref_Price         20\n",
       "Siliguri_Average_Price      20\n",
       "Siliguri_Ref_Price          20\n",
       "Guwahati_Average_Price      20\n",
       "Guwahati_Ref_Price          20\n",
       "Average                     29\n",
       "dtype: int64"
      ]
     },
     "execution_count": 71,
     "metadata": {},
     "output_type": "execute_result"
    }
   ],
   "source": [
    "test.isnull().sum()"
   ]
  },
  {
   "cell_type": "code",
   "execution_count": 72,
   "id": "7217fea2",
   "metadata": {},
   "outputs": [
    {
     "data": {
      "text/plain": [
       "NS        20\n",
       "N.S.      18\n",
       "147.62     2\n",
       "160.37     2\n",
       "125.08     2\n",
       "          ..\n",
       "127.22     1\n",
       "120.5      1\n",
       "159.51     1\n",
       "162.45     1\n",
       "181.2      1\n",
       "Name: Kolkata_Average_Price, Length: 487, dtype: int64"
      ]
     },
     "execution_count": 72,
     "metadata": {},
     "output_type": "execute_result"
    }
   ],
   "source": [
    "train['Kolkata_Average_Price'].value_counts()"
   ]
  },
  {
   "cell_type": "code",
   "execution_count": 73,
   "id": "c1dd3b0a",
   "metadata": {},
   "outputs": [
    {
     "data": {
      "text/html": [
       "<div>\n",
       "<style scoped>\n",
       "    .dataframe tbody tr th:only-of-type {\n",
       "        vertical-align: middle;\n",
       "    }\n",
       "\n",
       "    .dataframe tbody tr th {\n",
       "        vertical-align: top;\n",
       "    }\n",
       "\n",
       "    .dataframe thead th {\n",
       "        text-align: right;\n",
       "    }\n",
       "</style>\n",
       "<table border=\"1\" class=\"dataframe\">\n",
       "  <thead>\n",
       "    <tr style=\"text-align: right;\">\n",
       "      <th></th>\n",
       "      <th>WeekEnding_Date</th>\n",
       "      <th>Kolkata_Average_Price</th>\n",
       "      <th>Kolkata_Ref_Price</th>\n",
       "      <th>Bangalore_Average_Price</th>\n",
       "      <th>Bangalore_Ref_Price</th>\n",
       "      <th>Cochin_Average_Price</th>\n",
       "      <th>Cochin_Ref_Price</th>\n",
       "      <th>Darjeeling_Average_Price</th>\n",
       "      <th>Darjeeling_Ref_Price</th>\n",
       "      <th>Ernakulam_Average_Price</th>\n",
       "      <th>Ernakulam_Ref_Price</th>\n",
       "      <th>Siliguri_Average_Price</th>\n",
       "      <th>Siliguri_Ref_Price</th>\n",
       "      <th>Guwahati_Average_Price</th>\n",
       "      <th>Guwahati_Ref_Price</th>\n",
       "      <th>Average</th>\n",
       "    </tr>\n",
       "  </thead>\n",
       "  <tbody>\n",
       "    <tr>\n",
       "      <th>10</th>\n",
       "      <td>14/03/09</td>\n",
       "      <td>No Sale</td>\n",
       "      <td>NaN</td>\n",
       "      <td>No Sale</td>\n",
       "      <td>NaN</td>\n",
       "      <td>No Sale</td>\n",
       "      <td>NaN</td>\n",
       "      <td>85.84</td>\n",
       "      <td>59.85</td>\n",
       "      <td>69.92</td>\n",
       "      <td>55.92</td>\n",
       "      <td>64.13</td>\n",
       "      <td>56.33</td>\n",
       "      <td>68.04</td>\n",
       "      <td>53.34</td>\n",
       "      <td>64.17125</td>\n",
       "    </tr>\n",
       "  </tbody>\n",
       "</table>\n",
       "</div>"
      ],
      "text/plain": [
       "   WeekEnding_Date Kolkata_Average_Price Kolkata_Ref_Price  \\\n",
       "10        14/03/09               No Sale               NaN   \n",
       "\n",
       "   Bangalore_Average_Price Bangalore_Ref_Price Cochin_Average_Price  \\\n",
       "10                 No Sale                 NaN              No Sale   \n",
       "\n",
       "   Cochin_Ref_Price Darjeeling_Average_Price Darjeeling_Ref_Price  \\\n",
       "10              NaN                    85.84                59.85   \n",
       "\n",
       "   Ernakulam_Average_Price Ernakulam_Ref_Price Siliguri_Average_Price  \\\n",
       "10                   69.92               55.92                  64.13   \n",
       "\n",
       "   Siliguri_Ref_Price Guwahati_Average_Price Guwahati_Ref_Price   Average  \n",
       "10              56.33                  68.04              53.34  64.17125  "
      ]
     },
     "execution_count": 73,
     "metadata": {},
     "output_type": "execute_result"
    }
   ],
   "source": [
    "train[train['Kolkata_Average_Price'].str.contains('No Sale')]"
   ]
  },
  {
   "cell_type": "code",
   "execution_count": 74,
   "id": "f58dde52",
   "metadata": {},
   "outputs": [],
   "source": [
    "a = [85.84,59.85,69.92,55.92,64.13,56.33,68.04,53.34]"
   ]
  },
  {
   "cell_type": "code",
   "execution_count": 75,
   "id": "f9e828f4",
   "metadata": {},
   "outputs": [
    {
     "data": {
      "text/plain": [
       "64.17125"
      ]
     },
     "execution_count": 75,
     "metadata": {},
     "output_type": "execute_result"
    }
   ],
   "source": [
    "np.mean(a)"
   ]
  },
  {
   "cell_type": "code",
   "execution_count": 76,
   "id": "9e1991e4",
   "metadata": {},
   "outputs": [
    {
     "data": {
      "text/html": [
       "<div>\n",
       "<style scoped>\n",
       "    .dataframe tbody tr th:only-of-type {\n",
       "        vertical-align: middle;\n",
       "    }\n",
       "\n",
       "    .dataframe tbody tr th {\n",
       "        vertical-align: top;\n",
       "    }\n",
       "\n",
       "    .dataframe thead th {\n",
       "        text-align: right;\n",
       "    }\n",
       "</style>\n",
       "<table border=\"1\" class=\"dataframe\">\n",
       "  <thead>\n",
       "    <tr style=\"text-align: right;\">\n",
       "      <th></th>\n",
       "      <th>WeekEnding_Date</th>\n",
       "      <th>Kolkata_Average_Price</th>\n",
       "      <th>Kolkata_Ref_Price</th>\n",
       "      <th>Bangalore_Average_Price</th>\n",
       "      <th>Bangalore_Ref_Price</th>\n",
       "      <th>Cochin_Average_Price</th>\n",
       "      <th>Cochin_Ref_Price</th>\n",
       "      <th>Darjeeling_Average_Price</th>\n",
       "      <th>Darjeeling_Ref_Price</th>\n",
       "      <th>Ernakulam_Average_Price</th>\n",
       "      <th>Ernakulam_Ref_Price</th>\n",
       "      <th>Siliguri_Average_Price</th>\n",
       "      <th>Siliguri_Ref_Price</th>\n",
       "      <th>Guwahati_Average_Price</th>\n",
       "      <th>Guwahati_Ref_Price</th>\n",
       "      <th>Average</th>\n",
       "    </tr>\n",
       "  </thead>\n",
       "  <tbody>\n",
       "    <tr>\n",
       "      <th>12</th>\n",
       "      <td>28/03/09</td>\n",
       "      <td>N.S.</td>\n",
       "      <td>64.79</td>\n",
       "      <td>74.71</td>\n",
       "      <td>N.S.</td>\n",
       "      <td>86.52</td>\n",
       "      <td>60.97</td>\n",
       "      <td>85.09</td>\n",
       "      <td>57.79</td>\n",
       "      <td>71.05</td>\n",
       "      <td>55.17</td>\n",
       "      <td>73.39</td>\n",
       "      <td>54.73</td>\n",
       "      <td>68.16</td>\n",
       "      <td>53.1</td>\n",
       "      <td>67.122500</td>\n",
       "    </tr>\n",
       "    <tr>\n",
       "      <th>14</th>\n",
       "      <td>11/04/09</td>\n",
       "      <td>N.S.</td>\n",
       "      <td>87.47</td>\n",
       "      <td>98.98</td>\n",
       "      <td>83.97</td>\n",
       "      <td>110.53</td>\n",
       "      <td>90.96</td>\n",
       "      <td>N.S.</td>\n",
       "      <td>58.6</td>\n",
       "      <td>78.37</td>\n",
       "      <td>54.25</td>\n",
       "      <td>80.77</td>\n",
       "      <td>54.83</td>\n",
       "      <td>73.77</td>\n",
       "      <td>53.55</td>\n",
       "      <td>77.170833</td>\n",
       "    </tr>\n",
       "    <tr>\n",
       "      <th>15</th>\n",
       "      <td>18/04/09</td>\n",
       "      <td>N.S.</td>\n",
       "      <td>94.81</td>\n",
       "      <td>N.S.</td>\n",
       "      <td>N. S.</td>\n",
       "      <td>115.41</td>\n",
       "      <td>91.14</td>\n",
       "      <td>89.55</td>\n",
       "      <td>58.68</td>\n",
       "      <td>82.96</td>\n",
       "      <td>54.24</td>\n",
       "      <td>83.53</td>\n",
       "      <td>55.14</td>\n",
       "      <td>76.47</td>\n",
       "      <td>53.48</td>\n",
       "      <td>77.764545</td>\n",
       "    </tr>\n",
       "    <tr>\n",
       "      <th>39</th>\n",
       "      <td>03/10/09</td>\n",
       "      <td>N.S</td>\n",
       "      <td>111.43</td>\n",
       "      <td>N.S</td>\n",
       "      <td>105.19</td>\n",
       "      <td>N.S</td>\n",
       "      <td>97.97</td>\n",
       "      <td>86.5</td>\n",
       "      <td>90.63</td>\n",
       "      <td>75.59</td>\n",
       "      <td>80.32</td>\n",
       "      <td>77.85</td>\n",
       "      <td>82.36</td>\n",
       "      <td>78.6</td>\n",
       "      <td>76.96</td>\n",
       "      <td>87.581818</td>\n",
       "    </tr>\n",
       "    <tr>\n",
       "      <th>54</th>\n",
       "      <td>16/01/10</td>\n",
       "      <td>N.S.</td>\n",
       "      <td>95.95</td>\n",
       "      <td>93.96</td>\n",
       "      <td>87.66</td>\n",
       "      <td>96.5</td>\n",
       "      <td>80.58</td>\n",
       "      <td>79.89</td>\n",
       "      <td>82.25</td>\n",
       "      <td>72.7</td>\n",
       "      <td>69.64</td>\n",
       "      <td>71.47</td>\n",
       "      <td>71.66</td>\n",
       "      <td>66.08</td>\n",
       "      <td>69.51</td>\n",
       "      <td>79.834615</td>\n",
       "    </tr>\n",
       "  </tbody>\n",
       "</table>\n",
       "</div>"
      ],
      "text/plain": [
       "   WeekEnding_Date Kolkata_Average_Price Kolkata_Ref_Price  \\\n",
       "12        28/03/09                  N.S.             64.79   \n",
       "14        11/04/09                  N.S.             87.47   \n",
       "15        18/04/09                  N.S.             94.81   \n",
       "39        03/10/09                   N.S            111.43   \n",
       "54        16/01/10                  N.S.             95.95   \n",
       "\n",
       "   Bangalore_Average_Price Bangalore_Ref_Price Cochin_Average_Price  \\\n",
       "12                   74.71                N.S.                86.52   \n",
       "14                   98.98               83.97               110.53   \n",
       "15                    N.S.               N. S.               115.41   \n",
       "39                     N.S              105.19                  N.S   \n",
       "54                   93.96               87.66                 96.5   \n",
       "\n",
       "   Cochin_Ref_Price Darjeeling_Average_Price Darjeeling_Ref_Price  \\\n",
       "12            60.97                    85.09                57.79   \n",
       "14            90.96                     N.S.                 58.6   \n",
       "15            91.14                    89.55                58.68   \n",
       "39            97.97                     86.5                90.63   \n",
       "54            80.58                    79.89                82.25   \n",
       "\n",
       "   Ernakulam_Average_Price Ernakulam_Ref_Price Siliguri_Average_Price  \\\n",
       "12                   71.05               55.17                  73.39   \n",
       "14                   78.37               54.25                  80.77   \n",
       "15                   82.96               54.24                  83.53   \n",
       "39                   75.59               80.32                  77.85   \n",
       "54                    72.7               69.64                  71.47   \n",
       "\n",
       "   Siliguri_Ref_Price Guwahati_Average_Price Guwahati_Ref_Price    Average  \n",
       "12              54.73                  68.16               53.1  67.122500  \n",
       "14              54.83                  73.77              53.55  77.170833  \n",
       "15              55.14                  76.47              53.48  77.764545  \n",
       "39              82.36                   78.6              76.96  87.581818  \n",
       "54              71.66                  66.08              69.51  79.834615  "
      ]
     },
     "execution_count": 76,
     "metadata": {},
     "output_type": "execute_result"
    }
   ],
   "source": [
    "train[train['Kolkata_Average_Price'].str.contains('N.S')].head()"
   ]
  },
  {
   "cell_type": "code",
   "execution_count": 77,
   "id": "2a0dbc9b",
   "metadata": {},
   "outputs": [
    {
     "data": {
      "text/plain": [
       "79.83461538461539"
      ]
     },
     "execution_count": 77,
     "metadata": {},
     "output_type": "execute_result"
    }
   ],
   "source": [
    "b = [95.95, 93.96, 87.66, 96.5, 80.58, 79.89, 82.25, 72.7, 69.64, 71.47, 71.66, 66.08, 69.51]\n",
    "np.mean(b)"
   ]
  },
  {
   "cell_type": "code",
   "execution_count": 78,
   "id": "27ed8ba3",
   "metadata": {},
   "outputs": [
    {
     "data": {
      "text/plain": [
       "87.58181818181819"
      ]
     },
     "execution_count": 78,
     "metadata": {},
     "output_type": "execute_result"
    }
   ],
   "source": [
    "c = [111.43, 105.19, 97.97, 86.5, 90.63, 75.59, 80.32, 77.85, 82.36, 78.6, 76.96]\n",
    "np.mean(c)"
   ]
  },
  {
   "cell_type": "code",
   "execution_count": 79,
   "id": "c6c583fb",
   "metadata": {},
   "outputs": [],
   "source": [
    "train = train.fillna(0)"
   ]
  },
  {
   "cell_type": "code",
   "execution_count": 80,
   "id": "f7312edf",
   "metadata": {},
   "outputs": [],
   "source": [
    "test = test.fillna(0)"
   ]
  },
  {
   "cell_type": "code",
   "execution_count": 81,
   "id": "3459a2e3",
   "metadata": {},
   "outputs": [],
   "source": [
    "train = train.replace('NS', 0)\n",
    "train = train.replace('N.S.', 0)\n",
    "train = train.replace('No Sale', 0)\n",
    "train = train.replace('N.S', 0)\n",
    "train = train.replace('N. S.', 0)\n",
    "train = train.replace('No sale', 0)\n",
    "train = train.replace('N.S.\\xa0', 0)\n",
    "train = train.replace('NS85.07', 0)"
   ]
  },
  {
   "cell_type": "code",
   "execution_count": 82,
   "id": "633eca52",
   "metadata": {},
   "outputs": [],
   "source": [
    "test = test.replace('NS', 0)\n",
    "test = test.replace('N.S.', 0)\n",
    "test = test.replace('No Sale', 0)\n",
    "test = test.replace('N.S', 0)\n",
    "test = test.replace('N. S.', 0)\n",
    "test = test.replace('No sale', 0)\n",
    "test = test.replace('N.S.\\xa0', 0)\n",
    "test = test.replace('NS85.07', 0)"
   ]
  },
  {
   "cell_type": "code",
   "execution_count": 83,
   "id": "435b7773",
   "metadata": {},
   "outputs": [
    {
     "data": {
      "text/plain": [
       "WeekEnding_Date             0\n",
       "Kolkata_Average_Price       0\n",
       "Kolkata_Ref_Price           0\n",
       "Bangalore_Average_Price     0\n",
       "Bangalore_Ref_Price         0\n",
       "Cochin_Average_Price        0\n",
       "Cochin_Ref_Price            0\n",
       "Darjeeling_Average_Price    0\n",
       "Darjeeling_Ref_Price        0\n",
       "Ernakulam_Average_Price     0\n",
       "Ernakulam_Ref_Price         0\n",
       "Siliguri_Average_Price      0\n",
       "Siliguri_Ref_Price          0\n",
       "Guwahati_Average_Price      0\n",
       "Guwahati_Ref_Price          0\n",
       "Average                     0\n",
       "dtype: int64"
      ]
     },
     "execution_count": 83,
     "metadata": {},
     "output_type": "execute_result"
    }
   ],
   "source": [
    "train.isnull().sum()"
   ]
  },
  {
   "cell_type": "code",
   "execution_count": 84,
   "id": "d7d96d13",
   "metadata": {},
   "outputs": [
    {
     "data": {
      "text/plain": [
       "WeekEnding_Date             0\n",
       "Kolkata_Average_Price       0\n",
       "Kolkata_Ref_Price           0\n",
       "Bangalore_Average_Price     0\n",
       "Bangalore_Ref_Price         0\n",
       "Cochin_Average_Price        0\n",
       "Cochin_Ref_Price            0\n",
       "Darjeeling_Average_Price    0\n",
       "Darjeeling_Ref_Price        0\n",
       "Ernakulam_Average_Price     0\n",
       "Ernakulam_Ref_Price         0\n",
       "Siliguri_Average_Price      0\n",
       "Siliguri_Ref_Price          0\n",
       "Guwahati_Average_Price      0\n",
       "Guwahati_Ref_Price          0\n",
       "Average                     0\n",
       "dtype: int64"
      ]
     },
     "execution_count": 84,
     "metadata": {},
     "output_type": "execute_result"
    }
   ],
   "source": [
    "test.isnull().sum()"
   ]
  },
  {
   "cell_type": "code",
   "execution_count": 85,
   "id": "ddffb9ed",
   "metadata": {},
   "outputs": [
    {
     "name": "stdout",
     "output_type": "stream",
     "text": [
      "<class 'pandas.core.frame.DataFrame'>\n",
      "RangeIndex: 544 entries, 0 to 543\n",
      "Data columns (total 16 columns):\n",
      " #   Column                    Non-Null Count  Dtype  \n",
      "---  ------                    --------------  -----  \n",
      " 0   WeekEnding_Date           544 non-null    object \n",
      " 1   Kolkata_Average_Price     544 non-null    object \n",
      " 2   Kolkata_Ref_Price         544 non-null    object \n",
      " 3   Bangalore_Average_Price   544 non-null    object \n",
      " 4   Bangalore_Ref_Price       544 non-null    object \n",
      " 5   Cochin_Average_Price      544 non-null    object \n",
      " 6   Cochin_Ref_Price          544 non-null    object \n",
      " 7   Darjeeling_Average_Price  544 non-null    object \n",
      " 8   Darjeeling_Ref_Price      544 non-null    object \n",
      " 9   Ernakulam_Average_Price   544 non-null    object \n",
      " 10  Ernakulam_Ref_Price       544 non-null    object \n",
      " 11  Siliguri_Average_Price    544 non-null    object \n",
      " 12  Siliguri_Ref_Price        544 non-null    object \n",
      " 13  Guwahati_Average_Price    544 non-null    object \n",
      " 14  Guwahati_Ref_Price        544 non-null    object \n",
      " 15  Average                   544 non-null    float64\n",
      "dtypes: float64(1), object(15)\n",
      "memory usage: 68.1+ KB\n"
     ]
    }
   ],
   "source": [
    "train.info()"
   ]
  },
  {
   "cell_type": "code",
   "execution_count": 86,
   "id": "fb2cc0a7",
   "metadata": {},
   "outputs": [
    {
     "name": "stdout",
     "output_type": "stream",
     "text": [
      "<class 'pandas.core.frame.DataFrame'>\n",
      "RangeIndex: 29 entries, 0 to 28\n",
      "Data columns (total 16 columns):\n",
      " #   Column                    Non-Null Count  Dtype  \n",
      "---  ------                    --------------  -----  \n",
      " 0   WeekEnding_Date           29 non-null     object \n",
      " 1   Kolkata_Average_Price     29 non-null     float64\n",
      " 2   Kolkata_Ref_Price         29 non-null     float64\n",
      " 3   Bangalore_Average_Price   29 non-null     float64\n",
      " 4   Bangalore_Ref_Price       29 non-null     float64\n",
      " 5   Cochin_Average_Price      29 non-null     float64\n",
      " 6   Cochin_Ref_Price          29 non-null     float64\n",
      " 7   Darjeeling_Average_Price  29 non-null     float64\n",
      " 8   Darjeeling_Ref_Price      29 non-null     float64\n",
      " 9   Ernakulam_Average_Price   29 non-null     float64\n",
      " 10  Ernakulam_Ref_Price       29 non-null     float64\n",
      " 11  Siliguri_Average_Price    29 non-null     float64\n",
      " 12  Siliguri_Ref_Price        29 non-null     object \n",
      " 13  Guwahati_Average_Price    29 non-null     float64\n",
      " 14  Guwahati_Ref_Price        29 non-null     float64\n",
      " 15  Average                   29 non-null     float64\n",
      "dtypes: float64(14), object(2)\n",
      "memory usage: 3.8+ KB\n"
     ]
    }
   ],
   "source": [
    "test.info()"
   ]
  },
  {
   "cell_type": "code",
   "execution_count": 87,
   "id": "93ab533b",
   "metadata": {},
   "outputs": [],
   "source": [
    "test['Siliguri_Ref_Price'] = test['Siliguri_Ref_Price'].astype(float)"
   ]
  },
  {
   "cell_type": "code",
   "execution_count": 88,
   "id": "fcc22b02",
   "metadata": {},
   "outputs": [
    {
     "data": {
      "text/plain": [
       "Index(['WeekEnding_Date', 'Kolkata_Average_Price', 'Kolkata_Ref_Price',\n",
       "       'Bangalore_Average_Price', 'Bangalore_Ref_Price',\n",
       "       'Cochin_Average_Price', 'Cochin_Ref_Price', 'Darjeeling_Average_Price',\n",
       "       'Darjeeling_Ref_Price', 'Ernakulam_Average_Price',\n",
       "       'Ernakulam_Ref_Price', 'Siliguri_Average_Price', 'Siliguri_Ref_Price',\n",
       "       'Guwahati_Average_Price', 'Guwahati_Ref_Price', 'Average'],\n",
       "      dtype='object')"
      ]
     },
     "execution_count": 88,
     "metadata": {},
     "output_type": "execute_result"
    }
   ],
   "source": [
    "train.columns"
   ]
  },
  {
   "cell_type": "code",
   "execution_count": 89,
   "id": "2436959f",
   "metadata": {},
   "outputs": [],
   "source": [
    "x = ['Kolkata_Average_Price', 'Kolkata_Ref_Price', 'Bangalore_Average_Price', 'Bangalore_Ref_Price', 'Cochin_Average_Price', \n",
    "     'Cochin_Ref_Price', 'Darjeeling_Average_Price', 'Darjeeling_Ref_Price', 'Ernakulam_Average_Price', 'Ernakulam_Ref_Price', \n",
    "     'Siliguri_Average_Price', 'Siliguri_Ref_Price', 'Guwahati_Average_Price', 'Guwahati_Ref_Price']\n",
    "for i in x:\n",
    "    train[i] = train[i].astype(float)"
   ]
  },
  {
   "cell_type": "code",
   "execution_count": 90,
   "id": "0bb1f8e0",
   "metadata": {},
   "outputs": [],
   "source": [
    "newtrain = train.drop('WeekEnding_Date', axis = 1)"
   ]
  },
  {
   "cell_type": "code",
   "execution_count": 94,
   "id": "3595b0f1",
   "metadata": {},
   "outputs": [],
   "source": [
    "newtest = test.drop(['WeekEnding_Date', 'Average'], axis = 1)"
   ]
  },
  {
   "cell_type": "code",
   "execution_count": 95,
   "id": "f53d6ed1",
   "metadata": {},
   "outputs": [
    {
     "data": {
      "text/plain": [
       "(544, 15)"
      ]
     },
     "execution_count": 95,
     "metadata": {},
     "output_type": "execute_result"
    }
   ],
   "source": [
    "newtrain.shape"
   ]
  },
  {
   "cell_type": "code",
   "execution_count": 96,
   "id": "b66bc181",
   "metadata": {},
   "outputs": [
    {
     "data": {
      "text/plain": [
       "(29, 14)"
      ]
     },
     "execution_count": 96,
     "metadata": {},
     "output_type": "execute_result"
    }
   ],
   "source": [
    "newtest.shape"
   ]
  },
  {
   "cell_type": "code",
   "execution_count": 97,
   "id": "0b441279",
   "metadata": {},
   "outputs": [],
   "source": [
    "x = newtrain.drop('Average', axis = 1)\n",
    "y = newtrain['Average']"
   ]
  },
  {
   "cell_type": "code",
   "execution_count": 98,
   "id": "f930c040",
   "metadata": {},
   "outputs": [],
   "source": [
    "from sklearn.model_selection import train_test_split\n",
    "x_train, x_test, y_train, y_test = train_test_split(x, y, test_size = 0.2, random_state = 1)"
   ]
  },
  {
   "cell_type": "code",
   "execution_count": 99,
   "id": "4b449365",
   "metadata": {},
   "outputs": [],
   "source": [
    "from sklearn.metrics import mean_squared_error"
   ]
  },
  {
   "cell_type": "code",
   "execution_count": null,
   "id": "d712f17a",
   "metadata": {},
   "outputs": [],
   "source": []
  },
  {
   "cell_type": "code",
   "execution_count": null,
   "id": "e6b0825e",
   "metadata": {},
   "outputs": [],
   "source": []
  },
  {
   "cell_type": "code",
   "execution_count": null,
   "id": "a578cdc4",
   "metadata": {},
   "outputs": [],
   "source": []
  },
  {
   "cell_type": "code",
   "execution_count": 107,
   "id": "c91f742a",
   "metadata": {},
   "outputs": [
    {
     "name": "stdout",
     "output_type": "stream",
     "text": [
      "2.502823172715539\n"
     ]
    }
   ],
   "source": [
    "from sklearn.ensemble import GradientBoostingRegressor\n",
    "gab = GradientBoostingRegressor()\n",
    "y_pred = gab.fit(x_train, y_train).predict(x_test)\n",
    "print(np.sqrt(mean_squared_error(y_test, y_pred)))"
   ]
  },
  {
   "cell_type": "code",
   "execution_count": 108,
   "id": "84f3919a",
   "metadata": {},
   "outputs": [
    {
     "data": {
      "image/png": "[encoded data removed]",
      "text/plain": [
       "<Figure size 720x360 with 1 Axes>"
      ]
     },
     "metadata": {
      "needs_background": "light"
     },
     "output_type": "display_data"
    }
   ],
   "source": [
    "feature_imp = pd.DataFrame(sorted(zip(gab.feature_importances_, x.columns), reverse=True)[:], columns=['Value','Feature'])\n",
    "plt.figure(figsize=(10,5))\n",
    "sns.barplot(x=\"Value\", y=\"Feature\", data=feature_imp.sort_values(by=\"Value\", ascending=False))\n",
    "plt.title('Gradient Features')\n",
    "plt.tight_layout()\n",
    "plt.show()"
   ]
  },
  {
   "cell_type": "code",
   "execution_count": 112,
   "id": "41642160",
   "metadata": {},
   "outputs": [],
   "source": [
    "x_train = newtrain.drop('Average', axis = 1)\n",
    "y_train = newtrain['Average']\n",
    "x_test = newtest"
   ]
  },
  {
   "cell_type": "code",
   "execution_count": 113,
   "id": "be5d8380",
   "metadata": {},
   "outputs": [],
   "source": [
    "from sklearn.ensemble import GradientBoostingRegressor\n",
    "gab = GradientBoostingRegressor()\n",
    "y_pred = gab.fit(x_train, y_train).predict(x_test)\n",
    "solution = pd.DataFrame({'Average' : y_pred})\n",
    "solution.to_csv('Gab.csv', index = False)"
   ]
  },
  {
   "cell_type": "code",
   "execution_count": 120,
   "id": "fdbd45ea",
   "metadata": {},
   "outputs": [],
   "source": [
    "x_train = newtrain.drop(['Average', 'Darjeeling_Ref_Price', 'Ernakulam_Average_Price', 'Ernakulam_Ref_Price', 'Guwahati_Average_Price', \n",
    "                       'Guwahati_Ref_Price'], axis = 1)\n",
    "y_train = newtrain['Average']\n",
    "x_test = newtest.drop(['Darjeeling_Ref_Price', 'Ernakulam_Average_Price', 'Ernakulam_Ref_Price', 'Guwahati_Average_Price', \n",
    "                       'Guwahati_Ref_Price'], axis = 1)"
   ]
  },
  {
   "cell_type": "code",
   "execution_count": 121,
   "id": "205e22fb",
   "metadata": {},
   "outputs": [],
   "source": [
    "from sklearn.ensemble import GradientBoostingRegressor\n",
    "gab = GradientBoostingRegressor()\n",
    "y_pred = gab.fit(x_train, y_train).predict(x_test)\n",
    "solution = pd.DataFrame({'Average' : y_pred})\n",
    "solution.to_csv('Gab12345.csv', index = False)"
   ]
  },
  {
   "cell_type": "code",
   "execution_count": null,
   "id": "51355796",
   "metadata": {},
   "outputs": [],
   "source": []
  },
  {
   "cell_type": "code",
   "execution_count": 109,
   "id": "18c576d5",
   "metadata": {},
   "outputs": [
    {
     "name": "stdout",
     "output_type": "stream",
     "text": [
      "2.6769666891937627\n"
     ]
    }
   ],
   "source": [
    "from xgboost import XGBRegressor\n",
    "xgb = XGBRegressor()\n",
    "y_pred = xgb.fit(x_train, y_train).predict(x_test)\n",
    "print(np.sqrt(mean_squared_error(y_test, y_pred)))"
   ]
  },
  {
   "cell_type": "code",
   "execution_count": 110,
   "id": "bad5586c",
   "metadata": {},
   "outputs": [
    {
     "data": {
      "image/png": "[encoded data removed]",
      "text/plain": [
       "<Figure size 720x360 with 1 Axes>"
      ]
     },
     "metadata": {
      "needs_background": "light"
     },
     "output_type": "display_data"
    }
   ],
   "source": [
    "feature_imp = pd.DataFrame(sorted(zip(xgb.feature_importances_, x.columns), reverse=True)[:], columns=['Value','Feature'])\n",
    "plt.figure(figsize=(10,5))\n",
    "sns.barplot(x=\"Value\", y=\"Feature\", data=feature_imp.sort_values(by=\"Value\", ascending=False))\n",
    "plt.title('XGB Features')\n",
    "plt.tight_layout()\n",
    "plt.show()"
   ]
  },
  {
   "cell_type": "code",
   "execution_count": 114,
   "id": "6b3536b7",
   "metadata": {},
   "outputs": [],
   "source": [
    "x_train = newtrain.drop('Average', axis = 1)\n",
    "y_train = newtrain['Average']\n",
    "x_test = newtest"
   ]
  },
  {
   "cell_type": "code",
   "execution_count": 115,
   "id": "6631786b",
   "metadata": {},
   "outputs": [],
   "source": [
    "from xgboost import XGBRegressor\n",
    "xgb = XGBRegressor()\n",
    "y_pred = xgb.fit(x_train, y_train).predict(x_test)\n",
    "solution = pd.DataFrame({'Average' : y_pred})\n",
    "solution.to_csv('Xgb.csv', index = False)"
   ]
  },
  {
   "cell_type": "code",
   "execution_count": 117,
   "id": "4846f3e5",
   "metadata": {},
   "outputs": [],
   "source": [
    "x_train = newtrain.drop(['Average', 'Ernakulam_Average_Price', 'Guwahati_Average_Price', 'Ernakulam_Ref_Price', 'Guwahati_Ref_Price'], axis = 1)\n",
    "y_train = newtrain['Average']\n",
    "x_test = newtest.drop(['Ernakulam_Average_Price', 'Guwahati_Average_Price', 'Ernakulam_Ref_Price', 'Guwahati_Ref_Price'], axis = 1)"
   ]
  },
  {
   "cell_type": "code",
   "execution_count": 118,
   "id": "ca6a6b9e",
   "metadata": {},
   "outputs": [],
   "source": [
    "from xgboost import XGBRegressor\n",
    "xgb = XGBRegressor()\n",
    "y_pred = xgb.fit(x_train, y_train).predict(x_test)\n",
    "solution = pd.DataFrame({'Average' : y_pred})\n",
    "solution.to_csv('Xgb1234.csv', index = False)"
   ]
  },
  {
   "cell_type": "code",
   "execution_count": null,
   "id": "f5c60b5f",
   "metadata": {},
   "outputs": [],
   "source": []
  }
 ],
 "metadata": {
  "kernelspec": {
   "display_name": "Python 3",
   "language": "python",
   "name": "python3"
  },
  "language_info": {
   "codemirror_mode": {
    "name": "ipython",
    "version": 3
   },
   "file_extension": ".py",
   "mimetype": "text/x-python",
   "name": "python",
   "nbconvert_exporter": "python",
   "pygments_lexer": "ipython3",
   "version": "3.8.8"
  }
 },
 "nbformat": 4,
 "nbformat_minor": 5
}
