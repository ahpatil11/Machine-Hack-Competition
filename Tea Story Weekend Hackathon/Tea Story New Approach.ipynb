{
 "cells": [
  {
   "cell_type": "code",
   "execution_count": 15,
   "id": "3861c842",
   "metadata": {},
   "outputs": [],
   "source": [
    "import numpy as np\n",
    "import pandas as pd \n",
    "from lightgbm import LGBMRegressor\n",
    "from sklearn.metrics import mean_squared_error"
   ]
  },
  {
   "cell_type": "code",
   "execution_count": 16,
   "id": "d9ea0265",
   "metadata": {},
   "outputs": [],
   "source": [
    "train=pd.read_csv('train.csv')\n",
    "test=pd.read_csv('test.csv')\n",
    "sub=pd.read_csv('submission.csv')"
   ]
  },
  {
   "cell_type": "code",
   "execution_count": 17,
   "id": "958a076b",
   "metadata": {},
   "outputs": [
    {
     "data": {
      "text/plain": [
       "WeekEnding_Date             0\n",
       "Kolkata_Average_Price       0\n",
       "Kolkata_Ref_Price           2\n",
       "Bangalore_Average_Price     0\n",
       "Bangalore_Ref_Price         2\n",
       "Cochin_Average_Price        0\n",
       "Cochin_Ref_Price            3\n",
       "Darjeeling_Average_Price    0\n",
       "Darjeeling_Ref_Price        2\n",
       "Ernakulam_Average_Price     0\n",
       "Ernakulam_Ref_Price         1\n",
       "Siliguri_Average_Price      1\n",
       "Siliguri_Ref_Price          1\n",
       "Guwahati_Average_Price      0\n",
       "Guwahati_Ref_Price          0\n",
       "Average                     0\n",
       "dtype: int64"
      ]
     },
     "execution_count": 17,
     "metadata": {},
     "output_type": "execute_result"
    }
   ],
   "source": [
    "train.isnull().sum()"
   ]
  },
  {
   "cell_type": "code",
   "execution_count": 18,
   "id": "ee1cf5b5",
   "metadata": {},
   "outputs": [
    {
     "data": {
      "text/plain": [
       "WeekEnding_Date              0\n",
       "Kolkata_Average_Price       20\n",
       "Kolkata_Ref_Price           20\n",
       "Bangalore_Average_Price     20\n",
       "Bangalore_Ref_Price         20\n",
       "Cochin_Average_Price        20\n",
       "Cochin_Ref_Price            20\n",
       "Darjeeling_Average_Price    20\n",
       "Darjeeling_Ref_Price        20\n",
       "Ernakulam_Average_Price     20\n",
       "Ernakulam_Ref_Price         20\n",
       "Siliguri_Average_Price      20\n",
       "Siliguri_Ref_Price          20\n",
       "Guwahati_Average_Price      20\n",
       "Guwahati_Ref_Price          20\n",
       "Average                     29\n",
       "dtype: int64"
      ]
     },
     "execution_count": 18,
     "metadata": {},
     "output_type": "execute_result"
    }
   ],
   "source": [
    "test.isnull().sum()"
   ]
  },
  {
   "cell_type": "code",
   "execution_count": 19,
   "id": "dc9aaa37",
   "metadata": {},
   "outputs": [],
   "source": [
    "cols=train.columns\n",
    "dat=pd.concat([train,test])\n",
    "for col in cols[1:]:\n",
    "  dat[col]=dat[col].replace('N.S.',np.nan)\n",
    "  dat[col]=dat[col].replace('NS',np.nan)\n",
    "  dat[col]=dat[col].replace('No Sale',np.nan)\n",
    "  dat[col]=dat[col].replace('N.S',np.nan)\n",
    "  dat[col]=dat[col].replace('N. S.',np.nan)\n",
    "  dat[col]=dat[col].replace('No sale',np.nan)\n",
    "  dat[col]=dat[col].replace('N.S.\\xa0',np.nan)\n",
    "  dat[col]=dat[col].replace('NS85.07',np.nan)\n",
    "  dat[col]=dat[col].astype(np.float64)\n",
    "  dat[col]=dat[col].interpolate('linear')"
   ]
  },
  {
   "cell_type": "code",
   "execution_count": 20,
   "id": "673a534a",
   "metadata": {},
   "outputs": [
    {
     "data": {
      "text/html": [
       "<div>\n",
       "<style scoped>\n",
       "    .dataframe tbody tr th:only-of-type {\n",
       "        vertical-align: middle;\n",
       "    }\n",
       "\n",
       "    .dataframe tbody tr th {\n",
       "        vertical-align: top;\n",
       "    }\n",
       "\n",
       "    .dataframe thead th {\n",
       "        text-align: right;\n",
       "    }\n",
       "</style>\n",
       "<table border=\"1\" class=\"dataframe\">\n",
       "  <thead>\n",
       "    <tr style=\"text-align: right;\">\n",
       "      <th></th>\n",
       "      <th>WeekEnding_Date</th>\n",
       "      <th>Kolkata_Average_Price</th>\n",
       "      <th>Kolkata_Ref_Price</th>\n",
       "      <th>Bangalore_Average_Price</th>\n",
       "      <th>Bangalore_Ref_Price</th>\n",
       "      <th>Cochin_Average_Price</th>\n",
       "      <th>Cochin_Ref_Price</th>\n",
       "      <th>Darjeeling_Average_Price</th>\n",
       "      <th>Darjeeling_Ref_Price</th>\n",
       "      <th>Ernakulam_Average_Price</th>\n",
       "      <th>Ernakulam_Ref_Price</th>\n",
       "      <th>Siliguri_Average_Price</th>\n",
       "      <th>Siliguri_Ref_Price</th>\n",
       "      <th>Guwahati_Average_Price</th>\n",
       "      <th>Guwahati_Ref_Price</th>\n",
       "      <th>Average</th>\n",
       "    </tr>\n",
       "  </thead>\n",
       "  <tbody>\n",
       "    <tr>\n",
       "      <th>0</th>\n",
       "      <td>03/01/09</td>\n",
       "      <td>99.010</td>\n",
       "      <td>79.79000</td>\n",
       "      <td>NaN</td>\n",
       "      <td>76.190000</td>\n",
       "      <td>84.020</td>\n",
       "      <td>70.07</td>\n",
       "      <td>81.660</td>\n",
       "      <td>57.83</td>\n",
       "      <td>68.940</td>\n",
       "      <td>51.670</td>\n",
       "      <td>70.74</td>\n",
       "      <td>53.880000</td>\n",
       "      <td>65.550000</td>\n",
       "      <td>46.75</td>\n",
       "      <td>69.700000</td>\n",
       "    </tr>\n",
       "    <tr>\n",
       "      <th>1</th>\n",
       "      <td>10/01/09</td>\n",
       "      <td>97.740</td>\n",
       "      <td>78.73000</td>\n",
       "      <td>87.480</td>\n",
       "      <td>73.970000</td>\n",
       "      <td>82.720</td>\n",
       "      <td>68.17</td>\n",
       "      <td>83.310</td>\n",
       "      <td>58.02</td>\n",
       "      <td>67.240</td>\n",
       "      <td>52.230</td>\n",
       "      <td>70.47</td>\n",
       "      <td>53.390000</td>\n",
       "      <td>67.390000</td>\n",
       "      <td>46.84</td>\n",
       "      <td>70.550000</td>\n",
       "    </tr>\n",
       "    <tr>\n",
       "      <th>2</th>\n",
       "      <td>17/01/09</td>\n",
       "      <td>95.950</td>\n",
       "      <td>71.01000</td>\n",
       "      <td>87.660</td>\n",
       "      <td>71.010000</td>\n",
       "      <td>80.580</td>\n",
       "      <td>67.16</td>\n",
       "      <td>82.250</td>\n",
       "      <td>57.49</td>\n",
       "      <td>69.640</td>\n",
       "      <td>52.480</td>\n",
       "      <td>71.66</td>\n",
       "      <td>53.180000</td>\n",
       "      <td>69.510000</td>\n",
       "      <td>48.04</td>\n",
       "      <td>69.830000</td>\n",
       "    </tr>\n",
       "    <tr>\n",
       "      <th>3</th>\n",
       "      <td>24/01/09</td>\n",
       "      <td>94.140</td>\n",
       "      <td>73.38000</td>\n",
       "      <td>85.690</td>\n",
       "      <td>65.660000</td>\n",
       "      <td>79.925</td>\n",
       "      <td>65.57</td>\n",
       "      <td>80.870</td>\n",
       "      <td>54.59</td>\n",
       "      <td>69.645</td>\n",
       "      <td>53.430</td>\n",
       "      <td>71.12</td>\n",
       "      <td>52.070000</td>\n",
       "      <td>69.140000</td>\n",
       "      <td>48.50</td>\n",
       "      <td>67.846667</td>\n",
       "    </tr>\n",
       "    <tr>\n",
       "      <th>4</th>\n",
       "      <td>31/01/09</td>\n",
       "      <td>91.450</td>\n",
       "      <td>70.39000</td>\n",
       "      <td>84.465</td>\n",
       "      <td>64.990000</td>\n",
       "      <td>79.270</td>\n",
       "      <td>62.09</td>\n",
       "      <td>80.760</td>\n",
       "      <td>57.06</td>\n",
       "      <td>69.650</td>\n",
       "      <td>53.380</td>\n",
       "      <td>72.30</td>\n",
       "      <td>52.500000</td>\n",
       "      <td>69.390000</td>\n",
       "      <td>50.33</td>\n",
       "      <td>67.196923</td>\n",
       "    </tr>\n",
       "    <tr>\n",
       "      <th>...</th>\n",
       "      <td>...</td>\n",
       "      <td>...</td>\n",
       "      <td>...</td>\n",
       "      <td>...</td>\n",
       "      <td>...</td>\n",
       "      <td>...</td>\n",
       "      <td>...</td>\n",
       "      <td>...</td>\n",
       "      <td>...</td>\n",
       "      <td>...</td>\n",
       "      <td>...</td>\n",
       "      <td>...</td>\n",
       "      <td>...</td>\n",
       "      <td>...</td>\n",
       "      <td>...</td>\n",
       "      <td>...</td>\n",
       "    </tr>\n",
       "    <tr>\n",
       "      <th>24</th>\n",
       "      <td>30/11/19</td>\n",
       "      <td>154.154</td>\n",
       "      <td>159.75625</td>\n",
       "      <td>140.226</td>\n",
       "      <td>145.076667</td>\n",
       "      <td>137.218</td>\n",
       "      <td>146.67</td>\n",
       "      <td>114.578</td>\n",
       "      <td>125.19</td>\n",
       "      <td>77.620</td>\n",
       "      <td>102.900</td>\n",
       "      <td>93.72</td>\n",
       "      <td>110.678571</td>\n",
       "      <td>67.763333</td>\n",
       "      <td>94.29</td>\n",
       "      <td>118.029286</td>\n",
       "    </tr>\n",
       "    <tr>\n",
       "      <th>25</th>\n",
       "      <td>07/12/19</td>\n",
       "      <td>153.672</td>\n",
       "      <td>159.12000</td>\n",
       "      <td>138.732</td>\n",
       "      <td>142.873333</td>\n",
       "      <td>136.826</td>\n",
       "      <td>146.67</td>\n",
       "      <td>115.274</td>\n",
       "      <td>125.19</td>\n",
       "      <td>77.620</td>\n",
       "      <td>100.315</td>\n",
       "      <td>92.62</td>\n",
       "      <td>111.214286</td>\n",
       "      <td>66.936667</td>\n",
       "      <td>92.22</td>\n",
       "      <td>118.029286</td>\n",
       "    </tr>\n",
       "    <tr>\n",
       "      <th>26</th>\n",
       "      <td>14/12/19</td>\n",
       "      <td>153.190</td>\n",
       "      <td>159.12000</td>\n",
       "      <td>137.238</td>\n",
       "      <td>140.670000</td>\n",
       "      <td>136.434</td>\n",
       "      <td>146.67</td>\n",
       "      <td>115.970</td>\n",
       "      <td>125.19</td>\n",
       "      <td>77.620</td>\n",
       "      <td>97.730</td>\n",
       "      <td>92.62</td>\n",
       "      <td>111.750000</td>\n",
       "      <td>66.110000</td>\n",
       "      <td>92.22</td>\n",
       "      <td>118.029286</td>\n",
       "    </tr>\n",
       "    <tr>\n",
       "      <th>27</th>\n",
       "      <td>21/12/19</td>\n",
       "      <td>153.065</td>\n",
       "      <td>159.12000</td>\n",
       "      <td>135.744</td>\n",
       "      <td>140.670000</td>\n",
       "      <td>136.042</td>\n",
       "      <td>146.67</td>\n",
       "      <td>116.220</td>\n",
       "      <td>125.19</td>\n",
       "      <td>77.620</td>\n",
       "      <td>96.610</td>\n",
       "      <td>92.62</td>\n",
       "      <td>105.660000</td>\n",
       "      <td>66.110000</td>\n",
       "      <td>92.22</td>\n",
       "      <td>118.029286</td>\n",
       "    </tr>\n",
       "    <tr>\n",
       "      <th>28</th>\n",
       "      <td>28/12/19</td>\n",
       "      <td>152.940</td>\n",
       "      <td>159.12000</td>\n",
       "      <td>134.250</td>\n",
       "      <td>140.670000</td>\n",
       "      <td>135.650</td>\n",
       "      <td>146.67</td>\n",
       "      <td>116.470</td>\n",
       "      <td>125.19</td>\n",
       "      <td>77.620</td>\n",
       "      <td>96.610</td>\n",
       "      <td>92.62</td>\n",
       "      <td>105.660000</td>\n",
       "      <td>66.110000</td>\n",
       "      <td>92.22</td>\n",
       "      <td>118.029286</td>\n",
       "    </tr>\n",
       "  </tbody>\n",
       "</table>\n",
       "<p>573 rows × 16 columns</p>\n",
       "</div>"
      ],
      "text/plain": [
       "   WeekEnding_Date  Kolkata_Average_Price  Kolkata_Ref_Price  \\\n",
       "0         03/01/09                 99.010           79.79000   \n",
       "1         10/01/09                 97.740           78.73000   \n",
       "2         17/01/09                 95.950           71.01000   \n",
       "3         24/01/09                 94.140           73.38000   \n",
       "4         31/01/09                 91.450           70.39000   \n",
       "..             ...                    ...                ...   \n",
       "24        30/11/19                154.154          159.75625   \n",
       "25        07/12/19                153.672          159.12000   \n",
       "26        14/12/19                153.190          159.12000   \n",
       "27        21/12/19                153.065          159.12000   \n",
       "28        28/12/19                152.940          159.12000   \n",
       "\n",
       "    Bangalore_Average_Price  Bangalore_Ref_Price  Cochin_Average_Price  \\\n",
       "0                       NaN            76.190000                84.020   \n",
       "1                    87.480            73.970000                82.720   \n",
       "2                    87.660            71.010000                80.580   \n",
       "3                    85.690            65.660000                79.925   \n",
       "4                    84.465            64.990000                79.270   \n",
       "..                      ...                  ...                   ...   \n",
       "24                  140.226           145.076667               137.218   \n",
       "25                  138.732           142.873333               136.826   \n",
       "26                  137.238           140.670000               136.434   \n",
       "27                  135.744           140.670000               136.042   \n",
       "28                  134.250           140.670000               135.650   \n",
       "\n",
       "    Cochin_Ref_Price  Darjeeling_Average_Price  Darjeeling_Ref_Price  \\\n",
       "0              70.07                    81.660                 57.83   \n",
       "1              68.17                    83.310                 58.02   \n",
       "2              67.16                    82.250                 57.49   \n",
       "3              65.57                    80.870                 54.59   \n",
       "4              62.09                    80.760                 57.06   \n",
       "..               ...                       ...                   ...   \n",
       "24            146.67                   114.578                125.19   \n",
       "25            146.67                   115.274                125.19   \n",
       "26            146.67                   115.970                125.19   \n",
       "27            146.67                   116.220                125.19   \n",
       "28            146.67                   116.470                125.19   \n",
       "\n",
       "    Ernakulam_Average_Price  Ernakulam_Ref_Price  Siliguri_Average_Price  \\\n",
       "0                    68.940               51.670                   70.74   \n",
       "1                    67.240               52.230                   70.47   \n",
       "2                    69.640               52.480                   71.66   \n",
       "3                    69.645               53.430                   71.12   \n",
       "4                    69.650               53.380                   72.30   \n",
       "..                      ...                  ...                     ...   \n",
       "24                   77.620              102.900                   93.72   \n",
       "25                   77.620              100.315                   92.62   \n",
       "26                   77.620               97.730                   92.62   \n",
       "27                   77.620               96.610                   92.62   \n",
       "28                   77.620               96.610                   92.62   \n",
       "\n",
       "    Siliguri_Ref_Price  Guwahati_Average_Price  Guwahati_Ref_Price     Average  \n",
       "0            53.880000               65.550000               46.75   69.700000  \n",
       "1            53.390000               67.390000               46.84   70.550000  \n",
       "2            53.180000               69.510000               48.04   69.830000  \n",
       "3            52.070000               69.140000               48.50   67.846667  \n",
       "4            52.500000               69.390000               50.33   67.196923  \n",
       "..                 ...                     ...                 ...         ...  \n",
       "24          110.678571               67.763333               94.29  118.029286  \n",
       "25          111.214286               66.936667               92.22  118.029286  \n",
       "26          111.750000               66.110000               92.22  118.029286  \n",
       "27          105.660000               66.110000               92.22  118.029286  \n",
       "28          105.660000               66.110000               92.22  118.029286  \n",
       "\n",
       "[573 rows x 16 columns]"
      ]
     },
     "execution_count": 20,
     "metadata": {},
     "output_type": "execute_result"
    }
   ],
   "source": [
    "dat"
   ]
  },
  {
   "cell_type": "code",
   "execution_count": 21,
   "id": "600bba11",
   "metadata": {},
   "outputs": [
    {
     "data": {
      "text/plain": [
       "128.66998251748245"
      ]
     },
     "execution_count": 21,
     "metadata": {},
     "output_type": "execute_result"
    }
   ],
   "source": [
    "dat['Bangalore_Average_Price'].mean()"
   ]
  },
  {
   "cell_type": "code",
   "execution_count": 22,
   "id": "f2b2e00a",
   "metadata": {},
   "outputs": [
    {
     "data": {
      "text/plain": [
       "WeekEnding_Date             0\n",
       "Kolkata_Average_Price       0\n",
       "Kolkata_Ref_Price           0\n",
       "Bangalore_Average_Price     1\n",
       "Bangalore_Ref_Price         0\n",
       "Cochin_Average_Price        0\n",
       "Cochin_Ref_Price            0\n",
       "Darjeeling_Average_Price    0\n",
       "Darjeeling_Ref_Price        0\n",
       "Ernakulam_Average_Price     0\n",
       "Ernakulam_Ref_Price         0\n",
       "Siliguri_Average_Price      0\n",
       "Siliguri_Ref_Price          0\n",
       "Guwahati_Average_Price      0\n",
       "Guwahati_Ref_Price          0\n",
       "Average                     0\n",
       "dtype: int64"
      ]
     },
     "execution_count": 22,
     "metadata": {},
     "output_type": "execute_result"
    }
   ],
   "source": [
    "dat.isnull().sum()"
   ]
  },
  {
   "cell_type": "code",
   "execution_count": 24,
   "id": "b11fd2f4",
   "metadata": {},
   "outputs": [
    {
     "data": {
      "text/plain": [
       "0      69.700000\n",
       "1      70.550000\n",
       "2      69.830000\n",
       "3      68.771778\n",
       "4      68.348128\n",
       "         ...    \n",
       "24    119.191340\n",
       "25    118.487505\n",
       "26    118.037419\n",
       "27    117.439352\n",
       "28    117.321952\n",
       "Length: 573, dtype: float64"
      ]
     },
     "execution_count": 24,
     "metadata": {},
     "output_type": "execute_result"
    }
   ],
   "source": [
    "dat.mean(axis = 1)"
   ]
  },
  {
   "cell_type": "code",
   "execution_count": 9,
   "id": "34b5052b",
   "metadata": {},
   "outputs": [],
   "source": [
    "dat.fillna(value=87.48,inplace=True)"
   ]
  },
  {
   "cell_type": "code",
   "execution_count": 10,
   "id": "3a435f8b",
   "metadata": {},
   "outputs": [],
   "source": [
    "train=dat[:len(train)]\n",
    "test=dat[len(train):]"
   ]
  },
  {
   "cell_type": "code",
   "execution_count": 11,
   "id": "7a25a15c",
   "metadata": {},
   "outputs": [],
   "source": [
    "X=train.drop(['Average','WeekEnding_Date'],axis=1)\n",
    "y=train['Average']"
   ]
  },
  {
   "cell_type": "code",
   "execution_count": 12,
   "id": "2feaf789",
   "metadata": {},
   "outputs": [],
   "source": [
    "X_test=test.drop(['Average','WeekEnding_Date'],axis=1)"
   ]
  },
  {
   "cell_type": "code",
   "execution_count": 13,
   "id": "e00b3063",
   "metadata": {},
   "outputs": [],
   "source": [
    "X_train,X_val=X.iloc[:450],X.iloc[450:]\n",
    "y_train,y_val=y[:450],y[450:]"
   ]
  },
  {
   "cell_type": "code",
   "execution_count": 9,
   "id": "036ddc24",
   "metadata": {},
   "outputs": [],
   "source": [
    "preds=X_test.mean(axis=1)"
   ]
  },
  {
   "cell_type": "code",
   "execution_count": 14,
   "id": "1630d84e",
   "metadata": {},
   "outputs": [
    {
     "data": {
      "text/plain": [
       "0     119.778579\n",
       "1     120.751764\n",
       "2     120.589135\n",
       "3     120.374363\n",
       "4     119.783995\n",
       "5     119.414402\n",
       "6     119.935266\n",
       "7     120.114854\n",
       "8     120.114483\n",
       "9     119.829079\n",
       "10    119.609699\n",
       "11    119.573598\n",
       "12    119.604141\n",
       "13    119.536180\n",
       "14    119.778674\n",
       "15    119.229430\n",
       "16    119.160733\n",
       "17    119.245866\n",
       "18    118.880105\n",
       "19    118.722202\n",
       "20    118.341539\n",
       "21    117.945519\n",
       "22    118.617373\n",
       "23    119.293514\n",
       "24    119.274344\n",
       "25    118.520235\n",
       "26    118.038000\n",
       "27    117.397214\n",
       "28    117.271429\n",
       "dtype: float64"
      ]
     },
     "execution_count": 14,
     "metadata": {},
     "output_type": "execute_result"
    }
   ],
   "source": [
    "X_test.mean(axis=1)"
   ]
  },
  {
   "cell_type": "code",
   "execution_count": 10,
   "id": "e6e63b7e",
   "metadata": {},
   "outputs": [],
   "source": [
    "sub['Average']=preds\n",
    "sub.to_csv('pred2_tea.csv',index=False)"
   ]
  },
  {
   "cell_type": "code",
   "execution_count": null,
   "id": "146d0ad5",
   "metadata": {},
   "outputs": [],
   "source": []
  }
 ],
 "metadata": {
  "kernelspec": {
   "display_name": "Python 3",
   "language": "python",
   "name": "python3"
  },
  "language_info": {
   "codemirror_mode": {
    "name": "ipython",
    "version": 3
   },
   "file_extension": ".py",
   "mimetype": "text/x-python",
   "name": "python",
   "nbconvert_exporter": "python",
   "pygments_lexer": "ipython3",
   "version": "3.8.8"
  }
 },
 "nbformat": 4,
 "nbformat_minor": 5
}
