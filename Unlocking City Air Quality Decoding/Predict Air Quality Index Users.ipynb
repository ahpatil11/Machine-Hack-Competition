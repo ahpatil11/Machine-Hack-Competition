{
 "cells": [
  {
   "cell_type": "code",
   "execution_count": 32,
   "id": "c144446a",
   "metadata": {},
   "outputs": [],
   "source": [
    "import numpy as np\n",
    "import pandas as pd\n",
    "import matplotlib.pyplot as plt\n",
    "import seaborn as sns\n",
    "import warnings\n",
    "warnings.filterwarnings('ignore')"
   ]
  },
  {
   "cell_type": "code",
   "execution_count": 33,
   "id": "1fd7f1f3",
   "metadata": {},
   "outputs": [
    {
     "data": {
      "text/html": [
       "<div>\n",
       "<style scoped>\n",
       "    .dataframe tbody tr th:only-of-type {\n",
       "        vertical-align: middle;\n",
       "    }\n",
       "\n",
       "    .dataframe tbody tr th {\n",
       "        vertical-align: top;\n",
       "    }\n",
       "\n",
       "    .dataframe thead th {\n",
       "        text-align: right;\n",
       "    }\n",
       "</style>\n",
       "<table border=\"1\" class=\"dataframe\">\n",
       "  <thead>\n",
       "    <tr style=\"text-align: right;\">\n",
       "      <th></th>\n",
       "      <th>City</th>\n",
       "      <th>Datetime</th>\n",
       "      <th>PM2.5</th>\n",
       "      <th>PM10</th>\n",
       "      <th>NO</th>\n",
       "      <th>NO2</th>\n",
       "      <th>NOx</th>\n",
       "      <th>NH3</th>\n",
       "      <th>CO</th>\n",
       "      <th>SO2</th>\n",
       "      <th>O3</th>\n",
       "      <th>Benzene</th>\n",
       "      <th>Toluene</th>\n",
       "      <th>Xylene</th>\n",
       "      <th>AQI_Bucket</th>\n",
       "    </tr>\n",
       "  </thead>\n",
       "  <tbody>\n",
       "    <tr>\n",
       "      <th>0</th>\n",
       "      <td>Jaipur</td>\n",
       "      <td>2019-05-04 01:00:00</td>\n",
       "      <td>60.8</td>\n",
       "      <td>91.5</td>\n",
       "      <td>41.6</td>\n",
       "      <td>37.3</td>\n",
       "      <td>66.7</td>\n",
       "      <td>27.0</td>\n",
       "      <td>1.0</td>\n",
       "      <td>10.5</td>\n",
       "      <td>26.9</td>\n",
       "      <td>2.0</td>\n",
       "      <td>7.6</td>\n",
       "      <td>3.1</td>\n",
       "      <td>5</td>\n",
       "    </tr>\n",
       "    <tr>\n",
       "      <th>1</th>\n",
       "      <td>Amritsar</td>\n",
       "      <td>2017-04-27 19:00:00</td>\n",
       "      <td>23.8</td>\n",
       "      <td>119.1</td>\n",
       "      <td>14.9</td>\n",
       "      <td>17.1</td>\n",
       "      <td>NaN</td>\n",
       "      <td>28.4</td>\n",
       "      <td>0.0</td>\n",
       "      <td>6.7</td>\n",
       "      <td>19.1</td>\n",
       "      <td>3.1</td>\n",
       "      <td>8.7</td>\n",
       "      <td>3.1</td>\n",
       "      <td>5</td>\n",
       "    </tr>\n",
       "    <tr>\n",
       "      <th>2</th>\n",
       "      <td>Amaravati</td>\n",
       "      <td>2018-11-12 10:00:00</td>\n",
       "      <td>93.8</td>\n",
       "      <td>182.0</td>\n",
       "      <td>5.5</td>\n",
       "      <td>63.9</td>\n",
       "      <td>NaN</td>\n",
       "      <td>1.8</td>\n",
       "      <td>1.3</td>\n",
       "      <td>23.1</td>\n",
       "      <td>41.7</td>\n",
       "      <td>0.1</td>\n",
       "      <td>0.6</td>\n",
       "      <td>3.1</td>\n",
       "      <td>5</td>\n",
       "    </tr>\n",
       "    <tr>\n",
       "      <th>3</th>\n",
       "      <td>Kochi</td>\n",
       "      <td>2020-06-19 09:00:00</td>\n",
       "      <td>16.0</td>\n",
       "      <td>26.9</td>\n",
       "      <td>17.4</td>\n",
       "      <td>0.9</td>\n",
       "      <td>0.0</td>\n",
       "      <td>23.6</td>\n",
       "      <td>1.6</td>\n",
       "      <td>27.4</td>\n",
       "      <td>34.8</td>\n",
       "      <td>3.1</td>\n",
       "      <td>0.0</td>\n",
       "      <td>3.1</td>\n",
       "      <td>5</td>\n",
       "    </tr>\n",
       "    <tr>\n",
       "      <th>4</th>\n",
       "      <td>Ahmedabad</td>\n",
       "      <td>2019-05-16 03:00:00</td>\n",
       "      <td>29.5</td>\n",
       "      <td>138.4</td>\n",
       "      <td>NaN</td>\n",
       "      <td>31.6</td>\n",
       "      <td>26.0</td>\n",
       "      <td>23.6</td>\n",
       "      <td>9.3</td>\n",
       "      <td>NaN</td>\n",
       "      <td>36.9</td>\n",
       "      <td>14.5</td>\n",
       "      <td>86.8</td>\n",
       "      <td>11.5</td>\n",
       "      <td>1</td>\n",
       "    </tr>\n",
       "  </tbody>\n",
       "</table>\n",
       "</div>"
      ],
      "text/plain": [
       "        City             Datetime  PM2.5   PM10    NO   NO2   NOx   NH3   CO  \\\n",
       "0     Jaipur  2019-05-04 01:00:00   60.8   91.5  41.6  37.3  66.7  27.0  1.0   \n",
       "1   Amritsar  2017-04-27 19:00:00   23.8  119.1  14.9  17.1   NaN  28.4  0.0   \n",
       "2  Amaravati  2018-11-12 10:00:00   93.8  182.0   5.5  63.9   NaN   1.8  1.3   \n",
       "3      Kochi  2020-06-19 09:00:00   16.0   26.9  17.4   0.9   0.0  23.6  1.6   \n",
       "4  Ahmedabad  2019-05-16 03:00:00   29.5  138.4   NaN  31.6  26.0  23.6  9.3   \n",
       "\n",
       "    SO2    O3  Benzene  Toluene  Xylene  AQI_Bucket  \n",
       "0  10.5  26.9      2.0      7.6     3.1           5  \n",
       "1   6.7  19.1      3.1      8.7     3.1           5  \n",
       "2  23.1  41.7      0.1      0.6     3.1           5  \n",
       "3  27.4  34.8      3.1      0.0     3.1           5  \n",
       "4   NaN  36.9     14.5     86.8    11.5           1  "
      ]
     },
     "execution_count": 33,
     "metadata": {},
     "output_type": "execute_result"
    }
   ],
   "source": [
    "train = pd.read_csv('train.csv')\n",
    "train.head()"
   ]
  },
  {
   "cell_type": "code",
   "execution_count": 34,
   "id": "06c00e9c",
   "metadata": {},
   "outputs": [
    {
     "data": {
      "text/plain": [
       "(495512, 15)"
      ]
     },
     "execution_count": 34,
     "metadata": {},
     "output_type": "execute_result"
    }
   ],
   "source": [
    "train.shape"
   ]
  },
  {
   "cell_type": "code",
   "execution_count": 35,
   "id": "aeeda9f6",
   "metadata": {},
   "outputs": [
    {
     "data": {
      "text/plain": [
       "City              0\n",
       "Datetime          0\n",
       "PM2.5          6661\n",
       "PM10          10819\n",
       "NO            25518\n",
       "NO2            5614\n",
       "NOx           10422\n",
       "NH3           20535\n",
       "CO             5017\n",
       "SO2           12158\n",
       "O3            23614\n",
       "Benzene        8519\n",
       "Toluene       11004\n",
       "Xylene        12160\n",
       "AQI_Bucket        0\n",
       "dtype: int64"
      ]
     },
     "execution_count": 35,
     "metadata": {},
     "output_type": "execute_result"
    }
   ],
   "source": [
    "train.isnull().sum()"
   ]
  },
  {
   "cell_type": "code",
   "execution_count": 36,
   "id": "73111982",
   "metadata": {},
   "outputs": [
    {
     "data": {
      "text/plain": [
       "0"
      ]
     },
     "execution_count": 36,
     "metadata": {},
     "output_type": "execute_result"
    }
   ],
   "source": [
    "train.duplicated().sum()"
   ]
  },
  {
   "cell_type": "code",
   "execution_count": 37,
   "id": "f5f37593",
   "metadata": {},
   "outputs": [
    {
     "data": {
      "text/html": [
       "<div>\n",
       "<style scoped>\n",
       "    .dataframe tbody tr th:only-of-type {\n",
       "        vertical-align: middle;\n",
       "    }\n",
       "\n",
       "    .dataframe tbody tr th {\n",
       "        vertical-align: top;\n",
       "    }\n",
       "\n",
       "    .dataframe thead th {\n",
       "        text-align: right;\n",
       "    }\n",
       "</style>\n",
       "<table border=\"1\" class=\"dataframe\">\n",
       "  <thead>\n",
       "    <tr style=\"text-align: right;\">\n",
       "      <th></th>\n",
       "      <th>PM2.5</th>\n",
       "      <th>PM10</th>\n",
       "      <th>NO</th>\n",
       "      <th>NO2</th>\n",
       "      <th>NOx</th>\n",
       "      <th>NH3</th>\n",
       "      <th>CO</th>\n",
       "      <th>SO2</th>\n",
       "      <th>O3</th>\n",
       "      <th>Benzene</th>\n",
       "      <th>Toluene</th>\n",
       "      <th>Xylene</th>\n",
       "      <th>AQI_Bucket</th>\n",
       "    </tr>\n",
       "  </thead>\n",
       "  <tbody>\n",
       "    <tr>\n",
       "      <th>count</th>\n",
       "      <td>488851.000000</td>\n",
       "      <td>484693.000000</td>\n",
       "      <td>469994.000000</td>\n",
       "      <td>489898.000000</td>\n",
       "      <td>485090.000000</td>\n",
       "      <td>474977.000000</td>\n",
       "      <td>490495.000000</td>\n",
       "      <td>483354.000000</td>\n",
       "      <td>471898.000000</td>\n",
       "      <td>486993.000000</td>\n",
       "      <td>484508.000000</td>\n",
       "      <td>483352.000000</td>\n",
       "      <td>495512.000000</td>\n",
       "    </tr>\n",
       "    <tr>\n",
       "      <th>mean</th>\n",
       "      <td>67.594300</td>\n",
       "      <td>119.133609</td>\n",
       "      <td>17.400187</td>\n",
       "      <td>28.893296</td>\n",
       "      <td>32.297654</td>\n",
       "      <td>23.605254</td>\n",
       "      <td>2.193791</td>\n",
       "      <td>14.026952</td>\n",
       "      <td>34.826780</td>\n",
       "      <td>3.092229</td>\n",
       "      <td>8.656081</td>\n",
       "      <td>3.114720</td>\n",
       "      <td>3.002131</td>\n",
       "    </tr>\n",
       "    <tr>\n",
       "      <th>std</th>\n",
       "      <td>66.518636</td>\n",
       "      <td>79.646784</td>\n",
       "      <td>29.347508</td>\n",
       "      <td>26.634609</td>\n",
       "      <td>36.097291</td>\n",
       "      <td>22.696589</td>\n",
       "      <td>10.491712</td>\n",
       "      <td>17.406665</td>\n",
       "      <td>26.947275</td>\n",
       "      <td>14.433554</td>\n",
       "      <td>17.955378</td>\n",
       "      <td>4.740591</td>\n",
       "      <td>1.999700</td>\n",
       "    </tr>\n",
       "    <tr>\n",
       "      <th>min</th>\n",
       "      <td>0.000000</td>\n",
       "      <td>0.000000</td>\n",
       "      <td>0.000000</td>\n",
       "      <td>0.000000</td>\n",
       "      <td>0.000000</td>\n",
       "      <td>0.000000</td>\n",
       "      <td>0.000000</td>\n",
       "      <td>0.000000</td>\n",
       "      <td>0.000000</td>\n",
       "      <td>0.000000</td>\n",
       "      <td>0.000000</td>\n",
       "      <td>0.000000</td>\n",
       "      <td>0.000000</td>\n",
       "    </tr>\n",
       "    <tr>\n",
       "      <th>25%</th>\n",
       "      <td>31.000000</td>\n",
       "      <td>79.600000</td>\n",
       "      <td>4.600000</td>\n",
       "      <td>12.400000</td>\n",
       "      <td>12.800000</td>\n",
       "      <td>12.300000</td>\n",
       "      <td>0.500000</td>\n",
       "      <td>5.600000</td>\n",
       "      <td>16.200000</td>\n",
       "      <td>0.200000</td>\n",
       "      <td>1.200000</td>\n",
       "      <td>2.300000</td>\n",
       "      <td>1.000000</td>\n",
       "    </tr>\n",
       "    <tr>\n",
       "      <th>50%</th>\n",
       "      <td>60.400000</td>\n",
       "      <td>119.100000</td>\n",
       "      <td>9.800000</td>\n",
       "      <td>25.300000</td>\n",
       "      <td>26.100000</td>\n",
       "      <td>23.600000</td>\n",
       "      <td>0.900000</td>\n",
       "      <td>10.600000</td>\n",
       "      <td>34.000000</td>\n",
       "      <td>1.800000</td>\n",
       "      <td>7.400000</td>\n",
       "      <td>3.100000</td>\n",
       "      <td>3.000000</td>\n",
       "    </tr>\n",
       "    <tr>\n",
       "      <th>75%</th>\n",
       "      <td>68.200000</td>\n",
       "      <td>119.100000</td>\n",
       "      <td>17.400000</td>\n",
       "      <td>31.900000</td>\n",
       "      <td>32.300000</td>\n",
       "      <td>23.600000</td>\n",
       "      <td>2.000000</td>\n",
       "      <td>14.000000</td>\n",
       "      <td>41.600000</td>\n",
       "      <td>3.100000</td>\n",
       "      <td>8.700000</td>\n",
       "      <td>3.100000</td>\n",
       "      <td>5.000000</td>\n",
       "    </tr>\n",
       "    <tr>\n",
       "      <th>max</th>\n",
       "      <td>1000.000000</td>\n",
       "      <td>1000.000000</td>\n",
       "      <td>500.000000</td>\n",
       "      <td>499.500000</td>\n",
       "      <td>498.300000</td>\n",
       "      <td>498.500000</td>\n",
       "      <td>498.600000</td>\n",
       "      <td>200.000000</td>\n",
       "      <td>497.600000</td>\n",
       "      <td>498.100000</td>\n",
       "      <td>499.400000</td>\n",
       "      <td>500.000000</td>\n",
       "      <td>6.000000</td>\n",
       "    </tr>\n",
       "  </tbody>\n",
       "</table>\n",
       "</div>"
      ],
      "text/plain": [
       "               PM2.5           PM10             NO            NO2  \\\n",
       "count  488851.000000  484693.000000  469994.000000  489898.000000   \n",
       "mean       67.594300     119.133609      17.400187      28.893296   \n",
       "std        66.518636      79.646784      29.347508      26.634609   \n",
       "min         0.000000       0.000000       0.000000       0.000000   \n",
       "25%        31.000000      79.600000       4.600000      12.400000   \n",
       "50%        60.400000     119.100000       9.800000      25.300000   \n",
       "75%        68.200000     119.100000      17.400000      31.900000   \n",
       "max      1000.000000    1000.000000     500.000000     499.500000   \n",
       "\n",
       "                 NOx            NH3             CO            SO2  \\\n",
       "count  485090.000000  474977.000000  490495.000000  483354.000000   \n",
       "mean       32.297654      23.605254       2.193791      14.026952   \n",
       "std        36.097291      22.696589      10.491712      17.406665   \n",
       "min         0.000000       0.000000       0.000000       0.000000   \n",
       "25%        12.800000      12.300000       0.500000       5.600000   \n",
       "50%        26.100000      23.600000       0.900000      10.600000   \n",
       "75%        32.300000      23.600000       2.000000      14.000000   \n",
       "max       498.300000     498.500000     498.600000     200.000000   \n",
       "\n",
       "                  O3        Benzene        Toluene         Xylene  \\\n",
       "count  471898.000000  486993.000000  484508.000000  483352.000000   \n",
       "mean       34.826780       3.092229       8.656081       3.114720   \n",
       "std        26.947275      14.433554      17.955378       4.740591   \n",
       "min         0.000000       0.000000       0.000000       0.000000   \n",
       "25%        16.200000       0.200000       1.200000       2.300000   \n",
       "50%        34.000000       1.800000       7.400000       3.100000   \n",
       "75%        41.600000       3.100000       8.700000       3.100000   \n",
       "max       497.600000     498.100000     499.400000     500.000000   \n",
       "\n",
       "          AQI_Bucket  \n",
       "count  495512.000000  \n",
       "mean        3.002131  \n",
       "std         1.999700  \n",
       "min         0.000000  \n",
       "25%         1.000000  \n",
       "50%         3.000000  \n",
       "75%         5.000000  \n",
       "max         6.000000  "
      ]
     },
     "execution_count": 37,
     "metadata": {},
     "output_type": "execute_result"
    }
   ],
   "source": [
    "train.describe()"
   ]
  },
  {
   "cell_type": "code",
   "execution_count": 38,
   "id": "12eed18f",
   "metadata": {},
   "outputs": [
    {
     "data": {
      "text/html": [
       "<div>\n",
       "<style scoped>\n",
       "    .dataframe tbody tr th:only-of-type {\n",
       "        vertical-align: middle;\n",
       "    }\n",
       "\n",
       "    .dataframe tbody tr th {\n",
       "        vertical-align: top;\n",
       "    }\n",
       "\n",
       "    .dataframe thead th {\n",
       "        text-align: right;\n",
       "    }\n",
       "</style>\n",
       "<table border=\"1\" class=\"dataframe\">\n",
       "  <thead>\n",
       "    <tr style=\"text-align: right;\">\n",
       "      <th></th>\n",
       "      <th>City</th>\n",
       "      <th>Datetime</th>\n",
       "      <th>PM2.5</th>\n",
       "      <th>PM10</th>\n",
       "      <th>NO</th>\n",
       "      <th>NO2</th>\n",
       "      <th>NOx</th>\n",
       "      <th>NH3</th>\n",
       "      <th>CO</th>\n",
       "      <th>SO2</th>\n",
       "      <th>O3</th>\n",
       "      <th>Benzene</th>\n",
       "      <th>Toluene</th>\n",
       "      <th>Xylene</th>\n",
       "    </tr>\n",
       "  </thead>\n",
       "  <tbody>\n",
       "    <tr>\n",
       "      <th>0</th>\n",
       "      <td>Shillong</td>\n",
       "      <td>2019-11-02 02:00:00</td>\n",
       "      <td>67.6</td>\n",
       "      <td>119.1</td>\n",
       "      <td>17.4</td>\n",
       "      <td>28.9</td>\n",
       "      <td>32.3</td>\n",
       "      <td>23.6</td>\n",
       "      <td>2.2</td>\n",
       "      <td>14.0</td>\n",
       "      <td>34.8</td>\n",
       "      <td>3.1</td>\n",
       "      <td>8.7</td>\n",
       "      <td>3.1</td>\n",
       "    </tr>\n",
       "    <tr>\n",
       "      <th>1</th>\n",
       "      <td>Patna</td>\n",
       "      <td>2019-11-27 11:00:00</td>\n",
       "      <td>265.0</td>\n",
       "      <td>119.1</td>\n",
       "      <td>34.0</td>\n",
       "      <td>38.7</td>\n",
       "      <td>48.2</td>\n",
       "      <td>23.6</td>\n",
       "      <td>1.0</td>\n",
       "      <td>20.4</td>\n",
       "      <td>48.5</td>\n",
       "      <td>2.6</td>\n",
       "      <td>7.0</td>\n",
       "      <td>6.7</td>\n",
       "    </tr>\n",
       "    <tr>\n",
       "      <th>2</th>\n",
       "      <td>Patna</td>\n",
       "      <td>2020-01-06 01:00:00</td>\n",
       "      <td>86.3</td>\n",
       "      <td>117.4</td>\n",
       "      <td>19.1</td>\n",
       "      <td>20.3</td>\n",
       "      <td>38.7</td>\n",
       "      <td>30.1</td>\n",
       "      <td>1.4</td>\n",
       "      <td>8.2</td>\n",
       "      <td>15.9</td>\n",
       "      <td>2.3</td>\n",
       "      <td>0.7</td>\n",
       "      <td>3.1</td>\n",
       "    </tr>\n",
       "    <tr>\n",
       "      <th>3</th>\n",
       "      <td>Shillong</td>\n",
       "      <td>2020-01-18 08:00:00</td>\n",
       "      <td>10.5</td>\n",
       "      <td>13.3</td>\n",
       "      <td>0.8</td>\n",
       "      <td>2.4</td>\n",
       "      <td>1.0</td>\n",
       "      <td>2.5</td>\n",
       "      <td>0.1</td>\n",
       "      <td>7.2</td>\n",
       "      <td>55.9</td>\n",
       "      <td>0.1</td>\n",
       "      <td>0.0</td>\n",
       "      <td>3.1</td>\n",
       "    </tr>\n",
       "    <tr>\n",
       "      <th>4</th>\n",
       "      <td>Delhi</td>\n",
       "      <td>2020-02-17 14:00:00</td>\n",
       "      <td>82.9</td>\n",
       "      <td>158.7</td>\n",
       "      <td>11.8</td>\n",
       "      <td>36.7</td>\n",
       "      <td>31.0</td>\n",
       "      <td>36.7</td>\n",
       "      <td>0.6</td>\n",
       "      <td>12.1</td>\n",
       "      <td>78.8</td>\n",
       "      <td>3.6</td>\n",
       "      <td>18.9</td>\n",
       "      <td>0.1</td>\n",
       "    </tr>\n",
       "  </tbody>\n",
       "</table>\n",
       "</div>"
      ],
      "text/plain": [
       "       City             Datetime  PM2.5   PM10    NO   NO2   NOx   NH3   CO  \\\n",
       "0  Shillong  2019-11-02 02:00:00   67.6  119.1  17.4  28.9  32.3  23.6  2.2   \n",
       "1     Patna  2019-11-27 11:00:00  265.0  119.1  34.0  38.7  48.2  23.6  1.0   \n",
       "2     Patna  2020-01-06 01:00:00   86.3  117.4  19.1  20.3  38.7  30.1  1.4   \n",
       "3  Shillong  2020-01-18 08:00:00   10.5   13.3   0.8   2.4   1.0   2.5  0.1   \n",
       "4     Delhi  2020-02-17 14:00:00   82.9  158.7  11.8  36.7  31.0  36.7  0.6   \n",
       "\n",
       "    SO2    O3  Benzene  Toluene  Xylene  \n",
       "0  14.0  34.8      3.1      8.7     3.1  \n",
       "1  20.4  48.5      2.6      7.0     6.7  \n",
       "2   8.2  15.9      2.3      0.7     3.1  \n",
       "3   7.2  55.9      0.1      0.0     3.1  \n",
       "4  12.1  78.8      3.6     18.9     0.1  "
      ]
     },
     "execution_count": 38,
     "metadata": {},
     "output_type": "execute_result"
    }
   ],
   "source": [
    "test = pd.read_csv('test.csv')\n",
    "test.head()"
   ]
  },
  {
   "cell_type": "code",
   "execution_count": 39,
   "id": "32edf21f",
   "metadata": {},
   "outputs": [
    {
     "data": {
      "text/plain": [
       "(212363, 14)"
      ]
     },
     "execution_count": 39,
     "metadata": {},
     "output_type": "execute_result"
    }
   ],
   "source": [
    "test.shape"
   ]
  },
  {
   "cell_type": "code",
   "execution_count": 40,
   "id": "9c7159ac",
   "metadata": {},
   "outputs": [
    {
     "data": {
      "text/plain": [
       "City            0\n",
       "Datetime        0\n",
       "PM2.5        2966\n",
       "PM10         4754\n",
       "NO          10937\n",
       "NO2          2526\n",
       "NOx          4443\n",
       "NH3          8841\n",
       "CO           2061\n",
       "SO2          5184\n",
       "O3          10010\n",
       "Benzene      3585\n",
       "Toluene      4640\n",
       "Xylene       5182\n",
       "dtype: int64"
      ]
     },
     "execution_count": 40,
     "metadata": {},
     "output_type": "execute_result"
    }
   ],
   "source": [
    "test.isnull().sum()"
   ]
  },
  {
   "cell_type": "code",
   "execution_count": 41,
   "id": "bebc4509",
   "metadata": {},
   "outputs": [
    {
     "data": {
      "text/plain": [
       "5    71123\n",
       "4    71024\n",
       "3    71017\n",
       "0    70975\n",
       "6    70602\n",
       "2    70447\n",
       "1    70324\n",
       "Name: AQI_Bucket, dtype: int64"
      ]
     },
     "execution_count": 41,
     "metadata": {},
     "output_type": "execute_result"
    }
   ],
   "source": [
    "train['AQI_Bucket'].value_counts()"
   ]
  },
  {
   "cell_type": "code",
   "execution_count": 42,
   "id": "b275feee",
   "metadata": {
    "id": "294p5HX8wu_D"
   },
   "outputs": [],
   "source": [
    "na_columns = ['PM2.5','PM10','NO','NO2','NOx','NH3','CO','SO2','O3','Benzene','Toluene','Xylene']"
   ]
  },
  {
   "cell_type": "code",
   "execution_count": 43,
   "id": "40ea61c9",
   "metadata": {
    "colab": {
     "base_uri": "https://localhost:8080/"
    },
    "id": "qAFrptl1wqep",
    "outputId": "ae79eff6-4bd4-4740-c9ba-1424a3199fba"
   },
   "outputs": [],
   "source": [
    "cities=['Chennai','Mumbai','Delhi','Lucknow','Bengaluru','Ahmedabad','Hyderabad','Patna','Gurugram','Visakhapatnam','Amritsar', 'Jorapokhar' ,'Thiruvananthapuram', 'Jaipur','Amaravati','Brajrajnagar','Talcher','Kolkata','Guwahati','Coimbatore','Shillong','Chandigarh','Bhopal','Ernakulam','Kochi','Aizawl']\n",
    "newtrain = pd.DataFrame()\n",
    "newtest = pd.DataFrame()\n",
    "\n",
    "for i in cities:\n",
    "    df_train = train[train.where(train['City']==i)['City'].notnull()]\n",
    "    df_test = test[test.where(test['City']==i)['City'].notnull()]\n",
    "    \n",
    "    for col in na_columns:\n",
    "        df_train[col] = df_train[col].fillna(df_train[col].median())\n",
    "        df_test[col] = df_test[col].fillna(df_test[col].median())\n",
    "        \n",
    "    newtrain = pd.concat([df_train, newtrain], axis = 0)\n",
    "    newtest = pd.concat([df_test, newtest], axis = 0)"
   ]
  },
  {
   "cell_type": "code",
   "execution_count": 44,
   "id": "5e5bfdd9",
   "metadata": {},
   "outputs": [
    {
     "data": {
      "text/plain": [
       "City          0\n",
       "Datetime      0\n",
       "PM2.5         0\n",
       "PM10          0\n",
       "NO            0\n",
       "NO2           0\n",
       "NOx           0\n",
       "NH3           0\n",
       "CO            0\n",
       "SO2           0\n",
       "O3            0\n",
       "Benzene       0\n",
       "Toluene       0\n",
       "Xylene        0\n",
       "AQI_Bucket    0\n",
       "dtype: int64"
      ]
     },
     "execution_count": 44,
     "metadata": {},
     "output_type": "execute_result"
    }
   ],
   "source": [
    "newtrain.isnull().sum()"
   ]
  },
  {
   "cell_type": "code",
   "execution_count": 45,
   "id": "b0c3bac8",
   "metadata": {},
   "outputs": [
    {
     "data": {
      "text/plain": [
       "City        0\n",
       "Datetime    0\n",
       "PM2.5       0\n",
       "PM10        0\n",
       "NO          0\n",
       "NO2         0\n",
       "NOx         0\n",
       "NH3         0\n",
       "CO          0\n",
       "SO2         0\n",
       "O3          0\n",
       "Benzene     0\n",
       "Toluene     0\n",
       "Xylene      0\n",
       "dtype: int64"
      ]
     },
     "execution_count": 45,
     "metadata": {},
     "output_type": "execute_result"
    }
   ],
   "source": [
    "newtest.isnull().sum()"
   ]
  },
  {
   "cell_type": "code",
   "execution_count": 46,
   "id": "e65205c5",
   "metadata": {},
   "outputs": [],
   "source": [
    "newtrain['Datetime'] = pd.to_datetime(newtrain['Datetime'])"
   ]
  },
  {
   "cell_type": "code",
   "execution_count": 47,
   "id": "bb08c7d5",
   "metadata": {},
   "outputs": [],
   "source": [
    "newtrain['year'] = newtrain['Datetime'].dt.year\n",
    "newtrain['month'] = newtrain['Datetime'].dt.month_name()\n",
    "newtrain['day'] = newtrain['Datetime'].dt.day_name()\n",
    "newtrain['hour'] = newtrain['Datetime'].dt.hour"
   ]
  },
  {
   "cell_type": "code",
   "execution_count": 48,
   "id": "e0443b30",
   "metadata": {},
   "outputs": [],
   "source": [
    "newtest['Datetime'] = pd.to_datetime(newtest['Datetime'])"
   ]
  },
  {
   "cell_type": "code",
   "execution_count": 49,
   "id": "fc9cfed3",
   "metadata": {},
   "outputs": [],
   "source": [
    "newtest['year'] = newtest['Datetime'].dt.year\n",
    "newtest['month'] = newtest['Datetime'].dt.month_name()\n",
    "newtest['day'] = newtest['Datetime'].dt.day_name()\n",
    "newtest['hour'] = newtest['Datetime'].dt.hour"
   ]
  },
  {
   "cell_type": "code",
   "execution_count": 50,
   "id": "7b05dddd",
   "metadata": {},
   "outputs": [],
   "source": [
    "newtrain = newtrain.drop('Datetime', axis = 1)\n",
    "newtest = newtest.drop('Datetime', axis = 1)"
   ]
  },
  {
   "cell_type": "code",
   "execution_count": 51,
   "id": "ff0f2e8a",
   "metadata": {},
   "outputs": [],
   "source": [
    "newtrain = pd.get_dummies(newtrain, columns = ['City','month','day','year','hour'])\n",
    "newtest = pd.get_dummies(newtest, columns = ['City','month','day','year','hour'])"
   ]
  },
  {
   "cell_type": "code",
   "execution_count": 52,
   "id": "732ab6bb",
   "metadata": {},
   "outputs": [
    {
     "data": {
      "text/html": [
       "<div>\n",
       "<style scoped>\n",
       "    .dataframe tbody tr th:only-of-type {\n",
       "        vertical-align: middle;\n",
       "    }\n",
       "\n",
       "    .dataframe tbody tr th {\n",
       "        vertical-align: top;\n",
       "    }\n",
       "\n",
       "    .dataframe thead th {\n",
       "        text-align: right;\n",
       "    }\n",
       "</style>\n",
       "<table border=\"1\" class=\"dataframe\">\n",
       "  <thead>\n",
       "    <tr style=\"text-align: right;\">\n",
       "      <th></th>\n",
       "      <th>PM2.5</th>\n",
       "      <th>PM10</th>\n",
       "      <th>NO</th>\n",
       "      <th>NO2</th>\n",
       "      <th>NOx</th>\n",
       "      <th>NH3</th>\n",
       "      <th>CO</th>\n",
       "      <th>SO2</th>\n",
       "      <th>O3</th>\n",
       "      <th>Benzene</th>\n",
       "      <th>...</th>\n",
       "      <th>hour_14</th>\n",
       "      <th>hour_15</th>\n",
       "      <th>hour_16</th>\n",
       "      <th>hour_17</th>\n",
       "      <th>hour_18</th>\n",
       "      <th>hour_19</th>\n",
       "      <th>hour_20</th>\n",
       "      <th>hour_21</th>\n",
       "      <th>hour_22</th>\n",
       "      <th>hour_23</th>\n",
       "    </tr>\n",
       "  </thead>\n",
       "  <tbody>\n",
       "    <tr>\n",
       "      <th>85</th>\n",
       "      <td>6.9</td>\n",
       "      <td>18.4</td>\n",
       "      <td>11.6</td>\n",
       "      <td>0.0</td>\n",
       "      <td>15.2</td>\n",
       "      <td>21.4</td>\n",
       "      <td>0.2</td>\n",
       "      <td>8.8</td>\n",
       "      <td>34.8</td>\n",
       "      <td>3.1</td>\n",
       "      <td>...</td>\n",
       "      <td>0</td>\n",
       "      <td>0</td>\n",
       "      <td>0</td>\n",
       "      <td>0</td>\n",
       "      <td>0</td>\n",
       "      <td>0</td>\n",
       "      <td>0</td>\n",
       "      <td>0</td>\n",
       "      <td>0</td>\n",
       "      <td>0</td>\n",
       "    </tr>\n",
       "    <tr>\n",
       "      <th>227</th>\n",
       "      <td>4.0</td>\n",
       "      <td>8.8</td>\n",
       "      <td>11.8</td>\n",
       "      <td>0.0</td>\n",
       "      <td>15.3</td>\n",
       "      <td>14.6</td>\n",
       "      <td>0.3</td>\n",
       "      <td>5.6</td>\n",
       "      <td>34.8</td>\n",
       "      <td>0.1</td>\n",
       "      <td>...</td>\n",
       "      <td>0</td>\n",
       "      <td>0</td>\n",
       "      <td>0</td>\n",
       "      <td>0</td>\n",
       "      <td>0</td>\n",
       "      <td>0</td>\n",
       "      <td>0</td>\n",
       "      <td>0</td>\n",
       "      <td>1</td>\n",
       "      <td>0</td>\n",
       "    </tr>\n",
       "  </tbody>\n",
       "</table>\n",
       "<p>2 rows × 88 columns</p>\n",
       "</div>"
      ],
      "text/plain": [
       "     PM2.5  PM10    NO  NO2   NOx   NH3   CO  SO2    O3  Benzene  ...  \\\n",
       "85     6.9  18.4  11.6  0.0  15.2  21.4  0.2  8.8  34.8      3.1  ...   \n",
       "227    4.0   8.8  11.8  0.0  15.3  14.6  0.3  5.6  34.8      0.1  ...   \n",
       "\n",
       "     hour_14  hour_15  hour_16  hour_17  hour_18  hour_19  hour_20  hour_21  \\\n",
       "85         0        0        0        0        0        0        0        0   \n",
       "227        0        0        0        0        0        0        0        0   \n",
       "\n",
       "     hour_22  hour_23  \n",
       "85         0        0  \n",
       "227        1        0  \n",
       "\n",
       "[2 rows x 88 columns]"
      ]
     },
     "execution_count": 52,
     "metadata": {},
     "output_type": "execute_result"
    }
   ],
   "source": [
    "newtrain.head(2)"
   ]
  },
  {
   "cell_type": "code",
   "execution_count": 53,
   "id": "34afb265",
   "metadata": {},
   "outputs": [
    {
     "data": {
      "text/html": [
       "<div>\n",
       "<style scoped>\n",
       "    .dataframe tbody tr th:only-of-type {\n",
       "        vertical-align: middle;\n",
       "    }\n",
       "\n",
       "    .dataframe tbody tr th {\n",
       "        vertical-align: top;\n",
       "    }\n",
       "\n",
       "    .dataframe thead th {\n",
       "        text-align: right;\n",
       "    }\n",
       "</style>\n",
       "<table border=\"1\" class=\"dataframe\">\n",
       "  <thead>\n",
       "    <tr style=\"text-align: right;\">\n",
       "      <th></th>\n",
       "      <th>PM2.5</th>\n",
       "      <th>PM10</th>\n",
       "      <th>NO</th>\n",
       "      <th>NO2</th>\n",
       "      <th>NOx</th>\n",
       "      <th>NH3</th>\n",
       "      <th>CO</th>\n",
       "      <th>SO2</th>\n",
       "      <th>O3</th>\n",
       "      <th>Benzene</th>\n",
       "      <th>...</th>\n",
       "      <th>hour_14</th>\n",
       "      <th>hour_15</th>\n",
       "      <th>hour_16</th>\n",
       "      <th>hour_17</th>\n",
       "      <th>hour_18</th>\n",
       "      <th>hour_19</th>\n",
       "      <th>hour_20</th>\n",
       "      <th>hour_21</th>\n",
       "      <th>hour_22</th>\n",
       "      <th>hour_23</th>\n",
       "    </tr>\n",
       "  </thead>\n",
       "  <tbody>\n",
       "    <tr>\n",
       "      <th>158</th>\n",
       "      <td>16.0</td>\n",
       "      <td>17.1</td>\n",
       "      <td>11.5</td>\n",
       "      <td>0.1</td>\n",
       "      <td>15.2</td>\n",
       "      <td>39.3</td>\n",
       "      <td>0.3</td>\n",
       "      <td>9.9</td>\n",
       "      <td>34.8</td>\n",
       "      <td>0.0</td>\n",
       "      <td>...</td>\n",
       "      <td>1</td>\n",
       "      <td>0</td>\n",
       "      <td>0</td>\n",
       "      <td>0</td>\n",
       "      <td>0</td>\n",
       "      <td>0</td>\n",
       "      <td>0</td>\n",
       "      <td>0</td>\n",
       "      <td>0</td>\n",
       "      <td>0</td>\n",
       "    </tr>\n",
       "    <tr>\n",
       "      <th>535</th>\n",
       "      <td>42.8</td>\n",
       "      <td>57.0</td>\n",
       "      <td>2.8</td>\n",
       "      <td>0.1</td>\n",
       "      <td>3.4</td>\n",
       "      <td>21.7</td>\n",
       "      <td>0.4</td>\n",
       "      <td>7.6</td>\n",
       "      <td>7.3</td>\n",
       "      <td>3.1</td>\n",
       "      <td>...</td>\n",
       "      <td>0</td>\n",
       "      <td>0</td>\n",
       "      <td>0</td>\n",
       "      <td>0</td>\n",
       "      <td>0</td>\n",
       "      <td>0</td>\n",
       "      <td>0</td>\n",
       "      <td>0</td>\n",
       "      <td>0</td>\n",
       "      <td>0</td>\n",
       "    </tr>\n",
       "  </tbody>\n",
       "</table>\n",
       "<p>2 rows × 87 columns</p>\n",
       "</div>"
      ],
      "text/plain": [
       "     PM2.5  PM10    NO  NO2   NOx   NH3   CO  SO2    O3  Benzene  ...  \\\n",
       "158   16.0  17.1  11.5  0.1  15.2  39.3  0.3  9.9  34.8      0.0  ...   \n",
       "535   42.8  57.0   2.8  0.1   3.4  21.7  0.4  7.6   7.3      3.1  ...   \n",
       "\n",
       "     hour_14  hour_15  hour_16  hour_17  hour_18  hour_19  hour_20  hour_21  \\\n",
       "158        1        0        0        0        0        0        0        0   \n",
       "535        0        0        0        0        0        0        0        0   \n",
       "\n",
       "     hour_22  hour_23  \n",
       "158        0        0  \n",
       "535        0        0  \n",
       "\n",
       "[2 rows x 87 columns]"
      ]
     },
     "execution_count": 53,
     "metadata": {},
     "output_type": "execute_result"
    }
   ],
   "source": [
    "newtest.head(2)"
   ]
  },
  {
   "cell_type": "code",
   "execution_count": 55,
   "id": "e712fb59",
   "metadata": {},
   "outputs": [],
   "source": [
    "x = newtrain.drop('AQI_Bucket', axis = 1)\n",
    "y = newtrain['AQI_Bucket']"
   ]
  },
  {
   "cell_type": "code",
   "execution_count": 56,
   "id": "9b0e25cb",
   "metadata": {},
   "outputs": [],
   "source": [
    "from sklearn.model_selection import train_test_split\n",
    "x_train, x_test, y_train, y_test = train_test_split(x, y, test_size= 0.3, random_state= 1)"
   ]
  },
  {
   "cell_type": "code",
   "execution_count": 57,
   "id": "3c171507",
   "metadata": {},
   "outputs": [],
   "source": [
    "from sklearn.preprocessing import StandardScaler\n",
    "sc = StandardScaler()\n",
    "x_train = sc.fit_transform(x_train)\n",
    "x_test = sc.transform(x_test)"
   ]
  },
  {
   "cell_type": "code",
   "execution_count": 61,
   "id": "fa034f55",
   "metadata": {},
   "outputs": [],
   "source": [
    "from xgboost import XGBRegressor\n",
    "param = {'objective': 'reg:squarederror', 'eval_metric': 'rmsle', 'n_estimators': 138, 'max_depth': 4, 'learning_rate': 0.01,\n",
    "    'subsample': 0.8, 'colsample_bytree': 0.8, 'gamma' : 2, 'tree_method': 'gpu_hist'}\n",
    "xgb = XGBRegressor(**param)\n",
    "y_pred = xgb.fit(x_train, y_train).predict(x_test)"
   ]
  },
  {
   "cell_type": "code",
   "execution_count": 62,
   "id": "d58b7d1d",
   "metadata": {},
   "outputs": [],
   "source": [
    "from sklearn.metrics import mean_squared_log_error"
   ]
  },
  {
   "cell_type": "code",
   "execution_count": 63,
   "id": "08156623",
   "metadata": {},
   "outputs": [
    {
     "name": "stdout",
     "output_type": "stream",
     "text": [
      "0.6336442787680967\n"
     ]
    }
   ],
   "source": [
    "print(np.sqrt(mean_squared_log_error(y_test, y_pred)))"
   ]
  },
  {
   "cell_type": "code",
   "execution_count": 65,
   "id": "aec33ae8",
   "metadata": {},
   "outputs": [],
   "source": [
    "x_train = newtrain.drop('AQI_Bucket', axis = 1)\n",
    "y_train = newtrain['AQI_Bucket']\n",
    "x_test = newtest"
   ]
  },
  {
   "cell_type": "code",
   "execution_count": 66,
   "id": "dd03fc58",
   "metadata": {},
   "outputs": [],
   "source": [
    "y_pred = xgb.fit(x_train, y_train).predict(x_test)"
   ]
  },
  {
   "cell_type": "code",
   "execution_count": 67,
   "id": "ee080e83",
   "metadata": {},
   "outputs": [],
   "source": [
    "solution = pd.DataFrame({'AQI_Bucket': y_pred})\n",
    "solution.to_csv('Solution.csv', index = False)"
   ]
  },
  {
   "cell_type": "code",
   "execution_count": null,
   "id": "2a04d63d",
   "metadata": {},
   "outputs": [],
   "source": []
  }
 ],
 "metadata": {
  "kernelspec": {
   "display_name": "Python 3 (ipykernel)",
   "language": "python",
   "name": "python3"
  },
  "language_info": {
   "codemirror_mode": {
    "name": "ipython",
    "version": 3
   },
   "file_extension": ".py",
   "mimetype": "text/x-python",
   "name": "python",
   "nbconvert_exporter": "python",
   "pygments_lexer": "ipython3",
   "version": "3.9.7"
  }
 },
 "nbformat": 4,
 "nbformat_minor": 5
}
