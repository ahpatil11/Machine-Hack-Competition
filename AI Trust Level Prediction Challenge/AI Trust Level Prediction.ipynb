{
 "cells": [
  {
   "cell_type": "code",
   "execution_count": 1,
   "id": "8bcb323b-e8a7-46dc-9494-6c1324428839",
   "metadata": {},
   "outputs": [],
   "source": [
    "import numpy as np\n",
    "import pandas as pd\n",
    "import matplotlib.pyplot as plt\n",
    "import seaborn as sns\n",
    "from sklearn.preprocessing import LabelEncoder\n",
    "from sklearn.model_selection import train_test_split\n",
    "from sklearn.metrics import mean_squared_error, r2_score\n",
    "from sklearn.linear_model import LinearRegression, Ridge, Lasso\n",
    "from sklearn.ensemble import RandomForestRegressor, ExtraTreesRegressor, AdaBoostRegressor, GradientBoostingRegressor, BaggingRegressor\n",
    "from lightgbm import LGBMRegressor\n",
    "from xgboost import XGBRegressor\n",
    "from sklearn.feature_selection import SelectKBest, f_regression"
   ]
  },
  {
   "cell_type": "code",
   "execution_count": 2,
   "id": "b8408391-5b11-46df-8f66-19f178d9e657",
   "metadata": {},
   "outputs": [
    {
     "data": {
      "text/html": [
       "<div>\n",
       "<style scoped>\n",
       "    .dataframe tbody tr th:only-of-type {\n",
       "        vertical-align: middle;\n",
       "    }\n",
       "\n",
       "    .dataframe tbody tr th {\n",
       "        vertical-align: top;\n",
       "    }\n",
       "\n",
       "    .dataframe thead th {\n",
       "        text-align: right;\n",
       "    }\n",
       "</style>\n",
       "<table border=\"1\" class=\"dataframe\">\n",
       "  <thead>\n",
       "    <tr style=\"text-align: right;\">\n",
       "      <th></th>\n",
       "      <th>AI Usage Rate (%)</th>\n",
       "      <th>AI Content Volume (TB/year)</th>\n",
       "      <th>AI Job Displacement (%)</th>\n",
       "      <th>AI Revenue Growth (%)</th>\n",
       "      <th>AI Company Share (%)</th>\n",
       "      <th>AI Trust Level (%)</th>\n",
       "    </tr>\n",
       "  </thead>\n",
       "  <tbody>\n",
       "    <tr>\n",
       "      <th>0</th>\n",
       "      <td>92.8687</td>\n",
       "      <td>32.0427</td>\n",
       "      <td>28.3327</td>\n",
       "      <td>73.1526</td>\n",
       "      <td>23.4880</td>\n",
       "      <td>42.8667</td>\n",
       "    </tr>\n",
       "    <tr>\n",
       "      <th>1</th>\n",
       "      <td>87.9504</td>\n",
       "      <td>22.7819</td>\n",
       "      <td>31.5425</td>\n",
       "      <td>17.1596</td>\n",
       "      <td>30.0360</td>\n",
       "      <td>33.6239</td>\n",
       "    </tr>\n",
       "    <tr>\n",
       "      <th>2</th>\n",
       "      <td>58.8744</td>\n",
       "      <td>59.1192</td>\n",
       "      <td>41.4354</td>\n",
       "      <td>24.3215</td>\n",
       "      <td>24.2937</td>\n",
       "      <td>76.0753</td>\n",
       "    </tr>\n",
       "    <tr>\n",
       "      <th>3</th>\n",
       "      <td>21.3525</td>\n",
       "      <td>66.7059</td>\n",
       "      <td>29.1964</td>\n",
       "      <td>49.3291</td>\n",
       "      <td>46.1369</td>\n",
       "      <td>75.4762</td>\n",
       "    </tr>\n",
       "    <tr>\n",
       "      <th>4</th>\n",
       "      <td>82.5507</td>\n",
       "      <td>53.1270</td>\n",
       "      <td>17.2975</td>\n",
       "      <td>52.8736</td>\n",
       "      <td>6.4636</td>\n",
       "      <td>77.8699</td>\n",
       "    </tr>\n",
       "  </tbody>\n",
       "</table>\n",
       "</div>"
      ],
      "text/plain": [
       "   AI Usage Rate (%)  AI Content Volume (TB/year)  AI Job Displacement (%)  \\\n",
       "0            92.8687                      32.0427                  28.3327   \n",
       "1            87.9504                      22.7819                  31.5425   \n",
       "2            58.8744                      59.1192                  41.4354   \n",
       "3            21.3525                      66.7059                  29.1964   \n",
       "4            82.5507                      53.1270                  17.2975   \n",
       "\n",
       "   AI Revenue Growth (%)  AI Company Share (%)  AI Trust Level (%)  \n",
       "0                73.1526               23.4880             42.8667  \n",
       "1                17.1596               30.0360             33.6239  \n",
       "2                24.3215               24.2937             76.0753  \n",
       "3                49.3291               46.1369             75.4762  \n",
       "4                52.8736                6.4636             77.8699  "
      ]
     },
     "execution_count": 2,
     "metadata": {},
     "output_type": "execute_result"
    }
   ],
   "source": [
    "train = pd.read_csv('Train.csv')\n",
    "train.head()"
   ]
  },
  {
   "cell_type": "code",
   "execution_count": 3,
   "id": "98c35996-01e0-4eed-968b-8df7d956adc4",
   "metadata": {},
   "outputs": [
    {
     "data": {
      "text/plain": [
       "(13224, 6)"
      ]
     },
     "execution_count": 3,
     "metadata": {},
     "output_type": "execute_result"
    }
   ],
   "source": [
    "train.shape"
   ]
  },
  {
   "cell_type": "code",
   "execution_count": 4,
   "id": "7f496b06-ae1d-42d0-9ad8-b1ce8f99fb0c",
   "metadata": {},
   "outputs": [
    {
     "data": {
      "text/plain": [
       "AI Usage Rate (%)              0\n",
       "AI Content Volume (TB/year)    0\n",
       "AI Job Displacement (%)        0\n",
       "AI Revenue Growth (%)          0\n",
       "AI Company Share (%)           0\n",
       "AI Trust Level (%)             0\n",
       "dtype: int64"
      ]
     },
     "execution_count": 4,
     "metadata": {},
     "output_type": "execute_result"
    }
   ],
   "source": [
    "train.isnull().sum()"
   ]
  },
  {
   "cell_type": "code",
   "execution_count": 5,
   "id": "5424182f-3c06-4c87-98f7-9dff90fe6822",
   "metadata": {},
   "outputs": [
    {
     "data": {
      "text/plain": [
       "0"
      ]
     },
     "execution_count": 5,
     "metadata": {},
     "output_type": "execute_result"
    }
   ],
   "source": [
    "train.duplicated().sum()"
   ]
  },
  {
   "cell_type": "code",
   "execution_count": 6,
   "id": "b88a2767-0368-4858-8a5e-93b11c0c08fb",
   "metadata": {},
   "outputs": [
    {
     "data": {
      "text/html": [
       "<div>\n",
       "<style scoped>\n",
       "    .dataframe tbody tr th:only-of-type {\n",
       "        vertical-align: middle;\n",
       "    }\n",
       "\n",
       "    .dataframe tbody tr th {\n",
       "        vertical-align: top;\n",
       "    }\n",
       "\n",
       "    .dataframe thead th {\n",
       "        text-align: right;\n",
       "    }\n",
       "</style>\n",
       "<table border=\"1\" class=\"dataframe\">\n",
       "  <thead>\n",
       "    <tr style=\"text-align: right;\">\n",
       "      <th></th>\n",
       "      <th>AI Usage Rate (%)</th>\n",
       "      <th>AI Content Volume (TB/year)</th>\n",
       "      <th>AI Job Displacement (%)</th>\n",
       "      <th>AI Revenue Growth (%)</th>\n",
       "      <th>AI Company Share (%)</th>\n",
       "      <th>AI Trust Level (%)</th>\n",
       "    </tr>\n",
       "  </thead>\n",
       "  <tbody>\n",
       "    <tr>\n",
       "      <th>count</th>\n",
       "      <td>13224.000000</td>\n",
       "      <td>13224.000000</td>\n",
       "      <td>13224.000000</td>\n",
       "      <td>13224.000000</td>\n",
       "      <td>13224.000000</td>\n",
       "      <td>13224.000000</td>\n",
       "    </tr>\n",
       "    <tr>\n",
       "      <th>mean</th>\n",
       "      <td>54.599830</td>\n",
       "      <td>46.573490</td>\n",
       "      <td>25.587164</td>\n",
       "      <td>40.185837</td>\n",
       "      <td>26.301977</td>\n",
       "      <td>59.606411</td>\n",
       "    </tr>\n",
       "    <tr>\n",
       "      <th>std</th>\n",
       "      <td>23.781708</td>\n",
       "      <td>28.870014</td>\n",
       "      <td>13.551123</td>\n",
       "      <td>23.402734</td>\n",
       "      <td>13.820715</td>\n",
       "      <td>17.022335</td>\n",
       "    </tr>\n",
       "    <tr>\n",
       "      <th>min</th>\n",
       "      <td>11.152200</td>\n",
       "      <td>1.047600</td>\n",
       "      <td>0.092900</td>\n",
       "      <td>0.140900</td>\n",
       "      <td>1.180000</td>\n",
       "      <td>30.129900</td>\n",
       "    </tr>\n",
       "    <tr>\n",
       "      <th>25%</th>\n",
       "      <td>34.027625</td>\n",
       "      <td>20.504600</td>\n",
       "      <td>15.129900</td>\n",
       "      <td>18.851725</td>\n",
       "      <td>14.060100</td>\n",
       "      <td>45.179175</td>\n",
       "    </tr>\n",
       "    <tr>\n",
       "      <th>50%</th>\n",
       "      <td>53.174150</td>\n",
       "      <td>45.112600</td>\n",
       "      <td>25.671250</td>\n",
       "      <td>42.750850</td>\n",
       "      <td>26.948550</td>\n",
       "      <td>59.478350</td>\n",
       "    </tr>\n",
       "    <tr>\n",
       "      <th>75%</th>\n",
       "      <td>76.125225</td>\n",
       "      <td>71.902475</td>\n",
       "      <td>37.112475</td>\n",
       "      <td>59.387675</td>\n",
       "      <td>38.272250</td>\n",
       "      <td>74.708225</td>\n",
       "    </tr>\n",
       "    <tr>\n",
       "      <th>max</th>\n",
       "      <td>94.731800</td>\n",
       "      <td>99.050700</td>\n",
       "      <td>49.708500</td>\n",
       "      <td>79.549500</td>\n",
       "      <td>49.279900</td>\n",
       "      <td>89.880000</td>\n",
       "    </tr>\n",
       "  </tbody>\n",
       "</table>\n",
       "</div>"
      ],
      "text/plain": [
       "       AI Usage Rate (%)  AI Content Volume (TB/year)  \\\n",
       "count       13224.000000                 13224.000000   \n",
       "mean           54.599830                    46.573490   \n",
       "std            23.781708                    28.870014   \n",
       "min            11.152200                     1.047600   \n",
       "25%            34.027625                    20.504600   \n",
       "50%            53.174150                    45.112600   \n",
       "75%            76.125225                    71.902475   \n",
       "max            94.731800                    99.050700   \n",
       "\n",
       "       AI Job Displacement (%)  AI Revenue Growth (%)  AI Company Share (%)  \\\n",
       "count             13224.000000           13224.000000          13224.000000   \n",
       "mean                 25.587164              40.185837             26.301977   \n",
       "std                  13.551123              23.402734             13.820715   \n",
       "min                   0.092900               0.140900              1.180000   \n",
       "25%                  15.129900              18.851725             14.060100   \n",
       "50%                  25.671250              42.750850             26.948550   \n",
       "75%                  37.112475              59.387675             38.272250   \n",
       "max                  49.708500              79.549500             49.279900   \n",
       "\n",
       "       AI Trust Level (%)  \n",
       "count        13224.000000  \n",
       "mean            59.606411  \n",
       "std             17.022335  \n",
       "min             30.129900  \n",
       "25%             45.179175  \n",
       "50%             59.478350  \n",
       "75%             74.708225  \n",
       "max             89.880000  "
      ]
     },
     "execution_count": 6,
     "metadata": {},
     "output_type": "execute_result"
    }
   ],
   "source": [
    "train.describe()"
   ]
  },
  {
   "cell_type": "code",
   "execution_count": 7,
   "id": "e1f3c34c-ce47-46d5-93d1-2121b2aef2cc",
   "metadata": {},
   "outputs": [
    {
     "data": {
      "text/html": [
       "<div>\n",
       "<style scoped>\n",
       "    .dataframe tbody tr th:only-of-type {\n",
       "        vertical-align: middle;\n",
       "    }\n",
       "\n",
       "    .dataframe tbody tr th {\n",
       "        vertical-align: top;\n",
       "    }\n",
       "\n",
       "    .dataframe thead th {\n",
       "        text-align: right;\n",
       "    }\n",
       "</style>\n",
       "<table border=\"1\" class=\"dataframe\">\n",
       "  <thead>\n",
       "    <tr style=\"text-align: right;\">\n",
       "      <th></th>\n",
       "      <th>AI Usage Rate (%)</th>\n",
       "      <th>AI Content Volume (TB/year)</th>\n",
       "      <th>AI Job Displacement (%)</th>\n",
       "      <th>AI Revenue Growth (%)</th>\n",
       "      <th>AI Company Share (%)</th>\n",
       "      <th>AI Trust Level (%)</th>\n",
       "    </tr>\n",
       "  </thead>\n",
       "  <tbody>\n",
       "    <tr>\n",
       "      <th>0</th>\n",
       "      <td>38.2724</td>\n",
       "      <td>77.1922</td>\n",
       "      <td>48.0387</td>\n",
       "      <td>74.6022</td>\n",
       "      <td>13.9205</td>\n",
       "      <td>NaN</td>\n",
       "    </tr>\n",
       "    <tr>\n",
       "      <th>1</th>\n",
       "      <td>46.0732</td>\n",
       "      <td>5.1294</td>\n",
       "      <td>10.2898</td>\n",
       "      <td>64.8858</td>\n",
       "      <td>20.4068</td>\n",
       "      <td>NaN</td>\n",
       "    </tr>\n",
       "    <tr>\n",
       "      <th>2</th>\n",
       "      <td>26.1318</td>\n",
       "      <td>37.3251</td>\n",
       "      <td>32.5000</td>\n",
       "      <td>67.5758</td>\n",
       "      <td>43.1477</td>\n",
       "      <td>NaN</td>\n",
       "    </tr>\n",
       "    <tr>\n",
       "      <th>3</th>\n",
       "      <td>25.9315</td>\n",
       "      <td>43.2346</td>\n",
       "      <td>27.0721</td>\n",
       "      <td>61.8256</td>\n",
       "      <td>47.5778</td>\n",
       "      <td>NaN</td>\n",
       "    </tr>\n",
       "    <tr>\n",
       "      <th>4</th>\n",
       "      <td>66.4651</td>\n",
       "      <td>56.9111</td>\n",
       "      <td>47.9087</td>\n",
       "      <td>10.2990</td>\n",
       "      <td>10.8309</td>\n",
       "      <td>NaN</td>\n",
       "    </tr>\n",
       "  </tbody>\n",
       "</table>\n",
       "</div>"
      ],
      "text/plain": [
       "   AI Usage Rate (%)  AI Content Volume (TB/year)  AI Job Displacement (%)  \\\n",
       "0            38.2724                      77.1922                  48.0387   \n",
       "1            46.0732                       5.1294                  10.2898   \n",
       "2            26.1318                      37.3251                  32.5000   \n",
       "3            25.9315                      43.2346                  27.0721   \n",
       "4            66.4651                      56.9111                  47.9087   \n",
       "\n",
       "   AI Revenue Growth (%)  AI Company Share (%)  AI Trust Level (%)  \n",
       "0                74.6022               13.9205                 NaN  \n",
       "1                64.8858               20.4068                 NaN  \n",
       "2                67.5758               43.1477                 NaN  \n",
       "3                61.8256               47.5778                 NaN  \n",
       "4                10.2990               10.8309                 NaN  "
      ]
     },
     "execution_count": 7,
     "metadata": {},
     "output_type": "execute_result"
    }
   ],
   "source": [
    "test = pd.read_csv('Test.csv')\n",
    "test.head()"
   ]
  },
  {
   "cell_type": "code",
   "execution_count": 8,
   "id": "f725c386-d56f-4033-b4da-03f01545ab59",
   "metadata": {},
   "outputs": [
    {
     "data": {
      "text/plain": [
       "(300, 6)"
      ]
     },
     "execution_count": 8,
     "metadata": {},
     "output_type": "execute_result"
    }
   ],
   "source": [
    "test.shape"
   ]
  },
  {
   "cell_type": "code",
   "execution_count": 9,
   "id": "5a429845-5f17-4d50-ade1-df3a8ee18a5f",
   "metadata": {},
   "outputs": [
    {
     "data": {
      "text/plain": [
       "AI Usage Rate (%)                0\n",
       "AI Content Volume (TB/year)      0\n",
       "AI Job Displacement (%)          0\n",
       "AI Revenue Growth (%)            0\n",
       "AI Company Share (%)             0\n",
       "AI Trust Level (%)             300\n",
       "dtype: int64"
      ]
     },
     "execution_count": 9,
     "metadata": {},
     "output_type": "execute_result"
    }
   ],
   "source": [
    "test.isnull().sum()"
   ]
  },
  {
   "cell_type": "code",
   "execution_count": 10,
   "id": "4f3d8770-4261-404c-a98c-a812f492f3b5",
   "metadata": {},
   "outputs": [
    {
     "data": {
      "text/plain": [
       "0"
      ]
     },
     "execution_count": 10,
     "metadata": {},
     "output_type": "execute_result"
    }
   ],
   "source": [
    "test.duplicated().sum()"
   ]
  },
  {
   "cell_type": "code",
   "execution_count": 11,
   "id": "c1f5e04a-ce45-427a-a14e-6d82e6565c43",
   "metadata": {},
   "outputs": [
    {
     "data": {
      "text/plain": [
       "(13524, 6)"
      ]
     },
     "execution_count": 11,
     "metadata": {},
     "output_type": "execute_result"
    }
   ],
   "source": [
    "combined = pd.concat([train, test], axis = 0)\n",
    "combined.shape"
   ]
  },
  {
   "cell_type": "code",
   "execution_count": 12,
   "id": "6f95886b-4b3f-4ba6-abd7-689b2e9a62c9",
   "metadata": {},
   "outputs": [
    {
     "name": "stderr",
     "output_type": "stream",
     "text": [
      "C:\\Users\\ahpat\\AppData\\Local\\Temp\\ipykernel_8900\\3525261229.py:1: UserWarning: \n",
      "\n",
      "`distplot` is a deprecated function and will be removed in seaborn v0.14.0.\n",
      "\n",
      "Please adapt your code to use either `displot` (a figure-level function with\n",
      "similar flexibility) or `histplot` (an axes-level function for histograms).\n",
      "\n",
      "For a guide to updating your code to use the new functions, please see\n",
      "https://gist.github.com/mwaskom/de44147ed2974457ad6372750bbe5751\n",
      "\n",
      "  sns.distplot(train['AI Trust Level (%)'], kde = True)\n"
     ]
    },
    {
     "data": {
      "text/plain": [
       "<Axes: xlabel='AI Trust Level (%)', ylabel='Density'>"
      ]
     },
     "execution_count": 12,
     "metadata": {},
     "output_type": "execute_result"
    },
    {
     "data": {
      "image/png": "[encoded data removed]",
      "text/plain": [
       "<Figure size 640x480 with 1 Axes>"
      ]
     },
     "metadata": {},
     "output_type": "display_data"
    }
   ],
   "source": [
    "sns.distplot(train['AI Trust Level (%)'], kde = True)"
   ]
  },
  {
   "cell_type": "code",
   "execution_count": 13,
   "id": "b74dcf3c-4552-4e81-ad7a-7c212ce7bab2",
   "metadata": {},
   "outputs": [],
   "source": [
    "input_variables = combined.drop('AI Trust Level (%)', axis = 1)"
   ]
  },
  {
   "cell_type": "code",
   "execution_count": 14,
   "id": "2babe286-dffb-47d2-a2dd-e2d14c60256e",
   "metadata": {},
   "outputs": [],
   "source": [
    "def replace_outliers(df, column):\n",
    "    q1 = df[column].quantile(0.25)\n",
    "    q3 = df[column].quantile(0.75)\n",
    "    iqr = q3-q1\n",
    "    lower = q1-1.5*iqr\n",
    "    upper = q3+1.5*iqr\n",
    "    median_value = df[column].median()\n",
    "    df[column] = np.where((df[column]<lower)|(df[column]>upper), median_value, df[column])\n",
    "    return df"
   ]
  },
  {
   "cell_type": "code",
   "execution_count": 15,
   "id": "6e04a519-4b85-412c-9473-440bebae5cb2",
   "metadata": {},
   "outputs": [],
   "source": [
    "for col in input_variables.columns:\n",
    "    concat_df = replace_outliers(combined, col)"
   ]
  },
  {
   "cell_type": "code",
   "execution_count": 16,
   "id": "45bcfe89-d4b3-4c70-b04e-3e3217d1f6ad",
   "metadata": {},
   "outputs": [
    {
     "data": {
      "image/png": "[encoded data removed]",
      "text/plain": [
       "<Figure size 1500x500 with 6 Axes>"
      ]
     },
     "metadata": {},
     "output_type": "display_data"
    }
   ],
   "source": [
    "fig, axes = plt.subplots(2, 3, figsize=(15,5))\n",
    "axes = axes.flatten()\n",
    "\n",
    "for i, col in enumerate(input_variables.columns):\n",
    "    sns.boxplot(data = combined, y=col, ax=axes[i])\n",
    "    axes[i].set_title(f'Bloxplot of {col}')\n",
    "\n",
    "plt.tight_layout()\n",
    "plt.show()"
   ]
  },
  {
   "cell_type": "code",
   "execution_count": 17,
   "id": "1757706b-8ab0-44b4-a88b-4e52d4553fef",
   "metadata": {},
   "outputs": [],
   "source": [
    "combined['usage_revenue'] = combined['AI Usage Rate (%)'] * combined['AI Revenue Growth (%)']\n",
    "combined['usage_company'] = combined['AI Usage Rate (%)'] * combined['AI Company Share (%)']\n",
    "combined['displacement_usage'] = combined['AI Job Displacement (%)'] * combined['AI Usage Rate (%)']\n",
    "combined['displacement_revenue'] = combined['AI Job Displacement (%)'] / (combined['AI Revenue Growth (%)'] + 1e-5)\n",
    "combined['content_usage'] = combined['AI Content Volume (TB/year)'] / (combined['AI Usage Rate (%)'] + 1e-5)\n",
    "combined['total_impact'] = combined[['AI Usage Rate (%)', 'AI Job Displacement (%)', 'AI Revenue Growth (%)']].sum(axis=1)\n",
    "combined['market_influence'] = combined['AI Usage Rate (%)'] + combined['AI Company Share (%)']\n",
    "combined['disruption_index'] = combined['AI Job Displacement (%)'] + combined['AI Content Volume (TB/year)']\n",
    "combined['max_input'] = combined[['AI Usage Rate (%)', 'AI Content Volume (TB/year)', 'AI Job Displacement (%)', 'AI Revenue Growth (%)', 'AI Company Share (%)']].max(axis=1)\n",
    "combined['min_input'] = combined[['AI Usage Rate (%)', 'AI Content Volume (TB/year)', 'AI Job Displacement (%)', 'AI Revenue Growth (%)', 'AI Company Share (%)']].min(axis=1)\n",
    "combined['mean_input'] = combined[['AI Usage Rate (%)', 'AI Content Volume (TB/year)', 'AI Job Displacement (%)', 'AI Revenue Growth (%)', 'AI Company Share (%)']].mean(axis=1)\n",
    "combined['std_input'] = combined[['AI Usage Rate (%)', 'AI Content Volume (TB/year)', 'AI Job Displacement (%)', 'AI Revenue Growth (%)', 'AI Company Share (%)']].std(axis=1)\n",
    "combined['adoption_disruption'] = combined['AI Usage Rate (%)'] / (combined['AI Job Displacement (%)'] + 1e-5)\n",
    "combined['content_efficiency'] = combined['AI Content Volume (TB/year)'] / (combined['AI Usage Rate (%)'] + 1e-5)\n",
    "combined['revenue_per_share'] = combined['AI Revenue Growth (%)'] / (combined['AI Company Share (%)'] + 1e-5)\n",
    "combined['log_content_volume'] = np.log(combined['AI Content Volume (TB/year)'] + 1)\n",
    "combined['log_revenue_growth'] = np.log(combined['AI Revenue Growth (%)'] + 1)\n",
    "combined['log_displacement'] = np.log(combined['AI Job Displacement (%)'] + 1)"
   ]
  },
  {
   "cell_type": "code",
   "execution_count": 18,
   "id": "9e2e9cb3-c0bd-4f82-a24f-daf130c92431",
   "metadata": {},
   "outputs": [
    {
     "name": "stdout",
     "output_type": "stream",
     "text": [
      "<class 'pandas.core.frame.DataFrame'>\n",
      "Index: 13524 entries, 0 to 299\n",
      "Data columns (total 24 columns):\n",
      " #   Column                       Non-Null Count  Dtype  \n",
      "---  ------                       --------------  -----  \n",
      " 0   AI Usage Rate (%)            13524 non-null  float64\n",
      " 1   AI Content Volume (TB/year)  13524 non-null  float64\n",
      " 2   AI Job Displacement (%)      13524 non-null  float64\n",
      " 3   AI Revenue Growth (%)        13524 non-null  float64\n",
      " 4   AI Company Share (%)         13524 non-null  float64\n",
      " 5   AI Trust Level (%)           13224 non-null  float64\n",
      " 6   usage_revenue                13524 non-null  float64\n",
      " 7   usage_company                13524 non-null  float64\n",
      " 8   displacement_usage           13524 non-null  float64\n",
      " 9   displacement_revenue         13524 non-null  float64\n",
      " 10  content_usage                13524 non-null  float64\n",
      " 11  total_impact                 13524 non-null  float64\n",
      " 12  market_influence             13524 non-null  float64\n",
      " 13  disruption_index             13524 non-null  float64\n",
      " 14  max_input                    13524 non-null  float64\n",
      " 15  min_input                    13524 non-null  float64\n",
      " 16  mean_input                   13524 non-null  float64\n",
      " 17  std_input                    13524 non-null  float64\n",
      " 18  adoption_disruption          13524 non-null  float64\n",
      " 19  content_efficiency           13524 non-null  float64\n",
      " 20  revenue_per_share            13524 non-null  float64\n",
      " 21  log_content_volume           13524 non-null  float64\n",
      " 22  log_revenue_growth           13524 non-null  float64\n",
      " 23  log_displacement             13524 non-null  float64\n",
      "dtypes: float64(24)\n",
      "memory usage: 2.6 MB\n"
     ]
    }
   ],
   "source": [
    "combined.info()"
   ]
  },
  {
   "cell_type": "code",
   "execution_count": 19,
   "id": "d1549f90-6b81-4a8b-b22d-903efa51db11",
   "metadata": {},
   "outputs": [],
   "source": [
    "newtrain = combined.iloc[0:13224, :]\n",
    "newtest = combined.iloc[13224:, :].drop('AI Trust Level (%)', axis = 1)"
   ]
  },
  {
   "cell_type": "code",
   "execution_count": 20,
   "id": "973bb8f1-9321-4279-b588-d749684209b7",
   "metadata": {},
   "outputs": [
    {
     "data": {
      "text/html": [
       "<div>\n",
       "<style scoped>\n",
       "    .dataframe tbody tr th:only-of-type {\n",
       "        vertical-align: middle;\n",
       "    }\n",
       "\n",
       "    .dataframe tbody tr th {\n",
       "        vertical-align: top;\n",
       "    }\n",
       "\n",
       "    .dataframe thead th {\n",
       "        text-align: right;\n",
       "    }\n",
       "</style>\n",
       "<table border=\"1\" class=\"dataframe\">\n",
       "  <thead>\n",
       "    <tr style=\"text-align: right;\">\n",
       "      <th></th>\n",
       "      <th>AI Usage Rate (%)</th>\n",
       "      <th>AI Content Volume (TB/year)</th>\n",
       "      <th>AI Job Displacement (%)</th>\n",
       "      <th>AI Revenue Growth (%)</th>\n",
       "      <th>AI Company Share (%)</th>\n",
       "      <th>AI Trust Level (%)</th>\n",
       "      <th>usage_revenue</th>\n",
       "      <th>usage_company</th>\n",
       "      <th>displacement_usage</th>\n",
       "      <th>displacement_revenue</th>\n",
       "      <th>...</th>\n",
       "      <th>max_input</th>\n",
       "      <th>min_input</th>\n",
       "      <th>mean_input</th>\n",
       "      <th>std_input</th>\n",
       "      <th>adoption_disruption</th>\n",
       "      <th>content_efficiency</th>\n",
       "      <th>revenue_per_share</th>\n",
       "      <th>log_content_volume</th>\n",
       "      <th>log_revenue_growth</th>\n",
       "      <th>log_displacement</th>\n",
       "    </tr>\n",
       "  </thead>\n",
       "  <tbody>\n",
       "    <tr>\n",
       "      <th>0</th>\n",
       "      <td>92.8687</td>\n",
       "      <td>32.0427</td>\n",
       "      <td>28.3327</td>\n",
       "      <td>73.1526</td>\n",
       "      <td>23.4880</td>\n",
       "      <td>42.8667</td>\n",
       "      <td>6793.586864</td>\n",
       "      <td>2181.300026</td>\n",
       "      <td>2631.221016</td>\n",
       "      <td>0.387309</td>\n",
       "      <td>...</td>\n",
       "      <td>92.8687</td>\n",
       "      <td>23.4880</td>\n",
       "      <td>49.97694</td>\n",
       "      <td>31.098988</td>\n",
       "      <td>3.277791</td>\n",
       "      <td>0.345032</td>\n",
       "      <td>3.114466</td>\n",
       "      <td>3.497801</td>\n",
       "      <td>4.306125</td>\n",
       "      <td>3.378703</td>\n",
       "    </tr>\n",
       "    <tr>\n",
       "      <th>1</th>\n",
       "      <td>87.9504</td>\n",
       "      <td>22.7819</td>\n",
       "      <td>31.5425</td>\n",
       "      <td>17.1596</td>\n",
       "      <td>30.0360</td>\n",
       "      <td>33.6239</td>\n",
       "      <td>1509.193684</td>\n",
       "      <td>2641.678214</td>\n",
       "      <td>2774.175492</td>\n",
       "      <td>1.838183</td>\n",
       "      <td>...</td>\n",
       "      <td>87.9504</td>\n",
       "      <td>17.1596</td>\n",
       "      <td>37.89408</td>\n",
       "      <td>28.574568</td>\n",
       "      <td>2.788313</td>\n",
       "      <td>0.259031</td>\n",
       "      <td>0.571301</td>\n",
       "      <td>3.168925</td>\n",
       "      <td>2.899199</td>\n",
       "      <td>3.482547</td>\n",
       "    </tr>\n",
       "    <tr>\n",
       "      <th>2</th>\n",
       "      <td>58.8744</td>\n",
       "      <td>59.1192</td>\n",
       "      <td>41.4354</td>\n",
       "      <td>24.3215</td>\n",
       "      <td>24.2937</td>\n",
       "      <td>76.0753</td>\n",
       "      <td>1431.913720</td>\n",
       "      <td>1430.277011</td>\n",
       "      <td>2439.484314</td>\n",
       "      <td>1.703652</td>\n",
       "      <td>...</td>\n",
       "      <td>59.1192</td>\n",
       "      <td>24.2937</td>\n",
       "      <td>41.60884</td>\n",
       "      <td>17.345090</td>\n",
       "      <td>1.420872</td>\n",
       "      <td>1.004158</td>\n",
       "      <td>1.001144</td>\n",
       "      <td>4.096329</td>\n",
       "      <td>3.231654</td>\n",
       "      <td>3.747983</td>\n",
       "    </tr>\n",
       "    <tr>\n",
       "      <th>3</th>\n",
       "      <td>21.3525</td>\n",
       "      <td>66.7059</td>\n",
       "      <td>29.1964</td>\n",
       "      <td>49.3291</td>\n",
       "      <td>46.1369</td>\n",
       "      <td>75.4762</td>\n",
       "      <td>1053.299608</td>\n",
       "      <td>985.138157</td>\n",
       "      <td>623.416131</td>\n",
       "      <td>0.591870</td>\n",
       "      <td>...</td>\n",
       "      <td>66.7059</td>\n",
       "      <td>21.3525</td>\n",
       "      <td>42.54416</td>\n",
       "      <td>17.818404</td>\n",
       "      <td>0.731340</td>\n",
       "      <td>3.124031</td>\n",
       "      <td>1.069190</td>\n",
       "      <td>4.215173</td>\n",
       "      <td>3.918583</td>\n",
       "      <td>3.407723</td>\n",
       "    </tr>\n",
       "    <tr>\n",
       "      <th>4</th>\n",
       "      <td>82.5507</td>\n",
       "      <td>53.1270</td>\n",
       "      <td>17.2975</td>\n",
       "      <td>52.8736</td>\n",
       "      <td>6.4636</td>\n",
       "      <td>77.8699</td>\n",
       "      <td>4364.752692</td>\n",
       "      <td>533.574705</td>\n",
       "      <td>1427.920733</td>\n",
       "      <td>0.327148</td>\n",
       "      <td>...</td>\n",
       "      <td>82.5507</td>\n",
       "      <td>6.4636</td>\n",
       "      <td>42.46248</td>\n",
       "      <td>30.652832</td>\n",
       "      <td>4.772404</td>\n",
       "      <td>0.643568</td>\n",
       "      <td>8.180197</td>\n",
       "      <td>3.991333</td>\n",
       "      <td>3.986641</td>\n",
       "      <td>2.906764</td>\n",
       "    </tr>\n",
       "  </tbody>\n",
       "</table>\n",
       "<p>5 rows × 24 columns</p>\n",
       "</div>"
      ],
      "text/plain": [
       "   AI Usage Rate (%)  AI Content Volume (TB/year)  AI Job Displacement (%)  \\\n",
       "0            92.8687                      32.0427                  28.3327   \n",
       "1            87.9504                      22.7819                  31.5425   \n",
       "2            58.8744                      59.1192                  41.4354   \n",
       "3            21.3525                      66.7059                  29.1964   \n",
       "4            82.5507                      53.1270                  17.2975   \n",
       "\n",
       "   AI Revenue Growth (%)  AI Company Share (%)  AI Trust Level (%)  \\\n",
       "0                73.1526               23.4880             42.8667   \n",
       "1                17.1596               30.0360             33.6239   \n",
       "2                24.3215               24.2937             76.0753   \n",
       "3                49.3291               46.1369             75.4762   \n",
       "4                52.8736                6.4636             77.8699   \n",
       "\n",
       "   usage_revenue  usage_company  displacement_usage  displacement_revenue  \\\n",
       "0    6793.586864    2181.300026         2631.221016              0.387309   \n",
       "1    1509.193684    2641.678214         2774.175492              1.838183   \n",
       "2    1431.913720    1430.277011         2439.484314              1.703652   \n",
       "3    1053.299608     985.138157          623.416131              0.591870   \n",
       "4    4364.752692     533.574705         1427.920733              0.327148   \n",
       "\n",
       "   ...  max_input  min_input  mean_input  std_input  adoption_disruption  \\\n",
       "0  ...    92.8687    23.4880    49.97694  31.098988             3.277791   \n",
       "1  ...    87.9504    17.1596    37.89408  28.574568             2.788313   \n",
       "2  ...    59.1192    24.2937    41.60884  17.345090             1.420872   \n",
       "3  ...    66.7059    21.3525    42.54416  17.818404             0.731340   \n",
       "4  ...    82.5507     6.4636    42.46248  30.652832             4.772404   \n",
       "\n",
       "   content_efficiency  revenue_per_share  log_content_volume  \\\n",
       "0            0.345032           3.114466            3.497801   \n",
       "1            0.259031           0.571301            3.168925   \n",
       "2            1.004158           1.001144            4.096329   \n",
       "3            3.124031           1.069190            4.215173   \n",
       "4            0.643568           8.180197            3.991333   \n",
       "\n",
       "   log_revenue_growth  log_displacement  \n",
       "0            4.306125          3.378703  \n",
       "1            2.899199          3.482547  \n",
       "2            3.231654          3.747983  \n",
       "3            3.918583          3.407723  \n",
       "4            3.986641          2.906764  \n",
       "\n",
       "[5 rows x 24 columns]"
      ]
     },
     "execution_count": 20,
     "metadata": {},
     "output_type": "execute_result"
    }
   ],
   "source": [
    "newtrain.head()"
   ]
  },
  {
   "cell_type": "code",
   "execution_count": 21,
   "id": "6fb988a7-7b66-4da1-aebb-a4a0c135baea",
   "metadata": {},
   "outputs": [
    {
     "data": {
      "text/plain": [
       "(13224, 24)"
      ]
     },
     "execution_count": 21,
     "metadata": {},
     "output_type": "execute_result"
    }
   ],
   "source": [
    "newtrain.shape"
   ]
  },
  {
   "cell_type": "code",
   "execution_count": 22,
   "id": "11d943b9-27ea-487d-976d-8e39d9522345",
   "metadata": {},
   "outputs": [
    {
     "data": {
      "text/plain": [
       "(300, 23)"
      ]
     },
     "execution_count": 22,
     "metadata": {},
     "output_type": "execute_result"
    }
   ],
   "source": [
    "newtest.shape"
   ]
  },
  {
   "cell_type": "code",
   "execution_count": 23,
   "id": "cd135155-38bb-413a-a318-724c8f3d314d",
   "metadata": {},
   "outputs": [
    {
     "name": "stdout",
     "output_type": "stream",
     "text": [
      "Top 12 selected features:\n",
      "Index(['AI Usage Rate (%)', 'AI Content Volume (TB/year)',\n",
      "       'AI Company Share (%)', 'usage_revenue', 'usage_company',\n",
      "       'displacement_usage', 'total_impact', 'market_influence',\n",
      "       'disruption_index', 'max_input', 'adoption_disruption',\n",
      "       'revenue_per_share'],\n",
      "      dtype='object')\n"
     ]
    }
   ],
   "source": [
    "X = newtrain.drop(columns=['AI Trust Level (%)'])\n",
    "y = newtrain['AI Trust Level (%)']\n",
    "k = 12  \n",
    "selector = SelectKBest(score_func=f_regression, k=k)\n",
    "selector.fit(X, y)\n",
    "mask = selector.get_support()\n",
    "selected_features = X.columns[mask]\n",
    "print(f\"Top {k} selected features:\")\n",
    "print(selected_features)"
   ]
  },
  {
   "cell_type": "code",
   "execution_count": 24,
   "id": "efc3a9eb-9806-4df4-bde3-105d2a34de7a",
   "metadata": {},
   "outputs": [
    {
     "name": "stdout",
     "output_type": "stream",
     "text": [
      "AI Trust Level (%)             1.000000\n",
      "usage_company                  0.009943\n",
      "market_influence               0.006275\n",
      "AI Company Share (%)           0.005495\n",
      "AI Usage Rate (%)              0.004063\n",
      "total_impact                   0.002750\n",
      "displacement_usage             0.002441\n",
      "usage_revenue                  0.002427\n",
      "displacement_revenue           0.002100\n",
      "mean_input                     0.002088\n",
      "AI Job Displacement (%)        0.000512\n",
      "log_displacement              -0.000100\n",
      "AI Revenue Growth (%)         -0.000168\n",
      "std_input                     -0.000241\n",
      "log_content_volume            -0.001339\n",
      "content_usage                 -0.001750\n",
      "content_efficiency            -0.001750\n",
      "min_input                     -0.001931\n",
      "log_revenue_growth            -0.002027\n",
      "disruption_index              -0.002135\n",
      "max_input                     -0.002147\n",
      "AI Content Volume (TB/year)   -0.002584\n",
      "adoption_disruption           -0.010568\n",
      "revenue_per_share             -0.016390\n",
      "Name: AI Trust Level (%), dtype: float64\n"
     ]
    }
   ],
   "source": [
    "correlation_matrix = newtrain.corr()\n",
    "target_corr = correlation_matrix[\"AI Trust Level (%)\"].sort_values(ascending=False)\n",
    "print(target_corr)"
   ]
  },
  {
   "cell_type": "code",
   "execution_count": 121,
   "id": "db9b2662-28ee-49ee-8f7d-9adcdfb63fff",
   "metadata": {},
   "outputs": [],
   "source": [
    "x = newtrain[['usage_company', 'usage_revenue', 'AI Company Share (%)', 'AI Usage Rate (%)', 'AI Content Volume (TB/year)']]\n",
    "y = newtrain['AI Trust Level (%)']"
   ]
  },
  {
   "cell_type": "code",
   "execution_count": 123,
   "id": "f6228128-2632-4d8c-a6c4-b850b8c2e537",
   "metadata": {},
   "outputs": [],
   "source": [
    "x_train, x_test, y_train, y_test = train_test_split(x, y, test_size = 0.2, random_state = 1)"
   ]
  },
  {
   "cell_type": "code",
   "execution_count": 125,
   "id": "98a8a3e1-34d1-436b-90dc-830c135d2c59",
   "metadata": {},
   "outputs": [],
   "source": [
    "models = {'Linear Regression': LinearRegression(), 'Random Forest': RandomForestRegressor(),\n",
    "         'Bagging': BaggingRegressor(), 'Extra Tree': ExtraTreesRegressor(), 'LightGBM': LGBMRegressor(),\n",
    "         'Gradient Boosting': GradientBoostingRegressor(), 'Adaboost': AdaBoostRegressor(),\n",
    "         'XGB': XGBRegressor(), 'lasso': Lasso(), 'ridge' : Ridge()}"
   ]
  },
  {
   "cell_type": "code",
   "execution_count": 127,
   "id": "b7685780-420e-4933-817f-5f7aa359ab82",
   "metadata": {},
   "outputs": [],
   "source": [
    "def evaluate_models(x_train, x_test, y_train, y_test, models):\n",
    "    results = {}\n",
    "    for name, model in models.items():\n",
    "        predictions = model.fit(x_train, y_train).predict(x_test)\n",
    "        accuracy = r2_score(y_test, predictions)\n",
    "        results[name] = accuracy\n",
    "    return results"
   ]
  },
  {
   "cell_type": "code",
   "execution_count": 129,
   "id": "0754ae56-8bf4-4167-91dd-55744120bd38",
   "metadata": {},
   "outputs": [
    {
     "name": "stdout",
     "output_type": "stream",
     "text": [
      "[LightGBM] [Warning] Found whitespace in feature_names, replace with underlines\n",
      "[LightGBM] [Info] Auto-choosing col-wise multi-threading, the overhead of testing was 0.001154 seconds.\n",
      "You can set `force_col_wise=true` to remove the overhead.\n",
      "[LightGBM] [Info] Total Bins 1275\n",
      "[LightGBM] [Info] Number of data points in the train set: 10579, number of used features: 5\n",
      "[LightGBM] [Info] Start training from score 59.593909\n"
     ]
    }
   ],
   "source": [
    "results = evaluate_models(x_train, x_test, y_train, y_test, models)"
   ]
  },
  {
   "cell_type": "code",
   "execution_count": 130,
   "id": "107dc3c8-3568-422b-ac5c-d59d00ef3923",
   "metadata": {},
   "outputs": [],
   "source": [
    "best_model_name = max(results, key = results.get)\n",
    "best_model = models[best_model_name]"
   ]
  },
  {
   "cell_type": "code",
   "execution_count": 131,
   "id": "dd0b8cb6-ecc0-4f40-8bbf-84364f74451d",
   "metadata": {},
   "outputs": [
    {
     "name": "stdout",
     "output_type": "stream",
     "text": [
      "best model is Adaboost with r2_square 0.00022465429129114867\n"
     ]
    }
   ],
   "source": [
    "print(f\"best model is {best_model_name} with r2_square {results[best_model_name]}\")"
   ]
  },
  {
   "cell_type": "code",
   "execution_count": 132,
   "id": "71ed3419-c6d8-4e82-8293-a8be8eb1ca7f",
   "metadata": {},
   "outputs": [],
   "source": [
    "y_pred = best_model.fit(x_train, y_train).predict(x_test)"
   ]
  },
  {
   "cell_type": "code",
   "execution_count": 133,
   "id": "f289bfc3-bb17-4ab9-997e-311626541d8b",
   "metadata": {},
   "outputs": [
    {
     "name": "stdout",
     "output_type": "stream",
     "text": [
      "-0.010014893848586892\n"
     ]
    }
   ],
   "source": [
    "print(r2_score(y_test, y_pred))"
   ]
  },
  {
   "cell_type": "code",
   "execution_count": 134,
   "id": "750334af-8876-4c27-9f3f-d2d9e9d68053",
   "metadata": {},
   "outputs": [],
   "source": [
    "x_train = newtrain[['usage_company', 'usage_revenue', 'AI Company Share (%)', 'AI Usage Rate (%)', 'AI Content Volume (TB/year)']]\n",
    "y_train = newtrain['AI Trust Level (%)']\n",
    "x_test = newtest[['usage_company', 'usage_revenue', 'AI Company Share (%)', 'AI Usage Rate (%)', 'AI Content Volume (TB/year)']]\n",
    "y_pred = best_model.fit(x_train, y_train).predict(x_test)"
   ]
  },
  {
   "cell_type": "code",
   "execution_count": 141,
   "id": "e4bbbabf-4fef-45a6-82c0-55eaa8c51c20",
   "metadata": {},
   "outputs": [
    {
     "data": {
      "text/html": [
       "<div>\n",
       "<style scoped>\n",
       "    .dataframe tbody tr th:only-of-type {\n",
       "        vertical-align: middle;\n",
       "    }\n",
       "\n",
       "    .dataframe tbody tr th {\n",
       "        vertical-align: top;\n",
       "    }\n",
       "\n",
       "    .dataframe thead th {\n",
       "        text-align: right;\n",
       "    }\n",
       "</style>\n",
       "<table border=\"1\" class=\"dataframe\">\n",
       "  <thead>\n",
       "    <tr style=\"text-align: right;\">\n",
       "      <th></th>\n",
       "      <th>AI Trust Level (%)</th>\n",
       "    </tr>\n",
       "  </thead>\n",
       "  <tbody>\n",
       "    <tr>\n",
       "      <th>0</th>\n",
       "      <td>59.607449</td>\n",
       "    </tr>\n",
       "    <tr>\n",
       "      <th>1</th>\n",
       "      <td>59.469550</td>\n",
       "    </tr>\n",
       "    <tr>\n",
       "      <th>2</th>\n",
       "      <td>59.607449</td>\n",
       "    </tr>\n",
       "    <tr>\n",
       "      <th>3</th>\n",
       "      <td>59.469550</td>\n",
       "    </tr>\n",
       "    <tr>\n",
       "      <th>4</th>\n",
       "      <td>59.607449</td>\n",
       "    </tr>\n",
       "  </tbody>\n",
       "</table>\n",
       "</div>"
      ],
      "text/plain": [
       "   AI Trust Level (%)\n",
       "0           59.607449\n",
       "1           59.469550\n",
       "2           59.607449\n",
       "3           59.469550\n",
       "4           59.607449"
      ]
     },
     "execution_count": 141,
     "metadata": {},
     "output_type": "execute_result"
    }
   ],
   "source": [
    "solution = pd.DataFrame({'AI Trust Level (%)': y_pred})\n",
    "solution.head()"
   ]
  },
  {
   "cell_type": "code",
   "execution_count": 143,
   "id": "b3707fa2-8b1d-4d59-9eef-91e47f8e646f",
   "metadata": {},
   "outputs": [],
   "source": [
    "solution.to_csv('Solution.csv', index = False)"
   ]
  },
  {
   "cell_type": "code",
   "execution_count": null,
   "id": "9c327804-20f1-4cdc-97d4-e80fabbf46bb",
   "metadata": {},
   "outputs": [],
   "source": []
  }
 ],
 "metadata": {
  "kernelspec": {
   "display_name": "Python 3 (ipykernel)",
   "language": "python",
   "name": "python3"
  },
  "language_info": {
   "codemirror_mode": {
    "name": "ipython",
    "version": 3
   },
   "file_extension": ".py",
   "mimetype": "text/x-python",
   "name": "python",
   "nbconvert_exporter": "python",
   "pygments_lexer": "ipython3",
   "version": "3.12.7"
  }
 },
 "nbformat": 4,
 "nbformat_minor": 5
}
