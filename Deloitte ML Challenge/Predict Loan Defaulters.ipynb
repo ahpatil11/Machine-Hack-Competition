{
 "cells": [
  {
   "cell_type": "code",
   "execution_count": 1,
   "id": "8bd8baf5",
   "metadata": {},
   "outputs": [],
   "source": [
    "import numpy as np\n",
    "import pandas as pd\n",
    "import matplotlib.pyplot as plt\n",
    "import seaborn as sns"
   ]
  },
  {
   "cell_type": "code",
   "execution_count": 2,
   "id": "4c17975f",
   "metadata": {},
   "outputs": [
    {
     "data": {
      "text/html": [
       "<div>\n",
       "<style scoped>\n",
       "    .dataframe tbody tr th:only-of-type {\n",
       "        vertical-align: middle;\n",
       "    }\n",
       "\n",
       "    .dataframe tbody tr th {\n",
       "        vertical-align: top;\n",
       "    }\n",
       "\n",
       "    .dataframe thead th {\n",
       "        text-align: right;\n",
       "    }\n",
       "</style>\n",
       "<table border=\"1\" class=\"dataframe\">\n",
       "  <thead>\n",
       "    <tr style=\"text-align: right;\">\n",
       "      <th></th>\n",
       "      <th>ID</th>\n",
       "      <th>Loan Amount</th>\n",
       "      <th>Funded Amount</th>\n",
       "      <th>Funded Amount Investor</th>\n",
       "      <th>Term</th>\n",
       "      <th>Batch Enrolled</th>\n",
       "      <th>Interest Rate</th>\n",
       "      <th>Grade</th>\n",
       "      <th>Sub Grade</th>\n",
       "      <th>Employment Duration</th>\n",
       "      <th>...</th>\n",
       "      <th>Recoveries</th>\n",
       "      <th>Collection Recovery Fee</th>\n",
       "      <th>Collection 12 months Medical</th>\n",
       "      <th>Application Type</th>\n",
       "      <th>Last week Pay</th>\n",
       "      <th>Accounts Delinquent</th>\n",
       "      <th>Total Collection Amount</th>\n",
       "      <th>Total Current Balance</th>\n",
       "      <th>Total Revolving Credit Limit</th>\n",
       "      <th>Loan Status</th>\n",
       "    </tr>\n",
       "  </thead>\n",
       "  <tbody>\n",
       "    <tr>\n",
       "      <th>0</th>\n",
       "      <td>65087372</td>\n",
       "      <td>10000</td>\n",
       "      <td>32236</td>\n",
       "      <td>12329.36286</td>\n",
       "      <td>59</td>\n",
       "      <td>BAT2522922</td>\n",
       "      <td>11.135007</td>\n",
       "      <td>B</td>\n",
       "      <td>C4</td>\n",
       "      <td>MORTGAGE</td>\n",
       "      <td>...</td>\n",
       "      <td>2.498291</td>\n",
       "      <td>0.793724</td>\n",
       "      <td>0</td>\n",
       "      <td>INDIVIDUAL</td>\n",
       "      <td>49</td>\n",
       "      <td>0</td>\n",
       "      <td>31</td>\n",
       "      <td>311301</td>\n",
       "      <td>6619</td>\n",
       "      <td>0</td>\n",
       "    </tr>\n",
       "    <tr>\n",
       "      <th>1</th>\n",
       "      <td>1450153</td>\n",
       "      <td>3609</td>\n",
       "      <td>11940</td>\n",
       "      <td>12191.99692</td>\n",
       "      <td>59</td>\n",
       "      <td>BAT1586599</td>\n",
       "      <td>12.237563</td>\n",
       "      <td>C</td>\n",
       "      <td>D3</td>\n",
       "      <td>RENT</td>\n",
       "      <td>...</td>\n",
       "      <td>2.377215</td>\n",
       "      <td>0.974821</td>\n",
       "      <td>0</td>\n",
       "      <td>INDIVIDUAL</td>\n",
       "      <td>109</td>\n",
       "      <td>0</td>\n",
       "      <td>53</td>\n",
       "      <td>182610</td>\n",
       "      <td>20885</td>\n",
       "      <td>0</td>\n",
       "    </tr>\n",
       "    <tr>\n",
       "      <th>2</th>\n",
       "      <td>1969101</td>\n",
       "      <td>28276</td>\n",
       "      <td>9311</td>\n",
       "      <td>21603.22455</td>\n",
       "      <td>59</td>\n",
       "      <td>BAT2136391</td>\n",
       "      <td>12.545884</td>\n",
       "      <td>F</td>\n",
       "      <td>D4</td>\n",
       "      <td>MORTGAGE</td>\n",
       "      <td>...</td>\n",
       "      <td>4.316277</td>\n",
       "      <td>1.020075</td>\n",
       "      <td>0</td>\n",
       "      <td>INDIVIDUAL</td>\n",
       "      <td>66</td>\n",
       "      <td>0</td>\n",
       "      <td>34</td>\n",
       "      <td>89801</td>\n",
       "      <td>26155</td>\n",
       "      <td>0</td>\n",
       "    </tr>\n",
       "    <tr>\n",
       "      <th>3</th>\n",
       "      <td>6651430</td>\n",
       "      <td>11170</td>\n",
       "      <td>6954</td>\n",
       "      <td>17877.15585</td>\n",
       "      <td>59</td>\n",
       "      <td>BAT2428731</td>\n",
       "      <td>16.731201</td>\n",
       "      <td>C</td>\n",
       "      <td>C3</td>\n",
       "      <td>MORTGAGE</td>\n",
       "      <td>...</td>\n",
       "      <td>0.107020</td>\n",
       "      <td>0.749971</td>\n",
       "      <td>0</td>\n",
       "      <td>INDIVIDUAL</td>\n",
       "      <td>39</td>\n",
       "      <td>0</td>\n",
       "      <td>40</td>\n",
       "      <td>9189</td>\n",
       "      <td>60214</td>\n",
       "      <td>0</td>\n",
       "    </tr>\n",
       "    <tr>\n",
       "      <th>4</th>\n",
       "      <td>14354669</td>\n",
       "      <td>16890</td>\n",
       "      <td>13226</td>\n",
       "      <td>13539.92667</td>\n",
       "      <td>59</td>\n",
       "      <td>BAT5341619</td>\n",
       "      <td>15.008300</td>\n",
       "      <td>C</td>\n",
       "      <td>D4</td>\n",
       "      <td>MORTGAGE</td>\n",
       "      <td>...</td>\n",
       "      <td>1294.818751</td>\n",
       "      <td>0.368953</td>\n",
       "      <td>0</td>\n",
       "      <td>INDIVIDUAL</td>\n",
       "      <td>18</td>\n",
       "      <td>0</td>\n",
       "      <td>430</td>\n",
       "      <td>126029</td>\n",
       "      <td>22579</td>\n",
       "      <td>0</td>\n",
       "    </tr>\n",
       "  </tbody>\n",
       "</table>\n",
       "<p>5 rows × 35 columns</p>\n",
       "</div>"
      ],
      "text/plain": [
       "         ID  Loan Amount  Funded Amount  Funded Amount Investor  Term  \\\n",
       "0  65087372        10000          32236             12329.36286    59   \n",
       "1   1450153         3609          11940             12191.99692    59   \n",
       "2   1969101        28276           9311             21603.22455    59   \n",
       "3   6651430        11170           6954             17877.15585    59   \n",
       "4  14354669        16890          13226             13539.92667    59   \n",
       "\n",
       "  Batch Enrolled  Interest Rate Grade Sub Grade Employment Duration  ...  \\\n",
       "0     BAT2522922      11.135007     B        C4            MORTGAGE  ...   \n",
       "1     BAT1586599      12.237563     C        D3                RENT  ...   \n",
       "2     BAT2136391      12.545884     F        D4            MORTGAGE  ...   \n",
       "3     BAT2428731      16.731201     C        C3            MORTGAGE  ...   \n",
       "4     BAT5341619      15.008300     C        D4            MORTGAGE  ...   \n",
       "\n",
       "    Recoveries Collection Recovery Fee Collection 12 months Medical  \\\n",
       "0     2.498291                0.793724                            0   \n",
       "1     2.377215                0.974821                            0   \n",
       "2     4.316277                1.020075                            0   \n",
       "3     0.107020                0.749971                            0   \n",
       "4  1294.818751                0.368953                            0   \n",
       "\n",
       "  Application Type  Last week Pay  Accounts Delinquent  \\\n",
       "0       INDIVIDUAL             49                    0   \n",
       "1       INDIVIDUAL            109                    0   \n",
       "2       INDIVIDUAL             66                    0   \n",
       "3       INDIVIDUAL             39                    0   \n",
       "4       INDIVIDUAL             18                    0   \n",
       "\n",
       "   Total Collection Amount  Total Current Balance  \\\n",
       "0                       31                 311301   \n",
       "1                       53                 182610   \n",
       "2                       34                  89801   \n",
       "3                       40                   9189   \n",
       "4                      430                 126029   \n",
       "\n",
       "   Total Revolving Credit Limit  Loan Status  \n",
       "0                          6619            0  \n",
       "1                         20885            0  \n",
       "2                         26155            0  \n",
       "3                         60214            0  \n",
       "4                         22579            0  \n",
       "\n",
       "[5 rows x 35 columns]"
      ]
     },
     "execution_count": 2,
     "metadata": {},
     "output_type": "execute_result"
    }
   ],
   "source": [
    "train = pd.read_csv('train.csv')\n",
    "train.head()"
   ]
  },
  {
   "cell_type": "code",
   "execution_count": 3,
   "id": "04457ad4",
   "metadata": {},
   "outputs": [
    {
     "data": {
      "text/plain": [
       "(67463, 35)"
      ]
     },
     "execution_count": 3,
     "metadata": {},
     "output_type": "execute_result"
    }
   ],
   "source": [
    "train.shape"
   ]
  },
  {
   "cell_type": "code",
   "execution_count": 4,
   "id": "dd10032e",
   "metadata": {},
   "outputs": [
    {
     "data": {
      "text/plain": [
       "0"
      ]
     },
     "execution_count": 4,
     "metadata": {},
     "output_type": "execute_result"
    }
   ],
   "source": [
    "train.duplicated().sum()"
   ]
  },
  {
   "cell_type": "code",
   "execution_count": 5,
   "id": "60cc628d",
   "metadata": {},
   "outputs": [
    {
     "name": "stdout",
     "output_type": "stream",
     "text": [
      "<class 'pandas.core.frame.DataFrame'>\n",
      "RangeIndex: 67463 entries, 0 to 67462\n",
      "Data columns (total 35 columns):\n",
      " #   Column                        Non-Null Count  Dtype  \n",
      "---  ------                        --------------  -----  \n",
      " 0   ID                            67463 non-null  int64  \n",
      " 1   Loan Amount                   67463 non-null  int64  \n",
      " 2   Funded Amount                 67463 non-null  int64  \n",
      " 3   Funded Amount Investor        67463 non-null  float64\n",
      " 4   Term                          67463 non-null  int64  \n",
      " 5   Batch Enrolled                67463 non-null  object \n",
      " 6   Interest Rate                 67463 non-null  float64\n",
      " 7   Grade                         67463 non-null  object \n",
      " 8   Sub Grade                     67463 non-null  object \n",
      " 9   Employment Duration           67463 non-null  object \n",
      " 10  Home Ownership                67463 non-null  float64\n",
      " 11  Verification Status           67463 non-null  object \n",
      " 12  Payment Plan                  67463 non-null  object \n",
      " 13  Loan Title                    67463 non-null  object \n",
      " 14  Debit to Income               67463 non-null  float64\n",
      " 15  Delinquency - two years       67463 non-null  int64  \n",
      " 16  Inquires - six months         67463 non-null  int64  \n",
      " 17  Open Account                  67463 non-null  int64  \n",
      " 18  Public Record                 67463 non-null  int64  \n",
      " 19  Revolving Balance             67463 non-null  int64  \n",
      " 20  Revolving Utilities           67463 non-null  float64\n",
      " 21  Total Accounts                67463 non-null  int64  \n",
      " 22  Initial List Status           67463 non-null  object \n",
      " 23  Total Received Interest       67463 non-null  float64\n",
      " 24  Total Received Late Fee       67463 non-null  float64\n",
      " 25  Recoveries                    67463 non-null  float64\n",
      " 26  Collection Recovery Fee       67463 non-null  float64\n",
      " 27  Collection 12 months Medical  67463 non-null  int64  \n",
      " 28  Application Type              67463 non-null  object \n",
      " 29  Last week Pay                 67463 non-null  int64  \n",
      " 30  Accounts Delinquent           67463 non-null  int64  \n",
      " 31  Total Collection Amount       67463 non-null  int64  \n",
      " 32  Total Current Balance         67463 non-null  int64  \n",
      " 33  Total Revolving Credit Limit  67463 non-null  int64  \n",
      " 34  Loan Status                   67463 non-null  int64  \n",
      "dtypes: float64(9), int64(17), object(9)\n",
      "memory usage: 18.0+ MB\n"
     ]
    }
   ],
   "source": [
    "train.info()"
   ]
  },
  {
   "cell_type": "code",
   "execution_count": 6,
   "id": "3abc185f",
   "metadata": {},
   "outputs": [
    {
     "data": {
      "text/html": [
       "<div>\n",
       "<style scoped>\n",
       "    .dataframe tbody tr th:only-of-type {\n",
       "        vertical-align: middle;\n",
       "    }\n",
       "\n",
       "    .dataframe tbody tr th {\n",
       "        vertical-align: top;\n",
       "    }\n",
       "\n",
       "    .dataframe thead th {\n",
       "        text-align: right;\n",
       "    }\n",
       "</style>\n",
       "<table border=\"1\" class=\"dataframe\">\n",
       "  <thead>\n",
       "    <tr style=\"text-align: right;\">\n",
       "      <th></th>\n",
       "      <th>ID</th>\n",
       "      <th>Loan Amount</th>\n",
       "      <th>Funded Amount</th>\n",
       "      <th>Funded Amount Investor</th>\n",
       "      <th>Term</th>\n",
       "      <th>Interest Rate</th>\n",
       "      <th>Home Ownership</th>\n",
       "      <th>Debit to Income</th>\n",
       "      <th>Delinquency - two years</th>\n",
       "      <th>Inquires - six months</th>\n",
       "      <th>...</th>\n",
       "      <th>Total Received Late Fee</th>\n",
       "      <th>Recoveries</th>\n",
       "      <th>Collection Recovery Fee</th>\n",
       "      <th>Collection 12 months Medical</th>\n",
       "      <th>Last week Pay</th>\n",
       "      <th>Accounts Delinquent</th>\n",
       "      <th>Total Collection Amount</th>\n",
       "      <th>Total Current Balance</th>\n",
       "      <th>Total Revolving Credit Limit</th>\n",
       "      <th>Loan Status</th>\n",
       "    </tr>\n",
       "  </thead>\n",
       "  <tbody>\n",
       "    <tr>\n",
       "      <th>count</th>\n",
       "      <td>6.746300e+04</td>\n",
       "      <td>67463.000000</td>\n",
       "      <td>67463.000000</td>\n",
       "      <td>67463.000000</td>\n",
       "      <td>67463.000000</td>\n",
       "      <td>67463.000000</td>\n",
       "      <td>67463.000000</td>\n",
       "      <td>67463.000000</td>\n",
       "      <td>67463.000000</td>\n",
       "      <td>67463.000000</td>\n",
       "      <td>...</td>\n",
       "      <td>67463.000000</td>\n",
       "      <td>67463.000000</td>\n",
       "      <td>67463.000000</td>\n",
       "      <td>67463.000000</td>\n",
       "      <td>67463.000000</td>\n",
       "      <td>67463.0</td>\n",
       "      <td>67463.000000</td>\n",
       "      <td>6.746300e+04</td>\n",
       "      <td>67463.000000</td>\n",
       "      <td>67463.000000</td>\n",
       "    </tr>\n",
       "    <tr>\n",
       "      <th>mean</th>\n",
       "      <td>2.562761e+07</td>\n",
       "      <td>16848.902776</td>\n",
       "      <td>15770.599114</td>\n",
       "      <td>14621.799323</td>\n",
       "      <td>58.173814</td>\n",
       "      <td>11.846258</td>\n",
       "      <td>80541.502522</td>\n",
       "      <td>23.299241</td>\n",
       "      <td>0.327127</td>\n",
       "      <td>0.145754</td>\n",
       "      <td>...</td>\n",
       "      <td>1.143969</td>\n",
       "      <td>59.691578</td>\n",
       "      <td>1.125141</td>\n",
       "      <td>0.021301</td>\n",
       "      <td>71.163260</td>\n",
       "      <td>0.0</td>\n",
       "      <td>146.467990</td>\n",
       "      <td>1.595739e+05</td>\n",
       "      <td>23123.005544</td>\n",
       "      <td>0.092510</td>\n",
       "    </tr>\n",
       "    <tr>\n",
       "      <th>std</th>\n",
       "      <td>2.109155e+07</td>\n",
       "      <td>8367.865726</td>\n",
       "      <td>8150.992662</td>\n",
       "      <td>6785.345170</td>\n",
       "      <td>3.327441</td>\n",
       "      <td>3.718629</td>\n",
       "      <td>45029.120366</td>\n",
       "      <td>8.451824</td>\n",
       "      <td>0.800888</td>\n",
       "      <td>0.473291</td>\n",
       "      <td>...</td>\n",
       "      <td>5.244365</td>\n",
       "      <td>357.026346</td>\n",
       "      <td>3.489885</td>\n",
       "      <td>0.144385</td>\n",
       "      <td>43.315845</td>\n",
       "      <td>0.0</td>\n",
       "      <td>744.382233</td>\n",
       "      <td>1.390332e+05</td>\n",
       "      <td>20916.699999</td>\n",
       "      <td>0.289747</td>\n",
       "    </tr>\n",
       "    <tr>\n",
       "      <th>min</th>\n",
       "      <td>1.297933e+06</td>\n",
       "      <td>1014.000000</td>\n",
       "      <td>1014.000000</td>\n",
       "      <td>1114.590204</td>\n",
       "      <td>36.000000</td>\n",
       "      <td>5.320006</td>\n",
       "      <td>14573.537170</td>\n",
       "      <td>0.675299</td>\n",
       "      <td>0.000000</td>\n",
       "      <td>0.000000</td>\n",
       "      <td>...</td>\n",
       "      <td>0.000003</td>\n",
       "      <td>0.000036</td>\n",
       "      <td>0.000036</td>\n",
       "      <td>0.000000</td>\n",
       "      <td>0.000000</td>\n",
       "      <td>0.0</td>\n",
       "      <td>1.000000</td>\n",
       "      <td>6.170000e+02</td>\n",
       "      <td>1000.000000</td>\n",
       "      <td>0.000000</td>\n",
       "    </tr>\n",
       "    <tr>\n",
       "      <th>25%</th>\n",
       "      <td>6.570288e+06</td>\n",
       "      <td>10012.000000</td>\n",
       "      <td>9266.500000</td>\n",
       "      <td>9831.684984</td>\n",
       "      <td>58.000000</td>\n",
       "      <td>9.297147</td>\n",
       "      <td>51689.843335</td>\n",
       "      <td>16.756416</td>\n",
       "      <td>0.000000</td>\n",
       "      <td>0.000000</td>\n",
       "      <td>...</td>\n",
       "      <td>0.021114</td>\n",
       "      <td>1.629818</td>\n",
       "      <td>0.476259</td>\n",
       "      <td>0.000000</td>\n",
       "      <td>35.000000</td>\n",
       "      <td>0.0</td>\n",
       "      <td>24.000000</td>\n",
       "      <td>5.037900e+04</td>\n",
       "      <td>8155.500000</td>\n",
       "      <td>0.000000</td>\n",
       "    </tr>\n",
       "    <tr>\n",
       "      <th>50%</th>\n",
       "      <td>1.791565e+07</td>\n",
       "      <td>16073.000000</td>\n",
       "      <td>13042.000000</td>\n",
       "      <td>12793.682170</td>\n",
       "      <td>59.000000</td>\n",
       "      <td>11.377696</td>\n",
       "      <td>69335.832680</td>\n",
       "      <td>22.656658</td>\n",
       "      <td>0.000000</td>\n",
       "      <td>0.000000</td>\n",
       "      <td>...</td>\n",
       "      <td>0.043398</td>\n",
       "      <td>3.344524</td>\n",
       "      <td>0.780141</td>\n",
       "      <td>0.000000</td>\n",
       "      <td>68.000000</td>\n",
       "      <td>0.0</td>\n",
       "      <td>36.000000</td>\n",
       "      <td>1.183690e+05</td>\n",
       "      <td>16733.000000</td>\n",
       "      <td>0.000000</td>\n",
       "    </tr>\n",
       "    <tr>\n",
       "      <th>75%</th>\n",
       "      <td>4.271521e+07</td>\n",
       "      <td>22106.000000</td>\n",
       "      <td>21793.000000</td>\n",
       "      <td>17807.594120</td>\n",
       "      <td>59.000000</td>\n",
       "      <td>14.193533</td>\n",
       "      <td>94623.322785</td>\n",
       "      <td>30.048400</td>\n",
       "      <td>0.000000</td>\n",
       "      <td>0.000000</td>\n",
       "      <td>...</td>\n",
       "      <td>0.071884</td>\n",
       "      <td>5.453727</td>\n",
       "      <td>1.070566</td>\n",
       "      <td>0.000000</td>\n",
       "      <td>105.000000</td>\n",
       "      <td>0.0</td>\n",
       "      <td>46.000000</td>\n",
       "      <td>2.283750e+05</td>\n",
       "      <td>32146.500000</td>\n",
       "      <td>0.000000</td>\n",
       "    </tr>\n",
       "    <tr>\n",
       "      <th>max</th>\n",
       "      <td>7.224578e+07</td>\n",
       "      <td>35000.000000</td>\n",
       "      <td>34999.000000</td>\n",
       "      <td>34999.746430</td>\n",
       "      <td>59.000000</td>\n",
       "      <td>27.182348</td>\n",
       "      <td>406561.536400</td>\n",
       "      <td>39.629862</td>\n",
       "      <td>8.000000</td>\n",
       "      <td>5.000000</td>\n",
       "      <td>...</td>\n",
       "      <td>42.618882</td>\n",
       "      <td>4354.467419</td>\n",
       "      <td>166.833000</td>\n",
       "      <td>1.000000</td>\n",
       "      <td>161.000000</td>\n",
       "      <td>0.0</td>\n",
       "      <td>16421.000000</td>\n",
       "      <td>1.177412e+06</td>\n",
       "      <td>201169.000000</td>\n",
       "      <td>1.000000</td>\n",
       "    </tr>\n",
       "  </tbody>\n",
       "</table>\n",
       "<p>8 rows × 26 columns</p>\n",
       "</div>"
      ],
      "text/plain": [
       "                 ID   Loan Amount  Funded Amount  Funded Amount Investor  \\\n",
       "count  6.746300e+04  67463.000000   67463.000000            67463.000000   \n",
       "mean   2.562761e+07  16848.902776   15770.599114            14621.799323   \n",
       "std    2.109155e+07   8367.865726    8150.992662             6785.345170   \n",
       "min    1.297933e+06   1014.000000    1014.000000             1114.590204   \n",
       "25%    6.570288e+06  10012.000000    9266.500000             9831.684984   \n",
       "50%    1.791565e+07  16073.000000   13042.000000            12793.682170   \n",
       "75%    4.271521e+07  22106.000000   21793.000000            17807.594120   \n",
       "max    7.224578e+07  35000.000000   34999.000000            34999.746430   \n",
       "\n",
       "               Term  Interest Rate  Home Ownership  Debit to Income  \\\n",
       "count  67463.000000   67463.000000    67463.000000     67463.000000   \n",
       "mean      58.173814      11.846258    80541.502522        23.299241   \n",
       "std        3.327441       3.718629    45029.120366         8.451824   \n",
       "min       36.000000       5.320006    14573.537170         0.675299   \n",
       "25%       58.000000       9.297147    51689.843335        16.756416   \n",
       "50%       59.000000      11.377696    69335.832680        22.656658   \n",
       "75%       59.000000      14.193533    94623.322785        30.048400   \n",
       "max       59.000000      27.182348   406561.536400        39.629862   \n",
       "\n",
       "       Delinquency - two years  Inquires - six months  ...  \\\n",
       "count             67463.000000           67463.000000  ...   \n",
       "mean                  0.327127               0.145754  ...   \n",
       "std                   0.800888               0.473291  ...   \n",
       "min                   0.000000               0.000000  ...   \n",
       "25%                   0.000000               0.000000  ...   \n",
       "50%                   0.000000               0.000000  ...   \n",
       "75%                   0.000000               0.000000  ...   \n",
       "max                   8.000000               5.000000  ...   \n",
       "\n",
       "       Total Received Late Fee    Recoveries  Collection Recovery Fee  \\\n",
       "count             67463.000000  67463.000000             67463.000000   \n",
       "mean                  1.143969     59.691578                 1.125141   \n",
       "std                   5.244365    357.026346                 3.489885   \n",
       "min                   0.000003      0.000036                 0.000036   \n",
       "25%                   0.021114      1.629818                 0.476259   \n",
       "50%                   0.043398      3.344524                 0.780141   \n",
       "75%                   0.071884      5.453727                 1.070566   \n",
       "max                  42.618882   4354.467419               166.833000   \n",
       "\n",
       "       Collection 12 months Medical  Last week Pay  Accounts Delinquent  \\\n",
       "count                  67463.000000   67463.000000              67463.0   \n",
       "mean                       0.021301      71.163260                  0.0   \n",
       "std                        0.144385      43.315845                  0.0   \n",
       "min                        0.000000       0.000000                  0.0   \n",
       "25%                        0.000000      35.000000                  0.0   \n",
       "50%                        0.000000      68.000000                  0.0   \n",
       "75%                        0.000000     105.000000                  0.0   \n",
       "max                        1.000000     161.000000                  0.0   \n",
       "\n",
       "       Total Collection Amount  Total Current Balance  \\\n",
       "count             67463.000000           6.746300e+04   \n",
       "mean                146.467990           1.595739e+05   \n",
       "std                 744.382233           1.390332e+05   \n",
       "min                   1.000000           6.170000e+02   \n",
       "25%                  24.000000           5.037900e+04   \n",
       "50%                  36.000000           1.183690e+05   \n",
       "75%                  46.000000           2.283750e+05   \n",
       "max               16421.000000           1.177412e+06   \n",
       "\n",
       "       Total Revolving Credit Limit   Loan Status  \n",
       "count                  67463.000000  67463.000000  \n",
       "mean                   23123.005544      0.092510  \n",
       "std                    20916.699999      0.289747  \n",
       "min                     1000.000000      0.000000  \n",
       "25%                     8155.500000      0.000000  \n",
       "50%                    16733.000000      0.000000  \n",
       "75%                    32146.500000      0.000000  \n",
       "max                   201169.000000      1.000000  \n",
       "\n",
       "[8 rows x 26 columns]"
      ]
     },
     "execution_count": 6,
     "metadata": {},
     "output_type": "execute_result"
    }
   ],
   "source": [
    "train.describe()"
   ]
  },
  {
   "cell_type": "code",
   "execution_count": 7,
   "id": "e0592495",
   "metadata": {},
   "outputs": [
    {
     "data": {
      "text/plain": [
       "ID                              0\n",
       "Loan Amount                     0\n",
       "Funded Amount                   0\n",
       "Funded Amount Investor          0\n",
       "Term                            0\n",
       "Batch Enrolled                  0\n",
       "Interest Rate                   0\n",
       "Grade                           0\n",
       "Sub Grade                       0\n",
       "Employment Duration             0\n",
       "Home Ownership                  0\n",
       "Verification Status             0\n",
       "Payment Plan                    0\n",
       "Loan Title                      0\n",
       "Debit to Income                 0\n",
       "Delinquency - two years         0\n",
       "Inquires - six months           0\n",
       "Open Account                    0\n",
       "Public Record                   0\n",
       "Revolving Balance               0\n",
       "Revolving Utilities             0\n",
       "Total Accounts                  0\n",
       "Initial List Status             0\n",
       "Total Received Interest         0\n",
       "Total Received Late Fee         0\n",
       "Recoveries                      0\n",
       "Collection Recovery Fee         0\n",
       "Collection 12 months Medical    0\n",
       "Application Type                0\n",
       "Last week Pay                   0\n",
       "Accounts Delinquent             0\n",
       "Total Collection Amount         0\n",
       "Total Current Balance           0\n",
       "Total Revolving Credit Limit    0\n",
       "Loan Status                     0\n",
       "dtype: int64"
      ]
     },
     "execution_count": 7,
     "metadata": {},
     "output_type": "execute_result"
    }
   ],
   "source": [
    "train.isnull().sum()"
   ]
  },
  {
   "cell_type": "code",
   "execution_count": 8,
   "id": "8ed999c1",
   "metadata": {},
   "outputs": [
    {
     "data": {
      "text/html": [
       "<div>\n",
       "<style scoped>\n",
       "    .dataframe tbody tr th:only-of-type {\n",
       "        vertical-align: middle;\n",
       "    }\n",
       "\n",
       "    .dataframe tbody tr th {\n",
       "        vertical-align: top;\n",
       "    }\n",
       "\n",
       "    .dataframe thead th {\n",
       "        text-align: right;\n",
       "    }\n",
       "</style>\n",
       "<table border=\"1\" class=\"dataframe\">\n",
       "  <thead>\n",
       "    <tr style=\"text-align: right;\">\n",
       "      <th></th>\n",
       "      <th>ID</th>\n",
       "      <th>Loan Amount</th>\n",
       "      <th>Funded Amount</th>\n",
       "      <th>Funded Amount Investor</th>\n",
       "      <th>Term</th>\n",
       "      <th>Batch Enrolled</th>\n",
       "      <th>Interest Rate</th>\n",
       "      <th>Grade</th>\n",
       "      <th>Sub Grade</th>\n",
       "      <th>Employment Duration</th>\n",
       "      <th>...</th>\n",
       "      <th>Recoveries</th>\n",
       "      <th>Collection Recovery Fee</th>\n",
       "      <th>Collection 12 months Medical</th>\n",
       "      <th>Application Type</th>\n",
       "      <th>Last week Pay</th>\n",
       "      <th>Accounts Delinquent</th>\n",
       "      <th>Total Collection Amount</th>\n",
       "      <th>Total Current Balance</th>\n",
       "      <th>Total Revolving Credit Limit</th>\n",
       "      <th>Loan Status</th>\n",
       "    </tr>\n",
       "  </thead>\n",
       "  <tbody>\n",
       "    <tr>\n",
       "      <th>0</th>\n",
       "      <td>56492997</td>\n",
       "      <td>17120</td>\n",
       "      <td>10365</td>\n",
       "      <td>16025.082690</td>\n",
       "      <td>59</td>\n",
       "      <td>BAT2575549</td>\n",
       "      <td>12.163926</td>\n",
       "      <td>A</td>\n",
       "      <td>D1</td>\n",
       "      <td>RENT</td>\n",
       "      <td>...</td>\n",
       "      <td>8.425776</td>\n",
       "      <td>0.731797</td>\n",
       "      <td>0</td>\n",
       "      <td>INDIVIDUAL</td>\n",
       "      <td>135</td>\n",
       "      <td>0</td>\n",
       "      <td>24</td>\n",
       "      <td>475442</td>\n",
       "      <td>4364</td>\n",
       "      <td>NaN</td>\n",
       "    </tr>\n",
       "    <tr>\n",
       "      <th>1</th>\n",
       "      <td>22540813</td>\n",
       "      <td>7133</td>\n",
       "      <td>11650</td>\n",
       "      <td>12615.795600</td>\n",
       "      <td>59</td>\n",
       "      <td>BAT2833642</td>\n",
       "      <td>6.564296</td>\n",
       "      <td>B</td>\n",
       "      <td>E3</td>\n",
       "      <td>MORTGAGE</td>\n",
       "      <td>...</td>\n",
       "      <td>6.157008</td>\n",
       "      <td>0.992918</td>\n",
       "      <td>0</td>\n",
       "      <td>INDIVIDUAL</td>\n",
       "      <td>56</td>\n",
       "      <td>0</td>\n",
       "      <td>1</td>\n",
       "      <td>72412</td>\n",
       "      <td>2573</td>\n",
       "      <td>NaN</td>\n",
       "    </tr>\n",
       "    <tr>\n",
       "      <th>2</th>\n",
       "      <td>9862181</td>\n",
       "      <td>25291</td>\n",
       "      <td>25825</td>\n",
       "      <td>11621.280830</td>\n",
       "      <td>59</td>\n",
       "      <td>BAT1761981</td>\n",
       "      <td>14.729900</td>\n",
       "      <td>A</td>\n",
       "      <td>C3</td>\n",
       "      <td>MORTGAGE</td>\n",
       "      <td>...</td>\n",
       "      <td>5.705077</td>\n",
       "      <td>0.281580</td>\n",
       "      <td>0</td>\n",
       "      <td>INDIVIDUAL</td>\n",
       "      <td>3</td>\n",
       "      <td>0</td>\n",
       "      <td>26</td>\n",
       "      <td>284825</td>\n",
       "      <td>19676</td>\n",
       "      <td>NaN</td>\n",
       "    </tr>\n",
       "    <tr>\n",
       "      <th>3</th>\n",
       "      <td>10097822</td>\n",
       "      <td>30781</td>\n",
       "      <td>9664</td>\n",
       "      <td>15375.823510</td>\n",
       "      <td>59</td>\n",
       "      <td>BAT5341619</td>\n",
       "      <td>10.523767</td>\n",
       "      <td>A</td>\n",
       "      <td>A2</td>\n",
       "      <td>RENT</td>\n",
       "      <td>...</td>\n",
       "      <td>2.469688</td>\n",
       "      <td>0.959162</td>\n",
       "      <td>0</td>\n",
       "      <td>INDIVIDUAL</td>\n",
       "      <td>21</td>\n",
       "      <td>0</td>\n",
       "      <td>32</td>\n",
       "      <td>40842</td>\n",
       "      <td>7226</td>\n",
       "      <td>NaN</td>\n",
       "    </tr>\n",
       "    <tr>\n",
       "      <th>4</th>\n",
       "      <td>47771809</td>\n",
       "      <td>8878</td>\n",
       "      <td>9419</td>\n",
       "      <td>7176.647582</td>\n",
       "      <td>58</td>\n",
       "      <td>BAT4694572</td>\n",
       "      <td>9.997013</td>\n",
       "      <td>C</td>\n",
       "      <td>B3</td>\n",
       "      <td>OWN</td>\n",
       "      <td>...</td>\n",
       "      <td>2.127835</td>\n",
       "      <td>0.402315</td>\n",
       "      <td>0</td>\n",
       "      <td>INDIVIDUAL</td>\n",
       "      <td>104</td>\n",
       "      <td>0</td>\n",
       "      <td>33</td>\n",
       "      <td>90825</td>\n",
       "      <td>26145</td>\n",
       "      <td>NaN</td>\n",
       "    </tr>\n",
       "  </tbody>\n",
       "</table>\n",
       "<p>5 rows × 35 columns</p>\n",
       "</div>"
      ],
      "text/plain": [
       "         ID  Loan Amount  Funded Amount  Funded Amount Investor  Term  \\\n",
       "0  56492997        17120          10365            16025.082690    59   \n",
       "1  22540813         7133          11650            12615.795600    59   \n",
       "2   9862181        25291          25825            11621.280830    59   \n",
       "3  10097822        30781           9664            15375.823510    59   \n",
       "4  47771809         8878           9419             7176.647582    58   \n",
       "\n",
       "  Batch Enrolled  Interest Rate Grade Sub Grade Employment Duration  ...  \\\n",
       "0     BAT2575549      12.163926     A        D1                RENT  ...   \n",
       "1     BAT2833642       6.564296     B        E3            MORTGAGE  ...   \n",
       "2     BAT1761981      14.729900     A        C3            MORTGAGE  ...   \n",
       "3     BAT5341619      10.523767     A        A2                RENT  ...   \n",
       "4     BAT4694572       9.997013     C        B3                 OWN  ...   \n",
       "\n",
       "   Recoveries Collection Recovery Fee Collection 12 months Medical  \\\n",
       "0    8.425776                0.731797                            0   \n",
       "1    6.157008                0.992918                            0   \n",
       "2    5.705077                0.281580                            0   \n",
       "3    2.469688                0.959162                            0   \n",
       "4    2.127835                0.402315                            0   \n",
       "\n",
       "  Application Type  Last week Pay  Accounts Delinquent  \\\n",
       "0       INDIVIDUAL            135                    0   \n",
       "1       INDIVIDUAL             56                    0   \n",
       "2       INDIVIDUAL              3                    0   \n",
       "3       INDIVIDUAL             21                    0   \n",
       "4       INDIVIDUAL            104                    0   \n",
       "\n",
       "   Total Collection Amount  Total Current Balance  \\\n",
       "0                       24                 475442   \n",
       "1                        1                  72412   \n",
       "2                       26                 284825   \n",
       "3                       32                  40842   \n",
       "4                       33                  90825   \n",
       "\n",
       "   Total Revolving Credit Limit  Loan Status  \n",
       "0                          4364          NaN  \n",
       "1                          2573          NaN  \n",
       "2                         19676          NaN  \n",
       "3                          7226          NaN  \n",
       "4                         26145          NaN  \n",
       "\n",
       "[5 rows x 35 columns]"
      ]
     },
     "execution_count": 8,
     "metadata": {},
     "output_type": "execute_result"
    }
   ],
   "source": [
    "test = pd.read_csv('test.csv')\n",
    "test.head()"
   ]
  },
  {
   "cell_type": "code",
   "execution_count": 9,
   "id": "5d14068b",
   "metadata": {},
   "outputs": [
    {
     "data": {
      "text/plain": [
       "(28913, 35)"
      ]
     },
     "execution_count": 9,
     "metadata": {},
     "output_type": "execute_result"
    }
   ],
   "source": [
    "test.shape"
   ]
  },
  {
   "cell_type": "code",
   "execution_count": 10,
   "id": "9a954644",
   "metadata": {},
   "outputs": [
    {
     "data": {
      "text/plain": [
       "ID                                  0\n",
       "Loan Amount                         0\n",
       "Funded Amount                       0\n",
       "Funded Amount Investor              0\n",
       "Term                                0\n",
       "Batch Enrolled                      0\n",
       "Interest Rate                       0\n",
       "Grade                               0\n",
       "Sub Grade                           0\n",
       "Employment Duration                 0\n",
       "Home Ownership                      0\n",
       "Verification Status                 0\n",
       "Payment Plan                        0\n",
       "Loan Title                          0\n",
       "Debit to Income                     0\n",
       "Delinquency - two years             0\n",
       "Inquires - six months               0\n",
       "Open Account                        0\n",
       "Public Record                       0\n",
       "Revolving Balance                   0\n",
       "Revolving Utilities                 0\n",
       "Total Accounts                      0\n",
       "Initial List Status                 0\n",
       "Total Received Interest             0\n",
       "Total Received Late Fee             0\n",
       "Recoveries                          0\n",
       "Collection Recovery Fee             0\n",
       "Collection 12 months Medical        0\n",
       "Application Type                    0\n",
       "Last week Pay                       0\n",
       "Accounts Delinquent                 0\n",
       "Total Collection Amount             0\n",
       "Total Current Balance               0\n",
       "Total Revolving Credit Limit        0\n",
       "Loan Status                     28913\n",
       "dtype: int64"
      ]
     },
     "execution_count": 10,
     "metadata": {},
     "output_type": "execute_result"
    }
   ],
   "source": [
    "test.isnull().sum()"
   ]
  },
  {
   "cell_type": "code",
   "execution_count": 11,
   "id": "28c0aa68",
   "metadata": {},
   "outputs": [
    {
     "data": {
      "text/plain": [
       "0    61222\n",
       "1     6241\n",
       "Name: Loan Status, dtype: int64"
      ]
     },
     "execution_count": 11,
     "metadata": {},
     "output_type": "execute_result"
    }
   ],
   "source": [
    "train['Loan Status'].value_counts()"
   ]
  },
  {
   "cell_type": "code",
   "execution_count": 12,
   "id": "b7a6714c",
   "metadata": {},
   "outputs": [
    {
     "data": {
      "text/html": [
       "<div>\n",
       "<style scoped>\n",
       "    .dataframe tbody tr th:only-of-type {\n",
       "        vertical-align: middle;\n",
       "    }\n",
       "\n",
       "    .dataframe tbody tr th {\n",
       "        vertical-align: top;\n",
       "    }\n",
       "\n",
       "    .dataframe thead th {\n",
       "        text-align: right;\n",
       "    }\n",
       "</style>\n",
       "<table border=\"1\" class=\"dataframe\">\n",
       "  <thead>\n",
       "    <tr style=\"text-align: right;\">\n",
       "      <th></th>\n",
       "      <th>ID</th>\n",
       "      <th>Loan Amount</th>\n",
       "      <th>Funded Amount</th>\n",
       "      <th>Funded Amount Investor</th>\n",
       "      <th>Term</th>\n",
       "      <th>Batch Enrolled</th>\n",
       "      <th>Interest Rate</th>\n",
       "      <th>Grade</th>\n",
       "      <th>Sub Grade</th>\n",
       "      <th>Employment Duration</th>\n",
       "      <th>...</th>\n",
       "      <th>Recoveries</th>\n",
       "      <th>Collection Recovery Fee</th>\n",
       "      <th>Collection 12 months Medical</th>\n",
       "      <th>Application Type</th>\n",
       "      <th>Last week Pay</th>\n",
       "      <th>Accounts Delinquent</th>\n",
       "      <th>Total Collection Amount</th>\n",
       "      <th>Total Current Balance</th>\n",
       "      <th>Total Revolving Credit Limit</th>\n",
       "      <th>Loan Status</th>\n",
       "    </tr>\n",
       "  </thead>\n",
       "  <tbody>\n",
       "    <tr>\n",
       "      <th>0</th>\n",
       "      <td>65087372</td>\n",
       "      <td>10000</td>\n",
       "      <td>32236</td>\n",
       "      <td>12329.36286</td>\n",
       "      <td>59</td>\n",
       "      <td>BAT2522922</td>\n",
       "      <td>11.135007</td>\n",
       "      <td>B</td>\n",
       "      <td>C4</td>\n",
       "      <td>MORTGAGE</td>\n",
       "      <td>...</td>\n",
       "      <td>2.498291</td>\n",
       "      <td>0.793724</td>\n",
       "      <td>0</td>\n",
       "      <td>INDIVIDUAL</td>\n",
       "      <td>49</td>\n",
       "      <td>0</td>\n",
       "      <td>31</td>\n",
       "      <td>311301</td>\n",
       "      <td>6619</td>\n",
       "      <td>0.0</td>\n",
       "    </tr>\n",
       "    <tr>\n",
       "      <th>1</th>\n",
       "      <td>1450153</td>\n",
       "      <td>3609</td>\n",
       "      <td>11940</td>\n",
       "      <td>12191.99692</td>\n",
       "      <td>59</td>\n",
       "      <td>BAT1586599</td>\n",
       "      <td>12.237563</td>\n",
       "      <td>C</td>\n",
       "      <td>D3</td>\n",
       "      <td>RENT</td>\n",
       "      <td>...</td>\n",
       "      <td>2.377215</td>\n",
       "      <td>0.974821</td>\n",
       "      <td>0</td>\n",
       "      <td>INDIVIDUAL</td>\n",
       "      <td>109</td>\n",
       "      <td>0</td>\n",
       "      <td>53</td>\n",
       "      <td>182610</td>\n",
       "      <td>20885</td>\n",
       "      <td>0.0</td>\n",
       "    </tr>\n",
       "    <tr>\n",
       "      <th>2</th>\n",
       "      <td>1969101</td>\n",
       "      <td>28276</td>\n",
       "      <td>9311</td>\n",
       "      <td>21603.22455</td>\n",
       "      <td>59</td>\n",
       "      <td>BAT2136391</td>\n",
       "      <td>12.545884</td>\n",
       "      <td>F</td>\n",
       "      <td>D4</td>\n",
       "      <td>MORTGAGE</td>\n",
       "      <td>...</td>\n",
       "      <td>4.316277</td>\n",
       "      <td>1.020075</td>\n",
       "      <td>0</td>\n",
       "      <td>INDIVIDUAL</td>\n",
       "      <td>66</td>\n",
       "      <td>0</td>\n",
       "      <td>34</td>\n",
       "      <td>89801</td>\n",
       "      <td>26155</td>\n",
       "      <td>0.0</td>\n",
       "    </tr>\n",
       "    <tr>\n",
       "      <th>3</th>\n",
       "      <td>6651430</td>\n",
       "      <td>11170</td>\n",
       "      <td>6954</td>\n",
       "      <td>17877.15585</td>\n",
       "      <td>59</td>\n",
       "      <td>BAT2428731</td>\n",
       "      <td>16.731201</td>\n",
       "      <td>C</td>\n",
       "      <td>C3</td>\n",
       "      <td>MORTGAGE</td>\n",
       "      <td>...</td>\n",
       "      <td>0.107020</td>\n",
       "      <td>0.749971</td>\n",
       "      <td>0</td>\n",
       "      <td>INDIVIDUAL</td>\n",
       "      <td>39</td>\n",
       "      <td>0</td>\n",
       "      <td>40</td>\n",
       "      <td>9189</td>\n",
       "      <td>60214</td>\n",
       "      <td>0.0</td>\n",
       "    </tr>\n",
       "    <tr>\n",
       "      <th>4</th>\n",
       "      <td>14354669</td>\n",
       "      <td>16890</td>\n",
       "      <td>13226</td>\n",
       "      <td>13539.92667</td>\n",
       "      <td>59</td>\n",
       "      <td>BAT5341619</td>\n",
       "      <td>15.008300</td>\n",
       "      <td>C</td>\n",
       "      <td>D4</td>\n",
       "      <td>MORTGAGE</td>\n",
       "      <td>...</td>\n",
       "      <td>1294.818751</td>\n",
       "      <td>0.368953</td>\n",
       "      <td>0</td>\n",
       "      <td>INDIVIDUAL</td>\n",
       "      <td>18</td>\n",
       "      <td>0</td>\n",
       "      <td>430</td>\n",
       "      <td>126029</td>\n",
       "      <td>22579</td>\n",
       "      <td>0.0</td>\n",
       "    </tr>\n",
       "  </tbody>\n",
       "</table>\n",
       "<p>5 rows × 35 columns</p>\n",
       "</div>"
      ],
      "text/plain": [
       "         ID  Loan Amount  Funded Amount  Funded Amount Investor  Term  \\\n",
       "0  65087372        10000          32236             12329.36286    59   \n",
       "1   1450153         3609          11940             12191.99692    59   \n",
       "2   1969101        28276           9311             21603.22455    59   \n",
       "3   6651430        11170           6954             17877.15585    59   \n",
       "4  14354669        16890          13226             13539.92667    59   \n",
       "\n",
       "  Batch Enrolled  Interest Rate Grade Sub Grade Employment Duration  ...  \\\n",
       "0     BAT2522922      11.135007     B        C4            MORTGAGE  ...   \n",
       "1     BAT1586599      12.237563     C        D3                RENT  ...   \n",
       "2     BAT2136391      12.545884     F        D4            MORTGAGE  ...   \n",
       "3     BAT2428731      16.731201     C        C3            MORTGAGE  ...   \n",
       "4     BAT5341619      15.008300     C        D4            MORTGAGE  ...   \n",
       "\n",
       "    Recoveries Collection Recovery Fee Collection 12 months Medical  \\\n",
       "0     2.498291                0.793724                            0   \n",
       "1     2.377215                0.974821                            0   \n",
       "2     4.316277                1.020075                            0   \n",
       "3     0.107020                0.749971                            0   \n",
       "4  1294.818751                0.368953                            0   \n",
       "\n",
       "  Application Type  Last week Pay  Accounts Delinquent  \\\n",
       "0       INDIVIDUAL             49                    0   \n",
       "1       INDIVIDUAL            109                    0   \n",
       "2       INDIVIDUAL             66                    0   \n",
       "3       INDIVIDUAL             39                    0   \n",
       "4       INDIVIDUAL             18                    0   \n",
       "\n",
       "   Total Collection Amount  Total Current Balance  \\\n",
       "0                       31                 311301   \n",
       "1                       53                 182610   \n",
       "2                       34                  89801   \n",
       "3                       40                   9189   \n",
       "4                      430                 126029   \n",
       "\n",
       "   Total Revolving Credit Limit  Loan Status  \n",
       "0                          6619          0.0  \n",
       "1                         20885          0.0  \n",
       "2                         26155          0.0  \n",
       "3                         60214          0.0  \n",
       "4                         22579          0.0  \n",
       "\n",
       "[5 rows x 35 columns]"
      ]
     },
     "execution_count": 12,
     "metadata": {},
     "output_type": "execute_result"
    }
   ],
   "source": [
    "combined = pd.concat([train, test], axis = 0)\n",
    "combined.head()"
   ]
  },
  {
   "cell_type": "code",
   "execution_count": 13,
   "id": "bf353846",
   "metadata": {},
   "outputs": [
    {
     "data": {
      "text/plain": [
       "(96376, 35)"
      ]
     },
     "execution_count": 13,
     "metadata": {},
     "output_type": "execute_result"
    }
   ],
   "source": [
    "combined.shape"
   ]
  },
  {
   "cell_type": "code",
   "execution_count": 14,
   "id": "cae91c0f",
   "metadata": {},
   "outputs": [
    {
     "data": {
      "text/plain": [
       "96376"
      ]
     },
     "execution_count": 14,
     "metadata": {},
     "output_type": "execute_result"
    }
   ],
   "source": [
    "combined['ID'].nunique()"
   ]
  },
  {
   "cell_type": "code",
   "execution_count": 15,
   "id": "19f1a87f",
   "metadata": {},
   "outputs": [
    {
     "data": {
      "text/plain": [
       "Index(['Batch Enrolled', 'Grade', 'Sub Grade', 'Employment Duration',\n",
       "       'Verification Status', 'Payment Plan', 'Loan Title',\n",
       "       'Initial List Status', 'Application Type'],\n",
       "      dtype='object')"
      ]
     },
     "execution_count": 15,
     "metadata": {},
     "output_type": "execute_result"
    }
   ],
   "source": [
    "categorical_variables = train.select_dtypes(include= 'object')\n",
    "categorical_variables.columns"
   ]
  },
  {
   "cell_type": "code",
   "execution_count": 16,
   "id": "ae2d1313",
   "metadata": {},
   "outputs": [
    {
     "data": {
      "text/plain": [
       "Index(['ID', 'Loan Amount', 'Funded Amount', 'Funded Amount Investor', 'Term',\n",
       "       'Interest Rate', 'Home Ownership', 'Debit to Income',\n",
       "       'Delinquency - two years', 'Inquires - six months', 'Open Account',\n",
       "       'Public Record', 'Revolving Balance', 'Revolving Utilities',\n",
       "       'Total Accounts', 'Total Received Interest', 'Total Received Late Fee',\n",
       "       'Recoveries', 'Collection Recovery Fee', 'Collection 12 months Medical',\n",
       "       'Last week Pay', 'Accounts Delinquent', 'Total Collection Amount',\n",
       "       'Total Current Balance', 'Total Revolving Credit Limit', 'Loan Status'],\n",
       "      dtype='object')"
      ]
     },
     "execution_count": 16,
     "metadata": {},
     "output_type": "execute_result"
    }
   ],
   "source": [
    "numerical_variables = train.select_dtypes(exclude= 'object')\n",
    "numerical_variables.columns"
   ]
  },
  {
   "cell_type": "code",
   "execution_count": 17,
   "id": "1807301b",
   "metadata": {},
   "outputs": [
    {
     "data": {
      "text/plain": [
       "<AxesSubplot:xlabel='Grade'>"
      ]
     },
     "execution_count": 17,
     "metadata": {},
     "output_type": "execute_result"
    },
    {
     "data": {
      "image/png": "[encoded data removed]",
      "text/plain": [
       "<Figure size 1080x360 with 2 Axes>"
      ]
     },
     "metadata": {
      "needs_background": "light"
     },
     "output_type": "display_data"
    }
   ],
   "source": [
    "f,ax = plt.subplots(1,2,figsize=(15,5))\n",
    "pd.crosstab(train['Employment Duration'], train['Loan Status']).plot.bar(ax=ax[0])\n",
    "pd.crosstab(train['Grade'], train['Loan Status']).plot.bar(ax=ax[1])"
   ]
  },
  {
   "cell_type": "code",
   "execution_count": 18,
   "id": "2c012ea3",
   "metadata": {},
   "outputs": [
    {
     "data": {
      "text/plain": [
       "<AxesSubplot:xlabel='Initial List Status'>"
      ]
     },
     "execution_count": 18,
     "metadata": {},
     "output_type": "execute_result"
    },
    {
     "data": {
      "image/png": "[encoded data removed]",
      "text/plain": [
       "<Figure size 1080x360 with 2 Axes>"
      ]
     },
     "metadata": {
      "needs_background": "light"
     },
     "output_type": "display_data"
    }
   ],
   "source": [
    "f,ax = plt.subplots(1,2,figsize=(15,5))\n",
    "pd.crosstab(train['Verification Status'], train['Loan Status']).plot.bar(ax=ax[0])\n",
    "pd.crosstab(train['Initial List Status'], train['Loan Status']).plot.bar(ax=ax[1])"
   ]
  },
  {
   "cell_type": "code",
   "execution_count": 19,
   "id": "54c50c64",
   "metadata": {},
   "outputs": [
    {
     "data": {
      "text/plain": [
       "<AxesSubplot:xlabel='Payment Plan'>"
      ]
     },
     "execution_count": 19,
     "metadata": {},
     "output_type": "execute_result"
    },
    {
     "data": {
      "image/png": "[encoded data removed]",
      "text/plain": [
       "<Figure size 1080x360 with 2 Axes>"
      ]
     },
     "metadata": {
      "needs_background": "light"
     },
     "output_type": "display_data"
    }
   ],
   "source": [
    "f,ax = plt.subplots(1,2,figsize=(15,5))\n",
    "pd.crosstab(train['Application Type'], train['Loan Status']).plot.bar(ax=ax[0])\n",
    "pd.crosstab(train['Payment Plan'], train['Loan Status']).plot.bar(ax=ax[1])"
   ]
  },
  {
   "cell_type": "code",
   "execution_count": 20,
   "id": "a1d8daff",
   "metadata": {},
   "outputs": [
    {
     "data": {
      "text/plain": [
       "Index(['Batch Enrolled', 'Grade', 'Sub Grade', 'Employment Duration',\n",
       "       'Verification Status', 'Payment Plan', 'Loan Title',\n",
       "       'Initial List Status', 'Application Type'],\n",
       "      dtype='object')"
      ]
     },
     "execution_count": 20,
     "metadata": {},
     "output_type": "execute_result"
    }
   ],
   "source": [
    "categorical_variables.columns"
   ]
  },
  {
   "cell_type": "code",
   "execution_count": 21,
   "id": "5ad3a22b",
   "metadata": {},
   "outputs": [
    {
     "data": {
      "text/plain": [
       "MORTGAGE    51881\n",
       "RENT        34683\n",
       "OWN          9812\n",
       "Name: Employment Duration, dtype: int64"
      ]
     },
     "execution_count": 21,
     "metadata": {},
     "output_type": "execute_result"
    }
   ],
   "source": [
    "combined['Employment Duration'].value_counts()"
   ]
  },
  {
   "cell_type": "code",
   "execution_count": 22,
   "id": "5a86317f",
   "metadata": {},
   "outputs": [
    {
     "data": {
      "text/plain": [
       "C    27189\n",
       "B    26738\n",
       "A    17174\n",
       "D    12211\n",
       "E     9054\n",
       "F     3128\n",
       "G      882\n",
       "Name: Grade, dtype: int64"
      ]
     },
     "execution_count": 22,
     "metadata": {},
     "output_type": "execute_result"
    }
   ],
   "source": [
    "combined['Grade'].value_counts()"
   ]
  },
  {
   "cell_type": "code",
   "execution_count": 23,
   "id": "ded95340",
   "metadata": {},
   "outputs": [
    {
     "data": {
      "text/plain": [
       "Source Verified    46662\n",
       "Verified           26059\n",
       "Not Verified       23655\n",
       "Name: Verification Status, dtype: int64"
      ]
     },
     "execution_count": 23,
     "metadata": {},
     "output_type": "execute_result"
    }
   ],
   "source": [
    "combined['Verification Status'].value_counts()"
   ]
  },
  {
   "cell_type": "code",
   "execution_count": 24,
   "id": "682011a3",
   "metadata": {},
   "outputs": [
    {
     "data": {
      "text/plain": [
       "n    96376\n",
       "Name: Payment Plan, dtype: int64"
      ]
     },
     "execution_count": 24,
     "metadata": {},
     "output_type": "execute_result"
    }
   ],
   "source": [
    "combined['Payment Plan'].value_counts()"
   ]
  },
  {
   "cell_type": "code",
   "execution_count": 25,
   "id": "0eafefa4",
   "metadata": {},
   "outputs": [
    {
     "data": {
      "text/plain": [
       "Credit card refinancing       42084\n",
       "Debt consolidation            37100\n",
       "Debt Consolidation             4688\n",
       "Other                          3561\n",
       "Home improvement               3293\n",
       "                              ...  \n",
       "bills                             8\n",
       "Personal loan                     8\n",
       "Credit Card Refinance Loan        7\n",
       "Getting Ahead                     7\n",
       "Credit                            6\n",
       "Name: Loan Title, Length: 109, dtype: int64"
      ]
     },
     "execution_count": 25,
     "metadata": {},
     "output_type": "execute_result"
    }
   ],
   "source": [
    "combined['Loan Title'].value_counts()"
   ]
  },
  {
   "cell_type": "code",
   "execution_count": 26,
   "id": "cd042a65",
   "metadata": {},
   "outputs": [
    {
     "data": {
      "text/plain": [
       "w    52147\n",
       "f    44229\n",
       "Name: Initial List Status, dtype: int64"
      ]
     },
     "execution_count": 26,
     "metadata": {},
     "output_type": "execute_result"
    }
   ],
   "source": [
    "combined['Initial List Status'].value_counts()"
   ]
  },
  {
   "cell_type": "code",
   "execution_count": 27,
   "id": "f5b24a20",
   "metadata": {},
   "outputs": [
    {
     "data": {
      "text/plain": [
       "INDIVIDUAL    96223\n",
       "JOINT           153\n",
       "Name: Application Type, dtype: int64"
      ]
     },
     "execution_count": 27,
     "metadata": {},
     "output_type": "execute_result"
    }
   ],
   "source": [
    "combined['Application Type'].value_counts()"
   ]
  },
  {
   "cell_type": "code",
   "execution_count": 28,
   "id": "c5094b1a",
   "metadata": {},
   "outputs": [],
   "source": [
    "combined = combined.drop(['ID','Funded Amount', 'Funded Amount Investor','Batch Enrolled','Collection Recovery Fee','Collection 12 months Medical','Home Ownership','Total Collection Amount',\n",
    "       'Total Current Balance','Payment Plan','Loan Title','Last week Pay','Initial List Status','Initial List Status',\n",
    "            'Total Received Interest','Total Received Late Fee','Recoveries', 'Collection Recovery Fee','Collection 12 months Medical','Accounts Delinquent'], axis = 1)"
   ]
  },
  {
   "cell_type": "code",
   "execution_count": 29,
   "id": "e9bfcb94",
   "metadata": {},
   "outputs": [
    {
     "data": {
      "text/plain": [
       "(96376, 18)"
      ]
     },
     "execution_count": 29,
     "metadata": {},
     "output_type": "execute_result"
    }
   ],
   "source": [
    "combined.shape"
   ]
  },
  {
   "cell_type": "code",
   "execution_count": 30,
   "id": "b04b9cd4",
   "metadata": {},
   "outputs": [
    {
     "data": {
      "text/plain": [
       "Index(['Loan Amount', 'Term', 'Interest Rate', 'Grade', 'Sub Grade',\n",
       "       'Employment Duration', 'Verification Status', 'Debit to Income',\n",
       "       'Delinquency - two years', 'Inquires - six months', 'Open Account',\n",
       "       'Public Record', 'Revolving Balance', 'Revolving Utilities',\n",
       "       'Total Accounts', 'Application Type', 'Total Revolving Credit Limit',\n",
       "       'Loan Status'],\n",
       "      dtype='object')"
      ]
     },
     "execution_count": 30,
     "metadata": {},
     "output_type": "execute_result"
    }
   ],
   "source": [
    "combined.columns"
   ]
  },
  {
   "cell_type": "code",
   "execution_count": 31,
   "id": "172187c5",
   "metadata": {},
   "outputs": [],
   "source": [
    "combined['CL_Ratio'] = combined['Open Account']/combined['Total Accounts']"
   ]
  },
  {
   "cell_type": "code",
   "execution_count": 32,
   "id": "a3afb432",
   "metadata": {},
   "outputs": [
    {
     "data": {
      "text/plain": [
       "(96376, 17)"
      ]
     },
     "execution_count": 32,
     "metadata": {},
     "output_type": "execute_result"
    }
   ],
   "source": [
    "combined = combined.drop(['Open Account', 'Total Accounts'], axis = 1)\n",
    "combined.shape"
   ]
  },
  {
   "cell_type": "code",
   "execution_count": 33,
   "id": "94797abf",
   "metadata": {},
   "outputs": [],
   "source": [
    "combined['Employment Duration'] = combined['Employment Duration'].replace({'MORTGAGE': 2, 'RENT': 1, 'OWN': 0 })"
   ]
  },
  {
   "cell_type": "code",
   "execution_count": 34,
   "id": "2683f720",
   "metadata": {},
   "outputs": [],
   "source": [
    "combined['Employment Duration'] = combined['Employment Duration'].astype(int)"
   ]
  },
  {
   "cell_type": "code",
   "execution_count": 35,
   "id": "c83e0e1d",
   "metadata": {},
   "outputs": [],
   "source": [
    "combined['Grade'] = combined['Grade'].replace({'A': 0, 'B': 1, 'C': 2, 'D': 3, 'E': 5, 'F': 6, 'G': 7})"
   ]
  },
  {
   "cell_type": "code",
   "execution_count": 37,
   "id": "f647b11e",
   "metadata": {},
   "outputs": [],
   "source": [
    "combined['Grade'] = combined['Grade'].astype(int)"
   ]
  },
  {
   "cell_type": "code",
   "execution_count": 38,
   "id": "1cb8f18d",
   "metadata": {},
   "outputs": [],
   "source": [
    "combined['Sub Grade'] = combined['Sub Grade'].replace({'G5': 0, 'G4': 1, 'G3': 2, 'G2': 3, 'G1': 4,\n",
    "                        'F5': 5, 'F4': 6, 'F3': 7, 'F2': 8, 'F1': 9,\n",
    "                        'E5': 10, 'E4': 11, 'E3': 12, 'E2': 13, 'E1': 14,\n",
    "                        'D5': 15, 'D4': 16, 'D3': 17, 'D2': 18, 'D1': 19,\n",
    "                        'C5': 20, 'C4': 21, 'C3': 22, 'C2': 23, 'C1': 24,\n",
    "                        'B5': 25, 'B4': 26, 'B3': 27, 'B2': 28, 'B1': 29,\n",
    "                        'A5': 30, 'A4': 31, 'A3': 32, 'A2': 33, 'A1': 34})"
   ]
  },
  {
   "cell_type": "code",
   "execution_count": 39,
   "id": "d7a590a2",
   "metadata": {},
   "outputs": [],
   "source": [
    "combined['Sub Grade'] = combined['Sub Grade'].astype(int)"
   ]
  },
  {
   "cell_type": "code",
   "execution_count": 40,
   "id": "e8f8e502",
   "metadata": {},
   "outputs": [],
   "source": [
    "combined['Application Type'] = combined['Application Type'].replace({'INDIVIDUAL': 1,  'JOINT': 2})"
   ]
  },
  {
   "cell_type": "code",
   "execution_count": 41,
   "id": "76cc6fc7",
   "metadata": {},
   "outputs": [],
   "source": [
    "combined['Application Type'] = combined['Application Type'].astype(int)"
   ]
  },
  {
   "cell_type": "code",
   "execution_count": 42,
   "id": "c0521e32",
   "metadata": {},
   "outputs": [],
   "source": [
    "combined['Verification Status'] = combined['Verification Status'].replace({'Source Verified':2,'Verified': 1,'Not Verified': 0})"
   ]
  },
  {
   "cell_type": "code",
   "execution_count": 43,
   "id": "81f0ed79",
   "metadata": {},
   "outputs": [],
   "source": [
    "combined['Verification Status'] = combined['Verification Status'].astype(int)"
   ]
  },
  {
   "cell_type": "code",
   "execution_count": 44,
   "id": "f4cc075d",
   "metadata": {},
   "outputs": [
    {
     "name": "stdout",
     "output_type": "stream",
     "text": [
      "<class 'pandas.core.frame.DataFrame'>\n",
      "Int64Index: 96376 entries, 0 to 28912\n",
      "Data columns (total 17 columns):\n",
      " #   Column                        Non-Null Count  Dtype  \n",
      "---  ------                        --------------  -----  \n",
      " 0   Loan Amount                   96376 non-null  int64  \n",
      " 1   Term                          96376 non-null  int64  \n",
      " 2   Interest Rate                 96376 non-null  float64\n",
      " 3   Grade                         96376 non-null  int32  \n",
      " 4   Sub Grade                     96376 non-null  int32  \n",
      " 5   Employment Duration           96376 non-null  int32  \n",
      " 6   Verification Status           96376 non-null  int32  \n",
      " 7   Debit to Income               96376 non-null  float64\n",
      " 8   Delinquency - two years       96376 non-null  int64  \n",
      " 9   Inquires - six months         96376 non-null  int64  \n",
      " 10  Public Record                 96376 non-null  int64  \n",
      " 11  Revolving Balance             96376 non-null  int64  \n",
      " 12  Revolving Utilities           96376 non-null  float64\n",
      " 13  Application Type              96376 non-null  int32  \n",
      " 14  Total Revolving Credit Limit  96376 non-null  int64  \n",
      " 15  Loan Status                   67463 non-null  float64\n",
      " 16  CL_Ratio                      96376 non-null  float64\n",
      "dtypes: float64(5), int32(5), int64(7)\n",
      "memory usage: 11.4 MB\n"
     ]
    }
   ],
   "source": [
    "combined.info()"
   ]
  },
  {
   "cell_type": "code",
   "execution_count": 45,
   "id": "cb7d383f",
   "metadata": {},
   "outputs": [
    {
     "data": {
      "text/plain": [
       "(67463, 17)"
      ]
     },
     "execution_count": 45,
     "metadata": {},
     "output_type": "execute_result"
    }
   ],
   "source": [
    "newtrain = combined.iloc[0:67463, :]\n",
    "newtrain.shape"
   ]
  },
  {
   "cell_type": "code",
   "execution_count": 46,
   "id": "0c86dd74",
   "metadata": {},
   "outputs": [
    {
     "data": {
      "text/plain": [
       "(28913, 16)"
      ]
     },
     "execution_count": 46,
     "metadata": {},
     "output_type": "execute_result"
    }
   ],
   "source": [
    "newtest = combined.iloc[67463: , :]\n",
    "newtest = newtest.drop('Loan Status', axis = 1)\n",
    "newtest.shape"
   ]
  },
  {
   "cell_type": "code",
   "execution_count": 47,
   "id": "e21e97dd",
   "metadata": {},
   "outputs": [],
   "source": [
    "x = newtrain.drop('Loan Status', axis = 1)\n",
    "y = newtrain['Loan Status']"
   ]
  },
  {
   "cell_type": "code",
   "execution_count": 48,
   "id": "bd79910b",
   "metadata": {},
   "outputs": [],
   "source": [
    "from sklearn.metrics import log_loss, accuracy_score"
   ]
  },
  {
   "cell_type": "code",
   "execution_count": 49,
   "id": "fe874061",
   "metadata": {},
   "outputs": [],
   "source": [
    "from sklearn.model_selection import train_test_split\n",
    "x_train, x_test, y_train, y_test = train_test_split(x, y, test_size = 0.2 ,random_state = 1)"
   ]
  },
  {
   "cell_type": "code",
   "execution_count": 50,
   "id": "6b3b7870",
   "metadata": {},
   "outputs": [],
   "source": [
    "from sklearn.preprocessing import StandardScaler\n",
    "sc = StandardScaler()"
   ]
  },
  {
   "cell_type": "code",
   "execution_count": 51,
   "id": "d3babaed",
   "metadata": {},
   "outputs": [],
   "source": [
    "x_train = sc.fit_transform(x_train)\n",
    "x_test = sc.transform(x_test)"
   ]
  },
  {
   "cell_type": "code",
   "execution_count": 52,
   "id": "84f75067",
   "metadata": {},
   "outputs": [
    {
     "name": "stdout",
     "output_type": "stream",
     "text": [
      "3.1945744416251793\n"
     ]
    }
   ],
   "source": [
    "from sklearn.linear_model import LogisticRegression\n",
    "lr = LogisticRegression(solver='saga', max_iter=500, random_state=1)\n",
    "y_pred = lr.fit(x_train, y_train).predict(x_test)\n",
    "print(log_loss(y_test, y_pred))"
   ]
  },
  {
   "cell_type": "code",
   "execution_count": 53,
   "id": "bcb976d2",
   "metadata": {
    "scrolled": true
   },
   "outputs": [
    {
     "name": "stdout",
     "output_type": "stream",
     "text": [
      "0.9075075965315349\n"
     ]
    }
   ],
   "source": [
    "print(accuracy_score(y_test, y_pred))"
   ]
  },
  {
   "cell_type": "code",
   "execution_count": 54,
   "id": "e73ea3de",
   "metadata": {},
   "outputs": [
    {
     "name": "stdout",
     "output_type": "stream",
     "text": [
      "training score 0.9074856401704651\n",
      "test score 0.9075075965315349\n"
     ]
    }
   ],
   "source": [
    "print('training score', lr.score(x_train, y_train))\n",
    "print('test score', lr.score(x_test, y_test))"
   ]
  },
  {
   "cell_type": "code",
   "execution_count": 65,
   "id": "c91f742a",
   "metadata": {},
   "outputs": [
    {
     "name": "stdout",
     "output_type": "stream",
     "text": [
      "3.1971342560469047\n"
     ]
    }
   ],
   "source": [
    "from sklearn.ensemble import GradientBoostingClassifier\n",
    "gab = GradientBoostingClassifier()\n",
    "y_pred = gab.fit(x_train, y_train).predict(x_test)\n",
    "print(log_loss(y_test, y_pred))"
   ]
  },
  {
   "cell_type": "code",
   "execution_count": 66,
   "id": "73cab128",
   "metadata": {},
   "outputs": [
    {
     "data": {
      "image/png": "[encoded data removed]",
      "text/plain": [
       "<Figure size 720x360 with 1 Axes>"
      ]
     },
     "metadata": {
      "needs_background": "light"
     },
     "output_type": "display_data"
    }
   ],
   "source": [
    "feature_imp = pd.DataFrame(sorted(zip(gab.feature_importances_, x.columns), reverse=True)[:], columns=['Value','Feature'])\n",
    "plt.figure(figsize=(10,5))\n",
    "sns.barplot(x=\"Value\", y=\"Feature\", data=feature_imp.sort_values(by=\"Value\", ascending=False))\n",
    "plt.title('GAB Features')\n",
    "plt.tight_layout()\n",
    "plt.show()"
   ]
  },
  {
   "cell_type": "code",
   "execution_count": 148,
   "id": "aa30f549",
   "metadata": {},
   "outputs": [],
   "source": [
    "x_train = newtrain[['Revolving Utilities', 'Interest Rate', 'Debit to Income', 'Revolving Balance', 'Loan Amount', 'CL_Ratio',\n",
    "                   'Total Revolving Credit Limit']]\n",
    "y_train = newtrain['Loan Status']\n",
    "x_test = newtest[['Revolving Utilities', 'Interest Rate', 'Debit to Income', 'Revolving Balance', 'Loan Amount', 'CL_Ratio',\n",
    "                   'Total Revolving Credit Limit']]"
   ]
  },
  {
   "cell_type": "code",
   "execution_count": 149,
   "id": "77790ac2",
   "metadata": {},
   "outputs": [],
   "source": [
    "from sklearn.ensemble import GradientBoostingClassifier\n",
    "gab = GradientBoostingClassifier()\n",
    "y_pred = gab.fit(x_train, y_train).predict(x_test)"
   ]
  },
  {
   "cell_type": "code",
   "execution_count": 150,
   "id": "464371df",
   "metadata": {},
   "outputs": [],
   "source": [
    "solution = pd.DataFrame({'Loan Status' : y_pred})\n",
    "solution.to_csv('Solution.csv', index = False)"
   ]
  },
  {
   "cell_type": "code",
   "execution_count": null,
   "id": "be5d8380",
   "metadata": {},
   "outputs": [],
   "source": []
  }
 ],
 "metadata": {
  "kernelspec": {
   "display_name": "Python 3",
   "language": "python",
   "name": "python3"
  },
  "language_info": {
   "codemirror_mode": {
    "name": "ipython",
    "version": 3
   },
   "file_extension": ".py",
   "mimetype": "text/x-python",
   "name": "python",
   "nbconvert_exporter": "python",
   "pygments_lexer": "ipython3",
   "version": "3.8.8"
  }
 },
 "nbformat": 4,
 "nbformat_minor": 5
}
